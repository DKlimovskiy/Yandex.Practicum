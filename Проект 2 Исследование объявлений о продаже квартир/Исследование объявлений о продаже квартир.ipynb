{
 "cells": [
  {
   "cell_type": "markdown",
   "metadata": {
    "toc": true
   },
   "source": [
    "<h1>Содержание<span class=\"tocSkip\"></span></h1>\n",
    "<div class=\"toc\"><ul class=\"toc-item\"><li><span><a href=\"#Изучение-данных-из-файла\" data-toc-modified-id=\"Изучение-данных-из-файла-1\"><span class=\"toc-item-num\">1&nbsp;&nbsp;</span>Изучение данных из файла</a></span><ul class=\"toc-item\"><li><span><a href=\"#Вывод\" data-toc-modified-id=\"Вывод-1.1\"><span class=\"toc-item-num\">1.1&nbsp;&nbsp;</span>Вывод</a></span></li></ul></li><li><span><a href=\"#Предобработка-данных\" data-toc-modified-id=\"Предобработка-данных-2\"><span class=\"toc-item-num\">2&nbsp;&nbsp;</span>Предобработка данных</a></span><ul class=\"toc-item\"><li><span><a href=\"#Столбец-ceiling_height\" data-toc-modified-id=\"Столбец-ceiling_height-2.1\"><span class=\"toc-item-num\">2.1&nbsp;&nbsp;</span>Столбец ceiling_height</a></span></li><li><span><a href=\"#Столбцы-total_images,-is_apartment,-studio-и-open_plan\" data-toc-modified-id=\"Столбцы-total_images,-is_apartment,-studio-и-open_plan-2.2\"><span class=\"toc-item-num\">2.2&nbsp;&nbsp;</span>Столбцы total_images, is_apartment, studio и open_plan</a></span></li><li><span><a href=\"#Столбцы-balcony,-parks_around3000-и-ponds_around3000\" data-toc-modified-id=\"Столбцы-balcony,-parks_around3000-и-ponds_around3000-2.3\"><span class=\"toc-item-num\">2.3&nbsp;&nbsp;</span>Столбцы balcony, parks_around3000 и ponds_around3000</a></span></li><li><span><a href=\"#Cтолбцы-airports_nearest,-cityCenters_nearest,-parks_nearest,-ponds_nearest\" data-toc-modified-id=\"Cтолбцы-airports_nearest,-cityCenters_nearest,-parks_nearest,-ponds_nearest-2.4\"><span class=\"toc-item-num\">2.4&nbsp;&nbsp;</span>Cтолбцы airports_nearest, cityCenters_nearest, parks_nearest, ponds_nearest</a></span></li><li><span><a href=\"#Столбец-days_exposition\" data-toc-modified-id=\"Столбец-days_exposition-2.5\"><span class=\"toc-item-num\">2.5&nbsp;&nbsp;</span>Столбец days_exposition</a></span></li><li><span><a href=\"#Столбец-kitchen_area\" data-toc-modified-id=\"Столбец-kitchen_area-2.6\"><span class=\"toc-item-num\">2.6&nbsp;&nbsp;</span>Столбец kitchen_area</a></span></li><li><span><a href=\"#Столбец-living_area\" data-toc-modified-id=\"Столбец-living_area-2.7\"><span class=\"toc-item-num\">2.7&nbsp;&nbsp;</span>Столбец living_area</a></span></li><li><span><a href=\"#Cтолбец-last_price\" data-toc-modified-id=\"Cтолбец-last_price-2.8\"><span class=\"toc-item-num\">2.8&nbsp;&nbsp;</span>Cтолбец last_price</a></span></li><li><span><a href=\"#Столбец-first_day_exposition\" data-toc-modified-id=\"Столбец-first_day_exposition-2.9\"><span class=\"toc-item-num\">2.9&nbsp;&nbsp;</span>Столбец first_day_exposition</a></span></li></ul></li><li><span><a href=\"#Расчёты-и-добавление-результатов-в-таблицу\" data-toc-modified-id=\"Расчёты-и-добавление-результатов-в-таблицу-3\"><span class=\"toc-item-num\">3&nbsp;&nbsp;</span>Расчёты и добавление результатов в таблицу</a></span><ul class=\"toc-item\"><li><span><a href=\"#Цена-квадратного-метра\" data-toc-modified-id=\"Цена-квадратного-метра-3.1\"><span class=\"toc-item-num\">3.1&nbsp;&nbsp;</span>Цена квадратного метра</a></span></li><li><span><a href=\"#День-недели,-месяц-и-год-публикации-объявления\" data-toc-modified-id=\"День-недели,-месяц-и-год-публикации-объявления-3.2\"><span class=\"toc-item-num\">3.2&nbsp;&nbsp;</span>День недели, месяц и год публикации объявления</a></span></li><li><span><a href=\"#Этаж-квартиры\" data-toc-modified-id=\"Этаж-квартиры-3.3\"><span class=\"toc-item-num\">3.3&nbsp;&nbsp;</span>Этаж квартиры</a></span></li><li><span><a href=\"#Cоотношение-жилой-и-общей-площади,-а-также-отношение-площади-кухни-к-общей\" data-toc-modified-id=\"Cоотношение-жилой-и-общей-площади,-а-также-отношение-площади-кухни-к-общей-3.4\"><span class=\"toc-item-num\">3.4&nbsp;&nbsp;</span>Cоотношение жилой и общей площади, а также отношение площади кухни к общей</a></span></li></ul></li><li><span><a href=\"#Исследовательский-анализ-данных\" data-toc-modified-id=\"Исследовательский-анализ-данных-4\"><span class=\"toc-item-num\">4&nbsp;&nbsp;</span>Исследовательский анализ данных</a></span><ul class=\"toc-item\"><li><span><a href=\"#Площадь\" data-toc-modified-id=\"Площадь-4.1\"><span class=\"toc-item-num\">4.1&nbsp;&nbsp;</span>Площадь</a></span></li><li><span><a href=\"#Цена\" data-toc-modified-id=\"Цена-4.2\"><span class=\"toc-item-num\">4.2&nbsp;&nbsp;</span>Цена</a></span></li><li><span><a href=\"#Число-комнат\" data-toc-modified-id=\"Число-комнат-4.3\"><span class=\"toc-item-num\">4.3&nbsp;&nbsp;</span>Число комнат</a></span></li><li><span><a href=\"#Высота-потолка\" data-toc-modified-id=\"Высота-потолка-4.4\"><span class=\"toc-item-num\">4.4&nbsp;&nbsp;</span>Высота потолка</a></span></li><li><span><a href=\"#Время-продажи-квартиры\" data-toc-modified-id=\"Время-продажи-квартиры-4.5\"><span class=\"toc-item-num\">4.5&nbsp;&nbsp;</span>Время продажи квартиры</a></span></li><li><span><a href=\"#Зависимость-стоимости-квадратного-метра-от-площади\" data-toc-modified-id=\"Зависимость-стоимости-квадратного-метра-от-площади-4.6\"><span class=\"toc-item-num\">4.6&nbsp;&nbsp;</span>Зависимость стоимости квадратного метра от площади</a></span></li><li><span><a href=\"#Зависимость-стоимости-квадратного-метра-от-количества-комнат\" data-toc-modified-id=\"Зависимость-стоимости-квадратного-метра-от-количества-комнат-4.7\"><span class=\"toc-item-num\">4.7&nbsp;&nbsp;</span>Зависимость стоимости квадратного метра от количества комнат</a></span></li><li><span><a href=\"#Зависимость-стоимости-квадратного-метра-от-расстояния-до-центра\" data-toc-modified-id=\"Зависимость-стоимости-квадратного-метра-от-расстояния-до-центра-4.8\"><span class=\"toc-item-num\">4.8&nbsp;&nbsp;</span>Зависимость стоимости квадратного метра от расстояния до центра</a></span></li><li><span><a href=\"#Зависимость-стоимости-квадратного-метра-от-этажа\" data-toc-modified-id=\"Зависимость-стоимости-квадратного-метра-от-этажа-4.9\"><span class=\"toc-item-num\">4.9&nbsp;&nbsp;</span>Зависимость стоимости квадратного метра от этажа</a></span></li><li><span><a href=\"#Зависимость-стоимости-квадратного-метра-от-даты-размещения\" data-toc-modified-id=\"Зависимость-стоимости-квадратного-метра-от-даты-размещения-4.10\"><span class=\"toc-item-num\">4.10&nbsp;&nbsp;</span>Зависимость стоимости квадратного метра от даты размещения</a></span></li><li><span><a href=\"#10-городов-с-самым-большим-количетсвом-объявлений\" data-toc-modified-id=\"10-городов-с-самым-большим-количетсвом-объявлений-4.11\"><span class=\"toc-item-num\">4.11&nbsp;&nbsp;</span>10 городов с самым большим количетсвом объявлений</a></span></li><li><span><a href=\"#Кватиры-в-Санкт-Петербурге\" data-toc-modified-id=\"Кватиры-в-Санкт-Петербурге-4.12\"><span class=\"toc-item-num\">4.12&nbsp;&nbsp;</span>Кватиры в Санкт-Петербурге</a></span></li></ul></li><li><span><a href=\"#Общий-вывод\" data-toc-modified-id=\"Общий-вывод-5\"><span class=\"toc-item-num\">5&nbsp;&nbsp;</span>Общий вывод</a></span></li></ul></div>"
   ]
  },
  {
   "cell_type": "markdown",
   "metadata": {},
   "source": [
    "# Исследование объявлений о продаже квартир\n",
    "\n",
    "В нашем распоряжении данные сервиса Яндекс.Недвижимость — архив объявлений о продаже квартир в Санкт-Петербурге и соседних населённых пунктах за несколько лет. Нужно научиться определять рыночную стоимость объектов недвижимости. наша задача — установить параметры. Это позволит построить автоматизированную систему: она отследит аномалии и мошенническую деятельность. \n",
    "\n",
    "По каждой квартире на продажу доступны два вида данных. Первые вписаны пользователем, вторые получены автоматически на основе картографических данных. Например, расстояние до центра, аэропорта, ближайшего парка и водоёма. "
   ]
  },
  {
   "cell_type": "markdown",
   "metadata": {},
   "source": [
    "## Изучение данных из файла"
   ]
  },
  {
   "cell_type": "code",
   "execution_count": 1,
   "metadata": {},
   "outputs": [],
   "source": [
    "import pandas as pd\n",
    "import matplotlib.pyplot as plt"
   ]
  },
  {
   "cell_type": "code",
   "execution_count": 2,
   "metadata": {
    "scrolled": true
   },
   "outputs": [
    {
     "data": {
      "text/html": [
       "<div>\n",
       "<style scoped>\n",
       "    .dataframe tbody tr th:only-of-type {\n",
       "        vertical-align: middle;\n",
       "    }\n",
       "\n",
       "    .dataframe tbody tr th {\n",
       "        vertical-align: top;\n",
       "    }\n",
       "\n",
       "    .dataframe thead th {\n",
       "        text-align: right;\n",
       "    }\n",
       "</style>\n",
       "<table border=\"1\" class=\"dataframe\">\n",
       "  <thead>\n",
       "    <tr style=\"text-align: right;\">\n",
       "      <th></th>\n",
       "      <th>total_images</th>\n",
       "      <th>last_price</th>\n",
       "      <th>total_area</th>\n",
       "      <th>first_day_exposition</th>\n",
       "      <th>rooms</th>\n",
       "      <th>ceiling_height</th>\n",
       "      <th>floors_total</th>\n",
       "      <th>living_area</th>\n",
       "      <th>floor</th>\n",
       "      <th>is_apartment</th>\n",
       "      <th>studio</th>\n",
       "      <th>open_plan</th>\n",
       "      <th>kitchen_area</th>\n",
       "      <th>balcony</th>\n",
       "      <th>locality_name</th>\n",
       "      <th>airports_nearest</th>\n",
       "      <th>cityCenters_nearest</th>\n",
       "      <th>parks_around3000</th>\n",
       "      <th>parks_nearest</th>\n",
       "      <th>ponds_around3000</th>\n",
       "      <th>ponds_nearest</th>\n",
       "      <th>days_exposition</th>\n",
       "    </tr>\n",
       "  </thead>\n",
       "  <tbody>\n",
       "    <tr>\n",
       "      <th>0</th>\n",
       "      <td>20</td>\n",
       "      <td>13000000.0</td>\n",
       "      <td>108.00</td>\n",
       "      <td>2019-03-07T00:00:00</td>\n",
       "      <td>3</td>\n",
       "      <td>2.70</td>\n",
       "      <td>16.0</td>\n",
       "      <td>51.00</td>\n",
       "      <td>8</td>\n",
       "      <td>NaN</td>\n",
       "      <td>False</td>\n",
       "      <td>False</td>\n",
       "      <td>25.00</td>\n",
       "      <td>NaN</td>\n",
       "      <td>Санкт-Петербург</td>\n",
       "      <td>18863.0</td>\n",
       "      <td>16028.0</td>\n",
       "      <td>1.0</td>\n",
       "      <td>482.0</td>\n",
       "      <td>2.0</td>\n",
       "      <td>755.0</td>\n",
       "      <td>NaN</td>\n",
       "    </tr>\n",
       "    <tr>\n",
       "      <th>1</th>\n",
       "      <td>7</td>\n",
       "      <td>3350000.0</td>\n",
       "      <td>40.40</td>\n",
       "      <td>2018-12-04T00:00:00</td>\n",
       "      <td>1</td>\n",
       "      <td>NaN</td>\n",
       "      <td>11.0</td>\n",
       "      <td>18.60</td>\n",
       "      <td>1</td>\n",
       "      <td>NaN</td>\n",
       "      <td>False</td>\n",
       "      <td>False</td>\n",
       "      <td>11.00</td>\n",
       "      <td>2.0</td>\n",
       "      <td>посёлок Шушары</td>\n",
       "      <td>12817.0</td>\n",
       "      <td>18603.0</td>\n",
       "      <td>0.0</td>\n",
       "      <td>NaN</td>\n",
       "      <td>0.0</td>\n",
       "      <td>NaN</td>\n",
       "      <td>81.0</td>\n",
       "    </tr>\n",
       "    <tr>\n",
       "      <th>2</th>\n",
       "      <td>10</td>\n",
       "      <td>5196000.0</td>\n",
       "      <td>56.00</td>\n",
       "      <td>2015-08-20T00:00:00</td>\n",
       "      <td>2</td>\n",
       "      <td>NaN</td>\n",
       "      <td>5.0</td>\n",
       "      <td>34.30</td>\n",
       "      <td>4</td>\n",
       "      <td>NaN</td>\n",
       "      <td>False</td>\n",
       "      <td>False</td>\n",
       "      <td>8.30</td>\n",
       "      <td>0.0</td>\n",
       "      <td>Санкт-Петербург</td>\n",
       "      <td>21741.0</td>\n",
       "      <td>13933.0</td>\n",
       "      <td>1.0</td>\n",
       "      <td>90.0</td>\n",
       "      <td>2.0</td>\n",
       "      <td>574.0</td>\n",
       "      <td>558.0</td>\n",
       "    </tr>\n",
       "    <tr>\n",
       "      <th>3</th>\n",
       "      <td>0</td>\n",
       "      <td>64900000.0</td>\n",
       "      <td>159.00</td>\n",
       "      <td>2015-07-24T00:00:00</td>\n",
       "      <td>3</td>\n",
       "      <td>NaN</td>\n",
       "      <td>14.0</td>\n",
       "      <td>NaN</td>\n",
       "      <td>9</td>\n",
       "      <td>NaN</td>\n",
       "      <td>False</td>\n",
       "      <td>False</td>\n",
       "      <td>NaN</td>\n",
       "      <td>0.0</td>\n",
       "      <td>Санкт-Петербург</td>\n",
       "      <td>28098.0</td>\n",
       "      <td>6800.0</td>\n",
       "      <td>2.0</td>\n",
       "      <td>84.0</td>\n",
       "      <td>3.0</td>\n",
       "      <td>234.0</td>\n",
       "      <td>424.0</td>\n",
       "    </tr>\n",
       "    <tr>\n",
       "      <th>4</th>\n",
       "      <td>2</td>\n",
       "      <td>10000000.0</td>\n",
       "      <td>100.00</td>\n",
       "      <td>2018-06-19T00:00:00</td>\n",
       "      <td>2</td>\n",
       "      <td>3.03</td>\n",
       "      <td>14.0</td>\n",
       "      <td>32.00</td>\n",
       "      <td>13</td>\n",
       "      <td>NaN</td>\n",
       "      <td>False</td>\n",
       "      <td>False</td>\n",
       "      <td>41.00</td>\n",
       "      <td>NaN</td>\n",
       "      <td>Санкт-Петербург</td>\n",
       "      <td>31856.0</td>\n",
       "      <td>8098.0</td>\n",
       "      <td>2.0</td>\n",
       "      <td>112.0</td>\n",
       "      <td>1.0</td>\n",
       "      <td>48.0</td>\n",
       "      <td>121.0</td>\n",
       "    </tr>\n",
       "    <tr>\n",
       "      <th>5</th>\n",
       "      <td>10</td>\n",
       "      <td>2890000.0</td>\n",
       "      <td>30.40</td>\n",
       "      <td>2018-09-10T00:00:00</td>\n",
       "      <td>1</td>\n",
       "      <td>NaN</td>\n",
       "      <td>12.0</td>\n",
       "      <td>14.40</td>\n",
       "      <td>5</td>\n",
       "      <td>NaN</td>\n",
       "      <td>False</td>\n",
       "      <td>False</td>\n",
       "      <td>9.10</td>\n",
       "      <td>NaN</td>\n",
       "      <td>городской посёлок Янино-1</td>\n",
       "      <td>NaN</td>\n",
       "      <td>NaN</td>\n",
       "      <td>NaN</td>\n",
       "      <td>NaN</td>\n",
       "      <td>NaN</td>\n",
       "      <td>NaN</td>\n",
       "      <td>55.0</td>\n",
       "    </tr>\n",
       "    <tr>\n",
       "      <th>6</th>\n",
       "      <td>6</td>\n",
       "      <td>3700000.0</td>\n",
       "      <td>37.30</td>\n",
       "      <td>2017-11-02T00:00:00</td>\n",
       "      <td>1</td>\n",
       "      <td>NaN</td>\n",
       "      <td>26.0</td>\n",
       "      <td>10.60</td>\n",
       "      <td>6</td>\n",
       "      <td>NaN</td>\n",
       "      <td>False</td>\n",
       "      <td>False</td>\n",
       "      <td>14.40</td>\n",
       "      <td>1.0</td>\n",
       "      <td>посёлок Парголово</td>\n",
       "      <td>52996.0</td>\n",
       "      <td>19143.0</td>\n",
       "      <td>0.0</td>\n",
       "      <td>NaN</td>\n",
       "      <td>0.0</td>\n",
       "      <td>NaN</td>\n",
       "      <td>155.0</td>\n",
       "    </tr>\n",
       "    <tr>\n",
       "      <th>7</th>\n",
       "      <td>5</td>\n",
       "      <td>7915000.0</td>\n",
       "      <td>71.60</td>\n",
       "      <td>2019-04-18T00:00:00</td>\n",
       "      <td>2</td>\n",
       "      <td>NaN</td>\n",
       "      <td>24.0</td>\n",
       "      <td>NaN</td>\n",
       "      <td>22</td>\n",
       "      <td>NaN</td>\n",
       "      <td>False</td>\n",
       "      <td>False</td>\n",
       "      <td>18.90</td>\n",
       "      <td>2.0</td>\n",
       "      <td>Санкт-Петербург</td>\n",
       "      <td>23982.0</td>\n",
       "      <td>11634.0</td>\n",
       "      <td>0.0</td>\n",
       "      <td>NaN</td>\n",
       "      <td>0.0</td>\n",
       "      <td>NaN</td>\n",
       "      <td>NaN</td>\n",
       "    </tr>\n",
       "    <tr>\n",
       "      <th>8</th>\n",
       "      <td>20</td>\n",
       "      <td>2900000.0</td>\n",
       "      <td>33.16</td>\n",
       "      <td>2018-05-23T00:00:00</td>\n",
       "      <td>1</td>\n",
       "      <td>NaN</td>\n",
       "      <td>27.0</td>\n",
       "      <td>15.43</td>\n",
       "      <td>26</td>\n",
       "      <td>NaN</td>\n",
       "      <td>False</td>\n",
       "      <td>False</td>\n",
       "      <td>8.81</td>\n",
       "      <td>NaN</td>\n",
       "      <td>посёлок Мурино</td>\n",
       "      <td>NaN</td>\n",
       "      <td>NaN</td>\n",
       "      <td>NaN</td>\n",
       "      <td>NaN</td>\n",
       "      <td>NaN</td>\n",
       "      <td>NaN</td>\n",
       "      <td>189.0</td>\n",
       "    </tr>\n",
       "    <tr>\n",
       "      <th>9</th>\n",
       "      <td>18</td>\n",
       "      <td>5400000.0</td>\n",
       "      <td>61.00</td>\n",
       "      <td>2017-02-26T00:00:00</td>\n",
       "      <td>3</td>\n",
       "      <td>2.50</td>\n",
       "      <td>9.0</td>\n",
       "      <td>43.60</td>\n",
       "      <td>7</td>\n",
       "      <td>NaN</td>\n",
       "      <td>False</td>\n",
       "      <td>False</td>\n",
       "      <td>6.50</td>\n",
       "      <td>2.0</td>\n",
       "      <td>Санкт-Петербург</td>\n",
       "      <td>50898.0</td>\n",
       "      <td>15008.0</td>\n",
       "      <td>0.0</td>\n",
       "      <td>NaN</td>\n",
       "      <td>0.0</td>\n",
       "      <td>NaN</td>\n",
       "      <td>289.0</td>\n",
       "    </tr>\n",
       "    <tr>\n",
       "      <th>10</th>\n",
       "      <td>5</td>\n",
       "      <td>5050000.0</td>\n",
       "      <td>39.60</td>\n",
       "      <td>2017-11-16T00:00:00</td>\n",
       "      <td>1</td>\n",
       "      <td>2.67</td>\n",
       "      <td>12.0</td>\n",
       "      <td>20.30</td>\n",
       "      <td>3</td>\n",
       "      <td>NaN</td>\n",
       "      <td>False</td>\n",
       "      <td>False</td>\n",
       "      <td>8.50</td>\n",
       "      <td>NaN</td>\n",
       "      <td>Санкт-Петербург</td>\n",
       "      <td>38357.0</td>\n",
       "      <td>13878.0</td>\n",
       "      <td>1.0</td>\n",
       "      <td>310.0</td>\n",
       "      <td>2.0</td>\n",
       "      <td>553.0</td>\n",
       "      <td>137.0</td>\n",
       "    </tr>\n",
       "    <tr>\n",
       "      <th>11</th>\n",
       "      <td>9</td>\n",
       "      <td>3300000.0</td>\n",
       "      <td>44.00</td>\n",
       "      <td>2018-08-27T00:00:00</td>\n",
       "      <td>2</td>\n",
       "      <td>NaN</td>\n",
       "      <td>5.0</td>\n",
       "      <td>31.00</td>\n",
       "      <td>4</td>\n",
       "      <td>False</td>\n",
       "      <td>False</td>\n",
       "      <td>False</td>\n",
       "      <td>6.00</td>\n",
       "      <td>1.0</td>\n",
       "      <td>Ломоносов</td>\n",
       "      <td>48252.0</td>\n",
       "      <td>51677.0</td>\n",
       "      <td>0.0</td>\n",
       "      <td>NaN</td>\n",
       "      <td>0.0</td>\n",
       "      <td>NaN</td>\n",
       "      <td>7.0</td>\n",
       "    </tr>\n",
       "    <tr>\n",
       "      <th>12</th>\n",
       "      <td>10</td>\n",
       "      <td>3890000.0</td>\n",
       "      <td>54.00</td>\n",
       "      <td>2016-06-30T00:00:00</td>\n",
       "      <td>2</td>\n",
       "      <td>NaN</td>\n",
       "      <td>5.0</td>\n",
       "      <td>30.00</td>\n",
       "      <td>5</td>\n",
       "      <td>NaN</td>\n",
       "      <td>False</td>\n",
       "      <td>False</td>\n",
       "      <td>9.00</td>\n",
       "      <td>0.0</td>\n",
       "      <td>Сертолово</td>\n",
       "      <td>NaN</td>\n",
       "      <td>NaN</td>\n",
       "      <td>NaN</td>\n",
       "      <td>NaN</td>\n",
       "      <td>NaN</td>\n",
       "      <td>NaN</td>\n",
       "      <td>90.0</td>\n",
       "    </tr>\n",
       "    <tr>\n",
       "      <th>13</th>\n",
       "      <td>20</td>\n",
       "      <td>3550000.0</td>\n",
       "      <td>42.80</td>\n",
       "      <td>2017-07-01T00:00:00</td>\n",
       "      <td>2</td>\n",
       "      <td>2.56</td>\n",
       "      <td>5.0</td>\n",
       "      <td>27.00</td>\n",
       "      <td>5</td>\n",
       "      <td>NaN</td>\n",
       "      <td>False</td>\n",
       "      <td>False</td>\n",
       "      <td>5.20</td>\n",
       "      <td>1.0</td>\n",
       "      <td>Петергоф</td>\n",
       "      <td>37868.0</td>\n",
       "      <td>33058.0</td>\n",
       "      <td>1.0</td>\n",
       "      <td>294.0</td>\n",
       "      <td>3.0</td>\n",
       "      <td>298.0</td>\n",
       "      <td>366.0</td>\n",
       "    </tr>\n",
       "    <tr>\n",
       "      <th>14</th>\n",
       "      <td>1</td>\n",
       "      <td>4400000.0</td>\n",
       "      <td>36.00</td>\n",
       "      <td>2016-06-23T00:00:00</td>\n",
       "      <td>1</td>\n",
       "      <td>NaN</td>\n",
       "      <td>6.0</td>\n",
       "      <td>17.00</td>\n",
       "      <td>1</td>\n",
       "      <td>NaN</td>\n",
       "      <td>False</td>\n",
       "      <td>False</td>\n",
       "      <td>8.00</td>\n",
       "      <td>0.0</td>\n",
       "      <td>Пушкин</td>\n",
       "      <td>20782.0</td>\n",
       "      <td>30759.0</td>\n",
       "      <td>0.0</td>\n",
       "      <td>NaN</td>\n",
       "      <td>1.0</td>\n",
       "      <td>96.0</td>\n",
       "      <td>203.0</td>\n",
       "    </tr>\n",
       "    <tr>\n",
       "      <th>15</th>\n",
       "      <td>16</td>\n",
       "      <td>4650000.0</td>\n",
       "      <td>39.00</td>\n",
       "      <td>2017-11-18T00:00:00</td>\n",
       "      <td>1</td>\n",
       "      <td>NaN</td>\n",
       "      <td>14.0</td>\n",
       "      <td>20.50</td>\n",
       "      <td>5</td>\n",
       "      <td>NaN</td>\n",
       "      <td>False</td>\n",
       "      <td>False</td>\n",
       "      <td>7.60</td>\n",
       "      <td>1.0</td>\n",
       "      <td>Санкт-Петербург</td>\n",
       "      <td>12900.0</td>\n",
       "      <td>14259.0</td>\n",
       "      <td>1.0</td>\n",
       "      <td>590.0</td>\n",
       "      <td>1.0</td>\n",
       "      <td>296.0</td>\n",
       "      <td>19.0</td>\n",
       "    </tr>\n",
       "    <tr>\n",
       "      <th>16</th>\n",
       "      <td>11</td>\n",
       "      <td>6700000.0</td>\n",
       "      <td>82.00</td>\n",
       "      <td>2017-11-23T00:00:00</td>\n",
       "      <td>3</td>\n",
       "      <td>3.05</td>\n",
       "      <td>5.0</td>\n",
       "      <td>55.60</td>\n",
       "      <td>1</td>\n",
       "      <td>NaN</td>\n",
       "      <td>False</td>\n",
       "      <td>False</td>\n",
       "      <td>9.00</td>\n",
       "      <td>NaN</td>\n",
       "      <td>Санкт-Петербург</td>\n",
       "      <td>22108.0</td>\n",
       "      <td>10698.0</td>\n",
       "      <td>3.0</td>\n",
       "      <td>420.0</td>\n",
       "      <td>0.0</td>\n",
       "      <td>NaN</td>\n",
       "      <td>397.0</td>\n",
       "    </tr>\n",
       "    <tr>\n",
       "      <th>17</th>\n",
       "      <td>6</td>\n",
       "      <td>4180000.0</td>\n",
       "      <td>36.00</td>\n",
       "      <td>2016-09-09T00:00:00</td>\n",
       "      <td>1</td>\n",
       "      <td>NaN</td>\n",
       "      <td>17.0</td>\n",
       "      <td>16.50</td>\n",
       "      <td>7</td>\n",
       "      <td>NaN</td>\n",
       "      <td>False</td>\n",
       "      <td>False</td>\n",
       "      <td>11.00</td>\n",
       "      <td>1.0</td>\n",
       "      <td>Санкт-Петербург</td>\n",
       "      <td>33564.0</td>\n",
       "      <td>14616.0</td>\n",
       "      <td>0.0</td>\n",
       "      <td>NaN</td>\n",
       "      <td>1.0</td>\n",
       "      <td>859.0</td>\n",
       "      <td>571.0</td>\n",
       "    </tr>\n",
       "    <tr>\n",
       "      <th>18</th>\n",
       "      <td>8</td>\n",
       "      <td>3250000.0</td>\n",
       "      <td>31.00</td>\n",
       "      <td>2017-01-27T00:00:00</td>\n",
       "      <td>1</td>\n",
       "      <td>2.50</td>\n",
       "      <td>5.0</td>\n",
       "      <td>19.40</td>\n",
       "      <td>2</td>\n",
       "      <td>NaN</td>\n",
       "      <td>False</td>\n",
       "      <td>False</td>\n",
       "      <td>5.60</td>\n",
       "      <td>1.0</td>\n",
       "      <td>Санкт-Петербург</td>\n",
       "      <td>44060.0</td>\n",
       "      <td>10842.0</td>\n",
       "      <td>1.0</td>\n",
       "      <td>759.0</td>\n",
       "      <td>0.0</td>\n",
       "      <td>NaN</td>\n",
       "      <td>168.0</td>\n",
       "    </tr>\n",
       "    <tr>\n",
       "      <th>19</th>\n",
       "      <td>16</td>\n",
       "      <td>14200000.0</td>\n",
       "      <td>121.00</td>\n",
       "      <td>2019-01-09T00:00:00</td>\n",
       "      <td>3</td>\n",
       "      <td>2.75</td>\n",
       "      <td>16.0</td>\n",
       "      <td>76.00</td>\n",
       "      <td>8</td>\n",
       "      <td>NaN</td>\n",
       "      <td>False</td>\n",
       "      <td>False</td>\n",
       "      <td>12.00</td>\n",
       "      <td>NaN</td>\n",
       "      <td>Санкт-Петербург</td>\n",
       "      <td>38900.0</td>\n",
       "      <td>12843.0</td>\n",
       "      <td>0.0</td>\n",
       "      <td>NaN</td>\n",
       "      <td>0.0</td>\n",
       "      <td>NaN</td>\n",
       "      <td>97.0</td>\n",
       "    </tr>\n",
       "  </tbody>\n",
       "</table>\n",
       "</div>"
      ],
      "text/plain": [
       "    total_images  last_price  total_area first_day_exposition  rooms  \\\n",
       "0             20  13000000.0      108.00  2019-03-07T00:00:00      3   \n",
       "1              7   3350000.0       40.40  2018-12-04T00:00:00      1   \n",
       "2             10   5196000.0       56.00  2015-08-20T00:00:00      2   \n",
       "3              0  64900000.0      159.00  2015-07-24T00:00:00      3   \n",
       "4              2  10000000.0      100.00  2018-06-19T00:00:00      2   \n",
       "5             10   2890000.0       30.40  2018-09-10T00:00:00      1   \n",
       "6              6   3700000.0       37.30  2017-11-02T00:00:00      1   \n",
       "7              5   7915000.0       71.60  2019-04-18T00:00:00      2   \n",
       "8             20   2900000.0       33.16  2018-05-23T00:00:00      1   \n",
       "9             18   5400000.0       61.00  2017-02-26T00:00:00      3   \n",
       "10             5   5050000.0       39.60  2017-11-16T00:00:00      1   \n",
       "11             9   3300000.0       44.00  2018-08-27T00:00:00      2   \n",
       "12            10   3890000.0       54.00  2016-06-30T00:00:00      2   \n",
       "13            20   3550000.0       42.80  2017-07-01T00:00:00      2   \n",
       "14             1   4400000.0       36.00  2016-06-23T00:00:00      1   \n",
       "15            16   4650000.0       39.00  2017-11-18T00:00:00      1   \n",
       "16            11   6700000.0       82.00  2017-11-23T00:00:00      3   \n",
       "17             6   4180000.0       36.00  2016-09-09T00:00:00      1   \n",
       "18             8   3250000.0       31.00  2017-01-27T00:00:00      1   \n",
       "19            16  14200000.0      121.00  2019-01-09T00:00:00      3   \n",
       "\n",
       "    ceiling_height  floors_total  living_area  floor is_apartment  studio  \\\n",
       "0             2.70          16.0        51.00      8          NaN   False   \n",
       "1              NaN          11.0        18.60      1          NaN   False   \n",
       "2              NaN           5.0        34.30      4          NaN   False   \n",
       "3              NaN          14.0          NaN      9          NaN   False   \n",
       "4             3.03          14.0        32.00     13          NaN   False   \n",
       "5              NaN          12.0        14.40      5          NaN   False   \n",
       "6              NaN          26.0        10.60      6          NaN   False   \n",
       "7              NaN          24.0          NaN     22          NaN   False   \n",
       "8              NaN          27.0        15.43     26          NaN   False   \n",
       "9             2.50           9.0        43.60      7          NaN   False   \n",
       "10            2.67          12.0        20.30      3          NaN   False   \n",
       "11             NaN           5.0        31.00      4        False   False   \n",
       "12             NaN           5.0        30.00      5          NaN   False   \n",
       "13            2.56           5.0        27.00      5          NaN   False   \n",
       "14             NaN           6.0        17.00      1          NaN   False   \n",
       "15             NaN          14.0        20.50      5          NaN   False   \n",
       "16            3.05           5.0        55.60      1          NaN   False   \n",
       "17             NaN          17.0        16.50      7          NaN   False   \n",
       "18            2.50           5.0        19.40      2          NaN   False   \n",
       "19            2.75          16.0        76.00      8          NaN   False   \n",
       "\n",
       "    open_plan  kitchen_area  balcony              locality_name  \\\n",
       "0       False         25.00      NaN            Санкт-Петербург   \n",
       "1       False         11.00      2.0             посёлок Шушары   \n",
       "2       False          8.30      0.0            Санкт-Петербург   \n",
       "3       False           NaN      0.0            Санкт-Петербург   \n",
       "4       False         41.00      NaN            Санкт-Петербург   \n",
       "5       False          9.10      NaN  городской посёлок Янино-1   \n",
       "6       False         14.40      1.0          посёлок Парголово   \n",
       "7       False         18.90      2.0            Санкт-Петербург   \n",
       "8       False          8.81      NaN             посёлок Мурино   \n",
       "9       False          6.50      2.0            Санкт-Петербург   \n",
       "10      False          8.50      NaN            Санкт-Петербург   \n",
       "11      False          6.00      1.0                  Ломоносов   \n",
       "12      False          9.00      0.0                  Сертолово   \n",
       "13      False          5.20      1.0                   Петергоф   \n",
       "14      False          8.00      0.0                     Пушкин   \n",
       "15      False          7.60      1.0            Санкт-Петербург   \n",
       "16      False          9.00      NaN            Санкт-Петербург   \n",
       "17      False         11.00      1.0            Санкт-Петербург   \n",
       "18      False          5.60      1.0            Санкт-Петербург   \n",
       "19      False         12.00      NaN            Санкт-Петербург   \n",
       "\n",
       "    airports_nearest  cityCenters_nearest  parks_around3000  parks_nearest  \\\n",
       "0            18863.0              16028.0               1.0          482.0   \n",
       "1            12817.0              18603.0               0.0            NaN   \n",
       "2            21741.0              13933.0               1.0           90.0   \n",
       "3            28098.0               6800.0               2.0           84.0   \n",
       "4            31856.0               8098.0               2.0          112.0   \n",
       "5                NaN                  NaN               NaN            NaN   \n",
       "6            52996.0              19143.0               0.0            NaN   \n",
       "7            23982.0              11634.0               0.0            NaN   \n",
       "8                NaN                  NaN               NaN            NaN   \n",
       "9            50898.0              15008.0               0.0            NaN   \n",
       "10           38357.0              13878.0               1.0          310.0   \n",
       "11           48252.0              51677.0               0.0            NaN   \n",
       "12               NaN                  NaN               NaN            NaN   \n",
       "13           37868.0              33058.0               1.0          294.0   \n",
       "14           20782.0              30759.0               0.0            NaN   \n",
       "15           12900.0              14259.0               1.0          590.0   \n",
       "16           22108.0              10698.0               3.0          420.0   \n",
       "17           33564.0              14616.0               0.0            NaN   \n",
       "18           44060.0              10842.0               1.0          759.0   \n",
       "19           38900.0              12843.0               0.0            NaN   \n",
       "\n",
       "    ponds_around3000  ponds_nearest  days_exposition  \n",
       "0                2.0          755.0              NaN  \n",
       "1                0.0            NaN             81.0  \n",
       "2                2.0          574.0            558.0  \n",
       "3                3.0          234.0            424.0  \n",
       "4                1.0           48.0            121.0  \n",
       "5                NaN            NaN             55.0  \n",
       "6                0.0            NaN            155.0  \n",
       "7                0.0            NaN              NaN  \n",
       "8                NaN            NaN            189.0  \n",
       "9                0.0            NaN            289.0  \n",
       "10               2.0          553.0            137.0  \n",
       "11               0.0            NaN              7.0  \n",
       "12               NaN            NaN             90.0  \n",
       "13               3.0          298.0            366.0  \n",
       "14               1.0           96.0            203.0  \n",
       "15               1.0          296.0             19.0  \n",
       "16               0.0            NaN            397.0  \n",
       "17               1.0          859.0            571.0  \n",
       "18               0.0            NaN            168.0  \n",
       "19               0.0            NaN             97.0  "
      ]
     },
     "execution_count": 2,
     "metadata": {},
     "output_type": "execute_result"
    }
   ],
   "source": [
    "pd.set_option('display.max_columns', None)\n",
    "df = pd.read_csv('/datasets/real_estate_data.csv', sep='\\t')\n",
    "df.head(20)\n"
   ]
  },
  {
   "cell_type": "code",
   "execution_count": 3,
   "metadata": {
    "scrolled": false
   },
   "outputs": [
    {
     "name": "stdout",
     "output_type": "stream",
     "text": [
      "<class 'pandas.core.frame.DataFrame'>\n",
      "RangeIndex: 23699 entries, 0 to 23698\n",
      "Data columns (total 22 columns):\n",
      " #   Column                Non-Null Count  Dtype  \n",
      "---  ------                --------------  -----  \n",
      " 0   total_images          23699 non-null  int64  \n",
      " 1   last_price            23699 non-null  float64\n",
      " 2   total_area            23699 non-null  float64\n",
      " 3   first_day_exposition  23699 non-null  object \n",
      " 4   rooms                 23699 non-null  int64  \n",
      " 5   ceiling_height        14504 non-null  float64\n",
      " 6   floors_total          23613 non-null  float64\n",
      " 7   living_area           21796 non-null  float64\n",
      " 8   floor                 23699 non-null  int64  \n",
      " 9   is_apartment          2775 non-null   object \n",
      " 10  studio                23699 non-null  bool   \n",
      " 11  open_plan             23699 non-null  bool   \n",
      " 12  kitchen_area          21421 non-null  float64\n",
      " 13  balcony               12180 non-null  float64\n",
      " 14  locality_name         23650 non-null  object \n",
      " 15  airports_nearest      18157 non-null  float64\n",
      " 16  cityCenters_nearest   18180 non-null  float64\n",
      " 17  parks_around3000      18181 non-null  float64\n",
      " 18  parks_nearest         8079 non-null   float64\n",
      " 19  ponds_around3000      18181 non-null  float64\n",
      " 20  ponds_nearest         9110 non-null   float64\n",
      " 21  days_exposition       20518 non-null  float64\n",
      "dtypes: bool(2), float64(14), int64(3), object(3)\n",
      "memory usage: 3.7+ MB\n"
     ]
    }
   ],
   "source": [
    "df.info()"
   ]
  },
  {
   "cell_type": "markdown",
   "metadata": {},
   "source": [
    "### Вывод"
   ]
  },
  {
   "cell_type": "markdown",
   "metadata": {},
   "source": [
    "* Данные состоят из 23699 строк и 22 столбцов\n",
    "* В таблице имеются пропуски\n",
    "* В некоторых столбцах необходимо поменять тип данных"
   ]
  },
  {
   "cell_type": "markdown",
   "metadata": {},
   "source": [
    "## Предобработка данных"
   ]
  },
  {
   "cell_type": "markdown",
   "metadata": {},
   "source": [
    "Для начала удалим строки в которых пропущено значение locality_name и floors_total т.к отсутствие этих данных помешают в дальнейших расчетах."
   ]
  },
  {
   "cell_type": "code",
   "execution_count": 4,
   "metadata": {},
   "outputs": [
    {
     "name": "stdout",
     "output_type": "stream",
     "text": [
      "Строк с пустыми значениями в столбце locality_name: 0\n",
      "Строк с пустыми значениями в столбце floors_total: 0\n"
     ]
    }
   ],
   "source": [
    "df.dropna(subset=['locality_name', 'floors_total'], inplace=True)\n",
    "print('Строк с пустыми значениями в столбце locality_name:', df['locality_name'].isna().sum())\n",
    "print('Строк с пустыми значениями в столбце floors_total:', df['floors_total'].isna().sum())"
   ]
  },
  {
   "cell_type": "markdown",
   "metadata": {},
   "source": [
    "### Столбец ceiling_height\n",
    "Разберемся с пропущенным данными в ceilling_height.\n",
    "Для начала посмотрим какие вообще значения имеются в этом столбце"
   ]
  },
  {
   "cell_type": "code",
   "execution_count": 5,
   "metadata": {
    "scrolled": false
   },
   "outputs": [
    {
     "name": "stdout",
     "output_type": "stream",
     "text": [
      "AxesSubplot(0.125,0.125;0.775x0.755)\n",
      "count    14481.000000\n",
      "mean         2.771283\n",
      "std          1.261983\n",
      "min          1.000000\n",
      "25%          2.510000\n",
      "50%          2.650000\n",
      "75%          2.800000\n",
      "max        100.000000\n",
      "Name: ceiling_height, dtype: float64\n"
     ]
    },
    {
     "data": {
      "image/png": "[encoded data removed]",
      "text/plain": [
       "<Figure size 432x288 with 1 Axes>"
      ]
     },
     "metadata": {
      "needs_background": "light"
     },
     "output_type": "display_data"
    }
   ],
   "source": [
    "print(df.boxplot('ceiling_height'))\n",
    "print(df['ceiling_height'].describe())\n",
    "\n"
   ]
  },
  {
   "cell_type": "markdown",
   "metadata": {},
   "source": [
    "* Минимальная высота потолка - 1 метр.\n",
    "* Максимальная 100\n",
    "* Средне значение 2.77\n",
    "* Медианное - 2.65\n",
    "\n",
    "Заменим пропущенные значения на медиану:"
   ]
  },
  {
   "cell_type": "code",
   "execution_count": 6,
   "metadata": {},
   "outputs": [
    {
     "data": {
      "text/plain": [
       "0"
      ]
     },
     "execution_count": 6,
     "metadata": {},
     "output_type": "execute_result"
    }
   ],
   "source": [
    "median_height = df['ceiling_height'].median()\n",
    "df['ceiling_height'].fillna(median_height, inplace=True)\n",
    "df['ceiling_height'].isna().sum()"
   ]
  },
  {
   "cell_type": "markdown",
   "metadata": {},
   "source": [
    "Следующим шагом необходимо избавиться от выбросов."
   ]
  },
  {
   "cell_type": "code",
   "execution_count": 7,
   "metadata": {},
   "outputs": [
    {
     "name": "stdout",
     "output_type": "stream",
     "text": [
      "AxesSubplot(0.125,0.125;0.775x0.755)\n",
      "count    23417.000000\n",
      "mean         2.694380\n",
      "std          0.204147\n",
      "min          2.500000\n",
      "25%          2.600000\n",
      "50%          2.650000\n",
      "75%          2.700000\n",
      "max          4.000000\n",
      "Name: ceiling_height, dtype: float64\n"
     ]
    },
    {
     "data": {
      "image/png": "[encoded data removed]",
      "text/plain": [
       "<Figure size 432x288 with 1 Axes>"
      ]
     },
     "metadata": {
      "needs_background": "light"
     },
     "output_type": "display_data"
    }
   ],
   "source": [
    "df = df.query('ceiling_height <= 4')\n",
    "df = df.query('ceiling_height >= 2.5')\n",
    "print(df.boxplot('ceiling_height'))\n",
    "print(df['ceiling_height'].describe())"
   ]
  },
  {
   "cell_type": "markdown",
   "metadata": {},
   "source": [
    "### Столбцы total_images, is_apartment, studio и open_plan\n"
   ]
  },
  {
   "cell_type": "markdown",
   "metadata": {},
   "source": [
    "В столбце is_apartment слишком много пустых значений, к тому же для исследования эти значения не важны, удалю этот столбец.\n",
    "Так же для исследования не важны столбцы total_images, studio и open_plan их мы тоже удалим."
   ]
  },
  {
   "cell_type": "code",
   "execution_count": 8,
   "metadata": {},
   "outputs": [
    {
     "name": "stdout",
     "output_type": "stream",
     "text": [
      "<class 'pandas.core.frame.DataFrame'>\n",
      "Int64Index: 23417 entries, 0 to 23698\n",
      "Data columns (total 18 columns):\n",
      " #   Column                Non-Null Count  Dtype  \n",
      "---  ------                --------------  -----  \n",
      " 0   last_price            23417 non-null  float64\n",
      " 1   total_area            23417 non-null  float64\n",
      " 2   first_day_exposition  23417 non-null  object \n",
      " 3   rooms                 23417 non-null  int64  \n",
      " 4   ceiling_height        23417 non-null  float64\n",
      " 5   floors_total          23417 non-null  float64\n",
      " 6   living_area           21564 non-null  float64\n",
      " 7   floor                 23417 non-null  int64  \n",
      " 8   kitchen_area          21215 non-null  float64\n",
      " 9   balcony               12005 non-null  float64\n",
      " 10  locality_name         23417 non-null  object \n",
      " 11  airports_nearest      17941 non-null  float64\n",
      " 12  cityCenters_nearest   17961 non-null  float64\n",
      " 13  parks_around3000      17962 non-null  float64\n",
      " 14  parks_nearest         7967 non-null   float64\n",
      " 15  ponds_around3000      17962 non-null  float64\n",
      " 16  ponds_nearest         8976 non-null   float64\n",
      " 17  days_exposition       20270 non-null  float64\n",
      "dtypes: float64(14), int64(2), object(2)\n",
      "memory usage: 3.4+ MB\n"
     ]
    }
   ],
   "source": [
    "df.drop(['is_apartment'], axis=1, inplace=True)\n",
    "df.drop(['studio'], axis=1, inplace=True)\n",
    "df.drop(['open_plan'], axis=1, inplace=True)\n",
    "df.drop(['total_images'], axis=1, inplace=True)\n",
    "df.info()"
   ]
  },
  {
   "cell_type": "markdown",
   "metadata": {},
   "source": [
    "### Столбцы balcony, parks_around3000 и ponds_around3000  \n",
    "\n",
    "Пропущенные значения в этих столбцах скорее всего означают отсутвтие балкона, парков или прудов. Заменим эти значения на 0. "
   ]
  },
  {
   "cell_type": "code",
   "execution_count": 9,
   "metadata": {},
   "outputs": [
    {
     "name": "stdout",
     "output_type": "stream",
     "text": [
      "Строк с пустыми значениями в столбце balcony: 0\n",
      "Строк с пустыми значениями в столбце parks_around3000: 0\n",
      "Строк с пустыми значениями в столбце ponds_around3000: 0\n"
     ]
    }
   ],
   "source": [
    "df['balcony'] = df['balcony'].fillna(0).astype('int')\n",
    "df['parks_around3000'] = df['parks_around3000'].fillna(0).astype('int')\n",
    "df['ponds_around3000'] = df['ponds_around3000'].fillna(0).astype('int')\n",
    "print('Строк с пустыми значениями в столбце balcony:', df['balcony'].isna().sum())\n",
    "print('Строк с пустыми значениями в столбце parks_around3000:', df['parks_around3000'].isna().sum())\n",
    "print('Строк с пустыми значениями в столбце ponds_around3000:', df['ponds_around3000'].isna().sum())\n"
   ]
  },
  {
   "cell_type": "markdown",
   "metadata": {},
   "source": [
    "### Cтолбцы airports_nearest, cityCenters_nearest, parks_nearest, ponds_nearest\n",
    "\n",
    "Для начала заполним пропуски там, где это возможно.\n",
    "Сгруппируем данные по названию населенного пункта, и заменим пропуск на медианное значение."
   ]
  },
  {
   "cell_type": "code",
   "execution_count": 10,
   "metadata": {},
   "outputs": [
    {
     "name": "stdout",
     "output_type": "stream",
     "text": [
      "Количество пропусков в стобце airports_nearest до заполнения: 5476\n",
      "Количество пропусков в стобце airports_nearest после заполнения: 5387\n",
      " \n",
      "Количество пропусков в стобце cityCenters_nearest до заполнения: 5456\n",
      "Количество пропусков в стобце cityCenters_nearest после заполнения: 5387\n",
      " \n",
      "Количество пропусков в стобце parks_nearest до заполнения: 15450\n",
      "Количество пропусков в стобце parks_nearest после заполнения: 5939\n",
      " \n",
      "Количество пропусков в стобце ponds_nearest до заполнения: 14441\n",
      "Количество пропусков в стобце ponds_nearest после заполнения: 5470\n"
     ]
    }
   ],
   "source": [
    "print('Количество пропусков в стобце airports_nearest до заполнения:', df['airports_nearest'].isna().sum())\n",
    "df['airports_nearest'] = df['airports_nearest'].fillna(df.groupby('locality_name')['airports_nearest'].transform('median'))\n",
    "print('Количество пропусков в стобце airports_nearest после заполнения:', df['airports_nearest'].isna().sum())\n",
    "print(' ')\n",
    "print('Количество пропусков в стобце cityCenters_nearest до заполнения:', df['cityCenters_nearest'].isna().sum())\n",
    "df['cityCenters_nearest'] = df['cityCenters_nearest'].fillna(df.groupby('locality_name')['cityCenters_nearest'].transform('median'))\n",
    "print('Количество пропусков в стобце cityCenters_nearest после заполнения:', df['cityCenters_nearest'].isna().sum())\n",
    "print(' ')\n",
    "print('Количество пропусков в стобце parks_nearest до заполнения:', df['parks_nearest'].isna().sum())\n",
    "df['parks_nearest'] = df['parks_nearest'].fillna(df.groupby('locality_name')['parks_nearest'].transform('median'))\n",
    "print('Количество пропусков в стобце parks_nearest после заполнения:', df['parks_nearest'].isna().sum())\n",
    "print(' ')\n",
    "print('Количество пропусков в стобце ponds_nearest до заполнения:', df['ponds_nearest'].isna().sum())\n",
    "df['ponds_nearest'] = df['ponds_nearest'].fillna(df.groupby('locality_name')['ponds_nearest'].transform('median'))\n",
    "print('Количество пропусков в стобце ponds_nearest после заполнения:', df['ponds_nearest'].isna().sum())\n",
    "\n",
    "\n",
    "#df['airports_nearest'] = df['airports_nearest'].fillna(-1).astype('int')\n",
    "#df['locality_name'].value_counts()"
   ]
  },
  {
   "cell_type": "markdown",
   "metadata": {},
   "source": [
    "Остальные пропуски заменим на нетипичное значение `-1`. Т.к возможно непосредственно около некоторых населенных пунктов может не быть поблизости парков, аэропортов, прудов или, например, если это небольшой поселок в нем отсутвует \"центр города\""
   ]
  },
  {
   "cell_type": "code",
   "execution_count": 11,
   "metadata": {},
   "outputs": [
    {
     "name": "stdout",
     "output_type": "stream",
     "text": [
      "Количество пропусков в стобце airports_nearest после заполнения: 0\n",
      "Количество пропусков в стобце cityCenters_nearest после заполнения: 0\n",
      "Количество пропусков в стобце parks_nearest после заполнения: 0\n",
      "Количество пропусков в стобце ponds_nearest после заполнения: 0\n"
     ]
    },
    {
     "data": {
      "text/html": [
       "<div>\n",
       "<style scoped>\n",
       "    .dataframe tbody tr th:only-of-type {\n",
       "        vertical-align: middle;\n",
       "    }\n",
       "\n",
       "    .dataframe tbody tr th {\n",
       "        vertical-align: top;\n",
       "    }\n",
       "\n",
       "    .dataframe thead th {\n",
       "        text-align: right;\n",
       "    }\n",
       "</style>\n",
       "<table border=\"1\" class=\"dataframe\">\n",
       "  <thead>\n",
       "    <tr style=\"text-align: right;\">\n",
       "      <th></th>\n",
       "      <th>last_price</th>\n",
       "      <th>total_area</th>\n",
       "      <th>first_day_exposition</th>\n",
       "      <th>rooms</th>\n",
       "      <th>ceiling_height</th>\n",
       "      <th>floors_total</th>\n",
       "      <th>living_area</th>\n",
       "      <th>floor</th>\n",
       "      <th>kitchen_area</th>\n",
       "      <th>balcony</th>\n",
       "      <th>locality_name</th>\n",
       "      <th>airports_nearest</th>\n",
       "      <th>cityCenters_nearest</th>\n",
       "      <th>parks_around3000</th>\n",
       "      <th>parks_nearest</th>\n",
       "      <th>ponds_around3000</th>\n",
       "      <th>ponds_nearest</th>\n",
       "      <th>days_exposition</th>\n",
       "    </tr>\n",
       "  </thead>\n",
       "  <tbody>\n",
       "    <tr>\n",
       "      <th>0</th>\n",
       "      <td>13000000.0</td>\n",
       "      <td>108.00</td>\n",
       "      <td>2019-03-07T00:00:00</td>\n",
       "      <td>3</td>\n",
       "      <td>2.70</td>\n",
       "      <td>16.0</td>\n",
       "      <td>51.00</td>\n",
       "      <td>8</td>\n",
       "      <td>25.00</td>\n",
       "      <td>0</td>\n",
       "      <td>Санкт-Петербург</td>\n",
       "      <td>18863</td>\n",
       "      <td>16028</td>\n",
       "      <td>1</td>\n",
       "      <td>482</td>\n",
       "      <td>2</td>\n",
       "      <td>755</td>\n",
       "      <td>NaN</td>\n",
       "    </tr>\n",
       "    <tr>\n",
       "      <th>1</th>\n",
       "      <td>3350000.0</td>\n",
       "      <td>40.40</td>\n",
       "      <td>2018-12-04T00:00:00</td>\n",
       "      <td>1</td>\n",
       "      <td>2.65</td>\n",
       "      <td>11.0</td>\n",
       "      <td>18.60</td>\n",
       "      <td>1</td>\n",
       "      <td>11.00</td>\n",
       "      <td>2</td>\n",
       "      <td>посёлок Шушары</td>\n",
       "      <td>12817</td>\n",
       "      <td>18603</td>\n",
       "      <td>0</td>\n",
       "      <td>-1</td>\n",
       "      <td>0</td>\n",
       "      <td>584</td>\n",
       "      <td>81.0</td>\n",
       "    </tr>\n",
       "    <tr>\n",
       "      <th>2</th>\n",
       "      <td>5196000.0</td>\n",
       "      <td>56.00</td>\n",
       "      <td>2015-08-20T00:00:00</td>\n",
       "      <td>2</td>\n",
       "      <td>2.65</td>\n",
       "      <td>5.0</td>\n",
       "      <td>34.30</td>\n",
       "      <td>4</td>\n",
       "      <td>8.30</td>\n",
       "      <td>0</td>\n",
       "      <td>Санкт-Петербург</td>\n",
       "      <td>21741</td>\n",
       "      <td>13933</td>\n",
       "      <td>1</td>\n",
       "      <td>90</td>\n",
       "      <td>2</td>\n",
       "      <td>574</td>\n",
       "      <td>558.0</td>\n",
       "    </tr>\n",
       "    <tr>\n",
       "      <th>3</th>\n",
       "      <td>64900000.0</td>\n",
       "      <td>159.00</td>\n",
       "      <td>2015-07-24T00:00:00</td>\n",
       "      <td>3</td>\n",
       "      <td>2.65</td>\n",
       "      <td>14.0</td>\n",
       "      <td>NaN</td>\n",
       "      <td>9</td>\n",
       "      <td>NaN</td>\n",
       "      <td>0</td>\n",
       "      <td>Санкт-Петербург</td>\n",
       "      <td>28098</td>\n",
       "      <td>6800</td>\n",
       "      <td>2</td>\n",
       "      <td>84</td>\n",
       "      <td>3</td>\n",
       "      <td>234</td>\n",
       "      <td>424.0</td>\n",
       "    </tr>\n",
       "    <tr>\n",
       "      <th>4</th>\n",
       "      <td>10000000.0</td>\n",
       "      <td>100.00</td>\n",
       "      <td>2018-06-19T00:00:00</td>\n",
       "      <td>2</td>\n",
       "      <td>3.03</td>\n",
       "      <td>14.0</td>\n",
       "      <td>32.00</td>\n",
       "      <td>13</td>\n",
       "      <td>41.00</td>\n",
       "      <td>0</td>\n",
       "      <td>Санкт-Петербург</td>\n",
       "      <td>31856</td>\n",
       "      <td>8098</td>\n",
       "      <td>2</td>\n",
       "      <td>112</td>\n",
       "      <td>1</td>\n",
       "      <td>48</td>\n",
       "      <td>121.0</td>\n",
       "    </tr>\n",
       "    <tr>\n",
       "      <th>5</th>\n",
       "      <td>2890000.0</td>\n",
       "      <td>30.40</td>\n",
       "      <td>2018-09-10T00:00:00</td>\n",
       "      <td>1</td>\n",
       "      <td>2.65</td>\n",
       "      <td>12.0</td>\n",
       "      <td>14.40</td>\n",
       "      <td>5</td>\n",
       "      <td>9.10</td>\n",
       "      <td>0</td>\n",
       "      <td>городской посёлок Янино-1</td>\n",
       "      <td>-1</td>\n",
       "      <td>-1</td>\n",
       "      <td>0</td>\n",
       "      <td>-1</td>\n",
       "      <td>0</td>\n",
       "      <td>-1</td>\n",
       "      <td>55.0</td>\n",
       "    </tr>\n",
       "    <tr>\n",
       "      <th>6</th>\n",
       "      <td>3700000.0</td>\n",
       "      <td>37.30</td>\n",
       "      <td>2017-11-02T00:00:00</td>\n",
       "      <td>1</td>\n",
       "      <td>2.65</td>\n",
       "      <td>26.0</td>\n",
       "      <td>10.60</td>\n",
       "      <td>6</td>\n",
       "      <td>14.40</td>\n",
       "      <td>1</td>\n",
       "      <td>посёлок Парголово</td>\n",
       "      <td>52996</td>\n",
       "      <td>19143</td>\n",
       "      <td>0</td>\n",
       "      <td>733</td>\n",
       "      <td>0</td>\n",
       "      <td>593</td>\n",
       "      <td>155.0</td>\n",
       "    </tr>\n",
       "    <tr>\n",
       "      <th>7</th>\n",
       "      <td>7915000.0</td>\n",
       "      <td>71.60</td>\n",
       "      <td>2019-04-18T00:00:00</td>\n",
       "      <td>2</td>\n",
       "      <td>2.65</td>\n",
       "      <td>24.0</td>\n",
       "      <td>NaN</td>\n",
       "      <td>22</td>\n",
       "      <td>18.90</td>\n",
       "      <td>2</td>\n",
       "      <td>Санкт-Петербург</td>\n",
       "      <td>23982</td>\n",
       "      <td>11634</td>\n",
       "      <td>0</td>\n",
       "      <td>460</td>\n",
       "      <td>0</td>\n",
       "      <td>504</td>\n",
       "      <td>NaN</td>\n",
       "    </tr>\n",
       "    <tr>\n",
       "      <th>8</th>\n",
       "      <td>2900000.0</td>\n",
       "      <td>33.16</td>\n",
       "      <td>2018-05-23T00:00:00</td>\n",
       "      <td>1</td>\n",
       "      <td>2.65</td>\n",
       "      <td>27.0</td>\n",
       "      <td>15.43</td>\n",
       "      <td>26</td>\n",
       "      <td>8.81</td>\n",
       "      <td>0</td>\n",
       "      <td>посёлок Мурино</td>\n",
       "      <td>-1</td>\n",
       "      <td>-1</td>\n",
       "      <td>0</td>\n",
       "      <td>-1</td>\n",
       "      <td>0</td>\n",
       "      <td>-1</td>\n",
       "      <td>189.0</td>\n",
       "    </tr>\n",
       "    <tr>\n",
       "      <th>9</th>\n",
       "      <td>5400000.0</td>\n",
       "      <td>61.00</td>\n",
       "      <td>2017-02-26T00:00:00</td>\n",
       "      <td>3</td>\n",
       "      <td>2.50</td>\n",
       "      <td>9.0</td>\n",
       "      <td>43.60</td>\n",
       "      <td>7</td>\n",
       "      <td>6.50</td>\n",
       "      <td>2</td>\n",
       "      <td>Санкт-Петербург</td>\n",
       "      <td>50898</td>\n",
       "      <td>15008</td>\n",
       "      <td>0</td>\n",
       "      <td>460</td>\n",
       "      <td>0</td>\n",
       "      <td>504</td>\n",
       "      <td>289.0</td>\n",
       "    </tr>\n",
       "  </tbody>\n",
       "</table>\n",
       "</div>"
      ],
      "text/plain": [
       "   last_price  total_area first_day_exposition  rooms  ceiling_height  \\\n",
       "0  13000000.0      108.00  2019-03-07T00:00:00      3            2.70   \n",
       "1   3350000.0       40.40  2018-12-04T00:00:00      1            2.65   \n",
       "2   5196000.0       56.00  2015-08-20T00:00:00      2            2.65   \n",
       "3  64900000.0      159.00  2015-07-24T00:00:00      3            2.65   \n",
       "4  10000000.0      100.00  2018-06-19T00:00:00      2            3.03   \n",
       "5   2890000.0       30.40  2018-09-10T00:00:00      1            2.65   \n",
       "6   3700000.0       37.30  2017-11-02T00:00:00      1            2.65   \n",
       "7   7915000.0       71.60  2019-04-18T00:00:00      2            2.65   \n",
       "8   2900000.0       33.16  2018-05-23T00:00:00      1            2.65   \n",
       "9   5400000.0       61.00  2017-02-26T00:00:00      3            2.50   \n",
       "\n",
       "   floors_total  living_area  floor  kitchen_area  balcony  \\\n",
       "0          16.0        51.00      8         25.00        0   \n",
       "1          11.0        18.60      1         11.00        2   \n",
       "2           5.0        34.30      4          8.30        0   \n",
       "3          14.0          NaN      9           NaN        0   \n",
       "4          14.0        32.00     13         41.00        0   \n",
       "5          12.0        14.40      5          9.10        0   \n",
       "6          26.0        10.60      6         14.40        1   \n",
       "7          24.0          NaN     22         18.90        2   \n",
       "8          27.0        15.43     26          8.81        0   \n",
       "9           9.0        43.60      7          6.50        2   \n",
       "\n",
       "               locality_name  airports_nearest  cityCenters_nearest  \\\n",
       "0            Санкт-Петербург             18863                16028   \n",
       "1             посёлок Шушары             12817                18603   \n",
       "2            Санкт-Петербург             21741                13933   \n",
       "3            Санкт-Петербург             28098                 6800   \n",
       "4            Санкт-Петербург             31856                 8098   \n",
       "5  городской посёлок Янино-1                -1                   -1   \n",
       "6          посёлок Парголово             52996                19143   \n",
       "7            Санкт-Петербург             23982                11634   \n",
       "8             посёлок Мурино                -1                   -1   \n",
       "9            Санкт-Петербург             50898                15008   \n",
       "\n",
       "   parks_around3000  parks_nearest  ponds_around3000  ponds_nearest  \\\n",
       "0                 1            482                 2            755   \n",
       "1                 0             -1                 0            584   \n",
       "2                 1             90                 2            574   \n",
       "3                 2             84                 3            234   \n",
       "4                 2            112                 1             48   \n",
       "5                 0             -1                 0             -1   \n",
       "6                 0            733                 0            593   \n",
       "7                 0            460                 0            504   \n",
       "8                 0             -1                 0             -1   \n",
       "9                 0            460                 0            504   \n",
       "\n",
       "   days_exposition  \n",
       "0              NaN  \n",
       "1             81.0  \n",
       "2            558.0  \n",
       "3            424.0  \n",
       "4            121.0  \n",
       "5             55.0  \n",
       "6            155.0  \n",
       "7              NaN  \n",
       "8            189.0  \n",
       "9            289.0  "
      ]
     },
     "metadata": {},
     "output_type": "display_data"
    }
   ],
   "source": [
    "df['airports_nearest'] = df['airports_nearest'].fillna(-1).astype('int')\n",
    "df['cityCenters_nearest'] = df['cityCenters_nearest'].fillna(-1).astype('int')\n",
    "df['parks_nearest'] = df['parks_nearest'].fillna(-1).astype('int')\n",
    "df['ponds_nearest'] = df['ponds_nearest'].fillna(-1).astype('int')\n",
    "\n",
    "print('Количество пропусков в стобце airports_nearest после заполнения:', df['airports_nearest'].isna().sum())\n",
    "print('Количество пропусков в стобце cityCenters_nearest после заполнения:', df['cityCenters_nearest'].isna().sum())\n",
    "print('Количество пропусков в стобце parks_nearest после заполнения:', df['parks_nearest'].isna().sum())\n",
    "print('Количество пропусков в стобце ponds_nearest после заполнения:', df['ponds_nearest'].isna().sum())\n",
    "display(df.head(10))\n"
   ]
  },
  {
   "cell_type": "markdown",
   "metadata": {},
   "source": [
    "### Столбец days_exposition\n",
    "\n",
    "Предположим, что объявления с пропусками в этом столбце все еще активны. Заменю пропуски на -1."
   ]
  },
  {
   "cell_type": "code",
   "execution_count": 12,
   "metadata": {},
   "outputs": [
    {
     "data": {
      "text/plain": [
       "0"
      ]
     },
     "execution_count": 12,
     "metadata": {},
     "output_type": "execute_result"
    }
   ],
   "source": [
    "df['days_exposition'] = df['days_exposition'].fillna(-1).astype('int')\n",
    "df['days_exposition'].isna().sum()"
   ]
  },
  {
   "cell_type": "markdown",
   "metadata": {},
   "source": [
    "### Столбец kitchen_area\n",
    "\n",
    "Заполним пропуски медианным значением."
   ]
  },
  {
   "cell_type": "code",
   "execution_count": 13,
   "metadata": {},
   "outputs": [
    {
     "data": {
      "text/plain": [
       "0"
      ]
     },
     "execution_count": 13,
     "metadata": {},
     "output_type": "execute_result"
    }
   ],
   "source": [
    "df['kitchen_area'].fillna(df['kitchen_area'].median(), inplace=True)\n",
    "df['kitchen_area'].isna().sum()"
   ]
  },
  {
   "cell_type": "markdown",
   "metadata": {},
   "source": [
    "### Столбец living_area\n",
    "\n",
    "Избавимся от пропусков в столбце living_area, путем вычитания площади кухни из общей площади."
   ]
  },
  {
   "cell_type": "code",
   "execution_count": 14,
   "metadata": {},
   "outputs": [
    {
     "data": {
      "text/plain": [
       "0"
      ]
     },
     "execution_count": 14,
     "metadata": {},
     "output_type": "execute_result"
    }
   ],
   "source": [
    "df['living_area'].fillna(df['total_area'] - df['kitchen_area'], inplace=True)\n",
    "df['living_area'].isna().sum()"
   ]
  },
  {
   "cell_type": "code",
   "execution_count": 15,
   "metadata": {},
   "outputs": [
    {
     "data": {
      "text/html": [
       "<div>\n",
       "<style scoped>\n",
       "    .dataframe tbody tr th:only-of-type {\n",
       "        vertical-align: middle;\n",
       "    }\n",
       "\n",
       "    .dataframe tbody tr th {\n",
       "        vertical-align: top;\n",
       "    }\n",
       "\n",
       "    .dataframe thead th {\n",
       "        text-align: right;\n",
       "    }\n",
       "</style>\n",
       "<table border=\"1\" class=\"dataframe\">\n",
       "  <thead>\n",
       "    <tr style=\"text-align: right;\">\n",
       "      <th></th>\n",
       "      <th>last_price</th>\n",
       "      <th>total_area</th>\n",
       "      <th>first_day_exposition</th>\n",
       "      <th>rooms</th>\n",
       "      <th>ceiling_height</th>\n",
       "      <th>floors_total</th>\n",
       "      <th>living_area</th>\n",
       "      <th>floor</th>\n",
       "      <th>kitchen_area</th>\n",
       "      <th>balcony</th>\n",
       "      <th>locality_name</th>\n",
       "      <th>airports_nearest</th>\n",
       "      <th>cityCenters_nearest</th>\n",
       "      <th>parks_around3000</th>\n",
       "      <th>parks_nearest</th>\n",
       "      <th>ponds_around3000</th>\n",
       "      <th>ponds_nearest</th>\n",
       "      <th>days_exposition</th>\n",
       "    </tr>\n",
       "  </thead>\n",
       "  <tbody>\n",
       "    <tr>\n",
       "      <th>0</th>\n",
       "      <td>13000000.0</td>\n",
       "      <td>108.0</td>\n",
       "      <td>2019-03-07T00:00:00</td>\n",
       "      <td>3</td>\n",
       "      <td>2.70</td>\n",
       "      <td>16.0</td>\n",
       "      <td>51.0</td>\n",
       "      <td>8</td>\n",
       "      <td>25.0</td>\n",
       "      <td>0</td>\n",
       "      <td>Санкт-Петербург</td>\n",
       "      <td>18863</td>\n",
       "      <td>16028</td>\n",
       "      <td>1</td>\n",
       "      <td>482</td>\n",
       "      <td>2</td>\n",
       "      <td>755</td>\n",
       "      <td>-1</td>\n",
       "    </tr>\n",
       "    <tr>\n",
       "      <th>1</th>\n",
       "      <td>3350000.0</td>\n",
       "      <td>40.4</td>\n",
       "      <td>2018-12-04T00:00:00</td>\n",
       "      <td>1</td>\n",
       "      <td>2.65</td>\n",
       "      <td>11.0</td>\n",
       "      <td>18.6</td>\n",
       "      <td>1</td>\n",
       "      <td>11.0</td>\n",
       "      <td>2</td>\n",
       "      <td>посёлок Шушары</td>\n",
       "      <td>12817</td>\n",
       "      <td>18603</td>\n",
       "      <td>0</td>\n",
       "      <td>-1</td>\n",
       "      <td>0</td>\n",
       "      <td>584</td>\n",
       "      <td>81</td>\n",
       "    </tr>\n",
       "    <tr>\n",
       "      <th>2</th>\n",
       "      <td>5196000.0</td>\n",
       "      <td>56.0</td>\n",
       "      <td>2015-08-20T00:00:00</td>\n",
       "      <td>2</td>\n",
       "      <td>2.65</td>\n",
       "      <td>5.0</td>\n",
       "      <td>34.3</td>\n",
       "      <td>4</td>\n",
       "      <td>8.3</td>\n",
       "      <td>0</td>\n",
       "      <td>Санкт-Петербург</td>\n",
       "      <td>21741</td>\n",
       "      <td>13933</td>\n",
       "      <td>1</td>\n",
       "      <td>90</td>\n",
       "      <td>2</td>\n",
       "      <td>574</td>\n",
       "      <td>558</td>\n",
       "    </tr>\n",
       "    <tr>\n",
       "      <th>3</th>\n",
       "      <td>64900000.0</td>\n",
       "      <td>159.0</td>\n",
       "      <td>2015-07-24T00:00:00</td>\n",
       "      <td>3</td>\n",
       "      <td>2.65</td>\n",
       "      <td>14.0</td>\n",
       "      <td>149.9</td>\n",
       "      <td>9</td>\n",
       "      <td>9.1</td>\n",
       "      <td>0</td>\n",
       "      <td>Санкт-Петербург</td>\n",
       "      <td>28098</td>\n",
       "      <td>6800</td>\n",
       "      <td>2</td>\n",
       "      <td>84</td>\n",
       "      <td>3</td>\n",
       "      <td>234</td>\n",
       "      <td>424</td>\n",
       "    </tr>\n",
       "    <tr>\n",
       "      <th>4</th>\n",
       "      <td>10000000.0</td>\n",
       "      <td>100.0</td>\n",
       "      <td>2018-06-19T00:00:00</td>\n",
       "      <td>2</td>\n",
       "      <td>3.03</td>\n",
       "      <td>14.0</td>\n",
       "      <td>32.0</td>\n",
       "      <td>13</td>\n",
       "      <td>41.0</td>\n",
       "      <td>0</td>\n",
       "      <td>Санкт-Петербург</td>\n",
       "      <td>31856</td>\n",
       "      <td>8098</td>\n",
       "      <td>2</td>\n",
       "      <td>112</td>\n",
       "      <td>1</td>\n",
       "      <td>48</td>\n",
       "      <td>121</td>\n",
       "    </tr>\n",
       "  </tbody>\n",
       "</table>\n",
       "</div>"
      ],
      "text/plain": [
       "   last_price  total_area first_day_exposition  rooms  ceiling_height  \\\n",
       "0  13000000.0       108.0  2019-03-07T00:00:00      3            2.70   \n",
       "1   3350000.0        40.4  2018-12-04T00:00:00      1            2.65   \n",
       "2   5196000.0        56.0  2015-08-20T00:00:00      2            2.65   \n",
       "3  64900000.0       159.0  2015-07-24T00:00:00      3            2.65   \n",
       "4  10000000.0       100.0  2018-06-19T00:00:00      2            3.03   \n",
       "\n",
       "   floors_total  living_area  floor  kitchen_area  balcony    locality_name  \\\n",
       "0          16.0         51.0      8          25.0        0  Санкт-Петербург   \n",
       "1          11.0         18.6      1          11.0        2   посёлок Шушары   \n",
       "2           5.0         34.3      4           8.3        0  Санкт-Петербург   \n",
       "3          14.0        149.9      9           9.1        0  Санкт-Петербург   \n",
       "4          14.0         32.0     13          41.0        0  Санкт-Петербург   \n",
       "\n",
       "   airports_nearest  cityCenters_nearest  parks_around3000  parks_nearest  \\\n",
       "0             18863                16028                 1            482   \n",
       "1             12817                18603                 0             -1   \n",
       "2             21741                13933                 1             90   \n",
       "3             28098                 6800                 2             84   \n",
       "4             31856                 8098                 2            112   \n",
       "\n",
       "   ponds_around3000  ponds_nearest  days_exposition  \n",
       "0                 2            755               -1  \n",
       "1                 0            584               81  \n",
       "2                 2            574              558  \n",
       "3                 3            234              424  \n",
       "4                 1             48              121  "
      ]
     },
     "execution_count": 15,
     "metadata": {},
     "output_type": "execute_result"
    }
   ],
   "source": [
    "df.head()"
   ]
  },
  {
   "cell_type": "markdown",
   "metadata": {},
   "source": [
    "### Cтолбец last_price\n",
    "\n",
    "Тип данных в столбце поменяем на int"
   ]
  },
  {
   "cell_type": "code",
   "execution_count": 16,
   "metadata": {},
   "outputs": [
    {
     "data": {
      "text/html": [
       "<div>\n",
       "<style scoped>\n",
       "    .dataframe tbody tr th:only-of-type {\n",
       "        vertical-align: middle;\n",
       "    }\n",
       "\n",
       "    .dataframe tbody tr th {\n",
       "        vertical-align: top;\n",
       "    }\n",
       "\n",
       "    .dataframe thead th {\n",
       "        text-align: right;\n",
       "    }\n",
       "</style>\n",
       "<table border=\"1\" class=\"dataframe\">\n",
       "  <thead>\n",
       "    <tr style=\"text-align: right;\">\n",
       "      <th></th>\n",
       "      <th>last_price</th>\n",
       "      <th>total_area</th>\n",
       "      <th>first_day_exposition</th>\n",
       "      <th>rooms</th>\n",
       "      <th>ceiling_height</th>\n",
       "      <th>floors_total</th>\n",
       "      <th>living_area</th>\n",
       "      <th>floor</th>\n",
       "      <th>kitchen_area</th>\n",
       "      <th>balcony</th>\n",
       "      <th>locality_name</th>\n",
       "      <th>airports_nearest</th>\n",
       "      <th>cityCenters_nearest</th>\n",
       "      <th>parks_around3000</th>\n",
       "      <th>parks_nearest</th>\n",
       "      <th>ponds_around3000</th>\n",
       "      <th>ponds_nearest</th>\n",
       "      <th>days_exposition</th>\n",
       "    </tr>\n",
       "  </thead>\n",
       "  <tbody>\n",
       "    <tr>\n",
       "      <th>0</th>\n",
       "      <td>13000000</td>\n",
       "      <td>108.0</td>\n",
       "      <td>2019-03-07T00:00:00</td>\n",
       "      <td>3</td>\n",
       "      <td>2.70</td>\n",
       "      <td>16.0</td>\n",
       "      <td>51.0</td>\n",
       "      <td>8</td>\n",
       "      <td>25.0</td>\n",
       "      <td>0</td>\n",
       "      <td>Санкт-Петербург</td>\n",
       "      <td>18863</td>\n",
       "      <td>16028</td>\n",
       "      <td>1</td>\n",
       "      <td>482</td>\n",
       "      <td>2</td>\n",
       "      <td>755</td>\n",
       "      <td>-1</td>\n",
       "    </tr>\n",
       "    <tr>\n",
       "      <th>1</th>\n",
       "      <td>3350000</td>\n",
       "      <td>40.4</td>\n",
       "      <td>2018-12-04T00:00:00</td>\n",
       "      <td>1</td>\n",
       "      <td>2.65</td>\n",
       "      <td>11.0</td>\n",
       "      <td>18.6</td>\n",
       "      <td>1</td>\n",
       "      <td>11.0</td>\n",
       "      <td>2</td>\n",
       "      <td>посёлок Шушары</td>\n",
       "      <td>12817</td>\n",
       "      <td>18603</td>\n",
       "      <td>0</td>\n",
       "      <td>-1</td>\n",
       "      <td>0</td>\n",
       "      <td>584</td>\n",
       "      <td>81</td>\n",
       "    </tr>\n",
       "    <tr>\n",
       "      <th>2</th>\n",
       "      <td>5196000</td>\n",
       "      <td>56.0</td>\n",
       "      <td>2015-08-20T00:00:00</td>\n",
       "      <td>2</td>\n",
       "      <td>2.65</td>\n",
       "      <td>5.0</td>\n",
       "      <td>34.3</td>\n",
       "      <td>4</td>\n",
       "      <td>8.3</td>\n",
       "      <td>0</td>\n",
       "      <td>Санкт-Петербург</td>\n",
       "      <td>21741</td>\n",
       "      <td>13933</td>\n",
       "      <td>1</td>\n",
       "      <td>90</td>\n",
       "      <td>2</td>\n",
       "      <td>574</td>\n",
       "      <td>558</td>\n",
       "    </tr>\n",
       "    <tr>\n",
       "      <th>3</th>\n",
       "      <td>64900000</td>\n",
       "      <td>159.0</td>\n",
       "      <td>2015-07-24T00:00:00</td>\n",
       "      <td>3</td>\n",
       "      <td>2.65</td>\n",
       "      <td>14.0</td>\n",
       "      <td>149.9</td>\n",
       "      <td>9</td>\n",
       "      <td>9.1</td>\n",
       "      <td>0</td>\n",
       "      <td>Санкт-Петербург</td>\n",
       "      <td>28098</td>\n",
       "      <td>6800</td>\n",
       "      <td>2</td>\n",
       "      <td>84</td>\n",
       "      <td>3</td>\n",
       "      <td>234</td>\n",
       "      <td>424</td>\n",
       "    </tr>\n",
       "    <tr>\n",
       "      <th>4</th>\n",
       "      <td>10000000</td>\n",
       "      <td>100.0</td>\n",
       "      <td>2018-06-19T00:00:00</td>\n",
       "      <td>2</td>\n",
       "      <td>3.03</td>\n",
       "      <td>14.0</td>\n",
       "      <td>32.0</td>\n",
       "      <td>13</td>\n",
       "      <td>41.0</td>\n",
       "      <td>0</td>\n",
       "      <td>Санкт-Петербург</td>\n",
       "      <td>31856</td>\n",
       "      <td>8098</td>\n",
       "      <td>2</td>\n",
       "      <td>112</td>\n",
       "      <td>1</td>\n",
       "      <td>48</td>\n",
       "      <td>121</td>\n",
       "    </tr>\n",
       "  </tbody>\n",
       "</table>\n",
       "</div>"
      ],
      "text/plain": [
       "   last_price  total_area first_day_exposition  rooms  ceiling_height  \\\n",
       "0    13000000       108.0  2019-03-07T00:00:00      3            2.70   \n",
       "1     3350000        40.4  2018-12-04T00:00:00      1            2.65   \n",
       "2     5196000        56.0  2015-08-20T00:00:00      2            2.65   \n",
       "3    64900000       159.0  2015-07-24T00:00:00      3            2.65   \n",
       "4    10000000       100.0  2018-06-19T00:00:00      2            3.03   \n",
       "\n",
       "   floors_total  living_area  floor  kitchen_area  balcony    locality_name  \\\n",
       "0          16.0         51.0      8          25.0        0  Санкт-Петербург   \n",
       "1          11.0         18.6      1          11.0        2   посёлок Шушары   \n",
       "2           5.0         34.3      4           8.3        0  Санкт-Петербург   \n",
       "3          14.0        149.9      9           9.1        0  Санкт-Петербург   \n",
       "4          14.0         32.0     13          41.0        0  Санкт-Петербург   \n",
       "\n",
       "   airports_nearest  cityCenters_nearest  parks_around3000  parks_nearest  \\\n",
       "0             18863                16028                 1            482   \n",
       "1             12817                18603                 0             -1   \n",
       "2             21741                13933                 1             90   \n",
       "3             28098                 6800                 2             84   \n",
       "4             31856                 8098                 2            112   \n",
       "\n",
       "   ponds_around3000  ponds_nearest  days_exposition  \n",
       "0                 2            755               -1  \n",
       "1                 0            584               81  \n",
       "2                 2            574              558  \n",
       "3                 3            234              424  \n",
       "4                 1             48              121  "
      ]
     },
     "execution_count": 16,
     "metadata": {},
     "output_type": "execute_result"
    }
   ],
   "source": [
    "df['last_price'] = df['last_price'].astype('int')\n",
    "df.head()"
   ]
  },
  {
   "cell_type": "markdown",
   "metadata": {},
   "source": [
    "### Столбец first_day_exposition\n",
    "Поменяем тип данных в столбце на datetime."
   ]
  },
  {
   "cell_type": "code",
   "execution_count": 17,
   "metadata": {},
   "outputs": [
    {
     "name": "stdout",
     "output_type": "stream",
     "text": [
      "<class 'pandas.core.frame.DataFrame'>\n",
      "Int64Index: 23417 entries, 0 to 23698\n",
      "Data columns (total 18 columns):\n",
      " #   Column                Non-Null Count  Dtype         \n",
      "---  ------                --------------  -----         \n",
      " 0   last_price            23417 non-null  int64         \n",
      " 1   total_area            23417 non-null  float64       \n",
      " 2   first_day_exposition  23417 non-null  datetime64[ns]\n",
      " 3   rooms                 23417 non-null  int64         \n",
      " 4   ceiling_height        23417 non-null  float64       \n",
      " 5   floors_total          23417 non-null  float64       \n",
      " 6   living_area           23417 non-null  float64       \n",
      " 7   floor                 23417 non-null  int64         \n",
      " 8   kitchen_area          23417 non-null  float64       \n",
      " 9   balcony               23417 non-null  int64         \n",
      " 10  locality_name         23417 non-null  object        \n",
      " 11  airports_nearest      23417 non-null  int64         \n",
      " 12  cityCenters_nearest   23417 non-null  int64         \n",
      " 13  parks_around3000      23417 non-null  int64         \n",
      " 14  parks_nearest         23417 non-null  int64         \n",
      " 15  ponds_around3000      23417 non-null  int64         \n",
      " 16  ponds_nearest         23417 non-null  int64         \n",
      " 17  days_exposition       23417 non-null  int64         \n",
      "dtypes: datetime64[ns](1), float64(5), int64(11), object(1)\n",
      "memory usage: 3.4+ MB\n"
     ]
    }
   ],
   "source": [
    "df['first_day_exposition'] = pd.to_datetime(df['first_day_exposition'], format=\"%Y%m%dT%H:%M:%S\")\n",
    "df.info()"
   ]
  },
  {
   "cell_type": "markdown",
   "metadata": {},
   "source": [
    "**Вывод**\n",
    "1. В столбце ceiling_height удалены аномально большие и маленькие значения, а пропуски приведены к медиане.\n",
    "2. Столбцы total_images, is_apartment, studio и open_plan удалены из датасета, т.к их данные не важны для исследования\n",
    "3. Пропуски в столбцах balcony, parks_around3000 и ponds_around3000 заменены на нули, т.к сами пропуски означали отсутствие балконов, парков, прудов в радиусе 3км от квартиры\n",
    "4. Пропуски в столбцах airports_nearest, cityCenters_nearest, parks_nearest, ponds_nearest, где было возможно заменены на медианные значения, сгрупированные по названию насленного пункта, в иных случаях были заменены на -1\n",
    "5. Пропуски в days_exposition означают, что объявление все еще актуально, и заменены на -1\n",
    "6. Пустые значения в kitchen_area заменены на медиану\n",
    "7. Пустые значение в living_area были заменены на разность общей площади квартиры и площади кухни\n",
    "8. Изменен тип данных на datetime\n",
    "9. В большинстве столбцов тип данных был заменен на целочисленный\n"
   ]
  },
  {
   "cell_type": "markdown",
   "metadata": {},
   "source": [
    "## Расчёты и добавление результатов в таблицу"
   ]
  },
  {
   "cell_type": "markdown",
   "metadata": {},
   "source": [
    "### Цена квадратного метра"
   ]
  },
  {
   "cell_type": "code",
   "execution_count": 18,
   "metadata": {},
   "outputs": [
    {
     "data": {
      "text/html": [
       "<div>\n",
       "<style scoped>\n",
       "    .dataframe tbody tr th:only-of-type {\n",
       "        vertical-align: middle;\n",
       "    }\n",
       "\n",
       "    .dataframe tbody tr th {\n",
       "        vertical-align: top;\n",
       "    }\n",
       "\n",
       "    .dataframe thead th {\n",
       "        text-align: right;\n",
       "    }\n",
       "</style>\n",
       "<table border=\"1\" class=\"dataframe\">\n",
       "  <thead>\n",
       "    <tr style=\"text-align: right;\">\n",
       "      <th></th>\n",
       "      <th>last_price</th>\n",
       "      <th>total_area</th>\n",
       "      <th>first_day_exposition</th>\n",
       "      <th>rooms</th>\n",
       "      <th>ceiling_height</th>\n",
       "      <th>floors_total</th>\n",
       "      <th>living_area</th>\n",
       "      <th>floor</th>\n",
       "      <th>kitchen_area</th>\n",
       "      <th>balcony</th>\n",
       "      <th>locality_name</th>\n",
       "      <th>airports_nearest</th>\n",
       "      <th>cityCenters_nearest</th>\n",
       "      <th>parks_around3000</th>\n",
       "      <th>parks_nearest</th>\n",
       "      <th>ponds_around3000</th>\n",
       "      <th>ponds_nearest</th>\n",
       "      <th>days_exposition</th>\n",
       "      <th>price_for_m2</th>\n",
       "    </tr>\n",
       "  </thead>\n",
       "  <tbody>\n",
       "    <tr>\n",
       "      <th>0</th>\n",
       "      <td>13000000</td>\n",
       "      <td>108.0</td>\n",
       "      <td>2019-03-07</td>\n",
       "      <td>3</td>\n",
       "      <td>2.70</td>\n",
       "      <td>16.0</td>\n",
       "      <td>51.0</td>\n",
       "      <td>8</td>\n",
       "      <td>25.0</td>\n",
       "      <td>0</td>\n",
       "      <td>Санкт-Петербург</td>\n",
       "      <td>18863</td>\n",
       "      <td>16028</td>\n",
       "      <td>1</td>\n",
       "      <td>482</td>\n",
       "      <td>2</td>\n",
       "      <td>755</td>\n",
       "      <td>-1</td>\n",
       "      <td>120370</td>\n",
       "    </tr>\n",
       "    <tr>\n",
       "      <th>1</th>\n",
       "      <td>3350000</td>\n",
       "      <td>40.4</td>\n",
       "      <td>2018-12-04</td>\n",
       "      <td>1</td>\n",
       "      <td>2.65</td>\n",
       "      <td>11.0</td>\n",
       "      <td>18.6</td>\n",
       "      <td>1</td>\n",
       "      <td>11.0</td>\n",
       "      <td>2</td>\n",
       "      <td>посёлок Шушары</td>\n",
       "      <td>12817</td>\n",
       "      <td>18603</td>\n",
       "      <td>0</td>\n",
       "      <td>-1</td>\n",
       "      <td>0</td>\n",
       "      <td>584</td>\n",
       "      <td>81</td>\n",
       "      <td>82920</td>\n",
       "    </tr>\n",
       "    <tr>\n",
       "      <th>2</th>\n",
       "      <td>5196000</td>\n",
       "      <td>56.0</td>\n",
       "      <td>2015-08-20</td>\n",
       "      <td>2</td>\n",
       "      <td>2.65</td>\n",
       "      <td>5.0</td>\n",
       "      <td>34.3</td>\n",
       "      <td>4</td>\n",
       "      <td>8.3</td>\n",
       "      <td>0</td>\n",
       "      <td>Санкт-Петербург</td>\n",
       "      <td>21741</td>\n",
       "      <td>13933</td>\n",
       "      <td>1</td>\n",
       "      <td>90</td>\n",
       "      <td>2</td>\n",
       "      <td>574</td>\n",
       "      <td>558</td>\n",
       "      <td>92785</td>\n",
       "    </tr>\n",
       "    <tr>\n",
       "      <th>3</th>\n",
       "      <td>64900000</td>\n",
       "      <td>159.0</td>\n",
       "      <td>2015-07-24</td>\n",
       "      <td>3</td>\n",
       "      <td>2.65</td>\n",
       "      <td>14.0</td>\n",
       "      <td>149.9</td>\n",
       "      <td>9</td>\n",
       "      <td>9.1</td>\n",
       "      <td>0</td>\n",
       "      <td>Санкт-Петербург</td>\n",
       "      <td>28098</td>\n",
       "      <td>6800</td>\n",
       "      <td>2</td>\n",
       "      <td>84</td>\n",
       "      <td>3</td>\n",
       "      <td>234</td>\n",
       "      <td>424</td>\n",
       "      <td>408176</td>\n",
       "    </tr>\n",
       "    <tr>\n",
       "      <th>4</th>\n",
       "      <td>10000000</td>\n",
       "      <td>100.0</td>\n",
       "      <td>2018-06-19</td>\n",
       "      <td>2</td>\n",
       "      <td>3.03</td>\n",
       "      <td>14.0</td>\n",
       "      <td>32.0</td>\n",
       "      <td>13</td>\n",
       "      <td>41.0</td>\n",
       "      <td>0</td>\n",
       "      <td>Санкт-Петербург</td>\n",
       "      <td>31856</td>\n",
       "      <td>8098</td>\n",
       "      <td>2</td>\n",
       "      <td>112</td>\n",
       "      <td>1</td>\n",
       "      <td>48</td>\n",
       "      <td>121</td>\n",
       "      <td>100000</td>\n",
       "    </tr>\n",
       "  </tbody>\n",
       "</table>\n",
       "</div>"
      ],
      "text/plain": [
       "   last_price  total_area first_day_exposition  rooms  ceiling_height  \\\n",
       "0    13000000       108.0           2019-03-07      3            2.70   \n",
       "1     3350000        40.4           2018-12-04      1            2.65   \n",
       "2     5196000        56.0           2015-08-20      2            2.65   \n",
       "3    64900000       159.0           2015-07-24      3            2.65   \n",
       "4    10000000       100.0           2018-06-19      2            3.03   \n",
       "\n",
       "   floors_total  living_area  floor  kitchen_area  balcony    locality_name  \\\n",
       "0          16.0         51.0      8          25.0        0  Санкт-Петербург   \n",
       "1          11.0         18.6      1          11.0        2   посёлок Шушары   \n",
       "2           5.0         34.3      4           8.3        0  Санкт-Петербург   \n",
       "3          14.0        149.9      9           9.1        0  Санкт-Петербург   \n",
       "4          14.0         32.0     13          41.0        0  Санкт-Петербург   \n",
       "\n",
       "   airports_nearest  cityCenters_nearest  parks_around3000  parks_nearest  \\\n",
       "0             18863                16028                 1            482   \n",
       "1             12817                18603                 0             -1   \n",
       "2             21741                13933                 1             90   \n",
       "3             28098                 6800                 2             84   \n",
       "4             31856                 8098                 2            112   \n",
       "\n",
       "   ponds_around3000  ponds_nearest  days_exposition  price_for_m2  \n",
       "0                 2            755               -1        120370  \n",
       "1                 0            584               81         82920  \n",
       "2                 2            574              558         92785  \n",
       "3                 3            234              424        408176  \n",
       "4                 1             48              121        100000  "
      ]
     },
     "execution_count": 18,
     "metadata": {},
     "output_type": "execute_result"
    }
   ],
   "source": [
    "df['price_for_m2'] = df['last_price'] / df['total_area']\n",
    "df['price_for_m2'] = df['price_for_m2'].astype('int')\n",
    "df.head()"
   ]
  },
  {
   "cell_type": "markdown",
   "metadata": {},
   "source": [
    "### День недели, месяц и год публикации объявления"
   ]
  },
  {
   "cell_type": "code",
   "execution_count": 19,
   "metadata": {},
   "outputs": [
    {
     "data": {
      "text/html": [
       "<div>\n",
       "<style scoped>\n",
       "    .dataframe tbody tr th:only-of-type {\n",
       "        vertical-align: middle;\n",
       "    }\n",
       "\n",
       "    .dataframe tbody tr th {\n",
       "        vertical-align: top;\n",
       "    }\n",
       "\n",
       "    .dataframe thead th {\n",
       "        text-align: right;\n",
       "    }\n",
       "</style>\n",
       "<table border=\"1\" class=\"dataframe\">\n",
       "  <thead>\n",
       "    <tr style=\"text-align: right;\">\n",
       "      <th></th>\n",
       "      <th>last_price</th>\n",
       "      <th>total_area</th>\n",
       "      <th>first_day_exposition</th>\n",
       "      <th>rooms</th>\n",
       "      <th>ceiling_height</th>\n",
       "      <th>floors_total</th>\n",
       "      <th>living_area</th>\n",
       "      <th>floor</th>\n",
       "      <th>kitchen_area</th>\n",
       "      <th>balcony</th>\n",
       "      <th>locality_name</th>\n",
       "      <th>airports_nearest</th>\n",
       "      <th>cityCenters_nearest</th>\n",
       "      <th>parks_around3000</th>\n",
       "      <th>parks_nearest</th>\n",
       "      <th>ponds_around3000</th>\n",
       "      <th>ponds_nearest</th>\n",
       "      <th>days_exposition</th>\n",
       "      <th>price_for_m2</th>\n",
       "      <th>weekday</th>\n",
       "      <th>month</th>\n",
       "      <th>year</th>\n",
       "    </tr>\n",
       "  </thead>\n",
       "  <tbody>\n",
       "    <tr>\n",
       "      <th>0</th>\n",
       "      <td>13000000</td>\n",
       "      <td>108.0</td>\n",
       "      <td>2019-03-07</td>\n",
       "      <td>3</td>\n",
       "      <td>2.70</td>\n",
       "      <td>16.0</td>\n",
       "      <td>51.0</td>\n",
       "      <td>8</td>\n",
       "      <td>25.0</td>\n",
       "      <td>0</td>\n",
       "      <td>Санкт-Петербург</td>\n",
       "      <td>18863</td>\n",
       "      <td>16028</td>\n",
       "      <td>1</td>\n",
       "      <td>482</td>\n",
       "      <td>2</td>\n",
       "      <td>755</td>\n",
       "      <td>-1</td>\n",
       "      <td>120370</td>\n",
       "      <td>3</td>\n",
       "      <td>3</td>\n",
       "      <td>2019</td>\n",
       "    </tr>\n",
       "    <tr>\n",
       "      <th>1</th>\n",
       "      <td>3350000</td>\n",
       "      <td>40.4</td>\n",
       "      <td>2018-12-04</td>\n",
       "      <td>1</td>\n",
       "      <td>2.65</td>\n",
       "      <td>11.0</td>\n",
       "      <td>18.6</td>\n",
       "      <td>1</td>\n",
       "      <td>11.0</td>\n",
       "      <td>2</td>\n",
       "      <td>посёлок Шушары</td>\n",
       "      <td>12817</td>\n",
       "      <td>18603</td>\n",
       "      <td>0</td>\n",
       "      <td>-1</td>\n",
       "      <td>0</td>\n",
       "      <td>584</td>\n",
       "      <td>81</td>\n",
       "      <td>82920</td>\n",
       "      <td>1</td>\n",
       "      <td>12</td>\n",
       "      <td>2018</td>\n",
       "    </tr>\n",
       "    <tr>\n",
       "      <th>2</th>\n",
       "      <td>5196000</td>\n",
       "      <td>56.0</td>\n",
       "      <td>2015-08-20</td>\n",
       "      <td>2</td>\n",
       "      <td>2.65</td>\n",
       "      <td>5.0</td>\n",
       "      <td>34.3</td>\n",
       "      <td>4</td>\n",
       "      <td>8.3</td>\n",
       "      <td>0</td>\n",
       "      <td>Санкт-Петербург</td>\n",
       "      <td>21741</td>\n",
       "      <td>13933</td>\n",
       "      <td>1</td>\n",
       "      <td>90</td>\n",
       "      <td>2</td>\n",
       "      <td>574</td>\n",
       "      <td>558</td>\n",
       "      <td>92785</td>\n",
       "      <td>3</td>\n",
       "      <td>8</td>\n",
       "      <td>2015</td>\n",
       "    </tr>\n",
       "    <tr>\n",
       "      <th>3</th>\n",
       "      <td>64900000</td>\n",
       "      <td>159.0</td>\n",
       "      <td>2015-07-24</td>\n",
       "      <td>3</td>\n",
       "      <td>2.65</td>\n",
       "      <td>14.0</td>\n",
       "      <td>149.9</td>\n",
       "      <td>9</td>\n",
       "      <td>9.1</td>\n",
       "      <td>0</td>\n",
       "      <td>Санкт-Петербург</td>\n",
       "      <td>28098</td>\n",
       "      <td>6800</td>\n",
       "      <td>2</td>\n",
       "      <td>84</td>\n",
       "      <td>3</td>\n",
       "      <td>234</td>\n",
       "      <td>424</td>\n",
       "      <td>408176</td>\n",
       "      <td>4</td>\n",
       "      <td>7</td>\n",
       "      <td>2015</td>\n",
       "    </tr>\n",
       "    <tr>\n",
       "      <th>4</th>\n",
       "      <td>10000000</td>\n",
       "      <td>100.0</td>\n",
       "      <td>2018-06-19</td>\n",
       "      <td>2</td>\n",
       "      <td>3.03</td>\n",
       "      <td>14.0</td>\n",
       "      <td>32.0</td>\n",
       "      <td>13</td>\n",
       "      <td>41.0</td>\n",
       "      <td>0</td>\n",
       "      <td>Санкт-Петербург</td>\n",
       "      <td>31856</td>\n",
       "      <td>8098</td>\n",
       "      <td>2</td>\n",
       "      <td>112</td>\n",
       "      <td>1</td>\n",
       "      <td>48</td>\n",
       "      <td>121</td>\n",
       "      <td>100000</td>\n",
       "      <td>1</td>\n",
       "      <td>6</td>\n",
       "      <td>2018</td>\n",
       "    </tr>\n",
       "  </tbody>\n",
       "</table>\n",
       "</div>"
      ],
      "text/plain": [
       "   last_price  total_area first_day_exposition  rooms  ceiling_height  \\\n",
       "0    13000000       108.0           2019-03-07      3            2.70   \n",
       "1     3350000        40.4           2018-12-04      1            2.65   \n",
       "2     5196000        56.0           2015-08-20      2            2.65   \n",
       "3    64900000       159.0           2015-07-24      3            2.65   \n",
       "4    10000000       100.0           2018-06-19      2            3.03   \n",
       "\n",
       "   floors_total  living_area  floor  kitchen_area  balcony    locality_name  \\\n",
       "0          16.0         51.0      8          25.0        0  Санкт-Петербург   \n",
       "1          11.0         18.6      1          11.0        2   посёлок Шушары   \n",
       "2           5.0         34.3      4           8.3        0  Санкт-Петербург   \n",
       "3          14.0        149.9      9           9.1        0  Санкт-Петербург   \n",
       "4          14.0         32.0     13          41.0        0  Санкт-Петербург   \n",
       "\n",
       "   airports_nearest  cityCenters_nearest  parks_around3000  parks_nearest  \\\n",
       "0             18863                16028                 1            482   \n",
       "1             12817                18603                 0             -1   \n",
       "2             21741                13933                 1             90   \n",
       "3             28098                 6800                 2             84   \n",
       "4             31856                 8098                 2            112   \n",
       "\n",
       "   ponds_around3000  ponds_nearest  days_exposition  price_for_m2  weekday  \\\n",
       "0                 2            755               -1        120370        3   \n",
       "1                 0            584               81         82920        1   \n",
       "2                 2            574              558         92785        3   \n",
       "3                 3            234              424        408176        4   \n",
       "4                 1             48              121        100000        1   \n",
       "\n",
       "   month  year  \n",
       "0      3  2019  \n",
       "1     12  2018  \n",
       "2      8  2015  \n",
       "3      7  2015  \n",
       "4      6  2018  "
      ]
     },
     "execution_count": 19,
     "metadata": {},
     "output_type": "execute_result"
    }
   ],
   "source": [
    "df['weekday'] = df['first_day_exposition'].dt.weekday\n",
    "df['month'] = df['first_day_exposition'].dt.month\n",
    "df['year'] = df['first_day_exposition'].dt.year\n",
    "df.head()"
   ]
  },
  {
   "cell_type": "markdown",
   "metadata": {},
   "source": [
    "### Этаж квартиры"
   ]
  },
  {
   "cell_type": "code",
   "execution_count": 20,
   "metadata": {},
   "outputs": [
    {
     "data": {
      "text/html": [
       "<div>\n",
       "<style scoped>\n",
       "    .dataframe tbody tr th:only-of-type {\n",
       "        vertical-align: middle;\n",
       "    }\n",
       "\n",
       "    .dataframe tbody tr th {\n",
       "        vertical-align: top;\n",
       "    }\n",
       "\n",
       "    .dataframe thead th {\n",
       "        text-align: right;\n",
       "    }\n",
       "</style>\n",
       "<table border=\"1\" class=\"dataframe\">\n",
       "  <thead>\n",
       "    <tr style=\"text-align: right;\">\n",
       "      <th></th>\n",
       "      <th>last_price</th>\n",
       "      <th>total_area</th>\n",
       "      <th>first_day_exposition</th>\n",
       "      <th>rooms</th>\n",
       "      <th>ceiling_height</th>\n",
       "      <th>floors_total</th>\n",
       "      <th>living_area</th>\n",
       "      <th>floor</th>\n",
       "      <th>kitchen_area</th>\n",
       "      <th>balcony</th>\n",
       "      <th>locality_name</th>\n",
       "      <th>airports_nearest</th>\n",
       "      <th>cityCenters_nearest</th>\n",
       "      <th>parks_around3000</th>\n",
       "      <th>parks_nearest</th>\n",
       "      <th>ponds_around3000</th>\n",
       "      <th>ponds_nearest</th>\n",
       "      <th>days_exposition</th>\n",
       "      <th>price_for_m2</th>\n",
       "      <th>weekday</th>\n",
       "      <th>month</th>\n",
       "      <th>year</th>\n",
       "      <th>floor_category</th>\n",
       "    </tr>\n",
       "  </thead>\n",
       "  <tbody>\n",
       "    <tr>\n",
       "      <th>0</th>\n",
       "      <td>13000000</td>\n",
       "      <td>108.0</td>\n",
       "      <td>2019-03-07</td>\n",
       "      <td>3</td>\n",
       "      <td>2.70</td>\n",
       "      <td>16.0</td>\n",
       "      <td>51.0</td>\n",
       "      <td>8</td>\n",
       "      <td>25.0</td>\n",
       "      <td>0</td>\n",
       "      <td>Санкт-Петербург</td>\n",
       "      <td>18863</td>\n",
       "      <td>16028</td>\n",
       "      <td>1</td>\n",
       "      <td>482</td>\n",
       "      <td>2</td>\n",
       "      <td>755</td>\n",
       "      <td>-1</td>\n",
       "      <td>120370</td>\n",
       "      <td>3</td>\n",
       "      <td>3</td>\n",
       "      <td>2019</td>\n",
       "      <td>другой</td>\n",
       "    </tr>\n",
       "    <tr>\n",
       "      <th>1</th>\n",
       "      <td>3350000</td>\n",
       "      <td>40.4</td>\n",
       "      <td>2018-12-04</td>\n",
       "      <td>1</td>\n",
       "      <td>2.65</td>\n",
       "      <td>11.0</td>\n",
       "      <td>18.6</td>\n",
       "      <td>1</td>\n",
       "      <td>11.0</td>\n",
       "      <td>2</td>\n",
       "      <td>посёлок Шушары</td>\n",
       "      <td>12817</td>\n",
       "      <td>18603</td>\n",
       "      <td>0</td>\n",
       "      <td>-1</td>\n",
       "      <td>0</td>\n",
       "      <td>584</td>\n",
       "      <td>81</td>\n",
       "      <td>82920</td>\n",
       "      <td>1</td>\n",
       "      <td>12</td>\n",
       "      <td>2018</td>\n",
       "      <td>первый</td>\n",
       "    </tr>\n",
       "    <tr>\n",
       "      <th>2</th>\n",
       "      <td>5196000</td>\n",
       "      <td>56.0</td>\n",
       "      <td>2015-08-20</td>\n",
       "      <td>2</td>\n",
       "      <td>2.65</td>\n",
       "      <td>5.0</td>\n",
       "      <td>34.3</td>\n",
       "      <td>4</td>\n",
       "      <td>8.3</td>\n",
       "      <td>0</td>\n",
       "      <td>Санкт-Петербург</td>\n",
       "      <td>21741</td>\n",
       "      <td>13933</td>\n",
       "      <td>1</td>\n",
       "      <td>90</td>\n",
       "      <td>2</td>\n",
       "      <td>574</td>\n",
       "      <td>558</td>\n",
       "      <td>92785</td>\n",
       "      <td>3</td>\n",
       "      <td>8</td>\n",
       "      <td>2015</td>\n",
       "      <td>другой</td>\n",
       "    </tr>\n",
       "    <tr>\n",
       "      <th>3</th>\n",
       "      <td>64900000</td>\n",
       "      <td>159.0</td>\n",
       "      <td>2015-07-24</td>\n",
       "      <td>3</td>\n",
       "      <td>2.65</td>\n",
       "      <td>14.0</td>\n",
       "      <td>149.9</td>\n",
       "      <td>9</td>\n",
       "      <td>9.1</td>\n",
       "      <td>0</td>\n",
       "      <td>Санкт-Петербург</td>\n",
       "      <td>28098</td>\n",
       "      <td>6800</td>\n",
       "      <td>2</td>\n",
       "      <td>84</td>\n",
       "      <td>3</td>\n",
       "      <td>234</td>\n",
       "      <td>424</td>\n",
       "      <td>408176</td>\n",
       "      <td>4</td>\n",
       "      <td>7</td>\n",
       "      <td>2015</td>\n",
       "      <td>другой</td>\n",
       "    </tr>\n",
       "    <tr>\n",
       "      <th>4</th>\n",
       "      <td>10000000</td>\n",
       "      <td>100.0</td>\n",
       "      <td>2018-06-19</td>\n",
       "      <td>2</td>\n",
       "      <td>3.03</td>\n",
       "      <td>14.0</td>\n",
       "      <td>32.0</td>\n",
       "      <td>13</td>\n",
       "      <td>41.0</td>\n",
       "      <td>0</td>\n",
       "      <td>Санкт-Петербург</td>\n",
       "      <td>31856</td>\n",
       "      <td>8098</td>\n",
       "      <td>2</td>\n",
       "      <td>112</td>\n",
       "      <td>1</td>\n",
       "      <td>48</td>\n",
       "      <td>121</td>\n",
       "      <td>100000</td>\n",
       "      <td>1</td>\n",
       "      <td>6</td>\n",
       "      <td>2018</td>\n",
       "      <td>другой</td>\n",
       "    </tr>\n",
       "  </tbody>\n",
       "</table>\n",
       "</div>"
      ],
      "text/plain": [
       "   last_price  total_area first_day_exposition  rooms  ceiling_height  \\\n",
       "0    13000000       108.0           2019-03-07      3            2.70   \n",
       "1     3350000        40.4           2018-12-04      1            2.65   \n",
       "2     5196000        56.0           2015-08-20      2            2.65   \n",
       "3    64900000       159.0           2015-07-24      3            2.65   \n",
       "4    10000000       100.0           2018-06-19      2            3.03   \n",
       "\n",
       "   floors_total  living_area  floor  kitchen_area  balcony    locality_name  \\\n",
       "0          16.0         51.0      8          25.0        0  Санкт-Петербург   \n",
       "1          11.0         18.6      1          11.0        2   посёлок Шушары   \n",
       "2           5.0         34.3      4           8.3        0  Санкт-Петербург   \n",
       "3          14.0        149.9      9           9.1        0  Санкт-Петербург   \n",
       "4          14.0         32.0     13          41.0        0  Санкт-Петербург   \n",
       "\n",
       "   airports_nearest  cityCenters_nearest  parks_around3000  parks_nearest  \\\n",
       "0             18863                16028                 1            482   \n",
       "1             12817                18603                 0             -1   \n",
       "2             21741                13933                 1             90   \n",
       "3             28098                 6800                 2             84   \n",
       "4             31856                 8098                 2            112   \n",
       "\n",
       "   ponds_around3000  ponds_nearest  days_exposition  price_for_m2  weekday  \\\n",
       "0                 2            755               -1        120370        3   \n",
       "1                 0            584               81         82920        1   \n",
       "2                 2            574              558         92785        3   \n",
       "3                 3            234              424        408176        4   \n",
       "4                 1             48              121        100000        1   \n",
       "\n",
       "   month  year floor_category  \n",
       "0      3  2019         другой  \n",
       "1     12  2018         первый  \n",
       "2      8  2015         другой  \n",
       "3      7  2015         другой  \n",
       "4      6  2018         другой  "
      ]
     },
     "execution_count": 20,
     "metadata": {},
     "output_type": "execute_result"
    }
   ],
   "source": [
    "floors_total = df['floors_total']\n",
    "\n",
    "def find_floor(row):\n",
    "    floor = row['floor']\n",
    "    if floor == 1:\n",
    "        return('первый')\n",
    "    elif floor == row['floors_total']:\n",
    "        return('последний')\n",
    "    return('другой')\n",
    "\n",
    "df['floor_category'] = df.apply(find_floor, axis=1)\n",
    "\n",
    "df.head()"
   ]
  },
  {
   "cell_type": "markdown",
   "metadata": {},
   "source": [
    "### Cоотношение жилой и общей площади, а также отношение площади кухни к общей"
   ]
  },
  {
   "cell_type": "code",
   "execution_count": 21,
   "metadata": {},
   "outputs": [
    {
     "data": {
      "text/html": [
       "<div>\n",
       "<style scoped>\n",
       "    .dataframe tbody tr th:only-of-type {\n",
       "        vertical-align: middle;\n",
       "    }\n",
       "\n",
       "    .dataframe tbody tr th {\n",
       "        vertical-align: top;\n",
       "    }\n",
       "\n",
       "    .dataframe thead th {\n",
       "        text-align: right;\n",
       "    }\n",
       "</style>\n",
       "<table border=\"1\" class=\"dataframe\">\n",
       "  <thead>\n",
       "    <tr style=\"text-align: right;\">\n",
       "      <th></th>\n",
       "      <th>last_price</th>\n",
       "      <th>total_area</th>\n",
       "      <th>first_day_exposition</th>\n",
       "      <th>rooms</th>\n",
       "      <th>ceiling_height</th>\n",
       "      <th>floors_total</th>\n",
       "      <th>living_area</th>\n",
       "      <th>floor</th>\n",
       "      <th>kitchen_area</th>\n",
       "      <th>balcony</th>\n",
       "      <th>locality_name</th>\n",
       "      <th>airports_nearest</th>\n",
       "      <th>cityCenters_nearest</th>\n",
       "      <th>parks_around3000</th>\n",
       "      <th>parks_nearest</th>\n",
       "      <th>ponds_around3000</th>\n",
       "      <th>ponds_nearest</th>\n",
       "      <th>days_exposition</th>\n",
       "      <th>price_for_m2</th>\n",
       "      <th>weekday</th>\n",
       "      <th>month</th>\n",
       "      <th>year</th>\n",
       "      <th>floor_category</th>\n",
       "      <th>area_dif</th>\n",
       "      <th>kitchen_area_dif</th>\n",
       "    </tr>\n",
       "  </thead>\n",
       "  <tbody>\n",
       "    <tr>\n",
       "      <th>0</th>\n",
       "      <td>13000000</td>\n",
       "      <td>108.0</td>\n",
       "      <td>2019-03-07</td>\n",
       "      <td>3</td>\n",
       "      <td>2.70</td>\n",
       "      <td>16.0</td>\n",
       "      <td>51.0</td>\n",
       "      <td>8</td>\n",
       "      <td>25.0</td>\n",
       "      <td>0</td>\n",
       "      <td>Санкт-Петербург</td>\n",
       "      <td>18863</td>\n",
       "      <td>16028</td>\n",
       "      <td>1</td>\n",
       "      <td>482</td>\n",
       "      <td>2</td>\n",
       "      <td>755</td>\n",
       "      <td>-1</td>\n",
       "      <td>120370</td>\n",
       "      <td>3</td>\n",
       "      <td>3</td>\n",
       "      <td>2019</td>\n",
       "      <td>другой</td>\n",
       "      <td>0.472222</td>\n",
       "      <td>0.231481</td>\n",
       "    </tr>\n",
       "    <tr>\n",
       "      <th>1</th>\n",
       "      <td>3350000</td>\n",
       "      <td>40.4</td>\n",
       "      <td>2018-12-04</td>\n",
       "      <td>1</td>\n",
       "      <td>2.65</td>\n",
       "      <td>11.0</td>\n",
       "      <td>18.6</td>\n",
       "      <td>1</td>\n",
       "      <td>11.0</td>\n",
       "      <td>2</td>\n",
       "      <td>посёлок Шушары</td>\n",
       "      <td>12817</td>\n",
       "      <td>18603</td>\n",
       "      <td>0</td>\n",
       "      <td>-1</td>\n",
       "      <td>0</td>\n",
       "      <td>584</td>\n",
       "      <td>81</td>\n",
       "      <td>82920</td>\n",
       "      <td>1</td>\n",
       "      <td>12</td>\n",
       "      <td>2018</td>\n",
       "      <td>первый</td>\n",
       "      <td>0.460396</td>\n",
       "      <td>0.272277</td>\n",
       "    </tr>\n",
       "    <tr>\n",
       "      <th>2</th>\n",
       "      <td>5196000</td>\n",
       "      <td>56.0</td>\n",
       "      <td>2015-08-20</td>\n",
       "      <td>2</td>\n",
       "      <td>2.65</td>\n",
       "      <td>5.0</td>\n",
       "      <td>34.3</td>\n",
       "      <td>4</td>\n",
       "      <td>8.3</td>\n",
       "      <td>0</td>\n",
       "      <td>Санкт-Петербург</td>\n",
       "      <td>21741</td>\n",
       "      <td>13933</td>\n",
       "      <td>1</td>\n",
       "      <td>90</td>\n",
       "      <td>2</td>\n",
       "      <td>574</td>\n",
       "      <td>558</td>\n",
       "      <td>92785</td>\n",
       "      <td>3</td>\n",
       "      <td>8</td>\n",
       "      <td>2015</td>\n",
       "      <td>другой</td>\n",
       "      <td>0.612500</td>\n",
       "      <td>0.148214</td>\n",
       "    </tr>\n",
       "    <tr>\n",
       "      <th>3</th>\n",
       "      <td>64900000</td>\n",
       "      <td>159.0</td>\n",
       "      <td>2015-07-24</td>\n",
       "      <td>3</td>\n",
       "      <td>2.65</td>\n",
       "      <td>14.0</td>\n",
       "      <td>149.9</td>\n",
       "      <td>9</td>\n",
       "      <td>9.1</td>\n",
       "      <td>0</td>\n",
       "      <td>Санкт-Петербург</td>\n",
       "      <td>28098</td>\n",
       "      <td>6800</td>\n",
       "      <td>2</td>\n",
       "      <td>84</td>\n",
       "      <td>3</td>\n",
       "      <td>234</td>\n",
       "      <td>424</td>\n",
       "      <td>408176</td>\n",
       "      <td>4</td>\n",
       "      <td>7</td>\n",
       "      <td>2015</td>\n",
       "      <td>другой</td>\n",
       "      <td>0.942767</td>\n",
       "      <td>0.057233</td>\n",
       "    </tr>\n",
       "    <tr>\n",
       "      <th>4</th>\n",
       "      <td>10000000</td>\n",
       "      <td>100.0</td>\n",
       "      <td>2018-06-19</td>\n",
       "      <td>2</td>\n",
       "      <td>3.03</td>\n",
       "      <td>14.0</td>\n",
       "      <td>32.0</td>\n",
       "      <td>13</td>\n",
       "      <td>41.0</td>\n",
       "      <td>0</td>\n",
       "      <td>Санкт-Петербург</td>\n",
       "      <td>31856</td>\n",
       "      <td>8098</td>\n",
       "      <td>2</td>\n",
       "      <td>112</td>\n",
       "      <td>1</td>\n",
       "      <td>48</td>\n",
       "      <td>121</td>\n",
       "      <td>100000</td>\n",
       "      <td>1</td>\n",
       "      <td>6</td>\n",
       "      <td>2018</td>\n",
       "      <td>другой</td>\n",
       "      <td>0.320000</td>\n",
       "      <td>0.410000</td>\n",
       "    </tr>\n",
       "  </tbody>\n",
       "</table>\n",
       "</div>"
      ],
      "text/plain": [
       "   last_price  total_area first_day_exposition  rooms  ceiling_height  \\\n",
       "0    13000000       108.0           2019-03-07      3            2.70   \n",
       "1     3350000        40.4           2018-12-04      1            2.65   \n",
       "2     5196000        56.0           2015-08-20      2            2.65   \n",
       "3    64900000       159.0           2015-07-24      3            2.65   \n",
       "4    10000000       100.0           2018-06-19      2            3.03   \n",
       "\n",
       "   floors_total  living_area  floor  kitchen_area  balcony    locality_name  \\\n",
       "0          16.0         51.0      8          25.0        0  Санкт-Петербург   \n",
       "1          11.0         18.6      1          11.0        2   посёлок Шушары   \n",
       "2           5.0         34.3      4           8.3        0  Санкт-Петербург   \n",
       "3          14.0        149.9      9           9.1        0  Санкт-Петербург   \n",
       "4          14.0         32.0     13          41.0        0  Санкт-Петербург   \n",
       "\n",
       "   airports_nearest  cityCenters_nearest  parks_around3000  parks_nearest  \\\n",
       "0             18863                16028                 1            482   \n",
       "1             12817                18603                 0             -1   \n",
       "2             21741                13933                 1             90   \n",
       "3             28098                 6800                 2             84   \n",
       "4             31856                 8098                 2            112   \n",
       "\n",
       "   ponds_around3000  ponds_nearest  days_exposition  price_for_m2  weekday  \\\n",
       "0                 2            755               -1        120370        3   \n",
       "1                 0            584               81         82920        1   \n",
       "2                 2            574              558         92785        3   \n",
       "3                 3            234              424        408176        4   \n",
       "4                 1             48              121        100000        1   \n",
       "\n",
       "   month  year floor_category  area_dif  kitchen_area_dif  \n",
       "0      3  2019         другой  0.472222          0.231481  \n",
       "1     12  2018         первый  0.460396          0.272277  \n",
       "2      8  2015         другой  0.612500          0.148214  \n",
       "3      7  2015         другой  0.942767          0.057233  \n",
       "4      6  2018         другой  0.320000          0.410000  "
      ]
     },
     "execution_count": 21,
     "metadata": {},
     "output_type": "execute_result"
    }
   ],
   "source": [
    "df['area_dif'] = df['living_area'] / df['total_area']\n",
    "df['kitchen_area_dif'] = df['kitchen_area'] / df['total_area']\n",
    "df.head()"
   ]
  },
  {
   "cell_type": "markdown",
   "metadata": {},
   "source": [
    "**Вывод**\n",
    "\n",
    "В датасет были добавлены следующие столбцы:\n",
    "1. Цена за квадратный метр (price_for_m2)\n",
    "2. День недели, месяц, год публикации объявления (weekday, month, year)\n",
    "3. Этаж квартиры(первый, последний, другой)(floor_category)\n",
    "4. Соотношение жилой и общей площади, соотношение площади кухни к общей(area_dif, kitchen_area_dif)"
   ]
  },
  {
   "cell_type": "markdown",
   "metadata": {},
   "source": [
    "## Исследовательский анализ данных\n",
    "\n",
    "Изучим параметры: площадь, цена, число комнат, высота потолков. Для автоматизации постороения гистограмм напишу функцию."
   ]
  },
  {
   "cell_type": "code",
   "execution_count": 22,
   "metadata": {},
   "outputs": [],
   "source": [
    "def drow_hist(col, xmin, xmax):\n",
    "    df[col].hist(bins=50, range=(xmin, xmax))\n",
    "\n",
    "def drow_boxplot(col, ymin=0, ymax=200):\n",
    "    plt.ylim(ymin, ymax)\n",
    "    df.boxplot(col)"
   ]
  },
  {
   "cell_type": "markdown",
   "metadata": {},
   "source": [
    "### Площадь"
   ]
  },
  {
   "cell_type": "code",
   "execution_count": 23,
   "metadata": {
    "scrolled": true
   },
   "outputs": [
    {
     "data": {
      "image/png": "[encoded data removed]",
      "text/plain": [
       "<Figure size 432x288 with 1 Axes>"
      ]
     },
     "metadata": {
      "needs_background": "light"
     },
     "output_type": "display_data"
    }
   ],
   "source": [
    "drow_hist('total_area', 0, 160)\n",
    "plt.title('Общая площадь')\n",
    "plt.xlabel('Площадь')\n",
    "plt.ylabel('Количество квартир')\n",
    "plt.show()"
   ]
  },
  {
   "cell_type": "markdown",
   "metadata": {},
   "source": [
    "На графике видно, что большая часть квартир площадью от 30 до 60 кв. метров. Больше всего квартир площадью около 45 кв.м.\n",
    "Квартир менее 25 кв.м практически нет. После 100 кв.м. число квартир все меньше"
   ]
  },
  {
   "cell_type": "markdown",
   "metadata": {},
   "source": [
    "### Цена"
   ]
  },
  {
   "cell_type": "code",
   "execution_count": 24,
   "metadata": {},
   "outputs": [
    {
     "data": {
      "image/png": "[encoded data removed]",
      "text/plain": [
       "<Figure size 432x288 with 1 Axes>"
      ]
     },
     "metadata": {
      "needs_background": "light"
     },
     "output_type": "display_data"
    }
   ],
   "source": [
    "drow_hist('last_price', 0, 20000000)\n",
    "plt.title('Стоимость')\n",
    "plt.xlabel('Стоимость')\n",
    "plt.ylabel('Количество квартир')\n",
    "plt.show()"
   ]
  },
  {
   "cell_type": "markdown",
   "metadata": {},
   "source": [
    " Видно, что больше всего квартир ценой около 3 млн. Квартир дороже 10 млн. гараздо меньше"
   ]
  },
  {
   "cell_type": "markdown",
   "metadata": {},
   "source": [
    "### Число комнат"
   ]
  },
  {
   "cell_type": "code",
   "execution_count": 25,
   "metadata": {},
   "outputs": [
    {
     "data": {
      "image/png": "[encoded data removed]",
      "text/plain": [
       "<Figure size 432x288 with 1 Axes>"
      ]
     },
     "metadata": {
      "needs_background": "light"
     },
     "output_type": "display_data"
    }
   ],
   "source": [
    "drow_hist('rooms', 0, 10)\n",
    "plt.title('Комнаты')\n",
    "plt.xlabel('Количество комнат')\n",
    "plt.ylabel('Количество квартир')\n",
    "plt.show()"
   ]
  },
  {
   "cell_type": "markdown",
   "metadata": {},
   "source": [
    "Больше всего объявлений с числом комнат от 1 до 3. На графике видно небольшое число квартир с нулем комнат - это студии."
   ]
  },
  {
   "cell_type": "markdown",
   "metadata": {},
   "source": [
    "### Высота потолка"
   ]
  },
  {
   "cell_type": "code",
   "execution_count": 26,
   "metadata": {},
   "outputs": [
    {
     "data": {
      "image/png": "[encoded data removed]",
      "text/plain": [
       "<Figure size 432x288 with 1 Axes>"
      ]
     },
     "metadata": {
      "needs_background": "light"
     },
     "output_type": "display_data"
    }
   ],
   "source": [
    "drow_hist('ceiling_height', 2, 5)\n",
    "plt.title('Высота потолка')\n",
    "plt.xlabel('Высота')\n",
    "plt.ylabel('Количество квартир')\n",
    "plt.show()"
   ]
  },
  {
   "cell_type": "markdown",
   "metadata": {},
   "source": [
    "Больше всего квартир с высотой потолков 2.6-2.7 метров, на втором месте по количеству квартир - высота потолка 2.5 метра"
   ]
  },
  {
   "cell_type": "markdown",
   "metadata": {},
   "source": [
    "### Время продажи квартиры"
   ]
  },
  {
   "cell_type": "code",
   "execution_count": 27,
   "metadata": {},
   "outputs": [
    {
     "data": {
      "image/png": "[encoded data removed]",
      "text/plain": [
       "<Figure size 432x288 with 1 Axes>"
      ]
     },
     "metadata": {
      "needs_background": "light"
     },
     "output_type": "display_data"
    }
   ],
   "source": [
    "drow_hist('days_exposition', 0, 1500)\n",
    "plt.title('Время продаж')\n",
    "plt.xlabel('Дни')\n",
    "plt.ylabel('Количество квартир')\n",
    "plt.show()"
   ]
  },
  {
   "cell_type": "markdown",
   "metadata": {},
   "source": [
    "Виден пик продаж в первые 100 дней, далее со временем количество проданных дней сокращается"
   ]
  },
  {
   "cell_type": "code",
   "execution_count": 28,
   "metadata": {},
   "outputs": [
    {
     "data": {
      "image/png": "[encoded data removed]",
      "text/plain": [
       "<Figure size 432x288 with 1 Axes>"
      ]
     },
     "metadata": {
      "needs_background": "light"
     },
     "output_type": "display_data"
    }
   ],
   "source": [
    "drow_boxplot('days_exposition', 0, 600)"
   ]
  },
  {
   "cell_type": "markdown",
   "metadata": {},
   "source": [
    "Больше всего продаж в течении двухсот дней, с момента размещения объявления. "
   ]
  },
  {
   "cell_type": "code",
   "execution_count": 29,
   "metadata": {},
   "outputs": [
    {
     "data": {
      "text/plain": [
       "count    23417.00000\n",
       "mean       156.17799\n",
       "std        213.52512\n",
       "min         -1.00000\n",
       "25%         22.00000\n",
       "50%         73.00000\n",
       "75%        198.00000\n",
       "max       1580.00000\n",
       "Name: days_exposition, dtype: float64"
      ]
     },
     "execution_count": 29,
     "metadata": {},
     "output_type": "execute_result"
    }
   ],
   "source": [
    "df['days_exposition'].describe()"
   ]
  },
  {
   "cell_type": "markdown",
   "metadata": {},
   "source": [
    "Можно считать, что сделка прошла быстро, если продажа состоялась в срок до 45 дней. Если же сделка состоялась через 231 день и больше - значит продажа длилась долго. Так же есть аномально большие значения - максимальное время продажи 1580 дней, это влияет на среднее время продажи, от чего среднее значение почти в 2 раза больше медианы. Судя по графику после 400 дней количество продаж сильно падает, уберу из таблицы объявления со сроком продажи больше 500 дней.\n"
   ]
  },
  {
   "cell_type": "code",
   "execution_count": 30,
   "metadata": {},
   "outputs": [],
   "source": [
    "df = df.query('days_exposition > 0 and days_exposition <= 500')\n",
    "df = df.query('last_price > 1000000')"
   ]
  },
  {
   "cell_type": "markdown",
   "metadata": {},
   "source": [
    "### Зависимость стоимости квадратного метра от площади"
   ]
  },
  {
   "cell_type": "code",
   "execution_count": 31,
   "metadata": {},
   "outputs": [],
   "source": [
    "def drow_plot(data, y, x):\n",
    "    data.plot(y=y, x=x, kind='scatter', alpha=0.5)"
   ]
  },
  {
   "cell_type": "code",
   "execution_count": 32,
   "metadata": {},
   "outputs": [
    {
     "data": {
      "text/html": [
       "<div>\n",
       "<style scoped>\n",
       "    .dataframe tbody tr th:only-of-type {\n",
       "        vertical-align: middle;\n",
       "    }\n",
       "\n",
       "    .dataframe tbody tr th {\n",
       "        vertical-align: top;\n",
       "    }\n",
       "\n",
       "    .dataframe thead th {\n",
       "        text-align: right;\n",
       "    }\n",
       "</style>\n",
       "<table border=\"1\" class=\"dataframe\">\n",
       "  <thead>\n",
       "    <tr style=\"text-align: right;\">\n",
       "      <th></th>\n",
       "      <th>price_for_m2</th>\n",
       "      <th>rooms</th>\n",
       "      <th>total_area</th>\n",
       "    </tr>\n",
       "  </thead>\n",
       "  <tbody>\n",
       "    <tr>\n",
       "      <th>price_for_m2</th>\n",
       "      <td>1.000000</td>\n",
       "      <td>-0.072095</td>\n",
       "      <td>0.164479</td>\n",
       "    </tr>\n",
       "    <tr>\n",
       "      <th>rooms</th>\n",
       "      <td>-0.072095</td>\n",
       "      <td>1.000000</td>\n",
       "      <td>0.791887</td>\n",
       "    </tr>\n",
       "    <tr>\n",
       "      <th>total_area</th>\n",
       "      <td>0.164479</td>\n",
       "      <td>0.791887</td>\n",
       "      <td>1.000000</td>\n",
       "    </tr>\n",
       "  </tbody>\n",
       "</table>\n",
       "</div>"
      ],
      "text/plain": [
       "              price_for_m2     rooms  total_area\n",
       "price_for_m2      1.000000 -0.072095    0.164479\n",
       "rooms            -0.072095  1.000000    0.791887\n",
       "total_area        0.164479  0.791887    1.000000"
      ]
     },
     "execution_count": 32,
     "metadata": {},
     "output_type": "execute_result"
    }
   ],
   "source": [
    "df = df.query('total_area > 0 and total_area <= 150')\n",
    "df_index = df.index\n",
    "price_area_rooms_corr = df.pivot_table(index=df_index, values=['price_for_m2', 'total_area', 'rooms', 'floor_category'], aggfunc ='mean')\n",
    "price_area_rooms_corr.corr()\n"
   ]
  },
  {
   "cell_type": "code",
   "execution_count": 33,
   "metadata": {},
   "outputs": [
    {
     "data": {
      "image/png": "[encoded data removed]",
      "text/plain": [
       "<Figure size 432x288 with 1 Axes>"
      ]
     },
     "metadata": {
      "needs_background": "light"
     },
     "output_type": "display_data"
    }
   ],
   "source": [
    "drow_plot(price_area_rooms_corr, 'price_for_m2', 'total_area')"
   ]
  },
  {
   "cell_type": "markdown",
   "metadata": {},
   "source": [
    "По графику и корреляции видно, что цена за квадатный метр практически не зависит от площади квартиры."
   ]
  },
  {
   "cell_type": "markdown",
   "metadata": {},
   "source": [
    "###   Зависимость стоимости квадратного метра от количества комнат"
   ]
  },
  {
   "cell_type": "markdown",
   "metadata": {},
   "source": [
    "Стоимость квадратного метра от количества комнат так же практически не зависит."
   ]
  },
  {
   "cell_type": "code",
   "execution_count": 34,
   "metadata": {},
   "outputs": [
    {
     "data": {
      "image/png": "[encoded data removed]",
      "text/plain": [
       "<Figure size 432x288 with 1 Axes>"
      ]
     },
     "metadata": {
      "needs_background": "light"
     },
     "output_type": "display_data"
    }
   ],
   "source": [
    "df.groupby('rooms')['price_for_m2'].median().plot()\n",
    "\n",
    "plt.title('Зависимость стоимости кв. м. от количества комнат')\n",
    "plt.xlabel('Количество комнат')\n",
    "plt.ylabel('Стоимость за кв. м.')\n",
    "plt.show()"
   ]
  },
  {
   "cell_type": "markdown",
   "metadata": {},
   "source": [
    "**Вывод**\n",
    "\n",
    "Чем больше комнат в квартире, тем ниже цена за квадратный метр, исключение - кв.м в квартирах с 7 комнатами дороже остальных."
   ]
  },
  {
   "cell_type": "code",
   "execution_count": 35,
   "metadata": {},
   "outputs": [
    {
     "data": {
      "text/plain": [
       "-0.36044808626818053"
      ]
     },
     "execution_count": 35,
     "metadata": {},
     "output_type": "execute_result"
    }
   ],
   "source": [
    "distance_from_centre = df.query('cityCenters_nearest > 0') \n",
    "distance_from_centre['price_for_m2'].corr(distance_from_centre['cityCenters_nearest'])"
   ]
  },
  {
   "cell_type": "markdown",
   "metadata": {},
   "source": [
    "### Зависимость стоимости квадратного метра от расстояния до центра"
   ]
  },
  {
   "cell_type": "code",
   "execution_count": 36,
   "metadata": {},
   "outputs": [
    {
     "data": {
      "image/png": "[encoded data removed]",
      "text/plain": [
       "<Figure size 432x288 with 1 Axes>"
      ]
     },
     "metadata": {
      "needs_background": "light"
     },
     "output_type": "display_data"
    }
   ],
   "source": [
    "drow_plot(distance_from_centre, 'price_for_m2','cityCenters_nearest')"
   ]
  },
  {
   "cell_type": "markdown",
   "metadata": {},
   "source": [
    "Коэффициент корреляции отрицательный, это значит, что по мере отдаления от цетра города стоимость квадратного метра квартиры уменьшается."
   ]
  },
  {
   "cell_type": "markdown",
   "metadata": {},
   "source": [
    "### Зависимость стоимости квадратного метра от этажа\n",
    "\n",
    "Что бы посчитать корреляцию и построить диаграмму рассеяния добавлю в таблицу еще столбец с цифровыми значениями для этажа:\n",
    "* Первый это - 1\n",
    "* Последний - 2\n",
    "* Другой - 3 "
   ]
  },
  {
   "cell_type": "code",
   "execution_count": 37,
   "metadata": {},
   "outputs": [
    {
     "data": {
      "text/plain": [
       "dtype('int64')"
      ]
     },
     "execution_count": 37,
     "metadata": {},
     "output_type": "execute_result"
    }
   ],
   "source": [
    "def find_floor(row):\n",
    "    floor = row['floor']\n",
    "    if floor == 1:\n",
    "        return('1')\n",
    "    elif floor == row['floors_total']:\n",
    "        return('2')\n",
    "    return('3')\n",
    "\n",
    "df['floor_id'] = df.apply(find_floor, axis=1)\n",
    "\n",
    "df['floor_id'] = df['floor_id'].astype('int')\n",
    "df['floor_id'].dtype"
   ]
  },
  {
   "cell_type": "code",
   "execution_count": 38,
   "metadata": {},
   "outputs": [
    {
     "data": {
      "text/plain": [
       "0.17530418925794278"
      ]
     },
     "execution_count": 38,
     "metadata": {},
     "output_type": "execute_result"
    }
   ],
   "source": [
    "df['floor_id'].corr(df['price_for_m2'])"
   ]
  },
  {
   "cell_type": "code",
   "execution_count": 39,
   "metadata": {
    "scrolled": true
   },
   "outputs": [
    {
     "data": {
      "image/png": "[encoded data removed]",
      "text/plain": [
       "<Figure size 432x288 with 1 Axes>"
      ]
     },
     "metadata": {
      "needs_background": "light"
     },
     "output_type": "display_data"
    }
   ],
   "source": [
    "drow_plot(df, 'price_for_m2', 'floor_id')"
   ]
  },
  {
   "cell_type": "code",
   "execution_count": 40,
   "metadata": {},
   "outputs": [
    {
     "name": "stdout",
     "output_type": "stream",
     "text": [
      "Цена кв. м. на первых этажах 81165.0\n",
      "\n",
      "Цена кв. м. на последних этажах 87705.0\n",
      "\n",
      "Цена кв. м. на остальных этажах 96907.0\n"
     ]
    }
   ],
   "source": [
    "first_floor = df.query('floor_category == \"первый\"')\n",
    "first_meadian = first_floor['price_for_m2'].median()\n",
    "\n",
    "last_floor = df.query('floor_category == \"последний\"')\n",
    "last_meadian = last_floor['price_for_m2'].median()\n",
    "\n",
    "other_floor = df.query('floor_category == \"другой\"')\n",
    "other_median = other_floor['price_for_m2'].median()\n",
    "\n",
    "print('Цена кв. м. на первых этажах', first_meadian)\n",
    "print()\n",
    "print('Цена кв. м. на последних этажах', last_meadian)\n",
    "print()\n",
    "print('Цена кв. м. на остальных этажах', other_median)\n",
    "\n"
   ]
  },
  {
   "cell_type": "markdown",
   "metadata": {},
   "source": [
    "Квартиры, которые находятся на первом и последнем этаже дешевле квартир на других этажах."
   ]
  },
  {
   "cell_type": "markdown",
   "metadata": {},
   "source": [
    "### Зависимость стоимости квадратного метра от даты размещения"
   ]
  },
  {
   "cell_type": "code",
   "execution_count": 41,
   "metadata": {},
   "outputs": [
    {
     "data": {
      "text/html": [
       "<div>\n",
       "<style scoped>\n",
       "    .dataframe tbody tr th:only-of-type {\n",
       "        vertical-align: middle;\n",
       "    }\n",
       "\n",
       "    .dataframe tbody tr th {\n",
       "        vertical-align: top;\n",
       "    }\n",
       "\n",
       "    .dataframe thead th {\n",
       "        text-align: right;\n",
       "    }\n",
       "</style>\n",
       "<table border=\"1\" class=\"dataframe\">\n",
       "  <thead>\n",
       "    <tr style=\"text-align: right;\">\n",
       "      <th></th>\n",
       "      <th>price_for_m2</th>\n",
       "      <th>weekday</th>\n",
       "      <th>month</th>\n",
       "      <th>year</th>\n",
       "    </tr>\n",
       "  </thead>\n",
       "  <tbody>\n",
       "    <tr>\n",
       "      <th>price_for_m2</th>\n",
       "      <td>1.000000</td>\n",
       "      <td>0.003436</td>\n",
       "      <td>0.000307</td>\n",
       "      <td>0.046396</td>\n",
       "    </tr>\n",
       "    <tr>\n",
       "      <th>weekday</th>\n",
       "      <td>0.003436</td>\n",
       "      <td>1.000000</td>\n",
       "      <td>0.013436</td>\n",
       "      <td>-0.000441</td>\n",
       "    </tr>\n",
       "    <tr>\n",
       "      <th>month</th>\n",
       "      <td>0.000307</td>\n",
       "      <td>0.013436</td>\n",
       "      <td>1.000000</td>\n",
       "      <td>-0.226345</td>\n",
       "    </tr>\n",
       "    <tr>\n",
       "      <th>year</th>\n",
       "      <td>0.046396</td>\n",
       "      <td>-0.000441</td>\n",
       "      <td>-0.226345</td>\n",
       "      <td>1.000000</td>\n",
       "    </tr>\n",
       "  </tbody>\n",
       "</table>\n",
       "</div>"
      ],
      "text/plain": [
       "              price_for_m2   weekday     month      year\n",
       "price_for_m2      1.000000  0.003436  0.000307  0.046396\n",
       "weekday           0.003436  1.000000  0.013436 -0.000441\n",
       "month             0.000307  0.013436  1.000000 -0.226345\n",
       "year              0.046396 -0.000441 -0.226345  1.000000"
      ]
     },
     "execution_count": 41,
     "metadata": {},
     "output_type": "execute_result"
    }
   ],
   "source": [
    "exposition = df.pivot_table(index=df_index, values=['weekday', 'month', 'year', 'price_for_m2'], aggfunc='mean')\n",
    "exposition = exposition[['price_for_m2','weekday', 'month', 'year']]\n",
    "exposition.corr()"
   ]
  },
  {
   "cell_type": "markdown",
   "metadata": {},
   "source": [
    "При взгляде на корреляцию дата размещения объявления практически не влияет на цену. Но возможно зависимость не линейная."
   ]
  },
  {
   "cell_type": "code",
   "execution_count": 42,
   "metadata": {},
   "outputs": [
    {
     "data": {
      "image/png": "[encoded data removed]",
      "text/plain": [
       "<Figure size 432x288 with 1 Axes>"
      ]
     },
     "metadata": {
      "needs_background": "light"
     },
     "output_type": "display_data"
    },
    {
     "data": {
      "image/png": "[encoded data removed]",
      "text/plain": [
       "<Figure size 432x288 with 1 Axes>"
      ]
     },
     "metadata": {
      "needs_background": "light"
     },
     "output_type": "display_data"
    },
    {
     "data": {
      "image/png": "[encoded data removed]",
      "text/plain": [
       "<Figure size 432x288 with 1 Axes>"
      ]
     },
     "metadata": {
      "needs_background": "light"
     },
     "output_type": "display_data"
    }
   ],
   "source": [
    "df.groupby('weekday')['price_for_m2'].median().plot()\n",
    "\n",
    "plt.title('Зависимость стоимости кв. м. от дня недели')\n",
    "plt.xlabel('День недели')\n",
    "plt.ylabel('Стоимость за кв. м.')\n",
    "plt.show()\n",
    "\n",
    "df.groupby('month')['price_for_m2'].median().plot()\n",
    "\n",
    "plt.title('Зависимость стоимости кв. м. от месяца')\n",
    "plt.xlabel('Месяц')\n",
    "plt.ylabel('Стоимость за кв. м.')\n",
    "plt.show()\n",
    "\n",
    "df.groupby('year')['price_for_m2'].median().plot()\n",
    "plt.title('Зависимость стоимости кв. м. года')\n",
    "plt.xticks([x for x in range(2014, 2020)])\n",
    "plt.xlabel('Год')\n",
    "plt.ylabel('Стоимость за кв. м.')\n",
    "plt.show()"
   ]
  },
  {
   "cell_type": "markdown",
   "metadata": {},
   "source": [
    "**Вывод**\n",
    "* Дешевле всего квартиры, объявления о продаже которых были размещены в конце недели, причем в объявления размещенные в пятницу имеют минимальную цену, дороже - те, которые размещены в середине недели.\n",
    "* Самые дорогие квартиры были размещены в авгусе, самые дешевые в мае.\n",
    "* С каждым годом квартиры становились дороже."
   ]
  },
  {
   "cell_type": "markdown",
   "metadata": {},
   "source": [
    "### 10 городов с самым большим количетсвом объявлений"
   ]
  },
  {
   "cell_type": "code",
   "execution_count": 43,
   "metadata": {},
   "outputs": [
    {
     "data": {
      "text/html": [
       "<div>\n",
       "<style scoped>\n",
       "    .dataframe tbody tr th:only-of-type {\n",
       "        vertical-align: middle;\n",
       "    }\n",
       "\n",
       "    .dataframe tbody tr th {\n",
       "        vertical-align: top;\n",
       "    }\n",
       "\n",
       "    .dataframe thead th {\n",
       "        text-align: right;\n",
       "    }\n",
       "</style>\n",
       "<table border=\"1\" class=\"dataframe\">\n",
       "  <thead>\n",
       "    <tr style=\"text-align: right;\">\n",
       "      <th></th>\n",
       "      <th>count</th>\n",
       "      <th>mean_price</th>\n",
       "    </tr>\n",
       "    <tr>\n",
       "      <th>locality_name</th>\n",
       "      <th></th>\n",
       "      <th></th>\n",
       "    </tr>\n",
       "  </thead>\n",
       "  <tbody>\n",
       "    <tr>\n",
       "      <th>Санкт-Петербург</th>\n",
       "      <td>11999</td>\n",
       "      <td>109570.633636</td>\n",
       "    </tr>\n",
       "    <tr>\n",
       "      <th>посёлок Мурино</th>\n",
       "      <td>481</td>\n",
       "      <td>85957.771310</td>\n",
       "    </tr>\n",
       "    <tr>\n",
       "      <th>посёлок Шушары</th>\n",
       "      <td>384</td>\n",
       "      <td>77792.028646</td>\n",
       "    </tr>\n",
       "    <tr>\n",
       "      <th>Всеволожск</th>\n",
       "      <td>305</td>\n",
       "      <td>68688.701639</td>\n",
       "    </tr>\n",
       "    <tr>\n",
       "      <th>Колпино</th>\n",
       "      <td>291</td>\n",
       "      <td>74691.388316</td>\n",
       "    </tr>\n",
       "    <tr>\n",
       "      <th>посёлок Парголово</th>\n",
       "      <td>285</td>\n",
       "      <td>89391.445614</td>\n",
       "    </tr>\n",
       "    <tr>\n",
       "      <th>Пушкин</th>\n",
       "      <td>270</td>\n",
       "      <td>101827.659259</td>\n",
       "    </tr>\n",
       "    <tr>\n",
       "      <th>деревня Кудрово</th>\n",
       "      <td>266</td>\n",
       "      <td>92656.526316</td>\n",
       "    </tr>\n",
       "    <tr>\n",
       "      <th>Гатчина</th>\n",
       "      <td>242</td>\n",
       "      <td>68312.714876</td>\n",
       "    </tr>\n",
       "    <tr>\n",
       "      <th>Выборг</th>\n",
       "      <td>187</td>\n",
       "      <td>57530.245989</td>\n",
       "    </tr>\n",
       "  </tbody>\n",
       "</table>\n",
       "</div>"
      ],
      "text/plain": [
       "                   count     mean_price\n",
       "locality_name                          \n",
       "Санкт-Петербург    11999  109570.633636\n",
       "посёлок Мурино       481   85957.771310\n",
       "посёлок Шушары       384   77792.028646\n",
       "Всеволожск           305   68688.701639\n",
       "Колпино              291   74691.388316\n",
       "посёлок Парголово    285   89391.445614\n",
       "Пушкин               270  101827.659259\n",
       "деревня Кудрово      266   92656.526316\n",
       "Гатчина              242   68312.714876\n",
       "Выборг               187   57530.245989"
      ]
     },
     "metadata": {},
     "output_type": "display_data"
    },
    {
     "data": {
      "image/png": "[encoded data removed]",
      "text/plain": [
       "<Figure size 360x360 with 1 Axes>"
      ]
     },
     "metadata": {
      "needs_background": "light"
     },
     "output_type": "display_data"
    }
   ],
   "source": [
    "top_city = df.loc[:, ['locality_name', 'price_for_m2']]\n",
    "top_city = top_city.pivot_table(index='locality_name', values='price_for_m2', aggfunc=['count', 'mean'])\n",
    "top_city.columns = ['count', 'mean_price']\n",
    "top_10 = top_city.sort_values('count', ascending=False).head(10)\n",
    "top_10.plot(y='count', kind='bar', figsize=(5,5), legend=False)\n",
    "display(top_10)"
   ]
  },
  {
   "cell_type": "markdown",
   "metadata": {},
   "source": [
    "Самые дорогие квартиры в Санкт-Петербурге и в Пушкине, а самые дешевые в выборге"
   ]
  },
  {
   "cell_type": "markdown",
   "metadata": {},
   "source": [
    "### Кватиры в Санкт-Петербурге"
   ]
  },
  {
   "cell_type": "code",
   "execution_count": 44,
   "metadata": {},
   "outputs": [
    {
     "data": {
      "text/plain": [
       "<AxesSubplot:xlabel='cityCenters_nearest'>"
      ]
     },
     "execution_count": 44,
     "metadata": {},
     "output_type": "execute_result"
    },
    {
     "data": {
      "image/png": "[encoded data removed]",
      "text/plain": [
       "<Figure size 432x288 with 1 Axes>"
      ]
     },
     "metadata": {
      "needs_background": "light"
     },
     "output_type": "display_data"
    }
   ],
   "source": [
    "spb = df.query('locality_name == \"Санкт-Петербург\"')\n",
    "spb = spb.query('cityCenters_nearest > 0')\n",
    "spb['cityCenters_nearest'] = (spb['cityCenters_nearest'] / 1000).round().astype('int')\n",
    "spb_price = spb.loc[:, ['cityCenters_nearest', 'last_price']]\n",
    "spb_price['last_price'] = (spb_price['last_price'] / 1000000).round().astype('int')\n",
    "spb_price = spb.pivot_table(index='cityCenters_nearest', values='last_price', aggfunc=('mean'))\n",
    "spb_price.plot(y='last_price', kind='bar')"
   ]
  },
  {
   "cell_type": "markdown",
   "metadata": {},
   "source": [
    "Самые дорогие квартиры находятся в расстоянии от 0 до 3 км от цента. Так же видно небольшое повышение цены с 4 по 7 км, и далее цена начинает снижаться.\n",
    "Выберем квартиры в пределах 3 км от центра."
   ]
  },
  {
   "cell_type": "code",
   "execution_count": 45,
   "metadata": {},
   "outputs": [
    {
     "data": {
      "text/html": [
       "<div>\n",
       "<style scoped>\n",
       "    .dataframe tbody tr th:only-of-type {\n",
       "        vertical-align: middle;\n",
       "    }\n",
       "\n",
       "    .dataframe tbody tr th {\n",
       "        vertical-align: top;\n",
       "    }\n",
       "\n",
       "    .dataframe thead th {\n",
       "        text-align: right;\n",
       "    }\n",
       "</style>\n",
       "<table border=\"1\" class=\"dataframe\">\n",
       "  <thead>\n",
       "    <tr style=\"text-align: right;\">\n",
       "      <th></th>\n",
       "      <th>last_price</th>\n",
       "      <th>total_area</th>\n",
       "      <th>first_day_exposition</th>\n",
       "      <th>rooms</th>\n",
       "      <th>ceiling_height</th>\n",
       "      <th>floors_total</th>\n",
       "      <th>living_area</th>\n",
       "      <th>floor</th>\n",
       "      <th>kitchen_area</th>\n",
       "      <th>balcony</th>\n",
       "      <th>locality_name</th>\n",
       "      <th>airports_nearest</th>\n",
       "      <th>cityCenters_nearest</th>\n",
       "      <th>parks_around3000</th>\n",
       "      <th>parks_nearest</th>\n",
       "      <th>ponds_around3000</th>\n",
       "      <th>ponds_nearest</th>\n",
       "      <th>days_exposition</th>\n",
       "      <th>price_for_m2</th>\n",
       "      <th>weekday</th>\n",
       "      <th>month</th>\n",
       "      <th>year</th>\n",
       "      <th>floor_category</th>\n",
       "      <th>area_dif</th>\n",
       "      <th>kitchen_area_dif</th>\n",
       "      <th>floor_id</th>\n",
       "    </tr>\n",
       "  </thead>\n",
       "  <tbody>\n",
       "    <tr>\n",
       "      <th>24</th>\n",
       "      <td>6500000</td>\n",
       "      <td>97.2</td>\n",
       "      <td>2015-10-31</td>\n",
       "      <td>2</td>\n",
       "      <td>2.65</td>\n",
       "      <td>3.0</td>\n",
       "      <td>46.5</td>\n",
       "      <td>1</td>\n",
       "      <td>19.6</td>\n",
       "      <td>0</td>\n",
       "      <td>Санкт-Петербург</td>\n",
       "      <td>20052</td>\n",
       "      <td>2</td>\n",
       "      <td>3</td>\n",
       "      <td>411</td>\n",
       "      <td>3</td>\n",
       "      <td>124</td>\n",
       "      <td>265</td>\n",
       "      <td>66872</td>\n",
       "      <td>5</td>\n",
       "      <td>10</td>\n",
       "      <td>2015</td>\n",
       "      <td>первый</td>\n",
       "      <td>0.478395</td>\n",
       "      <td>0.201646</td>\n",
       "      <td>1</td>\n",
       "    </tr>\n",
       "    <tr>\n",
       "      <th>239</th>\n",
       "      <td>22000000</td>\n",
       "      <td>119.0</td>\n",
       "      <td>2017-02-16</td>\n",
       "      <td>3</td>\n",
       "      <td>3.50</td>\n",
       "      <td>5.0</td>\n",
       "      <td>56.0</td>\n",
       "      <td>3</td>\n",
       "      <td>35.0</td>\n",
       "      <td>0</td>\n",
       "      <td>Санкт-Петербург</td>\n",
       "      <td>21698</td>\n",
       "      <td>2</td>\n",
       "      <td>1</td>\n",
       "      <td>688</td>\n",
       "      <td>1</td>\n",
       "      <td>86</td>\n",
       "      <td>77</td>\n",
       "      <td>184873</td>\n",
       "      <td>3</td>\n",
       "      <td>2</td>\n",
       "      <td>2017</td>\n",
       "      <td>другой</td>\n",
       "      <td>0.470588</td>\n",
       "      <td>0.294118</td>\n",
       "      <td>3</td>\n",
       "    </tr>\n",
       "    <tr>\n",
       "      <th>282</th>\n",
       "      <td>37000000</td>\n",
       "      <td>115.0</td>\n",
       "      <td>2018-11-15</td>\n",
       "      <td>2</td>\n",
       "      <td>2.65</td>\n",
       "      <td>5.0</td>\n",
       "      <td>65.0</td>\n",
       "      <td>2</td>\n",
       "      <td>14.0</td>\n",
       "      <td>0</td>\n",
       "      <td>Санкт-Петербург</td>\n",
       "      <td>23537</td>\n",
       "      <td>2</td>\n",
       "      <td>2</td>\n",
       "      <td>121</td>\n",
       "      <td>2</td>\n",
       "      <td>663</td>\n",
       "      <td>158</td>\n",
       "      <td>321739</td>\n",
       "      <td>3</td>\n",
       "      <td>11</td>\n",
       "      <td>2018</td>\n",
       "      <td>другой</td>\n",
       "      <td>0.565217</td>\n",
       "      <td>0.121739</td>\n",
       "      <td>3</td>\n",
       "    </tr>\n",
       "    <tr>\n",
       "      <th>379</th>\n",
       "      <td>21000000</td>\n",
       "      <td>96.0</td>\n",
       "      <td>2017-02-07</td>\n",
       "      <td>2</td>\n",
       "      <td>3.00</td>\n",
       "      <td>7.0</td>\n",
       "      <td>20.0</td>\n",
       "      <td>1</td>\n",
       "      <td>36.0</td>\n",
       "      <td>2</td>\n",
       "      <td>Санкт-Петербург</td>\n",
       "      <td>23843</td>\n",
       "      <td>2</td>\n",
       "      <td>0</td>\n",
       "      <td>460</td>\n",
       "      <td>3</td>\n",
       "      <td>418</td>\n",
       "      <td>153</td>\n",
       "      <td>218750</td>\n",
       "      <td>1</td>\n",
       "      <td>2</td>\n",
       "      <td>2017</td>\n",
       "      <td>первый</td>\n",
       "      <td>0.208333</td>\n",
       "      <td>0.375000</td>\n",
       "      <td>1</td>\n",
       "    </tr>\n",
       "    <tr>\n",
       "      <th>433</th>\n",
       "      <td>6800000</td>\n",
       "      <td>57.8</td>\n",
       "      <td>2017-04-28</td>\n",
       "      <td>3</td>\n",
       "      <td>2.80</td>\n",
       "      <td>5.0</td>\n",
       "      <td>33.7</td>\n",
       "      <td>4</td>\n",
       "      <td>9.7</td>\n",
       "      <td>0</td>\n",
       "      <td>Санкт-Петербург</td>\n",
       "      <td>21545</td>\n",
       "      <td>1</td>\n",
       "      <td>1</td>\n",
       "      <td>803</td>\n",
       "      <td>2</td>\n",
       "      <td>22</td>\n",
       "      <td>402</td>\n",
       "      <td>117647</td>\n",
       "      <td>4</td>\n",
       "      <td>4</td>\n",
       "      <td>2017</td>\n",
       "      <td>другой</td>\n",
       "      <td>0.583045</td>\n",
       "      <td>0.167820</td>\n",
       "      <td>3</td>\n",
       "    </tr>\n",
       "  </tbody>\n",
       "</table>\n",
       "</div>"
      ],
      "text/plain": [
       "     last_price  total_area first_day_exposition  rooms  ceiling_height  \\\n",
       "24      6500000        97.2           2015-10-31      2            2.65   \n",
       "239    22000000       119.0           2017-02-16      3            3.50   \n",
       "282    37000000       115.0           2018-11-15      2            2.65   \n",
       "379    21000000        96.0           2017-02-07      2            3.00   \n",
       "433     6800000        57.8           2017-04-28      3            2.80   \n",
       "\n",
       "     floors_total  living_area  floor  kitchen_area  balcony    locality_name  \\\n",
       "24            3.0         46.5      1          19.6        0  Санкт-Петербург   \n",
       "239           5.0         56.0      3          35.0        0  Санкт-Петербург   \n",
       "282           5.0         65.0      2          14.0        0  Санкт-Петербург   \n",
       "379           7.0         20.0      1          36.0        2  Санкт-Петербург   \n",
       "433           5.0         33.7      4           9.7        0  Санкт-Петербург   \n",
       "\n",
       "     airports_nearest  cityCenters_nearest  parks_around3000  parks_nearest  \\\n",
       "24              20052                    2                 3            411   \n",
       "239             21698                    2                 1            688   \n",
       "282             23537                    2                 2            121   \n",
       "379             23843                    2                 0            460   \n",
       "433             21545                    1                 1            803   \n",
       "\n",
       "     ponds_around3000  ponds_nearest  days_exposition  price_for_m2  weekday  \\\n",
       "24                  3            124              265         66872        5   \n",
       "239                 1             86               77        184873        3   \n",
       "282                 2            663              158        321739        3   \n",
       "379                 3            418              153        218750        1   \n",
       "433                 2             22              402        117647        4   \n",
       "\n",
       "     month  year floor_category  area_dif  kitchen_area_dif  floor_id  \n",
       "24      10  2015         первый  0.478395          0.201646         1  \n",
       "239      2  2017         другой  0.470588          0.294118         3  \n",
       "282     11  2018         другой  0.565217          0.121739         3  \n",
       "379      2  2017         первый  0.208333          0.375000         1  \n",
       "433      4  2017         другой  0.583045          0.167820         3  "
      ]
     },
     "execution_count": 45,
     "metadata": {},
     "output_type": "execute_result"
    }
   ],
   "source": [
    "spb_centre = spb.query('cityCenters_nearest < 3')\n",
    "spb_centre.head()"
   ]
  },
  {
   "cell_type": "code",
   "execution_count": 46,
   "metadata": {},
   "outputs": [],
   "source": [
    "def drow_hist_spb(col, xmin, xmax):\n",
    "    spb_centre[col].hist(bins=50, range=(xmin, xmax))\n"
   ]
  },
  {
   "cell_type": "code",
   "execution_count": 47,
   "metadata": {},
   "outputs": [
    {
     "data": {
      "text/plain": [
       "count    3.060000e+02\n",
       "mean     1.149745e+07\n",
       "std      1.007647e+07\n",
       "min      2.100000e+06\n",
       "25%      7.224250e+06\n",
       "50%      9.150000e+06\n",
       "75%      1.280000e+07\n",
       "max      1.240000e+08\n",
       "Name: last_price, dtype: float64"
      ]
     },
     "execution_count": 47,
     "metadata": {},
     "output_type": "execute_result"
    },
    {
     "data": {
      "image/png": "[encoded data removed]",
      "text/plain": [
       "<Figure size 432x288 with 1 Axes>"
      ]
     },
     "metadata": {
      "needs_background": "light"
     },
     "output_type": "display_data"
    }
   ],
   "source": [
    "drow_hist_spb('last_price', 0, 20000000)\n",
    "spb_centre['last_price'].describe()"
   ]
  },
  {
   "cell_type": "code",
   "execution_count": 48,
   "metadata": {},
   "outputs": [
    {
     "data": {
      "text/plain": [
       "count    306.000000\n",
       "mean      80.987484\n",
       "std       27.890926\n",
       "min       12.000000\n",
       "25%       60.650000\n",
       "50%       80.000000\n",
       "75%       99.900000\n",
       "max      149.200000\n",
       "Name: total_area, dtype: float64"
      ]
     },
     "execution_count": 48,
     "metadata": {},
     "output_type": "execute_result"
    },
    {
     "data": {
      "image/png": "[encoded data removed]",
      "text/plain": [
       "<Figure size 432x288 with 1 Axes>"
      ]
     },
     "metadata": {
      "needs_background": "light"
     },
     "output_type": "display_data"
    }
   ],
   "source": [
    "drow_hist_spb('total_area', 0, 160)\n",
    "spb_centre['total_area'].describe()"
   ]
  },
  {
   "cell_type": "code",
   "execution_count": 49,
   "metadata": {},
   "outputs": [
    {
     "data": {
      "image/png": "[encoded data removed]",
      "text/plain": [
       "<Figure size 432x288 with 1 Axes>"
      ]
     },
     "metadata": {
      "needs_background": "light"
     },
     "output_type": "display_data"
    }
   ],
   "source": [
    "drow_hist_spb('rooms', 0, 10)"
   ]
  },
  {
   "cell_type": "code",
   "execution_count": 50,
   "metadata": {},
   "outputs": [
    {
     "data": {
      "image/png": "[encoded data removed]",
      "text/plain": [
       "<Figure size 432x288 with 1 Axes>"
      ]
     },
     "metadata": {
      "needs_background": "light"
     },
     "output_type": "display_data"
    }
   ],
   "source": [
    "drow_hist_spb('ceiling_height', 0, 5)"
   ]
  },
  {
   "cell_type": "markdown",
   "metadata": {},
   "source": [
    "**Квартиры в центре Санкт-Петербугра:**\n",
    "* В среднем дороже - средняя цена больше 10 млн, на общем графике было в среднем 3 млн.\n",
    "* Имеют большую площадь 80 кв. метров в среднем (на общем графике 40-50кв.м.)\n",
    "* Имеют больше комнат, в основном 2-4, против 1-3\n",
    "* Потолки чуть выше, но в среднем так де 2,7 м."
   ]
  },
  {
   "cell_type": "code",
   "execution_count": 51,
   "metadata": {},
   "outputs": [
    {
     "data": {
      "text/html": [
       "<div>\n",
       "<style scoped>\n",
       "    .dataframe tbody tr th:only-of-type {\n",
       "        vertical-align: middle;\n",
       "    }\n",
       "\n",
       "    .dataframe tbody tr th {\n",
       "        vertical-align: top;\n",
       "    }\n",
       "\n",
       "    .dataframe thead th {\n",
       "        text-align: right;\n",
       "    }\n",
       "</style>\n",
       "<table border=\"1\" class=\"dataframe\">\n",
       "  <thead>\n",
       "    <tr style=\"text-align: right;\">\n",
       "      <th></th>\n",
       "      <th>cityCenters_nearest</th>\n",
       "      <th>price_for_m2</th>\n",
       "      <th>rooms</th>\n",
       "      <th>total_area</th>\n",
       "    </tr>\n",
       "  </thead>\n",
       "  <tbody>\n",
       "    <tr>\n",
       "      <th>cityCenters_nearest</th>\n",
       "      <td>1.000000</td>\n",
       "      <td>-0.001536</td>\n",
       "      <td>-0.025659</td>\n",
       "      <td>-0.031182</td>\n",
       "    </tr>\n",
       "    <tr>\n",
       "      <th>price_for_m2</th>\n",
       "      <td>-0.001536</td>\n",
       "      <td>1.000000</td>\n",
       "      <td>-0.110590</td>\n",
       "      <td>0.041461</td>\n",
       "    </tr>\n",
       "    <tr>\n",
       "      <th>rooms</th>\n",
       "      <td>-0.025659</td>\n",
       "      <td>-0.110590</td>\n",
       "      <td>1.000000</td>\n",
       "      <td>0.700083</td>\n",
       "    </tr>\n",
       "    <tr>\n",
       "      <th>total_area</th>\n",
       "      <td>-0.031182</td>\n",
       "      <td>0.041461</td>\n",
       "      <td>0.700083</td>\n",
       "      <td>1.000000</td>\n",
       "    </tr>\n",
       "  </tbody>\n",
       "</table>\n",
       "</div>"
      ],
      "text/plain": [
       "                     cityCenters_nearest  price_for_m2     rooms  total_area\n",
       "cityCenters_nearest             1.000000     -0.001536 -0.025659   -0.031182\n",
       "price_for_m2                   -0.001536      1.000000 -0.110590    0.041461\n",
       "rooms                          -0.025659     -0.110590  1.000000    0.700083\n",
       "total_area                     -0.031182      0.041461  0.700083    1.000000"
      ]
     },
     "execution_count": 51,
     "metadata": {},
     "output_type": "execute_result"
    }
   ],
   "source": [
    "spb_index = spb_centre.index\n",
    "spb_corr = spb_centre.pivot_table(index=spb_index, values=['price_for_m2', 'total_area', 'cityCenters_nearest', 'rooms'], aggfunc=('mean'))\n",
    "spb_corr.corr()"
   ]
  },
  {
   "cell_type": "code",
   "execution_count": 52,
   "metadata": {},
   "outputs": [
    {
     "data": {
      "text/plain": [
       "0.0414613467100842"
      ]
     },
     "execution_count": 52,
     "metadata": {},
     "output_type": "execute_result"
    },
    {
     "data": {
      "image/png": "[encoded data removed]",
      "text/plain": [
       "<Figure size 432x288 with 1 Axes>"
      ]
     },
     "metadata": {
      "needs_background": "light"
     },
     "output_type": "display_data"
    }
   ],
   "source": [
    "drow_plot(spb_corr, 'price_for_m2', 'total_area')\n",
    "spb_centre['price_for_m2'].corr(spb_centre['total_area'])"
   ]
  },
  {
   "cell_type": "markdown",
   "metadata": {},
   "source": [
    "Взаимосвязь цены кв. метра от площади, пусть и небольшая но все же есть, чем больше площадь квартиры, тем выше цена кв. метра."
   ]
  },
  {
   "cell_type": "code",
   "execution_count": 53,
   "metadata": {},
   "outputs": [
    {
     "data": {
      "text/plain": [
       "<AxesSubplot:xlabel='rooms'>"
      ]
     },
     "execution_count": 53,
     "metadata": {},
     "output_type": "execute_result"
    },
    {
     "data": {
      "image/png": "[encoded data removed]",
      "text/plain": [
       "<Figure size 432x288 with 1 Axes>"
      ]
     },
     "metadata": {
      "needs_background": "light"
     },
     "output_type": "display_data"
    }
   ],
   "source": [
    "spb_centre.groupby('rooms')['price_for_m2'].median().plot()"
   ]
  },
  {
   "cell_type": "markdown",
   "metadata": {},
   "source": [
    "Судя по графику, самая высокая стоимость квадратного метра в 1x комнатных квартирах, в 3х и 4х комнатных - цены за кв.м ниже"
   ]
  },
  {
   "cell_type": "code",
   "execution_count": 54,
   "metadata": {},
   "outputs": [
    {
     "data": {
      "text/plain": [
       "-0.0015356258290576462"
      ]
     },
     "execution_count": 54,
     "metadata": {},
     "output_type": "execute_result"
    },
    {
     "data": {
      "image/png": "[encoded data removed]",
      "text/plain": [
       "<Figure size 432x288 with 1 Axes>"
      ]
     },
     "metadata": {
      "needs_background": "light"
     },
     "output_type": "display_data"
    }
   ],
   "source": [
    "spb_centre.groupby('cityCenters_nearest')['price_for_m2'].median().plot()\n",
    "spb_centre['price_for_m2'].corr(spb_centre['cityCenters_nearest'])"
   ]
  },
  {
   "cell_type": "markdown",
   "metadata": {},
   "source": [
    "Корреляция отрицательная, из этого следует что квартиры дальше от центра все же дешевле, но коэффициент настолько маленький, что можно считать, что цены одинаковые"
   ]
  },
  {
   "cell_type": "code",
   "execution_count": 55,
   "metadata": {},
   "outputs": [
    {
     "data": {
      "text/plain": [
       "<AxesSubplot:xlabel='floor_id'>"
      ]
     },
     "execution_count": 55,
     "metadata": {},
     "output_type": "execute_result"
    },
    {
     "data": {
      "image/png": "[encoded data removed]",
      "text/plain": [
       "<Figure size 432x288 with 1 Axes>"
      ]
     },
     "metadata": {
      "needs_background": "light"
     },
     "output_type": "display_data"
    }
   ],
   "source": [
    "spb_centre.groupby('floor_id')['price_for_m2'].median().plot()"
   ]
  },
  {
   "cell_type": "markdown",
   "metadata": {},
   "source": [
    "Квартиры на последнем этаже дороже чем на первом или любом другом. На общем графике ситуация была другая, дешевле были квартиры на первом и последнем этаже, на всех остальных - дороже."
   ]
  },
  {
   "cell_type": "code",
   "execution_count": 56,
   "metadata": {},
   "outputs": [
    {
     "data": {
      "text/html": [
       "<div>\n",
       "<style scoped>\n",
       "    .dataframe tbody tr th:only-of-type {\n",
       "        vertical-align: middle;\n",
       "    }\n",
       "\n",
       "    .dataframe tbody tr th {\n",
       "        vertical-align: top;\n",
       "    }\n",
       "\n",
       "    .dataframe thead th {\n",
       "        text-align: right;\n",
       "    }\n",
       "</style>\n",
       "<table border=\"1\" class=\"dataframe\">\n",
       "  <thead>\n",
       "    <tr style=\"text-align: right;\">\n",
       "      <th></th>\n",
       "      <th>price_for_m2</th>\n",
       "      <th>weekday</th>\n",
       "      <th>month</th>\n",
       "      <th>year</th>\n",
       "    </tr>\n",
       "  </thead>\n",
       "  <tbody>\n",
       "    <tr>\n",
       "      <th>price_for_m2</th>\n",
       "      <td>1.000000</td>\n",
       "      <td>0.003436</td>\n",
       "      <td>0.000307</td>\n",
       "      <td>0.046396</td>\n",
       "    </tr>\n",
       "    <tr>\n",
       "      <th>weekday</th>\n",
       "      <td>0.003436</td>\n",
       "      <td>1.000000</td>\n",
       "      <td>0.013436</td>\n",
       "      <td>-0.000441</td>\n",
       "    </tr>\n",
       "    <tr>\n",
       "      <th>month</th>\n",
       "      <td>0.000307</td>\n",
       "      <td>0.013436</td>\n",
       "      <td>1.000000</td>\n",
       "      <td>-0.226345</td>\n",
       "    </tr>\n",
       "    <tr>\n",
       "      <th>year</th>\n",
       "      <td>0.046396</td>\n",
       "      <td>-0.000441</td>\n",
       "      <td>-0.226345</td>\n",
       "      <td>1.000000</td>\n",
       "    </tr>\n",
       "  </tbody>\n",
       "</table>\n",
       "</div>"
      ],
      "text/plain": [
       "              price_for_m2   weekday     month      year\n",
       "price_for_m2      1.000000  0.003436  0.000307  0.046396\n",
       "weekday           0.003436  1.000000  0.013436 -0.000441\n",
       "month             0.000307  0.013436  1.000000 -0.226345\n",
       "year              0.046396 -0.000441 -0.226345  1.000000"
      ]
     },
     "execution_count": 56,
     "metadata": {},
     "output_type": "execute_result"
    }
   ],
   "source": [
    "spb_exposition = df.pivot_table(index=df_index, values=['weekday', 'month', 'year', 'price_for_m2'], aggfunc='mean')\n",
    "spb_exposition = exposition[['price_for_m2','weekday', 'month', 'year']]\n",
    "spb_exposition.corr()"
   ]
  },
  {
   "cell_type": "code",
   "execution_count": 57,
   "metadata": {},
   "outputs": [
    {
     "data": {
      "text/plain": [
       "array([[<AxesSubplot:xlabel='price_for_m2', ylabel='price_for_m2'>,\n",
       "        <AxesSubplot:xlabel='weekday', ylabel='price_for_m2'>,\n",
       "        <AxesSubplot:xlabel='month', ylabel='price_for_m2'>,\n",
       "        <AxesSubplot:xlabel='year', ylabel='price_for_m2'>],\n",
       "       [<AxesSubplot:xlabel='price_for_m2', ylabel='weekday'>,\n",
       "        <AxesSubplot:xlabel='weekday', ylabel='weekday'>,\n",
       "        <AxesSubplot:xlabel='month', ylabel='weekday'>,\n",
       "        <AxesSubplot:xlabel='year', ylabel='weekday'>],\n",
       "       [<AxesSubplot:xlabel='price_for_m2', ylabel='month'>,\n",
       "        <AxesSubplot:xlabel='weekday', ylabel='month'>,\n",
       "        <AxesSubplot:xlabel='month', ylabel='month'>,\n",
       "        <AxesSubplot:xlabel='year', ylabel='month'>],\n",
       "       [<AxesSubplot:xlabel='price_for_m2', ylabel='year'>,\n",
       "        <AxesSubplot:xlabel='weekday', ylabel='year'>,\n",
       "        <AxesSubplot:xlabel='month', ylabel='year'>,\n",
       "        <AxesSubplot:xlabel='year', ylabel='year'>]], dtype=object)"
      ]
     },
     "execution_count": 57,
     "metadata": {},
     "output_type": "execute_result"
    },
    {
     "data": {
      "image/png": "[encoded data removed]",
      "text/plain": [
       "<Figure size 720x720 with 16 Axes>"
      ]
     },
     "metadata": {
      "needs_background": "light"
     },
     "output_type": "display_data"
    }
   ],
   "source": [
    "pd.plotting.scatter_matrix(spb_exposition, figsize=(10,10))"
   ]
  },
  {
   "cell_type": "markdown",
   "metadata": {},
   "source": [
    "**Вывод:**\n",
    "* Квартиры размещенные на выходных дешевле, чем в будние дни. Такая же ситуация на общем графике.\n",
    "* В январе и декабре квартиры дороже всего, а в мае самые дешевые.\n",
    "* Самые дорогие квартиры размещены в 2017 и 2018 годах."
   ]
  },
  {
   "cell_type": "markdown",
   "metadata": {},
   "source": [
    "## Общий вывод"
   ]
  },
  {
   "cell_type": "markdown",
   "metadata": {},
   "source": [
    "Был изучен архив объявлений о продаже квартир в Санкт-Петербурке и его области за 2015-2019гг.\n",
    "\n",
    "* Заполнены пропущенные данные в исследуемой таблице\n",
    "* Была установлена связь между параметрами, построены графики\n",
    "* Убраны выбивающиеся значения\n",
    "\n",
    "Проведя все исследования и ответив на вопросы, я узнал:\n",
    "* Больше всего квартир продается в первые 90-100 дней\n",
    "* Стоимость за 1 кв. метр выше в Санкт-Петербурге и Пушкине, дешевле всего в Выборге.\n",
    "* Квартиры на первом и последнем этаже дешевле, чем остальные. Исключение центр Питера - там последние этажи дороже.\n",
    "* Стоимость квартиры зависит от удаления от центра Петербурга, чем дальше - тем дешевле. В самом же центре цена не меняется.\n",
    "* Квартиры в центре имеют большую площадь.\n",
    "* В Центре квартиры дороже примерно в 3 раза.\n",
    "* Количество комнат в центре в среднем выше.\n",
    "* Квартиры выставленные на продажу в выходные дороже чем в будни.\n",
    "* Зимой цены на квартиры выше, летом ниже\n",
    "* В 2017 и 2018 года стоимость квартир резко возрасла."
   ]
  }
 ],
 "metadata": {
  "ExecuteTimeLog": [
   {
    "duration": 657,
    "start_time": "2022-01-29T11:53:05.714Z"
   },
   {
    "duration": 4,
    "start_time": "2022-01-29T11:53:11.045Z"
   },
   {
    "duration": 77,
    "start_time": "2022-01-29T11:53:58.115Z"
   },
   {
    "duration": 391,
    "start_time": "2022-01-29T11:54:12.695Z"
   },
   {
    "duration": 74,
    "start_time": "2022-01-29T11:54:20.858Z"
   },
   {
    "duration": 67,
    "start_time": "2022-01-29T11:54:36.353Z"
   },
   {
    "duration": 70,
    "start_time": "2022-01-29T11:54:46.404Z"
   },
   {
    "duration": 68,
    "start_time": "2022-01-29T11:56:18.196Z"
   },
   {
    "duration": 68,
    "start_time": "2022-01-29T11:56:44.093Z"
   },
   {
    "duration": 98,
    "start_time": "2022-01-29T12:04:16.549Z"
   },
   {
    "duration": 103,
    "start_time": "2022-01-29T12:04:27.044Z"
   },
   {
    "duration": 682,
    "start_time": "2022-01-29T12:04:37.883Z"
   },
   {
    "duration": 106,
    "start_time": "2022-01-29T12:04:38.568Z"
   },
   {
    "duration": 95,
    "start_time": "2022-01-29T12:04:59.168Z"
   },
   {
    "duration": 81,
    "start_time": "2022-01-29T12:05:18.004Z"
   },
   {
    "duration": 104,
    "start_time": "2022-01-29T12:05:31.184Z"
   },
   {
    "duration": 107,
    "start_time": "2022-01-29T12:06:13.839Z"
   },
   {
    "duration": 3,
    "start_time": "2022-01-29T12:06:19.425Z"
   },
   {
    "duration": 14,
    "start_time": "2022-01-29T12:06:36.735Z"
   },
   {
    "duration": 323,
    "start_time": "2022-01-29T12:08:27.614Z"
   },
   {
    "duration": 295,
    "start_time": "2022-01-29T12:43:17.070Z"
   },
   {
    "duration": 6,
    "start_time": "2022-01-29T14:48:45.479Z"
   },
   {
    "duration": 10,
    "start_time": "2022-01-29T14:49:00.239Z"
   },
   {
    "duration": 9,
    "start_time": "2022-01-29T14:50:26.225Z"
   },
   {
    "duration": 7,
    "start_time": "2022-01-29T14:50:38.547Z"
   },
   {
    "duration": 6,
    "start_time": "2022-01-29T15:14:55.715Z"
   },
   {
    "duration": 7,
    "start_time": "2022-01-29T15:17:00.188Z"
   },
   {
    "duration": 296,
    "start_time": "2022-01-30T09:22:41.643Z"
   },
   {
    "duration": 614,
    "start_time": "2022-01-30T09:22:48.419Z"
   },
   {
    "duration": 108,
    "start_time": "2022-01-30T09:22:49.035Z"
   },
   {
    "duration": 11,
    "start_time": "2022-01-30T09:22:49.145Z"
   },
   {
    "duration": 92,
    "start_time": "2022-01-30T09:22:49.158Z"
   },
   {
    "duration": 105,
    "start_time": "2022-01-30T10:01:11.207Z"
   },
   {
    "duration": -26,
    "start_time": "2022-01-30T10:18:02.404Z"
   },
   {
    "duration": 7639,
    "start_time": "2022-01-30T10:18:18.800Z"
   },
   {
    "duration": 274,
    "start_time": "2022-01-30T10:18:50.594Z"
   },
   {
    "duration": 34,
    "start_time": "2022-01-30T10:19:16.392Z"
   },
   {
    "duration": 20,
    "start_time": "2022-01-30T10:19:47.036Z"
   },
   {
    "duration": 14,
    "start_time": "2022-01-30T10:19:54.659Z"
   },
   {
    "duration": 14,
    "start_time": "2022-01-30T10:20:14.279Z"
   },
   {
    "duration": 14,
    "start_time": "2022-01-30T10:20:38.668Z"
   },
   {
    "duration": 293,
    "start_time": "2022-01-30T10:20:56.063Z"
   },
   {
    "duration": 288,
    "start_time": "2022-01-30T10:21:17.039Z"
   },
   {
    "duration": 200,
    "start_time": "2022-01-30T10:23:26.895Z"
   },
   {
    "duration": 375,
    "start_time": "2022-01-30T10:23:36.601Z"
   },
   {
    "duration": 93,
    "start_time": "2022-01-30T10:24:34.281Z"
   },
   {
    "duration": 330,
    "start_time": "2022-01-30T10:24:38.421Z"
   },
   {
    "duration": 327,
    "start_time": "2022-01-30T10:24:45.152Z"
   },
   {
    "duration": 248,
    "start_time": "2022-01-30T10:25:03.533Z"
   },
   {
    "duration": 8,
    "start_time": "2022-01-30T10:25:13.274Z"
   },
   {
    "duration": 7,
    "start_time": "2022-01-30T10:25:32.551Z"
   },
   {
    "duration": 6,
    "start_time": "2022-01-30T10:28:50.093Z"
   },
   {
    "duration": 298,
    "start_time": "2022-01-30T10:30:48.220Z"
   },
   {
    "duration": 762,
    "start_time": "2022-01-30T10:30:54.912Z"
   },
   {
    "duration": 139,
    "start_time": "2022-01-30T10:32:44.337Z"
   },
   {
    "duration": 144,
    "start_time": "2022-01-30T10:34:34.469Z"
   },
   {
    "duration": 149,
    "start_time": "2022-01-30T10:34:52.450Z"
   },
   {
    "duration": 141,
    "start_time": "2022-01-30T10:35:51.730Z"
   },
   {
    "duration": 248,
    "start_time": "2022-01-30T10:43:40.722Z"
   },
   {
    "duration": 11,
    "start_time": "2022-01-30T10:43:52.574Z"
   },
   {
    "duration": 432,
    "start_time": "2022-01-30T10:44:04.634Z"
   },
   {
    "duration": 11,
    "start_time": "2022-01-30T10:44:15.957Z"
   },
   {
    "duration": 141,
    "start_time": "2022-01-30T10:47:27.432Z"
   },
   {
    "duration": 149,
    "start_time": "2022-01-30T10:47:38.416Z"
   },
   {
    "duration": 156,
    "start_time": "2022-01-30T10:48:39.052Z"
   },
   {
    "duration": 176,
    "start_time": "2022-01-30T10:48:54.508Z"
   },
   {
    "duration": 153,
    "start_time": "2022-01-30T10:49:13.483Z"
   },
   {
    "duration": 6397,
    "start_time": "2022-01-30T10:52:52.235Z"
   },
   {
    "duration": 5,
    "start_time": "2022-01-30T10:53:10.329Z"
   },
   {
    "duration": 8,
    "start_time": "2022-01-30T10:53:44.311Z"
   },
   {
    "duration": 6,
    "start_time": "2022-01-30T10:53:49.763Z"
   },
   {
    "duration": 7,
    "start_time": "2022-01-30T10:53:58.424Z"
   },
   {
    "duration": 6,
    "start_time": "2022-01-30T10:55:11.338Z"
   },
   {
    "duration": 37,
    "start_time": "2022-01-30T10:56:02.355Z"
   },
   {
    "duration": 34,
    "start_time": "2022-01-30T10:56:22.527Z"
   },
   {
    "duration": 36,
    "start_time": "2022-01-30T10:56:29.304Z"
   },
   {
    "duration": 33,
    "start_time": "2022-01-30T10:57:32.294Z"
   },
   {
    "duration": 43,
    "start_time": "2022-01-30T10:57:47.039Z"
   },
   {
    "duration": 102,
    "start_time": "2022-01-30T10:58:10.429Z"
   },
   {
    "duration": 94,
    "start_time": "2022-01-30T10:58:18.495Z"
   },
   {
    "duration": 36,
    "start_time": "2022-01-30T10:58:27.930Z"
   },
   {
    "duration": 149,
    "start_time": "2022-01-30T10:58:44.823Z"
   },
   {
    "duration": 7,
    "start_time": "2022-01-30T10:58:54.872Z"
   },
   {
    "duration": 153,
    "start_time": "2022-01-30T10:58:57.615Z"
   },
   {
    "duration": 164,
    "start_time": "2022-01-30T10:59:28.984Z"
   },
   {
    "duration": 106,
    "start_time": "2022-01-30T11:13:34.262Z"
   },
   {
    "duration": 6,
    "start_time": "2022-01-30T11:15:14.713Z"
   },
   {
    "duration": 10,
    "start_time": "2022-01-30T11:15:26.573Z"
   },
   {
    "duration": 9,
    "start_time": "2022-01-30T11:15:37.775Z"
   },
   {
    "duration": 11,
    "start_time": "2022-01-30T11:15:41.447Z"
   },
   {
    "duration": 265,
    "start_time": "2022-01-30T11:15:55.596Z"
   },
   {
    "duration": 268,
    "start_time": "2022-01-30T11:16:10.618Z"
   },
   {
    "duration": 7,
    "start_time": "2022-01-30T11:17:57.585Z"
   },
   {
    "duration": 8,
    "start_time": "2022-01-30T11:19:16.040Z"
   },
   {
    "duration": 5,
    "start_time": "2022-01-30T11:20:43.557Z"
   },
   {
    "duration": 4,
    "start_time": "2022-01-30T11:21:10.878Z"
   },
   {
    "duration": 10,
    "start_time": "2022-01-30T11:21:19.138Z"
   },
   {
    "duration": 7,
    "start_time": "2022-01-30T11:21:38.785Z"
   },
   {
    "duration": 6,
    "start_time": "2022-01-30T11:21:49.712Z"
   },
   {
    "duration": 7,
    "start_time": "2022-01-30T11:21:50.430Z"
   },
   {
    "duration": 7,
    "start_time": "2022-01-30T11:21:50.608Z"
   },
   {
    "duration": 7,
    "start_time": "2022-01-30T11:21:50.869Z"
   },
   {
    "duration": 8,
    "start_time": "2022-01-30T11:21:51.008Z"
   },
   {
    "duration": 7,
    "start_time": "2022-01-30T11:21:52.169Z"
   },
   {
    "duration": 7,
    "start_time": "2022-01-30T11:21:53.763Z"
   },
   {
    "duration": 6,
    "start_time": "2022-01-30T11:21:55.088Z"
   },
   {
    "duration": 7,
    "start_time": "2022-01-30T11:21:55.302Z"
   },
   {
    "duration": 7,
    "start_time": "2022-01-30T11:21:55.533Z"
   },
   {
    "duration": 103,
    "start_time": "2022-01-30T11:22:01.159Z"
   },
   {
    "duration": 8,
    "start_time": "2022-01-30T11:22:12.502Z"
   },
   {
    "duration": 8,
    "start_time": "2022-01-30T11:22:15.253Z"
   },
   {
    "duration": 7,
    "start_time": "2022-01-30T11:22:18.596Z"
   },
   {
    "duration": 7,
    "start_time": "2022-01-30T11:22:31.253Z"
   },
   {
    "duration": 7,
    "start_time": "2022-01-30T11:22:35.807Z"
   },
   {
    "duration": 9,
    "start_time": "2022-01-30T11:22:36.506Z"
   },
   {
    "duration": 7,
    "start_time": "2022-01-30T11:22:37.119Z"
   },
   {
    "duration": 8,
    "start_time": "2022-01-30T11:22:39.738Z"
   },
   {
    "duration": 8,
    "start_time": "2022-01-30T11:22:41.940Z"
   },
   {
    "duration": 7,
    "start_time": "2022-01-30T11:22:42.638Z"
   },
   {
    "duration": 8,
    "start_time": "2022-01-30T11:22:43.001Z"
   },
   {
    "duration": 7,
    "start_time": "2022-01-30T11:22:43.165Z"
   },
   {
    "duration": 7,
    "start_time": "2022-01-30T11:22:46.252Z"
   },
   {
    "duration": 7,
    "start_time": "2022-01-30T11:22:48.357Z"
   },
   {
    "duration": 7,
    "start_time": "2022-01-30T11:22:48.549Z"
   },
   {
    "duration": 7,
    "start_time": "2022-01-30T11:22:48.688Z"
   },
   {
    "duration": 7,
    "start_time": "2022-01-30T11:22:48.856Z"
   },
   {
    "duration": 643,
    "start_time": "2022-01-30T11:22:57.034Z"
   },
   {
    "duration": 110,
    "start_time": "2022-01-30T11:22:57.679Z"
   },
   {
    "duration": 16,
    "start_time": "2022-01-30T11:22:57.791Z"
   },
   {
    "duration": 12,
    "start_time": "2022-01-30T11:22:57.810Z"
   },
   {
    "duration": 251,
    "start_time": "2022-01-30T11:22:57.825Z"
   },
   {
    "duration": 7,
    "start_time": "2022-01-30T11:22:58.078Z"
   },
   {
    "duration": 188,
    "start_time": "2022-01-30T11:22:58.087Z"
   },
   {
    "duration": 8,
    "start_time": "2022-01-30T11:22:58.276Z"
   },
   {
    "duration": 28,
    "start_time": "2022-01-30T11:22:58.287Z"
   },
   {
    "duration": 601,
    "start_time": "2022-01-30T11:23:24.529Z"
   },
   {
    "duration": 104,
    "start_time": "2022-01-30T11:23:25.133Z"
   },
   {
    "duration": 11,
    "start_time": "2022-01-30T11:23:25.239Z"
   },
   {
    "duration": 14,
    "start_time": "2022-01-30T11:23:25.253Z"
   },
   {
    "duration": 244,
    "start_time": "2022-01-30T11:23:25.269Z"
   },
   {
    "duration": 7,
    "start_time": "2022-01-30T11:23:25.515Z"
   },
   {
    "duration": 174,
    "start_time": "2022-01-30T11:23:25.524Z"
   },
   {
    "duration": 13,
    "start_time": "2022-01-30T11:23:25.700Z"
   },
   {
    "duration": 17,
    "start_time": "2022-01-30T11:23:25.715Z"
   },
   {
    "duration": 8,
    "start_time": "2022-01-30T11:24:26.401Z"
   },
   {
    "duration": 9,
    "start_time": "2022-01-30T11:24:30.830Z"
   },
   {
    "duration": 8,
    "start_time": "2022-01-30T11:24:32.757Z"
   },
   {
    "duration": 8,
    "start_time": "2022-01-30T11:24:33.674Z"
   },
   {
    "duration": 8,
    "start_time": "2022-01-30T11:24:33.853Z"
   },
   {
    "duration": 9,
    "start_time": "2022-01-30T11:24:34.052Z"
   },
   {
    "duration": 8,
    "start_time": "2022-01-30T11:24:34.212Z"
   },
   {
    "duration": 9,
    "start_time": "2022-01-30T11:24:34.411Z"
   },
   {
    "duration": 8,
    "start_time": "2022-01-30T11:24:34.875Z"
   },
   {
    "duration": 9,
    "start_time": "2022-01-30T11:24:35.053Z"
   },
   {
    "duration": 9,
    "start_time": "2022-01-30T11:24:35.257Z"
   },
   {
    "duration": 8,
    "start_time": "2022-01-30T11:24:35.480Z"
   },
   {
    "duration": 9,
    "start_time": "2022-01-30T11:24:35.679Z"
   },
   {
    "duration": 10,
    "start_time": "2022-01-30T11:24:35.899Z"
   },
   {
    "duration": 8,
    "start_time": "2022-01-30T11:24:36.091Z"
   },
   {
    "duration": 8,
    "start_time": "2022-01-30T11:24:36.286Z"
   },
   {
    "duration": 9,
    "start_time": "2022-01-30T11:24:37.112Z"
   },
   {
    "duration": 10,
    "start_time": "2022-01-30T11:24:37.298Z"
   },
   {
    "duration": 8,
    "start_time": "2022-01-30T11:24:37.483Z"
   },
   {
    "duration": 613,
    "start_time": "2022-01-30T11:24:44.168Z"
   },
   {
    "duration": 110,
    "start_time": "2022-01-30T11:24:44.784Z"
   },
   {
    "duration": 17,
    "start_time": "2022-01-30T11:24:44.897Z"
   },
   {
    "duration": 13,
    "start_time": "2022-01-30T11:24:44.917Z"
   },
   {
    "duration": 250,
    "start_time": "2022-01-30T11:24:44.932Z"
   },
   {
    "duration": 8,
    "start_time": "2022-01-30T11:24:45.184Z"
   },
   {
    "duration": 172,
    "start_time": "2022-01-30T11:24:45.208Z"
   },
   {
    "duration": 8,
    "start_time": "2022-01-30T11:24:45.382Z"
   },
   {
    "duration": 19,
    "start_time": "2022-01-30T11:24:45.392Z"
   },
   {
    "duration": 638,
    "start_time": "2022-01-30T11:24:58.287Z"
   },
   {
    "duration": 106,
    "start_time": "2022-01-30T11:24:58.927Z"
   },
   {
    "duration": 13,
    "start_time": "2022-01-30T11:24:59.035Z"
   },
   {
    "duration": 12,
    "start_time": "2022-01-30T11:24:59.050Z"
   },
   {
    "duration": 243,
    "start_time": "2022-01-30T11:24:59.064Z"
   },
   {
    "duration": 7,
    "start_time": "2022-01-30T11:24:59.310Z"
   },
   {
    "duration": 182,
    "start_time": "2022-01-30T11:24:59.319Z"
   },
   {
    "duration": 8,
    "start_time": "2022-01-30T11:24:59.508Z"
   },
   {
    "duration": 5,
    "start_time": "2022-01-30T11:25:31.867Z"
   },
   {
    "duration": 8,
    "start_time": "2022-01-30T11:25:35.229Z"
   },
   {
    "duration": 8,
    "start_time": "2022-01-30T11:25:52.643Z"
   },
   {
    "duration": 9,
    "start_time": "2022-01-30T11:25:54.294Z"
   },
   {
    "duration": 9,
    "start_time": "2022-01-30T11:25:54.529Z"
   },
   {
    "duration": 8,
    "start_time": "2022-01-30T11:25:54.721Z"
   },
   {
    "duration": 8,
    "start_time": "2022-01-30T11:25:55.251Z"
   },
   {
    "duration": 8,
    "start_time": "2022-01-30T11:25:55.924Z"
   },
   {
    "duration": 10,
    "start_time": "2022-01-30T11:25:55.993Z"
   },
   {
    "duration": 8,
    "start_time": "2022-01-30T11:25:56.611Z"
   },
   {
    "duration": 9,
    "start_time": "2022-01-30T11:25:56.997Z"
   },
   {
    "duration": 11,
    "start_time": "2022-01-30T11:25:57.346Z"
   },
   {
    "duration": 9,
    "start_time": "2022-01-30T11:26:02.816Z"
   },
   {
    "duration": 9,
    "start_time": "2022-01-30T11:26:03.689Z"
   },
   {
    "duration": 9,
    "start_time": "2022-01-30T11:26:03.902Z"
   },
   {
    "duration": 8,
    "start_time": "2022-01-30T11:26:04.279Z"
   },
   {
    "duration": 10,
    "start_time": "2022-01-30T11:26:04.615Z"
   },
   {
    "duration": 8,
    "start_time": "2022-01-30T11:26:04.913Z"
   },
   {
    "duration": 102,
    "start_time": "2022-01-30T11:26:24.285Z"
   },
   {
    "duration": 9,
    "start_time": "2022-01-30T11:26:44.575Z"
   },
   {
    "duration": 8,
    "start_time": "2022-01-30T11:26:45.657Z"
   },
   {
    "duration": 8,
    "start_time": "2022-01-30T11:26:45.845Z"
   },
   {
    "duration": 9,
    "start_time": "2022-01-30T11:26:46.208Z"
   },
   {
    "duration": 9,
    "start_time": "2022-01-30T11:26:46.363Z"
   },
   {
    "duration": 8,
    "start_time": "2022-01-30T11:26:46.519Z"
   },
   {
    "duration": 9,
    "start_time": "2022-01-30T11:26:46.786Z"
   },
   {
    "duration": 9,
    "start_time": "2022-01-30T11:26:46.962Z"
   },
   {
    "duration": 10,
    "start_time": "2022-01-30T11:26:47.109Z"
   },
   {
    "duration": 8,
    "start_time": "2022-01-30T11:26:47.312Z"
   },
   {
    "duration": 8,
    "start_time": "2022-01-30T11:26:47.556Z"
   },
   {
    "duration": 7,
    "start_time": "2022-01-30T11:26:49.035Z"
   },
   {
    "duration": 7,
    "start_time": "2022-01-30T11:26:49.834Z"
   },
   {
    "duration": 10,
    "start_time": "2022-01-30T11:26:50.072Z"
   },
   {
    "duration": 9,
    "start_time": "2022-01-30T11:26:50.283Z"
   },
   {
    "duration": 9,
    "start_time": "2022-01-30T11:26:50.487Z"
   },
   {
    "duration": 9,
    "start_time": "2022-01-30T11:26:50.690Z"
   },
   {
    "duration": 9,
    "start_time": "2022-01-30T11:26:54.949Z"
   },
   {
    "duration": 9,
    "start_time": "2022-01-30T11:26:55.555Z"
   },
   {
    "duration": 9,
    "start_time": "2022-01-30T11:26:55.837Z"
   },
   {
    "duration": 9,
    "start_time": "2022-01-30T11:26:56.081Z"
   },
   {
    "duration": 10,
    "start_time": "2022-01-30T11:26:56.269Z"
   },
   {
    "duration": 9,
    "start_time": "2022-01-30T11:26:56.452Z"
   },
   {
    "duration": 9,
    "start_time": "2022-01-30T11:27:01.557Z"
   },
   {
    "duration": 9,
    "start_time": "2022-01-30T11:27:02.705Z"
   },
   {
    "duration": 8,
    "start_time": "2022-01-30T11:27:03.128Z"
   },
   {
    "duration": 8,
    "start_time": "2022-01-30T11:27:32.025Z"
   },
   {
    "duration": 608,
    "start_time": "2022-01-30T11:27:37.821Z"
   },
   {
    "duration": 113,
    "start_time": "2022-01-30T11:27:38.431Z"
   },
   {
    "duration": 13,
    "start_time": "2022-01-30T11:27:38.546Z"
   },
   {
    "duration": 13,
    "start_time": "2022-01-30T11:27:38.561Z"
   },
   {
    "duration": 253,
    "start_time": "2022-01-30T11:27:38.576Z"
   },
   {
    "duration": 7,
    "start_time": "2022-01-30T11:27:38.831Z"
   },
   {
    "duration": 178,
    "start_time": "2022-01-30T11:27:38.840Z"
   },
   {
    "duration": 7,
    "start_time": "2022-01-30T11:27:39.021Z"
   },
   {
    "duration": 13,
    "start_time": "2022-01-30T11:27:39.030Z"
   },
   {
    "duration": 11,
    "start_time": "2022-01-30T11:27:43.979Z"
   },
   {
    "duration": 12,
    "start_time": "2022-01-30T11:27:45.223Z"
   },
   {
    "duration": 11,
    "start_time": "2022-01-30T11:27:45.554Z"
   },
   {
    "duration": 11,
    "start_time": "2022-01-30T11:27:45.802Z"
   },
   {
    "duration": 8,
    "start_time": "2022-01-30T11:28:14.367Z"
   },
   {
    "duration": 8,
    "start_time": "2022-01-30T11:28:15.415Z"
   },
   {
    "duration": 8,
    "start_time": "2022-01-30T11:28:15.655Z"
   },
   {
    "duration": 8,
    "start_time": "2022-01-30T11:28:15.854Z"
   },
   {
    "duration": 8,
    "start_time": "2022-01-30T11:28:16.030Z"
   },
   {
    "duration": 8,
    "start_time": "2022-01-30T11:28:16.177Z"
   },
   {
    "duration": 8,
    "start_time": "2022-01-30T11:28:16.365Z"
   },
   {
    "duration": 7,
    "start_time": "2022-01-30T11:28:17.629Z"
   },
   {
    "duration": 10,
    "start_time": "2022-01-30T11:28:17.712Z"
   },
   {
    "duration": 8,
    "start_time": "2022-01-30T11:28:17.884Z"
   },
   {
    "duration": 8,
    "start_time": "2022-01-30T11:28:18.027Z"
   },
   {
    "duration": 8,
    "start_time": "2022-01-30T11:33:43.711Z"
   },
   {
    "duration": 6,
    "start_time": "2022-01-30T11:33:49.340Z"
   },
   {
    "duration": 7,
    "start_time": "2022-01-30T11:33:50.146Z"
   },
   {
    "duration": 7,
    "start_time": "2022-01-30T11:33:50.885Z"
   },
   {
    "duration": 8,
    "start_time": "2022-01-30T11:33:51.239Z"
   },
   {
    "duration": 8,
    "start_time": "2022-01-30T11:33:51.594Z"
   },
   {
    "duration": 7,
    "start_time": "2022-01-30T11:33:52.463Z"
   },
   {
    "duration": 6,
    "start_time": "2022-01-30T11:33:53.013Z"
   },
   {
    "duration": 7,
    "start_time": "2022-01-30T11:33:53.384Z"
   },
   {
    "duration": 8,
    "start_time": "2022-01-30T11:33:53.668Z"
   },
   {
    "duration": 820,
    "start_time": "2022-01-30T11:34:00.095Z"
   },
   {
    "duration": 127,
    "start_time": "2022-01-30T11:34:00.917Z"
   },
   {
    "duration": 14,
    "start_time": "2022-01-30T11:34:01.047Z"
   },
   {
    "duration": 14,
    "start_time": "2022-01-30T11:34:01.063Z"
   },
   {
    "duration": 279,
    "start_time": "2022-01-30T11:34:01.079Z"
   },
   {
    "duration": 7,
    "start_time": "2022-01-30T11:34:01.359Z"
   },
   {
    "duration": 188,
    "start_time": "2022-01-30T11:34:01.368Z"
   },
   {
    "duration": 9,
    "start_time": "2022-01-30T11:34:01.558Z"
   },
   {
    "duration": 20,
    "start_time": "2022-01-30T11:34:01.569Z"
   },
   {
    "duration": 6,
    "start_time": "2022-01-30T11:37:42.494Z"
   },
   {
    "duration": 8,
    "start_time": "2022-01-30T11:37:45.608Z"
   },
   {
    "duration": 9,
    "start_time": "2022-01-30T11:37:46.825Z"
   },
   {
    "duration": 30,
    "start_time": "2022-01-30T11:37:57.919Z"
   },
   {
    "duration": 3,
    "start_time": "2022-01-30T11:40:35.846Z"
   },
   {
    "duration": 3,
    "start_time": "2022-01-30T11:40:37.189Z"
   },
   {
    "duration": 3,
    "start_time": "2022-01-30T11:40:37.835Z"
   },
   {
    "duration": 8,
    "start_time": "2022-01-30T11:42:30.966Z"
   },
   {
    "duration": 329,
    "start_time": "2022-01-30T11:43:04.866Z"
   },
   {
    "duration": 8,
    "start_time": "2022-01-30T11:43:33.411Z"
   },
   {
    "duration": 6,
    "start_time": "2022-01-30T11:43:37.519Z"
   },
   {
    "duration": 7,
    "start_time": "2022-01-30T11:43:39.788Z"
   },
   {
    "duration": 7,
    "start_time": "2022-01-30T11:43:55.618Z"
   },
   {
    "duration": 8,
    "start_time": "2022-01-30T11:44:12.249Z"
   },
   {
    "duration": 29,
    "start_time": "2022-01-30T11:44:22.353Z"
   },
   {
    "duration": 24,
    "start_time": "2022-01-30T11:44:37.079Z"
   },
   {
    "duration": 31,
    "start_time": "2022-01-30T11:44:47.505Z"
   },
   {
    "duration": 33,
    "start_time": "2022-01-30T11:45:14.563Z"
   },
   {
    "duration": 32,
    "start_time": "2022-01-30T11:45:27.786Z"
   },
   {
    "duration": 32,
    "start_time": "2022-01-30T11:45:38.171Z"
   },
   {
    "duration": 30,
    "start_time": "2022-01-30T11:45:46.725Z"
   },
   {
    "duration": 29,
    "start_time": "2022-01-30T11:45:52.460Z"
   },
   {
    "duration": 28,
    "start_time": "2022-01-30T11:45:53.142Z"
   },
   {
    "duration": 637,
    "start_time": "2022-01-30T11:45:59.206Z"
   },
   {
    "duration": 107,
    "start_time": "2022-01-30T11:45:59.846Z"
   },
   {
    "duration": 11,
    "start_time": "2022-01-30T11:45:59.955Z"
   },
   {
    "duration": 16,
    "start_time": "2022-01-30T11:45:59.968Z"
   },
   {
    "duration": 339,
    "start_time": "2022-01-30T11:45:59.986Z"
   },
   {
    "duration": 7,
    "start_time": "2022-01-30T11:46:00.327Z"
   },
   {
    "duration": 194,
    "start_time": "2022-01-30T11:46:00.336Z"
   },
   {
    "duration": 7,
    "start_time": "2022-01-30T11:46:00.532Z"
   },
   {
    "duration": 48,
    "start_time": "2022-01-30T11:46:00.542Z"
   },
   {
    "duration": 36,
    "start_time": "2022-01-30T11:46:00.592Z"
   },
   {
    "duration": 34,
    "start_time": "2022-01-30T11:46:10.551Z"
   },
   {
    "duration": 31,
    "start_time": "2022-01-30T11:46:38.949Z"
   },
   {
    "duration": 7,
    "start_time": "2022-01-30T11:46:44.795Z"
   },
   {
    "duration": 32,
    "start_time": "2022-01-30T11:46:53.461Z"
   },
   {
    "duration": 28,
    "start_time": "2022-01-30T11:46:57.361Z"
   },
   {
    "duration": 7,
    "start_time": "2022-01-30T11:47:07.139Z"
   },
   {
    "duration": 6,
    "start_time": "2022-01-30T11:55:32.360Z"
   },
   {
    "duration": 26,
    "start_time": "2022-01-30T11:55:45.923Z"
   },
   {
    "duration": 24,
    "start_time": "2022-01-30T11:56:14.616Z"
   },
   {
    "duration": 7,
    "start_time": "2022-01-30T11:56:29.673Z"
   },
   {
    "duration": 6,
    "start_time": "2022-01-30T11:56:39.411Z"
   },
   {
    "duration": 5,
    "start_time": "2022-01-30T11:57:46.167Z"
   },
   {
    "duration": 45,
    "start_time": "2022-01-30T12:02:36.393Z"
   },
   {
    "duration": 15,
    "start_time": "2022-01-30T12:03:27.086Z"
   },
   {
    "duration": 621,
    "start_time": "2022-01-30T12:03:44.022Z"
   },
   {
    "duration": 111,
    "start_time": "2022-01-30T12:03:44.646Z"
   },
   {
    "duration": 14,
    "start_time": "2022-01-30T12:03:44.761Z"
   },
   {
    "duration": 32,
    "start_time": "2022-01-30T12:03:44.777Z"
   },
   {
    "duration": 260,
    "start_time": "2022-01-30T12:03:44.811Z"
   },
   {
    "duration": 9,
    "start_time": "2022-01-30T12:03:45.073Z"
   },
   {
    "duration": 190,
    "start_time": "2022-01-30T12:03:45.085Z"
   },
   {
    "duration": 8,
    "start_time": "2022-01-30T12:03:45.278Z"
   },
   {
    "duration": 25,
    "start_time": "2022-01-30T12:03:45.289Z"
   },
   {
    "duration": 29,
    "start_time": "2022-01-30T12:03:45.315Z"
   },
   {
    "duration": 9,
    "start_time": "2022-01-30T12:05:13.165Z"
   },
   {
    "duration": 8,
    "start_time": "2022-01-30T12:05:14.206Z"
   },
   {
    "duration": 9,
    "start_time": "2022-01-30T12:05:14.737Z"
   },
   {
    "duration": 8,
    "start_time": "2022-01-30T12:05:14.920Z"
   },
   {
    "duration": 10,
    "start_time": "2022-01-30T12:05:15.131Z"
   },
   {
    "duration": 603,
    "start_time": "2022-01-30T12:05:20.128Z"
   },
   {
    "duration": 109,
    "start_time": "2022-01-30T12:05:20.733Z"
   },
   {
    "duration": 11,
    "start_time": "2022-01-30T12:05:20.844Z"
   },
   {
    "duration": 13,
    "start_time": "2022-01-30T12:05:20.857Z"
   },
   {
    "duration": 249,
    "start_time": "2022-01-30T12:05:20.872Z"
   },
   {
    "duration": 8,
    "start_time": "2022-01-30T12:05:21.123Z"
   },
   {
    "duration": 201,
    "start_time": "2022-01-30T12:05:21.133Z"
   },
   {
    "duration": 8,
    "start_time": "2022-01-30T12:05:21.337Z"
   },
   {
    "duration": 19,
    "start_time": "2022-01-30T12:05:21.347Z"
   },
   {
    "duration": 41,
    "start_time": "2022-01-30T12:05:21.368Z"
   },
   {
    "duration": 4,
    "start_time": "2022-01-30T12:13:08.233Z"
   },
   {
    "duration": 23,
    "start_time": "2022-01-30T12:13:16.794Z"
   },
   {
    "duration": 14,
    "start_time": "2022-01-30T12:17:19.516Z"
   },
   {
    "duration": 421,
    "start_time": "2022-01-30T12:17:37.749Z"
   },
   {
    "duration": 14,
    "start_time": "2022-01-30T12:17:50.258Z"
   },
   {
    "duration": 14,
    "start_time": "2022-01-30T12:18:47.567Z"
   },
   {
    "duration": 14,
    "start_time": "2022-01-30T12:19:00.253Z"
   },
   {
    "duration": 87,
    "start_time": "2022-01-30T12:24:48.013Z"
   },
   {
    "duration": 125,
    "start_time": "2022-01-30T12:25:04.404Z"
   },
   {
    "duration": 7,
    "start_time": "2022-01-30T12:26:25.830Z"
   },
   {
    "duration": 311,
    "start_time": "2022-01-30T12:26:33.228Z"
   },
   {
    "duration": 266,
    "start_time": "2022-01-30T12:27:04.900Z"
   },
   {
    "duration": 256,
    "start_time": "2022-01-30T12:27:46.434Z"
   },
   {
    "duration": 22,
    "start_time": "2022-01-30T12:28:13.004Z"
   },
   {
    "duration": 260,
    "start_time": "2022-01-30T12:29:00.939Z"
   },
   {
    "duration": 633,
    "start_time": "2022-01-30T12:29:30.526Z"
   },
   {
    "duration": 111,
    "start_time": "2022-01-30T12:29:31.161Z"
   },
   {
    "duration": 12,
    "start_time": "2022-01-30T12:29:31.275Z"
   },
   {
    "duration": 27,
    "start_time": "2022-01-30T12:29:31.289Z"
   },
   {
    "duration": 246,
    "start_time": "2022-01-30T12:29:31.318Z"
   },
   {
    "duration": 7,
    "start_time": "2022-01-30T12:29:31.567Z"
   },
   {
    "duration": 189,
    "start_time": "2022-01-30T12:29:31.576Z"
   },
   {
    "duration": 44,
    "start_time": "2022-01-30T12:29:31.767Z"
   },
   {
    "duration": 23,
    "start_time": "2022-01-30T12:29:31.814Z"
   },
   {
    "duration": 588,
    "start_time": "2022-01-30T12:29:57.042Z"
   },
   {
    "duration": 109,
    "start_time": "2022-01-30T12:29:57.633Z"
   },
   {
    "duration": 12,
    "start_time": "2022-01-30T12:29:57.744Z"
   },
   {
    "duration": 30,
    "start_time": "2022-01-30T12:29:57.758Z"
   },
   {
    "duration": 240,
    "start_time": "2022-01-30T12:29:57.790Z"
   },
   {
    "duration": 7,
    "start_time": "2022-01-30T12:29:58.032Z"
   },
   {
    "duration": 188,
    "start_time": "2022-01-30T12:29:58.040Z"
   },
   {
    "duration": 31,
    "start_time": "2022-01-30T12:29:58.230Z"
   },
   {
    "duration": 21,
    "start_time": "2022-01-30T12:29:58.263Z"
   },
   {
    "duration": 679,
    "start_time": "2022-01-30T12:30:21.089Z"
   },
   {
    "duration": 115,
    "start_time": "2022-01-30T12:30:21.771Z"
   },
   {
    "duration": 21,
    "start_time": "2022-01-30T12:30:21.889Z"
   },
   {
    "duration": 15,
    "start_time": "2022-01-30T12:30:21.912Z"
   },
   {
    "duration": 252,
    "start_time": "2022-01-30T12:30:21.929Z"
   },
   {
    "duration": 7,
    "start_time": "2022-01-30T12:30:22.183Z"
   },
   {
    "duration": 193,
    "start_time": "2022-01-30T12:30:22.208Z"
   },
   {
    "duration": 25,
    "start_time": "2022-01-30T12:30:22.404Z"
   },
   {
    "duration": 22,
    "start_time": "2022-01-30T12:30:22.431Z"
   },
   {
    "duration": 27,
    "start_time": "2022-01-30T12:33:03.046Z"
   },
   {
    "duration": 11,
    "start_time": "2022-01-30T12:34:06.985Z"
   },
   {
    "duration": 102,
    "start_time": "2022-01-30T12:34:31.094Z"
   },
   {
    "duration": 3,
    "start_time": "2022-01-30T12:57:55.816Z"
   },
   {
    "duration": 3,
    "start_time": "2022-01-30T12:58:00.046Z"
   },
   {
    "duration": 1267,
    "start_time": "2022-01-30T13:05:37.108Z"
   },
   {
    "duration": 292,
    "start_time": "2022-01-30T13:05:48.063Z"
   },
   {
    "duration": 6,
    "start_time": "2022-01-30T13:05:55.420Z"
   },
   {
    "duration": 7,
    "start_time": "2022-01-30T13:06:29.492Z"
   },
   {
    "duration": 9,
    "start_time": "2022-01-30T13:06:32.774Z"
   },
   {
    "duration": 346,
    "start_time": "2022-01-30T13:06:38.923Z"
   },
   {
    "duration": 10,
    "start_time": "2022-01-30T13:06:50.197Z"
   },
   {
    "duration": 335,
    "start_time": "2022-01-30T13:07:21.079Z"
   },
   {
    "duration": 253,
    "start_time": "2022-01-30T13:07:27.240Z"
   },
   {
    "duration": 12,
    "start_time": "2022-01-30T13:07:41.313Z"
   },
   {
    "duration": 6,
    "start_time": "2022-01-30T13:19:06.378Z"
   },
   {
    "duration": 5,
    "start_time": "2022-01-30T13:19:11.961Z"
   },
   {
    "duration": 632,
    "start_time": "2022-01-30T13:19:22.871Z"
   },
   {
    "duration": 108,
    "start_time": "2022-01-30T13:19:23.505Z"
   },
   {
    "duration": 12,
    "start_time": "2022-01-30T13:19:23.616Z"
   },
   {
    "duration": 13,
    "start_time": "2022-01-30T13:19:23.630Z"
   },
   {
    "duration": 240,
    "start_time": "2022-01-30T13:19:23.645Z"
   },
   {
    "duration": 23,
    "start_time": "2022-01-30T13:19:23.887Z"
   },
   {
    "duration": 176,
    "start_time": "2022-01-30T13:19:23.912Z"
   },
   {
    "duration": 32,
    "start_time": "2022-01-30T13:19:24.090Z"
   },
   {
    "duration": 12,
    "start_time": "2022-01-30T13:19:24.125Z"
   },
   {
    "duration": 6,
    "start_time": "2022-01-30T13:19:24.140Z"
   },
   {
    "duration": 7613,
    "start_time": "2022-01-30T13:19:56.952Z"
   },
   {
    "duration": 58,
    "start_time": "2022-01-30T13:20:11.325Z"
   },
   {
    "duration": 14,
    "start_time": "2022-01-30T13:20:32.146Z"
   },
   {
    "duration": 39,
    "start_time": "2022-01-30T13:23:07.024Z"
   },
   {
    "duration": 129,
    "start_time": "2022-01-30T13:29:04.039Z"
   },
   {
    "duration": 34,
    "start_time": "2022-01-30T13:29:31.647Z"
   },
   {
    "duration": 652,
    "start_time": "2022-01-30T13:30:05.337Z"
   },
   {
    "duration": 120,
    "start_time": "2022-01-30T13:30:05.992Z"
   },
   {
    "duration": 13,
    "start_time": "2022-01-30T13:30:06.115Z"
   },
   {
    "duration": 15,
    "start_time": "2022-01-30T13:30:06.130Z"
   },
   {
    "duration": 265,
    "start_time": "2022-01-30T13:30:06.147Z"
   },
   {
    "duration": 6,
    "start_time": "2022-01-30T13:30:06.414Z"
   },
   {
    "duration": 219,
    "start_time": "2022-01-30T13:30:06.423Z"
   },
   {
    "duration": 26,
    "start_time": "2022-01-30T13:30:06.645Z"
   },
   {
    "duration": 34,
    "start_time": "2022-01-30T13:30:06.674Z"
   },
   {
    "duration": 38,
    "start_time": "2022-01-30T13:30:06.710Z"
   },
   {
    "duration": 38,
    "start_time": "2022-01-30T13:33:16.529Z"
   },
   {
    "duration": 35,
    "start_time": "2022-01-30T13:33:20.577Z"
   },
   {
    "duration": 597,
    "start_time": "2022-01-30T13:33:35.853Z"
   },
   {
    "duration": 116,
    "start_time": "2022-01-30T13:33:36.452Z"
   },
   {
    "duration": 12,
    "start_time": "2022-01-30T13:33:36.570Z"
   },
   {
    "duration": 27,
    "start_time": "2022-01-30T13:33:36.585Z"
   },
   {
    "duration": 242,
    "start_time": "2022-01-30T13:33:36.614Z"
   },
   {
    "duration": 6,
    "start_time": "2022-01-30T13:33:36.858Z"
   },
   {
    "duration": 186,
    "start_time": "2022-01-30T13:33:36.866Z"
   },
   {
    "duration": 23,
    "start_time": "2022-01-30T13:33:37.055Z"
   },
   {
    "duration": 33,
    "start_time": "2022-01-30T13:33:37.080Z"
   },
   {
    "duration": 38,
    "start_time": "2022-01-30T13:33:37.115Z"
   },
   {
    "duration": 119,
    "start_time": "2022-01-30T13:36:47.901Z"
   },
   {
    "duration": 7,
    "start_time": "2022-01-30T13:36:53.470Z"
   },
   {
    "duration": 6918,
    "start_time": "2022-01-30T13:38:16.712Z"
   },
   {
    "duration": 69,
    "start_time": "2022-01-30T13:39:12.462Z"
   },
   {
    "duration": 71,
    "start_time": "2022-01-30T13:39:18.845Z"
   },
   {
    "duration": 14,
    "start_time": "2022-01-30T13:39:29.736Z"
   },
   {
    "duration": 28,
    "start_time": "2022-01-30T13:40:04.570Z"
   },
   {
    "duration": 1064,
    "start_time": "2022-01-30T14:06:49.448Z"
   },
   {
    "duration": 1176,
    "start_time": "2022-01-30T14:07:19.971Z"
   },
   {
    "duration": 1041,
    "start_time": "2022-01-30T14:07:43.307Z"
   },
   {
    "duration": 1354,
    "start_time": "2022-01-30T14:08:38.834Z"
   },
   {
    "duration": 428,
    "start_time": "2022-01-30T14:09:16.520Z"
   },
   {
    "duration": 423,
    "start_time": "2022-01-30T14:09:22.620Z"
   },
   {
    "duration": 424,
    "start_time": "2022-01-30T14:09:23.856Z"
   },
   {
    "duration": 1057,
    "start_time": "2022-01-30T14:10:37.815Z"
   },
   {
    "duration": 439,
    "start_time": "2022-01-30T14:10:58.590Z"
   },
   {
    "duration": 657,
    "start_time": "2022-01-30T14:11:54.505Z"
   },
   {
    "duration": 115,
    "start_time": "2022-01-30T14:11:55.164Z"
   },
   {
    "duration": 27,
    "start_time": "2022-01-30T14:11:55.281Z"
   },
   {
    "duration": 14,
    "start_time": "2022-01-30T14:11:55.310Z"
   },
   {
    "duration": 257,
    "start_time": "2022-01-30T14:11:55.327Z"
   },
   {
    "duration": 7,
    "start_time": "2022-01-30T14:11:55.587Z"
   },
   {
    "duration": 203,
    "start_time": "2022-01-30T14:11:55.609Z"
   },
   {
    "duration": 28,
    "start_time": "2022-01-30T14:11:55.813Z"
   },
   {
    "duration": 14,
    "start_time": "2022-01-30T14:11:55.844Z"
   },
   {
    "duration": 75,
    "start_time": "2022-01-30T14:11:55.860Z"
   },
   {
    "duration": 29,
    "start_time": "2022-01-30T14:11:55.937Z"
   },
   {
    "duration": 1427,
    "start_time": "2022-01-30T14:11:55.968Z"
   },
   {
    "duration": 439,
    "start_time": "2022-01-30T14:12:22.774Z"
   },
   {
    "duration": 632,
    "start_time": "2022-01-30T14:12:28.705Z"
   },
   {
    "duration": 106,
    "start_time": "2022-01-30T14:12:29.340Z"
   },
   {
    "duration": 11,
    "start_time": "2022-01-30T14:12:29.449Z"
   },
   {
    "duration": 14,
    "start_time": "2022-01-30T14:12:29.462Z"
   },
   {
    "duration": 244,
    "start_time": "2022-01-30T14:12:29.478Z"
   },
   {
    "duration": 7,
    "start_time": "2022-01-30T14:12:29.725Z"
   },
   {
    "duration": 187,
    "start_time": "2022-01-30T14:12:29.733Z"
   },
   {
    "duration": 23,
    "start_time": "2022-01-30T14:12:29.923Z"
   },
   {
    "duration": 12,
    "start_time": "2022-01-30T14:12:29.949Z"
   },
   {
    "duration": 73,
    "start_time": "2022-01-30T14:12:29.963Z"
   },
   {
    "duration": 35,
    "start_time": "2022-01-30T14:12:30.038Z"
   },
   {
    "duration": 477,
    "start_time": "2022-01-30T14:12:30.075Z"
   },
   {
    "duration": 500,
    "start_time": "2022-01-30T14:12:46.709Z"
   },
   {
    "duration": 812,
    "start_time": "2022-01-30T14:13:10.307Z"
   },
   {
    "duration": 436,
    "start_time": "2022-01-30T14:13:15.094Z"
   },
   {
    "duration": 7,
    "start_time": "2022-01-30T14:14:18.158Z"
   },
   {
    "duration": 7,
    "start_time": "2022-01-30T14:14:55.138Z"
   },
   {
    "duration": 7,
    "start_time": "2022-01-30T14:14:57.669Z"
   },
   {
    "duration": 3235,
    "start_time": "2022-01-30T14:15:09.828Z"
   },
   {
    "duration": 3610,
    "start_time": "2022-01-30T14:15:27.115Z"
   },
   {
    "duration": 3506,
    "start_time": "2022-01-30T14:15:32.236Z"
   },
   {
    "duration": 3291,
    "start_time": "2022-01-30T14:15:47.626Z"
   },
   {
    "duration": 590,
    "start_time": "2022-01-30T14:16:04.559Z"
   },
   {
    "duration": 109,
    "start_time": "2022-01-30T14:16:05.151Z"
   },
   {
    "duration": 12,
    "start_time": "2022-01-30T14:16:05.262Z"
   },
   {
    "duration": 19,
    "start_time": "2022-01-30T14:16:05.277Z"
   },
   {
    "duration": 239,
    "start_time": "2022-01-30T14:16:05.307Z"
   },
   {
    "duration": 8,
    "start_time": "2022-01-30T14:16:05.548Z"
   },
   {
    "duration": 191,
    "start_time": "2022-01-30T14:16:05.558Z"
   },
   {
    "duration": 25,
    "start_time": "2022-01-30T14:16:05.751Z"
   },
   {
    "duration": 32,
    "start_time": "2022-01-30T14:16:05.779Z"
   },
   {
    "duration": 37,
    "start_time": "2022-01-30T14:16:05.814Z"
   },
   {
    "duration": 56,
    "start_time": "2022-01-30T14:16:05.853Z"
   },
   {
    "duration": 7,
    "start_time": "2022-01-30T14:16:05.911Z"
   },
   {
    "duration": 7,
    "start_time": "2022-01-30T14:16:11.559Z"
   },
   {
    "duration": 6,
    "start_time": "2022-01-30T14:16:12.811Z"
   },
   {
    "duration": 6,
    "start_time": "2022-01-30T14:16:13.194Z"
   },
   {
    "duration": 6,
    "start_time": "2022-01-30T14:16:13.394Z"
   },
   {
    "duration": 6,
    "start_time": "2022-01-30T14:16:13.565Z"
   },
   {
    "duration": 7,
    "start_time": "2022-01-30T14:16:31.616Z"
   },
   {
    "duration": 8,
    "start_time": "2022-01-30T14:17:03.824Z"
   },
   {
    "duration": 7,
    "start_time": "2022-01-30T14:22:57.848Z"
   },
   {
    "duration": 5,
    "start_time": "2022-01-30T14:27:23.705Z"
   },
   {
    "duration": 19,
    "start_time": "2022-01-30T14:27:30.232Z"
   },
   {
    "duration": 19,
    "start_time": "2022-01-30T14:30:01.888Z"
   },
   {
    "duration": 332,
    "start_time": "2022-01-30T14:31:44.982Z"
   },
   {
    "duration": 8,
    "start_time": "2022-01-30T14:31:54.462Z"
   },
   {
    "duration": 9,
    "start_time": "2022-01-30T14:32:02.191Z"
   },
   {
    "duration": 11,
    "start_time": "2022-01-30T14:33:44.422Z"
   },
   {
    "duration": 258,
    "start_time": "2022-01-30T14:34:12.142Z"
   },
   {
    "duration": 15,
    "start_time": "2022-01-30T14:34:17.665Z"
   },
   {
    "duration": 268,
    "start_time": "2022-01-30T14:36:29.997Z"
   },
   {
    "duration": 5,
    "start_time": "2022-01-30T14:36:34.545Z"
   },
   {
    "duration": 662,
    "start_time": "2022-01-30T14:36:55.689Z"
   },
   {
    "duration": 112,
    "start_time": "2022-01-30T14:36:56.353Z"
   },
   {
    "duration": 13,
    "start_time": "2022-01-30T14:36:56.468Z"
   },
   {
    "duration": 31,
    "start_time": "2022-01-30T14:36:56.483Z"
   },
   {
    "duration": 239,
    "start_time": "2022-01-30T14:36:56.515Z"
   },
   {
    "duration": 6,
    "start_time": "2022-01-30T14:36:56.756Z"
   },
   {
    "duration": 185,
    "start_time": "2022-01-30T14:36:56.764Z"
   },
   {
    "duration": 22,
    "start_time": "2022-01-30T14:36:56.952Z"
   },
   {
    "duration": 31,
    "start_time": "2022-01-30T14:36:56.976Z"
   },
   {
    "duration": 38,
    "start_time": "2022-01-30T14:36:57.010Z"
   },
   {
    "duration": 58,
    "start_time": "2022-01-30T14:36:57.051Z"
   },
   {
    "duration": 9,
    "start_time": "2022-01-30T14:36:57.111Z"
   },
   {
    "duration": 30,
    "start_time": "2022-01-30T14:36:57.121Z"
   },
   {
    "duration": 16,
    "start_time": "2022-01-30T14:36:57.153Z"
   },
   {
    "duration": 14,
    "start_time": "2022-01-30T14:36:57.171Z"
   },
   {
    "duration": 6,
    "start_time": "2022-01-30T14:37:27.106Z"
   },
   {
    "duration": 626,
    "start_time": "2022-01-30T14:37:37.011Z"
   },
   {
    "duration": 111,
    "start_time": "2022-01-30T14:37:37.639Z"
   },
   {
    "duration": 17,
    "start_time": "2022-01-30T14:37:37.752Z"
   },
   {
    "duration": 16,
    "start_time": "2022-01-30T14:37:37.772Z"
   },
   {
    "duration": 234,
    "start_time": "2022-01-30T14:37:37.807Z"
   },
   {
    "duration": 9,
    "start_time": "2022-01-30T14:37:38.044Z"
   },
   {
    "duration": 189,
    "start_time": "2022-01-30T14:37:38.055Z"
   },
   {
    "duration": 24,
    "start_time": "2022-01-30T14:37:38.248Z"
   },
   {
    "duration": 39,
    "start_time": "2022-01-30T14:37:38.274Z"
   },
   {
    "duration": 39,
    "start_time": "2022-01-30T14:37:38.315Z"
   },
   {
    "duration": 53,
    "start_time": "2022-01-30T14:37:38.357Z"
   },
   {
    "duration": 8,
    "start_time": "2022-01-30T14:37:38.413Z"
   },
   {
    "duration": 19,
    "start_time": "2022-01-30T14:37:38.424Z"
   },
   {
    "duration": 6,
    "start_time": "2022-01-30T14:37:38.445Z"
   },
   {
    "duration": 6,
    "start_time": "2022-01-30T14:39:56.044Z"
   },
   {
    "duration": 7,
    "start_time": "2022-01-30T14:40:29.514Z"
   },
   {
    "duration": 8,
    "start_time": "2022-01-30T14:40:33.925Z"
   },
   {
    "duration": 22,
    "start_time": "2022-01-30T14:40:50.132Z"
   },
   {
    "duration": 7,
    "start_time": "2022-01-30T14:42:02.358Z"
   },
   {
    "duration": 6,
    "start_time": "2022-01-30T14:47:50.751Z"
   },
   {
    "duration": 7,
    "start_time": "2022-01-30T14:48:05.586Z"
   },
   {
    "duration": 24,
    "start_time": "2022-01-30T14:48:09.424Z"
   },
   {
    "duration": 8,
    "start_time": "2022-01-30T14:48:26.449Z"
   },
   {
    "duration": 18,
    "start_time": "2022-01-30T14:48:28.147Z"
   },
   {
    "duration": 588,
    "start_time": "2022-01-30T14:48:38.348Z"
   },
   {
    "duration": 108,
    "start_time": "2022-01-30T14:48:38.938Z"
   },
   {
    "duration": 12,
    "start_time": "2022-01-30T14:48:39.048Z"
   },
   {
    "duration": 14,
    "start_time": "2022-01-30T14:48:39.062Z"
   },
   {
    "duration": 259,
    "start_time": "2022-01-30T14:48:39.078Z"
   },
   {
    "duration": 7,
    "start_time": "2022-01-30T14:48:39.339Z"
   },
   {
    "duration": 184,
    "start_time": "2022-01-30T14:48:39.348Z"
   },
   {
    "duration": 23,
    "start_time": "2022-01-30T14:48:39.535Z"
   },
   {
    "duration": 12,
    "start_time": "2022-01-30T14:48:39.560Z"
   },
   {
    "duration": 66,
    "start_time": "2022-01-30T14:48:39.574Z"
   },
   {
    "duration": 30,
    "start_time": "2022-01-30T14:48:39.642Z"
   },
   {
    "duration": 36,
    "start_time": "2022-01-30T14:48:39.674Z"
   },
   {
    "duration": 7,
    "start_time": "2022-01-30T14:48:39.712Z"
   },
   {
    "duration": 18,
    "start_time": "2022-01-30T14:48:39.721Z"
   },
   {
    "duration": 5,
    "start_time": "2022-01-30T14:48:39.741Z"
   },
   {
    "duration": 10,
    "start_time": "2022-01-30T14:48:39.748Z"
   },
   {
    "duration": 50,
    "start_time": "2022-01-30T14:48:39.759Z"
   },
   {
    "duration": 18,
    "start_time": "2022-01-30T14:50:11.490Z"
   },
   {
    "duration": 4,
    "start_time": "2022-01-30T14:52:03.748Z"
   },
   {
    "duration": 17,
    "start_time": "2022-01-30T14:52:09.042Z"
   },
   {
    "duration": 6548,
    "start_time": "2022-01-30T14:57:29.325Z"
   },
   {
    "duration": 2692,
    "start_time": "2022-01-30T14:57:42.362Z"
   },
   {
    "duration": 9,
    "start_time": "2022-01-30T14:58:13.447Z"
   },
   {
    "duration": 23,
    "start_time": "2022-01-30T14:58:21.175Z"
   },
   {
    "duration": 19,
    "start_time": "2022-01-30T14:58:38.915Z"
   },
   {
    "duration": 21,
    "start_time": "2022-01-30T14:58:47.048Z"
   },
   {
    "duration": 16,
    "start_time": "2022-01-30T14:58:51.900Z"
   },
   {
    "duration": 7,
    "start_time": "2022-01-30T15:09:18.868Z"
   },
   {
    "duration": 325,
    "start_time": "2022-01-31T16:27:08.474Z"
   },
   {
    "duration": 1164,
    "start_time": "2022-01-31T16:27:15.449Z"
   },
   {
    "duration": 209,
    "start_time": "2022-01-31T16:27:16.616Z"
   },
   {
    "duration": 36,
    "start_time": "2022-01-31T16:27:16.830Z"
   },
   {
    "duration": 27,
    "start_time": "2022-01-31T16:27:16.870Z"
   },
   {
    "duration": 569,
    "start_time": "2022-01-31T16:27:16.900Z"
   },
   {
    "duration": 12,
    "start_time": "2022-01-31T16:27:17.472Z"
   },
   {
    "duration": 426,
    "start_time": "2022-01-31T16:27:17.487Z"
   },
   {
    "duration": 50,
    "start_time": "2022-01-31T16:27:17.917Z"
   },
   {
    "duration": 20,
    "start_time": "2022-01-31T16:27:17.973Z"
   },
   {
    "duration": 100,
    "start_time": "2022-01-31T16:27:17.997Z"
   },
   {
    "duration": 77,
    "start_time": "2022-01-31T16:27:18.100Z"
   },
   {
    "duration": 11,
    "start_time": "2022-01-31T16:27:18.181Z"
   },
   {
    "duration": 11,
    "start_time": "2022-01-31T16:27:18.196Z"
   },
   {
    "duration": 40,
    "start_time": "2022-01-31T16:27:18.210Z"
   },
   {
    "duration": 23,
    "start_time": "2022-01-31T16:27:18.253Z"
   },
   {
    "duration": 25,
    "start_time": "2022-01-31T16:27:18.279Z"
   },
   {
    "duration": 61,
    "start_time": "2022-01-31T16:27:18.307Z"
   },
   {
    "duration": 6,
    "start_time": "2022-01-31T16:27:18.370Z"
   },
   {
    "duration": 25,
    "start_time": "2022-01-31T16:27:35.974Z"
   },
   {
    "duration": 378,
    "start_time": "2022-01-31T16:27:59.773Z"
   },
   {
    "duration": 26,
    "start_time": "2022-01-31T16:28:15.019Z"
   },
   {
    "duration": 8,
    "start_time": "2022-01-31T16:33:57.750Z"
   },
   {
    "duration": 17,
    "start_time": "2022-01-31T16:34:24.253Z"
   },
   {
    "duration": 41,
    "start_time": "2022-01-31T16:34:28.790Z"
   },
   {
    "duration": 6,
    "start_time": "2022-01-31T16:52:44.685Z"
   },
   {
    "duration": 9,
    "start_time": "2022-01-31T16:53:22.921Z"
   },
   {
    "duration": 28,
    "start_time": "2022-01-31T16:53:29.491Z"
   },
   {
    "duration": 30,
    "start_time": "2022-01-31T16:55:59.910Z"
   },
   {
    "duration": 31,
    "start_time": "2022-01-31T16:56:13.032Z"
   },
   {
    "duration": 32,
    "start_time": "2022-01-31T16:56:21.761Z"
   },
   {
    "duration": 7952,
    "start_time": "2022-01-31T17:06:43.418Z"
   },
   {
    "duration": 8283,
    "start_time": "2022-01-31T17:07:01.930Z"
   },
   {
    "duration": 721,
    "start_time": "2022-01-31T17:07:45.929Z"
   },
   {
    "duration": 4049,
    "start_time": "2022-01-31T17:08:22.701Z"
   },
   {
    "duration": 5388,
    "start_time": "2022-01-31T17:09:26.922Z"
   },
   {
    "duration": 985,
    "start_time": "2022-01-31T17:09:42.387Z"
   },
   {
    "duration": 8650,
    "start_time": "2022-01-31T17:10:27.532Z"
   },
   {
    "duration": 276,
    "start_time": "2022-01-31T17:11:38.029Z"
   },
   {
    "duration": 694,
    "start_time": "2022-01-31T17:11:44.876Z"
   },
   {
    "duration": 803,
    "start_time": "2022-01-31T17:11:57.446Z"
   },
   {
    "duration": 695,
    "start_time": "2022-01-31T17:12:43.257Z"
   },
   {
    "duration": 795,
    "start_time": "2022-01-31T17:12:51.457Z"
   },
   {
    "duration": 4,
    "start_time": "2022-01-31T17:24:21.691Z"
   },
   {
    "duration": 4,
    "start_time": "2022-01-31T17:24:27.094Z"
   },
   {
    "duration": 287,
    "start_time": "2022-01-31T17:25:15.477Z"
   },
   {
    "duration": 545,
    "start_time": "2022-01-31T17:25:37.139Z"
   },
   {
    "duration": 5,
    "start_time": "2022-01-31T17:25:44.066Z"
   },
   {
    "duration": 544,
    "start_time": "2022-01-31T17:25:46.419Z"
   },
   {
    "duration": 4,
    "start_time": "2022-01-31T17:25:56.162Z"
   },
   {
    "duration": 411,
    "start_time": "2022-01-31T17:25:57.907Z"
   },
   {
    "duration": 3,
    "start_time": "2022-01-31T17:35:00.050Z"
   },
   {
    "duration": 483,
    "start_time": "2022-01-31T17:35:35.677Z"
   },
   {
    "duration": 412,
    "start_time": "2022-01-31T17:36:09.770Z"
   },
   {
    "duration": 401,
    "start_time": "2022-01-31T17:36:15.462Z"
   },
   {
    "duration": 410,
    "start_time": "2022-01-31T17:36:20.583Z"
   },
   {
    "duration": 3,
    "start_time": "2022-01-31T17:39:52.607Z"
   },
   {
    "duration": 413,
    "start_time": "2022-01-31T17:40:30.764Z"
   },
   {
    "duration": 450,
    "start_time": "2022-01-31T17:40:38.656Z"
   },
   {
    "duration": 388,
    "start_time": "2022-01-31T17:42:57.528Z"
   },
   {
    "duration": 398,
    "start_time": "2022-01-31T17:43:17.667Z"
   },
   {
    "duration": 4,
    "start_time": "2022-01-31T17:48:28.314Z"
   },
   {
    "duration": 414,
    "start_time": "2022-01-31T17:49:13.400Z"
   },
   {
    "duration": 407,
    "start_time": "2022-01-31T17:49:20.662Z"
   },
   {
    "duration": 401,
    "start_time": "2022-01-31T17:49:23.733Z"
   },
   {
    "duration": 414,
    "start_time": "2022-01-31T17:49:37.319Z"
   },
   {
    "duration": 504,
    "start_time": "2022-01-31T17:50:45.359Z"
   },
   {
    "duration": 416,
    "start_time": "2022-01-31T17:50:54.296Z"
   },
   {
    "duration": 14,
    "start_time": "2022-01-31T17:51:26.165Z"
   },
   {
    "duration": 402,
    "start_time": "2022-01-31T17:51:39.052Z"
   },
   {
    "duration": 517,
    "start_time": "2022-01-31T17:51:53.006Z"
   },
   {
    "duration": 413,
    "start_time": "2022-01-31T17:52:02.485Z"
   },
   {
    "duration": 377,
    "start_time": "2022-02-01T18:57:52.543Z"
   },
   {
    "duration": 575,
    "start_time": "2022-02-01T18:57:59.354Z"
   },
   {
    "duration": 101,
    "start_time": "2022-02-01T18:57:59.930Z"
   },
   {
    "duration": 12,
    "start_time": "2022-02-01T18:58:00.033Z"
   },
   {
    "duration": 15,
    "start_time": "2022-02-01T18:58:00.047Z"
   },
   {
    "duration": 233,
    "start_time": "2022-02-01T18:58:00.064Z"
   },
   {
    "duration": 20,
    "start_time": "2022-02-01T18:58:00.299Z"
   },
   {
    "duration": 171,
    "start_time": "2022-02-01T18:58:00.321Z"
   },
   {
    "duration": 27,
    "start_time": "2022-02-01T18:58:00.495Z"
   },
   {
    "duration": 12,
    "start_time": "2022-02-01T18:58:00.524Z"
   },
   {
    "duration": 48,
    "start_time": "2022-02-01T18:58:00.537Z"
   },
   {
    "duration": 45,
    "start_time": "2022-02-01T18:58:00.586Z"
   },
   {
    "duration": 3,
    "start_time": "2022-02-01T18:58:00.632Z"
   },
   {
    "duration": 20,
    "start_time": "2022-02-01T18:58:00.636Z"
   },
   {
    "duration": 12,
    "start_time": "2022-02-01T18:58:00.658Z"
   },
   {
    "duration": 28,
    "start_time": "2022-02-01T18:58:00.672Z"
   },
   {
    "duration": 27,
    "start_time": "2022-02-01T18:58:00.702Z"
   },
   {
    "duration": 18,
    "start_time": "2022-02-01T18:58:00.731Z"
   },
   {
    "duration": 18,
    "start_time": "2022-02-01T18:58:00.751Z"
   },
   {
    "duration": 54,
    "start_time": "2022-02-01T18:58:00.771Z"
   },
   {
    "duration": 537,
    "start_time": "2022-02-01T18:58:00.828Z"
   },
   {
    "duration": 22,
    "start_time": "2022-02-01T18:58:01.367Z"
   },
   {
    "duration": 4,
    "start_time": "2022-02-01T18:58:01.391Z"
   },
   {
    "duration": 256,
    "start_time": "2022-02-01T18:58:01.420Z"
   },
   {
    "duration": 474,
    "start_time": "2022-02-01T18:58:01.679Z"
   },
   {
    "duration": 451,
    "start_time": "2022-02-01T18:58:02.156Z"
   },
   {
    "duration": 249,
    "start_time": "2022-02-01T18:58:02.610Z"
   },
   {
    "duration": 260,
    "start_time": "2022-02-01T18:58:02.861Z"
   },
   {
    "duration": 12,
    "start_time": "2022-02-01T18:58:03.123Z"
   },
   {
    "duration": 383,
    "start_time": "2022-02-01T18:58:03.138Z"
   },
   {
    "duration": 231,
    "start_time": "2022-02-01T19:02:43.318Z"
   },
   {
    "duration": 253,
    "start_time": "2022-02-01T19:02:46.656Z"
   },
   {
    "duration": 244,
    "start_time": "2022-02-01T19:02:54.109Z"
   },
   {
    "duration": 4,
    "start_time": "2022-02-01T19:06:09.663Z"
   },
   {
    "duration": 531,
    "start_time": "2022-02-01T19:06:54.192Z"
   },
   {
    "duration": 2,
    "start_time": "2022-02-01T19:07:16.446Z"
   },
   {
    "duration": 515,
    "start_time": "2022-02-01T19:07:21.537Z"
   },
   {
    "duration": 89,
    "start_time": "2022-02-01T19:08:23.751Z"
   },
   {
    "duration": 3,
    "start_time": "2022-02-01T19:08:38.625Z"
   },
   {
    "duration": 213,
    "start_time": "2022-02-01T19:08:42.165Z"
   },
   {
    "duration": 127,
    "start_time": "2022-02-01T19:09:48.014Z"
   },
   {
    "duration": 9,
    "start_time": "2022-02-01T19:23:33.450Z"
   },
   {
    "duration": 21,
    "start_time": "2022-02-01T19:24:04.324Z"
   },
   {
    "duration": 17,
    "start_time": "2022-02-01T19:24:17.351Z"
   },
   {
    "duration": 16,
    "start_time": "2022-02-01T19:24:21.044Z"
   },
   {
    "duration": 14,
    "start_time": "2022-02-01T19:24:27.812Z"
   },
   {
    "duration": 15,
    "start_time": "2022-02-01T19:24:33.355Z"
   },
   {
    "duration": 18,
    "start_time": "2022-02-01T19:24:37.918Z"
   },
   {
    "duration": 19,
    "start_time": "2022-02-01T19:24:38.998Z"
   },
   {
    "duration": 17,
    "start_time": "2022-02-01T19:24:39.974Z"
   },
   {
    "duration": 18,
    "start_time": "2022-02-01T19:24:40.202Z"
   },
   {
    "duration": 14,
    "start_time": "2022-02-01T19:24:40.407Z"
   },
   {
    "duration": 18,
    "start_time": "2022-02-01T19:24:40.584Z"
   },
   {
    "duration": 29,
    "start_time": "2022-02-01T19:24:40.740Z"
   },
   {
    "duration": 16,
    "start_time": "2022-02-01T19:24:40.903Z"
   },
   {
    "duration": 22,
    "start_time": "2022-02-01T19:24:41.519Z"
   },
   {
    "duration": 20,
    "start_time": "2022-02-01T19:24:41.709Z"
   },
   {
    "duration": 18,
    "start_time": "2022-02-01T19:24:41.877Z"
   },
   {
    "duration": 16,
    "start_time": "2022-02-01T19:24:42.251Z"
   },
   {
    "duration": 18,
    "start_time": "2022-02-01T19:24:42.427Z"
   },
   {
    "duration": 9,
    "start_time": "2022-02-01T19:24:52.898Z"
   },
   {
    "duration": 14,
    "start_time": "2022-02-01T19:24:53.649Z"
   },
   {
    "duration": 10,
    "start_time": "2022-02-01T19:24:53.944Z"
   },
   {
    "duration": 9,
    "start_time": "2022-02-01T19:24:54.147Z"
   },
   {
    "duration": 9,
    "start_time": "2022-02-01T19:24:54.315Z"
   },
   {
    "duration": 11,
    "start_time": "2022-02-01T19:24:54.466Z"
   },
   {
    "duration": 13,
    "start_time": "2022-02-01T19:24:54.680Z"
   },
   {
    "duration": 9,
    "start_time": "2022-02-01T19:24:54.909Z"
   },
   {
    "duration": 11,
    "start_time": "2022-02-01T19:24:55.080Z"
   },
   {
    "duration": 11,
    "start_time": "2022-02-01T19:24:55.370Z"
   },
   {
    "duration": 11,
    "start_time": "2022-02-01T19:24:55.515Z"
   },
   {
    "duration": 11,
    "start_time": "2022-02-01T19:24:55.654Z"
   },
   {
    "duration": 12,
    "start_time": "2022-02-01T19:24:55.798Z"
   },
   {
    "duration": 9,
    "start_time": "2022-02-01T19:24:55.962Z"
   },
   {
    "duration": 11,
    "start_time": "2022-02-01T19:24:56.109Z"
   },
   {
    "duration": 11,
    "start_time": "2022-02-01T19:24:56.245Z"
   },
   {
    "duration": 9,
    "start_time": "2022-02-01T19:24:56.392Z"
   },
   {
    "duration": 9,
    "start_time": "2022-02-01T19:24:56.532Z"
   },
   {
    "duration": 13,
    "start_time": "2022-02-01T19:24:56.683Z"
   },
   {
    "duration": 13,
    "start_time": "2022-02-01T19:24:56.818Z"
   },
   {
    "duration": 11,
    "start_time": "2022-02-01T19:24:56.969Z"
   },
   {
    "duration": 10,
    "start_time": "2022-02-01T19:24:57.098Z"
   },
   {
    "duration": 11,
    "start_time": "2022-02-01T19:24:57.261Z"
   },
   {
    "duration": 11,
    "start_time": "2022-02-01T19:24:57.553Z"
   },
   {
    "duration": 10,
    "start_time": "2022-02-01T19:24:57.772Z"
   },
   {
    "duration": 10,
    "start_time": "2022-02-01T19:24:58.148Z"
   },
   {
    "duration": 10,
    "start_time": "2022-02-01T19:24:58.273Z"
   },
   {
    "duration": 17,
    "start_time": "2022-02-01T19:25:46.654Z"
   },
   {
    "duration": 908,
    "start_time": "2022-02-01T19:25:55.379Z"
   },
   {
    "duration": 103,
    "start_time": "2022-02-01T19:25:56.289Z"
   },
   {
    "duration": 11,
    "start_time": "2022-02-01T19:25:56.394Z"
   },
   {
    "duration": 15,
    "start_time": "2022-02-01T19:25:56.418Z"
   },
   {
    "duration": 158,
    "start_time": "2022-02-01T19:25:56.435Z"
   },
   {
    "duration": 9,
    "start_time": "2022-02-01T19:25:56.595Z"
   },
   {
    "duration": 275,
    "start_time": "2022-02-01T19:25:56.605Z"
   },
   {
    "duration": 39,
    "start_time": "2022-02-01T19:25:56.884Z"
   },
   {
    "duration": 11,
    "start_time": "2022-02-01T19:25:56.926Z"
   },
   {
    "duration": 36,
    "start_time": "2022-02-01T19:25:56.940Z"
   },
   {
    "duration": 62,
    "start_time": "2022-02-01T19:25:56.977Z"
   },
   {
    "duration": 4,
    "start_time": "2022-02-01T19:25:57.041Z"
   },
   {
    "duration": 10,
    "start_time": "2022-02-01T19:25:57.047Z"
   },
   {
    "duration": 11,
    "start_time": "2022-02-01T19:25:57.059Z"
   },
   {
    "duration": 52,
    "start_time": "2022-02-01T19:25:57.073Z"
   },
   {
    "duration": 20,
    "start_time": "2022-02-01T19:25:57.127Z"
   },
   {
    "duration": 26,
    "start_time": "2022-02-01T19:25:57.149Z"
   },
   {
    "duration": 42,
    "start_time": "2022-02-01T19:25:57.177Z"
   },
   {
    "duration": 26,
    "start_time": "2022-02-01T19:25:57.221Z"
   },
   {
    "duration": 545,
    "start_time": "2022-02-01T19:25:57.249Z"
   },
   {
    "duration": 31,
    "start_time": "2022-02-01T19:25:57.796Z"
   },
   {
    "duration": 4,
    "start_time": "2022-02-01T19:25:57.829Z"
   },
   {
    "duration": 256,
    "start_time": "2022-02-01T19:25:57.836Z"
   },
   {
    "duration": 270,
    "start_time": "2022-02-01T19:25:58.094Z"
   },
   {
    "duration": 321,
    "start_time": "2022-02-01T19:25:58.367Z"
   },
   {
    "duration": 323,
    "start_time": "2022-02-01T19:25:58.690Z"
   },
   {
    "duration": 259,
    "start_time": "2022-02-01T19:25:59.015Z"
   },
   {
    "duration": 146,
    "start_time": "2022-02-01T19:25:59.276Z"
   },
   {
    "duration": 9,
    "start_time": "2022-02-01T19:25:59.424Z"
   },
   {
    "duration": 14,
    "start_time": "2022-02-01T19:25:59.435Z"
   },
   {
    "duration": 10,
    "start_time": "2022-02-01T19:26:26.289Z"
   },
   {
    "duration": 594,
    "start_time": "2022-02-02T18:07:35.521Z"
   },
   {
    "duration": 94,
    "start_time": "2022-02-02T18:07:36.117Z"
   },
   {
    "duration": 11,
    "start_time": "2022-02-02T18:07:36.214Z"
   },
   {
    "duration": 13,
    "start_time": "2022-02-02T18:07:36.227Z"
   },
   {
    "duration": 148,
    "start_time": "2022-02-02T18:07:36.259Z"
   },
   {
    "duration": 6,
    "start_time": "2022-02-02T18:07:36.408Z"
   },
   {
    "duration": 167,
    "start_time": "2022-02-02T18:07:36.415Z"
   },
   {
    "duration": 18,
    "start_time": "2022-02-02T18:07:36.584Z"
   },
   {
    "duration": 10,
    "start_time": "2022-02-02T18:07:36.605Z"
   },
   {
    "duration": 56,
    "start_time": "2022-02-02T18:07:36.617Z"
   },
   {
    "duration": 24,
    "start_time": "2022-02-02T18:07:36.675Z"
   },
   {
    "duration": 2,
    "start_time": "2022-02-02T18:07:36.701Z"
   },
   {
    "duration": 10,
    "start_time": "2022-02-02T18:07:36.704Z"
   },
   {
    "duration": 7,
    "start_time": "2022-02-02T18:07:36.715Z"
   },
   {
    "duration": 43,
    "start_time": "2022-02-02T18:07:36.723Z"
   },
   {
    "duration": 15,
    "start_time": "2022-02-02T18:07:36.767Z"
   },
   {
    "duration": 16,
    "start_time": "2022-02-02T18:07:36.784Z"
   },
   {
    "duration": 17,
    "start_time": "2022-02-02T18:07:36.801Z"
   },
   {
    "duration": 53,
    "start_time": "2022-02-02T18:07:36.820Z"
   },
   {
    "duration": 503,
    "start_time": "2022-02-02T18:07:36.875Z"
   },
   {
    "duration": 19,
    "start_time": "2022-02-02T18:07:37.379Z"
   },
   {
    "duration": 3,
    "start_time": "2022-02-02T18:07:37.400Z"
   },
   {
    "duration": 245,
    "start_time": "2022-02-02T18:07:37.405Z"
   },
   {
    "duration": 261,
    "start_time": "2022-02-02T18:07:37.652Z"
   },
   {
    "duration": 244,
    "start_time": "2022-02-02T18:07:37.914Z"
   },
   {
    "duration": 240,
    "start_time": "2022-02-02T18:07:38.160Z"
   },
   {
    "duration": 258,
    "start_time": "2022-02-02T18:07:38.403Z"
   },
   {
    "duration": 136,
    "start_time": "2022-02-02T18:07:38.663Z"
   },
   {
    "duration": 8,
    "start_time": "2022-02-02T18:07:38.800Z"
   },
   {
    "duration": 7,
    "start_time": "2022-02-02T18:07:38.811Z"
   },
   {
    "duration": 5,
    "start_time": "2022-02-02T18:10:04.864Z"
   },
   {
    "duration": 6,
    "start_time": "2022-02-02T18:13:02.870Z"
   },
   {
    "duration": 5,
    "start_time": "2022-02-02T18:13:09.960Z"
   },
   {
    "duration": 6,
    "start_time": "2022-02-02T18:14:06.430Z"
   },
   {
    "duration": 242,
    "start_time": "2022-02-02T18:15:37.707Z"
   },
   {
    "duration": 4,
    "start_time": "2022-02-02T18:15:46.289Z"
   },
   {
    "duration": 171,
    "start_time": "2022-02-02T18:15:47.442Z"
   },
   {
    "duration": 185,
    "start_time": "2022-02-02T18:16:53.609Z"
   },
   {
    "duration": 57,
    "start_time": "2022-02-02T18:17:25.483Z"
   },
   {
    "duration": 4274,
    "start_time": "2022-02-02T18:17:31.979Z"
   },
   {
    "duration": 4230,
    "start_time": "2022-02-02T18:17:50.949Z"
   },
   {
    "duration": 224,
    "start_time": "2022-02-02T18:20:04.190Z"
   },
   {
    "duration": 3,
    "start_time": "2022-02-02T18:20:09.199Z"
   },
   {
    "duration": 357,
    "start_time": "2022-02-02T18:20:11.572Z"
   },
   {
    "duration": 241,
    "start_time": "2022-02-02T18:21:50.143Z"
   },
   {
    "duration": 3,
    "start_time": "2022-02-02T18:22:31.736Z"
   },
   {
    "duration": 22,
    "start_time": "2022-02-02T18:24:30.026Z"
   },
   {
    "duration": 20,
    "start_time": "2022-02-02T18:24:46.528Z"
   },
   {
    "duration": 324,
    "start_time": "2022-02-02T18:24:59.329Z"
   },
   {
    "duration": 459,
    "start_time": "2022-02-02T18:25:09.131Z"
   },
   {
    "duration": 19,
    "start_time": "2022-02-02T18:25:51.731Z"
   },
   {
    "duration": 512,
    "start_time": "2022-02-02T18:25:57.152Z"
   },
   {
    "duration": 4410,
    "start_time": "2022-02-02T18:26:21.124Z"
   },
   {
    "duration": 21,
    "start_time": "2022-02-02T18:26:33.952Z"
   },
   {
    "duration": 423,
    "start_time": "2022-02-02T18:26:36.659Z"
   },
   {
    "duration": 19,
    "start_time": "2022-02-02T18:28:38.796Z"
   },
   {
    "duration": 390,
    "start_time": "2022-02-02T18:28:43.283Z"
   },
   {
    "duration": 424,
    "start_time": "2022-02-02T18:28:50.973Z"
   },
   {
    "duration": 191,
    "start_time": "2022-02-02T18:32:42.923Z"
   },
   {
    "duration": 20,
    "start_time": "2022-02-02T18:32:58.142Z"
   },
   {
    "duration": 452,
    "start_time": "2022-02-02T18:33:01.218Z"
   },
   {
    "duration": 413,
    "start_time": "2022-02-02T18:33:04.169Z"
   },
   {
    "duration": 398,
    "start_time": "2022-02-02T18:33:05.583Z"
   },
   {
    "duration": 24,
    "start_time": "2022-02-02T18:33:14.712Z"
   },
   {
    "duration": 421,
    "start_time": "2022-02-02T18:33:15.960Z"
   },
   {
    "duration": 3,
    "start_time": "2022-02-02T18:33:40.138Z"
   },
   {
    "duration": 27,
    "start_time": "2022-02-02T18:33:41.345Z"
   },
   {
    "duration": 443,
    "start_time": "2022-02-02T18:33:42.922Z"
   },
   {
    "duration": 421,
    "start_time": "2022-02-02T18:33:48.557Z"
   },
   {
    "duration": 58,
    "start_time": "2022-02-02T18:37:11.622Z"
   },
   {
    "duration": 188,
    "start_time": "2022-02-02T18:40:31.033Z"
   },
   {
    "duration": 187,
    "start_time": "2022-02-02T18:40:36.572Z"
   },
   {
    "duration": 9,
    "start_time": "2022-02-02T18:41:28.895Z"
   },
   {
    "duration": 12,
    "start_time": "2022-02-02T18:42:33.638Z"
   },
   {
    "duration": 402,
    "start_time": "2022-02-02T18:43:14.697Z"
   },
   {
    "duration": 475,
    "start_time": "2022-02-02T18:44:30.531Z"
   },
   {
    "duration": 23,
    "start_time": "2022-02-02T18:46:45.619Z"
   },
   {
    "duration": 24,
    "start_time": "2022-02-02T18:47:00.855Z"
   },
   {
    "duration": 24,
    "start_time": "2022-02-02T18:47:01.465Z"
   },
   {
    "duration": 26,
    "start_time": "2022-02-02T18:47:01.848Z"
   },
   {
    "duration": 25,
    "start_time": "2022-02-02T18:47:02.036Z"
   },
   {
    "duration": 24,
    "start_time": "2022-02-02T18:47:02.191Z"
   },
   {
    "duration": 24,
    "start_time": "2022-02-02T18:47:02.331Z"
   },
   {
    "duration": 24,
    "start_time": "2022-02-02T18:47:02.470Z"
   },
   {
    "duration": 24,
    "start_time": "2022-02-02T18:47:02.598Z"
   },
   {
    "duration": 25,
    "start_time": "2022-02-02T18:47:02.730Z"
   },
   {
    "duration": 26,
    "start_time": "2022-02-02T18:47:03.251Z"
   },
   {
    "duration": 25,
    "start_time": "2022-02-02T18:47:03.466Z"
   },
   {
    "duration": 29,
    "start_time": "2022-02-02T18:47:03.643Z"
   },
   {
    "duration": 25,
    "start_time": "2022-02-02T18:47:03.794Z"
   },
   {
    "duration": 598,
    "start_time": "2022-02-02T18:50:20.194Z"
   },
   {
    "duration": 326,
    "start_time": "2022-02-02T18:51:50.707Z"
   },
   {
    "duration": 409,
    "start_time": "2022-02-02T18:52:13.733Z"
   },
   {
    "duration": 2,
    "start_time": "2022-02-02T18:58:47.088Z"
   },
   {
    "duration": 191,
    "start_time": "2022-02-02T19:02:30.394Z"
   },
   {
    "duration": 171,
    "start_time": "2022-02-02T19:02:48.363Z"
   },
   {
    "duration": 185,
    "start_time": "2022-02-02T19:03:17.667Z"
   },
   {
    "duration": 19,
    "start_time": "2022-02-02T19:04:13.308Z"
   },
   {
    "duration": 14,
    "start_time": "2022-02-02T19:04:26.185Z"
   },
   {
    "duration": 19,
    "start_time": "2022-02-02T19:04:40.533Z"
   },
   {
    "duration": 5011,
    "start_time": "2022-02-02T19:08:19.250Z"
   },
   {
    "duration": 1778,
    "start_time": "2022-02-02T19:08:41.882Z"
   },
   {
    "duration": 4807,
    "start_time": "2022-02-02T19:08:54.183Z"
   },
   {
    "duration": 373,
    "start_time": "2022-02-02T19:14:56.753Z"
   },
   {
    "duration": 337,
    "start_time": "2022-02-02T19:15:27.774Z"
   },
   {
    "duration": 411,
    "start_time": "2022-02-02T19:15:40.602Z"
   },
   {
    "duration": 568,
    "start_time": "2022-02-02T19:15:46.513Z"
   },
   {
    "duration": 367,
    "start_time": "2022-02-02T19:16:01.381Z"
   },
   {
    "duration": 365,
    "start_time": "2022-02-02T19:16:08.414Z"
   },
   {
    "duration": 520,
    "start_time": "2022-02-02T19:16:22.686Z"
   },
   {
    "duration": 507,
    "start_time": "2022-02-02T19:16:30.628Z"
   },
   {
    "duration": 503,
    "start_time": "2022-02-02T19:16:38.490Z"
   },
   {
    "duration": 432,
    "start_time": "2022-02-02T19:16:52.129Z"
   },
   {
    "duration": 22,
    "start_time": "2022-02-02T19:19:33.442Z"
   },
   {
    "duration": 4401,
    "start_time": "2022-02-02T19:21:22.604Z"
   },
   {
    "duration": 339,
    "start_time": "2022-02-02T19:22:30.808Z"
   },
   {
    "duration": 321,
    "start_time": "2022-02-02T19:22:53.144Z"
   },
   {
    "duration": 426,
    "start_time": "2022-02-02T19:22:59.736Z"
   },
   {
    "duration": 441,
    "start_time": "2022-02-02T19:23:04.661Z"
   },
   {
    "duration": 467,
    "start_time": "2022-02-02T19:23:19.734Z"
   },
   {
    "duration": 5,
    "start_time": "2022-02-02T19:24:13.283Z"
   },
   {
    "duration": 485,
    "start_time": "2022-02-02T19:24:35.910Z"
   },
   {
    "duration": 6,
    "start_time": "2022-02-02T19:24:38.463Z"
   },
   {
    "duration": 63,
    "start_time": "2022-02-02T19:25:23.034Z"
   },
   {
    "duration": 2,
    "start_time": "2022-02-02T19:34:34.137Z"
   },
   {
    "duration": 4,
    "start_time": "2022-02-02T19:35:35.202Z"
   },
   {
    "duration": 572,
    "start_time": "2022-02-02T19:36:55.498Z"
   },
   {
    "duration": 17,
    "start_time": "2022-02-02T19:37:12.584Z"
   },
   {
    "duration": 37,
    "start_time": "2022-02-02T19:37:20.838Z"
   },
   {
    "duration": 18,
    "start_time": "2022-02-02T19:38:08.598Z"
   },
   {
    "duration": 24,
    "start_time": "2022-02-02T19:38:15.106Z"
   },
   {
    "duration": 190,
    "start_time": "2022-02-02T19:38:49.879Z"
   },
   {
    "duration": 26,
    "start_time": "2022-02-02T19:39:11.897Z"
   },
   {
    "duration": 22,
    "start_time": "2022-02-02T19:39:28.821Z"
   },
   {
    "duration": 6766,
    "start_time": "2022-02-02T19:40:26.478Z"
   },
   {
    "duration": 167,
    "start_time": "2022-02-02T19:40:57.296Z"
   },
   {
    "duration": 186,
    "start_time": "2022-02-02T19:41:33.793Z"
   },
   {
    "duration": 139,
    "start_time": "2022-02-02T19:41:43.251Z"
   },
   {
    "duration": 139,
    "start_time": "2022-02-02T19:43:19.772Z"
   },
   {
    "duration": 138,
    "start_time": "2022-02-02T19:43:35.864Z"
   },
   {
    "duration": 207,
    "start_time": "2022-02-02T19:48:36.363Z"
   },
   {
    "duration": 6,
    "start_time": "2022-02-02T19:49:13.524Z"
   },
   {
    "duration": 9,
    "start_time": "2022-02-02T19:50:04.208Z"
   },
   {
    "duration": 10,
    "start_time": "2022-02-02T19:51:53.188Z"
   },
   {
    "duration": 11,
    "start_time": "2022-02-02T19:53:37.781Z"
   },
   {
    "duration": 183,
    "start_time": "2022-02-02T19:54:37.770Z"
   },
   {
    "duration": 4799,
    "start_time": "2022-02-02T19:56:19.134Z"
   },
   {
    "duration": 17,
    "start_time": "2022-02-02T19:56:51.474Z"
   },
   {
    "duration": 17,
    "start_time": "2022-02-02T19:57:07.912Z"
   },
   {
    "duration": 22,
    "start_time": "2022-02-02T19:57:54.926Z"
   },
   {
    "duration": 22,
    "start_time": "2022-02-02T19:58:01.031Z"
   },
   {
    "duration": 591,
    "start_time": "2022-02-02T19:58:16.892Z"
   },
   {
    "duration": 95,
    "start_time": "2022-02-02T19:58:17.485Z"
   },
   {
    "duration": 12,
    "start_time": "2022-02-02T19:58:17.583Z"
   },
   {
    "duration": 13,
    "start_time": "2022-02-02T19:58:17.597Z"
   },
   {
    "duration": 168,
    "start_time": "2022-02-02T19:58:17.612Z"
   },
   {
    "duration": 8,
    "start_time": "2022-02-02T19:58:17.782Z"
   },
   {
    "duration": 172,
    "start_time": "2022-02-02T19:58:17.792Z"
   },
   {
    "duration": 21,
    "start_time": "2022-02-02T19:58:17.966Z"
   },
   {
    "duration": 12,
    "start_time": "2022-02-02T19:58:17.991Z"
   },
   {
    "duration": 60,
    "start_time": "2022-02-02T19:58:18.006Z"
   },
   {
    "duration": 26,
    "start_time": "2022-02-02T19:58:18.069Z"
   },
   {
    "duration": 3,
    "start_time": "2022-02-02T19:58:18.097Z"
   },
   {
    "duration": 8,
    "start_time": "2022-02-02T19:58:18.102Z"
   },
   {
    "duration": 8,
    "start_time": "2022-02-02T19:58:18.111Z"
   },
   {
    "duration": 53,
    "start_time": "2022-02-02T19:58:18.120Z"
   },
   {
    "duration": 16,
    "start_time": "2022-02-02T19:58:18.175Z"
   },
   {
    "duration": 16,
    "start_time": "2022-02-02T19:58:18.193Z"
   },
   {
    "duration": 50,
    "start_time": "2022-02-02T19:58:18.211Z"
   },
   {
    "duration": 26,
    "start_time": "2022-02-02T19:58:18.264Z"
   },
   {
    "duration": 515,
    "start_time": "2022-02-02T19:58:18.292Z"
   },
   {
    "duration": 20,
    "start_time": "2022-02-02T19:58:18.810Z"
   },
   {
    "duration": 3,
    "start_time": "2022-02-02T19:58:18.832Z"
   },
   {
    "duration": 258,
    "start_time": "2022-02-02T19:58:18.837Z"
   },
   {
    "duration": 265,
    "start_time": "2022-02-02T19:58:19.098Z"
   },
   {
    "duration": 243,
    "start_time": "2022-02-02T19:58:19.365Z"
   },
   {
    "duration": 251,
    "start_time": "2022-02-02T19:58:19.610Z"
   },
   {
    "duration": 250,
    "start_time": "2022-02-02T19:58:19.865Z"
   },
   {
    "duration": 125,
    "start_time": "2022-02-02T19:58:20.117Z"
   },
   {
    "duration": 16,
    "start_time": "2022-02-02T19:58:20.243Z"
   },
   {
    "duration": 8,
    "start_time": "2022-02-02T19:58:20.261Z"
   },
   {
    "duration": 4,
    "start_time": "2022-02-02T19:58:20.270Z"
   },
   {
    "duration": 26,
    "start_time": "2022-02-02T19:58:20.275Z"
   },
   {
    "duration": 462,
    "start_time": "2022-02-02T19:58:20.303Z"
   },
   {
    "duration": 437,
    "start_time": "2022-02-02T19:58:20.767Z"
   },
   {
    "duration": 11,
    "start_time": "2022-02-02T19:58:21.206Z"
   },
   {
    "duration": 510,
    "start_time": "2022-02-02T19:58:21.219Z"
   },
   {
    "duration": 333,
    "start_time": "2022-02-02T19:58:21.731Z"
   },
   {
    "duration": 5,
    "start_time": "2022-02-02T19:58:22.065Z"
   },
   {
    "duration": 426,
    "start_time": "2022-02-02T19:58:22.072Z"
   },
   {
    "duration": 21,
    "start_time": "2022-02-02T19:58:22.500Z"
   },
   {
    "duration": 4427,
    "start_time": "2022-02-02T19:58:22.523Z"
   },
   {
    "duration": 166,
    "start_time": "2022-02-02T19:58:26.952Z"
   },
   {
    "duration": 90,
    "start_time": "2022-02-02T19:58:27.120Z"
   },
   {
    "duration": 22,
    "start_time": "2022-02-02T19:58:50.736Z"
   },
   {
    "duration": 24,
    "start_time": "2022-02-02T19:59:33.479Z"
   },
   {
    "duration": 19,
    "start_time": "2022-02-02T20:00:48.054Z"
   },
   {
    "duration": 278,
    "start_time": "2022-02-02T20:02:42.793Z"
   },
   {
    "duration": 188,
    "start_time": "2022-02-02T20:02:53.772Z"
   },
   {
    "duration": 311,
    "start_time": "2022-02-02T20:03:02.406Z"
   },
   {
    "duration": 324,
    "start_time": "2022-02-02T20:03:52.185Z"
   },
   {
    "duration": 313,
    "start_time": "2022-02-02T20:04:15.745Z"
   },
   {
    "duration": 5148,
    "start_time": "2022-02-02T20:04:48.398Z"
   },
   {
    "duration": 330,
    "start_time": "2022-02-02T20:06:33.720Z"
   },
   {
    "duration": 321,
    "start_time": "2022-02-02T20:06:43.538Z"
   },
   {
    "duration": 4334,
    "start_time": "2022-02-02T20:07:12.702Z"
   },
   {
    "duration": 4308,
    "start_time": "2022-02-02T20:07:42.004Z"
   },
   {
    "duration": 319,
    "start_time": "2022-02-02T20:09:49.619Z"
   },
   {
    "duration": 285,
    "start_time": "2022-02-02T20:12:36.581Z"
   },
   {
    "duration": 289,
    "start_time": "2022-02-02T20:13:37.352Z"
   },
   {
    "duration": 4,
    "start_time": "2022-02-02T20:16:13.600Z"
   },
   {
    "duration": 8,
    "start_time": "2022-02-02T20:16:21.475Z"
   },
   {
    "duration": 290,
    "start_time": "2022-02-02T20:17:06.920Z"
   },
   {
    "duration": 21,
    "start_time": "2022-02-02T20:17:13.261Z"
   },
   {
    "duration": 11,
    "start_time": "2022-02-02T20:17:22.513Z"
   },
   {
    "duration": 21,
    "start_time": "2022-02-02T20:17:37.147Z"
   },
   {
    "duration": 108,
    "start_time": "2022-02-02T20:18:03.723Z"
   },
   {
    "duration": 8,
    "start_time": "2022-02-02T20:18:36.634Z"
   },
   {
    "duration": 10,
    "start_time": "2022-02-02T20:18:46.440Z"
   },
   {
    "duration": 10,
    "start_time": "2022-02-02T20:18:47.552Z"
   },
   {
    "duration": 8,
    "start_time": "2022-02-02T20:18:47.888Z"
   },
   {
    "duration": 9,
    "start_time": "2022-02-02T20:18:48.079Z"
   },
   {
    "duration": 10,
    "start_time": "2022-02-02T20:18:48.258Z"
   },
   {
    "duration": 8,
    "start_time": "2022-02-02T20:18:48.423Z"
   },
   {
    "duration": 8,
    "start_time": "2022-02-02T20:18:48.642Z"
   },
   {
    "duration": 9,
    "start_time": "2022-02-02T20:18:55.584Z"
   },
   {
    "duration": 9,
    "start_time": "2022-02-02T20:18:57.392Z"
   },
   {
    "duration": 9,
    "start_time": "2022-02-02T20:18:59.015Z"
   },
   {
    "duration": 7,
    "start_time": "2022-02-02T20:18:59.635Z"
   },
   {
    "duration": 9,
    "start_time": "2022-02-02T20:19:37.561Z"
   },
   {
    "duration": 603,
    "start_time": "2022-02-02T20:19:45.826Z"
   },
   {
    "duration": 94,
    "start_time": "2022-02-02T20:19:46.431Z"
   },
   {
    "duration": 10,
    "start_time": "2022-02-02T20:19:46.527Z"
   },
   {
    "duration": 23,
    "start_time": "2022-02-02T20:19:46.539Z"
   },
   {
    "duration": 153,
    "start_time": "2022-02-02T20:19:46.564Z"
   },
   {
    "duration": 6,
    "start_time": "2022-02-02T20:19:46.719Z"
   },
   {
    "duration": 179,
    "start_time": "2022-02-02T20:19:46.727Z"
   },
   {
    "duration": 18,
    "start_time": "2022-02-02T20:19:46.908Z"
   },
   {
    "duration": 10,
    "start_time": "2022-02-02T20:19:46.929Z"
   },
   {
    "duration": 33,
    "start_time": "2022-02-02T20:19:46.960Z"
   },
   {
    "duration": 28,
    "start_time": "2022-02-02T20:19:46.995Z"
   },
   {
    "duration": 2,
    "start_time": "2022-02-02T20:19:47.024Z"
   },
   {
    "duration": 35,
    "start_time": "2022-02-02T20:19:47.028Z"
   },
   {
    "duration": 5,
    "start_time": "2022-02-02T20:19:47.065Z"
   },
   {
    "duration": 14,
    "start_time": "2022-02-02T20:19:47.072Z"
   },
   {
    "duration": 14,
    "start_time": "2022-02-02T20:19:47.088Z"
   },
   {
    "duration": 15,
    "start_time": "2022-02-02T20:19:47.103Z"
   },
   {
    "duration": 55,
    "start_time": "2022-02-02T20:19:47.119Z"
   },
   {
    "duration": 24,
    "start_time": "2022-02-02T20:19:47.175Z"
   },
   {
    "duration": 500,
    "start_time": "2022-02-02T20:19:47.201Z"
   },
   {
    "duration": 18,
    "start_time": "2022-02-02T20:19:47.702Z"
   },
   {
    "duration": 3,
    "start_time": "2022-02-02T20:19:47.722Z"
   },
   {
    "duration": 262,
    "start_time": "2022-02-02T20:19:47.726Z"
   },
   {
    "duration": 269,
    "start_time": "2022-02-02T20:19:47.990Z"
   },
   {
    "duration": 245,
    "start_time": "2022-02-02T20:19:48.260Z"
   },
   {
    "duration": 254,
    "start_time": "2022-02-02T20:19:48.508Z"
   },
   {
    "duration": 256,
    "start_time": "2022-02-02T20:19:48.765Z"
   },
   {
    "duration": 138,
    "start_time": "2022-02-02T20:19:49.023Z"
   },
   {
    "duration": 8,
    "start_time": "2022-02-02T20:19:49.163Z"
   },
   {
    "duration": 7,
    "start_time": "2022-02-02T20:19:49.173Z"
   },
   {
    "duration": 4,
    "start_time": "2022-02-02T20:19:49.182Z"
   },
   {
    "duration": 27,
    "start_time": "2022-02-02T20:19:49.187Z"
   },
   {
    "duration": 465,
    "start_time": "2022-02-02T20:19:49.215Z"
   },
   {
    "duration": 421,
    "start_time": "2022-02-02T20:19:49.682Z"
   },
   {
    "duration": 10,
    "start_time": "2022-02-02T20:19:50.105Z"
   },
   {
    "duration": 503,
    "start_time": "2022-02-02T20:19:50.117Z"
   },
   {
    "duration": 335,
    "start_time": "2022-02-02T20:19:50.621Z"
   },
   {
    "duration": 5,
    "start_time": "2022-02-02T20:19:50.958Z"
   },
   {
    "duration": 428,
    "start_time": "2022-02-02T20:19:50.965Z"
   },
   {
    "duration": 20,
    "start_time": "2022-02-02T20:19:51.395Z"
   },
   {
    "duration": 4576,
    "start_time": "2022-02-02T20:19:51.417Z"
   },
   {
    "duration": 154,
    "start_time": "2022-02-02T20:19:55.995Z"
   },
   {
    "duration": 359,
    "start_time": "2022-02-02T20:19:56.151Z"
   },
   {
    "duration": 8,
    "start_time": "2022-02-02T20:19:56.512Z"
   },
   {
    "duration": 231,
    "start_time": "2022-02-02T20:21:47.988Z"
   },
   {
    "duration": 15,
    "start_time": "2022-02-02T20:21:53.893Z"
   },
   {
    "duration": 8,
    "start_time": "2022-02-02T20:22:10.109Z"
   },
   {
    "duration": 20,
    "start_time": "2022-02-02T20:22:19.474Z"
   },
   {
    "duration": 310,
    "start_time": "2022-02-02T20:26:20.637Z"
   },
   {
    "duration": 307,
    "start_time": "2022-02-02T20:26:44.556Z"
   },
   {
    "duration": 297,
    "start_time": "2022-02-02T20:26:45.625Z"
   },
   {
    "duration": 292,
    "start_time": "2022-02-02T20:26:46.283Z"
   },
   {
    "duration": 297,
    "start_time": "2022-02-02T20:26:46.922Z"
   },
   {
    "duration": 298,
    "start_time": "2022-02-02T20:27:22.099Z"
   },
   {
    "duration": 300,
    "start_time": "2022-02-02T20:27:41.283Z"
   },
   {
    "duration": 298,
    "start_time": "2022-02-02T20:28:39.528Z"
   },
   {
    "duration": 659,
    "start_time": "2022-02-03T17:37:40.874Z"
   },
   {
    "duration": 89,
    "start_time": "2022-02-03T17:37:41.535Z"
   },
   {
    "duration": 10,
    "start_time": "2022-02-03T17:37:41.628Z"
   },
   {
    "duration": 28,
    "start_time": "2022-02-03T17:37:41.639Z"
   },
   {
    "duration": 141,
    "start_time": "2022-02-03T17:37:41.669Z"
   },
   {
    "duration": 6,
    "start_time": "2022-02-03T17:37:41.812Z"
   },
   {
    "duration": 178,
    "start_time": "2022-02-03T17:37:41.820Z"
   },
   {
    "duration": 19,
    "start_time": "2022-02-03T17:37:41.999Z"
   },
   {
    "duration": 9,
    "start_time": "2022-02-03T17:37:42.020Z"
   },
   {
    "duration": 52,
    "start_time": "2022-02-03T17:37:42.031Z"
   },
   {
    "duration": 23,
    "start_time": "2022-02-03T17:37:42.085Z"
   },
   {
    "duration": 1,
    "start_time": "2022-02-03T17:37:42.110Z"
   },
   {
    "duration": 8,
    "start_time": "2022-02-03T17:37:42.113Z"
   },
   {
    "duration": 5,
    "start_time": "2022-02-03T17:37:42.122Z"
   },
   {
    "duration": 42,
    "start_time": "2022-02-03T17:37:42.129Z"
   },
   {
    "duration": 14,
    "start_time": "2022-02-03T17:37:42.172Z"
   },
   {
    "duration": 14,
    "start_time": "2022-02-03T17:37:42.187Z"
   },
   {
    "duration": 15,
    "start_time": "2022-02-03T17:37:42.202Z"
   },
   {
    "duration": 53,
    "start_time": "2022-02-03T17:37:42.219Z"
   },
   {
    "duration": 480,
    "start_time": "2022-02-03T17:37:42.273Z"
   },
   {
    "duration": 20,
    "start_time": "2022-02-03T17:37:42.755Z"
   },
   {
    "duration": 3,
    "start_time": "2022-02-03T17:37:42.779Z"
   },
   {
    "duration": 247,
    "start_time": "2022-02-03T17:37:42.783Z"
   },
   {
    "duration": 250,
    "start_time": "2022-02-03T17:37:43.031Z"
   },
   {
    "duration": 242,
    "start_time": "2022-02-03T17:37:43.282Z"
   },
   {
    "duration": 253,
    "start_time": "2022-02-03T17:37:43.525Z"
   },
   {
    "duration": 247,
    "start_time": "2022-02-03T17:37:43.780Z"
   },
   {
    "duration": 134,
    "start_time": "2022-02-03T17:37:44.028Z"
   },
   {
    "duration": 9,
    "start_time": "2022-02-03T17:37:44.163Z"
   },
   {
    "duration": 7,
    "start_time": "2022-02-03T17:37:44.173Z"
   },
   {
    "duration": 7,
    "start_time": "2022-02-03T17:37:44.182Z"
   },
   {
    "duration": 27,
    "start_time": "2022-02-03T17:37:44.190Z"
   },
   {
    "duration": 447,
    "start_time": "2022-02-03T17:37:44.219Z"
   },
   {
    "duration": 424,
    "start_time": "2022-02-03T17:37:44.668Z"
   },
   {
    "duration": 9,
    "start_time": "2022-02-03T17:37:45.094Z"
   },
   {
    "duration": 434,
    "start_time": "2022-02-03T17:37:45.105Z"
   },
   {
    "duration": 401,
    "start_time": "2022-02-03T17:37:45.541Z"
   },
   {
    "duration": 4,
    "start_time": "2022-02-03T17:37:45.944Z"
   },
   {
    "duration": 430,
    "start_time": "2022-02-03T17:37:45.959Z"
   },
   {
    "duration": 21,
    "start_time": "2022-02-03T17:37:46.391Z"
   },
   {
    "duration": 4276,
    "start_time": "2022-02-03T17:37:46.413Z"
   },
   {
    "duration": 149,
    "start_time": "2022-02-03T17:37:50.690Z"
   },
   {
    "duration": 300,
    "start_time": "2022-02-03T17:37:50.840Z"
   },
   {
    "duration": 29,
    "start_time": "2022-02-03T17:37:51.141Z"
   },
   {
    "duration": 255,
    "start_time": "2022-02-03T17:37:51.171Z"
   },
   {
    "duration": 1757,
    "start_time": "2022-02-03T17:37:49.671Z"
   },
   {
    "duration": 1755,
    "start_time": "2022-02-03T17:37:49.674Z"
   },
   {
    "duration": 1753,
    "start_time": "2022-02-03T17:37:49.676Z"
   },
   {
    "duration": 1753,
    "start_time": "2022-02-03T17:37:49.677Z"
   },
   {
    "duration": 1751,
    "start_time": "2022-02-03T17:37:49.680Z"
   },
   {
    "duration": 1749,
    "start_time": "2022-02-03T17:37:49.683Z"
   },
   {
    "duration": 3,
    "start_time": "2022-02-03T17:38:13.745Z"
   },
   {
    "duration": 110,
    "start_time": "2022-02-03T17:38:13.750Z"
   },
   {
    "duration": 9,
    "start_time": "2022-02-03T17:38:13.862Z"
   },
   {
    "duration": 20,
    "start_time": "2022-02-03T17:38:13.873Z"
   },
   {
    "duration": 214,
    "start_time": "2022-02-03T17:38:13.895Z"
   },
   {
    "duration": 6,
    "start_time": "2022-02-03T17:38:14.111Z"
   },
   {
    "duration": 173,
    "start_time": "2022-02-03T17:38:14.119Z"
   },
   {
    "duration": 18,
    "start_time": "2022-02-03T17:38:14.296Z"
   },
   {
    "duration": 10,
    "start_time": "2022-02-03T17:38:14.317Z"
   },
   {
    "duration": 57,
    "start_time": "2022-02-03T17:38:14.329Z"
   },
   {
    "duration": 24,
    "start_time": "2022-02-03T17:38:14.388Z"
   },
   {
    "duration": 2,
    "start_time": "2022-02-03T17:38:14.414Z"
   },
   {
    "duration": 11,
    "start_time": "2022-02-03T17:38:14.418Z"
   },
   {
    "duration": 32,
    "start_time": "2022-02-03T17:38:14.431Z"
   },
   {
    "duration": 17,
    "start_time": "2022-02-03T17:38:14.464Z"
   },
   {
    "duration": 15,
    "start_time": "2022-02-03T17:38:14.482Z"
   },
   {
    "duration": 14,
    "start_time": "2022-02-03T17:38:14.499Z"
   },
   {
    "duration": 47,
    "start_time": "2022-02-03T17:38:14.514Z"
   },
   {
    "duration": 24,
    "start_time": "2022-02-03T17:38:14.563Z"
   },
   {
    "duration": 428,
    "start_time": "2022-02-03T17:38:14.589Z"
   },
   {
    "duration": 22,
    "start_time": "2022-02-03T17:38:15.019Z"
   },
   {
    "duration": 16,
    "start_time": "2022-02-03T17:38:15.043Z"
   },
   {
    "duration": 244,
    "start_time": "2022-02-03T17:38:15.064Z"
   },
   {
    "duration": 255,
    "start_time": "2022-02-03T17:38:15.311Z"
   },
   {
    "duration": 239,
    "start_time": "2022-02-03T17:38:15.568Z"
   },
   {
    "duration": 233,
    "start_time": "2022-02-03T17:38:15.809Z"
   },
   {
    "duration": 242,
    "start_time": "2022-02-03T17:38:16.043Z"
   },
   {
    "duration": 134,
    "start_time": "2022-02-03T17:38:16.287Z"
   },
   {
    "duration": 8,
    "start_time": "2022-02-03T17:38:16.422Z"
   },
   {
    "duration": 8,
    "start_time": "2022-02-03T17:38:16.432Z"
   },
   {
    "duration": 9,
    "start_time": "2022-02-03T17:38:16.441Z"
   },
   {
    "duration": 23,
    "start_time": "2022-02-03T17:38:16.459Z"
   },
   {
    "duration": 508,
    "start_time": "2022-02-03T17:38:16.483Z"
   },
   {
    "duration": 396,
    "start_time": "2022-02-03T17:38:16.992Z"
   },
   {
    "duration": 8,
    "start_time": "2022-02-03T17:38:17.390Z"
   },
   {
    "duration": 377,
    "start_time": "2022-02-03T17:38:17.399Z"
   },
   {
    "duration": 338,
    "start_time": "2022-02-03T17:38:17.778Z"
   },
   {
    "duration": 6,
    "start_time": "2022-02-03T17:38:18.117Z"
   },
   {
    "duration": 455,
    "start_time": "2022-02-03T17:38:18.124Z"
   },
   {
    "duration": 20,
    "start_time": "2022-02-03T17:38:18.580Z"
   },
   {
    "duration": 4296,
    "start_time": "2022-02-03T17:38:18.602Z"
   },
   {
    "duration": 149,
    "start_time": "2022-02-03T17:38:22.900Z"
   },
   {
    "duration": 297,
    "start_time": "2022-02-03T17:38:23.051Z"
   },
   {
    "duration": 24,
    "start_time": "2022-02-03T17:38:23.350Z"
   },
   {
    "duration": 165,
    "start_time": "2022-02-03T17:38:23.376Z"
   },
   {
    "duration": 1762,
    "start_time": "2022-02-03T17:38:21.781Z"
   },
   {
    "duration": 1762,
    "start_time": "2022-02-03T17:38:21.782Z"
   },
   {
    "duration": 1761,
    "start_time": "2022-02-03T17:38:21.784Z"
   },
   {
    "duration": 1760,
    "start_time": "2022-02-03T17:38:21.786Z"
   },
   {
    "duration": 1760,
    "start_time": "2022-02-03T17:38:21.787Z"
   },
   {
    "duration": 1759,
    "start_time": "2022-02-03T17:38:21.789Z"
   },
   {
    "duration": 3,
    "start_time": "2022-02-03T17:38:39.321Z"
   },
   {
    "duration": 102,
    "start_time": "2022-02-03T17:38:39.326Z"
   },
   {
    "duration": 32,
    "start_time": "2022-02-03T17:38:39.431Z"
   },
   {
    "duration": 12,
    "start_time": "2022-02-03T17:38:39.465Z"
   },
   {
    "duration": 147,
    "start_time": "2022-02-03T17:38:39.479Z"
   },
   {
    "duration": 8,
    "start_time": "2022-02-03T17:38:39.628Z"
   },
   {
    "duration": 171,
    "start_time": "2022-02-03T17:38:39.637Z"
   },
   {
    "duration": 20,
    "start_time": "2022-02-03T17:38:39.811Z"
   },
   {
    "duration": 32,
    "start_time": "2022-02-03T17:38:39.833Z"
   },
   {
    "duration": 33,
    "start_time": "2022-02-03T17:38:39.867Z"
   },
   {
    "duration": 27,
    "start_time": "2022-02-03T17:38:39.902Z"
   },
   {
    "duration": 28,
    "start_time": "2022-02-03T17:38:39.931Z"
   },
   {
    "duration": 7,
    "start_time": "2022-02-03T17:38:39.961Z"
   },
   {
    "duration": 6,
    "start_time": "2022-02-03T17:38:39.969Z"
   },
   {
    "duration": 15,
    "start_time": "2022-02-03T17:38:39.976Z"
   },
   {
    "duration": 16,
    "start_time": "2022-02-03T17:38:39.992Z"
   },
   {
    "duration": 52,
    "start_time": "2022-02-03T17:38:40.010Z"
   },
   {
    "duration": 17,
    "start_time": "2022-02-03T17:38:40.064Z"
   },
   {
    "duration": 25,
    "start_time": "2022-02-03T17:38:40.082Z"
   },
   {
    "duration": 453,
    "start_time": "2022-02-03T17:38:40.108Z"
   },
   {
    "duration": 17,
    "start_time": "2022-02-03T17:38:40.563Z"
   },
   {
    "duration": 3,
    "start_time": "2022-02-03T17:38:40.582Z"
   },
   {
    "duration": 248,
    "start_time": "2022-02-03T17:38:40.588Z"
   },
   {
    "duration": 267,
    "start_time": "2022-02-03T17:38:40.838Z"
   },
   {
    "duration": 263,
    "start_time": "2022-02-03T17:38:41.106Z"
   },
   {
    "duration": 342,
    "start_time": "2022-02-03T17:38:41.371Z"
   },
   {
    "duration": 248,
    "start_time": "2022-02-03T17:38:41.714Z"
   },
   {
    "duration": 132,
    "start_time": "2022-02-03T17:38:41.963Z"
   },
   {
    "duration": 8,
    "start_time": "2022-02-03T17:38:42.096Z"
   },
   {
    "duration": 7,
    "start_time": "2022-02-03T17:38:42.106Z"
   },
   {
    "duration": 4,
    "start_time": "2022-02-03T17:38:42.115Z"
   },
   {
    "duration": 40,
    "start_time": "2022-02-03T17:38:42.120Z"
   },
   {
    "duration": 417,
    "start_time": "2022-02-03T17:38:42.162Z"
   },
   {
    "duration": 387,
    "start_time": "2022-02-03T17:38:42.581Z"
   },
   {
    "duration": 8,
    "start_time": "2022-02-03T17:38:42.970Z"
   },
   {
    "duration": 381,
    "start_time": "2022-02-03T17:38:42.979Z"
   },
   {
    "duration": 340,
    "start_time": "2022-02-03T17:38:43.362Z"
   },
   {
    "duration": 5,
    "start_time": "2022-02-03T17:38:43.704Z"
   },
   {
    "duration": 457,
    "start_time": "2022-02-03T17:38:43.711Z"
   },
   {
    "duration": 21,
    "start_time": "2022-02-03T17:38:44.170Z"
   },
   {
    "duration": 4475,
    "start_time": "2022-02-03T17:38:44.193Z"
   },
   {
    "duration": 150,
    "start_time": "2022-02-03T17:38:48.670Z"
   },
   {
    "duration": 306,
    "start_time": "2022-02-03T17:38:48.822Z"
   },
   {
    "duration": 28,
    "start_time": "2022-02-03T17:38:49.130Z"
   },
   {
    "duration": 17,
    "start_time": "2022-02-03T17:38:49.160Z"
   },
   {
    "duration": 171,
    "start_time": "2022-02-03T17:38:49.178Z"
   },
   {
    "duration": 1765,
    "start_time": "2022-02-03T17:38:47.586Z"
   },
   {
    "duration": 1764,
    "start_time": "2022-02-03T17:38:47.588Z"
   },
   {
    "duration": 1764,
    "start_time": "2022-02-03T17:38:47.589Z"
   },
   {
    "duration": 1764,
    "start_time": "2022-02-03T17:38:47.591Z"
   },
   {
    "duration": 1763,
    "start_time": "2022-02-03T17:38:47.593Z"
   },
   {
    "duration": 3,
    "start_time": "2022-02-03T17:39:16.354Z"
   },
   {
    "duration": 106,
    "start_time": "2022-02-03T17:39:16.359Z"
   },
   {
    "duration": 11,
    "start_time": "2022-02-03T17:39:16.467Z"
   },
   {
    "duration": 11,
    "start_time": "2022-02-03T17:39:16.481Z"
   },
   {
    "duration": 155,
    "start_time": "2022-02-03T17:39:16.494Z"
   },
   {
    "duration": 7,
    "start_time": "2022-02-03T17:39:16.658Z"
   },
   {
    "duration": 171,
    "start_time": "2022-02-03T17:39:16.667Z"
   },
   {
    "duration": 29,
    "start_time": "2022-02-03T17:39:16.842Z"
   },
   {
    "duration": 13,
    "start_time": "2022-02-03T17:39:16.873Z"
   },
   {
    "duration": 43,
    "start_time": "2022-02-03T17:39:16.888Z"
   },
   {
    "duration": 47,
    "start_time": "2022-02-03T17:39:16.933Z"
   },
   {
    "duration": 3,
    "start_time": "2022-02-03T17:39:16.982Z"
   },
   {
    "duration": 17,
    "start_time": "2022-02-03T17:39:16.986Z"
   },
   {
    "duration": 16,
    "start_time": "2022-02-03T17:39:17.005Z"
   },
   {
    "duration": 27,
    "start_time": "2022-02-03T17:39:17.023Z"
   },
   {
    "duration": 27,
    "start_time": "2022-02-03T17:39:17.052Z"
   },
   {
    "duration": 16,
    "start_time": "2022-02-03T17:39:17.081Z"
   },
   {
    "duration": 25,
    "start_time": "2022-02-03T17:39:17.099Z"
   },
   {
    "duration": 39,
    "start_time": "2022-02-03T17:39:17.126Z"
   },
   {
    "duration": 438,
    "start_time": "2022-02-03T17:39:17.166Z"
   },
   {
    "duration": 20,
    "start_time": "2022-02-03T17:39:17.606Z"
   },
   {
    "duration": 4,
    "start_time": "2022-02-03T17:39:17.628Z"
   },
   {
    "duration": 369,
    "start_time": "2022-02-03T17:39:17.635Z"
   },
   {
    "duration": 267,
    "start_time": "2022-02-03T17:39:18.006Z"
   },
   {
    "duration": 246,
    "start_time": "2022-02-03T17:39:18.274Z"
   },
   {
    "duration": 239,
    "start_time": "2022-02-03T17:39:18.522Z"
   },
   {
    "duration": 253,
    "start_time": "2022-02-03T17:39:18.762Z"
   },
   {
    "duration": 132,
    "start_time": "2022-02-03T17:39:19.017Z"
   },
   {
    "duration": 9,
    "start_time": "2022-02-03T17:39:19.150Z"
   },
   {
    "duration": 20,
    "start_time": "2022-02-03T17:39:19.161Z"
   },
   {
    "duration": 6,
    "start_time": "2022-02-03T17:39:19.183Z"
   },
   {
    "duration": 40,
    "start_time": "2022-02-03T17:39:19.191Z"
   },
   {
    "duration": 431,
    "start_time": "2022-02-03T17:39:19.232Z"
   },
   {
    "duration": 419,
    "start_time": "2022-02-03T17:39:19.664Z"
   },
   {
    "duration": 8,
    "start_time": "2022-02-03T17:39:20.085Z"
   },
   {
    "duration": 437,
    "start_time": "2022-02-03T17:39:20.094Z"
   },
   {
    "duration": 454,
    "start_time": "2022-02-03T17:39:20.532Z"
   },
   {
    "duration": 4,
    "start_time": "2022-02-03T17:39:20.988Z"
   },
   {
    "duration": 456,
    "start_time": "2022-02-03T17:39:20.993Z"
   },
   {
    "duration": 19,
    "start_time": "2022-02-03T17:39:21.450Z"
   },
   {
    "duration": 4184,
    "start_time": "2022-02-03T17:39:21.471Z"
   },
   {
    "duration": 147,
    "start_time": "2022-02-03T17:39:25.656Z"
   },
   {
    "duration": 292,
    "start_time": "2022-02-03T17:39:25.805Z"
   },
   {
    "duration": 19,
    "start_time": "2022-02-03T17:39:26.099Z"
   },
   {
    "duration": 12,
    "start_time": "2022-02-03T17:39:26.120Z"
   },
   {
    "duration": 316,
    "start_time": "2022-02-03T17:39:26.134Z"
   },
   {
    "duration": 293,
    "start_time": "2022-02-03T17:39:26.459Z"
   },
   {
    "duration": 7501,
    "start_time": "2022-02-03T17:39:26.758Z"
   },
   {
    "duration": 1719,
    "start_time": "2022-02-03T17:39:32.542Z"
   },
   {
    "duration": 1717,
    "start_time": "2022-02-03T17:39:32.544Z"
   },
   {
    "duration": 1716,
    "start_time": "2022-02-03T17:39:32.546Z"
   },
   {
    "duration": 4436,
    "start_time": "2022-02-03T17:40:09.249Z"
   },
   {
    "duration": 17,
    "start_time": "2022-02-03T17:41:24.045Z"
   },
   {
    "duration": 253,
    "start_time": "2022-02-03T17:41:27.808Z"
   },
   {
    "duration": 286,
    "start_time": "2022-02-03T17:41:39.577Z"
   },
   {
    "duration": 23,
    "start_time": "2022-02-03T17:41:47.257Z"
   },
   {
    "duration": 4438,
    "start_time": "2022-02-03T17:41:50.180Z"
   },
   {
    "duration": 167,
    "start_time": "2022-02-03T17:44:10.084Z"
   },
   {
    "duration": 165,
    "start_time": "2022-02-03T17:44:43.412Z"
   },
   {
    "duration": 426,
    "start_time": "2022-02-03T17:44:55.846Z"
   },
   {
    "duration": 249,
    "start_time": "2022-02-03T17:46:18.379Z"
   },
   {
    "duration": 248,
    "start_time": "2022-02-03T17:46:26.489Z"
   },
   {
    "duration": 253,
    "start_time": "2022-02-03T17:46:53.419Z"
   },
   {
    "duration": 244,
    "start_time": "2022-02-03T17:46:58.539Z"
   },
   {
    "duration": 275,
    "start_time": "2022-02-03T17:47:03.330Z"
   },
   {
    "duration": 403,
    "start_time": "2022-02-03T17:47:08.174Z"
   },
   {
    "duration": 248,
    "start_time": "2022-02-03T17:47:35.714Z"
   },
   {
    "duration": 235,
    "start_time": "2022-02-03T17:47:44.723Z"
   },
   {
    "duration": 214,
    "start_time": "2022-02-03T17:48:02.866Z"
   },
   {
    "duration": 3,
    "start_time": "2022-02-03T17:48:07.979Z"
   },
   {
    "duration": 251,
    "start_time": "2022-02-03T17:48:10.203Z"
   },
   {
    "duration": 242,
    "start_time": "2022-02-03T17:48:30.253Z"
   },
   {
    "duration": 232,
    "start_time": "2022-02-03T17:48:38.171Z"
   },
   {
    "duration": 245,
    "start_time": "2022-02-03T17:48:54.417Z"
   },
   {
    "duration": 242,
    "start_time": "2022-02-03T17:48:56.889Z"
   },
   {
    "duration": 256,
    "start_time": "2022-02-03T17:49:01.165Z"
   },
   {
    "duration": 4,
    "start_time": "2022-02-03T17:49:45.282Z"
   },
   {
    "duration": 619,
    "start_time": "2022-02-03T17:49:50.825Z"
   },
   {
    "duration": 88,
    "start_time": "2022-02-03T17:49:51.445Z"
   },
   {
    "duration": 10,
    "start_time": "2022-02-03T17:49:51.535Z"
   },
   {
    "duration": 22,
    "start_time": "2022-02-03T17:49:51.547Z"
   },
   {
    "duration": 155,
    "start_time": "2022-02-03T17:49:51.570Z"
   },
   {
    "duration": 3,
    "start_time": "2022-02-03T17:49:51.727Z"
   },
   {
    "duration": 175,
    "start_time": "2022-02-03T17:49:51.732Z"
   },
   {
    "duration": 17,
    "start_time": "2022-02-03T17:49:51.909Z"
   },
   {
    "duration": 10,
    "start_time": "2022-02-03T17:49:51.928Z"
   },
   {
    "duration": 28,
    "start_time": "2022-02-03T17:49:51.960Z"
   },
   {
    "duration": 26,
    "start_time": "2022-02-03T17:49:51.990Z"
   },
   {
    "duration": 3,
    "start_time": "2022-02-03T17:49:52.018Z"
   },
   {
    "duration": 37,
    "start_time": "2022-02-03T17:49:52.022Z"
   },
   {
    "duration": 6,
    "start_time": "2022-02-03T17:49:52.061Z"
   },
   {
    "duration": 19,
    "start_time": "2022-02-03T17:49:52.069Z"
   },
   {
    "duration": 19,
    "start_time": "2022-02-03T17:49:52.089Z"
   },
   {
    "duration": 13,
    "start_time": "2022-02-03T17:49:52.109Z"
   },
   {
    "duration": 48,
    "start_time": "2022-02-03T17:49:52.123Z"
   },
   {
    "duration": 20,
    "start_time": "2022-02-03T17:49:52.173Z"
   },
   {
    "duration": 292,
    "start_time": "2022-02-03T17:49:52.195Z"
   },
   {
    "duration": 19,
    "start_time": "2022-02-03T17:49:52.489Z"
   },
   {
    "duration": 3,
    "start_time": "2022-02-03T17:49:52.510Z"
   },
   {
    "duration": 324,
    "start_time": "2022-02-03T17:49:52.517Z"
   },
   {
    "duration": 255,
    "start_time": "2022-02-03T17:49:52.843Z"
   },
   {
    "duration": 238,
    "start_time": "2022-02-03T17:49:53.100Z"
   },
   {
    "duration": 267,
    "start_time": "2022-02-03T17:49:53.340Z"
   },
   {
    "duration": 263,
    "start_time": "2022-02-03T17:49:53.609Z"
   },
   {
    "duration": 131,
    "start_time": "2022-02-03T17:49:53.874Z"
   },
   {
    "duration": 8,
    "start_time": "2022-02-03T17:49:54.006Z"
   },
   {
    "duration": 7,
    "start_time": "2022-02-03T17:49:54.016Z"
   },
   {
    "duration": 6,
    "start_time": "2022-02-03T17:49:54.025Z"
   },
   {
    "duration": 42,
    "start_time": "2022-02-03T17:49:54.032Z"
   },
   {
    "duration": 358,
    "start_time": "2022-02-03T17:49:54.076Z"
   },
   {
    "duration": 377,
    "start_time": "2022-02-03T17:49:54.436Z"
   },
   {
    "duration": 9,
    "start_time": "2022-02-03T17:49:54.815Z"
   },
   {
    "duration": 378,
    "start_time": "2022-02-03T17:49:54.825Z"
   },
   {
    "duration": 206,
    "start_time": "2022-02-03T17:49:55.204Z"
   },
   {
    "duration": 5,
    "start_time": "2022-02-03T17:49:55.411Z"
   },
   {
    "duration": 404,
    "start_time": "2022-02-03T17:49:55.418Z"
   },
   {
    "duration": 19,
    "start_time": "2022-02-03T17:49:55.824Z"
   },
   {
    "duration": 3164,
    "start_time": "2022-02-03T17:49:55.845Z"
   },
   {
    "duration": 150,
    "start_time": "2022-02-03T17:49:59.011Z"
   },
   {
    "duration": 306,
    "start_time": "2022-02-03T17:49:59.163Z"
   },
   {
    "duration": 3,
    "start_time": "2022-02-03T17:49:59.470Z"
   },
   {
    "duration": 256,
    "start_time": "2022-02-03T17:49:59.474Z"
   },
   {
    "duration": 246,
    "start_time": "2022-02-03T17:49:59.732Z"
   },
   {
    "duration": 337,
    "start_time": "2022-02-03T17:49:59.979Z"
   },
   {
    "duration": 272,
    "start_time": "2022-02-03T17:50:00.318Z"
   },
   {
    "duration": 21,
    "start_time": "2022-02-03T17:50:00.592Z"
   },
   {
    "duration": 20,
    "start_time": "2022-02-03T17:50:00.615Z"
   },
   {
    "duration": 317,
    "start_time": "2022-02-03T17:50:00.636Z"
   },
   {
    "duration": 293,
    "start_time": "2022-02-03T17:50:00.958Z"
   },
   {
    "duration": 414,
    "start_time": "2022-02-03T17:50:01.253Z"
   },
   {
    "duration": 367,
    "start_time": "2022-02-03T17:50:01.669Z"
   },
   {
    "duration": 36,
    "start_time": "2022-02-03T17:50:02.038Z"
   },
   {
    "duration": 3182,
    "start_time": "2022-02-03T17:50:02.076Z"
   },
   {
    "duration": 235,
    "start_time": "2022-02-03T17:50:39.556Z"
   },
   {
    "duration": 235,
    "start_time": "2022-02-03T17:50:45.195Z"
   },
   {
    "duration": 229,
    "start_time": "2022-02-03T17:50:52.963Z"
   },
   {
    "duration": 7,
    "start_time": "2022-02-03T17:51:04.173Z"
   },
   {
    "duration": 660,
    "start_time": "2022-02-03T17:51:11.328Z"
   },
   {
    "duration": 90,
    "start_time": "2022-02-03T17:51:11.990Z"
   },
   {
    "duration": 11,
    "start_time": "2022-02-03T17:51:12.083Z"
   },
   {
    "duration": 15,
    "start_time": "2022-02-03T17:51:12.096Z"
   },
   {
    "duration": 160,
    "start_time": "2022-02-03T17:51:12.112Z"
   },
   {
    "duration": 8,
    "start_time": "2022-02-03T17:51:12.274Z"
   },
   {
    "duration": 1728,
    "start_time": "2022-02-03T17:51:12.284Z"
   },
   {
    "duration": 21,
    "start_time": "2022-02-03T17:51:14.014Z"
   },
   {
    "duration": 24,
    "start_time": "2022-02-03T17:51:14.037Z"
   },
   {
    "duration": 32,
    "start_time": "2022-02-03T17:51:14.063Z"
   },
   {
    "duration": 26,
    "start_time": "2022-02-03T17:51:14.097Z"
   },
   {
    "duration": 3,
    "start_time": "2022-02-03T17:51:14.124Z"
   },
   {
    "duration": 32,
    "start_time": "2022-02-03T17:51:14.128Z"
   },
   {
    "duration": 8,
    "start_time": "2022-02-03T17:51:14.161Z"
   },
   {
    "duration": 14,
    "start_time": "2022-02-03T17:51:14.171Z"
   },
   {
    "duration": 15,
    "start_time": "2022-02-03T17:51:14.190Z"
   },
   {
    "duration": 15,
    "start_time": "2022-02-03T17:51:14.207Z"
   },
   {
    "duration": 50,
    "start_time": "2022-02-03T17:51:14.223Z"
   },
   {
    "duration": 23,
    "start_time": "2022-02-03T17:51:14.274Z"
   },
   {
    "duration": 492,
    "start_time": "2022-02-03T17:51:14.299Z"
   },
   {
    "duration": 18,
    "start_time": "2022-02-03T17:51:14.792Z"
   },
   {
    "duration": 3,
    "start_time": "2022-02-03T17:51:14.811Z"
   },
   {
    "duration": 249,
    "start_time": "2022-02-03T17:51:14.817Z"
   },
   {
    "duration": 266,
    "start_time": "2022-02-03T17:51:15.069Z"
   },
   {
    "duration": 254,
    "start_time": "2022-02-03T17:51:15.337Z"
   },
   {
    "duration": 243,
    "start_time": "2022-02-03T17:51:15.593Z"
   },
   {
    "duration": 245,
    "start_time": "2022-02-03T17:51:15.838Z"
   },
   {
    "duration": 132,
    "start_time": "2022-02-03T17:51:16.085Z"
   },
   {
    "duration": 8,
    "start_time": "2022-02-03T17:51:16.218Z"
   },
   {
    "duration": 7,
    "start_time": "2022-02-03T17:51:16.228Z"
   },
   {
    "duration": 2,
    "start_time": "2022-02-03T17:51:16.236Z"
   },
   {
    "duration": 38,
    "start_time": "2022-02-03T17:51:16.240Z"
   },
   {
    "duration": 405,
    "start_time": "2022-02-03T17:51:16.280Z"
   },
   {
    "duration": 397,
    "start_time": "2022-02-03T17:51:16.687Z"
   },
   {
    "duration": 9,
    "start_time": "2022-02-03T17:51:17.086Z"
   },
   {
    "duration": 433,
    "start_time": "2022-02-03T17:51:17.096Z"
   },
   {
    "duration": 393,
    "start_time": "2022-02-03T17:51:17.531Z"
   },
   {
    "duration": 5,
    "start_time": "2022-02-03T17:51:17.926Z"
   },
   {
    "duration": 447,
    "start_time": "2022-02-03T17:51:17.932Z"
   },
   {
    "duration": 21,
    "start_time": "2022-02-03T17:51:18.381Z"
   },
   {
    "duration": 4435,
    "start_time": "2022-02-03T17:51:18.404Z"
   },
   {
    "duration": 157,
    "start_time": "2022-02-03T17:51:22.841Z"
   },
   {
    "duration": 306,
    "start_time": "2022-02-03T17:51:23.000Z"
   },
   {
    "duration": 4,
    "start_time": "2022-02-03T17:51:23.308Z"
   },
   {
    "duration": 337,
    "start_time": "2022-02-03T17:51:23.314Z"
   },
   {
    "duration": 260,
    "start_time": "2022-02-03T17:51:23.653Z"
   },
   {
    "duration": 237,
    "start_time": "2022-02-03T17:51:23.914Z"
   },
   {
    "duration": 230,
    "start_time": "2022-02-03T17:51:24.153Z"
   },
   {
    "duration": 19,
    "start_time": "2022-02-03T17:51:24.385Z"
   },
   {
    "duration": 14,
    "start_time": "2022-02-03T17:51:24.406Z"
   },
   {
    "duration": 309,
    "start_time": "2022-02-03T17:51:24.422Z"
   },
   {
    "duration": 317,
    "start_time": "2022-02-03T17:51:24.732Z"
   },
   {
    "duration": 327,
    "start_time": "2022-02-03T17:51:25.051Z"
   },
   {
    "duration": 308,
    "start_time": "2022-02-03T17:51:25.380Z"
   },
   {
    "duration": 22,
    "start_time": "2022-02-03T17:51:25.689Z"
   },
   {
    "duration": 4681,
    "start_time": "2022-02-03T17:51:25.712Z"
   },
   {
    "duration": 248,
    "start_time": "2022-02-03T17:54:24.035Z"
   },
   {
    "duration": 626,
    "start_time": "2022-02-03T17:59:00.600Z"
   },
   {
    "duration": 97,
    "start_time": "2022-02-03T17:59:01.228Z"
   },
   {
    "duration": 12,
    "start_time": "2022-02-03T17:59:01.328Z"
   },
   {
    "duration": 27,
    "start_time": "2022-02-03T17:59:01.341Z"
   },
   {
    "duration": 159,
    "start_time": "2022-02-03T17:59:01.369Z"
   },
   {
    "duration": 6,
    "start_time": "2022-02-03T17:59:01.530Z"
   },
   {
    "duration": 186,
    "start_time": "2022-02-03T17:59:01.538Z"
   },
   {
    "duration": 20,
    "start_time": "2022-02-03T17:59:01.726Z"
   },
   {
    "duration": 10,
    "start_time": "2022-02-03T17:59:01.759Z"
   },
   {
    "duration": 31,
    "start_time": "2022-02-03T17:59:01.771Z"
   },
   {
    "duration": 25,
    "start_time": "2022-02-03T17:59:01.804Z"
   },
   {
    "duration": 28,
    "start_time": "2022-02-03T17:59:01.831Z"
   },
   {
    "duration": 8,
    "start_time": "2022-02-03T17:59:01.861Z"
   },
   {
    "duration": 9,
    "start_time": "2022-02-03T17:59:01.870Z"
   },
   {
    "duration": 16,
    "start_time": "2022-02-03T17:59:01.881Z"
   },
   {
    "duration": 20,
    "start_time": "2022-02-03T17:59:01.899Z"
   },
   {
    "duration": 39,
    "start_time": "2022-02-03T17:59:01.921Z"
   },
   {
    "duration": 16,
    "start_time": "2022-02-03T17:59:01.962Z"
   },
   {
    "duration": 23,
    "start_time": "2022-02-03T17:59:01.980Z"
   },
   {
    "duration": 520,
    "start_time": "2022-02-03T17:59:02.005Z"
   },
   {
    "duration": 20,
    "start_time": "2022-02-03T17:59:02.527Z"
   },
   {
    "duration": 11,
    "start_time": "2022-02-03T17:59:02.548Z"
   },
   {
    "duration": 260,
    "start_time": "2022-02-03T17:59:02.563Z"
   },
   {
    "duration": 267,
    "start_time": "2022-02-03T17:59:02.825Z"
   },
   {
    "duration": 247,
    "start_time": "2022-02-03T17:59:03.094Z"
   },
   {
    "duration": 254,
    "start_time": "2022-02-03T17:59:03.343Z"
   },
   {
    "duration": 259,
    "start_time": "2022-02-03T17:59:03.598Z"
   },
   {
    "duration": 142,
    "start_time": "2022-02-03T17:59:03.858Z"
   },
   {
    "duration": 9,
    "start_time": "2022-02-03T17:59:04.001Z"
   },
   {
    "duration": 9,
    "start_time": "2022-02-03T17:59:04.011Z"
   },
   {
    "duration": 8,
    "start_time": "2022-02-03T17:59:04.022Z"
   },
   {
    "duration": 40,
    "start_time": "2022-02-03T17:59:04.031Z"
   },
   {
    "duration": 418,
    "start_time": "2022-02-03T17:59:04.072Z"
   },
   {
    "duration": 406,
    "start_time": "2022-02-03T17:59:04.492Z"
   },
   {
    "duration": 9,
    "start_time": "2022-02-03T17:59:04.899Z"
   },
   {
    "duration": 437,
    "start_time": "2022-02-03T17:59:04.910Z"
   },
   {
    "duration": 684,
    "start_time": "2022-02-03T17:59:05.349Z"
   },
   {
    "duration": 5,
    "start_time": "2022-02-03T17:59:06.034Z"
   },
   {
    "duration": 457,
    "start_time": "2022-02-03T17:59:06.041Z"
   },
   {
    "duration": 20,
    "start_time": "2022-02-03T17:59:06.500Z"
   },
   {
    "duration": 4280,
    "start_time": "2022-02-03T17:59:06.522Z"
   },
   {
    "duration": 157,
    "start_time": "2022-02-03T17:59:10.804Z"
   },
   {
    "duration": 303,
    "start_time": "2022-02-03T17:59:10.962Z"
   },
   {
    "duration": 23,
    "start_time": "2022-02-03T17:59:11.267Z"
   },
   {
    "duration": 6,
    "start_time": "2022-02-03T17:59:11.292Z"
   },
   {
    "duration": 339,
    "start_time": "2022-02-03T17:59:11.299Z"
   },
   {
    "duration": 257,
    "start_time": "2022-02-03T17:59:11.640Z"
   },
   {
    "duration": 238,
    "start_time": "2022-02-03T17:59:11.899Z"
   },
   {
    "duration": 236,
    "start_time": "2022-02-03T17:59:12.139Z"
   },
   {
    "duration": 16,
    "start_time": "2022-02-03T17:59:12.377Z"
   },
   {
    "duration": 273,
    "start_time": "2022-02-03T17:59:12.395Z"
   },
   {
    "duration": 278,
    "start_time": "2022-02-03T17:59:12.671Z"
   },
   {
    "duration": 309,
    "start_time": "2022-02-03T17:59:12.951Z"
   },
   {
    "duration": 300,
    "start_time": "2022-02-03T17:59:13.263Z"
   },
   {
    "duration": 23,
    "start_time": "2022-02-03T17:59:13.565Z"
   },
   {
    "duration": 4522,
    "start_time": "2022-02-03T17:59:13.590Z"
   },
   {
    "duration": 281,
    "start_time": "2022-02-03T18:02:09.828Z"
   },
   {
    "duration": 263,
    "start_time": "2022-02-03T18:04:13.496Z"
   },
   {
    "duration": 319,
    "start_time": "2022-02-03T18:15:13.449Z"
   },
   {
    "duration": 308,
    "start_time": "2022-02-03T18:17:09.861Z"
   },
   {
    "duration": 72,
    "start_time": "2022-02-03T18:18:38.439Z"
   },
   {
    "duration": 5023,
    "start_time": "2022-02-03T18:23:33.553Z"
   },
   {
    "duration": 5184,
    "start_time": "2022-02-03T18:23:58.299Z"
   },
   {
    "duration": 859,
    "start_time": "2022-02-12T09:51:25.021Z"
   },
   {
    "duration": 128,
    "start_time": "2022-02-12T09:51:25.883Z"
   },
   {
    "duration": 22,
    "start_time": "2022-02-12T09:51:26.014Z"
   },
   {
    "duration": 40,
    "start_time": "2022-02-12T09:51:26.040Z"
   },
   {
    "duration": 322,
    "start_time": "2022-02-12T09:51:26.083Z"
   },
   {
    "duration": 8,
    "start_time": "2022-02-12T09:51:26.407Z"
   },
   {
    "duration": 260,
    "start_time": "2022-02-12T09:51:26.417Z"
   },
   {
    "duration": 27,
    "start_time": "2022-02-12T09:51:26.680Z"
   },
   {
    "duration": 13,
    "start_time": "2022-02-12T09:51:26.710Z"
   },
   {
    "duration": 74,
    "start_time": "2022-02-12T09:51:26.725Z"
   },
   {
    "duration": 63,
    "start_time": "2022-02-12T09:51:26.802Z"
   },
   {
    "duration": 4,
    "start_time": "2022-02-12T09:51:26.868Z"
   },
   {
    "duration": 11,
    "start_time": "2022-02-12T09:51:26.874Z"
   },
   {
    "duration": 8,
    "start_time": "2022-02-12T09:51:26.887Z"
   },
   {
    "duration": 23,
    "start_time": "2022-02-12T09:51:26.898Z"
   },
   {
    "duration": 58,
    "start_time": "2022-02-12T09:51:26.923Z"
   },
   {
    "duration": 21,
    "start_time": "2022-02-12T09:51:26.984Z"
   },
   {
    "duration": 62,
    "start_time": "2022-02-12T09:51:27.007Z"
   },
   {
    "duration": 37,
    "start_time": "2022-02-12T09:51:27.072Z"
   },
   {
    "duration": 848,
    "start_time": "2022-02-12T09:51:27.111Z"
   },
   {
    "duration": 44,
    "start_time": "2022-02-12T09:51:27.962Z"
   },
   {
    "duration": 6,
    "start_time": "2022-02-12T09:51:28.009Z"
   },
   {
    "duration": 572,
    "start_time": "2022-02-12T09:51:28.024Z"
   },
   {
    "duration": 424,
    "start_time": "2022-02-12T09:51:28.599Z"
   },
   {
    "duration": 417,
    "start_time": "2022-02-12T09:51:29.025Z"
   },
   {
    "duration": 409,
    "start_time": "2022-02-12T09:51:29.444Z"
   },
   {
    "duration": 423,
    "start_time": "2022-02-12T09:51:29.859Z"
   },
   {
    "duration": 216,
    "start_time": "2022-02-12T09:51:30.284Z"
   },
   {
    "duration": 11,
    "start_time": "2022-02-12T09:51:30.502Z"
   },
   {
    "duration": 11,
    "start_time": "2022-02-12T09:51:30.515Z"
   },
   {
    "duration": 31,
    "start_time": "2022-02-12T09:51:30.528Z"
   },
   {
    "duration": 39,
    "start_time": "2022-02-12T09:51:30.562Z"
   },
   {
    "duration": 659,
    "start_time": "2022-02-12T09:51:30.603Z"
   },
   {
    "duration": 619,
    "start_time": "2022-02-12T09:51:31.264Z"
   },
   {
    "duration": 13,
    "start_time": "2022-02-12T09:51:31.885Z"
   },
   {
    "duration": 582,
    "start_time": "2022-02-12T09:51:31.900Z"
   },
   {
    "duration": 664,
    "start_time": "2022-02-12T09:51:32.485Z"
   },
   {
    "duration": 6,
    "start_time": "2022-02-12T09:51:33.159Z"
   },
   {
    "duration": 676,
    "start_time": "2022-02-12T09:51:33.168Z"
   },
   {
    "duration": 46,
    "start_time": "2022-02-12T09:51:33.847Z"
   },
   {
    "duration": 7022,
    "start_time": "2022-02-12T09:51:33.895Z"
   },
   {
    "duration": 240,
    "start_time": "2022-02-12T09:51:40.919Z"
   },
   {
    "duration": 500,
    "start_time": "2022-02-12T09:51:41.161Z"
   },
   {
    "duration": 35,
    "start_time": "2022-02-12T09:51:41.663Z"
   },
   {
    "duration": 4,
    "start_time": "2022-02-12T09:51:41.700Z"
   },
   {
    "duration": 512,
    "start_time": "2022-02-12T09:51:41.706Z"
   },
   {
    "duration": 454,
    "start_time": "2022-02-12T09:51:42.220Z"
   },
   {
    "duration": 399,
    "start_time": "2022-02-12T09:51:42.677Z"
   },
   {
    "duration": 389,
    "start_time": "2022-02-12T09:51:43.079Z"
   },
   {
    "duration": 24,
    "start_time": "2022-02-12T09:51:43.470Z"
   },
   {
    "duration": 375,
    "start_time": "2022-02-12T09:51:43.496Z"
   },
   {
    "duration": 364,
    "start_time": "2022-02-12T09:51:43.874Z"
   },
   {
    "duration": 444,
    "start_time": "2022-02-12T09:51:44.240Z"
   },
   {
    "duration": 385,
    "start_time": "2022-02-12T09:51:44.686Z"
   },
   {
    "duration": 31,
    "start_time": "2022-02-12T09:51:45.073Z"
   },
   {
    "duration": 7557,
    "start_time": "2022-02-12T09:51:45.106Z"
   },
   {
    "duration": 32,
    "start_time": "2022-02-12T09:58:06.999Z"
   },
   {
    "duration": 19,
    "start_time": "2022-02-12T09:58:18.619Z"
   },
   {
    "duration": 271,
    "start_time": "2022-02-12T09:59:45.569Z"
   },
   {
    "duration": 274,
    "start_time": "2022-02-12T10:00:07.715Z"
   },
   {
    "duration": 280,
    "start_time": "2022-02-12T10:06:52.798Z"
   },
   {
    "duration": 852,
    "start_time": "2022-02-12T12:42:10.257Z"
   },
   {
    "duration": 123,
    "start_time": "2022-02-12T12:42:11.111Z"
   },
   {
    "duration": 16,
    "start_time": "2022-02-12T12:42:11.237Z"
   },
   {
    "duration": 18,
    "start_time": "2022-02-12T12:42:11.255Z"
   },
   {
    "duration": 274,
    "start_time": "2022-02-12T12:42:11.275Z"
   },
   {
    "duration": 9,
    "start_time": "2022-02-12T12:42:11.551Z"
   },
   {
    "duration": 264,
    "start_time": "2022-02-12T12:42:11.563Z"
   },
   {
    "duration": 26,
    "start_time": "2022-02-12T12:42:11.831Z"
   },
   {
    "duration": 12,
    "start_time": "2022-02-12T12:42:11.860Z"
   },
   {
    "duration": 85,
    "start_time": "2022-02-12T12:42:11.875Z"
   },
   {
    "duration": 60,
    "start_time": "2022-02-12T12:42:11.963Z"
   },
   {
    "duration": 3,
    "start_time": "2022-02-12T12:42:12.026Z"
   },
   {
    "duration": 12,
    "start_time": "2022-02-12T12:42:12.031Z"
   },
   {
    "duration": 8,
    "start_time": "2022-02-12T12:42:12.045Z"
   },
   {
    "duration": 24,
    "start_time": "2022-02-12T12:42:12.056Z"
   },
   {
    "duration": 60,
    "start_time": "2022-02-12T12:42:12.083Z"
   },
   {
    "duration": 23,
    "start_time": "2022-02-12T12:42:12.146Z"
   },
   {
    "duration": 54,
    "start_time": "2022-02-12T12:42:12.172Z"
   },
   {
    "duration": 38,
    "start_time": "2022-02-12T12:42:12.229Z"
   },
   {
    "duration": 840,
    "start_time": "2022-02-12T12:42:12.269Z"
   },
   {
    "duration": 37,
    "start_time": "2022-02-12T12:42:13.111Z"
   },
   {
    "duration": 6,
    "start_time": "2022-02-12T12:42:13.151Z"
   },
   {
    "duration": 438,
    "start_time": "2022-02-12T12:42:13.164Z"
   },
   {
    "duration": 450,
    "start_time": "2022-02-12T12:42:13.605Z"
   },
   {
    "duration": 439,
    "start_time": "2022-02-12T12:42:14.057Z"
   },
   {
    "duration": 439,
    "start_time": "2022-02-12T12:42:14.499Z"
   },
   {
    "duration": 452,
    "start_time": "2022-02-12T12:42:14.940Z"
   },
   {
    "duration": 233,
    "start_time": "2022-02-12T12:42:15.395Z"
   },
   {
    "duration": 12,
    "start_time": "2022-02-12T12:42:15.631Z"
   },
   {
    "duration": 12,
    "start_time": "2022-02-12T12:42:15.646Z"
   },
   {
    "duration": 22,
    "start_time": "2022-02-12T12:42:15.661Z"
   },
   {
    "duration": 5,
    "start_time": "2022-02-12T12:42:15.726Z"
   },
   {
    "duration": 42,
    "start_time": "2022-02-12T12:42:15.733Z"
   },
   {
    "duration": 666,
    "start_time": "2022-02-12T12:42:15.778Z"
   },
   {
    "duration": 662,
    "start_time": "2022-02-12T12:42:16.447Z"
   },
   {
    "duration": 287,
    "start_time": "2022-02-12T12:42:17.112Z"
   },
   {
    "duration": 29,
    "start_time": "2022-02-12T12:42:17.402Z"
   },
   {
    "duration": 692,
    "start_time": "2022-02-12T12:42:17.434Z"
   },
   {
    "duration": 604,
    "start_time": "2022-02-12T12:42:18.128Z"
   },
   {
    "duration": 7,
    "start_time": "2022-02-12T12:42:18.735Z"
   },
   {
    "duration": 693,
    "start_time": "2022-02-12T12:42:18.745Z"
   },
   {
    "duration": 34,
    "start_time": "2022-02-12T12:42:19.440Z"
   },
   {
    "duration": 7619,
    "start_time": "2022-02-12T12:42:19.476Z"
   },
   {
    "duration": 398,
    "start_time": "2022-02-12T12:42:27.098Z"
   },
   {
    "duration": 648,
    "start_time": "2022-02-12T12:42:27.499Z"
   },
   {
    "duration": 45,
    "start_time": "2022-02-12T12:42:28.150Z"
   },
   {
    "duration": 26,
    "start_time": "2022-02-12T12:42:28.198Z"
   },
   {
    "duration": 505,
    "start_time": "2022-02-12T12:42:28.227Z"
   },
   {
    "duration": 442,
    "start_time": "2022-02-12T12:42:28.735Z"
   },
   {
    "duration": 406,
    "start_time": "2022-02-12T12:42:29.180Z"
   },
   {
    "duration": 445,
    "start_time": "2022-02-12T12:42:29.589Z"
   },
   {
    "duration": 24,
    "start_time": "2022-02-12T12:42:30.036Z"
   },
   {
    "duration": 401,
    "start_time": "2022-02-12T12:42:30.062Z"
   },
   {
    "duration": 395,
    "start_time": "2022-02-12T12:42:30.466Z"
   },
   {
    "duration": 538,
    "start_time": "2022-02-12T12:42:30.864Z"
   },
   {
    "duration": 508,
    "start_time": "2022-02-12T12:42:31.404Z"
   },
   {
    "duration": 40,
    "start_time": "2022-02-12T12:42:31.915Z"
   },
   {
    "duration": 8520,
    "start_time": "2022-02-12T12:42:31.958Z"
   },
   {
    "duration": 685,
    "start_time": "2022-02-12T12:43:20.395Z"
   },
   {
    "duration": 21,
    "start_time": "2022-02-12T12:43:31.925Z"
   },
   {
    "duration": 1671,
    "start_time": "2022-02-12T12:49:24.373Z"
   },
   {
    "duration": 644,
    "start_time": "2022-02-12T12:51:32.552Z"
   },
   {
    "duration": 423,
    "start_time": "2022-02-12T12:52:25.236Z"
   },
   {
    "duration": 507,
    "start_time": "2022-02-12T12:53:04.427Z"
   },
   {
    "duration": 423,
    "start_time": "2022-02-12T13:06:22.359Z"
   },
   {
    "duration": 394,
    "start_time": "2022-02-12T13:06:48.660Z"
   },
   {
    "duration": 435,
    "start_time": "2022-02-12T13:06:56.220Z"
   },
   {
    "duration": 582,
    "start_time": "2022-02-12T13:07:01.957Z"
   },
   {
    "duration": 393,
    "start_time": "2022-02-12T13:07:26.082Z"
   },
   {
    "duration": 416,
    "start_time": "2022-02-12T13:08:12.245Z"
   },
   {
    "duration": 412,
    "start_time": "2022-02-12T13:08:17.560Z"
   },
   {
    "duration": 379,
    "start_time": "2022-02-12T13:09:46.746Z"
   },
   {
    "duration": 280,
    "start_time": "2022-02-12T13:11:10.821Z"
   },
   {
    "duration": 96,
    "start_time": "2022-02-12T13:14:09.284Z"
   },
   {
    "duration": 310,
    "start_time": "2022-02-12T13:17:06.976Z"
   },
   {
    "duration": 9,
    "start_time": "2022-02-12T13:17:23.701Z"
   },
   {
    "duration": 19,
    "start_time": "2022-02-12T13:17:30.166Z"
   },
   {
    "duration": 58,
    "start_time": "2022-02-12T13:18:17.167Z"
   },
   {
    "duration": 111,
    "start_time": "2022-02-12T13:19:36.120Z"
   },
   {
    "duration": 19,
    "start_time": "2022-02-12T13:19:39.775Z"
   },
   {
    "duration": 306,
    "start_time": "2022-02-12T13:22:03.223Z"
   },
   {
    "duration": 336,
    "start_time": "2022-02-12T13:22:35.020Z"
   },
   {
    "duration": 342,
    "start_time": "2022-02-12T13:22:39.462Z"
   },
   {
    "duration": 22,
    "start_time": "2022-02-12T13:24:18.998Z"
   },
   {
    "duration": 19,
    "start_time": "2022-02-12T13:24:26.891Z"
   },
   {
    "duration": 30,
    "start_time": "2022-02-12T13:24:38.212Z"
   },
   {
    "duration": 347,
    "start_time": "2022-02-12T13:26:11.309Z"
   },
   {
    "duration": 23,
    "start_time": "2022-02-12T13:26:22.772Z"
   },
   {
    "duration": 30,
    "start_time": "2022-02-12T13:28:39.652Z"
   },
   {
    "duration": 116,
    "start_time": "2022-02-12T13:29:50.455Z"
   },
   {
    "duration": 282,
    "start_time": "2022-02-12T13:31:18.699Z"
   },
   {
    "duration": 514,
    "start_time": "2022-02-12T13:31:51.667Z"
   },
   {
    "duration": 960,
    "start_time": "2022-02-12T13:33:09.474Z"
   },
   {
    "duration": 389,
    "start_time": "2022-02-12T14:16:14.254Z"
   },
   {
    "duration": 285,
    "start_time": "2022-02-12T14:16:29.013Z"
   },
   {
    "duration": 284,
    "start_time": "2022-02-12T14:17:53.001Z"
   },
   {
    "duration": 354,
    "start_time": "2022-02-12T14:18:06.597Z"
   },
   {
    "duration": 297,
    "start_time": "2022-02-12T14:18:13.916Z"
   },
   {
    "duration": 499,
    "start_time": "2022-02-12T14:20:41.972Z"
   },
   {
    "duration": 406,
    "start_time": "2022-02-12T14:21:27.054Z"
   },
   {
    "duration": 471,
    "start_time": "2022-02-12T14:21:59.938Z"
   },
   {
    "duration": 394,
    "start_time": "2022-02-12T14:22:14.946Z"
   },
   {
    "duration": 533,
    "start_time": "2022-02-12T14:22:18.645Z"
   },
   {
    "duration": 98,
    "start_time": "2022-02-12T14:23:29.799Z"
   },
   {
    "duration": 585,
    "start_time": "2022-02-12T14:33:56.410Z"
   },
   {
    "duration": 399,
    "start_time": "2022-02-12T14:34:28.629Z"
   },
   {
    "duration": 773,
    "start_time": "2022-02-12T14:38:15.091Z"
   },
   {
    "duration": 1175,
    "start_time": "2022-02-13T09:32:02.159Z"
   },
   {
    "duration": 215,
    "start_time": "2022-02-13T09:32:03.338Z"
   },
   {
    "duration": 68,
    "start_time": "2022-02-13T09:32:03.556Z"
   },
   {
    "duration": 18,
    "start_time": "2022-02-13T09:32:03.627Z"
   },
   {
    "duration": 493,
    "start_time": "2022-02-13T09:32:03.648Z"
   },
   {
    "duration": 11,
    "start_time": "2022-02-13T09:32:04.143Z"
   },
   {
    "duration": 380,
    "start_time": "2022-02-13T09:32:04.157Z"
   },
   {
    "duration": 36,
    "start_time": "2022-02-13T09:32:04.541Z"
   },
   {
    "duration": 44,
    "start_time": "2022-02-13T09:32:04.581Z"
   },
   {
    "duration": 74,
    "start_time": "2022-02-13T09:32:04.629Z"
   },
   {
    "duration": 45,
    "start_time": "2022-02-13T09:32:04.725Z"
   },
   {
    "duration": 4,
    "start_time": "2022-02-13T09:32:04.773Z"
   },
   {
    "duration": 46,
    "start_time": "2022-02-13T09:32:04.779Z"
   },
   {
    "duration": 9,
    "start_time": "2022-02-13T09:32:04.827Z"
   },
   {
    "duration": 27,
    "start_time": "2022-02-13T09:32:04.838Z"
   },
   {
    "duration": 73,
    "start_time": "2022-02-13T09:32:04.869Z"
   },
   {
    "duration": 38,
    "start_time": "2022-02-13T09:32:04.946Z"
   },
   {
    "duration": 51,
    "start_time": "2022-02-13T09:32:04.987Z"
   },
   {
    "duration": 38,
    "start_time": "2022-02-13T09:32:05.041Z"
   },
   {
    "duration": 830,
    "start_time": "2022-02-13T09:32:05.081Z"
   },
   {
    "duration": 37,
    "start_time": "2022-02-13T09:32:05.913Z"
   },
   {
    "duration": 5,
    "start_time": "2022-02-13T09:32:05.953Z"
   },
   {
    "duration": 498,
    "start_time": "2022-02-13T09:32:05.966Z"
   },
   {
    "duration": 480,
    "start_time": "2022-02-13T09:32:06.467Z"
   },
   {
    "duration": 449,
    "start_time": "2022-02-13T09:32:06.950Z"
   },
   {
    "duration": 455,
    "start_time": "2022-02-13T09:32:07.401Z"
   },
   {
    "duration": 464,
    "start_time": "2022-02-13T09:32:07.859Z"
   },
   {
    "duration": 239,
    "start_time": "2022-02-13T09:32:08.326Z"
   },
   {
    "duration": 13,
    "start_time": "2022-02-13T09:32:08.568Z"
   },
   {
    "duration": 47,
    "start_time": "2022-02-13T09:32:08.584Z"
   },
   {
    "duration": 23,
    "start_time": "2022-02-13T09:32:08.633Z"
   },
   {
    "duration": 4,
    "start_time": "2022-02-13T09:32:08.660Z"
   },
   {
    "duration": 95,
    "start_time": "2022-02-13T09:32:08.668Z"
   },
   {
    "duration": 935,
    "start_time": "2022-02-13T09:32:08.767Z"
   },
   {
    "duration": 718,
    "start_time": "2022-02-13T09:32:09.705Z"
   },
   {
    "duration": 359,
    "start_time": "2022-02-13T09:32:10.425Z"
   },
   {
    "duration": 14,
    "start_time": "2022-02-13T09:32:10.786Z"
   },
   {
    "duration": 611,
    "start_time": "2022-02-13T09:32:10.823Z"
   },
   {
    "duration": 601,
    "start_time": "2022-02-13T09:32:11.437Z"
   },
   {
    "duration": 7,
    "start_time": "2022-02-13T09:32:12.041Z"
   },
   {
    "duration": 686,
    "start_time": "2022-02-13T09:32:12.050Z"
   },
   {
    "duration": 27,
    "start_time": "2022-02-13T09:32:12.738Z"
   },
   {
    "duration": 60,
    "start_time": "2022-02-13T09:32:12.767Z"
   },
   {
    "duration": 8083,
    "start_time": "2022-02-13T09:32:12.829Z"
   },
   {
    "duration": 1341,
    "start_time": "2022-02-13T09:32:20.924Z"
   },
   {
    "duration": 632,
    "start_time": "2022-02-13T09:32:22.269Z"
   },
   {
    "duration": 133,
    "start_time": "2022-02-13T09:32:22.905Z"
   },
   {
    "duration": -101,
    "start_time": "2022-02-13T09:32:23.143Z"
   },
   {
    "duration": -102,
    "start_time": "2022-02-13T09:32:23.146Z"
   },
   {
    "duration": -111,
    "start_time": "2022-02-13T09:32:23.156Z"
   },
   {
    "duration": -115,
    "start_time": "2022-02-13T09:32:23.162Z"
   },
   {
    "duration": -117,
    "start_time": "2022-02-13T09:32:23.165Z"
   },
   {
    "duration": -118,
    "start_time": "2022-02-13T09:32:23.167Z"
   },
   {
    "duration": -118,
    "start_time": "2022-02-13T09:32:23.169Z"
   },
   {
    "duration": -124,
    "start_time": "2022-02-13T09:32:23.176Z"
   },
   {
    "duration": -124,
    "start_time": "2022-02-13T09:32:23.178Z"
   },
   {
    "duration": -128,
    "start_time": "2022-02-13T09:32:23.183Z"
   },
   {
    "duration": -131,
    "start_time": "2022-02-13T09:32:23.188Z"
   },
   {
    "duration": -159,
    "start_time": "2022-02-13T09:32:23.217Z"
   },
   {
    "duration": -159,
    "start_time": "2022-02-13T09:32:23.219Z"
   },
   {
    "duration": -165,
    "start_time": "2022-02-13T09:32:23.226Z"
   },
   {
    "duration": 52,
    "start_time": "2022-02-13T09:32:57.179Z"
   },
   {
    "duration": 18,
    "start_time": "2022-02-13T09:35:58.503Z"
   },
   {
    "duration": 266,
    "start_time": "2022-02-13T09:37:57.571Z"
   },
   {
    "duration": 964,
    "start_time": "2022-02-13T09:39:18.069Z"
   },
   {
    "duration": 606,
    "start_time": "2022-02-13T09:39:28.749Z"
   },
   {
    "duration": 770,
    "start_time": "2022-02-13T09:39:56.460Z"
   },
   {
    "duration": 250,
    "start_time": "2022-02-13T09:40:45.145Z"
   },
   {
    "duration": 260,
    "start_time": "2022-02-13T09:41:02.522Z"
   },
   {
    "duration": 611,
    "start_time": "2022-02-13T09:42:33.344Z"
   },
   {
    "duration": 33,
    "start_time": "2022-02-13T09:42:33.958Z"
   },
   {
    "duration": 4,
    "start_time": "2022-02-13T09:42:33.994Z"
   },
   {
    "duration": 574,
    "start_time": "2022-02-13T09:42:34.024Z"
   },
   {
    "duration": 737,
    "start_time": "2022-02-13T09:42:34.601Z"
   },
   {
    "duration": 725,
    "start_time": "2022-02-13T09:42:35.340Z"
   },
   {
    "duration": 795,
    "start_time": "2022-02-13T09:42:36.068Z"
   },
   {
    "duration": 79,
    "start_time": "2022-02-13T09:42:36.866Z"
   },
   {
    "duration": 704,
    "start_time": "2022-02-13T09:42:36.948Z"
   },
   {
    "duration": 588,
    "start_time": "2022-02-13T09:42:37.654Z"
   },
   {
    "duration": 573,
    "start_time": "2022-02-13T09:42:38.244Z"
   },
   {
    "duration": 326,
    "start_time": "2022-02-13T09:42:38.819Z"
   },
   {
    "duration": 32,
    "start_time": "2022-02-13T09:42:39.147Z"
   },
   {
    "duration": 8365,
    "start_time": "2022-02-13T09:42:39.182Z"
   },
   {
    "duration": 51,
    "start_time": "2022-05-08T19:01:59.804Z"
   },
   {
    "duration": 834,
    "start_time": "2022-05-08T19:02:05.905Z"
   },
   {
    "duration": 112,
    "start_time": "2022-05-08T19:02:06.741Z"
   },
   {
    "duration": 17,
    "start_time": "2022-05-08T19:02:06.855Z"
   },
   {
    "duration": 14,
    "start_time": "2022-05-08T19:02:06.874Z"
   },
   {
    "duration": 142,
    "start_time": "2022-05-08T19:02:06.890Z"
   },
   {
    "duration": 8,
    "start_time": "2022-05-08T19:02:07.034Z"
   },
   {
    "duration": 133,
    "start_time": "2022-05-08T19:02:07.054Z"
   },
   {
    "duration": 23,
    "start_time": "2022-05-08T19:02:07.189Z"
   },
   {
    "duration": 9,
    "start_time": "2022-05-08T19:02:07.214Z"
   },
   {
    "duration": 54,
    "start_time": "2022-05-08T19:02:07.225Z"
   },
   {
    "duration": 32,
    "start_time": "2022-05-08T19:02:07.281Z"
   },
   {
    "duration": 6,
    "start_time": "2022-05-08T19:02:07.315Z"
   },
   {
    "duration": 19,
    "start_time": "2022-05-08T19:02:07.322Z"
   },
   {
    "duration": 6,
    "start_time": "2022-05-08T19:02:07.354Z"
   },
   {
    "duration": 26,
    "start_time": "2022-05-08T19:02:07.361Z"
   },
   {
    "duration": 19,
    "start_time": "2022-05-08T19:02:07.388Z"
   },
   {
    "duration": 30,
    "start_time": "2022-05-08T19:02:07.409Z"
   },
   {
    "duration": 18,
    "start_time": "2022-05-08T19:02:07.441Z"
   },
   {
    "duration": 25,
    "start_time": "2022-05-08T19:02:07.461Z"
   },
   {
    "duration": 359,
    "start_time": "2022-05-08T19:02:07.488Z"
   },
   {
    "duration": 23,
    "start_time": "2022-05-08T19:02:07.849Z"
   },
   {
    "duration": 4,
    "start_time": "2022-05-08T19:02:07.874Z"
   },
   {
    "duration": 196,
    "start_time": "2022-05-08T19:02:07.880Z"
   },
   {
    "duration": 192,
    "start_time": "2022-05-08T19:02:08.078Z"
   },
   {
    "duration": 176,
    "start_time": "2022-05-08T19:02:08.273Z"
   },
   {
    "duration": 180,
    "start_time": "2022-05-08T19:02:08.454Z"
   },
   {
    "duration": 190,
    "start_time": "2022-05-08T19:02:08.636Z"
   },
   {
    "duration": 112,
    "start_time": "2022-05-08T19:02:08.828Z"
   },
   {
    "duration": 17,
    "start_time": "2022-05-08T19:02:08.942Z"
   },
   {
    "duration": 22,
    "start_time": "2022-05-08T19:02:08.961Z"
   },
   {
    "duration": 3,
    "start_time": "2022-05-08T19:02:08.985Z"
   },
   {
    "duration": 43,
    "start_time": "2022-05-08T19:02:08.989Z"
   },
   {
    "duration": 205,
    "start_time": "2022-05-08T19:02:09.034Z"
   },
   {
    "duration": 123,
    "start_time": "2022-05-08T19:02:09.241Z"
   },
   {
    "duration": 9,
    "start_time": "2022-05-08T19:02:09.366Z"
   },
   {
    "duration": 161,
    "start_time": "2022-05-08T19:02:09.377Z"
   },
   {
    "duration": 220,
    "start_time": "2022-05-08T19:02:09.540Z"
   },
   {
    "duration": 5,
    "start_time": "2022-05-08T19:02:09.762Z"
   },
   {
    "duration": 171,
    "start_time": "2022-05-08T19:02:09.768Z"
   },
   {
    "duration": 29,
    "start_time": "2022-05-08T19:02:09.940Z"
   },
   {
    "duration": 20,
    "start_time": "2022-05-08T19:02:09.973Z"
   },
   {
    "duration": 430,
    "start_time": "2022-05-08T19:02:09.995Z"
   },
   {
    "duration": 151,
    "start_time": "2022-05-08T19:02:10.427Z"
   },
   {
    "duration": 139,
    "start_time": "2022-05-08T19:02:10.580Z"
   },
   {
    "duration": 234,
    "start_time": "2022-05-08T19:02:10.721Z"
   },
   {
    "duration": 160,
    "start_time": "2022-05-08T19:02:10.956Z"
   },
   {
    "duration": 0,
    "start_time": "2022-05-08T19:02:11.118Z"
   },
   {
    "duration": 0,
    "start_time": "2022-05-08T19:02:11.119Z"
   },
   {
    "duration": 0,
    "start_time": "2022-05-08T19:02:11.120Z"
   },
   {
    "duration": 0,
    "start_time": "2022-05-08T19:02:11.121Z"
   },
   {
    "duration": 0,
    "start_time": "2022-05-08T19:02:11.122Z"
   },
   {
    "duration": 0,
    "start_time": "2022-05-08T19:02:11.123Z"
   },
   {
    "duration": 0,
    "start_time": "2022-05-08T19:02:11.123Z"
   },
   {
    "duration": 0,
    "start_time": "2022-05-08T19:02:11.124Z"
   },
   {
    "duration": 0,
    "start_time": "2022-05-08T19:02:11.125Z"
   },
   {
    "duration": 0,
    "start_time": "2022-05-08T19:02:11.126Z"
   },
   {
    "duration": 0,
    "start_time": "2022-05-08T19:02:11.127Z"
   },
   {
    "duration": 0,
    "start_time": "2022-05-08T19:02:11.128Z"
   },
   {
    "duration": 0,
    "start_time": "2022-05-08T19:02:11.129Z"
   },
   {
    "duration": 0,
    "start_time": "2022-05-08T19:02:11.130Z"
   },
   {
    "duration": 267,
    "start_time": "2022-05-08T19:03:51.838Z"
   },
   {
    "duration": 24,
    "start_time": "2022-05-08T19:03:52.204Z"
   },
   {
    "duration": 3,
    "start_time": "2022-05-08T19:03:52.383Z"
   },
   {
    "duration": 185,
    "start_time": "2022-05-08T19:03:52.603Z"
   },
   {
    "duration": 207,
    "start_time": "2022-05-08T19:03:52.790Z"
   },
   {
    "duration": 180,
    "start_time": "2022-05-08T19:03:52.999Z"
   },
   {
    "duration": 166,
    "start_time": "2022-05-08T19:03:53.181Z"
   },
   {
    "duration": 18,
    "start_time": "2022-05-08T19:03:53.436Z"
   },
   {
    "duration": 126,
    "start_time": "2022-05-08T19:03:53.595Z"
   },
   {
    "duration": 124,
    "start_time": "2022-05-08T19:03:53.990Z"
   },
   {
    "duration": 210,
    "start_time": "2022-05-08T19:03:54.374Z"
   },
   {
    "duration": 132,
    "start_time": "2022-05-08T19:03:54.748Z"
   },
   {
    "duration": 23,
    "start_time": "2022-05-08T19:03:55.833Z"
   },
   {
    "duration": 1574,
    "start_time": "2022-05-08T19:03:56.319Z"
   },
   {
    "duration": 54,
    "start_time": "2022-05-09T17:19:59.709Z"
   },
   {
    "duration": 1153,
    "start_time": "2022-05-09T17:21:57.847Z"
   },
   {
    "duration": 169,
    "start_time": "2022-05-09T17:21:59.003Z"
   },
   {
    "duration": 15,
    "start_time": "2022-05-09T17:21:59.174Z"
   },
   {
    "duration": 13,
    "start_time": "2022-05-09T17:21:59.191Z"
   },
   {
    "duration": 178,
    "start_time": "2022-05-09T17:21:59.206Z"
   },
   {
    "duration": 7,
    "start_time": "2022-05-09T17:21:59.387Z"
   },
   {
    "duration": 143,
    "start_time": "2022-05-09T17:21:59.396Z"
   },
   {
    "duration": 35,
    "start_time": "2022-05-09T17:21:59.541Z"
   },
   {
    "duration": 12,
    "start_time": "2022-05-09T17:21:59.578Z"
   },
   {
    "duration": 67,
    "start_time": "2022-05-09T17:21:59.592Z"
   },
   {
    "duration": 29,
    "start_time": "2022-05-09T17:21:59.661Z"
   },
   {
    "duration": 7,
    "start_time": "2022-05-09T17:21:59.692Z"
   },
   {
    "duration": 7,
    "start_time": "2022-05-09T17:21:59.701Z"
   },
   {
    "duration": 46,
    "start_time": "2022-05-09T17:21:59.711Z"
   },
   {
    "duration": 30,
    "start_time": "2022-05-09T17:21:59.759Z"
   },
   {
    "duration": 17,
    "start_time": "2022-05-09T17:21:59.791Z"
   },
   {
    "duration": 19,
    "start_time": "2022-05-09T17:21:59.809Z"
   },
   {
    "duration": 41,
    "start_time": "2022-05-09T17:21:59.830Z"
   },
   {
    "duration": 36,
    "start_time": "2022-05-09T17:21:59.873Z"
   },
   {
    "duration": 568,
    "start_time": "2022-05-09T17:21:59.911Z"
   },
   {
    "duration": 19,
    "start_time": "2022-05-09T17:22:00.481Z"
   },
   {
    "duration": 9,
    "start_time": "2022-05-09T17:22:00.502Z"
   },
   {
    "duration": 222,
    "start_time": "2022-05-09T17:22:00.512Z"
   },
   {
    "duration": 199,
    "start_time": "2022-05-09T17:22:00.736Z"
   },
   {
    "duration": 267,
    "start_time": "2022-05-09T17:22:00.937Z"
   },
   {
    "duration": 267,
    "start_time": "2022-05-09T17:22:01.206Z"
   },
   {
    "duration": 276,
    "start_time": "2022-05-09T17:22:01.475Z"
   },
   {
    "duration": 162,
    "start_time": "2022-05-09T17:22:01.753Z"
   },
   {
    "duration": 10,
    "start_time": "2022-05-09T17:22:01.917Z"
   },
   {
    "duration": 36,
    "start_time": "2022-05-09T17:22:01.929Z"
   },
   {
    "duration": 4,
    "start_time": "2022-05-09T17:22:01.967Z"
   },
   {
    "duration": 35,
    "start_time": "2022-05-09T17:22:01.973Z"
   },
   {
    "duration": 234,
    "start_time": "2022-05-09T17:22:02.010Z"
   },
   {
    "duration": 134,
    "start_time": "2022-05-09T17:22:02.247Z"
   },
   {
    "duration": 11,
    "start_time": "2022-05-09T17:22:02.383Z"
   },
   {
    "duration": 168,
    "start_time": "2022-05-09T17:22:02.396Z"
   },
   {
    "duration": 223,
    "start_time": "2022-05-09T17:22:02.566Z"
   },
   {
    "duration": 6,
    "start_time": "2022-05-09T17:22:02.791Z"
   },
   {
    "duration": 180,
    "start_time": "2022-05-09T17:22:02.799Z"
   },
   {
    "duration": 20,
    "start_time": "2022-05-09T17:22:02.982Z"
   },
   {
    "duration": 50,
    "start_time": "2022-05-09T17:22:03.006Z"
   },
   {
    "duration": 381,
    "start_time": "2022-05-09T17:22:03.057Z"
   },
   {
    "duration": 172,
    "start_time": "2022-05-09T17:22:03.440Z"
   },
   {
    "duration": 342,
    "start_time": "2022-05-09T17:22:03.615Z"
   },
   {
    "duration": 35,
    "start_time": "2022-05-09T17:22:03.959Z"
   },
   {
    "duration": 3,
    "start_time": "2022-05-09T17:22:03.997Z"
   },
   {
    "duration": 317,
    "start_time": "2022-05-09T17:22:04.002Z"
   },
   {
    "duration": 333,
    "start_time": "2022-05-09T17:22:04.322Z"
   },
   {
    "duration": 195,
    "start_time": "2022-05-09T17:22:04.660Z"
   },
   {
    "duration": 218,
    "start_time": "2022-05-09T17:22:04.857Z"
   },
   {
    "duration": 22,
    "start_time": "2022-05-09T17:22:05.077Z"
   },
   {
    "duration": 191,
    "start_time": "2022-05-09T17:22:05.101Z"
   },
   {
    "duration": 130,
    "start_time": "2022-05-09T17:22:05.294Z"
   },
   {
    "duration": 149,
    "start_time": "2022-05-09T17:22:05.426Z"
   },
   {
    "duration": 148,
    "start_time": "2022-05-09T17:22:05.577Z"
   },
   {
    "duration": 26,
    "start_time": "2022-05-09T17:22:05.727Z"
   },
   {
    "duration": 1516,
    "start_time": "2022-05-09T17:22:05.756Z"
   }
  ],
  "kernelspec": {
   "display_name": "Python 3 (ipykernel)",
   "language": "python",
   "name": "python3"
  },
  "language_info": {
   "codemirror_mode": {
    "name": "ipython",
    "version": 3
   },
   "file_extension": ".py",
   "mimetype": "text/x-python",
   "name": "python",
   "nbconvert_exporter": "python",
   "pygments_lexer": "ipython3",
   "version": "3.9.5"
  },
  "toc": {
   "base_numbering": 1,
   "nav_menu": {},
   "number_sections": true,
   "sideBar": true,
   "skip_h1_title": true,
   "title_cell": "Содержание",
   "title_sidebar": "Contents",
   "toc_cell": true,
   "toc_position": {
    "height": "calc(100% - 180px)",
    "left": "10px",
    "top": "150px",
    "width": "287px"
   },
   "toc_section_display": true,
   "toc_window_display": true
  }
 },
 "nbformat": 4,
 "nbformat_minor": 2
}
