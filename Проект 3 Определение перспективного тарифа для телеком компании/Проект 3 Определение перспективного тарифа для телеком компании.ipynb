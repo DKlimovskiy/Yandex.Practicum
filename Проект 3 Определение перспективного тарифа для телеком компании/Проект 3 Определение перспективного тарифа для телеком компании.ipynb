{
 "cells": [
  {
   "cell_type": "markdown",
   "metadata": {
    "toc": true
   },
   "source": [
    "<h1>Содержание<span class=\"tocSkip\"></span></h1>\n",
    "<div class=\"toc\"><ul class=\"toc-item\"><li><span><a href=\"#Изучение-общей-информации\" data-toc-modified-id=\"Изучение-общей-информации-1\"><span class=\"toc-item-num\">1&nbsp;&nbsp;</span>Изучение общей информации</a></span></li><li><span><a href=\"#Подготовка-данных\" data-toc-modified-id=\"Подготовка-данных-2\"><span class=\"toc-item-num\">2&nbsp;&nbsp;</span>Подготовка данных</a></span></li><li><span><a href=\"#Анализ-данных\" data-toc-modified-id=\"Анализ-данных-3\"><span class=\"toc-item-num\">3&nbsp;&nbsp;</span>Анализ данных</a></span><ul class=\"toc-item\"><li><span><a href=\"#Звонки\" data-toc-modified-id=\"Звонки-3.1\"><span class=\"toc-item-num\">3.1&nbsp;&nbsp;</span>Звонки</a></span><ul class=\"toc-item\"><li><span><a href=\"#Тариф-smart\" data-toc-modified-id=\"Тариф-smart-3.1.1\"><span class=\"toc-item-num\">3.1.1&nbsp;&nbsp;</span>Тариф smart</a></span></li><li><span><a href=\"#Тариф-ultra\" data-toc-modified-id=\"Тариф-ultra-3.1.2\"><span class=\"toc-item-num\">3.1.2&nbsp;&nbsp;</span>Тариф ultra</a></span></li><li><span><a href=\"#Вывод\" data-toc-modified-id=\"Вывод-3.1.3\"><span class=\"toc-item-num\">3.1.3&nbsp;&nbsp;</span>Вывод</a></span></li></ul></li><li><span><a href=\"#Сообщения\" data-toc-modified-id=\"Сообщения-3.2\"><span class=\"toc-item-num\">3.2&nbsp;&nbsp;</span>Сообщения</a></span><ul class=\"toc-item\"><li><span><a href=\"#Тариф-Smart\" data-toc-modified-id=\"Тариф-Smart-3.2.1\"><span class=\"toc-item-num\">3.2.1&nbsp;&nbsp;</span>Тариф Smart</a></span></li><li><span><a href=\"#Тариф-ultra\" data-toc-modified-id=\"Тариф-ultra-3.2.2\"><span class=\"toc-item-num\">3.2.2&nbsp;&nbsp;</span>Тариф ultra</a></span></li><li><span><a href=\"#Вывод\" data-toc-modified-id=\"Вывод-3.2.3\"><span class=\"toc-item-num\">3.2.3&nbsp;&nbsp;</span>Вывод</a></span></li></ul></li><li><span><a href=\"#Интернет\" data-toc-modified-id=\"Интернет-3.3\"><span class=\"toc-item-num\">3.3&nbsp;&nbsp;</span>Интернет</a></span><ul class=\"toc-item\"><li><span><a href=\"#Тариф-smart\" data-toc-modified-id=\"Тариф-smart-3.3.1\"><span class=\"toc-item-num\">3.3.1&nbsp;&nbsp;</span>Тариф smart</a></span></li><li><span><a href=\"#Тариф-ultra\" data-toc-modified-id=\"Тариф-ultra-3.3.2\"><span class=\"toc-item-num\">3.3.2&nbsp;&nbsp;</span>Тариф ultra</a></span></li></ul></li><li><span><a href=\"#Вывод\" data-toc-modified-id=\"Вывод-3.4\"><span class=\"toc-item-num\">3.4&nbsp;&nbsp;</span>Вывод</a></span></li></ul></li><li><span><a href=\"#Проверка-гипотез\" data-toc-modified-id=\"Проверка-гипотез-4\"><span class=\"toc-item-num\">4&nbsp;&nbsp;</span>Проверка гипотез</a></span><ul class=\"toc-item\"><li><span><a href=\"#Средняя-вручка-тарифов-ultra-и-smart-различаются\" data-toc-modified-id=\"Средняя-вручка-тарифов-ultra-и-smart-различаются-4.1\"><span class=\"toc-item-num\">4.1&nbsp;&nbsp;</span>Средняя вручка тарифов <code>ultra</code> и <code>smart</code> различаются</a></span></li><li><span><a href=\"#Cредняя-выручка-пользователей-из-Москвы-отличается-от-выручки-пользователей-из-других-регионов\" data-toc-modified-id=\"Cредняя-выручка-пользователей-из-Москвы-отличается-от-выручки-пользователей-из-других-регионов-4.2\"><span class=\"toc-item-num\">4.2&nbsp;&nbsp;</span>Cредняя выручка пользователей из Москвы отличается от выручки пользователей из других регионов</a></span></li></ul></li><li><span><a href=\"#Выводы\" data-toc-modified-id=\"Выводы-5\"><span class=\"toc-item-num\">5&nbsp;&nbsp;</span>Выводы</a></span></li></ul></div>"
   ]
  },
  {
   "cell_type": "markdown",
   "metadata": {},
   "source": [
    "# Краткое описание"
   ]
  },
  {
   "cell_type": "markdown",
   "metadata": {},
   "source": [
    "Федеральный оператор сотовой связи \"Мегалайн\" предлагает клиентам  два тарифных плана: «Смарт» и «Ультра». Чтобы скорректировать рекламный бюджет, коммерческий департамент хочет понять, какой тариф приносит больше денег.\n",
    "Необходимо провести предварительный анализ тарифов на небольшой выборке клиентов. В распоряжении имеются данные 500 пользователей «Мегалайна»: кто они, откуда, каким тарифом пользуются, сколько звонков и сообщений каждый отправил за 2018 год. Нужно проанализировать поведение клиентов и сделать вывод — какой тариф лучше."
   ]
  },
  {
   "cell_type": "markdown",
   "metadata": {},
   "source": [
    "# Описание тарифов "
   ]
  },
  {
   "cell_type": "markdown",
   "metadata": {},
   "source": [
    "*Тариф «Смарт»*\n",
    "1. Ежемесячная плата: 550 рублей\n",
    "2. Включено 500 минут разговора, 50 сообщений и 15 Гб интернет-трафика\n",
    "\n",
    "Стоимость услуг сверх тарифного пакета:\n",
    "* минута разговора: 3 рубля\n",
    "* сообщение: 3 рубля\n",
    "* 1 Гб интернет-трафика: 200 рублей\n",
    "\n",
    "    \n",
    "*Тариф «Ультра»*\n",
    "1. Ежемесячная плата: 1950 рублей\n",
    "2. Включено 3000 минут разговора, 1000 сообщений и 30 Гб интернет-трафика\n",
    "\n",
    "Стоимость услуг сверх тарифного пакета:\n",
    "* минута разговора: 1 рубль\n",
    "* сообщение: 1 рубль\n",
    "* 1 Гб интернет-трафика: 150 рублей"
   ]
  },
  {
   "cell_type": "markdown",
   "metadata": {},
   "source": [
    "# Описание данных\n",
    "Таблица `users` (информация о пользователях):\n",
    "* user_id — уникальный идентификатор пользователя\n",
    "* first_name — имя пользователя\n",
    "* last_name — фамилия пользователя\n",
    "* age — возраст пользователя (годы)\n",
    "* reg_date — дата подключения тарифа (день, месяц, год)\n",
    "* churn_date — дата прекращения пользования тарифом (если значение пропущено, то тариф ещё действовал на момент выгрузки данных)\n",
    "* city — город проживания пользователя\n",
    "* tarif — название тарифного плана\n",
    "\n",
    "Таблица `calls` (информация о звонках):\n",
    "* id — уникальный номер звонка\n",
    "* call_date — дата звонка\n",
    "* duration — длительность звонка в минутах\n",
    "* user_id — идентификатор пользователя, сделавшего звонок\n",
    "\n",
    "Таблица `messages` (информация о сообщениях):\n",
    "* id — уникальный номер сообщения\n",
    "* message_date — дата сообщения\n",
    "* user_id — идентификатор пользователя, отправившего сообщение\n",
    "\n",
    "Таблица `internet` (информация об интернет-сессиях):\n",
    "\n",
    "* id — уникальный номер сессии\n",
    "* mb_used — объём потраченного за сессию интернет-трафика (в мегабайтах)\n",
    "* session_date — дата интернет-сессии\n",
    "* user_id — идентификатор пользователя\n",
    "\n",
    "Таблица `tariffs` (информация о тарифах):\n",
    "* tariff_name — название тарифа\n",
    "* rub_monthly_fee — ежемесячная абонентская плата в рублях\n",
    "* minutes_included — количество минут разговора в месяц, включённых в абонентскую плату\n",
    "* messages_included — количество сообщений в месяц, включённых в абонентскую плату\n",
    "* mb_per_month_included — объём интернет-трафика, включённого в абонентскую плату (в мегабайтах)\n",
    "* rub_per_minute — стоимость минуты разговора сверх тарифного пакета (например, если в тарифе 100 минут разговора в месяц, то со 101 минуты будет взиматься плата)\n",
    "* rub_per_message — стоимость отправки сообщения сверх тарифного пакета\n",
    "* rub_per_gb — стоимость дополнительного гигабайта интернет-трафика сверх тарифного пакета (1 гигабайт = 1024 мегабайта)"
   ]
  },
  {
   "cell_type": "markdown",
   "metadata": {},
   "source": [
    "## Изучение общей информации"
   ]
  },
  {
   "cell_type": "markdown",
   "metadata": {},
   "source": [
    "Импортируем библиотеки и прочитаем файлы, изучим общую информацию."
   ]
  },
  {
   "cell_type": "code",
   "execution_count": 1,
   "metadata": {},
   "outputs": [],
   "source": [
    "import pandas as pd\n",
    "import numpy as np\n",
    "from scipy import stats as st\n",
    "import matplotlib.pyplot as plt"
   ]
  },
  {
   "cell_type": "code",
   "execution_count": 2,
   "metadata": {},
   "outputs": [
    {
     "data": {
      "text/html": [
       "<div>\n",
       "<style scoped>\n",
       "    .dataframe tbody tr th:only-of-type {\n",
       "        vertical-align: middle;\n",
       "    }\n",
       "\n",
       "    .dataframe tbody tr th {\n",
       "        vertical-align: top;\n",
       "    }\n",
       "\n",
       "    .dataframe thead th {\n",
       "        text-align: right;\n",
       "    }\n",
       "</style>\n",
       "<table border=\"1\" class=\"dataframe\">\n",
       "  <thead>\n",
       "    <tr style=\"text-align: right;\">\n",
       "      <th></th>\n",
       "      <th>id</th>\n",
       "      <th>call_date</th>\n",
       "      <th>duration</th>\n",
       "      <th>user_id</th>\n",
       "    </tr>\n",
       "  </thead>\n",
       "  <tbody>\n",
       "    <tr>\n",
       "      <td>0</td>\n",
       "      <td>1000_0</td>\n",
       "      <td>2018-07-25</td>\n",
       "      <td>0</td>\n",
       "      <td>1000</td>\n",
       "    </tr>\n",
       "    <tr>\n",
       "      <td>1</td>\n",
       "      <td>1000_1</td>\n",
       "      <td>2018-08-17</td>\n",
       "      <td>0</td>\n",
       "      <td>1000</td>\n",
       "    </tr>\n",
       "    <tr>\n",
       "      <td>2</td>\n",
       "      <td>1000_2</td>\n",
       "      <td>2018-06-11</td>\n",
       "      <td>3</td>\n",
       "      <td>1000</td>\n",
       "    </tr>\n",
       "    <tr>\n",
       "      <td>3</td>\n",
       "      <td>1000_3</td>\n",
       "      <td>2018-09-21</td>\n",
       "      <td>14</td>\n",
       "      <td>1000</td>\n",
       "    </tr>\n",
       "    <tr>\n",
       "      <td>4</td>\n",
       "      <td>1000_4</td>\n",
       "      <td>2018-12-15</td>\n",
       "      <td>6</td>\n",
       "      <td>1000</td>\n",
       "    </tr>\n",
       "  </tbody>\n",
       "</table>\n",
       "</div>"
      ],
      "text/plain": [
       "       id   call_date  duration  user_id\n",
       "0  1000_0  2018-07-25         0     1000\n",
       "1  1000_1  2018-08-17         0     1000\n",
       "2  1000_2  2018-06-11         3     1000\n",
       "3  1000_3  2018-09-21        14     1000\n",
       "4  1000_4  2018-12-15         6     1000"
      ]
     },
     "execution_count": 2,
     "metadata": {},
     "output_type": "execute_result"
    }
   ],
   "source": [
    "pd.set_option('display.max_columns', None)\n",
    "calls = pd.read_csv('/datasets/calls.csv')\n",
    "calls['duration'] =  np.ceil(calls['duration']).astype(int)\n",
    "calls.head() "
   ]
  },
  {
   "cell_type": "code",
   "execution_count": 3,
   "metadata": {},
   "outputs": [
    {
     "data": {
      "text/html": [
       "<div>\n",
       "<style scoped>\n",
       "    .dataframe tbody tr th:only-of-type {\n",
       "        vertical-align: middle;\n",
       "    }\n",
       "\n",
       "    .dataframe tbody tr th {\n",
       "        vertical-align: top;\n",
       "    }\n",
       "\n",
       "    .dataframe thead th {\n",
       "        text-align: right;\n",
       "    }\n",
       "</style>\n",
       "<table border=\"1\" class=\"dataframe\">\n",
       "  <thead>\n",
       "    <tr style=\"text-align: right;\">\n",
       "      <th></th>\n",
       "      <th>Unnamed: 0</th>\n",
       "      <th>id</th>\n",
       "      <th>mb_used</th>\n",
       "      <th>session_date</th>\n",
       "      <th>user_id</th>\n",
       "    </tr>\n",
       "  </thead>\n",
       "  <tbody>\n",
       "    <tr>\n",
       "      <td>0</td>\n",
       "      <td>0</td>\n",
       "      <td>1000_0</td>\n",
       "      <td>112.95</td>\n",
       "      <td>2018-11-25</td>\n",
       "      <td>1000</td>\n",
       "    </tr>\n",
       "    <tr>\n",
       "      <td>1</td>\n",
       "      <td>1</td>\n",
       "      <td>1000_1</td>\n",
       "      <td>1052.81</td>\n",
       "      <td>2018-09-07</td>\n",
       "      <td>1000</td>\n",
       "    </tr>\n",
       "    <tr>\n",
       "      <td>2</td>\n",
       "      <td>2</td>\n",
       "      <td>1000_2</td>\n",
       "      <td>1197.26</td>\n",
       "      <td>2018-06-25</td>\n",
       "      <td>1000</td>\n",
       "    </tr>\n",
       "    <tr>\n",
       "      <td>3</td>\n",
       "      <td>3</td>\n",
       "      <td>1000_3</td>\n",
       "      <td>550.27</td>\n",
       "      <td>2018-08-22</td>\n",
       "      <td>1000</td>\n",
       "    </tr>\n",
       "    <tr>\n",
       "      <td>4</td>\n",
       "      <td>4</td>\n",
       "      <td>1000_4</td>\n",
       "      <td>302.56</td>\n",
       "      <td>2018-09-24</td>\n",
       "      <td>1000</td>\n",
       "    </tr>\n",
       "  </tbody>\n",
       "</table>\n",
       "</div>"
      ],
      "text/plain": [
       "   Unnamed: 0      id  mb_used session_date  user_id\n",
       "0           0  1000_0   112.95   2018-11-25     1000\n",
       "1           1  1000_1  1052.81   2018-09-07     1000\n",
       "2           2  1000_2  1197.26   2018-06-25     1000\n",
       "3           3  1000_3   550.27   2018-08-22     1000\n",
       "4           4  1000_4   302.56   2018-09-24     1000"
      ]
     },
     "execution_count": 3,
     "metadata": {},
     "output_type": "execute_result"
    }
   ],
   "source": [
    "internet = pd.read_csv('/datasets/internet.csv')\n",
    "internet.head()"
   ]
  },
  {
   "cell_type": "code",
   "execution_count": 4,
   "metadata": {},
   "outputs": [
    {
     "data": {
      "text/html": [
       "<div>\n",
       "<style scoped>\n",
       "    .dataframe tbody tr th:only-of-type {\n",
       "        vertical-align: middle;\n",
       "    }\n",
       "\n",
       "    .dataframe tbody tr th {\n",
       "        vertical-align: top;\n",
       "    }\n",
       "\n",
       "    .dataframe thead th {\n",
       "        text-align: right;\n",
       "    }\n",
       "</style>\n",
       "<table border=\"1\" class=\"dataframe\">\n",
       "  <thead>\n",
       "    <tr style=\"text-align: right;\">\n",
       "      <th></th>\n",
       "      <th>id</th>\n",
       "      <th>message_date</th>\n",
       "      <th>user_id</th>\n",
       "    </tr>\n",
       "  </thead>\n",
       "  <tbody>\n",
       "    <tr>\n",
       "      <td>0</td>\n",
       "      <td>1000_0</td>\n",
       "      <td>2018-06-27</td>\n",
       "      <td>1000</td>\n",
       "    </tr>\n",
       "    <tr>\n",
       "      <td>1</td>\n",
       "      <td>1000_1</td>\n",
       "      <td>2018-10-08</td>\n",
       "      <td>1000</td>\n",
       "    </tr>\n",
       "    <tr>\n",
       "      <td>2</td>\n",
       "      <td>1000_2</td>\n",
       "      <td>2018-08-04</td>\n",
       "      <td>1000</td>\n",
       "    </tr>\n",
       "    <tr>\n",
       "      <td>3</td>\n",
       "      <td>1000_3</td>\n",
       "      <td>2018-06-16</td>\n",
       "      <td>1000</td>\n",
       "    </tr>\n",
       "    <tr>\n",
       "      <td>4</td>\n",
       "      <td>1000_4</td>\n",
       "      <td>2018-12-05</td>\n",
       "      <td>1000</td>\n",
       "    </tr>\n",
       "  </tbody>\n",
       "</table>\n",
       "</div>"
      ],
      "text/plain": [
       "       id message_date  user_id\n",
       "0  1000_0   2018-06-27     1000\n",
       "1  1000_1   2018-10-08     1000\n",
       "2  1000_2   2018-08-04     1000\n",
       "3  1000_3   2018-06-16     1000\n",
       "4  1000_4   2018-12-05     1000"
      ]
     },
     "execution_count": 4,
     "metadata": {},
     "output_type": "execute_result"
    }
   ],
   "source": [
    "messages = pd.read_csv('/datasets/messages.csv')\n",
    "messages.head()"
   ]
  },
  {
   "cell_type": "code",
   "execution_count": 5,
   "metadata": {
    "scrolled": true
   },
   "outputs": [
    {
     "data": {
      "text/html": [
       "<div>\n",
       "<style scoped>\n",
       "    .dataframe tbody tr th:only-of-type {\n",
       "        vertical-align: middle;\n",
       "    }\n",
       "\n",
       "    .dataframe tbody tr th {\n",
       "        vertical-align: top;\n",
       "    }\n",
       "\n",
       "    .dataframe thead th {\n",
       "        text-align: right;\n",
       "    }\n",
       "</style>\n",
       "<table border=\"1\" class=\"dataframe\">\n",
       "  <thead>\n",
       "    <tr style=\"text-align: right;\">\n",
       "      <th></th>\n",
       "      <th>messages_included</th>\n",
       "      <th>mb_per_month_included</th>\n",
       "      <th>minutes_included</th>\n",
       "      <th>rub_monthly_fee</th>\n",
       "      <th>rub_per_gb</th>\n",
       "      <th>rub_per_message</th>\n",
       "      <th>rub_per_minute</th>\n",
       "      <th>tariff</th>\n",
       "    </tr>\n",
       "  </thead>\n",
       "  <tbody>\n",
       "    <tr>\n",
       "      <td>0</td>\n",
       "      <td>50</td>\n",
       "      <td>15360</td>\n",
       "      <td>500</td>\n",
       "      <td>550</td>\n",
       "      <td>200</td>\n",
       "      <td>3</td>\n",
       "      <td>3</td>\n",
       "      <td>smart</td>\n",
       "    </tr>\n",
       "    <tr>\n",
       "      <td>1</td>\n",
       "      <td>1000</td>\n",
       "      <td>30720</td>\n",
       "      <td>3000</td>\n",
       "      <td>1950</td>\n",
       "      <td>150</td>\n",
       "      <td>1</td>\n",
       "      <td>1</td>\n",
       "      <td>ultra</td>\n",
       "    </tr>\n",
       "  </tbody>\n",
       "</table>\n",
       "</div>"
      ],
      "text/plain": [
       "   messages_included  mb_per_month_included  minutes_included  \\\n",
       "0                 50                  15360               500   \n",
       "1               1000                  30720              3000   \n",
       "\n",
       "   rub_monthly_fee  rub_per_gb  rub_per_message  rub_per_minute tariff  \n",
       "0              550         200                3               3  smart  \n",
       "1             1950         150                1               1  ultra  "
      ]
     },
     "execution_count": 5,
     "metadata": {},
     "output_type": "execute_result"
    }
   ],
   "source": [
    "tariffs = pd.read_csv('/datasets/tariffs.csv')\n",
    "tariffs = tariffs.rename(columns={'tariff_name':'tariff'})\n",
    "tariffs.head()"
   ]
  },
  {
   "cell_type": "code",
   "execution_count": 6,
   "metadata": {},
   "outputs": [
    {
     "data": {
      "text/html": [
       "<div>\n",
       "<style scoped>\n",
       "    .dataframe tbody tr th:only-of-type {\n",
       "        vertical-align: middle;\n",
       "    }\n",
       "\n",
       "    .dataframe tbody tr th {\n",
       "        vertical-align: top;\n",
       "    }\n",
       "\n",
       "    .dataframe thead th {\n",
       "        text-align: right;\n",
       "    }\n",
       "</style>\n",
       "<table border=\"1\" class=\"dataframe\">\n",
       "  <thead>\n",
       "    <tr style=\"text-align: right;\">\n",
       "      <th></th>\n",
       "      <th>user_id</th>\n",
       "      <th>tariff</th>\n",
       "      <th>city</th>\n",
       "    </tr>\n",
       "  </thead>\n",
       "  <tbody>\n",
       "    <tr>\n",
       "      <td>0</td>\n",
       "      <td>1000</td>\n",
       "      <td>ultra</td>\n",
       "      <td>Краснодар</td>\n",
       "    </tr>\n",
       "    <tr>\n",
       "      <td>1</td>\n",
       "      <td>1001</td>\n",
       "      <td>smart</td>\n",
       "      <td>Москва</td>\n",
       "    </tr>\n",
       "    <tr>\n",
       "      <td>2</td>\n",
       "      <td>1002</td>\n",
       "      <td>smart</td>\n",
       "      <td>Стерлитамак</td>\n",
       "    </tr>\n",
       "    <tr>\n",
       "      <td>3</td>\n",
       "      <td>1003</td>\n",
       "      <td>ultra</td>\n",
       "      <td>Москва</td>\n",
       "    </tr>\n",
       "    <tr>\n",
       "      <td>4</td>\n",
       "      <td>1004</td>\n",
       "      <td>ultra</td>\n",
       "      <td>Новокузнецк</td>\n",
       "    </tr>\n",
       "  </tbody>\n",
       "</table>\n",
       "</div>"
      ],
      "text/plain": [
       "   user_id tariff         city\n",
       "0     1000  ultra    Краснодар\n",
       "1     1001  smart       Москва\n",
       "2     1002  smart  Стерлитамак\n",
       "3     1003  ultra       Москва\n",
       "4     1004  ultra  Новокузнецк"
      ]
     },
     "execution_count": 6,
     "metadata": {},
     "output_type": "execute_result"
    }
   ],
   "source": [
    "users = pd.read_csv('/datasets/users.csv')\n",
    "users = users[['user_id', 'tariff', 'city']] \n",
    "users.head()"
   ]
  },
  {
   "cell_type": "markdown",
   "metadata": {},
   "source": [
    "Объединим все датасеты в один."
   ]
  },
  {
   "cell_type": "code",
   "execution_count": 7,
   "metadata": {
    "scrolled": true
   },
   "outputs": [
    {
     "data": {
      "text/html": [
       "<div>\n",
       "<style scoped>\n",
       "    .dataframe tbody tr th:only-of-type {\n",
       "        vertical-align: middle;\n",
       "    }\n",
       "\n",
       "    .dataframe tbody tr th {\n",
       "        vertical-align: top;\n",
       "    }\n",
       "\n",
       "    .dataframe thead th {\n",
       "        text-align: right;\n",
       "    }\n",
       "</style>\n",
       "<table border=\"1\" class=\"dataframe\">\n",
       "  <thead>\n",
       "    <tr style=\"text-align: right;\">\n",
       "      <th></th>\n",
       "      <th>user_id</th>\n",
       "      <th>month</th>\n",
       "      <th>duration</th>\n",
       "      <th>mb_used</th>\n",
       "      <th>count_messages</th>\n",
       "      <th>tariff</th>\n",
       "      <th>city</th>\n",
       "      <th>messages_included</th>\n",
       "      <th>mb_per_month_included</th>\n",
       "      <th>minutes_included</th>\n",
       "      <th>rub_monthly_fee</th>\n",
       "      <th>rub_per_gb</th>\n",
       "      <th>rub_per_message</th>\n",
       "      <th>rub_per_minute</th>\n",
       "    </tr>\n",
       "  </thead>\n",
       "  <tbody>\n",
       "    <tr>\n",
       "      <td>0</td>\n",
       "      <td>1000</td>\n",
       "      <td>5.0</td>\n",
       "      <td>159.0</td>\n",
       "      <td>2253.49</td>\n",
       "      <td>22.0</td>\n",
       "      <td>ultra</td>\n",
       "      <td>Краснодар</td>\n",
       "      <td>1000</td>\n",
       "      <td>30720</td>\n",
       "      <td>3000</td>\n",
       "      <td>1950</td>\n",
       "      <td>150</td>\n",
       "      <td>1</td>\n",
       "      <td>1</td>\n",
       "    </tr>\n",
       "    <tr>\n",
       "      <td>1</td>\n",
       "      <td>1000</td>\n",
       "      <td>6.0</td>\n",
       "      <td>172.0</td>\n",
       "      <td>23233.77</td>\n",
       "      <td>60.0</td>\n",
       "      <td>ultra</td>\n",
       "      <td>Краснодар</td>\n",
       "      <td>1000</td>\n",
       "      <td>30720</td>\n",
       "      <td>3000</td>\n",
       "      <td>1950</td>\n",
       "      <td>150</td>\n",
       "      <td>1</td>\n",
       "      <td>1</td>\n",
       "    </tr>\n",
       "    <tr>\n",
       "      <td>2</td>\n",
       "      <td>1000</td>\n",
       "      <td>7.0</td>\n",
       "      <td>340.0</td>\n",
       "      <td>14003.64</td>\n",
       "      <td>75.0</td>\n",
       "      <td>ultra</td>\n",
       "      <td>Краснодар</td>\n",
       "      <td>1000</td>\n",
       "      <td>30720</td>\n",
       "      <td>3000</td>\n",
       "      <td>1950</td>\n",
       "      <td>150</td>\n",
       "      <td>1</td>\n",
       "      <td>1</td>\n",
       "    </tr>\n",
       "    <tr>\n",
       "      <td>3</td>\n",
       "      <td>1000</td>\n",
       "      <td>8.0</td>\n",
       "      <td>408.0</td>\n",
       "      <td>14055.93</td>\n",
       "      <td>81.0</td>\n",
       "      <td>ultra</td>\n",
       "      <td>Краснодар</td>\n",
       "      <td>1000</td>\n",
       "      <td>30720</td>\n",
       "      <td>3000</td>\n",
       "      <td>1950</td>\n",
       "      <td>150</td>\n",
       "      <td>1</td>\n",
       "      <td>1</td>\n",
       "    </tr>\n",
       "    <tr>\n",
       "      <td>4</td>\n",
       "      <td>1000</td>\n",
       "      <td>9.0</td>\n",
       "      <td>466.0</td>\n",
       "      <td>14568.91</td>\n",
       "      <td>57.0</td>\n",
       "      <td>ultra</td>\n",
       "      <td>Краснодар</td>\n",
       "      <td>1000</td>\n",
       "      <td>30720</td>\n",
       "      <td>3000</td>\n",
       "      <td>1950</td>\n",
       "      <td>150</td>\n",
       "      <td>1</td>\n",
       "      <td>1</td>\n",
       "    </tr>\n",
       "  </tbody>\n",
       "</table>\n",
       "</div>"
      ],
      "text/plain": [
       "   user_id  month  duration   mb_used  count_messages tariff       city  \\\n",
       "0     1000    5.0     159.0   2253.49            22.0  ultra  Краснодар   \n",
       "1     1000    6.0     172.0  23233.77            60.0  ultra  Краснодар   \n",
       "2     1000    7.0     340.0  14003.64            75.0  ultra  Краснодар   \n",
       "3     1000    8.0     408.0  14055.93            81.0  ultra  Краснодар   \n",
       "4     1000    9.0     466.0  14568.91            57.0  ultra  Краснодар   \n",
       "\n",
       "   messages_included  mb_per_month_included  minutes_included  \\\n",
       "0               1000                  30720              3000   \n",
       "1               1000                  30720              3000   \n",
       "2               1000                  30720              3000   \n",
       "3               1000                  30720              3000   \n",
       "4               1000                  30720              3000   \n",
       "\n",
       "   rub_monthly_fee  rub_per_gb  rub_per_message  rub_per_minute  \n",
       "0             1950         150                1               1  \n",
       "1             1950         150                1               1  \n",
       "2             1950         150                1               1  \n",
       "3             1950         150                1               1  \n",
       "4             1950         150                1               1  "
      ]
     },
     "metadata": {},
     "output_type": "display_data"
    },
    {
     "name": "stdout",
     "output_type": "stream",
     "text": [
      "<class 'pandas.core.frame.DataFrame'>\n",
      "Int64Index: 3216 entries, 0 to 3215\n",
      "Data columns (total 14 columns):\n",
      "user_id                  3216 non-null int64\n",
      "month                    3214 non-null float64\n",
      "duration                 3174 non-null float64\n",
      "mb_used                  3203 non-null float64\n",
      "count_messages           2717 non-null float64\n",
      "tariff                   3216 non-null object\n",
      "city                     3216 non-null object\n",
      "messages_included        3216 non-null int64\n",
      "mb_per_month_included    3216 non-null int64\n",
      "minutes_included         3216 non-null int64\n",
      "rub_monthly_fee          3216 non-null int64\n",
      "rub_per_gb               3216 non-null int64\n",
      "rub_per_message          3216 non-null int64\n",
      "rub_per_minute           3216 non-null int64\n",
      "dtypes: float64(4), int64(8), object(2)\n",
      "memory usage: 376.9+ KB\n"
     ]
    }
   ],
   "source": [
    "#Группировка звонков\n",
    "calls['call_date'] = pd.to_datetime(calls['call_date'], format='%Y-%m-%d')\n",
    "calls['month'] = calls['call_date'].dt.month.fillna(0).astype(int)\n",
    "calls_grouped = calls.groupby(['user_id', 'month'])['duration'].agg('sum').reset_index()\n",
    "#Группировка интернета\n",
    "internet['session_date'] = pd.to_datetime(internet['session_date'], format='%Y-%m-%d')\n",
    "internet['month'] = internet['session_date'].dt.month.fillna(0).astype(int)\n",
    "internet_grouped = internet.groupby(['user_id', 'month'])['mb_used'].agg('sum').reset_index()\n",
    "internet_grouped.head()\n",
    "#Группировка СМС\n",
    "messages['message_date'] = pd.to_datetime(messages['message_date'], format='%Y-%m-%d')\n",
    "messages['month'] = messages['message_date'].dt.month.fillna(0).astype(int)\n",
    "messages_grouped = messages.groupby(['user_id', 'month'])['message_date'].agg('count').reset_index()\n",
    "messages_grouped = messages_grouped.rename(columns={'message_date':'count_messages'})\n",
    "#Объединение таблиц со звонками, интернетом и СМС\n",
    "stat = calls_grouped.merge(internet_grouped, on=(['user_id', 'month']), how='outer')\n",
    "stat = stat.merge(messages_grouped, on=(['user_id', 'month']), how='outer')\n",
    "#Объединение таблицы с пользователями и информацией по тарифам\n",
    "df = stat.merge(users, on=['user_id'], how='outer')\n",
    "df = df.merge(tariffs, on='tariff', how='left')\n",
    "\n",
    "display(df.head())\n",
    "df.info()\n"
   ]
  },
  {
   "cell_type": "markdown",
   "metadata": {},
   "source": [
    "**Вывод**\n",
    "\n",
    "Были импортированны необходимые библиотеки, открыты и прочитаны данные, а так же объеденины в один датасет, и удалены не нужные колонки."
   ]
  },
  {
   "cell_type": "markdown",
   "metadata": {},
   "source": [
    "## Подготовка данных"
   ]
  },
  {
   "cell_type": "markdown",
   "metadata": {},
   "source": [
    "Пропуски заменим на 0, и приведем данные к целым числам"
   ]
  },
  {
   "cell_type": "code",
   "execution_count": 9,
   "metadata": {},
   "outputs": [
    {
     "name": "stdout",
     "output_type": "stream",
     "text": [
      "<class 'pandas.core.frame.DataFrame'>\n",
      "Int64Index: 3214 entries, 0 to 3213\n",
      "Data columns (total 14 columns):\n",
      "user_id                  3214 non-null int64\n",
      "month                    3214 non-null int64\n",
      "duration                 3214 non-null int64\n",
      "mb_used                  3214 non-null int64\n",
      "count_messages           3214 non-null int64\n",
      "tariff                   3214 non-null object\n",
      "city                     3214 non-null object\n",
      "messages_included        3214 non-null int64\n",
      "mb_per_month_included    3214 non-null int64\n",
      "minutes_included         3214 non-null int64\n",
      "rub_monthly_fee          3214 non-null int64\n",
      "rub_per_gb               3214 non-null int64\n",
      "rub_per_message          3214 non-null int64\n",
      "rub_per_minute           3214 non-null int64\n",
      "dtypes: int64(12), object(2)\n",
      "memory usage: 376.6+ KB\n"
     ]
    }
   ],
   "source": [
    "df = df.fillna(\n",
    "    {'count_messages':0,\n",
    "     'duration':0,\n",
    "     'mb_used':0,\n",
    "     'month':0}\n",
    ")\n",
    "\n",
    "df = df.astype(\n",
    "    {'count_messages':'int',\n",
    "     'duration':'int',\n",
    "     'mb_used':'int',\n",
    "     'month':'int'}\n",
    ")\n",
    "\n",
    "df = df.query('month > 0')\n",
    "df.info()"
   ]
  },
  {
   "cell_type": "markdown",
   "metadata": {},
   "source": [
    "Посчитаем доход с каждого вида услуги и суммарный доход"
   ]
  },
  {
   "cell_type": "code",
   "execution_count": 10,
   "metadata": {},
   "outputs": [
    {
     "data": {
      "text/html": [
       "<div>\n",
       "<style scoped>\n",
       "    .dataframe tbody tr th:only-of-type {\n",
       "        vertical-align: middle;\n",
       "    }\n",
       "\n",
       "    .dataframe tbody tr th {\n",
       "        vertical-align: top;\n",
       "    }\n",
       "\n",
       "    .dataframe thead th {\n",
       "        text-align: right;\n",
       "    }\n",
       "</style>\n",
       "<table border=\"1\" class=\"dataframe\">\n",
       "  <thead>\n",
       "    <tr style=\"text-align: right;\">\n",
       "      <th></th>\n",
       "      <th>user_id</th>\n",
       "      <th>month</th>\n",
       "      <th>duration</th>\n",
       "      <th>mb_used</th>\n",
       "      <th>count_messages</th>\n",
       "      <th>tariff</th>\n",
       "      <th>city</th>\n",
       "      <th>messages_included</th>\n",
       "      <th>mb_per_month_included</th>\n",
       "      <th>minutes_included</th>\n",
       "      <th>rub_monthly_fee</th>\n",
       "      <th>rub_per_gb</th>\n",
       "      <th>rub_per_message</th>\n",
       "      <th>rub_per_minute</th>\n",
       "      <th>extra_minutes</th>\n",
       "      <th>income_call</th>\n",
       "      <th>extra_messages</th>\n",
       "      <th>income_message</th>\n",
       "      <th>extra_gb</th>\n",
       "      <th>income_gb</th>\n",
       "      <th>total_income</th>\n",
       "    </tr>\n",
       "  </thead>\n",
       "  <tbody>\n",
       "    <tr>\n",
       "      <td>0</td>\n",
       "      <td>1000</td>\n",
       "      <td>5</td>\n",
       "      <td>159</td>\n",
       "      <td>2253</td>\n",
       "      <td>22</td>\n",
       "      <td>ultra</td>\n",
       "      <td>Краснодар</td>\n",
       "      <td>1000</td>\n",
       "      <td>30720</td>\n",
       "      <td>3000</td>\n",
       "      <td>1950</td>\n",
       "      <td>150</td>\n",
       "      <td>1</td>\n",
       "      <td>1</td>\n",
       "      <td>0</td>\n",
       "      <td>0</td>\n",
       "      <td>0</td>\n",
       "      <td>0</td>\n",
       "      <td>0</td>\n",
       "      <td>0</td>\n",
       "      <td>1950</td>\n",
       "    </tr>\n",
       "    <tr>\n",
       "      <td>1</td>\n",
       "      <td>1000</td>\n",
       "      <td>6</td>\n",
       "      <td>172</td>\n",
       "      <td>23233</td>\n",
       "      <td>60</td>\n",
       "      <td>ultra</td>\n",
       "      <td>Краснодар</td>\n",
       "      <td>1000</td>\n",
       "      <td>30720</td>\n",
       "      <td>3000</td>\n",
       "      <td>1950</td>\n",
       "      <td>150</td>\n",
       "      <td>1</td>\n",
       "      <td>1</td>\n",
       "      <td>0</td>\n",
       "      <td>0</td>\n",
       "      <td>0</td>\n",
       "      <td>0</td>\n",
       "      <td>0</td>\n",
       "      <td>0</td>\n",
       "      <td>1950</td>\n",
       "    </tr>\n",
       "    <tr>\n",
       "      <td>2</td>\n",
       "      <td>1000</td>\n",
       "      <td>7</td>\n",
       "      <td>340</td>\n",
       "      <td>14003</td>\n",
       "      <td>75</td>\n",
       "      <td>ultra</td>\n",
       "      <td>Краснодар</td>\n",
       "      <td>1000</td>\n",
       "      <td>30720</td>\n",
       "      <td>3000</td>\n",
       "      <td>1950</td>\n",
       "      <td>150</td>\n",
       "      <td>1</td>\n",
       "      <td>1</td>\n",
       "      <td>0</td>\n",
       "      <td>0</td>\n",
       "      <td>0</td>\n",
       "      <td>0</td>\n",
       "      <td>0</td>\n",
       "      <td>0</td>\n",
       "      <td>1950</td>\n",
       "    </tr>\n",
       "    <tr>\n",
       "      <td>3</td>\n",
       "      <td>1000</td>\n",
       "      <td>8</td>\n",
       "      <td>408</td>\n",
       "      <td>14055</td>\n",
       "      <td>81</td>\n",
       "      <td>ultra</td>\n",
       "      <td>Краснодар</td>\n",
       "      <td>1000</td>\n",
       "      <td>30720</td>\n",
       "      <td>3000</td>\n",
       "      <td>1950</td>\n",
       "      <td>150</td>\n",
       "      <td>1</td>\n",
       "      <td>1</td>\n",
       "      <td>0</td>\n",
       "      <td>0</td>\n",
       "      <td>0</td>\n",
       "      <td>0</td>\n",
       "      <td>0</td>\n",
       "      <td>0</td>\n",
       "      <td>1950</td>\n",
       "    </tr>\n",
       "    <tr>\n",
       "      <td>4</td>\n",
       "      <td>1000</td>\n",
       "      <td>9</td>\n",
       "      <td>466</td>\n",
       "      <td>14568</td>\n",
       "      <td>57</td>\n",
       "      <td>ultra</td>\n",
       "      <td>Краснодар</td>\n",
       "      <td>1000</td>\n",
       "      <td>30720</td>\n",
       "      <td>3000</td>\n",
       "      <td>1950</td>\n",
       "      <td>150</td>\n",
       "      <td>1</td>\n",
       "      <td>1</td>\n",
       "      <td>0</td>\n",
       "      <td>0</td>\n",
       "      <td>0</td>\n",
       "      <td>0</td>\n",
       "      <td>0</td>\n",
       "      <td>0</td>\n",
       "      <td>1950</td>\n",
       "    </tr>\n",
       "  </tbody>\n",
       "</table>\n",
       "</div>"
      ],
      "text/plain": [
       "   user_id  month  duration  mb_used  count_messages tariff       city  \\\n",
       "0     1000      5       159     2253              22  ultra  Краснодар   \n",
       "1     1000      6       172    23233              60  ultra  Краснодар   \n",
       "2     1000      7       340    14003              75  ultra  Краснодар   \n",
       "3     1000      8       408    14055              81  ultra  Краснодар   \n",
       "4     1000      9       466    14568              57  ultra  Краснодар   \n",
       "\n",
       "   messages_included  mb_per_month_included  minutes_included  \\\n",
       "0               1000                  30720              3000   \n",
       "1               1000                  30720              3000   \n",
       "2               1000                  30720              3000   \n",
       "3               1000                  30720              3000   \n",
       "4               1000                  30720              3000   \n",
       "\n",
       "   rub_monthly_fee  rub_per_gb  rub_per_message  rub_per_minute  \\\n",
       "0             1950         150                1               1   \n",
       "1             1950         150                1               1   \n",
       "2             1950         150                1               1   \n",
       "3             1950         150                1               1   \n",
       "4             1950         150                1               1   \n",
       "\n",
       "   extra_minutes  income_call  extra_messages  income_message  extra_gb  \\\n",
       "0              0            0               0               0         0   \n",
       "1              0            0               0               0         0   \n",
       "2              0            0               0               0         0   \n",
       "3              0            0               0               0         0   \n",
       "4              0            0               0               0         0   \n",
       "\n",
       "   income_gb  total_income  \n",
       "0          0          1950  \n",
       "1          0          1950  \n",
       "2          0          1950  \n",
       "3          0          1950  \n",
       "4          0          1950  "
      ]
     },
     "execution_count": 10,
     "metadata": {},
     "output_type": "execute_result"
    }
   ],
   "source": [
    "#Доход с доп. минут\n",
    "df['extra_minutes'] = df['duration'] - df['minutes_included']\n",
    "df['extra_minutes'] = np.where((df.extra_minutes < 0), 0, df.extra_minutes)\n",
    "df['income_call'] = df['extra_minutes'] * df['rub_per_minute']\n",
    "#Доход с доп. смс\n",
    "df['extra_messages'] = df['count_messages'] - df['messages_included']\n",
    "df['extra_messages'] = np.where((df.extra_messages < 0), 0, df.extra_messages)\n",
    "df['income_message'] = df['extra_messages'] * df['rub_per_message']\n",
    "#Доход с доп. интернет трафика\n",
    "df['extra_gb'] = (df['mb_used'] - df['mb_per_month_included']) / 1024\n",
    "df['extra_gb'] = np.where((df.extra_gb < 0), 0, df.extra_gb)\n",
    "df['extra_gb'] = np.ceil(df['extra_gb']).astype(int)\n",
    "df['income_gb'] = df['extra_gb'] * df['rub_per_gb']\n",
    "#Общий доход\n",
    "df['total_income'] = df['income_call'] + df['income_message'] + df['income_gb'] + df['rub_monthly_fee']\n",
    "df.head()"
   ]
  },
  {
   "cell_type": "markdown",
   "metadata": {},
   "source": [
    "Посчитаем средний доход с каждого клиента"
   ]
  },
  {
   "cell_type": "code",
   "execution_count": 11,
   "metadata": {},
   "outputs": [
    {
     "data": {
      "text/html": [
       "<div>\n",
       "<style scoped>\n",
       "    .dataframe tbody tr th:only-of-type {\n",
       "        vertical-align: middle;\n",
       "    }\n",
       "\n",
       "    .dataframe tbody tr th {\n",
       "        vertical-align: top;\n",
       "    }\n",
       "\n",
       "    .dataframe thead th {\n",
       "        text-align: right;\n",
       "    }\n",
       "</style>\n",
       "<table border=\"1\" class=\"dataframe\">\n",
       "  <thead>\n",
       "    <tr style=\"text-align: right;\">\n",
       "      <th></th>\n",
       "      <th>total_income</th>\n",
       "    </tr>\n",
       "    <tr>\n",
       "      <th>user_id</th>\n",
       "      <th></th>\n",
       "    </tr>\n",
       "  </thead>\n",
       "  <tbody>\n",
       "    <tr>\n",
       "      <td>1000</td>\n",
       "      <td>1950.000000</td>\n",
       "    </tr>\n",
       "    <tr>\n",
       "      <td>1001</td>\n",
       "      <td>850.000000</td>\n",
       "    </tr>\n",
       "    <tr>\n",
       "      <td>1002</td>\n",
       "      <td>1035.714286</td>\n",
       "    </tr>\n",
       "    <tr>\n",
       "      <td>1003</td>\n",
       "      <td>1950.000000</td>\n",
       "    </tr>\n",
       "    <tr>\n",
       "      <td>1004</td>\n",
       "      <td>1950.000000</td>\n",
       "    </tr>\n",
       "  </tbody>\n",
       "</table>\n",
       "</div>"
      ],
      "text/plain": [
       "         total_income\n",
       "user_id              \n",
       "1000      1950.000000\n",
       "1001       850.000000\n",
       "1002      1035.714286\n",
       "1003      1950.000000\n",
       "1004      1950.000000"
      ]
     },
     "execution_count": 11,
     "metadata": {},
     "output_type": "execute_result"
    }
   ],
   "source": [
    "total_income = df.loc[:, ['user_id', 'total_income']]\n",
    "total_income = total_income.groupby('user_id').agg('mean')\n",
    "total_income.head()"
   ]
  },
  {
   "cell_type": "code",
   "execution_count": 12,
   "metadata": {},
   "outputs": [],
   "source": [
    "smart = df.query('tariff == \"smart\"')\n",
    "ultra = df.query('tariff == \"ultra\"')"
   ]
  },
  {
   "cell_type": "markdown",
   "metadata": {},
   "source": [
    "Посчитаем среднемесячный доход с каждого клиента"
   ]
  },
  {
   "cell_type": "code",
   "execution_count": 24,
   "metadata": {},
   "outputs": [
    {
     "data": {
      "text/html": [
       "<div>\n",
       "<style scoped>\n",
       "    .dataframe tbody tr th:only-of-type {\n",
       "        vertical-align: middle;\n",
       "    }\n",
       "\n",
       "    .dataframe tbody tr th {\n",
       "        vertical-align: top;\n",
       "    }\n",
       "\n",
       "    .dataframe thead th {\n",
       "        text-align: right;\n",
       "    }\n",
       "</style>\n",
       "<table border=\"1\" class=\"dataframe\">\n",
       "  <thead>\n",
       "    <tr style=\"text-align: right;\">\n",
       "      <th></th>\n",
       "      <th>total_income</th>\n",
       "    </tr>\n",
       "    <tr>\n",
       "      <th>user_id</th>\n",
       "      <th></th>\n",
       "    </tr>\n",
       "  </thead>\n",
       "  <tbody>\n",
       "    <tr>\n",
       "      <td>1000</td>\n",
       "      <td>1950.000000</td>\n",
       "    </tr>\n",
       "    <tr>\n",
       "      <td>1001</td>\n",
       "      <td>850.000000</td>\n",
       "    </tr>\n",
       "    <tr>\n",
       "      <td>1002</td>\n",
       "      <td>1035.714286</td>\n",
       "    </tr>\n",
       "    <tr>\n",
       "      <td>1003</td>\n",
       "      <td>1950.000000</td>\n",
       "    </tr>\n",
       "    <tr>\n",
       "      <td>1004</td>\n",
       "      <td>1950.000000</td>\n",
       "    </tr>\n",
       "  </tbody>\n",
       "</table>\n",
       "</div>"
      ],
      "text/plain": [
       "         total_income\n",
       "user_id              \n",
       "1000      1950.000000\n",
       "1001       850.000000\n",
       "1002      1035.714286\n",
       "1003      1950.000000\n",
       "1004      1950.000000"
      ]
     },
     "execution_count": 24,
     "metadata": {},
     "output_type": "execute_result"
    }
   ],
   "source": [
    "total_income = df.loc[:, ['user_id', 'total_income']]\n",
    "total_income = total_income.groupby('user_id').agg('mean')\n",
    "total_income.head()"
   ]
  },
  {
   "cell_type": "markdown",
   "metadata": {},
   "source": [
    "**Вывод**\n",
    "\n",
    "Данные были приведены к нужным типам, исправлены ошибки. Данные о перерасходах по тарифу сгруппированы в датасеты `call_stat_income`, `messege_stat_income`, `internet_stat_income`. Была посчитана месячная выручка с каждого клиента и созданы датасеты со средним доходом по тарифам.\n"
   ]
  },
  {
   "cell_type": "markdown",
   "metadata": {},
   "source": [
    "## Анализ данных"
   ]
  },
  {
   "cell_type": "markdown",
   "metadata": {},
   "source": [
    "Опишем поведение клиентов оператора, исходя из выборки. Сколько минут разговора, сколько сообщений и какой объём интернет-трафика требуется пользователям каждого тарифа в месяц? Посчитаем среднее количество, дисперсию и стандартное отклонение. Постройте гистограммы. Опишем распределения."
   ]
  },
  {
   "cell_type": "markdown",
   "metadata": {},
   "source": [
    "### Звонки"
   ]
  },
  {
   "cell_type": "markdown",
   "metadata": {},
   "source": [
    "#### Тариф smart\n",
    "Посчитаем среднее количество минут"
   ]
  },
  {
   "cell_type": "code",
   "execution_count": 28,
   "metadata": {},
   "outputs": [
    {
     "data": {
      "text/plain": [
       "417.9349484073576"
      ]
     },
     "execution_count": 28,
     "metadata": {},
     "output_type": "execute_result"
    }
   ],
   "source": [
    "call_stat_smart = df.query('tariff ==\"smart\"')\n",
    "call_stat_smart_mean = call_stat_smart['duration'].mean()\n",
    "call_stat_smart_mean"
   ]
  },
  {
   "cell_type": "markdown",
   "metadata": {},
   "source": [
    "Посчитаем дисперсию"
   ]
  },
  {
   "cell_type": "code",
   "execution_count": 29,
   "metadata": {},
   "outputs": [
    {
     "data": {
      "text/plain": [
       "36219.31578434428"
      ]
     },
     "execution_count": 29,
     "metadata": {},
     "output_type": "execute_result"
    }
   ],
   "source": [
    "np.var(call_stat_smart['duration'], ddof=1)"
   ]
  },
  {
   "cell_type": "markdown",
   "metadata": {},
   "source": [
    "Рассчитаем стандартное отклонение"
   ]
  },
  {
   "cell_type": "code",
   "execution_count": 30,
   "metadata": {},
   "outputs": [
    {
     "data": {
      "text/plain": [
       "190.31372988921288"
      ]
     },
     "execution_count": 30,
     "metadata": {},
     "output_type": "execute_result"
    }
   ],
   "source": [
    "np.std(call_stat_smart['duration'], ddof=1)"
   ]
  },
  {
   "cell_type": "markdown",
   "metadata": {},
   "source": [
    "По правилу трех сигм, узнаем в каком промежутке лежат интересующие нас данные"
   ]
  },
  {
   "cell_type": "code",
   "execution_count": 31,
   "metadata": {},
   "outputs": [
    {
     "name": "stdout",
     "output_type": "stream",
     "text": [
      "-153.006241260281\n",
      "988.8761380749961\n"
     ]
    }
   ],
   "source": [
    "print(call_stat_smart_mean - 3*np.std(call_stat_smart['duration'], ddof=1))\n",
    "print(call_stat_smart_mean + 3*np.std(call_stat_smart['duration'], ddof=1))"
   ]
  },
  {
   "cell_type": "code",
   "execution_count": 32,
   "metadata": {},
   "outputs": [
    {
     "data": {
      "image/png": "[encoded data removed]",
      "text/plain": [
       "<Figure size 432x288 with 1 Axes>"
      ]
     },
     "metadata": {
      "needs_background": "light"
     },
     "output_type": "display_data"
    }
   ],
   "source": [
    "call_stat_smart.hist('duration', bins=20)\n",
    "plt.title('Звонки')\n",
    "plt.xlabel('Минуты')\n",
    "plt.ylabel('Клиенты')\n",
    "plt.show()"
   ]
  },
  {
   "cell_type": "markdown",
   "metadata": {},
   "source": [
    "Большинству клиентов с тарифом `smart` требуется от 350 до 550 минут разговора в месяц. Гистограмма имеет нормальное расперделение, большинство значений лежат в промежутке от 160 до 571"
   ]
  },
  {
   "cell_type": "markdown",
   "metadata": {},
   "source": [
    "#### Тариф ultra\n",
    "\n",
    "Таким же образом рассчитаем среднее количество минут за месяц, за год, посчитаем дисперсию и стандартное отклонение, и построим гистограмму."
   ]
  },
  {
   "cell_type": "code",
   "execution_count": 33,
   "metadata": {},
   "outputs": [
    {
     "data": {
      "text/plain": [
       "526.6233502538071"
      ]
     },
     "execution_count": 33,
     "metadata": {},
     "output_type": "execute_result"
    }
   ],
   "source": [
    "call_stat_ultra = df.query('tariff ==\"ultra\"')\n",
    "call_stat_ultra_mean = call_stat_ultra['duration'].mean()\n",
    "call_stat_ultra_mean"
   ]
  },
  {
   "cell_type": "code",
   "execution_count": 34,
   "metadata": {},
   "outputs": [
    {
     "data": {
      "text/plain": [
       "100873.63339730098"
      ]
     },
     "execution_count": 34,
     "metadata": {},
     "output_type": "execute_result"
    }
   ],
   "source": [
    "np.var(call_stat_ultra['duration'], ddof=1)"
   ]
  },
  {
   "cell_type": "code",
   "execution_count": 35,
   "metadata": {},
   "outputs": [
    {
     "data": {
      "text/plain": [
       "317.6060978591264"
      ]
     },
     "execution_count": 35,
     "metadata": {},
     "output_type": "execute_result"
    }
   ],
   "source": [
    "np.std(call_stat_ultra['duration'], ddof=1)"
   ]
  },
  {
   "cell_type": "code",
   "execution_count": 36,
   "metadata": {
    "scrolled": true
   },
   "outputs": [
    {
     "data": {
      "image/png": "[encoded data removed]",
      "text/plain": [
       "<Figure size 432x288 with 1 Axes>"
      ]
     },
     "metadata": {
      "needs_background": "light"
     },
     "output_type": "display_data"
    }
   ],
   "source": [
    "call_stat_ultra.hist('duration', bins = 20)\n",
    "plt.title('Звонки')\n",
    "plt.xlabel('Минуты')\n",
    "plt.ylabel('Клиенты')\n",
    "plt.show()"
   ]
  },
  {
   "cell_type": "markdown",
   "metadata": {},
   "source": [
    "Гистограмма скошена вправо. Это говорит о том, что значение медианы меньше среднего. Большинство клиентов с тарифом `ultra` расходуют от 400 до 600 минут."
   ]
  },
  {
   "cell_type": "markdown",
   "metadata": {},
   "source": [
    "#### Вывод\n",
    "\n",
    "Разница в использованных минутах в обоих тарифах не существенная, возможно клиенты выбирают тариф `ultra`, не из-за большего количества минут по сравнению с тарифом `smart`, а, например из-за большего объема интернет трафика. Хотя по гистограмме видно, что некоторое количество людей все же тратят больше 1000 минут, но это все равно меньше чем включено в тариф."
   ]
  },
  {
   "cell_type": "markdown",
   "metadata": {},
   "source": [
    "### Сообщения\n",
    "#### Тариф Smart"
   ]
  },
  {
   "cell_type": "markdown",
   "metadata": {},
   "source": [
    "Посчитаем среднее количество сообщений"
   ]
  },
  {
   "cell_type": "code",
   "execution_count": 37,
   "metadata": {},
   "outputs": [
    {
     "data": {
      "text/plain": [
       "31.413210661085547"
      ]
     },
     "execution_count": 37,
     "metadata": {},
     "output_type": "execute_result"
    }
   ],
   "source": [
    "sms_stat_smart = df.query('tariff ==\"smart\"')\n",
    "sms_stat_smart_mean = sms_stat_smart.groupby('month')['count_messages'].agg('mean')\n",
    "sms_stat_smart_mean.mean()"
   ]
  },
  {
   "cell_type": "markdown",
   "metadata": {},
   "source": [
    "Дисперсия"
   ]
  },
  {
   "cell_type": "code",
   "execution_count": 38,
   "metadata": {},
   "outputs": [
    {
     "data": {
      "text/plain": [
       "26.0448270922888"
      ]
     },
     "execution_count": 38,
     "metadata": {},
     "output_type": "execute_result"
    }
   ],
   "source": [
    "np.var(sms_stat_smart_mean, ddof=1)"
   ]
  },
  {
   "cell_type": "markdown",
   "metadata": {},
   "source": [
    "Стандартное отклонение"
   ]
  },
  {
   "cell_type": "code",
   "execution_count": 39,
   "metadata": {},
   "outputs": [
    {
     "data": {
      "text/plain": [
       "5.103413278609601"
      ]
     },
     "execution_count": 39,
     "metadata": {},
     "output_type": "execute_result"
    }
   ],
   "source": [
    "np.std(sms_stat_smart_mean, ddof=1)"
   ]
  },
  {
   "cell_type": "code",
   "execution_count": 40,
   "metadata": {
    "scrolled": true
   },
   "outputs": [
    {
     "data": {
      "image/png": "[encoded data removed]",
      "text/plain": [
       "<Figure size 432x288 with 1 Axes>"
      ]
     },
     "metadata": {
      "needs_background": "light"
     },
     "output_type": "display_data"
    }
   ],
   "source": [
    "sms_stat_smart.hist('count_messages')\n",
    "plt.title('СМС')\n",
    "plt.xlabel('Количество')\n",
    "plt.ylabel('Клиенты')\n",
    "plt.show()"
   ]
  },
  {
   "cell_type": "markdown",
   "metadata": {},
   "source": [
    "Гистограмма скошена вправо - среднее больше медианы. Большинству клиентов хватает включенных в тариф 50ти смс, но есть и такие, которые не могут уложиться в это количество, тем самым принося выручку компании."
   ]
  },
  {
   "cell_type": "markdown",
   "metadata": {},
   "source": [
    "#### Тариф ultra"
   ]
  },
  {
   "cell_type": "markdown",
   "metadata": {},
   "source": [
    "Среднее"
   ]
  },
  {
   "cell_type": "code",
   "execution_count": 41,
   "metadata": {},
   "outputs": [
    {
     "data": {
      "text/plain": [
       "43.71498284147191"
      ]
     },
     "execution_count": 41,
     "metadata": {},
     "output_type": "execute_result"
    }
   ],
   "source": [
    "sms_stat_ultra = df.query('tariff ==\"ultra\"')\n",
    "sms_stat_ultra_mean = sms_stat_ultra.groupby('month')['count_messages'].agg('mean')\n",
    "sms_stat_ultra_mean.mean()"
   ]
  },
  {
   "cell_type": "markdown",
   "metadata": {},
   "source": [
    "Дисперсия"
   ]
  },
  {
   "cell_type": "code",
   "execution_count": 42,
   "metadata": {},
   "outputs": [
    {
     "data": {
      "text/plain": [
       "151.79398765605353"
      ]
     },
     "execution_count": 42,
     "metadata": {},
     "output_type": "execute_result"
    }
   ],
   "source": [
    "np.var(sms_stat_ultra_mean, ddof=1)"
   ]
  },
  {
   "cell_type": "markdown",
   "metadata": {},
   "source": [
    "Стандартное отклонение"
   ]
  },
  {
   "cell_type": "code",
   "execution_count": 43,
   "metadata": {},
   "outputs": [
    {
     "data": {
      "text/plain": [
       "12.320470269273553"
      ]
     },
     "execution_count": 43,
     "metadata": {},
     "output_type": "execute_result"
    }
   ],
   "source": [
    "np.std(sms_stat_ultra_mean, ddof=1)"
   ]
  },
  {
   "cell_type": "code",
   "execution_count": 44,
   "metadata": {},
   "outputs": [
    {
     "data": {
      "image/png": "[encoded data removed]",
      "text/plain": [
       "<Figure size 432x288 with 1 Axes>"
      ]
     },
     "metadata": {
      "needs_background": "light"
     },
     "output_type": "display_data"
    }
   ],
   "source": [
    "sms_stat_ultra.hist('count_messages')\n",
    "plt.title('СМС')\n",
    "plt.xlabel('Количество')\n",
    "plt.ylabel('Клиенты')\n",
    "plt.show()"
   ]
  },
  {
   "cell_type": "markdown",
   "metadata": {},
   "source": [
    "Гистограмма так же скошена вправо"
   ]
  },
  {
   "cell_type": "markdown",
   "metadata": {},
   "source": [
    "#### Вывод\n",
    "\n",
    "Пользователи тарифа `ultra` отправляют смс чаще пользователей `smart`, но нет таких клиентов, которые бы в этом тарифе израсходовали лимит смс в 1000 сообщений."
   ]
  },
  {
   "cell_type": "markdown",
   "metadata": {},
   "source": [
    "### Интернет\n",
    "#### Тариф smart"
   ]
  },
  {
   "cell_type": "markdown",
   "metadata": {},
   "source": [
    "Посчитаем средний расход трафика"
   ]
  },
  {
   "cell_type": "code",
   "execution_count": 45,
   "metadata": {},
   "outputs": [
    {
     "data": {
      "text/plain": [
       "15057.894954522168"
      ]
     },
     "execution_count": 45,
     "metadata": {},
     "output_type": "execute_result"
    }
   ],
   "source": [
    "interet_stat_smart = df.query('tariff == \"smart\"')\n",
    "internet_stat_smart_mean = interet_stat_smart.groupby('month')['mb_used'].agg('mean')\n",
    "internet_stat_smart_mean.mean()"
   ]
  },
  {
   "cell_type": "markdown",
   "metadata": {},
   "source": [
    "Посчитаем дисперсию"
   ]
  },
  {
   "cell_type": "code",
   "execution_count": 46,
   "metadata": {},
   "outputs": [
    {
     "data": {
      "text/plain": [
       "7135385.628100625"
      ]
     },
     "execution_count": 46,
     "metadata": {},
     "output_type": "execute_result"
    }
   ],
   "source": [
    "np.var(internet_stat_smart_mean, ddof=1)"
   ]
  },
  {
   "cell_type": "markdown",
   "metadata": {},
   "source": [
    "Посчитаем стандартное отклонение"
   ]
  },
  {
   "cell_type": "code",
   "execution_count": 47,
   "metadata": {},
   "outputs": [
    {
     "data": {
      "text/plain": [
       "2671.214260987056"
      ]
     },
     "execution_count": 47,
     "metadata": {},
     "output_type": "execute_result"
    }
   ],
   "source": [
    "np.std(internet_stat_smart_mean, ddof=1)"
   ]
  },
  {
   "cell_type": "code",
   "execution_count": 48,
   "metadata": {},
   "outputs": [
    {
     "data": {
      "image/png": "[encoded data removed]",
      "text/plain": [
       "<Figure size 432x288 with 1 Axes>"
      ]
     },
     "metadata": {
      "needs_background": "light"
     },
     "output_type": "display_data"
    }
   ],
   "source": [
    "interet_stat_smart.hist('mb_used')\n",
    "plt.title('Интернет')\n",
    "plt.xlabel('Мегабайты')\n",
    "plt.ylabel('Клиенты')\n",
    "plt.show()"
   ]
  },
  {
   "cell_type": "markdown",
   "metadata": {},
   "source": [
    "Гистограмма имеет нормальное распределение. Большая часть клиентов укладывается в ограничения по тарифу."
   ]
  },
  {
   "cell_type": "markdown",
   "metadata": {},
   "source": [
    "#### Тариф ultra"
   ]
  },
  {
   "cell_type": "code",
   "execution_count": 49,
   "metadata": {},
   "outputs": [
    {
     "data": {
      "text/plain": [
       "18205.335711557364"
      ]
     },
     "execution_count": 49,
     "metadata": {},
     "output_type": "execute_result"
    }
   ],
   "source": [
    "internet_stat_ultra = df.query('tariff == \"ultra\"')\n",
    "internet_stat_ultra_mean = internet_stat_ultra.groupby('month')['mb_used'].agg('mean')\n",
    "internet_stat_ultra_mean.mean()"
   ]
  },
  {
   "cell_type": "code",
   "execution_count": 50,
   "metadata": {},
   "outputs": [
    {
     "data": {
      "text/plain": [
       "8915669.606474016"
      ]
     },
     "execution_count": 50,
     "metadata": {},
     "output_type": "execute_result"
    }
   ],
   "source": [
    "np.var(internet_stat_ultra_mean, ddof=1)"
   ]
  },
  {
   "cell_type": "code",
   "execution_count": 51,
   "metadata": {},
   "outputs": [
    {
     "data": {
      "text/plain": [
       "2985.911855107919"
      ]
     },
     "execution_count": 51,
     "metadata": {},
     "output_type": "execute_result"
    }
   ],
   "source": [
    "np.std(internet_stat_ultra_mean, ddof=1)"
   ]
  },
  {
   "cell_type": "code",
   "execution_count": 52,
   "metadata": {},
   "outputs": [
    {
     "data": {
      "image/png": "[encoded data removed]",
      "text/plain": [
       "<Figure size 432x288 with 1 Axes>"
      ]
     },
     "metadata": {
      "needs_background": "light"
     },
     "output_type": "display_data"
    }
   ],
   "source": [
    "internet_stat_ultra.hist('mb_used')\n",
    "plt.title('Интернет')\n",
    "plt.xlabel('Мегабайты')\n",
    "plt.ylabel('Клиенты')\n",
    "plt.show()"
   ]
  },
  {
   "cell_type": "markdown",
   "metadata": {},
   "source": [
    "Следует предположить, что клиенты, которые пользуются тарифом `ultra` выбрали его исключительно из-за большего объема трафика, т.к судя по графику, такие клиенты очень активно пользуются интернетом."
   ]
  },
  {
   "cell_type": "markdown",
   "metadata": {},
   "source": [
    "### Вывод"
   ]
  },
  {
   "cell_type": "markdown",
   "metadata": {},
   "source": [
    "Клиенты, которые выбирают тариф `smart` используют чуть меньшее количество минут и смс, чем клиенты с тарифом `ultra`, однако, есть и такие, которым не хватает смс и минут, за что они и платят допольнительные деньги. Лимитов по минутам и смс в \"ультре\" никто не превышает. С интернетом обстоят дела по другому, у клиентов `smart` ограничение в 15Гб и в целом они стараются не превышать его, а клиенты `ultra` пользуются интернетом намного больше."
   ]
  },
  {
   "cell_type": "markdown",
   "metadata": {},
   "source": [
    "## Проверка гипотез\n",
    "### Средняя вручка тарифов `ultra` и `smart` различаются"
   ]
  },
  {
   "cell_type": "markdown",
   "metadata": {},
   "source": [
    "Сформулируем нулевую и альтернативную гипотезы:\n",
    "* H₀ - средняя выручка пользователей тарифов «Ультра» и «Смарт» равна\n",
    "* H₁ - средняя выручка пользователей тарифов «Ультра» и «Смарт» не равна"
   ]
  },
  {
   "cell_type": "code",
   "execution_count": 53,
   "metadata": {},
   "outputs": [],
   "source": [
    "alpha = .05"
   ]
  },
  {
   "cell_type": "code",
   "execution_count": 54,
   "metadata": {},
   "outputs": [
    {
     "name": "stdout",
     "output_type": "stream",
     "text": [
      "p-значение: 1.4229814360764067e-160\n",
      "Отвергаем нулевую гипотезу\n",
      "\n",
      "Среднемесячная выручка для тарифа \"smart\" -  1289.97\n",
      "Среднемесячная выручка для тарифа \"ultra\" -  2070.15\n"
     ]
    }
   ],
   "source": [
    "results = st.ttest_ind(\n",
    "    smart['total_income'],\n",
    "    ultra['total_income']\n",
    ")\n",
    "print('p-значение:', results.pvalue)\n",
    "\n",
    "if results.pvalue < alpha:\n",
    "    print('Отвергаем нулевую гипотезу')\n",
    "else:\n",
    "    print('Не получилось отвергнуть нулевую гипотезу')\n",
    "    \n",
    "print()\n",
    "print('Среднемесячная выручка для тарифа \"smart\" - ', smart['total_income'].mean().round(2))\n",
    "print('Среднемесячная выручка для тарифа \"ultra\" - ', ultra['total_income'].mean().round(2))"
   ]
  },
  {
   "cell_type": "markdown",
   "metadata": {},
   "source": [
    "Отвергаем первую гипотезу, даже не смотря на то, что тариф `ultra` выбирают в 2 раза реже, он приносит компании больше денег."
   ]
  },
  {
   "cell_type": "markdown",
   "metadata": {},
   "source": [
    "### Cредняя выручка пользователей из Москвы отличается от выручки пользователей из других регионов"
   ]
  },
  {
   "cell_type": "markdown",
   "metadata": {},
   "source": [
    "Сформулируем гипотезы:\n",
    "* H₀ - средняя выручка пользователей из Москвы и остальных регионов равна\n",
    "* H₁ - средняя выручка пользователей из Москвы и остальных регионов не равна"
   ]
  },
  {
   "cell_type": "code",
   "execution_count": 55,
   "metadata": {},
   "outputs": [],
   "source": [
    "moscow = df.query('city == \"Москва\"')\n",
    "not_moscow = df.query('city != \"Москва\"')"
   ]
  },
  {
   "cell_type": "code",
   "execution_count": 56,
   "metadata": {},
   "outputs": [
    {
     "name": "stdout",
     "output_type": "stream",
     "text": [
      "p-значение: 0.5440152911670224\n",
      "Не получилось отвергнуть нулевую гипотезу\n",
      "\n",
      "Средняя выручка за месяц в Москве -  1546.71\n",
      "Средняя выручка за месяц в регионах -  1524.94\n"
     ]
    }
   ],
   "source": [
    "results = st.ttest_ind(\n",
    "    moscow['total_income'],\n",
    "    not_moscow['total_income']\n",
    ")\n",
    "print('p-значение:', results.pvalue)\n",
    "\n",
    "if results.pvalue < alpha:\n",
    "    print('Отвергаем нулевую гипотезу')\n",
    "else:\n",
    "    print('Не получилось отвергнуть нулевую гипотезу')\n",
    "    \n",
    "print()\n",
    "print('Средняя выручка за месяц в Москве - ', moscow['total_income'].mean().round(2))\n",
    "print('Средняя выручка за месяц в регионах - ', not_moscow['total_income'].mean().round(2))"
   ]
  },
  {
   "cell_type": "markdown",
   "metadata": {},
   "source": [
    "Принимаем вторую гипотезу - средняя выручка в Москве меньше, чем в регионах, но не значительно."
   ]
  },
  {
   "cell_type": "markdown",
   "metadata": {},
   "source": [
    "## Выводы"
   ]
  },
  {
   "cell_type": "markdown",
   "metadata": {},
   "source": [
    "В ходе исследования:\n",
    "1. Датасеты были объединены в один.\n",
    "2. Исправлены ошибки, рассчитана средняя выручка за месяц по каждому тарифу.\n",
    "3. Было выявлено, что пользователи тарифа `smart` упираются в лимиты по минутам и тарифу, зачастую, даже переплачивают за дополнительные гигабайты и минуты, в то время как пользователям `ultra` не удается достигнуть лимитов по минутам и смс, но так же, такие клиенты более активно используют интернет, в следствии чего, становится понятно, ради чего клиенты выбирают более дорогой тариф.\n",
    "4. Проверили две гипотезы:\n",
    "* Средняя выручка пользователей тарифов «Ультра» и «Смарт» равна - не подтверждена\n",
    "* Средняя выручка пользователей из Москвы равна выручке пользователей из других регионов - подтверждена\n",
    "\n",
    "Тариф `ultra` приносит больше денег компании, его стоит развивать повсеместно в Москве и регионах."
   ]
  }
 ],
 "metadata": {
  "ExecuteTimeLog": [
   {
    "duration": 516,
    "start_time": "2022-02-14T16:22:30.876Z"
   },
   {
    "duration": 148,
    "start_time": "2022-02-14T16:22:33.880Z"
   },
   {
    "duration": 2,
    "start_time": "2022-02-14T16:39:34.053Z"
   },
   {
    "duration": 133,
    "start_time": "2022-02-14T16:40:27.976Z"
   },
   {
    "duration": 113,
    "start_time": "2022-02-14T16:41:08.399Z"
   },
   {
    "duration": 121,
    "start_time": "2022-02-14T16:41:34.965Z"
   },
   {
    "duration": 115,
    "start_time": "2022-02-14T16:41:38.600Z"
   },
   {
    "duration": 82,
    "start_time": "2022-02-14T16:42:18.039Z"
   },
   {
    "duration": 22,
    "start_time": "2022-02-14T16:43:00.664Z"
   },
   {
    "duration": 37,
    "start_time": "2022-02-14T16:43:55.940Z"
   },
   {
    "duration": 14,
    "start_time": "2022-02-14T16:52:31.297Z"
   },
   {
    "duration": 7,
    "start_time": "2022-02-14T16:53:18.801Z"
   },
   {
    "duration": 13,
    "start_time": "2022-02-14T16:53:25.113Z"
   },
   {
    "duration": 56,
    "start_time": "2022-02-14T16:54:45.248Z"
   },
   {
    "duration": 376,
    "start_time": "2022-02-14T16:55:04.562Z"
   },
   {
    "duration": 578,
    "start_time": "2022-02-14T16:55:21.720Z"
   },
   {
    "duration": 149,
    "start_time": "2022-02-14T16:55:22.300Z"
   },
   {
    "duration": 115,
    "start_time": "2022-02-14T16:55:22.451Z"
   },
   {
    "duration": 79,
    "start_time": "2022-02-14T16:55:22.568Z"
   },
   {
    "duration": 20,
    "start_time": "2022-02-14T16:55:22.649Z"
   },
   {
    "duration": 44,
    "start_time": "2022-02-14T16:55:22.670Z"
   },
   {
    "duration": 13,
    "start_time": "2022-02-14T16:55:22.716Z"
   },
   {
    "duration": 62,
    "start_time": "2022-02-14T16:55:22.730Z"
   },
   {
    "duration": 579,
    "start_time": "2022-02-14T16:57:07.011Z"
   },
   {
    "duration": 149,
    "start_time": "2022-02-14T16:57:07.592Z"
   },
   {
    "duration": 117,
    "start_time": "2022-02-14T16:57:07.742Z"
   },
   {
    "duration": 80,
    "start_time": "2022-02-14T16:57:07.860Z"
   },
   {
    "duration": 21,
    "start_time": "2022-02-14T16:57:07.942Z"
   },
   {
    "duration": 43,
    "start_time": "2022-02-14T16:57:07.964Z"
   },
   {
    "duration": 16,
    "start_time": "2022-02-14T16:57:08.009Z"
   },
   {
    "duration": 64,
    "start_time": "2022-02-14T16:57:08.027Z"
   },
   {
    "duration": 422,
    "start_time": "2022-02-14T16:58:22.050Z"
   },
   {
    "duration": 106,
    "start_time": "2022-02-14T16:59:14.726Z"
   },
   {
    "duration": 301,
    "start_time": "2022-02-14T16:59:20.101Z"
   },
   {
    "duration": 312,
    "start_time": "2022-02-14T16:59:37.133Z"
   },
   {
    "duration": 570,
    "start_time": "2022-02-14T16:59:43.090Z"
   },
   {
    "duration": 144,
    "start_time": "2022-02-14T16:59:43.661Z"
   },
   {
    "duration": 118,
    "start_time": "2022-02-14T16:59:43.807Z"
   },
   {
    "duration": 78,
    "start_time": "2022-02-14T16:59:43.927Z"
   },
   {
    "duration": 19,
    "start_time": "2022-02-14T16:59:44.007Z"
   },
   {
    "duration": 46,
    "start_time": "2022-02-14T16:59:44.027Z"
   },
   {
    "duration": 12,
    "start_time": "2022-02-14T16:59:44.075Z"
   },
   {
    "duration": 79,
    "start_time": "2022-02-14T16:59:44.089Z"
   },
   {
    "duration": 558,
    "start_time": "2022-02-14T17:00:00.864Z"
   },
   {
    "duration": 149,
    "start_time": "2022-02-14T17:00:01.424Z"
   },
   {
    "duration": 125,
    "start_time": "2022-02-14T17:00:01.575Z"
   },
   {
    "duration": 86,
    "start_time": "2022-02-14T17:00:01.702Z"
   },
   {
    "duration": 21,
    "start_time": "2022-02-14T17:00:01.790Z"
   },
   {
    "duration": 61,
    "start_time": "2022-02-14T17:00:01.812Z"
   },
   {
    "duration": 18,
    "start_time": "2022-02-14T17:00:01.874Z"
   },
   {
    "duration": 84,
    "start_time": "2022-02-14T17:00:01.894Z"
   },
   {
    "duration": 610,
    "start_time": "2022-02-14T17:02:15.798Z"
   },
   {
    "duration": 143,
    "start_time": "2022-02-14T17:02:16.409Z"
   },
   {
    "duration": 115,
    "start_time": "2022-02-14T17:02:16.554Z"
   },
   {
    "duration": 79,
    "start_time": "2022-02-14T17:02:16.670Z"
   },
   {
    "duration": 20,
    "start_time": "2022-02-14T17:02:16.751Z"
   },
   {
    "duration": 45,
    "start_time": "2022-02-14T17:02:16.773Z"
   },
   {
    "duration": 13,
    "start_time": "2022-02-14T17:02:16.820Z"
   },
   {
    "duration": 91,
    "start_time": "2022-02-14T17:02:16.836Z"
   },
   {
    "duration": 436,
    "start_time": "2022-02-14T17:02:16.929Z"
   },
   {
    "duration": 525,
    "start_time": "2022-02-14T17:02:16.842Z"
   },
   {
    "duration": 382,
    "start_time": "2022-02-14T17:04:22.636Z"
   },
   {
    "duration": 596,
    "start_time": "2022-02-14T17:04:54.998Z"
   },
   {
    "duration": 141,
    "start_time": "2022-02-14T17:04:55.596Z"
   },
   {
    "duration": 117,
    "start_time": "2022-02-14T17:04:55.739Z"
   },
   {
    "duration": 79,
    "start_time": "2022-02-14T17:04:55.858Z"
   },
   {
    "duration": 20,
    "start_time": "2022-02-14T17:04:55.939Z"
   },
   {
    "duration": 32,
    "start_time": "2022-02-14T17:04:55.960Z"
   },
   {
    "duration": 361,
    "start_time": "2022-02-14T17:04:55.994Z"
   },
   {
    "duration": 563,
    "start_time": "2022-02-14T17:04:55.795Z"
   },
   {
    "duration": 563,
    "start_time": "2022-02-14T17:04:55.796Z"
   },
   {
    "duration": 563,
    "start_time": "2022-02-14T17:04:55.797Z"
   },
   {
    "duration": 20,
    "start_time": "2022-02-14T17:05:29.444Z"
   },
   {
    "duration": 358,
    "start_time": "2022-02-14T17:05:32.304Z"
   },
   {
    "duration": 516,
    "start_time": "2022-02-14T17:10:38.072Z"
   },
   {
    "duration": 213,
    "start_time": "2022-02-14T17:10:38.590Z"
   },
   {
    "duration": 167,
    "start_time": "2022-02-14T17:10:38.806Z"
   },
   {
    "duration": 112,
    "start_time": "2022-02-14T17:10:38.975Z"
   },
   {
    "duration": 20,
    "start_time": "2022-02-14T17:10:39.089Z"
   },
   {
    "duration": 77,
    "start_time": "2022-02-14T17:10:39.111Z"
   },
   {
    "duration": 14,
    "start_time": "2022-02-14T17:10:39.190Z"
   },
   {
    "duration": 63,
    "start_time": "2022-02-14T17:10:39.205Z"
   },
   {
    "duration": 350,
    "start_time": "2022-02-14T17:18:20.233Z"
   },
   {
    "duration": 349,
    "start_time": "2022-02-14T17:18:31.777Z"
   },
   {
    "duration": 715,
    "start_time": "2022-02-14T17:18:37.989Z"
   },
   {
    "duration": 144,
    "start_time": "2022-02-14T17:18:38.706Z"
   },
   {
    "duration": 118,
    "start_time": "2022-02-14T17:18:38.852Z"
   },
   {
    "duration": 81,
    "start_time": "2022-02-14T17:18:38.971Z"
   },
   {
    "duration": 21,
    "start_time": "2022-02-14T17:18:39.054Z"
   },
   {
    "duration": 53,
    "start_time": "2022-02-14T17:18:39.077Z"
   },
   {
    "duration": 14,
    "start_time": "2022-02-14T17:18:39.132Z"
   },
   {
    "duration": 64,
    "start_time": "2022-02-14T17:18:39.148Z"
   },
   {
    "duration": 365,
    "start_time": "2022-02-14T17:18:39.213Z"
   },
   {
    "duration": 562,
    "start_time": "2022-02-14T17:18:39.018Z"
   },
   {
    "duration": 351,
    "start_time": "2022-02-14T17:22:43.866Z"
   },
   {
    "duration": 613,
    "start_time": "2022-02-14T18:11:21.301Z"
   },
   {
    "duration": 143,
    "start_time": "2022-02-14T18:11:21.916Z"
   },
   {
    "duration": 119,
    "start_time": "2022-02-14T18:11:22.061Z"
   },
   {
    "duration": 80,
    "start_time": "2022-02-14T18:11:22.181Z"
   },
   {
    "duration": 22,
    "start_time": "2022-02-14T18:11:22.263Z"
   },
   {
    "duration": 67,
    "start_time": "2022-02-14T18:11:22.287Z"
   },
   {
    "duration": 2,
    "start_time": "2022-02-14T18:11:22.356Z"
   },
   {
    "duration": 7,
    "start_time": "2022-02-14T18:11:22.360Z"
   },
   {
    "duration": 3,
    "start_time": "2022-02-14T18:11:22.369Z"
   },
   {
    "duration": 4,
    "start_time": "2022-02-14T18:11:22.374Z"
   },
   {
    "duration": 407,
    "start_time": "2022-02-14T18:12:09.594Z"
   },
   {
    "duration": 564,
    "start_time": "2022-02-14T18:13:32.833Z"
   },
   {
    "duration": 141,
    "start_time": "2022-02-14T18:13:33.399Z"
   },
   {
    "duration": 113,
    "start_time": "2022-02-14T18:13:33.543Z"
   },
   {
    "duration": 78,
    "start_time": "2022-02-14T18:13:33.658Z"
   },
   {
    "duration": 21,
    "start_time": "2022-02-14T18:13:33.738Z"
   },
   {
    "duration": 48,
    "start_time": "2022-02-14T18:13:33.760Z"
   },
   {
    "duration": 484,
    "start_time": "2022-02-14T18:13:33.810Z"
   },
   {
    "duration": 599,
    "start_time": "2022-02-14T18:13:33.698Z"
   },
   {
    "duration": 598,
    "start_time": "2022-02-14T18:13:33.699Z"
   },
   {
    "duration": 598,
    "start_time": "2022-02-14T18:13:33.700Z"
   },
   {
    "duration": 365,
    "start_time": "2022-02-14T18:13:59.495Z"
   },
   {
    "duration": 77,
    "start_time": "2022-02-14T18:14:07.754Z"
   },
   {
    "duration": 106,
    "start_time": "2022-02-14T18:14:09.569Z"
   },
   {
    "duration": 350,
    "start_time": "2022-02-14T18:15:10.578Z"
   },
   {
    "duration": 754,
    "start_time": "2022-02-14T18:15:24.323Z"
   },
   {
    "duration": 154,
    "start_time": "2022-02-14T18:15:25.079Z"
   },
   {
    "duration": 126,
    "start_time": "2022-02-14T18:15:25.234Z"
   },
   {
    "duration": 80,
    "start_time": "2022-02-14T18:15:25.362Z"
   },
   {
    "duration": 20,
    "start_time": "2022-02-14T18:15:25.444Z"
   },
   {
    "duration": 56,
    "start_time": "2022-02-14T18:15:25.465Z"
   },
   {
    "duration": 121,
    "start_time": "2022-02-14T18:15:25.522Z"
   },
   {
    "duration": 1,
    "start_time": "2022-02-14T18:15:25.645Z"
   },
   {
    "duration": 9,
    "start_time": "2022-02-14T18:15:25.648Z"
   },
   {
    "duration": 21,
    "start_time": "2022-02-14T18:15:25.658Z"
   },
   {
    "duration": 13,
    "start_time": "2022-02-14T18:16:33.046Z"
   },
   {
    "duration": 13,
    "start_time": "2022-02-14T18:16:58.050Z"
   },
   {
    "duration": 337,
    "start_time": "2022-02-14T18:30:03.835Z"
   },
   {
    "duration": 18,
    "start_time": "2022-02-14T18:30:08.320Z"
   },
   {
    "duration": 236,
    "start_time": "2022-02-14T18:31:07.920Z"
   },
   {
    "duration": 601,
    "start_time": "2022-02-14T18:31:14.306Z"
   },
   {
    "duration": 149,
    "start_time": "2022-02-14T18:31:14.909Z"
   },
   {
    "duration": 122,
    "start_time": "2022-02-14T18:31:15.060Z"
   },
   {
    "duration": 82,
    "start_time": "2022-02-14T18:31:15.184Z"
   },
   {
    "duration": 19,
    "start_time": "2022-02-14T18:31:15.268Z"
   },
   {
    "duration": 52,
    "start_time": "2022-02-14T18:31:15.289Z"
   },
   {
    "duration": 351,
    "start_time": "2022-02-14T18:31:15.342Z"
   },
   {
    "duration": 15,
    "start_time": "2022-02-14T18:31:15.696Z"
   },
   {
    "duration": 2,
    "start_time": "2022-02-14T18:31:15.712Z"
   },
   {
    "duration": 1,
    "start_time": "2022-02-14T18:31:15.727Z"
   },
   {
    "duration": 287,
    "start_time": "2022-02-14T18:31:40.753Z"
   },
   {
    "duration": 247,
    "start_time": "2022-02-14T18:32:09.150Z"
   },
   {
    "duration": 15,
    "start_time": "2022-02-14T18:32:10.230Z"
   },
   {
    "duration": 304,
    "start_time": "2022-02-14T18:34:11.895Z"
   },
   {
    "duration": 260,
    "start_time": "2022-02-14T18:34:33.422Z"
   },
   {
    "duration": 268,
    "start_time": "2022-02-14T18:34:35.128Z"
   },
   {
    "duration": 224,
    "start_time": "2022-02-14T18:49:39.047Z"
   },
   {
    "duration": 404,
    "start_time": "2022-02-14T19:25:13.164Z"
   },
   {
    "duration": 314,
    "start_time": "2022-02-14T19:25:22.709Z"
   },
   {
    "duration": 325,
    "start_time": "2022-02-14T19:25:30.880Z"
   },
   {
    "duration": 332,
    "start_time": "2022-02-14T19:27:50.420Z"
   },
   {
    "duration": 250,
    "start_time": "2022-02-14T19:28:08.769Z"
   },
   {
    "duration": 375,
    "start_time": "2022-02-14T19:28:11.106Z"
   },
   {
    "duration": 4,
    "start_time": "2022-02-15T17:06:18.073Z"
   },
   {
    "duration": 656,
    "start_time": "2022-02-15T17:06:25.076Z"
   },
   {
    "duration": 176,
    "start_time": "2022-02-15T17:06:25.734Z"
   },
   {
    "duration": 143,
    "start_time": "2022-02-15T17:06:25.913Z"
   },
   {
    "duration": 96,
    "start_time": "2022-02-15T17:06:26.058Z"
   },
   {
    "duration": 49,
    "start_time": "2022-02-15T17:06:26.156Z"
   },
   {
    "duration": 35,
    "start_time": "2022-02-15T17:06:26.207Z"
   },
   {
    "duration": 412,
    "start_time": "2022-02-15T17:06:26.244Z"
   },
   {
    "duration": 435,
    "start_time": "2022-02-15T17:06:26.658Z"
   },
   {
    "duration": 12,
    "start_time": "2022-02-15T17:06:27.096Z"
   },
   {
    "duration": 336,
    "start_time": "2022-02-15T17:07:40.011Z"
   },
   {
    "duration": 303,
    "start_time": "2022-02-15T17:07:51.897Z"
   },
   {
    "duration": 290,
    "start_time": "2022-02-15T17:08:08.889Z"
   },
   {
    "duration": 22,
    "start_time": "2022-02-15T17:09:46.990Z"
   },
   {
    "duration": 28,
    "start_time": "2022-02-15T17:09:56.377Z"
   },
   {
    "duration": 289,
    "start_time": "2022-02-15T17:11:17.086Z"
   },
   {
    "duration": 273,
    "start_time": "2022-02-15T17:11:26.414Z"
   },
   {
    "duration": 30,
    "start_time": "2022-02-15T17:11:42.931Z"
   },
   {
    "duration": 31,
    "start_time": "2022-02-15T17:11:49.169Z"
   },
   {
    "duration": 42,
    "start_time": "2022-02-15T17:11:54.447Z"
   },
   {
    "duration": 271,
    "start_time": "2022-02-15T17:12:07.553Z"
   },
   {
    "duration": 36,
    "start_time": "2022-02-15T17:12:15.201Z"
   },
   {
    "duration": 33,
    "start_time": "2022-02-15T17:12:23.432Z"
   },
   {
    "duration": 38,
    "start_time": "2022-02-15T17:12:35.030Z"
   },
   {
    "duration": 42,
    "start_time": "2022-02-15T17:12:48.521Z"
   },
   {
    "duration": 271,
    "start_time": "2022-02-15T17:13:02.443Z"
   },
   {
    "duration": 40,
    "start_time": "2022-02-15T17:13:14.752Z"
   },
   {
    "duration": 88,
    "start_time": "2022-02-15T17:13:43.085Z"
   },
   {
    "duration": 258,
    "start_time": "2022-02-15T17:13:47.431Z"
   },
   {
    "duration": 269,
    "start_time": "2022-02-15T17:13:56.058Z"
   },
   {
    "duration": 253,
    "start_time": "2022-02-15T17:14:06.706Z"
   },
   {
    "duration": 53,
    "start_time": "2022-02-15T17:14:55.429Z"
   },
   {
    "duration": 64,
    "start_time": "2022-02-15T17:14:59.813Z"
   },
   {
    "duration": 82,
    "start_time": "2022-02-15T17:16:04.637Z"
   },
   {
    "duration": 64,
    "start_time": "2022-02-15T17:16:07.120Z"
   },
   {
    "duration": 1628,
    "start_time": "2022-02-15T17:16:40.463Z"
   },
   {
    "duration": 78,
    "start_time": "2022-02-15T17:17:07.515Z"
   },
   {
    "duration": 345,
    "start_time": "2022-02-15T17:17:40.501Z"
   },
   {
    "duration": 115,
    "start_time": "2022-02-15T17:18:11.722Z"
   },
   {
    "duration": 73,
    "start_time": "2022-02-15T17:18:16.785Z"
   },
   {
    "duration": 64,
    "start_time": "2022-02-15T17:18:46.789Z"
   },
   {
    "duration": 69,
    "start_time": "2022-02-15T17:19:18.087Z"
   },
   {
    "duration": 59,
    "start_time": "2022-02-15T17:19:38.385Z"
   },
   {
    "duration": 74,
    "start_time": "2022-02-15T17:20:10.407Z"
   },
   {
    "duration": 177,
    "start_time": "2022-02-15T17:26:21.630Z"
   },
   {
    "duration": 250,
    "start_time": "2022-02-15T17:29:10.338Z"
   },
   {
    "duration": 258,
    "start_time": "2022-02-15T17:29:37.420Z"
   },
   {
    "duration": 34,
    "start_time": "2022-02-15T17:31:23.896Z"
   },
   {
    "duration": 142,
    "start_time": "2022-02-15T17:31:29.720Z"
   },
   {
    "duration": 293,
    "start_time": "2022-02-15T17:34:35.425Z"
   },
   {
    "duration": 276,
    "start_time": "2022-02-15T18:22:55.211Z"
   },
   {
    "duration": 627,
    "start_time": "2022-02-15T18:23:02.086Z"
   },
   {
    "duration": 178,
    "start_time": "2022-02-15T18:23:02.715Z"
   },
   {
    "duration": 139,
    "start_time": "2022-02-15T18:23:02.895Z"
   },
   {
    "duration": 88,
    "start_time": "2022-02-15T18:23:03.036Z"
   },
   {
    "duration": 15,
    "start_time": "2022-02-15T18:23:03.126Z"
   },
   {
    "duration": 32,
    "start_time": "2022-02-15T18:23:03.142Z"
   },
   {
    "duration": 372,
    "start_time": "2022-02-15T18:23:03.176Z"
   },
   {
    "duration": -1034,
    "start_time": "2022-02-15T18:23:04.584Z"
   },
   {
    "duration": 125,
    "start_time": "2022-02-15T18:23:14.280Z"
   },
   {
    "duration": 399,
    "start_time": "2022-02-15T18:24:05.223Z"
   },
   {
    "duration": 715,
    "start_time": "2022-02-15T18:24:35.412Z"
   },
   {
    "duration": 747,
    "start_time": "2022-02-15T18:24:54.143Z"
   },
   {
    "duration": 158,
    "start_time": "2022-02-15T18:25:43.795Z"
   },
   {
    "duration": 317,
    "start_time": "2022-02-15T18:25:54.055Z"
   },
   {
    "duration": 3,
    "start_time": "2022-02-15T18:28:51.511Z"
   },
   {
    "duration": 243,
    "start_time": "2022-02-15T18:30:33.365Z"
   },
   {
    "duration": 406,
    "start_time": "2022-02-15T18:30:41.766Z"
   },
   {
    "duration": 6264,
    "start_time": "2022-02-15T18:47:33.625Z"
   },
   {
    "duration": 43,
    "start_time": "2022-02-15T18:48:11.580Z"
   },
   {
    "duration": 251,
    "start_time": "2022-02-15T18:56:37.162Z"
   },
   {
    "duration": 256,
    "start_time": "2022-02-15T18:57:21.752Z"
   },
   {
    "duration": 251,
    "start_time": "2022-02-15T18:57:44.448Z"
   },
   {
    "duration": 291,
    "start_time": "2022-02-15T18:58:19.214Z"
   },
   {
    "duration": 278,
    "start_time": "2022-02-15T18:58:39.867Z"
   },
   {
    "duration": 95,
    "start_time": "2022-02-15T18:58:51.802Z"
   },
   {
    "duration": 148,
    "start_time": "2022-02-15T18:59:04.077Z"
   },
   {
    "duration": 83,
    "start_time": "2022-02-15T19:52:30.685Z"
   },
   {
    "duration": 26,
    "start_time": "2022-02-15T19:54:17.395Z"
   },
   {
    "duration": 165,
    "start_time": "2022-02-15T20:01:31.532Z"
   },
   {
    "duration": 129,
    "start_time": "2022-02-15T20:02:50.462Z"
   },
   {
    "duration": 24,
    "start_time": "2022-02-15T20:05:08.734Z"
   },
   {
    "duration": 151,
    "start_time": "2022-02-15T20:08:43.528Z"
   },
   {
    "duration": 132,
    "start_time": "2022-02-15T20:09:25.293Z"
   },
   {
    "duration": 116,
    "start_time": "2022-02-15T20:09:43.551Z"
   },
   {
    "duration": 116,
    "start_time": "2022-02-15T20:10:22.597Z"
   },
   {
    "duration": 251,
    "start_time": "2022-02-15T20:26:07.847Z"
   },
   {
    "duration": 19,
    "start_time": "2022-02-15T20:26:21.748Z"
   },
   {
    "duration": 107,
    "start_time": "2022-02-15T20:27:59.462Z"
   },
   {
    "duration": 17,
    "start_time": "2022-02-15T20:28:05.627Z"
   },
   {
    "duration": 86,
    "start_time": "2022-02-15T20:28:14.296Z"
   },
   {
    "duration": 16,
    "start_time": "2022-02-15T20:31:35.339Z"
   },
   {
    "duration": 15,
    "start_time": "2022-02-15T20:32:04.774Z"
   },
   {
    "duration": 15,
    "start_time": "2022-02-15T20:32:39.730Z"
   },
   {
    "duration": 5,
    "start_time": "2022-02-15T20:34:31.681Z"
   },
   {
    "duration": 8,
    "start_time": "2022-02-15T20:35:20.285Z"
   },
   {
    "duration": 18,
    "start_time": "2022-02-15T20:37:37.812Z"
   },
   {
    "duration": 19,
    "start_time": "2022-02-15T20:38:17.276Z"
   },
   {
    "duration": 21,
    "start_time": "2022-02-15T20:39:17.886Z"
   },
   {
    "duration": 17,
    "start_time": "2022-02-15T20:42:05.671Z"
   },
   {
    "duration": 19,
    "start_time": "2022-02-15T20:43:04.572Z"
   },
   {
    "duration": 16,
    "start_time": "2022-02-15T20:45:18.474Z"
   },
   {
    "duration": 50,
    "start_time": "2022-02-15T20:45:47.734Z"
   },
   {
    "duration": 66,
    "start_time": "2022-02-15T20:46:23.898Z"
   },
   {
    "duration": 40,
    "start_time": "2022-02-15T20:47:22.388Z"
   },
   {
    "duration": 39,
    "start_time": "2022-02-15T20:48:20.396Z"
   },
   {
    "duration": 6167,
    "start_time": "2022-02-15T20:50:09.613Z"
   },
   {
    "duration": 4,
    "start_time": "2022-02-15T20:51:18.292Z"
   },
   {
    "duration": 40,
    "start_time": "2022-02-15T20:51:35.775Z"
   },
   {
    "duration": 5917,
    "start_time": "2022-02-15T20:51:50.508Z"
   },
   {
    "duration": 41,
    "start_time": "2022-02-15T20:52:06.660Z"
   },
   {
    "duration": 5987,
    "start_time": "2022-02-15T20:52:12.645Z"
   },
   {
    "duration": 47,
    "start_time": "2022-02-15T20:52:48.373Z"
   },
   {
    "duration": 5,
    "start_time": "2022-02-15T20:52:50.438Z"
   },
   {
    "duration": 1714,
    "start_time": "2022-02-15T20:54:30.971Z"
   },
   {
    "duration": 294,
    "start_time": "2022-02-15T20:55:08.437Z"
   },
   {
    "duration": 13,
    "start_time": "2022-02-15T20:55:16.192Z"
   },
   {
    "duration": 17,
    "start_time": "2022-02-15T20:57:38.927Z"
   },
   {
    "duration": 20,
    "start_time": "2022-02-15T20:58:14.998Z"
   },
   {
    "duration": 19,
    "start_time": "2022-02-15T20:58:37.151Z"
   },
   {
    "duration": 754,
    "start_time": "2022-02-16T17:48:36.113Z"
   },
   {
    "duration": 228,
    "start_time": "2022-02-16T17:48:36.870Z"
   },
   {
    "duration": 196,
    "start_time": "2022-02-16T17:48:37.102Z"
   },
   {
    "duration": 125,
    "start_time": "2022-02-16T17:48:37.302Z"
   },
   {
    "duration": 22,
    "start_time": "2022-02-16T17:48:37.433Z"
   },
   {
    "duration": 30,
    "start_time": "2022-02-16T17:48:37.458Z"
   },
   {
    "duration": 1167,
    "start_time": "2022-02-16T17:48:37.491Z"
   },
   {
    "duration": 4,
    "start_time": "2022-02-16T17:48:38.662Z"
   },
   {
    "duration": 717,
    "start_time": "2022-02-16T17:48:38.668Z"
   },
   {
    "duration": 70,
    "start_time": "2022-02-16T17:48:39.387Z"
   },
   {
    "duration": 229,
    "start_time": "2022-02-16T17:48:39.459Z"
   },
   {
    "duration": 216,
    "start_time": "2022-02-16T17:48:39.690Z"
   },
   {
    "duration": 197,
    "start_time": "2022-02-16T17:48:39.909Z"
   },
   {
    "duration": 33,
    "start_time": "2022-02-16T17:48:40.109Z"
   },
   {
    "duration": 23,
    "start_time": "2022-02-16T17:48:40.144Z"
   },
   {
    "duration": 27,
    "start_time": "2022-02-16T17:48:40.169Z"
   },
   {
    "duration": 100,
    "start_time": "2022-02-16T17:48:40.198Z"
   },
   {
    "duration": 46,
    "start_time": "2022-02-16T17:48:40.300Z"
   },
   {
    "duration": 110,
    "start_time": "2022-02-16T17:58:40.180Z"
   },
   {
    "duration": 107,
    "start_time": "2022-02-16T17:58:42.592Z"
   },
   {
    "duration": 456,
    "start_time": "2022-02-16T18:01:30.332Z"
   },
   {
    "duration": 131,
    "start_time": "2022-02-16T18:01:42.833Z"
   },
   {
    "duration": 609,
    "start_time": "2022-02-16T18:02:40.307Z"
   },
   {
    "duration": 6582,
    "start_time": "2022-02-16T18:03:17.616Z"
   },
   {
    "duration": 137,
    "start_time": "2022-02-16T18:03:58.752Z"
   },
   {
    "duration": 145,
    "start_time": "2022-02-16T18:04:39.292Z"
   },
   {
    "duration": 131,
    "start_time": "2022-02-16T18:06:17.650Z"
   },
   {
    "duration": 352,
    "start_time": "2022-02-16T18:07:07.267Z"
   },
   {
    "duration": 24,
    "start_time": "2022-02-16T18:07:12.930Z"
   },
   {
    "duration": 137,
    "start_time": "2022-02-16T18:07:21.759Z"
   },
   {
    "duration": 139,
    "start_time": "2022-02-16T18:08:26.437Z"
   },
   {
    "duration": 133,
    "start_time": "2022-02-16T18:08:57.239Z"
   },
   {
    "duration": 276,
    "start_time": "2022-02-16T18:11:18.273Z"
   },
   {
    "duration": 9,
    "start_time": "2022-02-16T18:11:37.921Z"
   },
   {
    "duration": 10,
    "start_time": "2022-02-16T18:12:30.141Z"
   },
   {
    "duration": 86,
    "start_time": "2022-02-16T18:21:47.647Z"
   },
   {
    "duration": 8,
    "start_time": "2022-02-16T18:23:08.623Z"
   },
   {
    "duration": 13,
    "start_time": "2022-02-16T18:24:44.244Z"
   },
   {
    "duration": 13,
    "start_time": "2022-02-16T18:24:52.666Z"
   },
   {
    "duration": 12,
    "start_time": "2022-02-16T18:25:28.026Z"
   },
   {
    "duration": 9,
    "start_time": "2022-02-16T18:28:35.446Z"
   },
   {
    "duration": 6,
    "start_time": "2022-02-16T18:29:29.401Z"
   },
   {
    "duration": 6,
    "start_time": "2022-02-16T18:30:04.509Z"
   },
   {
    "duration": 6,
    "start_time": "2022-02-16T18:30:51.861Z"
   },
   {
    "duration": 7,
    "start_time": "2022-02-16T18:31:34.745Z"
   },
   {
    "duration": 7,
    "start_time": "2022-02-16T18:33:46.878Z"
   },
   {
    "duration": 6,
    "start_time": "2022-02-16T18:34:09.036Z"
   },
   {
    "duration": 6,
    "start_time": "2022-02-16T18:34:13.924Z"
   },
   {
    "duration": 7,
    "start_time": "2022-02-16T18:34:55.992Z"
   },
   {
    "duration": 6,
    "start_time": "2022-02-16T18:35:10.962Z"
   },
   {
    "duration": 373,
    "start_time": "2022-02-16T18:35:59.837Z"
   },
   {
    "duration": 13,
    "start_time": "2022-02-16T18:36:32.637Z"
   },
   {
    "duration": 93,
    "start_time": "2022-02-16T18:37:16.128Z"
   },
   {
    "duration": 12,
    "start_time": "2022-02-16T18:37:24.012Z"
   },
   {
    "duration": 351,
    "start_time": "2022-02-16T18:37:50.495Z"
   },
   {
    "duration": 251,
    "start_time": "2022-02-16T18:45:10.181Z"
   },
   {
    "duration": 13,
    "start_time": "2022-02-16T18:46:04.890Z"
   },
   {
    "duration": 6,
    "start_time": "2022-02-16T18:46:18.130Z"
   },
   {
    "duration": 6,
    "start_time": "2022-02-16T18:46:28.040Z"
   },
   {
    "duration": 6,
    "start_time": "2022-02-16T18:46:39.963Z"
   },
   {
    "duration": 341,
    "start_time": "2022-02-16T18:47:41.379Z"
   },
   {
    "duration": 305,
    "start_time": "2022-02-17T17:40:47.501Z"
   },
   {
    "duration": 765,
    "start_time": "2022-02-17T17:40:54.619Z"
   },
   {
    "duration": 225,
    "start_time": "2022-02-17T17:40:55.388Z"
   },
   {
    "duration": 280,
    "start_time": "2022-02-17T17:40:55.617Z"
   },
   {
    "duration": 108,
    "start_time": "2022-02-17T17:40:55.900Z"
   },
   {
    "duration": 20,
    "start_time": "2022-02-17T17:40:56.011Z"
   },
   {
    "duration": 28,
    "start_time": "2022-02-17T17:40:56.033Z"
   },
   {
    "duration": 1130,
    "start_time": "2022-02-17T17:40:56.063Z"
   },
   {
    "duration": 4,
    "start_time": "2022-02-17T17:40:57.197Z"
   },
   {
    "duration": 679,
    "start_time": "2022-02-17T17:40:57.205Z"
   },
   {
    "duration": 66,
    "start_time": "2022-02-17T17:40:57.886Z"
   },
   {
    "duration": 221,
    "start_time": "2022-02-17T17:40:57.954Z"
   },
   {
    "duration": 220,
    "start_time": "2022-02-17T17:40:58.178Z"
   },
   {
    "duration": 210,
    "start_time": "2022-02-17T17:40:58.402Z"
   },
   {
    "duration": 27,
    "start_time": "2022-02-17T17:40:58.614Z"
   },
   {
    "duration": 57,
    "start_time": "2022-02-17T17:40:58.644Z"
   },
   {
    "duration": 35,
    "start_time": "2022-02-17T17:40:58.703Z"
   },
   {
    "duration": 112,
    "start_time": "2022-02-17T17:40:58.740Z"
   },
   {
    "duration": 48,
    "start_time": "2022-02-17T17:40:58.855Z"
   },
   {
    "duration": 562,
    "start_time": "2022-02-17T17:40:58.906Z"
   },
   {
    "duration": 2010,
    "start_time": "2022-02-17T17:40:57.462Z"
   },
   {
    "duration": 1985,
    "start_time": "2022-02-17T17:40:57.489Z"
   },
   {
    "duration": 1982,
    "start_time": "2022-02-17T17:40:57.493Z"
   },
   {
    "duration": 1983,
    "start_time": "2022-02-17T17:40:57.494Z"
   },
   {
    "duration": 1984,
    "start_time": "2022-02-17T17:40:57.495Z"
   },
   {
    "duration": 1985,
    "start_time": "2022-02-17T17:40:57.496Z"
   },
   {
    "duration": 1985,
    "start_time": "2022-02-17T17:40:57.497Z"
   },
   {
    "duration": 1986,
    "start_time": "2022-02-17T17:40:57.498Z"
   },
   {
    "duration": 1986,
    "start_time": "2022-02-17T17:40:57.500Z"
   },
   {
    "duration": 1986,
    "start_time": "2022-02-17T17:40:57.501Z"
   },
   {
    "duration": 1987,
    "start_time": "2022-02-17T17:40:57.502Z"
   },
   {
    "duration": 1988,
    "start_time": "2022-02-17T17:40:57.503Z"
   },
   {
    "duration": 1988,
    "start_time": "2022-02-17T17:40:57.505Z"
   },
   {
    "duration": 194,
    "start_time": "2022-02-17T17:41:22.683Z"
   },
   {
    "duration": 6162,
    "start_time": "2022-02-17T17:41:30.380Z"
   },
   {
    "duration": 1979,
    "start_time": "2022-02-17T17:41:34.567Z"
   },
   {
    "duration": 1979,
    "start_time": "2022-02-17T17:41:34.568Z"
   },
   {
    "duration": 1980,
    "start_time": "2022-02-17T17:41:34.569Z"
   },
   {
    "duration": 1975,
    "start_time": "2022-02-17T17:41:34.575Z"
   },
   {
    "duration": 1975,
    "start_time": "2022-02-17T17:41:34.577Z"
   },
   {
    "duration": 1976,
    "start_time": "2022-02-17T17:41:34.578Z"
   },
   {
    "duration": 1978,
    "start_time": "2022-02-17T17:41:34.579Z"
   },
   {
    "duration": 1978,
    "start_time": "2022-02-17T17:41:34.580Z"
   },
   {
    "duration": 1979,
    "start_time": "2022-02-17T17:41:34.582Z"
   },
   {
    "duration": 1979,
    "start_time": "2022-02-17T17:41:34.583Z"
   },
   {
    "duration": 1980,
    "start_time": "2022-02-17T17:41:34.584Z"
   },
   {
    "duration": 1980,
    "start_time": "2022-02-17T17:41:34.585Z"
   },
   {
    "duration": 1976,
    "start_time": "2022-02-17T17:41:34.591Z"
   },
   {
    "duration": 871,
    "start_time": "2022-02-17T17:42:34.922Z"
   },
   {
    "duration": 312,
    "start_time": "2022-02-17T17:42:35.797Z"
   },
   {
    "duration": 196,
    "start_time": "2022-02-17T17:42:36.113Z"
   },
   {
    "duration": 124,
    "start_time": "2022-02-17T17:42:36.312Z"
   },
   {
    "duration": 20,
    "start_time": "2022-02-17T17:42:36.438Z"
   },
   {
    "duration": 38,
    "start_time": "2022-02-17T17:42:36.461Z"
   },
   {
    "duration": 1149,
    "start_time": "2022-02-17T17:42:36.502Z"
   },
   {
    "duration": 4,
    "start_time": "2022-02-17T17:42:37.655Z"
   },
   {
    "duration": 688,
    "start_time": "2022-02-17T17:42:37.662Z"
   },
   {
    "duration": 72,
    "start_time": "2022-02-17T17:42:38.352Z"
   },
   {
    "duration": 219,
    "start_time": "2022-02-17T17:42:38.426Z"
   },
   {
    "duration": 224,
    "start_time": "2022-02-17T17:42:38.648Z"
   },
   {
    "duration": 220,
    "start_time": "2022-02-17T17:42:38.875Z"
   },
   {
    "duration": 25,
    "start_time": "2022-02-17T17:42:39.097Z"
   },
   {
    "duration": 22,
    "start_time": "2022-02-17T17:42:39.124Z"
   },
   {
    "duration": 60,
    "start_time": "2022-02-17T17:42:39.149Z"
   },
   {
    "duration": 88,
    "start_time": "2022-02-17T17:42:39.212Z"
   },
   {
    "duration": 29,
    "start_time": "2022-02-17T17:42:39.303Z"
   },
   {
    "duration": 160,
    "start_time": "2022-02-17T17:42:39.335Z"
   },
   {
    "duration": 9,
    "start_time": "2022-02-17T17:42:39.497Z"
   },
   {
    "duration": 18,
    "start_time": "2022-02-17T17:42:39.508Z"
   },
   {
    "duration": 5,
    "start_time": "2022-02-17T17:42:39.528Z"
   },
   {
    "duration": 6,
    "start_time": "2022-02-17T17:42:39.537Z"
   },
   {
    "duration": 47,
    "start_time": "2022-02-17T17:42:39.546Z"
   },
   {
    "duration": 7,
    "start_time": "2022-02-17T17:42:39.595Z"
   },
   {
    "duration": 479,
    "start_time": "2022-02-17T17:42:39.604Z"
   },
   {
    "duration": 17,
    "start_time": "2022-02-17T17:42:40.085Z"
   },
   {
    "duration": 9,
    "start_time": "2022-02-17T17:42:40.104Z"
   },
   {
    "duration": 7,
    "start_time": "2022-02-17T17:42:40.115Z"
   },
   {
    "duration": 12,
    "start_time": "2022-02-17T17:42:40.125Z"
   },
   {
    "duration": 408,
    "start_time": "2022-02-17T17:42:40.139Z"
   },
   {
    "duration": 396,
    "start_time": "2022-02-17T17:42:40.550Z"
   },
   {
    "duration": 238,
    "start_time": "2022-02-17T17:43:18.085Z"
   },
   {
    "duration": 13,
    "start_time": "2022-02-17T17:44:37.925Z"
   },
   {
    "duration": 11,
    "start_time": "2022-02-17T17:45:05.676Z"
   },
   {
    "duration": 12,
    "start_time": "2022-02-17T17:45:58.786Z"
   },
   {
    "duration": 8,
    "start_time": "2022-02-17T17:46:47.641Z"
   },
   {
    "duration": 225,
    "start_time": "2022-02-17T17:46:59.769Z"
   },
   {
    "duration": 6,
    "start_time": "2022-02-17T17:47:05.128Z"
   },
   {
    "duration": 6,
    "start_time": "2022-02-17T17:47:13.331Z"
   },
   {
    "duration": 331,
    "start_time": "2022-02-17T17:47:46.893Z"
   },
   {
    "duration": 341,
    "start_time": "2022-02-17T17:48:44.871Z"
   },
   {
    "duration": 12,
    "start_time": "2022-02-17T17:52:13.390Z"
   },
   {
    "duration": 6,
    "start_time": "2022-02-17T17:52:16.237Z"
   },
   {
    "duration": 6,
    "start_time": "2022-02-17T17:52:19.555Z"
   },
   {
    "duration": 343,
    "start_time": "2022-02-17T17:52:21.745Z"
   },
   {
    "duration": 12,
    "start_time": "2022-02-17T17:54:20.120Z"
   },
   {
    "duration": 248,
    "start_time": "2022-02-17T17:54:53.425Z"
   },
   {
    "duration": 6,
    "start_time": "2022-02-17T17:55:00.540Z"
   },
   {
    "duration": 6,
    "start_time": "2022-02-17T17:55:09.103Z"
   },
   {
    "duration": 258,
    "start_time": "2022-02-17T17:55:15.936Z"
   },
   {
    "duration": 6,
    "start_time": "2022-02-17T17:55:21.708Z"
   },
   {
    "duration": 6,
    "start_time": "2022-02-17T17:55:25.744Z"
   },
   {
    "duration": 88,
    "start_time": "2022-02-17T17:55:40.642Z"
   },
   {
    "duration": 8,
    "start_time": "2022-02-17T17:55:53.770Z"
   },
   {
    "duration": 400,
    "start_time": "2022-02-17T17:56:09.207Z"
   },
   {
    "duration": 13,
    "start_time": "2022-02-17T18:08:42.665Z"
   },
   {
    "duration": 11,
    "start_time": "2022-02-17T18:09:26.456Z"
   },
   {
    "duration": 11,
    "start_time": "2022-02-17T18:09:46.058Z"
   },
   {
    "duration": 12,
    "start_time": "2022-02-17T18:10:15.075Z"
   },
   {
    "duration": 8,
    "start_time": "2022-02-17T18:10:32.383Z"
   },
   {
    "duration": 8,
    "start_time": "2022-02-17T18:10:46.707Z"
   },
   {
    "duration": 85,
    "start_time": "2022-02-17T18:11:00.142Z"
   },
   {
    "duration": 93,
    "start_time": "2022-02-17T18:11:15.383Z"
   },
   {
    "duration": 6,
    "start_time": "2022-02-17T18:11:22.043Z"
   },
   {
    "duration": 330,
    "start_time": "2022-02-17T18:11:41.304Z"
   },
   {
    "duration": 12,
    "start_time": "2022-02-17T18:14:28.088Z"
   },
   {
    "duration": 6,
    "start_time": "2022-02-17T18:14:40.895Z"
   },
   {
    "duration": 431,
    "start_time": "2022-02-17T18:14:53.146Z"
   },
   {
    "duration": 6,
    "start_time": "2022-02-17T18:15:03.822Z"
   },
   {
    "duration": 305,
    "start_time": "2022-02-17T18:15:15.653Z"
   },
   {
    "duration": 255,
    "start_time": "2022-02-17T18:15:21.189Z"
   },
   {
    "duration": 274,
    "start_time": "2022-02-17T18:15:27.311Z"
   },
   {
    "duration": 15,
    "start_time": "2022-02-17T18:15:40.391Z"
   },
   {
    "duration": 414,
    "start_time": "2022-02-17T18:15:43.904Z"
   },
   {
    "duration": 3,
    "start_time": "2022-02-17T18:23:33.935Z"
   },
   {
    "duration": 3,
    "start_time": "2022-02-17T18:25:59.288Z"
   },
   {
    "duration": 103,
    "start_time": "2022-02-17T18:26:38.493Z"
   },
   {
    "duration": 298,
    "start_time": "2022-02-17T18:26:50.487Z"
   },
   {
    "duration": 514,
    "start_time": "2022-02-17T18:26:55.581Z"
   },
   {
    "duration": 343,
    "start_time": "2022-02-17T18:33:01.783Z"
   },
   {
    "duration": 6177,
    "start_time": "2022-02-17T18:33:42.000Z"
   },
   {
    "duration": 30,
    "start_time": "2022-02-17T18:34:16.413Z"
   },
   {
    "duration": 9,
    "start_time": "2022-02-17T18:34:21.926Z"
   },
   {
    "duration": 12,
    "start_time": "2022-02-17T18:34:51.553Z"
   },
   {
    "duration": 11,
    "start_time": "2022-02-17T18:35:00.250Z"
   },
   {
    "duration": 12,
    "start_time": "2022-02-17T18:35:04.749Z"
   },
   {
    "duration": 10,
    "start_time": "2022-02-17T18:35:19.097Z"
   },
   {
    "duration": 9,
    "start_time": "2022-02-17T18:39:46.014Z"
   },
   {
    "duration": 9,
    "start_time": "2022-02-17T18:40:39.972Z"
   },
   {
    "duration": 11,
    "start_time": "2022-02-17T18:41:16.429Z"
   },
   {
    "duration": 101,
    "start_time": "2022-02-17T18:43:00.886Z"
   },
   {
    "duration": 1151,
    "start_time": "2022-02-27T07:29:10.370Z"
   },
   {
    "duration": 219,
    "start_time": "2022-02-27T07:29:11.523Z"
   },
   {
    "duration": 184,
    "start_time": "2022-02-27T07:29:11.746Z"
   },
   {
    "duration": 121,
    "start_time": "2022-02-27T07:29:11.933Z"
   },
   {
    "duration": 20,
    "start_time": "2022-02-27T07:29:12.057Z"
   },
   {
    "duration": 30,
    "start_time": "2022-02-27T07:29:12.086Z"
   },
   {
    "duration": 1107,
    "start_time": "2022-02-27T07:29:12.118Z"
   },
   {
    "duration": 4,
    "start_time": "2022-02-27T07:29:13.228Z"
   },
   {
    "duration": 677,
    "start_time": "2022-02-27T07:29:13.236Z"
   },
   {
    "duration": 57,
    "start_time": "2022-02-27T07:29:13.916Z"
   },
   {
    "duration": 208,
    "start_time": "2022-02-27T07:29:13.987Z"
   },
   {
    "duration": 208,
    "start_time": "2022-02-27T07:29:14.197Z"
   },
   {
    "duration": 191,
    "start_time": "2022-02-27T07:29:14.407Z"
   },
   {
    "duration": 27,
    "start_time": "2022-02-27T07:29:14.600Z"
   },
   {
    "duration": 25,
    "start_time": "2022-02-27T07:29:14.629Z"
   },
   {
    "duration": 56,
    "start_time": "2022-02-27T07:29:14.656Z"
   },
   {
    "duration": 85,
    "start_time": "2022-02-27T07:29:14.714Z"
   },
   {
    "duration": 28,
    "start_time": "2022-02-27T07:29:14.802Z"
   },
   {
    "duration": 148,
    "start_time": "2022-02-27T07:29:14.832Z"
   },
   {
    "duration": 9,
    "start_time": "2022-02-27T07:29:14.987Z"
   },
   {
    "duration": 14,
    "start_time": "2022-02-27T07:29:14.999Z"
   },
   {
    "duration": 19,
    "start_time": "2022-02-27T07:29:15.016Z"
   },
   {
    "duration": 6,
    "start_time": "2022-02-27T07:29:15.037Z"
   },
   {
    "duration": 13,
    "start_time": "2022-02-27T07:29:15.045Z"
   },
   {
    "duration": 35,
    "start_time": "2022-02-27T07:29:15.061Z"
   },
   {
    "duration": 490,
    "start_time": "2022-02-27T07:29:15.099Z"
   },
   {
    "duration": 12,
    "start_time": "2022-02-27T07:29:15.595Z"
   },
   {
    "duration": 7,
    "start_time": "2022-02-27T07:29:15.610Z"
   },
   {
    "duration": 6,
    "start_time": "2022-02-27T07:29:15.619Z"
   },
   {
    "duration": 6,
    "start_time": "2022-02-27T07:29:15.627Z"
   },
   {
    "duration": 370,
    "start_time": "2022-02-27T07:29:15.635Z"
   },
   {
    "duration": 13,
    "start_time": "2022-02-27T07:29:16.008Z"
   },
   {
    "duration": 9,
    "start_time": "2022-02-27T07:29:16.024Z"
   },
   {
    "duration": 9,
    "start_time": "2022-02-27T07:29:16.035Z"
   },
   {
    "duration": 347,
    "start_time": "2022-02-27T07:29:16.047Z"
   },
   {
    "duration": 12,
    "start_time": "2022-02-27T07:29:16.396Z"
   },
   {
    "duration": 12,
    "start_time": "2022-02-27T07:29:16.410Z"
   },
   {
    "duration": 18,
    "start_time": "2022-02-27T07:29:16.424Z"
   },
   {
    "duration": 12,
    "start_time": "2022-02-27T07:29:16.444Z"
   },
   {
    "duration": 30,
    "start_time": "2022-02-27T07:29:16.458Z"
   },
   {
    "duration": 8,
    "start_time": "2022-02-27T07:29:16.490Z"
   },
   {
    "duration": 322,
    "start_time": "2022-02-27T07:29:16.501Z"
   },
   {
    "duration": 323,
    "start_time": "2022-02-27T07:29:16.825Z"
   },
   {
    "duration": -100,
    "start_time": "2022-02-27T07:29:17.250Z"
   },
   {
    "duration": -108,
    "start_time": "2022-02-27T07:29:17.260Z"
   },
   {
    "duration": -110,
    "start_time": "2022-02-27T07:29:17.264Z"
   },
   {
    "duration": -112,
    "start_time": "2022-02-27T07:29:17.267Z"
   },
   {
    "duration": -113,
    "start_time": "2022-02-27T07:29:17.270Z"
   },
   {
    "duration": -115,
    "start_time": "2022-02-27T07:29:17.273Z"
   },
   {
    "duration": -117,
    "start_time": "2022-02-27T07:29:17.277Z"
   },
   {
    "duration": 237,
    "start_time": "2022-02-27T08:11:01.210Z"
   },
   {
    "duration": 907,
    "start_time": "2022-02-27T08:11:19.299Z"
   },
   {
    "duration": 165,
    "start_time": "2022-02-27T08:11:20.208Z"
   },
   {
    "duration": 141,
    "start_time": "2022-02-27T08:11:20.375Z"
   },
   {
    "duration": 90,
    "start_time": "2022-02-27T08:11:20.518Z"
   },
   {
    "duration": 15,
    "start_time": "2022-02-27T08:11:20.609Z"
   },
   {
    "duration": 26,
    "start_time": "2022-02-27T08:11:20.626Z"
   },
   {
    "duration": 798,
    "start_time": "2022-02-27T08:11:20.654Z"
   },
   {
    "duration": 9,
    "start_time": "2022-02-27T08:11:21.454Z"
   },
   {
    "duration": 498,
    "start_time": "2022-02-27T08:11:21.465Z"
   },
   {
    "duration": 42,
    "start_time": "2022-02-27T08:11:21.965Z"
   },
   {
    "duration": 162,
    "start_time": "2022-02-27T08:11:22.009Z"
   },
   {
    "duration": 153,
    "start_time": "2022-02-27T08:11:22.173Z"
   },
   {
    "duration": 145,
    "start_time": "2022-02-27T08:11:22.328Z"
   },
   {
    "duration": 18,
    "start_time": "2022-02-27T08:11:22.475Z"
   },
   {
    "duration": 15,
    "start_time": "2022-02-27T08:11:22.494Z"
   },
   {
    "duration": 17,
    "start_time": "2022-02-27T08:11:22.511Z"
   },
   {
    "duration": 71,
    "start_time": "2022-02-27T08:11:22.530Z"
   },
   {
    "duration": 20,
    "start_time": "2022-02-27T08:11:22.602Z"
   },
   {
    "duration": 112,
    "start_time": "2022-02-27T08:11:22.624Z"
   },
   {
    "duration": 6,
    "start_time": "2022-02-27T08:11:22.738Z"
   },
   {
    "duration": 17,
    "start_time": "2022-02-27T08:11:22.746Z"
   },
   {
    "duration": 10,
    "start_time": "2022-02-27T08:11:22.765Z"
   },
   {
    "duration": 6,
    "start_time": "2022-02-27T08:11:22.777Z"
   },
   {
    "duration": 7,
    "start_time": "2022-02-27T08:11:22.785Z"
   },
   {
    "duration": 7,
    "start_time": "2022-02-27T08:11:22.794Z"
   },
   {
    "duration": 6,
    "start_time": "2022-02-27T08:11:22.803Z"
   },
   {
    "duration": 356,
    "start_time": "2022-02-27T08:11:22.813Z"
   },
   {
    "duration": 9,
    "start_time": "2022-02-27T08:11:23.171Z"
   },
   {
    "duration": 5,
    "start_time": "2022-02-27T08:11:23.182Z"
   },
   {
    "duration": 5,
    "start_time": "2022-02-27T08:11:23.188Z"
   },
   {
    "duration": 7,
    "start_time": "2022-02-27T08:11:23.194Z"
   },
   {
    "duration": 233,
    "start_time": "2022-02-27T08:11:23.203Z"
   },
   {
    "duration": 10,
    "start_time": "2022-02-27T08:11:23.438Z"
   },
   {
    "duration": 16,
    "start_time": "2022-02-27T08:11:23.449Z"
   },
   {
    "duration": 5,
    "start_time": "2022-02-27T08:11:23.466Z"
   },
   {
    "duration": 206,
    "start_time": "2022-02-27T08:11:23.472Z"
   },
   {
    "duration": 8,
    "start_time": "2022-02-27T08:11:23.680Z"
   },
   {
    "duration": 7,
    "start_time": "2022-02-27T08:11:23.690Z"
   },
   {
    "duration": 6,
    "start_time": "2022-02-27T08:11:23.699Z"
   },
   {
    "duration": 9,
    "start_time": "2022-02-27T08:11:23.706Z"
   },
   {
    "duration": 5,
    "start_time": "2022-02-27T08:11:23.717Z"
   },
   {
    "duration": 8,
    "start_time": "2022-02-27T08:11:23.723Z"
   },
   {
    "duration": 198,
    "start_time": "2022-02-27T08:11:23.764Z"
   },
   {
    "duration": 286,
    "start_time": "2022-02-27T08:11:23.964Z"
   },
   {
    "duration": -101,
    "start_time": "2022-02-27T08:11:24.353Z"
   },
   {
    "duration": -103,
    "start_time": "2022-02-27T08:11:24.356Z"
   },
   {
    "duration": -105,
    "start_time": "2022-02-27T08:11:24.359Z"
   },
   {
    "duration": -107,
    "start_time": "2022-02-27T08:11:24.362Z"
   },
   {
    "duration": -111,
    "start_time": "2022-02-27T08:11:24.367Z"
   },
   {
    "duration": -113,
    "start_time": "2022-02-27T08:11:24.370Z"
   },
   {
    "duration": -121,
    "start_time": "2022-02-27T08:11:24.379Z"
   },
   {
    "duration": 12,
    "start_time": "2022-02-27T08:12:20.696Z"
   },
   {
    "duration": 177,
    "start_time": "2022-02-27T08:15:41.350Z"
   },
   {
    "duration": 203,
    "start_time": "2022-02-27T08:18:59.047Z"
   },
   {
    "duration": 233,
    "start_time": "2022-02-27T08:19:14.570Z"
   },
   {
    "duration": 16,
    "start_time": "2022-02-27T08:19:29.775Z"
   },
   {
    "duration": 28,
    "start_time": "2022-02-27T08:20:23.035Z"
   },
   {
    "duration": 245,
    "start_time": "2022-02-27T08:22:05.669Z"
   },
   {
    "duration": 188,
    "start_time": "2022-02-27T08:22:16.995Z"
   },
   {
    "duration": 26,
    "start_time": "2022-02-27T08:22:28.054Z"
   },
   {
    "duration": 232,
    "start_time": "2022-02-27T08:23:05.933Z"
   },
   {
    "duration": 16,
    "start_time": "2022-02-27T08:23:11.109Z"
   },
   {
    "duration": 9,
    "start_time": "2022-02-27T08:23:25.454Z"
   },
   {
    "duration": 3,
    "start_time": "2022-02-27T08:25:51.760Z"
   },
   {
    "duration": 7,
    "start_time": "2022-02-27T08:25:52.247Z"
   },
   {
    "duration": 6,
    "start_time": "2022-02-27T08:26:47.902Z"
   },
   {
    "duration": 7,
    "start_time": "2022-02-27T08:26:48.010Z"
   },
   {
    "duration": 933,
    "start_time": "2022-02-28T03:40:46.527Z"
   },
   {
    "duration": 164,
    "start_time": "2022-02-28T03:40:47.462Z"
   },
   {
    "duration": 150,
    "start_time": "2022-02-28T03:40:47.628Z"
   },
   {
    "duration": 92,
    "start_time": "2022-02-28T03:40:47.780Z"
   },
   {
    "duration": 15,
    "start_time": "2022-02-28T03:40:47.873Z"
   },
   {
    "duration": 28,
    "start_time": "2022-02-28T03:40:47.890Z"
   },
   {
    "duration": 832,
    "start_time": "2022-02-28T03:40:47.920Z"
   },
   {
    "duration": 3,
    "start_time": "2022-02-28T03:40:48.753Z"
   },
   {
    "duration": 497,
    "start_time": "2022-02-28T03:40:48.758Z"
   },
   {
    "duration": 38,
    "start_time": "2022-02-28T03:40:49.257Z"
   },
   {
    "duration": 168,
    "start_time": "2022-02-28T03:40:49.297Z"
   },
   {
    "duration": 149,
    "start_time": "2022-02-28T03:40:49.467Z"
   },
   {
    "duration": 139,
    "start_time": "2022-02-28T03:40:49.618Z"
   },
   {
    "duration": 15,
    "start_time": "2022-02-28T03:40:49.759Z"
   },
   {
    "duration": 13,
    "start_time": "2022-02-28T03:40:49.776Z"
   },
   {
    "duration": 44,
    "start_time": "2022-02-28T03:40:49.790Z"
   },
   {
    "duration": 39,
    "start_time": "2022-02-28T03:40:49.835Z"
   },
   {
    "duration": 19,
    "start_time": "2022-02-28T03:40:49.875Z"
   },
   {
    "duration": 119,
    "start_time": "2022-02-28T03:40:49.895Z"
   },
   {
    "duration": 6,
    "start_time": "2022-02-28T03:40:50.016Z"
   },
   {
    "duration": 16,
    "start_time": "2022-02-28T03:40:50.023Z"
   },
   {
    "duration": 4,
    "start_time": "2022-02-28T03:40:50.040Z"
   },
   {
    "duration": 7,
    "start_time": "2022-02-28T03:40:50.045Z"
   },
   {
    "duration": 5,
    "start_time": "2022-02-28T03:40:50.054Z"
   },
   {
    "duration": 6,
    "start_time": "2022-02-28T03:40:50.061Z"
   },
   {
    "duration": 339,
    "start_time": "2022-02-28T03:40:50.069Z"
   },
   {
    "duration": 9,
    "start_time": "2022-02-28T03:40:50.411Z"
   },
   {
    "duration": 4,
    "start_time": "2022-02-28T03:40:50.434Z"
   },
   {
    "duration": 11,
    "start_time": "2022-02-28T03:40:50.439Z"
   },
   {
    "duration": 9,
    "start_time": "2022-02-28T03:40:50.452Z"
   },
   {
    "duration": 207,
    "start_time": "2022-02-28T03:40:50.462Z"
   },
   {
    "duration": 8,
    "start_time": "2022-02-28T03:40:50.671Z"
   },
   {
    "duration": 13,
    "start_time": "2022-02-28T03:40:50.681Z"
   },
   {
    "duration": 7,
    "start_time": "2022-02-28T03:40:50.695Z"
   },
   {
    "duration": 203,
    "start_time": "2022-02-28T03:40:50.703Z"
   },
   {
    "duration": 8,
    "start_time": "2022-02-28T03:40:50.907Z"
   },
   {
    "duration": 4,
    "start_time": "2022-02-28T03:40:50.933Z"
   },
   {
    "duration": 7,
    "start_time": "2022-02-28T03:40:50.938Z"
   },
   {
    "duration": 187,
    "start_time": "2022-02-28T03:40:50.947Z"
   },
   {
    "duration": 9,
    "start_time": "2022-02-28T03:40:51.136Z"
   },
   {
    "duration": 16,
    "start_time": "2022-02-28T03:40:51.146Z"
   },
   {
    "duration": 7,
    "start_time": "2022-02-28T03:40:51.164Z"
   },
   {
    "duration": 7,
    "start_time": "2022-02-28T03:40:51.172Z"
   },
   {
    "duration": 217,
    "start_time": "2022-02-28T03:40:51.181Z"
   },
   {
    "duration": 285,
    "start_time": "2022-02-28T03:40:51.400Z"
   },
   {
    "duration": -977,
    "start_time": "2022-02-28T03:40:52.664Z"
   },
   {
    "duration": -980,
    "start_time": "2022-02-28T03:40:52.668Z"
   },
   {
    "duration": -984,
    "start_time": "2022-02-28T03:40:52.673Z"
   },
   {
    "duration": -988,
    "start_time": "2022-02-28T03:40:52.678Z"
   },
   {
    "duration": -992,
    "start_time": "2022-02-28T03:40:52.682Z"
   },
   {
    "duration": -995,
    "start_time": "2022-02-28T03:40:52.686Z"
   },
   {
    "duration": -998,
    "start_time": "2022-02-28T03:40:52.690Z"
   },
   {
    "duration": 262,
    "start_time": "2022-02-28T16:16:05.957Z"
   },
   {
    "duration": 967,
    "start_time": "2022-02-28T16:16:10.136Z"
   },
   {
    "duration": 159,
    "start_time": "2022-02-28T16:16:11.697Z"
   },
   {
    "duration": 165,
    "start_time": "2022-02-28T16:17:06.231Z"
   },
   {
    "duration": 162,
    "start_time": "2022-02-28T16:17:13.640Z"
   },
   {
    "duration": 250,
    "start_time": "2022-02-28T16:18:37.361Z"
   },
   {
    "duration": 1121,
    "start_time": "2022-02-28T16:18:45.089Z"
   },
   {
    "duration": 172,
    "start_time": "2022-02-28T16:18:46.212Z"
   },
   {
    "duration": 138,
    "start_time": "2022-02-28T16:18:46.386Z"
   },
   {
    "duration": 93,
    "start_time": "2022-02-28T16:18:46.526Z"
   },
   {
    "duration": 16,
    "start_time": "2022-02-28T16:18:46.621Z"
   },
   {
    "duration": 31,
    "start_time": "2022-02-28T16:18:46.639Z"
   },
   {
    "duration": 848,
    "start_time": "2022-02-28T16:18:46.671Z"
   },
   {
    "duration": 2,
    "start_time": "2022-02-28T16:18:47.522Z"
   },
   {
    "duration": 503,
    "start_time": "2022-02-28T16:18:47.526Z"
   },
   {
    "duration": 50,
    "start_time": "2022-02-28T16:18:48.030Z"
   },
   {
    "duration": 160,
    "start_time": "2022-02-28T16:18:48.082Z"
   },
   {
    "duration": 66,
    "start_time": "2022-02-28T16:18:48.243Z"
   },
   {
    "duration": -40,
    "start_time": "2022-02-28T16:18:48.352Z"
   },
   {
    "duration": -48,
    "start_time": "2022-02-28T16:18:48.361Z"
   },
   {
    "duration": -50,
    "start_time": "2022-02-28T16:18:48.364Z"
   },
   {
    "duration": -51,
    "start_time": "2022-02-28T16:18:48.366Z"
   },
   {
    "duration": -53,
    "start_time": "2022-02-28T16:18:48.368Z"
   },
   {
    "duration": -59,
    "start_time": "2022-02-28T16:18:48.375Z"
   },
   {
    "duration": -60,
    "start_time": "2022-02-28T16:18:48.377Z"
   },
   {
    "duration": -61,
    "start_time": "2022-02-28T16:18:48.379Z"
   },
   {
    "duration": -92,
    "start_time": "2022-02-28T16:18:48.411Z"
   },
   {
    "duration": -93,
    "start_time": "2022-02-28T16:18:48.413Z"
   },
   {
    "duration": -94,
    "start_time": "2022-02-28T16:18:48.415Z"
   },
   {
    "duration": -95,
    "start_time": "2022-02-28T16:18:48.417Z"
   },
   {
    "duration": -97,
    "start_time": "2022-02-28T16:18:48.420Z"
   },
   {
    "duration": -104,
    "start_time": "2022-02-28T16:18:48.428Z"
   },
   {
    "duration": -106,
    "start_time": "2022-02-28T16:18:48.431Z"
   },
   {
    "duration": -107,
    "start_time": "2022-02-28T16:18:48.433Z"
   },
   {
    "duration": -108,
    "start_time": "2022-02-28T16:18:48.435Z"
   },
   {
    "duration": -110,
    "start_time": "2022-02-28T16:18:48.437Z"
   },
   {
    "duration": -118,
    "start_time": "2022-02-28T16:18:48.446Z"
   },
   {
    "duration": -119,
    "start_time": "2022-02-28T16:18:48.448Z"
   },
   {
    "duration": -120,
    "start_time": "2022-02-28T16:18:48.450Z"
   },
   {
    "duration": -121,
    "start_time": "2022-02-28T16:18:48.452Z"
   },
   {
    "duration": -128,
    "start_time": "2022-02-28T16:18:48.460Z"
   },
   {
    "duration": -129,
    "start_time": "2022-02-28T16:18:48.462Z"
   },
   {
    "duration": -131,
    "start_time": "2022-02-28T16:18:48.465Z"
   },
   {
    "duration": -132,
    "start_time": "2022-02-28T16:18:48.467Z"
   },
   {
    "duration": -133,
    "start_time": "2022-02-28T16:18:48.469Z"
   },
   {
    "duration": -140,
    "start_time": "2022-02-28T16:18:48.477Z"
   },
   {
    "duration": -141,
    "start_time": "2022-02-28T16:18:48.479Z"
   },
   {
    "duration": -142,
    "start_time": "2022-02-28T16:18:48.481Z"
   },
   {
    "duration": -144,
    "start_time": "2022-02-28T16:18:48.484Z"
   },
   {
    "duration": -145,
    "start_time": "2022-02-28T16:18:48.486Z"
   },
   {
    "duration": -154,
    "start_time": "2022-02-28T16:18:48.495Z"
   },
   {
    "duration": -154,
    "start_time": "2022-02-28T16:18:48.497Z"
   },
   {
    "duration": -155,
    "start_time": "2022-02-28T16:18:48.499Z"
   },
   {
    "duration": -157,
    "start_time": "2022-02-28T16:18:48.501Z"
   },
   {
    "duration": -158,
    "start_time": "2022-02-28T16:18:48.504Z"
   },
   {
    "duration": -166,
    "start_time": "2022-02-28T16:18:48.512Z"
   },
   {
    "duration": -167,
    "start_time": "2022-02-28T16:18:48.514Z"
   },
   {
    "duration": -168,
    "start_time": "2022-02-28T16:18:48.516Z"
   },
   {
    "duration": -170,
    "start_time": "2022-02-28T16:18:48.519Z"
   },
   {
    "duration": 18,
    "start_time": "2022-02-28T16:18:59.538Z"
   },
   {
    "duration": 83,
    "start_time": "2022-02-28T16:19:35.832Z"
   },
   {
    "duration": 312,
    "start_time": "2022-02-28T16:21:10.504Z"
   },
   {
    "duration": 271,
    "start_time": "2022-02-28T16:37:29.675Z"
   },
   {
    "duration": 220,
    "start_time": "2022-02-28T16:37:49.473Z"
   },
   {
    "duration": 211,
    "start_time": "2022-02-28T16:39:55.202Z"
   },
   {
    "duration": 109,
    "start_time": "2022-02-28T16:40:02.381Z"
   },
   {
    "duration": 221,
    "start_time": "2022-02-28T16:40:05.251Z"
   },
   {
    "duration": 97,
    "start_time": "2022-02-28T16:43:34.839Z"
   },
   {
    "duration": 203,
    "start_time": "2022-02-28T16:43:49.199Z"
   },
   {
    "duration": 18,
    "start_time": "2022-02-28T16:44:01.828Z"
   },
   {
    "duration": 12,
    "start_time": "2022-02-28T16:45:39.152Z"
   },
   {
    "duration": 8,
    "start_time": "2022-02-28T16:45:49.031Z"
   },
   {
    "duration": 13,
    "start_time": "2022-02-28T16:45:53.684Z"
   },
   {
    "duration": 17,
    "start_time": "2022-02-28T16:46:00.753Z"
   },
   {
    "duration": 271,
    "start_time": "2022-02-28T16:46:19.901Z"
   },
   {
    "duration": 971,
    "start_time": "2022-02-28T16:46:26.826Z"
   },
   {
    "duration": 160,
    "start_time": "2022-02-28T16:46:27.799Z"
   },
   {
    "duration": 133,
    "start_time": "2022-02-28T16:46:27.961Z"
   },
   {
    "duration": 88,
    "start_time": "2022-02-28T16:46:28.096Z"
   },
   {
    "duration": 15,
    "start_time": "2022-02-28T16:46:28.185Z"
   },
   {
    "duration": 25,
    "start_time": "2022-02-28T16:46:28.201Z"
   },
   {
    "duration": 811,
    "start_time": "2022-02-28T16:46:28.228Z"
   },
   {
    "duration": 3,
    "start_time": "2022-02-28T16:46:29.041Z"
   },
   {
    "duration": 480,
    "start_time": "2022-02-28T16:46:29.046Z"
   },
   {
    "duration": 51,
    "start_time": "2022-02-28T16:46:29.529Z"
   },
   {
    "duration": 155,
    "start_time": "2022-02-28T16:46:29.582Z"
   },
   {
    "duration": 156,
    "start_time": "2022-02-28T16:46:29.738Z"
   },
   {
    "duration": 146,
    "start_time": "2022-02-28T16:46:29.895Z"
   },
   {
    "duration": 302,
    "start_time": "2022-02-28T16:46:30.042Z"
   },
   {
    "duration": -34,
    "start_time": "2022-02-28T16:46:30.382Z"
   },
   {
    "duration": -65,
    "start_time": "2022-02-28T16:46:30.413Z"
   },
   {
    "duration": -66,
    "start_time": "2022-02-28T16:46:30.415Z"
   },
   {
    "duration": -67,
    "start_time": "2022-02-28T16:46:30.417Z"
   },
   {
    "duration": -68,
    "start_time": "2022-02-28T16:46:30.419Z"
   },
   {
    "duration": -70,
    "start_time": "2022-02-28T16:46:30.422Z"
   },
   {
    "duration": -70,
    "start_time": "2022-02-28T16:46:30.423Z"
   },
   {
    "duration": -72,
    "start_time": "2022-02-28T16:46:30.426Z"
   },
   {
    "duration": -73,
    "start_time": "2022-02-28T16:46:30.428Z"
   },
   {
    "duration": -75,
    "start_time": "2022-02-28T16:46:30.431Z"
   },
   {
    "duration": -76,
    "start_time": "2022-02-28T16:46:30.433Z"
   },
   {
    "duration": -78,
    "start_time": "2022-02-28T16:46:30.436Z"
   },
   {
    "duration": -79,
    "start_time": "2022-02-28T16:46:30.438Z"
   },
   {
    "duration": -81,
    "start_time": "2022-02-28T16:46:30.440Z"
   },
   {
    "duration": -82,
    "start_time": "2022-02-28T16:46:30.442Z"
   },
   {
    "duration": -83,
    "start_time": "2022-02-28T16:46:30.444Z"
   },
   {
    "duration": -84,
    "start_time": "2022-02-28T16:46:30.446Z"
   },
   {
    "duration": -85,
    "start_time": "2022-02-28T16:46:30.448Z"
   },
   {
    "duration": -86,
    "start_time": "2022-02-28T16:46:30.450Z"
   },
   {
    "duration": -87,
    "start_time": "2022-02-28T16:46:30.452Z"
   },
   {
    "duration": -88,
    "start_time": "2022-02-28T16:46:30.454Z"
   },
   {
    "duration": -89,
    "start_time": "2022-02-28T16:46:30.456Z"
   },
   {
    "duration": -96,
    "start_time": "2022-02-28T16:46:30.464Z"
   },
   {
    "duration": -97,
    "start_time": "2022-02-28T16:46:30.466Z"
   },
   {
    "duration": -98,
    "start_time": "2022-02-28T16:46:30.468Z"
   },
   {
    "duration": -100,
    "start_time": "2022-02-28T16:46:30.471Z"
   },
   {
    "duration": -100,
    "start_time": "2022-02-28T16:46:30.473Z"
   },
   {
    "duration": -101,
    "start_time": "2022-02-28T16:46:30.475Z"
   },
   {
    "duration": -102,
    "start_time": "2022-02-28T16:46:30.477Z"
   },
   {
    "duration": -103,
    "start_time": "2022-02-28T16:46:30.479Z"
   },
   {
    "duration": -104,
    "start_time": "2022-02-28T16:46:30.481Z"
   },
   {
    "duration": -105,
    "start_time": "2022-02-28T16:46:30.483Z"
   },
   {
    "duration": -107,
    "start_time": "2022-02-28T16:46:30.486Z"
   },
   {
    "duration": -108,
    "start_time": "2022-02-28T16:46:30.488Z"
   },
   {
    "duration": -110,
    "start_time": "2022-02-28T16:46:30.491Z"
   },
   {
    "duration": -111,
    "start_time": "2022-02-28T16:46:30.493Z"
   },
   {
    "duration": -111,
    "start_time": "2022-02-28T16:46:30.495Z"
   },
   {
    "duration": -112,
    "start_time": "2022-02-28T16:46:30.497Z"
   },
   {
    "duration": -113,
    "start_time": "2022-02-28T16:46:30.499Z"
   },
   {
    "duration": 896,
    "start_time": "2022-02-28T16:48:02.315Z"
   },
   {
    "duration": 169,
    "start_time": "2022-02-28T16:48:03.213Z"
   },
   {
    "duration": 149,
    "start_time": "2022-02-28T16:48:03.384Z"
   },
   {
    "duration": 90,
    "start_time": "2022-02-28T16:48:03.534Z"
   },
   {
    "duration": 15,
    "start_time": "2022-02-28T16:48:03.626Z"
   },
   {
    "duration": 26,
    "start_time": "2022-02-28T16:48:03.643Z"
   },
   {
    "duration": 856,
    "start_time": "2022-02-28T16:48:03.670Z"
   },
   {
    "duration": 3,
    "start_time": "2022-02-28T16:48:04.528Z"
   },
   {
    "duration": 519,
    "start_time": "2022-02-28T16:48:04.534Z"
   },
   {
    "duration": 46,
    "start_time": "2022-02-28T16:48:05.055Z"
   },
   {
    "duration": 165,
    "start_time": "2022-02-28T16:48:05.103Z"
   },
   {
    "duration": 214,
    "start_time": "2022-02-28T16:48:05.270Z"
   },
   {
    "duration": 295,
    "start_time": "2022-02-28T16:48:05.485Z"
   },
   {
    "duration": 286,
    "start_time": "2022-02-28T16:48:05.782Z"
   },
   {
    "duration": -41,
    "start_time": "2022-02-28T16:48:06.113Z"
   },
   {
    "duration": -42,
    "start_time": "2022-02-28T16:48:06.115Z"
   },
   {
    "duration": -43,
    "start_time": "2022-02-28T16:48:06.117Z"
   },
   {
    "duration": -44,
    "start_time": "2022-02-28T16:48:06.119Z"
   },
   {
    "duration": -46,
    "start_time": "2022-02-28T16:48:06.121Z"
   },
   {
    "duration": -47,
    "start_time": "2022-02-28T16:48:06.123Z"
   },
   {
    "duration": -48,
    "start_time": "2022-02-28T16:48:06.125Z"
   },
   {
    "duration": -48,
    "start_time": "2022-02-28T16:48:06.126Z"
   },
   {
    "duration": -49,
    "start_time": "2022-02-28T16:48:06.128Z"
   },
   {
    "duration": -56,
    "start_time": "2022-02-28T16:48:06.136Z"
   },
   {
    "duration": -66,
    "start_time": "2022-02-28T16:48:06.147Z"
   },
   {
    "duration": -68,
    "start_time": "2022-02-28T16:48:06.150Z"
   },
   {
    "duration": -69,
    "start_time": "2022-02-28T16:48:06.152Z"
   },
   {
    "duration": -70,
    "start_time": "2022-02-28T16:48:06.154Z"
   },
   {
    "duration": -70,
    "start_time": "2022-02-28T16:48:06.155Z"
   },
   {
    "duration": -71,
    "start_time": "2022-02-28T16:48:06.157Z"
   },
   {
    "duration": -72,
    "start_time": "2022-02-28T16:48:06.159Z"
   },
   {
    "duration": -73,
    "start_time": "2022-02-28T16:48:06.161Z"
   },
   {
    "duration": -74,
    "start_time": "2022-02-28T16:48:06.163Z"
   },
   {
    "duration": -75,
    "start_time": "2022-02-28T16:48:06.165Z"
   },
   {
    "duration": -82,
    "start_time": "2022-02-28T16:48:06.173Z"
   },
   {
    "duration": -83,
    "start_time": "2022-02-28T16:48:06.175Z"
   },
   {
    "duration": -98,
    "start_time": "2022-02-28T16:48:06.191Z"
   },
   {
    "duration": -99,
    "start_time": "2022-02-28T16:48:06.193Z"
   },
   {
    "duration": -100,
    "start_time": "2022-02-28T16:48:06.195Z"
   },
   {
    "duration": -101,
    "start_time": "2022-02-28T16:48:06.197Z"
   },
   {
    "duration": -103,
    "start_time": "2022-02-28T16:48:06.199Z"
   },
   {
    "duration": -104,
    "start_time": "2022-02-28T16:48:06.201Z"
   },
   {
    "duration": -105,
    "start_time": "2022-02-28T16:48:06.203Z"
   },
   {
    "duration": -106,
    "start_time": "2022-02-28T16:48:06.205Z"
   },
   {
    "duration": -110,
    "start_time": "2022-02-28T16:48:06.210Z"
   },
   {
    "duration": -118,
    "start_time": "2022-02-28T16:48:06.219Z"
   },
   {
    "duration": -120,
    "start_time": "2022-02-28T16:48:06.222Z"
   },
   {
    "duration": -121,
    "start_time": "2022-02-28T16:48:06.224Z"
   },
   {
    "duration": -121,
    "start_time": "2022-02-28T16:48:06.225Z"
   },
   {
    "duration": -122,
    "start_time": "2022-02-28T16:48:06.227Z"
   },
   {
    "duration": -123,
    "start_time": "2022-02-28T16:48:06.229Z"
   },
   {
    "duration": -124,
    "start_time": "2022-02-28T16:48:06.231Z"
   },
   {
    "duration": -125,
    "start_time": "2022-02-28T16:48:06.233Z"
   },
   {
    "duration": 9,
    "start_time": "2022-02-28T16:48:13.130Z"
   },
   {
    "duration": 16,
    "start_time": "2022-02-28T16:48:15.499Z"
   },
   {
    "duration": 5,
    "start_time": "2022-02-28T16:48:17.233Z"
   },
   {
    "duration": 5,
    "start_time": "2022-02-28T16:48:18.087Z"
   },
   {
    "duration": 310,
    "start_time": "2022-02-28T16:48:18.947Z"
   },
   {
    "duration": 198,
    "start_time": "2022-02-28T16:48:21.891Z"
   },
   {
    "duration": 203,
    "start_time": "2022-02-28T16:48:39.673Z"
   },
   {
    "duration": 19,
    "start_time": "2022-02-28T16:48:44.394Z"
   },
   {
    "duration": 215,
    "start_time": "2022-02-28T16:48:46.839Z"
   },
   {
    "duration": 16,
    "start_time": "2022-02-28T16:48:52.407Z"
   },
   {
    "duration": 220,
    "start_time": "2022-02-28T16:48:55.712Z"
   },
   {
    "duration": 284,
    "start_time": "2022-02-28T16:49:07.659Z"
   },
   {
    "duration": 206,
    "start_time": "2022-02-28T16:49:22.984Z"
   },
   {
    "duration": 650,
    "start_time": "2022-02-28T16:49:42.701Z"
   },
   {
    "duration": 207,
    "start_time": "2022-02-28T16:49:58.384Z"
   },
   {
    "duration": 211,
    "start_time": "2022-02-28T16:50:23.339Z"
   },
   {
    "duration": 6,
    "start_time": "2022-02-28T16:50:27.971Z"
   },
   {
    "duration": 14,
    "start_time": "2022-02-28T16:50:39.734Z"
   },
   {
    "duration": 11,
    "start_time": "2022-02-28T16:51:22.464Z"
   },
   {
    "duration": 228,
    "start_time": "2022-02-28T16:51:29.805Z"
   },
   {
    "duration": 76,
    "start_time": "2022-02-28T16:51:43.021Z"
   },
   {
    "duration": 10,
    "start_time": "2022-02-28T16:51:48.547Z"
   },
   {
    "duration": 12,
    "start_time": "2022-02-28T16:52:15.012Z"
   },
   {
    "duration": 12,
    "start_time": "2022-02-28T16:53:18.334Z"
   },
   {
    "duration": 11,
    "start_time": "2022-02-28T16:53:52.267Z"
   },
   {
    "duration": 212,
    "start_time": "2022-02-28T16:54:20.692Z"
   },
   {
    "duration": 14,
    "start_time": "2022-02-28T16:55:02.062Z"
   },
   {
    "duration": 202,
    "start_time": "2022-02-28T16:55:36.229Z"
   },
   {
    "duration": 17,
    "start_time": "2022-02-28T16:55:49.413Z"
   },
   {
    "duration": 11,
    "start_time": "2022-02-28T16:56:09.508Z"
   },
   {
    "duration": 233,
    "start_time": "2022-02-28T16:57:01.059Z"
   },
   {
    "duration": 13,
    "start_time": "2022-02-28T16:57:18.568Z"
   },
   {
    "duration": 282,
    "start_time": "2022-02-28T16:57:39.007Z"
   },
   {
    "duration": 11,
    "start_time": "2022-02-28T16:57:44.681Z"
   },
   {
    "duration": 44,
    "start_time": "2022-02-28T16:58:31.391Z"
   },
   {
    "duration": 16,
    "start_time": "2022-02-28T16:59:38.195Z"
   },
   {
    "duration": 42,
    "start_time": "2022-02-28T17:01:05.855Z"
   },
   {
    "duration": 36,
    "start_time": "2022-02-28T17:01:11.538Z"
   },
   {
    "duration": 28,
    "start_time": "2022-02-28T17:03:53.089Z"
   },
   {
    "duration": 44,
    "start_time": "2022-02-28T17:04:14.927Z"
   },
   {
    "duration": 66,
    "start_time": "2022-02-28T17:06:12.475Z"
   },
   {
    "duration": 248,
    "start_time": "2022-02-28T17:06:35.688Z"
   },
   {
    "duration": 93,
    "start_time": "2022-02-28T17:06:38.522Z"
   },
   {
    "duration": 35,
    "start_time": "2022-02-28T17:09:03.869Z"
   },
   {
    "duration": 237,
    "start_time": "2022-02-28T17:09:10.539Z"
   },
   {
    "duration": 25,
    "start_time": "2022-02-28T17:09:15.912Z"
   },
   {
    "duration": 935,
    "start_time": "2022-02-28T17:09:28.676Z"
   },
   {
    "duration": 185,
    "start_time": "2022-02-28T17:09:29.613Z"
   },
   {
    "duration": 150,
    "start_time": "2022-02-28T17:09:29.800Z"
   },
   {
    "duration": 97,
    "start_time": "2022-02-28T17:09:29.952Z"
   },
   {
    "duration": 18,
    "start_time": "2022-02-28T17:09:30.051Z"
   },
   {
    "duration": 23,
    "start_time": "2022-02-28T17:09:30.071Z"
   },
   {
    "duration": 882,
    "start_time": "2022-02-28T17:09:30.096Z"
   },
   {
    "duration": 3,
    "start_time": "2022-02-28T17:09:30.980Z"
   },
   {
    "duration": 528,
    "start_time": "2022-02-28T17:09:30.985Z"
   },
   {
    "duration": 52,
    "start_time": "2022-02-28T17:09:31.516Z"
   },
   {
    "duration": 165,
    "start_time": "2022-02-28T17:09:31.569Z"
   },
   {
    "duration": 160,
    "start_time": "2022-02-28T17:09:31.736Z"
   },
   {
    "duration": 150,
    "start_time": "2022-02-28T17:09:31.897Z"
   },
   {
    "duration": 25,
    "start_time": "2022-02-28T17:09:32.048Z"
   },
   {
    "duration": 15,
    "start_time": "2022-02-28T17:09:32.075Z"
   },
   {
    "duration": 16,
    "start_time": "2022-02-28T17:09:32.092Z"
   },
   {
    "duration": 65,
    "start_time": "2022-02-28T17:09:32.110Z"
   },
   {
    "duration": 36,
    "start_time": "2022-02-28T17:09:32.178Z"
   },
   {
    "duration": 115,
    "start_time": "2022-02-28T17:09:32.216Z"
   },
   {
    "duration": 6,
    "start_time": "2022-02-28T17:09:32.334Z"
   },
   {
    "duration": 28,
    "start_time": "2022-02-28T17:09:32.342Z"
   },
   {
    "duration": 21,
    "start_time": "2022-02-28T17:09:32.371Z"
   },
   {
    "duration": 10,
    "start_time": "2022-02-28T17:09:32.396Z"
   },
   {
    "duration": 24,
    "start_time": "2022-02-28T17:09:32.408Z"
   },
   {
    "duration": 15,
    "start_time": "2022-02-28T17:09:32.434Z"
   },
   {
    "duration": 340,
    "start_time": "2022-02-28T17:09:32.450Z"
   },
   {
    "duration": 10,
    "start_time": "2022-02-28T17:09:32.792Z"
   },
   {
    "duration": 5,
    "start_time": "2022-02-28T17:09:32.804Z"
   },
   {
    "duration": 5,
    "start_time": "2022-02-28T17:09:32.811Z"
   },
   {
    "duration": 10,
    "start_time": "2022-02-28T17:09:32.818Z"
   },
   {
    "duration": 234,
    "start_time": "2022-02-28T17:09:32.829Z"
   },
   {
    "duration": 9,
    "start_time": "2022-02-28T17:09:33.065Z"
   },
   {
    "duration": 9,
    "start_time": "2022-02-28T17:09:33.076Z"
   },
   {
    "duration": 12,
    "start_time": "2022-02-28T17:09:33.086Z"
   },
   {
    "duration": 215,
    "start_time": "2022-02-28T17:09:33.099Z"
   },
   {
    "duration": 9,
    "start_time": "2022-02-28T17:09:33.316Z"
   },
   {
    "duration": 6,
    "start_time": "2022-02-28T17:09:33.326Z"
   },
   {
    "duration": 6,
    "start_time": "2022-02-28T17:09:33.333Z"
   },
   {
    "duration": 207,
    "start_time": "2022-02-28T17:09:33.341Z"
   },
   {
    "duration": 15,
    "start_time": "2022-02-28T17:09:33.549Z"
   },
   {
    "duration": 15,
    "start_time": "2022-02-28T17:09:33.566Z"
   },
   {
    "duration": 4,
    "start_time": "2022-02-28T17:09:33.583Z"
   },
   {
    "duration": 9,
    "start_time": "2022-02-28T17:09:33.589Z"
   },
   {
    "duration": 220,
    "start_time": "2022-02-28T17:09:33.600Z"
   },
   {
    "duration": 283,
    "start_time": "2022-02-28T17:09:33.822Z"
   },
   {
    "duration": -25,
    "start_time": "2022-02-28T17:09:34.132Z"
   },
   {
    "duration": -27,
    "start_time": "2022-02-28T17:09:34.135Z"
   },
   {
    "duration": -60,
    "start_time": "2022-02-28T17:09:34.169Z"
   },
   {
    "duration": -61,
    "start_time": "2022-02-28T17:09:34.171Z"
   },
   {
    "duration": -62,
    "start_time": "2022-02-28T17:09:34.173Z"
   },
   {
    "duration": -63,
    "start_time": "2022-02-28T17:09:34.175Z"
   },
   {
    "duration": -65,
    "start_time": "2022-02-28T17:09:34.178Z"
   },
   {
    "duration": 17,
    "start_time": "2022-02-28T17:18:42.680Z"
   },
   {
    "duration": 969,
    "start_time": "2022-02-28T17:19:28.536Z"
   },
   {
    "duration": 170,
    "start_time": "2022-02-28T17:19:29.507Z"
   },
   {
    "duration": 150,
    "start_time": "2022-02-28T17:19:29.679Z"
   },
   {
    "duration": 89,
    "start_time": "2022-02-28T17:19:29.831Z"
   },
   {
    "duration": 16,
    "start_time": "2022-02-28T17:19:29.921Z"
   },
   {
    "duration": 25,
    "start_time": "2022-02-28T17:19:29.938Z"
   },
   {
    "duration": 849,
    "start_time": "2022-02-28T17:19:29.965Z"
   },
   {
    "duration": 3,
    "start_time": "2022-02-28T17:19:30.816Z"
   },
   {
    "duration": 537,
    "start_time": "2022-02-28T17:19:30.822Z"
   },
   {
    "duration": 42,
    "start_time": "2022-02-28T17:19:31.364Z"
   },
   {
    "duration": 171,
    "start_time": "2022-02-28T17:19:31.408Z"
   },
   {
    "duration": 160,
    "start_time": "2022-02-28T17:19:31.581Z"
   },
   {
    "duration": 145,
    "start_time": "2022-02-28T17:19:31.742Z"
   },
   {
    "duration": 18,
    "start_time": "2022-02-28T17:19:31.889Z"
   },
   {
    "duration": 16,
    "start_time": "2022-02-28T17:19:31.909Z"
   },
   {
    "duration": 15,
    "start_time": "2022-02-28T17:19:31.927Z"
   },
   {
    "duration": 43,
    "start_time": "2022-02-28T17:19:31.963Z"
   },
   {
    "duration": 36,
    "start_time": "2022-02-28T17:19:32.008Z"
   },
   {
    "duration": 117,
    "start_time": "2022-02-28T17:19:32.046Z"
   },
   {
    "duration": 6,
    "start_time": "2022-02-28T17:19:32.165Z"
   },
   {
    "duration": 14,
    "start_time": "2022-02-28T17:19:32.173Z"
   },
   {
    "duration": 4,
    "start_time": "2022-02-28T17:19:32.189Z"
   },
   {
    "duration": 10,
    "start_time": "2022-02-28T17:19:32.195Z"
   },
   {
    "duration": 8,
    "start_time": "2022-02-28T17:19:32.207Z"
   },
   {
    "duration": 16,
    "start_time": "2022-02-28T17:19:32.217Z"
   },
   {
    "duration": 348,
    "start_time": "2022-02-28T17:19:32.235Z"
   },
   {
    "duration": 9,
    "start_time": "2022-02-28T17:19:32.587Z"
   },
   {
    "duration": 7,
    "start_time": "2022-02-28T17:19:32.598Z"
   },
   {
    "duration": 8,
    "start_time": "2022-02-28T17:19:32.606Z"
   },
   {
    "duration": 9,
    "start_time": "2022-02-28T17:19:32.616Z"
   },
   {
    "duration": 228,
    "start_time": "2022-02-28T17:19:32.627Z"
   },
   {
    "duration": 10,
    "start_time": "2022-02-28T17:19:32.857Z"
   },
   {
    "duration": 5,
    "start_time": "2022-02-28T17:19:32.869Z"
   },
   {
    "duration": 5,
    "start_time": "2022-02-28T17:19:32.875Z"
   },
   {
    "duration": 221,
    "start_time": "2022-02-28T17:19:32.881Z"
   },
   {
    "duration": 8,
    "start_time": "2022-02-28T17:19:33.104Z"
   },
   {
    "duration": 4,
    "start_time": "2022-02-28T17:19:33.114Z"
   },
   {
    "duration": 5,
    "start_time": "2022-02-28T17:19:33.120Z"
   },
   {
    "duration": 202,
    "start_time": "2022-02-28T17:19:33.127Z"
   },
   {
    "duration": 9,
    "start_time": "2022-02-28T17:19:33.330Z"
   },
   {
    "duration": 27,
    "start_time": "2022-02-28T17:19:33.341Z"
   },
   {
    "duration": 6,
    "start_time": "2022-02-28T17:19:33.369Z"
   },
   {
    "duration": 7,
    "start_time": "2022-02-28T17:19:33.376Z"
   },
   {
    "duration": 208,
    "start_time": "2022-02-28T17:19:33.385Z"
   },
   {
    "duration": 288,
    "start_time": "2022-02-28T17:19:33.595Z"
   },
   {
    "duration": -23,
    "start_time": "2022-02-28T17:19:33.907Z"
   },
   {
    "duration": -24,
    "start_time": "2022-02-28T17:19:33.910Z"
   },
   {
    "duration": -25,
    "start_time": "2022-02-28T17:19:33.912Z"
   },
   {
    "duration": -26,
    "start_time": "2022-02-28T17:19:33.914Z"
   },
   {
    "duration": -27,
    "start_time": "2022-02-28T17:19:33.916Z"
   },
   {
    "duration": -29,
    "start_time": "2022-02-28T17:19:33.918Z"
   },
   {
    "duration": -31,
    "start_time": "2022-02-28T17:19:33.921Z"
   },
   {
    "duration": 20,
    "start_time": "2022-02-28T17:20:31.482Z"
   },
   {
    "duration": 199,
    "start_time": "2022-02-28T17:25:27.765Z"
   },
   {
    "duration": 17,
    "start_time": "2022-02-28T17:25:37.616Z"
   },
   {
    "duration": 14,
    "start_time": "2022-02-28T17:26:10.155Z"
   },
   {
    "duration": 15,
    "start_time": "2022-02-28T17:26:21.757Z"
   },
   {
    "duration": 15,
    "start_time": "2022-02-28T17:27:14.578Z"
   },
   {
    "duration": 25,
    "start_time": "2022-02-28T17:27:21.070Z"
   },
   {
    "duration": 16,
    "start_time": "2022-02-28T17:27:28.559Z"
   },
   {
    "duration": 19,
    "start_time": "2022-02-28T17:27:29.883Z"
   },
   {
    "duration": 51,
    "start_time": "2022-02-28T17:27:31.248Z"
   },
   {
    "duration": 34,
    "start_time": "2022-02-28T17:27:33.285Z"
   },
   {
    "duration": 23,
    "start_time": "2022-02-28T17:28:46.395Z"
   },
   {
    "duration": 24,
    "start_time": "2022-02-28T17:28:48.086Z"
   },
   {
    "duration": 25,
    "start_time": "2022-02-28T17:28:48.623Z"
   },
   {
    "duration": 25,
    "start_time": "2022-02-28T17:28:48.922Z"
   },
   {
    "duration": 22,
    "start_time": "2022-02-28T17:29:12.766Z"
   },
   {
    "duration": 24,
    "start_time": "2022-02-28T17:29:16.964Z"
   },
   {
    "duration": 25,
    "start_time": "2022-02-28T17:29:28.509Z"
   },
   {
    "duration": 98,
    "start_time": "2022-02-28T17:29:36.446Z"
   },
   {
    "duration": 10,
    "start_time": "2022-02-28T17:32:21.350Z"
   },
   {
    "duration": 10,
    "start_time": "2022-02-28T17:47:31.370Z"
   },
   {
    "duration": 198,
    "start_time": "2022-02-28T17:48:21.047Z"
   },
   {
    "duration": 9,
    "start_time": "2022-02-28T17:49:12.888Z"
   },
   {
    "duration": 5,
    "start_time": "2022-02-28T17:49:14.587Z"
   },
   {
    "duration": 4,
    "start_time": "2022-02-28T17:49:15.963Z"
   },
   {
    "duration": 181,
    "start_time": "2022-02-28T17:49:17.530Z"
   },
   {
    "duration": 9,
    "start_time": "2022-02-28T17:57:50.345Z"
   },
   {
    "duration": 397,
    "start_time": "2022-02-28T17:59:53.919Z"
   },
   {
    "duration": 3,
    "start_time": "2022-02-28T18:00:39.158Z"
   },
   {
    "duration": 2,
    "start_time": "2022-02-28T18:00:42.045Z"
   },
   {
    "duration": 207,
    "start_time": "2022-02-28T18:00:53.202Z"
   },
   {
    "duration": 207,
    "start_time": "2022-02-28T18:01:07.937Z"
   },
   {
    "duration": 295,
    "start_time": "2022-02-28T18:01:24.476Z"
   },
   {
    "duration": 198,
    "start_time": "2022-02-28T18:01:49.953Z"
   },
   {
    "duration": 186,
    "start_time": "2022-02-28T18:02:17.182Z"
   },
   {
    "duration": 189,
    "start_time": "2022-02-28T18:02:54.799Z"
   },
   {
    "duration": 193,
    "start_time": "2022-02-28T18:03:03.063Z"
   },
   {
    "duration": 18,
    "start_time": "2022-02-28T18:07:37.369Z"
   },
   {
    "duration": 206,
    "start_time": "2022-02-28T18:12:27.046Z"
   },
   {
    "duration": 3,
    "start_time": "2022-02-28T18:12:30.858Z"
   },
   {
    "duration": 6,
    "start_time": "2022-02-28T18:12:33.199Z"
   },
   {
    "duration": 1173,
    "start_time": "2022-03-02T04:28:00.115Z"
   },
   {
    "duration": 182,
    "start_time": "2022-03-02T04:28:01.290Z"
   },
   {
    "duration": 133,
    "start_time": "2022-03-02T04:28:01.475Z"
   },
   {
    "duration": 84,
    "start_time": "2022-03-02T04:28:01.610Z"
   },
   {
    "duration": 16,
    "start_time": "2022-03-02T04:28:01.696Z"
   },
   {
    "duration": 29,
    "start_time": "2022-03-02T04:28:01.714Z"
   },
   {
    "duration": 816,
    "start_time": "2022-03-02T04:28:01.744Z"
   },
   {
    "duration": 3,
    "start_time": "2022-03-02T04:28:02.562Z"
   },
   {
    "duration": 508,
    "start_time": "2022-03-02T04:28:02.568Z"
   },
   {
    "duration": 40,
    "start_time": "2022-03-02T04:28:03.078Z"
   },
   {
    "duration": 157,
    "start_time": "2022-03-02T04:28:03.119Z"
   },
   {
    "duration": 15,
    "start_time": "2022-03-02T04:28:03.278Z"
   },
   {
    "duration": 179,
    "start_time": "2022-03-02T04:28:03.295Z"
   },
   {
    "duration": 149,
    "start_time": "2022-03-02T04:28:03.475Z"
   },
   {
    "duration": 18,
    "start_time": "2022-03-02T04:28:03.626Z"
   },
   {
    "duration": 14,
    "start_time": "2022-03-02T04:28:03.646Z"
   },
   {
    "duration": 15,
    "start_time": "2022-03-02T04:28:03.662Z"
   },
   {
    "duration": 70,
    "start_time": "2022-03-02T04:28:03.678Z"
   },
   {
    "duration": 29,
    "start_time": "2022-03-02T04:28:03.749Z"
   },
   {
    "duration": 99,
    "start_time": "2022-03-02T04:28:03.780Z"
   },
   {
    "duration": 5,
    "start_time": "2022-03-02T04:28:03.881Z"
   },
   {
    "duration": 10,
    "start_time": "2022-03-02T04:28:03.888Z"
   },
   {
    "duration": 4,
    "start_time": "2022-03-02T04:28:03.899Z"
   },
   {
    "duration": 5,
    "start_time": "2022-03-02T04:28:03.904Z"
   },
   {
    "duration": 4,
    "start_time": "2022-03-02T04:28:03.933Z"
   },
   {
    "duration": 7,
    "start_time": "2022-03-02T04:28:03.939Z"
   },
   {
    "duration": 216,
    "start_time": "2022-03-02T04:28:03.950Z"
   },
   {
    "duration": 9,
    "start_time": "2022-03-02T04:28:04.168Z"
   },
   {
    "duration": 4,
    "start_time": "2022-03-02T04:28:04.179Z"
   },
   {
    "duration": 6,
    "start_time": "2022-03-02T04:28:04.184Z"
   },
   {
    "duration": 5,
    "start_time": "2022-03-02T04:28:04.192Z"
   },
   {
    "duration": 221,
    "start_time": "2022-03-02T04:28:04.198Z"
   },
   {
    "duration": 12,
    "start_time": "2022-03-02T04:28:04.421Z"
   },
   {
    "duration": 3,
    "start_time": "2022-03-02T04:28:04.435Z"
   },
   {
    "duration": 5,
    "start_time": "2022-03-02T04:28:04.440Z"
   },
   {
    "duration": 389,
    "start_time": "2022-03-02T04:28:04.447Z"
   },
   {
    "duration": 10,
    "start_time": "2022-03-02T04:28:04.838Z"
   },
   {
    "duration": 5,
    "start_time": "2022-03-02T04:28:04.850Z"
   },
   {
    "duration": 5,
    "start_time": "2022-03-02T04:28:04.857Z"
   },
   {
    "duration": 489,
    "start_time": "2022-03-02T04:28:04.864Z"
   },
   {
    "duration": 9,
    "start_time": "2022-03-02T04:28:05.355Z"
   },
   {
    "duration": 15,
    "start_time": "2022-03-02T04:28:05.366Z"
   },
   {
    "duration": 11,
    "start_time": "2022-03-02T04:28:05.383Z"
   },
   {
    "duration": 6,
    "start_time": "2022-03-02T04:28:05.395Z"
   },
   {
    "duration": 206,
    "start_time": "2022-03-02T04:28:05.403Z"
   },
   {
    "duration": 22,
    "start_time": "2022-03-02T04:28:05.611Z"
   },
   {
    "duration": 5,
    "start_time": "2022-03-02T04:28:05.635Z"
   },
   {
    "duration": 5,
    "start_time": "2022-03-02T04:28:05.642Z"
   },
   {
    "duration": 185,
    "start_time": "2022-03-02T04:28:05.649Z"
   },
   {
    "duration": 3,
    "start_time": "2022-03-02T04:28:05.836Z"
   },
   {
    "duration": 7,
    "start_time": "2022-03-02T04:28:05.841Z"
   },
   {
    "duration": 11,
    "start_time": "2022-03-02T04:28:05.850Z"
   },
   {
    "duration": 9,
    "start_time": "2022-03-02T04:28:05.862Z"
   },
   {
    "duration": 29,
    "start_time": "2022-03-02T04:28:32.311Z"
   },
   {
    "duration": 30,
    "start_time": "2022-03-02T04:29:31.801Z"
   },
   {
    "duration": 34,
    "start_time": "2022-03-02T04:29:32.380Z"
   },
   {
    "duration": 29,
    "start_time": "2022-03-02T04:30:13.559Z"
   },
   {
    "duration": 956,
    "start_time": "2022-03-02T16:10:48.773Z"
   },
   {
    "duration": 150,
    "start_time": "2022-03-02T16:10:49.730Z"
   },
   {
    "duration": 113,
    "start_time": "2022-03-02T16:10:49.882Z"
   },
   {
    "duration": 78,
    "start_time": "2022-03-02T16:10:49.996Z"
   },
   {
    "duration": 19,
    "start_time": "2022-03-02T16:10:50.076Z"
   },
   {
    "duration": 73,
    "start_time": "2022-03-02T16:10:50.096Z"
   },
   {
    "duration": 461,
    "start_time": "2022-03-02T16:10:50.171Z"
   },
   {
    "duration": -534,
    "start_time": "2022-03-02T16:10:51.168Z"
   },
   {
    "duration": -565,
    "start_time": "2022-03-02T16:10:51.200Z"
   },
   {
    "duration": -571,
    "start_time": "2022-03-02T16:10:51.207Z"
   },
   {
    "duration": -572,
    "start_time": "2022-03-02T16:10:51.209Z"
   },
   {
    "duration": -574,
    "start_time": "2022-03-02T16:10:51.212Z"
   },
   {
    "duration": -576,
    "start_time": "2022-03-02T16:10:51.214Z"
   },
   {
    "duration": -577,
    "start_time": "2022-03-02T16:10:51.216Z"
   },
   {
    "duration": -579,
    "start_time": "2022-03-02T16:10:51.219Z"
   },
   {
    "duration": -580,
    "start_time": "2022-03-02T16:10:51.221Z"
   },
   {
    "duration": -583,
    "start_time": "2022-03-02T16:10:51.224Z"
   },
   {
    "duration": -584,
    "start_time": "2022-03-02T16:10:51.226Z"
   },
   {
    "duration": -585,
    "start_time": "2022-03-02T16:10:51.228Z"
   },
   {
    "duration": -587,
    "start_time": "2022-03-02T16:10:51.231Z"
   },
   {
    "duration": -588,
    "start_time": "2022-03-02T16:10:51.233Z"
   },
   {
    "duration": -589,
    "start_time": "2022-03-02T16:10:51.235Z"
   },
   {
    "duration": -592,
    "start_time": "2022-03-02T16:10:51.238Z"
   },
   {
    "duration": -593,
    "start_time": "2022-03-02T16:10:51.240Z"
   },
   {
    "duration": -595,
    "start_time": "2022-03-02T16:10:51.243Z"
   },
   {
    "duration": -596,
    "start_time": "2022-03-02T16:10:51.245Z"
   },
   {
    "duration": -598,
    "start_time": "2022-03-02T16:10:51.248Z"
   },
   {
    "duration": -601,
    "start_time": "2022-03-02T16:10:51.251Z"
   },
   {
    "duration": -602,
    "start_time": "2022-03-02T16:10:51.253Z"
   },
   {
    "duration": -603,
    "start_time": "2022-03-02T16:10:51.255Z"
   },
   {
    "duration": -605,
    "start_time": "2022-03-02T16:10:51.258Z"
   },
   {
    "duration": -613,
    "start_time": "2022-03-02T16:10:51.266Z"
   },
   {
    "duration": -614,
    "start_time": "2022-03-02T16:10:51.268Z"
   },
   {
    "duration": -616,
    "start_time": "2022-03-02T16:10:51.271Z"
   },
   {
    "duration": -617,
    "start_time": "2022-03-02T16:10:51.273Z"
   },
   {
    "duration": -618,
    "start_time": "2022-03-02T16:10:51.275Z"
   },
   {
    "duration": -620,
    "start_time": "2022-03-02T16:10:51.278Z"
   },
   {
    "duration": -621,
    "start_time": "2022-03-02T16:10:51.280Z"
   },
   {
    "duration": -622,
    "start_time": "2022-03-02T16:10:51.282Z"
   },
   {
    "duration": -624,
    "start_time": "2022-03-02T16:10:51.284Z"
   },
   {
    "duration": -626,
    "start_time": "2022-03-02T16:10:51.287Z"
   },
   {
    "duration": -627,
    "start_time": "2022-03-02T16:10:51.289Z"
   },
   {
    "duration": -628,
    "start_time": "2022-03-02T16:10:51.291Z"
   },
   {
    "duration": -629,
    "start_time": "2022-03-02T16:10:51.293Z"
   },
   {
    "duration": -631,
    "start_time": "2022-03-02T16:10:51.296Z"
   },
   {
    "duration": -632,
    "start_time": "2022-03-02T16:10:51.298Z"
   },
   {
    "duration": -634,
    "start_time": "2022-03-02T16:10:51.300Z"
   },
   {
    "duration": -635,
    "start_time": "2022-03-02T16:10:51.302Z"
   },
   {
    "duration": -636,
    "start_time": "2022-03-02T16:10:51.304Z"
   },
   {
    "duration": -638,
    "start_time": "2022-03-02T16:10:51.307Z"
   },
   {
    "duration": -639,
    "start_time": "2022-03-02T16:10:51.309Z"
   },
   {
    "duration": -640,
    "start_time": "2022-03-02T16:10:51.311Z"
   },
   {
    "duration": -641,
    "start_time": "2022-03-02T16:10:51.313Z"
   },
   {
    "duration": -611,
    "start_time": "2022-03-02T16:10:51.316Z"
   },
   {
    "duration": -612,
    "start_time": "2022-03-02T16:10:51.318Z"
   },
   {
    "duration": 345,
    "start_time": "2022-03-02T16:11:25.930Z"
   },
   {
    "duration": 338,
    "start_time": "2022-03-02T16:11:51.504Z"
   },
   {
    "duration": 1007,
    "start_time": "2022-03-02T16:12:19.903Z"
   },
   {
    "duration": 149,
    "start_time": "2022-03-02T16:12:20.912Z"
   },
   {
    "duration": 115,
    "start_time": "2022-03-02T16:12:21.063Z"
   },
   {
    "duration": 75,
    "start_time": "2022-03-02T16:12:21.180Z"
   },
   {
    "duration": 19,
    "start_time": "2022-03-02T16:12:21.257Z"
   },
   {
    "duration": 61,
    "start_time": "2022-03-02T16:12:21.278Z"
   },
   {
    "duration": 458,
    "start_time": "2022-03-02T16:12:21.340Z"
   },
   {
    "duration": -534,
    "start_time": "2022-03-02T16:12:22.335Z"
   },
   {
    "duration": -536,
    "start_time": "2022-03-02T16:12:22.338Z"
   },
   {
    "duration": -565,
    "start_time": "2022-03-02T16:12:22.367Z"
   },
   {
    "duration": -571,
    "start_time": "2022-03-02T16:12:22.374Z"
   },
   {
    "duration": -573,
    "start_time": "2022-03-02T16:12:22.377Z"
   },
   {
    "duration": -574,
    "start_time": "2022-03-02T16:12:22.379Z"
   },
   {
    "duration": -575,
    "start_time": "2022-03-02T16:12:22.381Z"
   },
   {
    "duration": -576,
    "start_time": "2022-03-02T16:12:22.383Z"
   },
   {
    "duration": -578,
    "start_time": "2022-03-02T16:12:22.386Z"
   },
   {
    "duration": -579,
    "start_time": "2022-03-02T16:12:22.388Z"
   },
   {
    "duration": -580,
    "start_time": "2022-03-02T16:12:22.390Z"
   },
   {
    "duration": -582,
    "start_time": "2022-03-02T16:12:22.392Z"
   },
   {
    "duration": -584,
    "start_time": "2022-03-02T16:12:22.395Z"
   },
   {
    "duration": -585,
    "start_time": "2022-03-02T16:12:22.397Z"
   },
   {
    "duration": -586,
    "start_time": "2022-03-02T16:12:22.399Z"
   },
   {
    "duration": -587,
    "start_time": "2022-03-02T16:12:22.401Z"
   },
   {
    "duration": -589,
    "start_time": "2022-03-02T16:12:22.404Z"
   },
   {
    "duration": -591,
    "start_time": "2022-03-02T16:12:22.406Z"
   },
   {
    "duration": -592,
    "start_time": "2022-03-02T16:12:22.408Z"
   },
   {
    "duration": -594,
    "start_time": "2022-03-02T16:12:22.411Z"
   },
   {
    "duration": -595,
    "start_time": "2022-03-02T16:12:22.413Z"
   },
   {
    "duration": -596,
    "start_time": "2022-03-02T16:12:22.415Z"
   },
   {
    "duration": -597,
    "start_time": "2022-03-02T16:12:22.417Z"
   },
   {
    "duration": -600,
    "start_time": "2022-03-02T16:12:22.420Z"
   },
   {
    "duration": -601,
    "start_time": "2022-03-02T16:12:22.422Z"
   },
   {
    "duration": -602,
    "start_time": "2022-03-02T16:12:22.424Z"
   },
   {
    "duration": -604,
    "start_time": "2022-03-02T16:12:22.427Z"
   },
   {
    "duration": -612,
    "start_time": "2022-03-02T16:12:22.435Z"
   },
   {
    "duration": -613,
    "start_time": "2022-03-02T16:12:22.437Z"
   },
   {
    "duration": -615,
    "start_time": "2022-03-02T16:12:22.440Z"
   },
   {
    "duration": -616,
    "start_time": "2022-03-02T16:12:22.442Z"
   },
   {
    "duration": -618,
    "start_time": "2022-03-02T16:12:22.444Z"
   },
   {
    "duration": -619,
    "start_time": "2022-03-02T16:12:22.446Z"
   },
   {
    "duration": -621,
    "start_time": "2022-03-02T16:12:22.449Z"
   },
   {
    "duration": -623,
    "start_time": "2022-03-02T16:12:22.451Z"
   },
   {
    "duration": -624,
    "start_time": "2022-03-02T16:12:22.453Z"
   },
   {
    "duration": -626,
    "start_time": "2022-03-02T16:12:22.456Z"
   },
   {
    "duration": -627,
    "start_time": "2022-03-02T16:12:22.458Z"
   },
   {
    "duration": -628,
    "start_time": "2022-03-02T16:12:22.460Z"
   },
   {
    "duration": -631,
    "start_time": "2022-03-02T16:12:22.463Z"
   },
   {
    "duration": -632,
    "start_time": "2022-03-02T16:12:22.465Z"
   },
   {
    "duration": -633,
    "start_time": "2022-03-02T16:12:22.467Z"
   },
   {
    "duration": -636,
    "start_time": "2022-03-02T16:12:22.470Z"
   },
   {
    "duration": -637,
    "start_time": "2022-03-02T16:12:22.472Z"
   },
   {
    "duration": -640,
    "start_time": "2022-03-02T16:12:22.476Z"
   },
   {
    "duration": -641,
    "start_time": "2022-03-02T16:12:22.478Z"
   },
   {
    "duration": -641,
    "start_time": "2022-03-02T16:12:22.481Z"
   },
   {
    "duration": -642,
    "start_time": "2022-03-02T16:12:22.483Z"
   },
   {
    "duration": 419,
    "start_time": "2022-03-02T16:14:48.198Z"
   },
   {
    "duration": 20,
    "start_time": "2022-03-02T16:15:19.192Z"
   },
   {
    "duration": 104,
    "start_time": "2022-03-02T16:15:21.493Z"
   },
   {
    "duration": 976,
    "start_time": "2022-03-02T16:15:27.844Z"
   },
   {
    "duration": 136,
    "start_time": "2022-03-02T16:15:28.821Z"
   },
   {
    "duration": 113,
    "start_time": "2022-03-02T16:15:28.960Z"
   },
   {
    "duration": 76,
    "start_time": "2022-03-02T16:15:29.074Z"
   },
   {
    "duration": 19,
    "start_time": "2022-03-02T16:15:29.152Z"
   },
   {
    "duration": 54,
    "start_time": "2022-03-02T16:15:29.173Z"
   },
   {
    "duration": 158,
    "start_time": "2022-03-02T16:15:29.229Z"
   },
   {
    "duration": 355,
    "start_time": "2022-03-02T16:15:29.389Z"
   },
   {
    "duration": -573,
    "start_time": "2022-03-02T16:15:30.320Z"
   },
   {
    "duration": -575,
    "start_time": "2022-03-02T16:15:30.323Z"
   },
   {
    "duration": -576,
    "start_time": "2022-03-02T16:15:30.325Z"
   },
   {
    "duration": -577,
    "start_time": "2022-03-02T16:15:30.327Z"
   },
   {
    "duration": -579,
    "start_time": "2022-03-02T16:15:30.330Z"
   },
   {
    "duration": -580,
    "start_time": "2022-03-02T16:15:30.332Z"
   },
   {
    "duration": -582,
    "start_time": "2022-03-02T16:15:30.335Z"
   },
   {
    "duration": -584,
    "start_time": "2022-03-02T16:15:30.337Z"
   },
   {
    "duration": -585,
    "start_time": "2022-03-02T16:15:30.339Z"
   },
   {
    "duration": -587,
    "start_time": "2022-03-02T16:15:30.342Z"
   },
   {
    "duration": -588,
    "start_time": "2022-03-02T16:15:30.344Z"
   },
   {
    "duration": -589,
    "start_time": "2022-03-02T16:15:30.346Z"
   },
   {
    "duration": -590,
    "start_time": "2022-03-02T16:15:30.348Z"
   },
   {
    "duration": -591,
    "start_time": "2022-03-02T16:15:30.350Z"
   },
   {
    "duration": -593,
    "start_time": "2022-03-02T16:15:30.353Z"
   },
   {
    "duration": -594,
    "start_time": "2022-03-02T16:15:30.355Z"
   },
   {
    "duration": -595,
    "start_time": "2022-03-02T16:15:30.357Z"
   },
   {
    "duration": -597,
    "start_time": "2022-03-02T16:15:30.360Z"
   },
   {
    "duration": -604,
    "start_time": "2022-03-02T16:15:30.368Z"
   },
   {
    "duration": -605,
    "start_time": "2022-03-02T16:15:30.370Z"
   },
   {
    "duration": -607,
    "start_time": "2022-03-02T16:15:30.373Z"
   },
   {
    "duration": -608,
    "start_time": "2022-03-02T16:15:30.375Z"
   },
   {
    "duration": -610,
    "start_time": "2022-03-02T16:15:30.377Z"
   },
   {
    "duration": -611,
    "start_time": "2022-03-02T16:15:30.379Z"
   },
   {
    "duration": -613,
    "start_time": "2022-03-02T16:15:30.382Z"
   },
   {
    "duration": -614,
    "start_time": "2022-03-02T16:15:30.384Z"
   },
   {
    "duration": -615,
    "start_time": "2022-03-02T16:15:30.386Z"
   },
   {
    "duration": -616,
    "start_time": "2022-03-02T16:15:30.388Z"
   },
   {
    "duration": -618,
    "start_time": "2022-03-02T16:15:30.391Z"
   },
   {
    "duration": -619,
    "start_time": "2022-03-02T16:15:30.393Z"
   },
   {
    "duration": -620,
    "start_time": "2022-03-02T16:15:30.395Z"
   },
   {
    "duration": -621,
    "start_time": "2022-03-02T16:15:30.397Z"
   },
   {
    "duration": -623,
    "start_time": "2022-03-02T16:15:30.400Z"
   },
   {
    "duration": -624,
    "start_time": "2022-03-02T16:15:30.402Z"
   },
   {
    "duration": -626,
    "start_time": "2022-03-02T16:15:30.404Z"
   },
   {
    "duration": -627,
    "start_time": "2022-03-02T16:15:30.406Z"
   },
   {
    "duration": -629,
    "start_time": "2022-03-02T16:15:30.409Z"
   },
   {
    "duration": -630,
    "start_time": "2022-03-02T16:15:30.411Z"
   },
   {
    "duration": -631,
    "start_time": "2022-03-02T16:15:30.413Z"
   },
   {
    "duration": -633,
    "start_time": "2022-03-02T16:15:30.416Z"
   },
   {
    "duration": -634,
    "start_time": "2022-03-02T16:15:30.418Z"
   },
   {
    "duration": -616,
    "start_time": "2022-03-02T16:15:30.420Z"
   },
   {
    "duration": -617,
    "start_time": "2022-03-02T16:15:30.422Z"
   },
   {
    "duration": -619,
    "start_time": "2022-03-02T16:15:30.425Z"
   },
   {
    "duration": -620,
    "start_time": "2022-03-02T16:15:30.427Z"
   },
   {
    "duration": -621,
    "start_time": "2022-03-02T16:15:30.429Z"
   },
   {
    "duration": -623,
    "start_time": "2022-03-02T16:15:30.432Z"
   },
   {
    "duration": 107,
    "start_time": "2022-03-02T16:16:10.497Z"
   },
   {
    "duration": 15,
    "start_time": "2022-03-02T16:16:23.471Z"
   },
   {
    "duration": 21,
    "start_time": "2022-03-02T16:16:25.795Z"
   },
   {
    "duration": 1002,
    "start_time": "2022-03-02T16:16:31.417Z"
   },
   {
    "duration": 138,
    "start_time": "2022-03-02T16:16:32.421Z"
   },
   {
    "duration": 111,
    "start_time": "2022-03-02T16:16:32.561Z"
   },
   {
    "duration": 75,
    "start_time": "2022-03-02T16:16:32.674Z"
   },
   {
    "duration": 9,
    "start_time": "2022-03-02T16:16:32.751Z"
   },
   {
    "duration": 61,
    "start_time": "2022-03-02T16:16:32.761Z"
   },
   {
    "duration": 158,
    "start_time": "2022-03-02T16:16:32.823Z"
   },
   {
    "duration": 14,
    "start_time": "2022-03-02T16:16:32.982Z"
   },
   {
    "duration": 20,
    "start_time": "2022-03-02T16:16:33.005Z"
   },
   {
    "duration": 2,
    "start_time": "2022-03-02T16:16:33.027Z"
   },
   {
    "duration": 6,
    "start_time": "2022-03-02T16:16:33.030Z"
   },
   {
    "duration": 5,
    "start_time": "2022-03-02T16:16:33.037Z"
   },
   {
    "duration": 6,
    "start_time": "2022-03-02T16:16:33.043Z"
   },
   {
    "duration": 8523,
    "start_time": "2022-03-02T16:16:33.051Z"
   },
   {
    "duration": -574,
    "start_time": "2022-03-02T16:16:42.151Z"
   },
   {
    "duration": -575,
    "start_time": "2022-03-02T16:16:42.153Z"
   },
   {
    "duration": -576,
    "start_time": "2022-03-02T16:16:42.155Z"
   },
   {
    "duration": -578,
    "start_time": "2022-03-02T16:16:42.157Z"
   },
   {
    "duration": -579,
    "start_time": "2022-03-02T16:16:42.159Z"
   },
   {
    "duration": -580,
    "start_time": "2022-03-02T16:16:42.161Z"
   },
   {
    "duration": -581,
    "start_time": "2022-03-02T16:16:42.163Z"
   },
   {
    "duration": -582,
    "start_time": "2022-03-02T16:16:42.165Z"
   },
   {
    "duration": -583,
    "start_time": "2022-03-02T16:16:42.167Z"
   },
   {
    "duration": -585,
    "start_time": "2022-03-02T16:16:42.170Z"
   },
   {
    "duration": -586,
    "start_time": "2022-03-02T16:16:42.172Z"
   },
   {
    "duration": -587,
    "start_time": "2022-03-02T16:16:42.174Z"
   },
   {
    "duration": -589,
    "start_time": "2022-03-02T16:16:42.176Z"
   },
   {
    "duration": -606,
    "start_time": "2022-03-02T16:16:42.194Z"
   },
   {
    "duration": -607,
    "start_time": "2022-03-02T16:16:42.196Z"
   },
   {
    "duration": -609,
    "start_time": "2022-03-02T16:16:42.199Z"
   },
   {
    "duration": -610,
    "start_time": "2022-03-02T16:16:42.201Z"
   },
   {
    "duration": -611,
    "start_time": "2022-03-02T16:16:42.203Z"
   },
   {
    "duration": -612,
    "start_time": "2022-03-02T16:16:42.205Z"
   },
   {
    "duration": -614,
    "start_time": "2022-03-02T16:16:42.207Z"
   },
   {
    "duration": -615,
    "start_time": "2022-03-02T16:16:42.209Z"
   },
   {
    "duration": -617,
    "start_time": "2022-03-02T16:16:42.212Z"
   },
   {
    "duration": -619,
    "start_time": "2022-03-02T16:16:42.215Z"
   },
   {
    "duration": -621,
    "start_time": "2022-03-02T16:16:42.218Z"
   },
   {
    "duration": -622,
    "start_time": "2022-03-02T16:16:42.220Z"
   },
   {
    "duration": -623,
    "start_time": "2022-03-02T16:16:42.222Z"
   },
   {
    "duration": -625,
    "start_time": "2022-03-02T16:16:42.224Z"
   },
   {
    "duration": -626,
    "start_time": "2022-03-02T16:16:42.226Z"
   },
   {
    "duration": -627,
    "start_time": "2022-03-02T16:16:42.228Z"
   },
   {
    "duration": -628,
    "start_time": "2022-03-02T16:16:42.230Z"
   },
   {
    "duration": -629,
    "start_time": "2022-03-02T16:16:42.232Z"
   },
   {
    "duration": -631,
    "start_time": "2022-03-02T16:16:42.234Z"
   },
   {
    "duration": -632,
    "start_time": "2022-03-02T16:16:42.236Z"
   },
   {
    "duration": -634,
    "start_time": "2022-03-02T16:16:42.239Z"
   },
   {
    "duration": -635,
    "start_time": "2022-03-02T16:16:42.241Z"
   },
   {
    "duration": -636,
    "start_time": "2022-03-02T16:16:42.243Z"
   },
   {
    "duration": -637,
    "start_time": "2022-03-02T16:16:42.245Z"
   },
   {
    "duration": -638,
    "start_time": "2022-03-02T16:16:42.247Z"
   },
   {
    "duration": -639,
    "start_time": "2022-03-02T16:16:42.249Z"
   },
   {
    "duration": -640,
    "start_time": "2022-03-02T16:16:42.251Z"
   },
   {
    "duration": -641,
    "start_time": "2022-03-02T16:16:42.253Z"
   },
   {
    "duration": 2,
    "start_time": "2022-03-02T16:17:04.372Z"
   },
   {
    "duration": 8,
    "start_time": "2022-03-02T16:17:04.376Z"
   },
   {
    "duration": 4,
    "start_time": "2022-03-02T16:17:04.386Z"
   },
   {
    "duration": 5,
    "start_time": "2022-03-02T16:17:04.392Z"
   },
   {
    "duration": 5,
    "start_time": "2022-03-02T16:17:04.398Z"
   },
   {
    "duration": 5,
    "start_time": "2022-03-02T16:17:04.404Z"
   },
   {
    "duration": 5,
    "start_time": "2022-03-02T16:17:04.411Z"
   },
   {
    "duration": 10,
    "start_time": "2022-03-02T16:17:04.418Z"
   },
   {
    "duration": 285,
    "start_time": "2022-03-02T16:17:04.430Z"
   },
   {
    "duration": -539,
    "start_time": "2022-03-02T16:17:05.256Z"
   },
   {
    "duration": -541,
    "start_time": "2022-03-02T16:17:05.259Z"
   },
   {
    "duration": -542,
    "start_time": "2022-03-02T16:17:05.261Z"
   },
   {
    "duration": -543,
    "start_time": "2022-03-02T16:17:05.263Z"
   },
   {
    "duration": -545,
    "start_time": "2022-03-02T16:17:05.266Z"
   },
   {
    "duration": -546,
    "start_time": "2022-03-02T16:17:05.268Z"
   },
   {
    "duration": -567,
    "start_time": "2022-03-02T16:17:05.290Z"
   },
   {
    "duration": -575,
    "start_time": "2022-03-02T16:17:05.298Z"
   },
   {
    "duration": -576,
    "start_time": "2022-03-02T16:17:05.300Z"
   },
   {
    "duration": -578,
    "start_time": "2022-03-02T16:17:05.303Z"
   },
   {
    "duration": -579,
    "start_time": "2022-03-02T16:17:05.305Z"
   },
   {
    "duration": -580,
    "start_time": "2022-03-02T16:17:05.307Z"
   },
   {
    "duration": -581,
    "start_time": "2022-03-02T16:17:05.309Z"
   },
   {
    "duration": -583,
    "start_time": "2022-03-02T16:17:05.312Z"
   },
   {
    "duration": -584,
    "start_time": "2022-03-02T16:17:05.314Z"
   },
   {
    "duration": -587,
    "start_time": "2022-03-02T16:17:05.317Z"
   },
   {
    "duration": -588,
    "start_time": "2022-03-02T16:17:05.319Z"
   },
   {
    "duration": -589,
    "start_time": "2022-03-02T16:17:05.321Z"
   },
   {
    "duration": -591,
    "start_time": "2022-03-02T16:17:05.324Z"
   },
   {
    "duration": -598,
    "start_time": "2022-03-02T16:17:05.332Z"
   },
   {
    "duration": -600,
    "start_time": "2022-03-02T16:17:05.335Z"
   },
   {
    "duration": -601,
    "start_time": "2022-03-02T16:17:05.337Z"
   },
   {
    "duration": -602,
    "start_time": "2022-03-02T16:17:05.339Z"
   },
   {
    "duration": -605,
    "start_time": "2022-03-02T16:17:05.342Z"
   },
   {
    "duration": -606,
    "start_time": "2022-03-02T16:17:05.344Z"
   },
   {
    "duration": -607,
    "start_time": "2022-03-02T16:17:05.346Z"
   },
   {
    "duration": -609,
    "start_time": "2022-03-02T16:17:05.349Z"
   },
   {
    "duration": -610,
    "start_time": "2022-03-02T16:17:05.351Z"
   },
   {
    "duration": -612,
    "start_time": "2022-03-02T16:17:05.354Z"
   },
   {
    "duration": -613,
    "start_time": "2022-03-02T16:17:05.356Z"
   },
   {
    "duration": -615,
    "start_time": "2022-03-02T16:17:05.359Z"
   },
   {
    "duration": -617,
    "start_time": "2022-03-02T16:17:05.361Z"
   },
   {
    "duration": -618,
    "start_time": "2022-03-02T16:17:05.363Z"
   },
   {
    "duration": 7,
    "start_time": "2022-03-02T16:18:25.725Z"
   },
   {
    "duration": 10,
    "start_time": "2022-03-02T16:18:30.996Z"
   },
   {
    "duration": 9,
    "start_time": "2022-03-02T16:18:41.948Z"
   },
   {
    "duration": -528,
    "start_time": "2022-03-02T16:18:55.636Z"
   },
   {
    "duration": -543,
    "start_time": "2022-03-02T16:18:55.652Z"
   },
   {
    "duration": -545,
    "start_time": "2022-03-02T16:18:55.655Z"
   },
   {
    "duration": -548,
    "start_time": "2022-03-02T16:18:55.658Z"
   },
   {
    "duration": -549,
    "start_time": "2022-03-02T16:18:55.660Z"
   },
   {
    "duration": -551,
    "start_time": "2022-03-02T16:18:55.663Z"
   },
   {
    "duration": -552,
    "start_time": "2022-03-02T16:18:55.665Z"
   },
   {
    "duration": -553,
    "start_time": "2022-03-02T16:18:55.667Z"
   },
   {
    "duration": -555,
    "start_time": "2022-03-02T16:18:55.670Z"
   },
   {
    "duration": -557,
    "start_time": "2022-03-02T16:18:55.672Z"
   },
   {
    "duration": -558,
    "start_time": "2022-03-02T16:18:55.674Z"
   },
   {
    "duration": -559,
    "start_time": "2022-03-02T16:18:55.676Z"
   },
   {
    "duration": -561,
    "start_time": "2022-03-02T16:18:55.679Z"
   },
   {
    "duration": -563,
    "start_time": "2022-03-02T16:18:55.682Z"
   },
   {
    "duration": -564,
    "start_time": "2022-03-02T16:18:55.684Z"
   },
   {
    "duration": -565,
    "start_time": "2022-03-02T16:18:55.686Z"
   },
   {
    "duration": -568,
    "start_time": "2022-03-02T16:18:55.689Z"
   },
   {
    "duration": -569,
    "start_time": "2022-03-02T16:18:55.691Z"
   },
   {
    "duration": -571,
    "start_time": "2022-03-02T16:18:55.694Z"
   },
   {
    "duration": -572,
    "start_time": "2022-03-02T16:18:55.696Z"
   },
   {
    "duration": -573,
    "start_time": "2022-03-02T16:18:55.698Z"
   },
   {
    "duration": -576,
    "start_time": "2022-03-02T16:18:55.701Z"
   },
   {
    "duration": -577,
    "start_time": "2022-03-02T16:18:55.703Z"
   },
   {
    "duration": -579,
    "start_time": "2022-03-02T16:18:55.706Z"
   },
   {
    "duration": -586,
    "start_time": "2022-03-02T16:18:55.714Z"
   },
   {
    "duration": -596,
    "start_time": "2022-03-02T16:18:55.725Z"
   },
   {
    "duration": -598,
    "start_time": "2022-03-02T16:18:55.728Z"
   },
   {
    "duration": -600,
    "start_time": "2022-03-02T16:18:55.730Z"
   },
   {
    "duration": -602,
    "start_time": "2022-03-02T16:18:55.733Z"
   },
   {
    "duration": -603,
    "start_time": "2022-03-02T16:18:55.735Z"
   },
   {
    "duration": -609,
    "start_time": "2022-03-02T16:18:55.742Z"
   },
   {
    "duration": -610,
    "start_time": "2022-03-02T16:18:55.744Z"
   },
   {
    "duration": -613,
    "start_time": "2022-03-02T16:18:55.747Z"
   },
   {
    "duration": -614,
    "start_time": "2022-03-02T16:18:55.749Z"
   },
   {
    "duration": -616,
    "start_time": "2022-03-02T16:18:55.752Z"
   },
   {
    "duration": -617,
    "start_time": "2022-03-02T16:18:55.754Z"
   },
   {
    "duration": -626,
    "start_time": "2022-03-02T16:18:55.764Z"
   },
   {
    "duration": -628,
    "start_time": "2022-03-02T16:18:55.766Z"
   },
   {
    "duration": -629,
    "start_time": "2022-03-02T16:18:55.768Z"
   },
   {
    "duration": -631,
    "start_time": "2022-03-02T16:18:55.771Z"
   },
   {
    "duration": -632,
    "start_time": "2022-03-02T16:18:55.773Z"
   },
   {
    "duration": -635,
    "start_time": "2022-03-02T16:18:55.776Z"
   },
   {
    "duration": -636,
    "start_time": "2022-03-02T16:18:55.778Z"
   },
   {
    "duration": -637,
    "start_time": "2022-03-02T16:18:55.780Z"
   },
   {
    "duration": -640,
    "start_time": "2022-03-02T16:18:55.783Z"
   },
   {
    "duration": -648,
    "start_time": "2022-03-02T16:18:55.792Z"
   },
   {
    "duration": -650,
    "start_time": "2022-03-02T16:18:55.795Z"
   },
   {
    "duration": -592,
    "start_time": "2022-03-02T16:18:55.797Z"
   },
   {
    "duration": -593,
    "start_time": "2022-03-02T16:18:55.799Z"
   },
   {
    "duration": -594,
    "start_time": "2022-03-02T16:18:55.801Z"
   },
   {
    "duration": -598,
    "start_time": "2022-03-02T16:18:55.806Z"
   },
   {
    "duration": -599,
    "start_time": "2022-03-02T16:18:55.808Z"
   },
   {
    "duration": -601,
    "start_time": "2022-03-02T16:18:55.811Z"
   },
   {
    "duration": -602,
    "start_time": "2022-03-02T16:18:55.813Z"
   },
   {
    "duration": -606,
    "start_time": "2022-03-02T16:18:55.818Z"
   },
   {
    "duration": 1024,
    "start_time": "2022-03-02T16:19:31.209Z"
   },
   {
    "duration": 150,
    "start_time": "2022-03-02T16:19:32.234Z"
   },
   {
    "duration": 119,
    "start_time": "2022-03-02T16:19:32.387Z"
   },
   {
    "duration": 82,
    "start_time": "2022-03-02T16:19:32.509Z"
   },
   {
    "duration": 21,
    "start_time": "2022-03-02T16:19:32.593Z"
   },
   {
    "duration": 50,
    "start_time": "2022-03-02T16:19:32.616Z"
   },
   {
    "duration": 163,
    "start_time": "2022-03-02T16:19:32.668Z"
   },
   {
    "duration": 15,
    "start_time": "2022-03-02T16:19:32.833Z"
   },
   {
    "duration": 20,
    "start_time": "2022-03-02T16:19:32.850Z"
   },
   {
    "duration": 1,
    "start_time": "2022-03-02T16:19:32.872Z"
   },
   {
    "duration": 6,
    "start_time": "2022-03-02T16:19:32.874Z"
   },
   {
    "duration": 5,
    "start_time": "2022-03-02T16:19:32.881Z"
   },
   {
    "duration": 19,
    "start_time": "2022-03-02T16:19:32.887Z"
   },
   {
    "duration": 5,
    "start_time": "2022-03-02T16:19:32.907Z"
   },
   {
    "duration": 4,
    "start_time": "2022-03-02T16:19:32.913Z"
   },
   {
    "duration": 8,
    "start_time": "2022-03-02T16:19:32.919Z"
   },
   {
    "duration": 4,
    "start_time": "2022-03-02T16:19:32.928Z"
   },
   {
    "duration": 5,
    "start_time": "2022-03-02T16:19:32.933Z"
   },
   {
    "duration": 5,
    "start_time": "2022-03-02T16:19:32.939Z"
   },
   {
    "duration": 11,
    "start_time": "2022-03-02T16:19:32.945Z"
   },
   {
    "duration": 8,
    "start_time": "2022-03-02T16:19:32.958Z"
   },
   {
    "duration": 2,
    "start_time": "2022-03-02T16:19:32.967Z"
   },
   {
    "duration": 382,
    "start_time": "2022-03-02T16:19:32.972Z"
   },
   {
    "duration": -597,
    "start_time": "2022-03-02T16:19:33.954Z"
   },
   {
    "duration": -599,
    "start_time": "2022-03-02T16:19:33.957Z"
   },
   {
    "duration": -610,
    "start_time": "2022-03-02T16:19:33.969Z"
   },
   {
    "duration": -611,
    "start_time": "2022-03-02T16:19:33.971Z"
   },
   {
    "duration": -613,
    "start_time": "2022-03-02T16:19:33.974Z"
   },
   {
    "duration": -614,
    "start_time": "2022-03-02T16:19:33.976Z"
   },
   {
    "duration": -615,
    "start_time": "2022-03-02T16:19:33.978Z"
   },
   {
    "duration": -618,
    "start_time": "2022-03-02T16:19:33.982Z"
   },
   {
    "duration": -620,
    "start_time": "2022-03-02T16:19:33.985Z"
   },
   {
    "duration": -625,
    "start_time": "2022-03-02T16:19:33.991Z"
   },
   {
    "duration": -627,
    "start_time": "2022-03-02T16:19:33.994Z"
   },
   {
    "duration": -628,
    "start_time": "2022-03-02T16:19:33.996Z"
   },
   {
    "duration": -630,
    "start_time": "2022-03-02T16:19:33.999Z"
   },
   {
    "duration": -631,
    "start_time": "2022-03-02T16:19:34.001Z"
   },
   {
    "duration": -632,
    "start_time": "2022-03-02T16:19:34.003Z"
   },
   {
    "duration": -633,
    "start_time": "2022-03-02T16:19:34.005Z"
   },
   {
    "duration": -635,
    "start_time": "2022-03-02T16:19:34.008Z"
   },
   {
    "duration": -636,
    "start_time": "2022-03-02T16:19:34.010Z"
   },
   {
    "duration": -637,
    "start_time": "2022-03-02T16:19:34.012Z"
   },
   {
    "duration": -639,
    "start_time": "2022-03-02T16:19:34.015Z"
   },
   {
    "duration": -640,
    "start_time": "2022-03-02T16:19:34.017Z"
   },
   {
    "duration": -641,
    "start_time": "2022-03-02T16:19:34.019Z"
   },
   {
    "duration": -642,
    "start_time": "2022-03-02T16:19:34.021Z"
   },
   {
    "duration": -644,
    "start_time": "2022-03-02T16:19:34.024Z"
   },
   {
    "duration": -645,
    "start_time": "2022-03-02T16:19:34.026Z"
   },
   {
    "duration": -646,
    "start_time": "2022-03-02T16:19:34.028Z"
   },
   {
    "duration": -648,
    "start_time": "2022-03-02T16:19:34.031Z"
   },
   {
    "duration": -649,
    "start_time": "2022-03-02T16:19:34.033Z"
   },
   {
    "duration": -650,
    "start_time": "2022-03-02T16:19:34.035Z"
   },
   {
    "duration": -651,
    "start_time": "2022-03-02T16:19:34.037Z"
   },
   {
    "duration": -653,
    "start_time": "2022-03-02T16:19:34.040Z"
   },
   {
    "duration": -655,
    "start_time": "2022-03-02T16:19:34.042Z"
   },
   {
    "duration": 21,
    "start_time": "2022-03-02T16:20:22.810Z"
   },
   {
    "duration": 9,
    "start_time": "2022-03-02T16:20:26.889Z"
   },
   {
    "duration": 9,
    "start_time": "2022-03-02T16:20:38.830Z"
   },
   {
    "duration": 10,
    "start_time": "2022-03-02T16:21:07.936Z"
   },
   {
    "duration": 7,
    "start_time": "2022-03-02T16:21:40.330Z"
   },
   {
    "duration": 8,
    "start_time": "2022-03-02T16:22:57.926Z"
   },
   {
    "duration": 4,
    "start_time": "2022-03-02T16:23:00.154Z"
   },
   {
    "duration": 4,
    "start_time": "2022-03-02T16:23:02.531Z"
   },
   {
    "duration": 4,
    "start_time": "2022-03-02T16:23:04.194Z"
   },
   {
    "duration": 4,
    "start_time": "2022-03-02T16:23:06.000Z"
   },
   {
    "duration": 178,
    "start_time": "2022-03-02T16:23:13.222Z"
   },
   {
    "duration": 291,
    "start_time": "2022-03-02T16:24:19.625Z"
   },
   {
    "duration": 8,
    "start_time": "2022-03-02T16:24:32.920Z"
   },
   {
    "duration": 4,
    "start_time": "2022-03-02T16:24:34.790Z"
   },
   {
    "duration": 4,
    "start_time": "2022-03-02T16:24:36.321Z"
   },
   {
    "duration": 5,
    "start_time": "2022-03-02T16:24:37.616Z"
   },
   {
    "duration": 169,
    "start_time": "2022-03-02T16:24:40.218Z"
   },
   {
    "duration": 302,
    "start_time": "2022-03-02T16:25:25.740Z"
   },
   {
    "duration": 9,
    "start_time": "2022-03-02T16:25:27.118Z"
   },
   {
    "duration": 15,
    "start_time": "2022-03-02T16:25:30.089Z"
   },
   {
    "duration": 4,
    "start_time": "2022-03-02T16:26:04.661Z"
   },
   {
    "duration": 4,
    "start_time": "2022-03-02T16:26:07.439Z"
   },
   {
    "duration": 167,
    "start_time": "2022-03-02T16:26:28.199Z"
   },
   {
    "duration": 9,
    "start_time": "2022-03-02T16:26:44.174Z"
   },
   {
    "duration": 344,
    "start_time": "2022-03-02T16:26:45.506Z"
   },
   {
    "duration": 302,
    "start_time": "2022-03-02T16:26:53.242Z"
   },
   {
    "duration": 4,
    "start_time": "2022-03-02T16:27:04.521Z"
   },
   {
    "duration": 289,
    "start_time": "2022-03-02T16:27:06.264Z"
   },
   {
    "duration": 4,
    "start_time": "2022-03-02T16:27:14.039Z"
   },
   {
    "duration": 292,
    "start_time": "2022-03-02T16:27:42.684Z"
   },
   {
    "duration": 8,
    "start_time": "2022-03-02T16:27:53.866Z"
   },
   {
    "duration": 4,
    "start_time": "2022-03-02T16:28:06.771Z"
   },
   {
    "duration": 298,
    "start_time": "2022-03-02T16:28:07.863Z"
   },
   {
    "duration": 7,
    "start_time": "2022-03-02T16:28:32.257Z"
   },
   {
    "duration": 3,
    "start_time": "2022-03-02T16:28:33.537Z"
   },
   {
    "duration": 4,
    "start_time": "2022-03-02T16:28:34.594Z"
   },
   {
    "duration": 158,
    "start_time": "2022-03-02T16:28:35.523Z"
   },
   {
    "duration": 286,
    "start_time": "2022-03-02T16:28:41.915Z"
   },
   {
    "duration": 3,
    "start_time": "2022-03-02T16:28:48.399Z"
   },
   {
    "duration": 6,
    "start_time": "2022-03-02T16:28:49.744Z"
   },
   {
    "duration": 301,
    "start_time": "2022-03-02T16:28:53.699Z"
   },
   {
    "duration": 7,
    "start_time": "2022-03-02T16:28:59.335Z"
   },
   {
    "duration": 7,
    "start_time": "2022-03-02T16:29:01.040Z"
   },
   {
    "duration": 110,
    "start_time": "2022-03-02T16:32:32.424Z"
   },
   {
    "duration": 100,
    "start_time": "2022-03-02T16:33:13.514Z"
   },
   {
    "duration": 100,
    "start_time": "2022-03-02T16:33:29.191Z"
   },
   {
    "duration": 127,
    "start_time": "2022-03-02T16:34:59.829Z"
   },
   {
    "duration": 115,
    "start_time": "2022-03-02T16:37:47.360Z"
   },
   {
    "duration": 1047,
    "start_time": "2022-03-02T16:39:24.189Z"
   },
   {
    "duration": 157,
    "start_time": "2022-03-02T16:39:25.238Z"
   },
   {
    "duration": 119,
    "start_time": "2022-03-02T16:39:25.397Z"
   },
   {
    "duration": 81,
    "start_time": "2022-03-02T16:39:25.517Z"
   },
   {
    "duration": 20,
    "start_time": "2022-03-02T16:39:25.599Z"
   },
   {
    "duration": 52,
    "start_time": "2022-03-02T16:39:25.620Z"
   },
   {
    "duration": 162,
    "start_time": "2022-03-02T16:39:25.673Z"
   },
   {
    "duration": 14,
    "start_time": "2022-03-02T16:39:25.837Z"
   },
   {
    "duration": 21,
    "start_time": "2022-03-02T16:39:25.852Z"
   },
   {
    "duration": 9,
    "start_time": "2022-03-02T16:39:25.874Z"
   },
   {
    "duration": 24,
    "start_time": "2022-03-02T16:39:25.884Z"
   },
   {
    "duration": 7,
    "start_time": "2022-03-02T16:39:25.910Z"
   },
   {
    "duration": 4,
    "start_time": "2022-03-02T16:39:25.919Z"
   },
   {
    "duration": 4,
    "start_time": "2022-03-02T16:39:25.925Z"
   },
   {
    "duration": 5,
    "start_time": "2022-03-02T16:39:25.931Z"
   },
   {
    "duration": 6,
    "start_time": "2022-03-02T16:39:25.937Z"
   },
   {
    "duration": 6,
    "start_time": "2022-03-02T16:39:25.944Z"
   },
   {
    "duration": 4,
    "start_time": "2022-03-02T16:39:25.952Z"
   },
   {
    "duration": 6,
    "start_time": "2022-03-02T16:39:25.957Z"
   },
   {
    "duration": 8,
    "start_time": "2022-03-02T16:39:25.964Z"
   },
   {
    "duration": 8,
    "start_time": "2022-03-02T16:39:25.973Z"
   },
   {
    "duration": 12,
    "start_time": "2022-03-02T16:39:25.982Z"
   },
   {
    "duration": 9,
    "start_time": "2022-03-02T16:39:25.997Z"
   },
   {
    "duration": 4,
    "start_time": "2022-03-02T16:39:26.008Z"
   },
   {
    "duration": 7,
    "start_time": "2022-03-02T16:39:26.013Z"
   },
   {
    "duration": 13,
    "start_time": "2022-03-02T16:39:26.022Z"
   },
   {
    "duration": 8,
    "start_time": "2022-03-02T16:39:26.036Z"
   },
   {
    "duration": 8,
    "start_time": "2022-03-02T16:39:26.046Z"
   },
   {
    "duration": 6,
    "start_time": "2022-03-02T16:39:26.056Z"
   },
   {
    "duration": 7,
    "start_time": "2022-03-02T16:39:26.063Z"
   },
   {
    "duration": 183,
    "start_time": "2022-03-02T16:39:26.072Z"
   },
   {
    "duration": 7,
    "start_time": "2022-03-02T16:39:26.257Z"
   },
   {
    "duration": 6,
    "start_time": "2022-03-02T16:39:26.266Z"
   },
   {
    "duration": 7,
    "start_time": "2022-03-02T16:39:26.273Z"
   },
   {
    "duration": 4,
    "start_time": "2022-03-02T16:39:26.282Z"
   },
   {
    "duration": 188,
    "start_time": "2022-03-02T16:39:26.288Z"
   },
   {
    "duration": 8,
    "start_time": "2022-03-02T16:39:26.477Z"
   },
   {
    "duration": 6,
    "start_time": "2022-03-02T16:39:26.486Z"
   },
   {
    "duration": 13,
    "start_time": "2022-03-02T16:39:26.493Z"
   },
   {
    "duration": 170,
    "start_time": "2022-03-02T16:39:26.508Z"
   },
   {
    "duration": 373,
    "start_time": "2022-03-02T16:39:26.680Z"
   },
   {
    "duration": -529,
    "start_time": "2022-03-02T16:39:27.584Z"
   },
   {
    "duration": -531,
    "start_time": "2022-03-02T16:39:27.587Z"
   },
   {
    "duration": -533,
    "start_time": "2022-03-02T16:39:27.590Z"
   },
   {
    "duration": -534,
    "start_time": "2022-03-02T16:39:27.592Z"
   },
   {
    "duration": -535,
    "start_time": "2022-03-02T16:39:27.594Z"
   },
   {
    "duration": -537,
    "start_time": "2022-03-02T16:39:27.597Z"
   },
   {
    "duration": -544,
    "start_time": "2022-03-02T16:39:27.605Z"
   },
   {
    "duration": -545,
    "start_time": "2022-03-02T16:39:27.607Z"
   },
   {
    "duration": -547,
    "start_time": "2022-03-02T16:39:27.610Z"
   },
   {
    "duration": -548,
    "start_time": "2022-03-02T16:39:27.612Z"
   },
   {
    "duration": -549,
    "start_time": "2022-03-02T16:39:27.614Z"
   },
   {
    "duration": -552,
    "start_time": "2022-03-02T16:39:27.618Z"
   },
   {
    "duration": -554,
    "start_time": "2022-03-02T16:39:27.621Z"
   },
   {
    "duration": -556,
    "start_time": "2022-03-02T16:39:27.624Z"
   },
   {
    "duration": -564,
    "start_time": "2022-03-02T16:39:27.632Z"
   },
   {
    "duration": 9,
    "start_time": "2022-03-02T16:39:58.288Z"
   },
   {
    "duration": -547,
    "start_time": "2022-03-02T16:40:21.924Z"
   },
   {
    "duration": -549,
    "start_time": "2022-03-02T16:40:21.926Z"
   },
   {
    "duration": -550,
    "start_time": "2022-03-02T16:40:21.928Z"
   },
   {
    "duration": -552,
    "start_time": "2022-03-02T16:40:21.931Z"
   },
   {
    "duration": -554,
    "start_time": "2022-03-02T16:40:21.934Z"
   },
   {
    "duration": -557,
    "start_time": "2022-03-02T16:40:21.937Z"
   },
   {
    "duration": -559,
    "start_time": "2022-03-02T16:40:21.940Z"
   },
   {
    "duration": -560,
    "start_time": "2022-03-02T16:40:21.942Z"
   },
   {
    "duration": -562,
    "start_time": "2022-03-02T16:40:21.944Z"
   },
   {
    "duration": -564,
    "start_time": "2022-03-02T16:40:21.947Z"
   },
   {
    "duration": -578,
    "start_time": "2022-03-02T16:40:21.962Z"
   },
   {
    "duration": -581,
    "start_time": "2022-03-02T16:40:21.966Z"
   },
   {
    "duration": -583,
    "start_time": "2022-03-02T16:40:21.969Z"
   },
   {
    "duration": -585,
    "start_time": "2022-03-02T16:40:21.972Z"
   },
   {
    "duration": -587,
    "start_time": "2022-03-02T16:40:21.975Z"
   },
   {
    "duration": -588,
    "start_time": "2022-03-02T16:40:21.977Z"
   },
   {
    "duration": -590,
    "start_time": "2022-03-02T16:40:21.979Z"
   },
   {
    "duration": -592,
    "start_time": "2022-03-02T16:40:21.982Z"
   },
   {
    "duration": -594,
    "start_time": "2022-03-02T16:40:21.985Z"
   },
   {
    "duration": -596,
    "start_time": "2022-03-02T16:40:21.988Z"
   },
   {
    "duration": -597,
    "start_time": "2022-03-02T16:40:21.990Z"
   },
   {
    "duration": -598,
    "start_time": "2022-03-02T16:40:21.992Z"
   },
   {
    "duration": -600,
    "start_time": "2022-03-02T16:40:21.995Z"
   },
   {
    "duration": -601,
    "start_time": "2022-03-02T16:40:21.997Z"
   },
   {
    "duration": -603,
    "start_time": "2022-03-02T16:40:22.000Z"
   },
   {
    "duration": -605,
    "start_time": "2022-03-02T16:40:22.003Z"
   },
   {
    "duration": -606,
    "start_time": "2022-03-02T16:40:22.005Z"
   },
   {
    "duration": -610,
    "start_time": "2022-03-02T16:40:22.009Z"
   },
   {
    "duration": -611,
    "start_time": "2022-03-02T16:40:22.011Z"
   },
   {
    "duration": -613,
    "start_time": "2022-03-02T16:40:22.014Z"
   },
   {
    "duration": -615,
    "start_time": "2022-03-02T16:40:22.017Z"
   },
   {
    "duration": -614,
    "start_time": "2022-03-02T16:40:22.019Z"
   },
   {
    "duration": -616,
    "start_time": "2022-03-02T16:40:22.022Z"
   },
   {
    "duration": -627,
    "start_time": "2022-03-02T16:40:22.034Z"
   },
   {
    "duration": -635,
    "start_time": "2022-03-02T16:40:22.042Z"
   },
   {
    "duration": -637,
    "start_time": "2022-03-02T16:40:22.045Z"
   },
   {
    "duration": -638,
    "start_time": "2022-03-02T16:40:22.047Z"
   },
   {
    "duration": -648,
    "start_time": "2022-03-02T16:40:22.058Z"
   },
   {
    "duration": -649,
    "start_time": "2022-03-02T16:40:22.060Z"
   },
   {
    "duration": -651,
    "start_time": "2022-03-02T16:40:22.063Z"
   },
   {
    "duration": -653,
    "start_time": "2022-03-02T16:40:22.066Z"
   },
   {
    "duration": -661,
    "start_time": "2022-03-02T16:40:22.075Z"
   },
   {
    "duration": -664,
    "start_time": "2022-03-02T16:40:22.078Z"
   },
   {
    "duration": -665,
    "start_time": "2022-03-02T16:40:22.080Z"
   },
   {
    "duration": -667,
    "start_time": "2022-03-02T16:40:22.083Z"
   },
   {
    "duration": -674,
    "start_time": "2022-03-02T16:40:22.091Z"
   },
   {
    "duration": -676,
    "start_time": "2022-03-02T16:40:22.094Z"
   },
   {
    "duration": -678,
    "start_time": "2022-03-02T16:40:22.096Z"
   },
   {
    "duration": -681,
    "start_time": "2022-03-02T16:40:22.100Z"
   },
   {
    "duration": -690,
    "start_time": "2022-03-02T16:40:22.110Z"
   },
   {
    "duration": -692,
    "start_time": "2022-03-02T16:40:22.112Z"
   },
   {
    "duration": -694,
    "start_time": "2022-03-02T16:40:22.115Z"
   },
   {
    "duration": -701,
    "start_time": "2022-03-02T16:40:22.123Z"
   },
   {
    "duration": -703,
    "start_time": "2022-03-02T16:40:22.126Z"
   },
   {
    "duration": -704,
    "start_time": "2022-03-02T16:40:22.128Z"
   },
   {
    "duration": -706,
    "start_time": "2022-03-02T16:40:22.131Z"
   },
   {
    "duration": 1052,
    "start_time": "2022-03-02T16:40:55.776Z"
   },
   {
    "duration": 152,
    "start_time": "2022-03-02T16:40:56.830Z"
   },
   {
    "duration": 132,
    "start_time": "2022-03-02T16:40:56.984Z"
   },
   {
    "duration": 86,
    "start_time": "2022-03-02T16:40:57.117Z"
   },
   {
    "duration": 21,
    "start_time": "2022-03-02T16:40:57.204Z"
   },
   {
    "duration": 51,
    "start_time": "2022-03-02T16:40:57.227Z"
   },
   {
    "duration": 159,
    "start_time": "2022-03-02T16:40:57.280Z"
   },
   {
    "duration": 14,
    "start_time": "2022-03-02T16:40:57.441Z"
   },
   {
    "duration": 23,
    "start_time": "2022-03-02T16:40:57.458Z"
   },
   {
    "duration": 25,
    "start_time": "2022-03-02T16:40:57.482Z"
   },
   {
    "duration": 7,
    "start_time": "2022-03-02T16:40:57.508Z"
   },
   {
    "duration": 10,
    "start_time": "2022-03-02T16:40:57.516Z"
   },
   {
    "duration": 4,
    "start_time": "2022-03-02T16:40:57.527Z"
   },
   {
    "duration": 4,
    "start_time": "2022-03-02T16:40:57.532Z"
   },
   {
    "duration": 4,
    "start_time": "2022-03-02T16:40:57.537Z"
   },
   {
    "duration": 4,
    "start_time": "2022-03-02T16:40:57.543Z"
   },
   {
    "duration": 7,
    "start_time": "2022-03-02T16:40:57.549Z"
   },
   {
    "duration": 7,
    "start_time": "2022-03-02T16:40:57.557Z"
   },
   {
    "duration": 4,
    "start_time": "2022-03-02T16:40:57.565Z"
   },
   {
    "duration": 5,
    "start_time": "2022-03-02T16:40:57.570Z"
   },
   {
    "duration": 4,
    "start_time": "2022-03-02T16:40:57.577Z"
   },
   {
    "duration": 7,
    "start_time": "2022-03-02T16:40:57.582Z"
   },
   {
    "duration": 19,
    "start_time": "2022-03-02T16:40:57.590Z"
   },
   {
    "duration": 2,
    "start_time": "2022-03-02T16:40:57.611Z"
   },
   {
    "duration": 6,
    "start_time": "2022-03-02T16:40:57.614Z"
   },
   {
    "duration": 10,
    "start_time": "2022-03-02T16:40:57.621Z"
   },
   {
    "duration": 4,
    "start_time": "2022-03-02T16:40:57.634Z"
   },
   {
    "duration": 6,
    "start_time": "2022-03-02T16:40:57.639Z"
   },
   {
    "duration": 8,
    "start_time": "2022-03-02T16:40:57.647Z"
   },
   {
    "duration": 8,
    "start_time": "2022-03-02T16:40:57.656Z"
   },
   {
    "duration": 204,
    "start_time": "2022-03-02T16:40:57.666Z"
   },
   {
    "duration": 8,
    "start_time": "2022-03-02T16:40:57.872Z"
   },
   {
    "duration": 6,
    "start_time": "2022-03-02T16:40:57.881Z"
   },
   {
    "duration": 19,
    "start_time": "2022-03-02T16:40:57.888Z"
   },
   {
    "duration": 5,
    "start_time": "2022-03-02T16:40:57.908Z"
   },
   {
    "duration": 194,
    "start_time": "2022-03-02T16:40:57.914Z"
   },
   {
    "duration": 9,
    "start_time": "2022-03-02T16:40:58.110Z"
   },
   {
    "duration": 6,
    "start_time": "2022-03-02T16:40:58.121Z"
   },
   {
    "duration": 7,
    "start_time": "2022-03-02T16:40:58.128Z"
   },
   {
    "duration": 185,
    "start_time": "2022-03-02T16:40:58.136Z"
   },
   {
    "duration": 7,
    "start_time": "2022-03-02T16:40:58.322Z"
   },
   {
    "duration": 378,
    "start_time": "2022-03-02T16:40:58.331Z"
   },
   {
    "duration": -536,
    "start_time": "2022-03-02T16:40:59.247Z"
   },
   {
    "duration": -540,
    "start_time": "2022-03-02T16:40:59.252Z"
   },
   {
    "duration": -541,
    "start_time": "2022-03-02T16:40:59.255Z"
   },
   {
    "duration": -543,
    "start_time": "2022-03-02T16:40:59.258Z"
   },
   {
    "duration": -544,
    "start_time": "2022-03-02T16:40:59.260Z"
   },
   {
    "duration": -545,
    "start_time": "2022-03-02T16:40:59.263Z"
   },
   {
    "duration": -547,
    "start_time": "2022-03-02T16:40:59.266Z"
   },
   {
    "duration": -551,
    "start_time": "2022-03-02T16:40:59.271Z"
   },
   {
    "duration": -552,
    "start_time": "2022-03-02T16:40:59.274Z"
   },
   {
    "duration": -554,
    "start_time": "2022-03-02T16:40:59.277Z"
   },
   {
    "duration": -555,
    "start_time": "2022-03-02T16:40:59.279Z"
   },
   {
    "duration": -558,
    "start_time": "2022-03-02T16:40:59.282Z"
   },
   {
    "duration": -561,
    "start_time": "2022-03-02T16:40:59.286Z"
   },
   {
    "duration": -563,
    "start_time": "2022-03-02T16:40:59.289Z"
   },
   {
    "duration": 319,
    "start_time": "2022-03-02T16:41:26.567Z"
   },
   {
    "duration": 284,
    "start_time": "2022-03-02T16:41:42.326Z"
   },
   {
    "duration": 7,
    "start_time": "2022-03-02T16:41:57.745Z"
   },
   {
    "duration": 4,
    "start_time": "2022-03-02T16:41:59.446Z"
   },
   {
    "duration": 1023,
    "start_time": "2022-03-02T16:42:04.701Z"
   },
   {
    "duration": 143,
    "start_time": "2022-03-02T16:42:05.726Z"
   },
   {
    "duration": 116,
    "start_time": "2022-03-02T16:42:05.871Z"
   },
   {
    "duration": 80,
    "start_time": "2022-03-02T16:42:05.988Z"
   },
   {
    "duration": 20,
    "start_time": "2022-03-02T16:42:06.070Z"
   },
   {
    "duration": 52,
    "start_time": "2022-03-02T16:42:06.092Z"
   },
   {
    "duration": 159,
    "start_time": "2022-03-02T16:42:06.145Z"
   },
   {
    "duration": 14,
    "start_time": "2022-03-02T16:42:06.306Z"
   },
   {
    "duration": 20,
    "start_time": "2022-03-02T16:42:06.322Z"
   },
   {
    "duration": 8,
    "start_time": "2022-03-02T16:42:06.343Z"
   },
   {
    "duration": 6,
    "start_time": "2022-03-02T16:42:06.352Z"
   },
   {
    "duration": 3,
    "start_time": "2022-03-02T16:42:06.360Z"
   },
   {
    "duration": 4,
    "start_time": "2022-03-02T16:42:06.365Z"
   },
   {
    "duration": 6,
    "start_time": "2022-03-02T16:42:06.370Z"
   },
   {
    "duration": 4,
    "start_time": "2022-03-02T16:42:06.377Z"
   },
   {
    "duration": 2,
    "start_time": "2022-03-02T16:42:06.406Z"
   },
   {
    "duration": 6,
    "start_time": "2022-03-02T16:42:06.409Z"
   },
   {
    "duration": 4,
    "start_time": "2022-03-02T16:42:06.417Z"
   },
   {
    "duration": 3,
    "start_time": "2022-03-02T16:42:06.423Z"
   },
   {
    "duration": 5,
    "start_time": "2022-03-02T16:42:06.428Z"
   },
   {
    "duration": 4,
    "start_time": "2022-03-02T16:42:06.434Z"
   },
   {
    "duration": 6,
    "start_time": "2022-03-02T16:42:06.440Z"
   },
   {
    "duration": 9,
    "start_time": "2022-03-02T16:42:06.450Z"
   },
   {
    "duration": 2,
    "start_time": "2022-03-02T16:42:06.461Z"
   },
   {
    "duration": 5,
    "start_time": "2022-03-02T16:42:06.465Z"
   },
   {
    "duration": 9,
    "start_time": "2022-03-02T16:42:06.471Z"
   },
   {
    "duration": 4,
    "start_time": "2022-03-02T16:42:06.506Z"
   },
   {
    "duration": 5,
    "start_time": "2022-03-02T16:42:06.511Z"
   },
   {
    "duration": 5,
    "start_time": "2022-03-02T16:42:06.518Z"
   },
   {
    "duration": 7,
    "start_time": "2022-03-02T16:42:06.525Z"
   },
   {
    "duration": 204,
    "start_time": "2022-03-02T16:42:06.534Z"
   },
   {
    "duration": 8,
    "start_time": "2022-03-02T16:42:06.740Z"
   },
   {
    "duration": 4,
    "start_time": "2022-03-02T16:42:06.750Z"
   },
   {
    "duration": 7,
    "start_time": "2022-03-02T16:42:06.756Z"
   },
   {
    "duration": 5,
    "start_time": "2022-03-02T16:42:06.764Z"
   },
   {
    "duration": 193,
    "start_time": "2022-03-02T16:42:06.770Z"
   },
   {
    "duration": 7,
    "start_time": "2022-03-02T16:42:06.964Z"
   },
   {
    "duration": 5,
    "start_time": "2022-03-02T16:42:06.973Z"
   },
   {
    "duration": 5,
    "start_time": "2022-03-02T16:42:06.979Z"
   },
   {
    "duration": 178,
    "start_time": "2022-03-02T16:42:06.986Z"
   },
   {
    "duration": 8,
    "start_time": "2022-03-02T16:42:07.165Z"
   },
   {
    "duration": 5,
    "start_time": "2022-03-02T16:42:07.174Z"
   },
   {
    "duration": 4,
    "start_time": "2022-03-02T16:42:07.180Z"
   },
   {
    "duration": 460,
    "start_time": "2022-03-02T16:42:07.186Z"
   },
   {
    "duration": -523,
    "start_time": "2022-03-02T16:42:08.171Z"
   },
   {
    "duration": -525,
    "start_time": "2022-03-02T16:42:08.174Z"
   },
   {
    "duration": -526,
    "start_time": "2022-03-02T16:42:08.176Z"
   },
   {
    "duration": -528,
    "start_time": "2022-03-02T16:42:08.179Z"
   },
   {
    "duration": -529,
    "start_time": "2022-03-02T16:42:08.181Z"
   },
   {
    "duration": -530,
    "start_time": "2022-03-02T16:42:08.183Z"
   },
   {
    "duration": -536,
    "start_time": "2022-03-02T16:42:08.190Z"
   },
   {
    "duration": -538,
    "start_time": "2022-03-02T16:42:08.193Z"
   },
   {
    "duration": -540,
    "start_time": "2022-03-02T16:42:08.196Z"
   },
   {
    "duration": -541,
    "start_time": "2022-03-02T16:42:08.198Z"
   },
   {
    "duration": -548,
    "start_time": "2022-03-02T16:42:08.206Z"
   },
   {
    "duration": -549,
    "start_time": "2022-03-02T16:42:08.208Z"
   },
   {
    "duration": 152,
    "start_time": "2022-03-02T16:42:25.598Z"
   },
   {
    "duration": 1039,
    "start_time": "2022-03-02T16:42:30.395Z"
   },
   {
    "duration": 147,
    "start_time": "2022-03-02T16:42:31.435Z"
   },
   {
    "duration": 119,
    "start_time": "2022-03-02T16:42:31.584Z"
   },
   {
    "duration": 80,
    "start_time": "2022-03-02T16:42:31.705Z"
   },
   {
    "duration": 21,
    "start_time": "2022-03-02T16:42:31.787Z"
   },
   {
    "duration": 57,
    "start_time": "2022-03-02T16:42:31.809Z"
   },
   {
    "duration": 161,
    "start_time": "2022-03-02T16:42:31.867Z"
   },
   {
    "duration": 14,
    "start_time": "2022-03-02T16:42:32.030Z"
   },
   {
    "duration": 21,
    "start_time": "2022-03-02T16:42:32.046Z"
   },
   {
    "duration": 8,
    "start_time": "2022-03-02T16:42:32.068Z"
   },
   {
    "duration": 30,
    "start_time": "2022-03-02T16:42:32.078Z"
   },
   {
    "duration": 5,
    "start_time": "2022-03-02T16:42:32.109Z"
   },
   {
    "duration": 5,
    "start_time": "2022-03-02T16:42:32.115Z"
   },
   {
    "duration": 9,
    "start_time": "2022-03-02T16:42:32.121Z"
   },
   {
    "duration": 5,
    "start_time": "2022-03-02T16:42:32.131Z"
   },
   {
    "duration": 6,
    "start_time": "2022-03-02T16:42:32.137Z"
   },
   {
    "duration": 7,
    "start_time": "2022-03-02T16:42:32.145Z"
   },
   {
    "duration": 5,
    "start_time": "2022-03-02T16:42:32.154Z"
   },
   {
    "duration": 4,
    "start_time": "2022-03-02T16:42:32.160Z"
   },
   {
    "duration": 6,
    "start_time": "2022-03-02T16:42:32.165Z"
   },
   {
    "duration": 4,
    "start_time": "2022-03-02T16:42:32.173Z"
   },
   {
    "duration": 6,
    "start_time": "2022-03-02T16:42:32.179Z"
   },
   {
    "duration": 11,
    "start_time": "2022-03-02T16:42:32.188Z"
   },
   {
    "duration": 4,
    "start_time": "2022-03-02T16:42:32.201Z"
   },
   {
    "duration": 3,
    "start_time": "2022-03-02T16:42:32.207Z"
   },
   {
    "duration": 8,
    "start_time": "2022-03-02T16:42:32.212Z"
   },
   {
    "duration": 3,
    "start_time": "2022-03-02T16:42:32.222Z"
   },
   {
    "duration": 5,
    "start_time": "2022-03-02T16:42:32.227Z"
   },
   {
    "duration": 4,
    "start_time": "2022-03-02T16:42:32.234Z"
   },
   {
    "duration": 4,
    "start_time": "2022-03-02T16:42:32.240Z"
   },
   {
    "duration": 212,
    "start_time": "2022-03-02T16:42:32.246Z"
   },
   {
    "duration": 9,
    "start_time": "2022-03-02T16:42:32.460Z"
   },
   {
    "duration": 4,
    "start_time": "2022-03-02T16:42:32.471Z"
   },
   {
    "duration": 6,
    "start_time": "2022-03-02T16:42:32.476Z"
   },
   {
    "duration": 4,
    "start_time": "2022-03-02T16:42:32.506Z"
   },
   {
    "duration": 186,
    "start_time": "2022-03-02T16:42:32.512Z"
   },
   {
    "duration": 8,
    "start_time": "2022-03-02T16:42:32.701Z"
   },
   {
    "duration": 9,
    "start_time": "2022-03-02T16:42:32.711Z"
   },
   {
    "duration": 6,
    "start_time": "2022-03-02T16:42:32.721Z"
   },
   {
    "duration": 176,
    "start_time": "2022-03-02T16:42:32.729Z"
   },
   {
    "duration": 8,
    "start_time": "2022-03-02T16:42:32.906Z"
   },
   {
    "duration": 6,
    "start_time": "2022-03-02T16:42:32.915Z"
   },
   {
    "duration": 4,
    "start_time": "2022-03-02T16:42:32.923Z"
   },
   {
    "duration": 176,
    "start_time": "2022-03-02T16:42:32.929Z"
   },
   {
    "duration": 8,
    "start_time": "2022-03-02T16:42:33.106Z"
   },
   {
    "duration": 5,
    "start_time": "2022-03-02T16:42:33.115Z"
   },
   {
    "duration": 5,
    "start_time": "2022-03-02T16:42:33.122Z"
   },
   {
    "duration": 179,
    "start_time": "2022-03-02T16:42:33.128Z"
   },
   {
    "duration": 7,
    "start_time": "2022-03-02T16:42:33.308Z"
   },
   {
    "duration": 4,
    "start_time": "2022-03-02T16:42:33.317Z"
   },
   {
    "duration": 11,
    "start_time": "2022-03-02T16:42:33.323Z"
   },
   {
    "duration": 172,
    "start_time": "2022-03-02T16:42:33.335Z"
   },
   {
    "duration": 2,
    "start_time": "2022-03-02T16:42:33.508Z"
   },
   {
    "duration": 8,
    "start_time": "2022-03-02T16:42:33.512Z"
   },
   {
    "duration": 9,
    "start_time": "2022-03-02T16:42:33.521Z"
   },
   {
    "duration": 8,
    "start_time": "2022-03-02T16:42:33.531Z"
   },
   {
    "duration": 1029,
    "start_time": "2022-03-03T11:06:08.690Z"
   },
   {
    "duration": 136,
    "start_time": "2022-03-03T11:06:09.720Z"
   },
   {
    "duration": 115,
    "start_time": "2022-03-03T11:06:09.858Z"
   },
   {
    "duration": 78,
    "start_time": "2022-03-03T11:06:09.974Z"
   },
   {
    "duration": 19,
    "start_time": "2022-03-03T11:06:10.054Z"
   },
   {
    "duration": 70,
    "start_time": "2022-03-03T11:06:10.075Z"
   },
   {
    "duration": 168,
    "start_time": "2022-03-03T11:06:10.146Z"
   },
   {
    "duration": 15,
    "start_time": "2022-03-03T11:06:10.316Z"
   },
   {
    "duration": 28,
    "start_time": "2022-03-03T11:06:10.333Z"
   },
   {
    "duration": 9,
    "start_time": "2022-03-03T11:06:10.363Z"
   },
   {
    "duration": 7,
    "start_time": "2022-03-03T11:06:10.374Z"
   },
   {
    "duration": 23,
    "start_time": "2022-03-03T11:06:10.382Z"
   },
   {
    "duration": 9,
    "start_time": "2022-03-03T11:06:10.407Z"
   },
   {
    "duration": 15,
    "start_time": "2022-03-03T11:06:10.417Z"
   },
   {
    "duration": 15,
    "start_time": "2022-03-03T11:06:10.433Z"
   },
   {
    "duration": 9,
    "start_time": "2022-03-03T11:06:10.450Z"
   },
   {
    "duration": 22,
    "start_time": "2022-03-03T11:06:10.460Z"
   },
   {
    "duration": 10,
    "start_time": "2022-03-03T11:06:10.483Z"
   },
   {
    "duration": 8,
    "start_time": "2022-03-03T11:06:10.494Z"
   },
   {
    "duration": 7,
    "start_time": "2022-03-03T11:06:10.503Z"
   },
   {
    "duration": 5,
    "start_time": "2022-03-03T11:06:10.511Z"
   },
   {
    "duration": 8,
    "start_time": "2022-03-03T11:06:10.517Z"
   },
   {
    "duration": 9,
    "start_time": "2022-03-03T11:06:10.528Z"
   },
   {
    "duration": 2,
    "start_time": "2022-03-03T11:06:10.539Z"
   },
   {
    "duration": 4,
    "start_time": "2022-03-03T11:06:10.542Z"
   },
   {
    "duration": 8,
    "start_time": "2022-03-03T11:06:10.547Z"
   },
   {
    "duration": 3,
    "start_time": "2022-03-03T11:06:10.557Z"
   },
   {
    "duration": 4,
    "start_time": "2022-03-03T11:06:10.562Z"
   },
   {
    "duration": 5,
    "start_time": "2022-03-03T11:06:10.567Z"
   },
   {
    "duration": 5,
    "start_time": "2022-03-03T11:06:10.573Z"
   },
   {
    "duration": 211,
    "start_time": "2022-03-03T11:06:10.580Z"
   },
   {
    "duration": 17,
    "start_time": "2022-03-03T11:06:10.792Z"
   },
   {
    "duration": 7,
    "start_time": "2022-03-03T11:06:10.810Z"
   },
   {
    "duration": 7,
    "start_time": "2022-03-03T11:06:10.818Z"
   },
   {
    "duration": 4,
    "start_time": "2022-03-03T11:06:10.826Z"
   },
   {
    "duration": 179,
    "start_time": "2022-03-03T11:06:10.831Z"
   },
   {
    "duration": 7,
    "start_time": "2022-03-03T11:06:11.011Z"
   },
   {
    "duration": 6,
    "start_time": "2022-03-03T11:06:11.020Z"
   },
   {
    "duration": 4,
    "start_time": "2022-03-03T11:06:11.027Z"
   },
   {
    "duration": 179,
    "start_time": "2022-03-03T11:06:11.033Z"
   },
   {
    "duration": 7,
    "start_time": "2022-03-03T11:06:11.214Z"
   },
   {
    "duration": 6,
    "start_time": "2022-03-03T11:06:11.222Z"
   },
   {
    "duration": 6,
    "start_time": "2022-03-03T11:06:11.229Z"
   },
   {
    "duration": 175,
    "start_time": "2022-03-03T11:06:11.237Z"
   },
   {
    "duration": 6,
    "start_time": "2022-03-03T11:06:11.414Z"
   },
   {
    "duration": 6,
    "start_time": "2022-03-03T11:06:11.422Z"
   },
   {
    "duration": 7,
    "start_time": "2022-03-03T11:06:11.429Z"
   },
   {
    "duration": 175,
    "start_time": "2022-03-03T11:06:11.437Z"
   },
   {
    "duration": 6,
    "start_time": "2022-03-03T11:06:11.614Z"
   },
   {
    "duration": 6,
    "start_time": "2022-03-03T11:06:11.621Z"
   },
   {
    "duration": 6,
    "start_time": "2022-03-03T11:06:11.628Z"
   },
   {
    "duration": 178,
    "start_time": "2022-03-03T11:06:11.635Z"
   },
   {
    "duration": 2,
    "start_time": "2022-03-03T11:06:11.815Z"
   },
   {
    "duration": 9,
    "start_time": "2022-03-03T11:06:11.818Z"
   },
   {
    "duration": 11,
    "start_time": "2022-03-03T11:06:11.828Z"
   },
   {
    "duration": 5,
    "start_time": "2022-03-03T11:06:11.841Z"
   },
   {
    "duration": 7204,
    "start_time": "2022-03-03T11:10:47.577Z"
   },
   {
    "duration": 4,
    "start_time": "2022-03-03T11:10:59.849Z"
   },
   {
    "duration": 5,
    "start_time": "2022-03-03T11:11:03.886Z"
   },
   {
    "duration": 4,
    "start_time": "2022-03-03T11:11:11.508Z"
   },
   {
    "duration": 4,
    "start_time": "2022-03-03T11:12:58.121Z"
   },
   {
    "duration": 428,
    "start_time": "2022-03-03T11:16:42.440Z"
   },
   {
    "duration": 8,
    "start_time": "2022-03-03T11:17:08.519Z"
   },
   {
    "duration": 416,
    "start_time": "2022-03-03T11:18:32.014Z"
   },
   {
    "duration": 8,
    "start_time": "2022-03-03T11:18:38.821Z"
   },
   {
    "duration": 60,
    "start_time": "2022-03-03T11:20:09.915Z"
   },
   {
    "duration": 10,
    "start_time": "2022-03-03T11:20:18.504Z"
   },
   {
    "duration": 50,
    "start_time": "2022-03-03T11:22:56.465Z"
   },
   {
    "duration": 22,
    "start_time": "2022-03-03T11:28:14.519Z"
   },
   {
    "duration": 92,
    "start_time": "2022-03-03T11:43:14.761Z"
   },
   {
    "duration": 1355,
    "start_time": "2022-03-03T15:50:22.152Z"
   },
   {
    "duration": 198,
    "start_time": "2022-03-03T15:50:23.510Z"
   },
   {
    "duration": 174,
    "start_time": "2022-03-03T15:50:23.711Z"
   },
   {
    "duration": 120,
    "start_time": "2022-03-03T15:50:23.888Z"
   },
   {
    "duration": 21,
    "start_time": "2022-03-03T15:50:24.011Z"
   },
   {
    "duration": 43,
    "start_time": "2022-03-03T15:50:24.034Z"
   },
   {
    "duration": 256,
    "start_time": "2022-03-03T15:50:24.079Z"
   },
   {
    "duration": 19,
    "start_time": "2022-03-03T15:50:24.338Z"
   },
   {
    "duration": 25,
    "start_time": "2022-03-03T15:50:24.361Z"
   },
   {
    "duration": 64,
    "start_time": "2022-03-03T15:50:24.389Z"
   },
   {
    "duration": 17,
    "start_time": "2022-03-03T15:50:24.455Z"
   },
   {
    "duration": 12,
    "start_time": "2022-03-03T15:50:24.474Z"
   },
   {
    "duration": 5,
    "start_time": "2022-03-03T15:50:24.489Z"
   },
   {
    "duration": 5,
    "start_time": "2022-03-03T15:50:24.497Z"
   },
   {
    "duration": 5,
    "start_time": "2022-03-03T15:50:24.504Z"
   },
   {
    "duration": 9,
    "start_time": "2022-03-03T15:50:24.552Z"
   },
   {
    "duration": 9,
    "start_time": "2022-03-03T15:50:24.563Z"
   },
   {
    "duration": 6,
    "start_time": "2022-03-03T15:50:24.574Z"
   },
   {
    "duration": 4,
    "start_time": "2022-03-03T15:50:24.583Z"
   },
   {
    "duration": 6,
    "start_time": "2022-03-03T15:50:24.589Z"
   },
   {
    "duration": 5,
    "start_time": "2022-03-03T15:50:24.598Z"
   },
   {
    "duration": 8,
    "start_time": "2022-03-03T15:50:24.605Z"
   },
   {
    "duration": 5,
    "start_time": "2022-03-03T15:50:24.615Z"
   },
   {
    "duration": 14,
    "start_time": "2022-03-03T15:50:24.650Z"
   },
   {
    "duration": 6,
    "start_time": "2022-03-03T15:50:24.667Z"
   },
   {
    "duration": 5,
    "start_time": "2022-03-03T15:50:24.675Z"
   },
   {
    "duration": 10,
    "start_time": "2022-03-03T15:50:24.686Z"
   },
   {
    "duration": 5,
    "start_time": "2022-03-03T15:50:24.699Z"
   },
   {
    "duration": 49,
    "start_time": "2022-03-03T15:50:24.706Z"
   },
   {
    "duration": 9,
    "start_time": "2022-03-03T15:50:24.757Z"
   },
   {
    "duration": 9,
    "start_time": "2022-03-03T15:50:24.768Z"
   },
   {
    "duration": 389,
    "start_time": "2022-03-03T15:50:24.780Z"
   },
   {
    "duration": 12,
    "start_time": "2022-03-03T15:50:25.172Z"
   },
   {
    "duration": 10,
    "start_time": "2022-03-03T15:50:25.187Z"
   },
   {
    "duration": 9,
    "start_time": "2022-03-03T15:50:25.200Z"
   },
   {
    "duration": 42,
    "start_time": "2022-03-03T15:50:25.211Z"
   },
   {
    "duration": 336,
    "start_time": "2022-03-03T15:50:25.256Z"
   },
   {
    "duration": 11,
    "start_time": "2022-03-03T15:50:25.595Z"
   },
   {
    "duration": 7,
    "start_time": "2022-03-03T15:50:25.609Z"
   },
   {
    "duration": 33,
    "start_time": "2022-03-03T15:50:25.618Z"
   },
   {
    "duration": 326,
    "start_time": "2022-03-03T15:50:25.653Z"
   },
   {
    "duration": 13,
    "start_time": "2022-03-03T15:50:25.981Z"
   },
   {
    "duration": 7,
    "start_time": "2022-03-03T15:50:25.996Z"
   },
   {
    "duration": 7,
    "start_time": "2022-03-03T15:50:26.006Z"
   },
   {
    "duration": 295,
    "start_time": "2022-03-03T15:50:26.052Z"
   },
   {
    "duration": 14,
    "start_time": "2022-03-03T15:50:26.352Z"
   },
   {
    "duration": 6,
    "start_time": "2022-03-03T15:50:26.368Z"
   },
   {
    "duration": 5,
    "start_time": "2022-03-03T15:50:26.376Z"
   },
   {
    "duration": 334,
    "start_time": "2022-03-03T15:50:26.384Z"
   },
   {
    "duration": 11,
    "start_time": "2022-03-03T15:50:26.720Z"
   },
   {
    "duration": 19,
    "start_time": "2022-03-03T15:50:26.733Z"
   },
   {
    "duration": 5,
    "start_time": "2022-03-03T15:50:26.755Z"
   },
   {
    "duration": 316,
    "start_time": "2022-03-03T15:50:26.763Z"
   },
   {
    "duration": 3,
    "start_time": "2022-03-03T15:50:27.081Z"
   },
   {
    "duration": 11,
    "start_time": "2022-03-03T15:50:27.087Z"
   },
   {
    "duration": 11,
    "start_time": "2022-03-03T15:50:27.100Z"
   },
   {
    "duration": 42,
    "start_time": "2022-03-03T15:50:27.114Z"
   },
   {
    "duration": 6,
    "start_time": "2022-03-03T15:54:41.238Z"
   },
   {
    "duration": 6,
    "start_time": "2022-03-03T15:54:50.550Z"
   },
   {
    "duration": 6,
    "start_time": "2022-03-03T15:56:34.673Z"
   },
   {
    "duration": 369,
    "start_time": "2022-03-03T15:56:39.233Z"
   },
   {
    "duration": 12,
    "start_time": "2022-03-03T15:56:53.333Z"
   },
   {
    "duration": 9,
    "start_time": "2022-03-03T15:57:07.627Z"
   },
   {
    "duration": 10,
    "start_time": "2022-03-03T15:58:03.501Z"
   },
   {
    "duration": 6,
    "start_time": "2022-03-03T15:58:36.252Z"
   },
   {
    "duration": 6,
    "start_time": "2022-03-03T15:58:37.799Z"
   },
   {
    "duration": 360,
    "start_time": "2022-03-03T15:58:46.305Z"
   },
   {
    "duration": 353,
    "start_time": "2022-03-04T02:39:24.212Z"
   },
   {
    "duration": 1033,
    "start_time": "2022-03-04T02:39:29.496Z"
   },
   {
    "duration": 165,
    "start_time": "2022-03-04T02:39:30.531Z"
   },
   {
    "duration": 129,
    "start_time": "2022-03-04T02:39:30.698Z"
   },
   {
    "duration": 85,
    "start_time": "2022-03-04T02:39:30.829Z"
   },
   {
    "duration": 22,
    "start_time": "2022-03-04T02:39:30.915Z"
   },
   {
    "duration": 45,
    "start_time": "2022-03-04T02:39:30.938Z"
   },
   {
    "duration": 164,
    "start_time": "2022-03-04T02:39:30.984Z"
   },
   {
    "duration": 6,
    "start_time": "2022-03-04T02:39:31.150Z"
   },
   {
    "duration": 24,
    "start_time": "2022-03-04T02:39:31.158Z"
   },
   {
    "duration": 27,
    "start_time": "2022-03-04T02:39:31.183Z"
   },
   {
    "duration": 8,
    "start_time": "2022-03-04T02:39:31.211Z"
   },
   {
    "duration": 6,
    "start_time": "2022-03-04T02:39:31.221Z"
   },
   {
    "duration": 5,
    "start_time": "2022-03-04T02:39:31.228Z"
   },
   {
    "duration": 6,
    "start_time": "2022-03-04T02:39:31.234Z"
   },
   {
    "duration": 9,
    "start_time": "2022-03-04T02:39:31.241Z"
   },
   {
    "duration": 6,
    "start_time": "2022-03-04T02:39:31.251Z"
   },
   {
    "duration": 19,
    "start_time": "2022-03-04T02:39:31.258Z"
   },
   {
    "duration": 16,
    "start_time": "2022-03-04T02:39:31.278Z"
   },
   {
    "duration": 6,
    "start_time": "2022-03-04T02:39:31.295Z"
   },
   {
    "duration": 11,
    "start_time": "2022-03-04T02:39:31.302Z"
   },
   {
    "duration": 9,
    "start_time": "2022-03-04T02:39:31.314Z"
   },
   {
    "duration": 18,
    "start_time": "2022-03-04T02:39:31.324Z"
   },
   {
    "duration": 9,
    "start_time": "2022-03-04T02:39:31.345Z"
   },
   {
    "duration": 19,
    "start_time": "2022-03-04T02:39:31.356Z"
   },
   {
    "duration": 2,
    "start_time": "2022-03-04T02:39:31.376Z"
   },
   {
    "duration": 6,
    "start_time": "2022-03-04T02:39:31.379Z"
   },
   {
    "duration": 31,
    "start_time": "2022-03-04T02:39:31.386Z"
   },
   {
    "duration": 5,
    "start_time": "2022-03-04T02:39:31.419Z"
   },
   {
    "duration": 16,
    "start_time": "2022-03-04T02:39:31.425Z"
   },
   {
    "duration": 6,
    "start_time": "2022-03-04T02:39:31.442Z"
   },
   {
    "duration": 13,
    "start_time": "2022-03-04T02:39:31.450Z"
   },
   {
    "duration": 189,
    "start_time": "2022-03-04T02:39:31.465Z"
   },
   {
    "duration": 7,
    "start_time": "2022-03-04T02:39:31.656Z"
   },
   {
    "duration": 6,
    "start_time": "2022-03-04T02:39:31.665Z"
   },
   {
    "duration": 8,
    "start_time": "2022-03-04T02:39:31.673Z"
   },
   {
    "duration": 187,
    "start_time": "2022-03-04T02:39:31.682Z"
   },
   {
    "duration": 9,
    "start_time": "2022-03-04T02:39:31.871Z"
   },
   {
    "duration": 6,
    "start_time": "2022-03-04T02:39:31.881Z"
   },
   {
    "duration": 4,
    "start_time": "2022-03-04T02:39:31.904Z"
   },
   {
    "duration": 171,
    "start_time": "2022-03-04T02:39:31.910Z"
   },
   {
    "duration": 8,
    "start_time": "2022-03-04T02:39:32.082Z"
   },
   {
    "duration": 15,
    "start_time": "2022-03-04T02:39:32.091Z"
   },
   {
    "duration": 3,
    "start_time": "2022-03-04T02:39:32.108Z"
   },
   {
    "duration": 158,
    "start_time": "2022-03-04T02:39:32.113Z"
   },
   {
    "duration": 7,
    "start_time": "2022-03-04T02:39:32.272Z"
   },
   {
    "duration": 4,
    "start_time": "2022-03-04T02:39:32.280Z"
   },
   {
    "duration": 20,
    "start_time": "2022-03-04T02:39:32.286Z"
   },
   {
    "duration": 175,
    "start_time": "2022-03-04T02:39:32.307Z"
   },
   {
    "duration": 7,
    "start_time": "2022-03-04T02:39:32.483Z"
   },
   {
    "duration": 13,
    "start_time": "2022-03-04T02:39:32.492Z"
   },
   {
    "duration": 4,
    "start_time": "2022-03-04T02:39:32.507Z"
   },
   {
    "duration": 161,
    "start_time": "2022-03-04T02:39:32.512Z"
   },
   {
    "duration": 2,
    "start_time": "2022-03-04T02:39:32.675Z"
   },
   {
    "duration": 8,
    "start_time": "2022-03-04T02:39:32.679Z"
   },
   {
    "duration": 20,
    "start_time": "2022-03-04T02:39:32.688Z"
   },
   {
    "duration": 6,
    "start_time": "2022-03-04T02:39:32.709Z"
   },
   {
    "duration": 9,
    "start_time": "2022-03-04T02:40:46.013Z"
   },
   {
    "duration": 11,
    "start_time": "2022-03-04T02:40:48.743Z"
   },
   {
    "duration": 24,
    "start_time": "2022-03-04T02:40:57.904Z"
   },
   {
    "duration": 10,
    "start_time": "2022-03-04T02:41:32.984Z"
   },
   {
    "duration": 11,
    "start_time": "2022-03-04T02:41:35.462Z"
   },
   {
    "duration": 23,
    "start_time": "2022-03-04T02:42:12.992Z"
   }
  ],
  "kernelspec": {
   "display_name": "Python 3 (ipykernel)",
   "language": "python",
   "name": "python3"
  },
  "language_info": {
   "codemirror_mode": {
    "name": "ipython",
    "version": 3
   },
   "file_extension": ".py",
   "mimetype": "text/x-python",
   "name": "python",
   "nbconvert_exporter": "python",
   "pygments_lexer": "ipython3",
   "version": "3.9.5"
  },
  "toc": {
   "base_numbering": 1,
   "nav_menu": {},
   "number_sections": true,
   "sideBar": true,
   "skip_h1_title": true,
   "title_cell": "Содержание",
   "title_sidebar": "Contents",
   "toc_cell": true,
   "toc_position": {
    "height": "calc(100% - 180px)",
    "left": "10px",
    "top": "150px",
    "width": "243px"
   },
   "toc_section_display": true,
   "toc_window_display": true
  }
 },
 "nbformat": 4,
 "nbformat_minor": 2
}
