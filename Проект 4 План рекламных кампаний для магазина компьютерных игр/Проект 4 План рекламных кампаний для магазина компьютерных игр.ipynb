{
 "cells": [
  {
   "cell_type": "markdown",
   "metadata": {
    "id": "K2XWvb8VQqQz"
   },
   "source": [
    "<h1>Содержание<span class=\"tocSkip\"></span></h1>\n",
    "<div class=\"toc\"><ul class=\"toc-item\"><li><span><a href=\"#Описание-проекта\" data-toc-modified-id=\"Описание-проекта-1\"><span class=\"toc-item-num\">1&nbsp;&nbsp;</span>Описание проекта</a></span></li><li><span><a href=\"#Описание-данных\" data-toc-modified-id=\"Описание-данных-2\"><span class=\"toc-item-num\">2&nbsp;&nbsp;</span>Описание данных</a></span></li><li><span><a href=\"#Импортируем-библиотеки-и-откроем-файл-с-данными\" data-toc-modified-id=\"Импортируем-библиотеки-и-откроем-файл-с-данными-3\"><span class=\"toc-item-num\">3&nbsp;&nbsp;</span>Импортируем библиотеки и откроем файл с данными</a></span></li><li><span><a href=\"#Подготовка-данных\" data-toc-modified-id=\"Подготовка-данных-4\"><span class=\"toc-item-num\">4&nbsp;&nbsp;</span>Подготовка данных</a></span><ul class=\"toc-item\"><li><span><a href=\"#Приведем-название-столбцов-к-нижнему-регистру\" data-toc-modified-id=\"Приведем-название-столбцов-к-нижнему-регистру-4.1\"><span class=\"toc-item-num\">4.1&nbsp;&nbsp;</span>Приведем название столбцов к нижнему регистру</a></span></li><li><span><a href=\"#Преобразуем-данные-в-нужные-типы\" data-toc-modified-id=\"Преобразуем-данные-в-нужные-типы-4.2\"><span class=\"toc-item-num\">4.2&nbsp;&nbsp;</span>Преобразуем данные в нужные типы</a></span></li></ul></li><li><span><a href=\"#Исследовательский-анализ-данных\" data-toc-modified-id=\"Исследовательский-анализ-данных-5\"><span class=\"toc-item-num\">5&nbsp;&nbsp;</span>Исследовательский анализ данных</a></span><ul class=\"toc-item\"><li><span><a href=\"#Распределение-игр-по-жанрам\" data-toc-modified-id=\"Распределение-игр-по-жанрам-5.1\"><span class=\"toc-item-num\">5.1&nbsp;&nbsp;</span>Распределение игр по жанрам</a></span></li></ul></li><li><span><a href=\"#Составление-портрета-пользователей\" data-toc-modified-id=\"Составление-портрета-пользователей-6\"><span class=\"toc-item-num\">6&nbsp;&nbsp;</span>Составление портрета пользователей</a></span><ul class=\"toc-item\"><li><span><a href=\"#Северная-Америка\" data-toc-modified-id=\"Северная-Америка-6.1\"><span class=\"toc-item-num\">6.1&nbsp;&nbsp;</span>Северная Америка</a></span></li><li><span><a href=\"#Европа\" data-toc-modified-id=\"Европа-6.2\"><span class=\"toc-item-num\">6.2&nbsp;&nbsp;</span>Европа</a></span></li><li><span><a href=\"#Япония\" data-toc-modified-id=\"Япония-6.3\"><span class=\"toc-item-num\">6.3&nbsp;&nbsp;</span>Япония</a></span></li><li><span><a href=\"#Другие-страны\" data-toc-modified-id=\"Другие-страны-6.4\"><span class=\"toc-item-num\">6.4&nbsp;&nbsp;</span>Другие страны</a></span></li></ul></li><li><span><a href=\"#Проверка-гипотез\" data-toc-modified-id=\"Проверка-гипотез-7\"><span class=\"toc-item-num\">7&nbsp;&nbsp;</span>Проверка гипотез</a></span><ul class=\"toc-item\"><li><span><a href=\"#Средние-пользовательские-рейтинги-платформ-Xbox-One-и-PC-одинаковые\" data-toc-modified-id=\"Средние-пользовательские-рейтинги-платформ-Xbox-One-и-PC-одинаковые-7.1\"><span class=\"toc-item-num\">7.1&nbsp;&nbsp;</span>Средние пользовательские рейтинги платформ Xbox One и PC одинаковые</a></span></li><li><span><a href=\"#Средние-пользовательские-рейтинги-жанров-Action-и-Sports-разные.\" data-toc-modified-id=\"Средние-пользовательские-рейтинги-жанров-Action-и-Sports-разные.-7.2\"><span class=\"toc-item-num\">7.2&nbsp;&nbsp;</span>Средние пользовательские рейтинги жанров Action и Sports разные.</a></span></li></ul></li><li><span><a href=\"#Общий-вывод\" data-toc-modified-id=\"Общий-вывод-8\"><span class=\"toc-item-num\">8&nbsp;&nbsp;</span>Общий вывод</a></span></li></ul></div>"
   ]
  },
  {
   "cell_type": "markdown",
   "metadata": {
    "id": "PxYkbFbIxnUZ"
   },
   "source": [
    "# План рекламных кампаний для магазина компьютерных игр"
   ]
  },
  {
   "cell_type": "markdown",
   "metadata": {
    "id": "p4BT-5Mhxu2y"
   },
   "source": [
    "## Описание проекта\n",
    "\n",
    "Интернет - магазин компьютерных игр продает их по всему миру. Из открытых источников доступны данные о продажах игр, оценки пользователей, критиков, жанры и платформы. Необходимо выявить успешность игры закономерности. Это позволит сделать ставку на потенциально популярный продукт и сплпнировать рекламные компании."
   ]
  },
  {
   "cell_type": "markdown",
   "metadata": {
    "id": "dBLxRi1uyd4x"
   },
   "source": [
    "## Описание данных\n",
    "\n",
    "* Name — название игры\n",
    "* Platform — платформа\n",
    "* Year_of_Release — год выпуска\n",
    "* Genre — жанр игры\n",
    "* NA_sales — продажи в Северной Америке (миллионы долларов)\n",
    "* EU_sales — продажи в Европе (миллионы долларов)\n",
    "* JP_sales — продажи в Японии (миллионы долларов)\n",
    "* Other_sales — продажи в других странах (миллионы долларов)\n",
    "* Critic_Score — оценка критиков (максимум 100)\n",
    "* User_Score — оценка пользователей (максимум 10)\n",
    "* Rating — рейтинг от организации ESRB (англ. Entertainment Software Rating Board). Эта ассоциация определяет рейтинг компьютерных игр и присваивает им подходящую возрастную категорию, а именно:\n",
    "1. EC («Early childhood») — «Для детей младшего возраста»\n",
    "2. E («Everyone») — «Для всех»\n",
    "3. K-A (\"Kids to Adults\") — вариация категории «Для всех»\n",
    "4. E10+ («Everyone 10 and older») — «Для всех от 10 лет и старше»\n",
    "5. T («Teen») — «Подросткам»\n",
    "6. M («Mature») — «Для взрослых 17+»\n",
    "7. AO («Adults Only 18+») — «Только для взрослых»\n",
    "8. RP («Rating Pending») — «Рейтинг ожидается»"
   ]
  },
  {
   "cell_type": "markdown",
   "metadata": {
    "id": "PcqWyXaiPtbX"
   },
   "source": [
    "## Импортируем библиотеки и откроем файл с данными\n"
   ]
  },
  {
   "cell_type": "code",
   "execution_count": 1,
   "metadata": {
    "id": "jsCQFJe7yHza"
   },
   "outputs": [],
   "source": [
    "import pandas as pd\n",
    "import matplotlib.pyplot as plt\n",
    "import seaborn as sns\n",
    "from scipy import stats as st\n"
   ]
  },
  {
   "cell_type": "code",
   "execution_count": 2,
   "metadata": {
    "colab": {
     "base_uri": "https://localhost:8080/",
     "height": 518
    },
    "id": "k68xDvr2ykI-",
    "outputId": "a1fa0147-02db-4b96-afcc-a753646a8a7a"
   },
   "outputs": [
    {
     "data": {
      "text/html": [
       "<div>\n",
       "<style scoped>\n",
       "    .dataframe tbody tr th:only-of-type {\n",
       "        vertical-align: middle;\n",
       "    }\n",
       "\n",
       "    .dataframe tbody tr th {\n",
       "        vertical-align: top;\n",
       "    }\n",
       "\n",
       "    .dataframe thead th {\n",
       "        text-align: right;\n",
       "    }\n",
       "</style>\n",
       "<table border=\"1\" class=\"dataframe\">\n",
       "  <thead>\n",
       "    <tr style=\"text-align: right;\">\n",
       "      <th></th>\n",
       "      <th>Name</th>\n",
       "      <th>Platform</th>\n",
       "      <th>Year_of_Release</th>\n",
       "      <th>Genre</th>\n",
       "      <th>NA_sales</th>\n",
       "      <th>EU_sales</th>\n",
       "      <th>JP_sales</th>\n",
       "      <th>Other_sales</th>\n",
       "      <th>Critic_Score</th>\n",
       "      <th>User_Score</th>\n",
       "      <th>Rating</th>\n",
       "    </tr>\n",
       "  </thead>\n",
       "  <tbody>\n",
       "    <tr>\n",
       "      <th>0</th>\n",
       "      <td>Wii Sports</td>\n",
       "      <td>Wii</td>\n",
       "      <td>2006.0</td>\n",
       "      <td>Sports</td>\n",
       "      <td>41.36</td>\n",
       "      <td>28.96</td>\n",
       "      <td>3.77</td>\n",
       "      <td>8.45</td>\n",
       "      <td>76.0</td>\n",
       "      <td>8</td>\n",
       "      <td>E</td>\n",
       "    </tr>\n",
       "    <tr>\n",
       "      <th>1</th>\n",
       "      <td>Super Mario Bros.</td>\n",
       "      <td>NES</td>\n",
       "      <td>1985.0</td>\n",
       "      <td>Platform</td>\n",
       "      <td>29.08</td>\n",
       "      <td>3.58</td>\n",
       "      <td>6.81</td>\n",
       "      <td>0.77</td>\n",
       "      <td>NaN</td>\n",
       "      <td>NaN</td>\n",
       "      <td>NaN</td>\n",
       "    </tr>\n",
       "    <tr>\n",
       "      <th>2</th>\n",
       "      <td>Mario Kart Wii</td>\n",
       "      <td>Wii</td>\n",
       "      <td>2008.0</td>\n",
       "      <td>Racing</td>\n",
       "      <td>15.68</td>\n",
       "      <td>12.76</td>\n",
       "      <td>3.79</td>\n",
       "      <td>3.29</td>\n",
       "      <td>82.0</td>\n",
       "      <td>8.3</td>\n",
       "      <td>E</td>\n",
       "    </tr>\n",
       "    <tr>\n",
       "      <th>3</th>\n",
       "      <td>Wii Sports Resort</td>\n",
       "      <td>Wii</td>\n",
       "      <td>2009.0</td>\n",
       "      <td>Sports</td>\n",
       "      <td>15.61</td>\n",
       "      <td>10.93</td>\n",
       "      <td>3.28</td>\n",
       "      <td>2.95</td>\n",
       "      <td>80.0</td>\n",
       "      <td>8</td>\n",
       "      <td>E</td>\n",
       "    </tr>\n",
       "    <tr>\n",
       "      <th>4</th>\n",
       "      <td>Pokemon Red/Pokemon Blue</td>\n",
       "      <td>GB</td>\n",
       "      <td>1996.0</td>\n",
       "      <td>Role-Playing</td>\n",
       "      <td>11.27</td>\n",
       "      <td>8.89</td>\n",
       "      <td>10.22</td>\n",
       "      <td>1.00</td>\n",
       "      <td>NaN</td>\n",
       "      <td>NaN</td>\n",
       "      <td>NaN</td>\n",
       "    </tr>\n",
       "  </tbody>\n",
       "</table>\n",
       "</div>"
      ],
      "text/plain": [
       "                       Name Platform  Year_of_Release         Genre  NA_sales  \\\n",
       "0                Wii Sports      Wii           2006.0        Sports     41.36   \n",
       "1         Super Mario Bros.      NES           1985.0      Platform     29.08   \n",
       "2            Mario Kart Wii      Wii           2008.0        Racing     15.68   \n",
       "3         Wii Sports Resort      Wii           2009.0        Sports     15.61   \n",
       "4  Pokemon Red/Pokemon Blue       GB           1996.0  Role-Playing     11.27   \n",
       "\n",
       "   EU_sales  JP_sales  Other_sales  Critic_Score User_Score Rating  \n",
       "0     28.96      3.77         8.45          76.0          8      E  \n",
       "1      3.58      6.81         0.77           NaN        NaN    NaN  \n",
       "2     12.76      3.79         3.29          82.0        8.3      E  \n",
       "3     10.93      3.28         2.95          80.0          8      E  \n",
       "4      8.89     10.22         1.00           NaN        NaN    NaN  "
      ]
     },
     "metadata": {},
     "output_type": "display_data"
    },
    {
     "name": "stdout",
     "output_type": "stream",
     "text": [
      "<class 'pandas.core.frame.DataFrame'>\n",
      "RangeIndex: 16715 entries, 0 to 16714\n",
      "Data columns (total 11 columns):\n",
      " #   Column           Non-Null Count  Dtype  \n",
      "---  ------           --------------  -----  \n",
      " 0   Name             16713 non-null  object \n",
      " 1   Platform         16715 non-null  object \n",
      " 2   Year_of_Release  16446 non-null  float64\n",
      " 3   Genre            16713 non-null  object \n",
      " 4   NA_sales         16715 non-null  float64\n",
      " 5   EU_sales         16715 non-null  float64\n",
      " 6   JP_sales         16715 non-null  float64\n",
      " 7   Other_sales      16715 non-null  float64\n",
      " 8   Critic_Score     8137 non-null   float64\n",
      " 9   User_Score       10014 non-null  object \n",
      " 10  Rating           9949 non-null   object \n",
      "dtypes: float64(6), object(5)\n",
      "memory usage: 1.4+ MB\n"
     ]
    }
   ],
   "source": [
    "df = pd.read_csv('/datasets/games.csv')\n",
    "display(df.head())\n",
    "df.info()"
   ]
  },
  {
   "cell_type": "markdown",
   "metadata": {
    "id": "JageIeXUQC8s"
   },
   "source": [
    "## Подготовка данных\n",
    "### Приведем название столбцов к нижнему регистру"
   ]
  },
  {
   "cell_type": "code",
   "execution_count": 3,
   "metadata": {
    "colab": {
     "base_uri": "https://localhost:8080/",
     "height": 206
    },
    "id": "6tiB7Q8zQGnK",
    "outputId": "719aae09-b58a-4e7e-bef3-62e1bf693f75"
   },
   "outputs": [
    {
     "data": {
      "text/html": [
       "<div>\n",
       "<style scoped>\n",
       "    .dataframe tbody tr th:only-of-type {\n",
       "        vertical-align: middle;\n",
       "    }\n",
       "\n",
       "    .dataframe tbody tr th {\n",
       "        vertical-align: top;\n",
       "    }\n",
       "\n",
       "    .dataframe thead th {\n",
       "        text-align: right;\n",
       "    }\n",
       "</style>\n",
       "<table border=\"1\" class=\"dataframe\">\n",
       "  <thead>\n",
       "    <tr style=\"text-align: right;\">\n",
       "      <th></th>\n",
       "      <th>name</th>\n",
       "      <th>platform</th>\n",
       "      <th>year_of_release</th>\n",
       "      <th>genre</th>\n",
       "      <th>na_sales</th>\n",
       "      <th>eu_sales</th>\n",
       "      <th>jp_sales</th>\n",
       "      <th>other_sales</th>\n",
       "      <th>critic_score</th>\n",
       "      <th>user_score</th>\n",
       "      <th>rating</th>\n",
       "    </tr>\n",
       "  </thead>\n",
       "  <tbody>\n",
       "    <tr>\n",
       "      <th>0</th>\n",
       "      <td>Wii Sports</td>\n",
       "      <td>Wii</td>\n",
       "      <td>2006.0</td>\n",
       "      <td>Sports</td>\n",
       "      <td>41.36</td>\n",
       "      <td>28.96</td>\n",
       "      <td>3.77</td>\n",
       "      <td>8.45</td>\n",
       "      <td>76.0</td>\n",
       "      <td>8</td>\n",
       "      <td>E</td>\n",
       "    </tr>\n",
       "    <tr>\n",
       "      <th>1</th>\n",
       "      <td>Super Mario Bros.</td>\n",
       "      <td>NES</td>\n",
       "      <td>1985.0</td>\n",
       "      <td>Platform</td>\n",
       "      <td>29.08</td>\n",
       "      <td>3.58</td>\n",
       "      <td>6.81</td>\n",
       "      <td>0.77</td>\n",
       "      <td>NaN</td>\n",
       "      <td>NaN</td>\n",
       "      <td>NaN</td>\n",
       "    </tr>\n",
       "    <tr>\n",
       "      <th>2</th>\n",
       "      <td>Mario Kart Wii</td>\n",
       "      <td>Wii</td>\n",
       "      <td>2008.0</td>\n",
       "      <td>Racing</td>\n",
       "      <td>15.68</td>\n",
       "      <td>12.76</td>\n",
       "      <td>3.79</td>\n",
       "      <td>3.29</td>\n",
       "      <td>82.0</td>\n",
       "      <td>8.3</td>\n",
       "      <td>E</td>\n",
       "    </tr>\n",
       "    <tr>\n",
       "      <th>3</th>\n",
       "      <td>Wii Sports Resort</td>\n",
       "      <td>Wii</td>\n",
       "      <td>2009.0</td>\n",
       "      <td>Sports</td>\n",
       "      <td>15.61</td>\n",
       "      <td>10.93</td>\n",
       "      <td>3.28</td>\n",
       "      <td>2.95</td>\n",
       "      <td>80.0</td>\n",
       "      <td>8</td>\n",
       "      <td>E</td>\n",
       "    </tr>\n",
       "    <tr>\n",
       "      <th>4</th>\n",
       "      <td>Pokemon Red/Pokemon Blue</td>\n",
       "      <td>GB</td>\n",
       "      <td>1996.0</td>\n",
       "      <td>Role-Playing</td>\n",
       "      <td>11.27</td>\n",
       "      <td>8.89</td>\n",
       "      <td>10.22</td>\n",
       "      <td>1.00</td>\n",
       "      <td>NaN</td>\n",
       "      <td>NaN</td>\n",
       "      <td>NaN</td>\n",
       "    </tr>\n",
       "  </tbody>\n",
       "</table>\n",
       "</div>"
      ],
      "text/plain": [
       "                       name platform  year_of_release         genre  na_sales  \\\n",
       "0                Wii Sports      Wii           2006.0        Sports     41.36   \n",
       "1         Super Mario Bros.      NES           1985.0      Platform     29.08   \n",
       "2            Mario Kart Wii      Wii           2008.0        Racing     15.68   \n",
       "3         Wii Sports Resort      Wii           2009.0        Sports     15.61   \n",
       "4  Pokemon Red/Pokemon Blue       GB           1996.0  Role-Playing     11.27   \n",
       "\n",
       "   eu_sales  jp_sales  other_sales  critic_score user_score rating  \n",
       "0     28.96      3.77         8.45          76.0          8      E  \n",
       "1      3.58      6.81         0.77           NaN        NaN    NaN  \n",
       "2     12.76      3.79         3.29          82.0        8.3      E  \n",
       "3     10.93      3.28         2.95          80.0          8      E  \n",
       "4      8.89     10.22         1.00           NaN        NaN    NaN  "
      ]
     },
     "execution_count": 3,
     "metadata": {},
     "output_type": "execute_result"
    }
   ],
   "source": [
    "df.columns = map(str.lower, df.columns)\n",
    "df.head()"
   ]
  },
  {
   "cell_type": "markdown",
   "metadata": {
    "id": "Qyx4XHjSSFuP"
   },
   "source": [
    "### Преобразуем данные в нужные типы"
   ]
  },
  {
   "cell_type": "markdown",
   "metadata": {
    "id": "Ft9SIwztoY-M"
   },
   "source": [
    "Пропущенные значения будем заменять на не типичные для данного датафрейма значениями -1"
   ]
  },
  {
   "cell_type": "code",
   "execution_count": 4,
   "metadata": {
    "id": "yQsyxriLTPWW"
   },
   "outputs": [],
   "source": [
    "df['year_of_release'] = df['year_of_release'].fillna(-1).astype(int)\n"
   ]
  },
  {
   "cell_type": "markdown",
   "metadata": {
    "id": "NKZBsvwfhQqs"
   },
   "source": [
    "В столбце user_score есть значения \"tbd\" эта аббревиатура рассшифовывается как To Be Determined, что означает, что рейтинг еще не определен. Заменим это значение и NaNы на значение -1, что бы привести весь столбец к вещественному типу"
   ]
  },
  {
   "cell_type": "code",
   "execution_count": 5,
   "metadata": {
    "id": "xGTCxYpHV6b6"
   },
   "outputs": [],
   "source": [
    "df['user_score'] = df['user_score'].replace('tbd', -1)\n",
    "df['user_score'] = df['user_score'].fillna(-1).astype(float)\n"
   ]
  },
  {
   "cell_type": "code",
   "execution_count": 6,
   "metadata": {
    "colab": {
     "base_uri": "https://localhost:8080/"
    },
    "id": "suiDI6K3WDLG",
    "outputId": "30b6ff14-83ca-435c-fe2a-78c10f393747"
   },
   "outputs": [
    {
     "data": {
      "text/plain": [
       "array(['E', nan, 'M', 'T', 'E10+', 'K-A', 'AO', 'EC', 'RP'], dtype=object)"
      ]
     },
     "execution_count": 6,
     "metadata": {},
     "output_type": "execute_result"
    }
   ],
   "source": [
    "df['rating'].unique()"
   ]
  },
  {
   "cell_type": "markdown",
   "metadata": {
    "id": "gKxNJrGFi0Y-"
   },
   "source": [
    "Рейтинги Е и K-A в целом обозначают одно и тоже - для всех возврастов, заменим значения K-A на E"
   ]
  },
  {
   "cell_type": "code",
   "execution_count": 7,
   "metadata": {
    "colab": {
     "base_uri": "https://localhost:8080/"
    },
    "id": "NoDUCoEViNo_",
    "outputId": "586f8851-2626-4960-b176-55ff20fb67cb"
   },
   "outputs": [
    {
     "data": {
      "text/plain": [
       "array(['E', -1, 'M', 'T', 'E10+', 'AO', 'EC', 'RP'], dtype=object)"
      ]
     },
     "execution_count": 7,
     "metadata": {},
     "output_type": "execute_result"
    }
   ],
   "source": [
    "df['rating'] = df['rating'].replace('K-A', 'E')\n",
    "df['rating'] = df['rating'].fillna(-1)\n",
    "df['rating'].unique()"
   ]
  },
  {
   "cell_type": "markdown",
   "metadata": {
    "id": "CULgA9upj-3r"
   },
   "source": [
    "В столбце name есть два пропущенных значения"
   ]
  },
  {
   "cell_type": "code",
   "execution_count": 8,
   "metadata": {
    "id": "9meVGxnVjQgJ"
   },
   "outputs": [],
   "source": [
    "#df.query('name.isnull()')\n",
    "df.dropna(subset=['name'], inplace=True)"
   ]
  },
  {
   "cell_type": "code",
   "execution_count": 9,
   "metadata": {
    "id": "kRAu18iArDa7"
   },
   "outputs": [],
   "source": [
    "df['critic_score'] = df['critic_score'].fillna(-1)"
   ]
  },
  {
   "cell_type": "markdown",
   "metadata": {
    "id": "tZTYsiM3j98k"
   },
   "source": [
    "Посчитаем общее количество продаж"
   ]
  },
  {
   "cell_type": "code",
   "execution_count": 10,
   "metadata": {
    "colab": {
     "base_uri": "https://localhost:8080/"
    },
    "id": "74tmY2yxrOid",
    "outputId": "18c3d49c-d2af-400f-d4ed-d6e7bc9c279c"
   },
   "outputs": [
    {
     "name": "stdout",
     "output_type": "stream",
     "text": [
      "<class 'pandas.core.frame.DataFrame'>\n",
      "Int64Index: 16713 entries, 0 to 16714\n",
      "Data columns (total 12 columns):\n",
      " #   Column           Non-Null Count  Dtype  \n",
      "---  ------           --------------  -----  \n",
      " 0   name             16713 non-null  object \n",
      " 1   platform         16713 non-null  object \n",
      " 2   year_of_release  16713 non-null  int64  \n",
      " 3   genre            16713 non-null  object \n",
      " 4   na_sales         16713 non-null  float64\n",
      " 5   eu_sales         16713 non-null  float64\n",
      " 6   jp_sales         16713 non-null  float64\n",
      " 7   other_sales      16713 non-null  float64\n",
      " 8   critic_score     16713 non-null  float64\n",
      " 9   user_score       16713 non-null  float64\n",
      " 10  rating           16713 non-null  object \n",
      " 11  total_sales      16713 non-null  float64\n",
      "dtypes: float64(7), int64(1), object(4)\n",
      "memory usage: 1.7+ MB\n"
     ]
    }
   ],
   "source": [
    "df['total_sales'] = df['na_sales'] + df['eu_sales'] + df['jp_sales'] + df['other_sales']\n",
    "df.info()"
   ]
  },
  {
   "cell_type": "markdown",
   "metadata": {
    "id": "lkOm0k51r52n"
   },
   "source": [
    "**Вывод**\n",
    "* Привели названия столбцов к нижнему регистру\n",
    "* Преобразовали данные в 'year_of_reliase' в формат int64, а 'user_score' в  формат float64\n",
    "* Обработали пропуски в столбцах 'critic_score', user_score', 'rating'. В них было много пропущенных значений, было принято решение заменить их на значение -1, которое учтем в дальнейшем.\n",
    "* Удалены пропуски в 'name'\n",
    "* Посчитали суммарные продажи и сохранили эти данные в столбец 'total_sales'"
   ]
  },
  {
   "cell_type": "markdown",
   "metadata": {
    "id": "e1vduxNkGrbN"
   },
   "source": [
    "## Исследовательский анализ данных"
   ]
  },
  {
   "cell_type": "markdown",
   "metadata": {
    "id": "J1dICI0LHWPD"
   },
   "source": [
    "Узнаем игр выпускалось в разные годы.\n",
    "Воспльзуемся наиболее актуальными данными, возьмем период с 1980 года."
   ]
  },
  {
   "cell_type": "code",
   "execution_count": 11,
   "metadata": {
    "colab": {
     "base_uri": "https://localhost:8080/",
     "height": 312
    },
    "id": "ETkLjvBhXLz1",
    "outputId": "278385ac-9a45-41fd-9496-ad011b1c5fc4"
   },
   "outputs": [
    {
     "data": {
      "text/plain": [
       "Text(0.5, 0, 'Год')"
      ]
     },
     "execution_count": 11,
     "metadata": {},
     "output_type": "execute_result"
    },
    {
     "data": {
      "image/png": "[encoded data removed]",
      "text/plain": [
       "<Figure size 432x288 with 1 Axes>"
      ]
     },
     "metadata": {
      "needs_background": "light"
     },
     "output_type": "display_data"
    }
   ],
   "source": [
    "count_by_year = df.query('year_of_release >= 1980').groupby('year_of_release')['name'].count()\n",
    "count_by_year.plot()\n",
    "plt.title('Количество игр')\n",
    "plt.ylabel('Количество')\n",
    "plt.xlabel('Год')\n"
   ]
  },
  {
   "cell_type": "markdown",
   "metadata": {
    "id": "wA6R78aG8AAT"
   },
   "source": [
    "\n",
    "По графику видно, что больше всего игр было выпущено с 2006 по 2012 года.\n",
    "\n",
    "Далее посмотрим сколько игр было выпущено для разных платформ"
   ]
  },
  {
   "cell_type": "code",
   "execution_count": 12,
   "metadata": {
    "colab": {
     "base_uri": "https://localhost:8080/",
     "height": 707
    },
    "id": "zXxi6c6EYjkb",
    "outputId": "c7ed047f-94e3-4cce-da65-1c05fe12a4e4"
   },
   "outputs": [
    {
     "data": {
      "text/html": [
       "<div>\n",
       "<style scoped>\n",
       "    .dataframe tbody tr th:only-of-type {\n",
       "        vertical-align: middle;\n",
       "    }\n",
       "\n",
       "    .dataframe tbody tr th {\n",
       "        vertical-align: top;\n",
       "    }\n",
       "\n",
       "    .dataframe thead th {\n",
       "        text-align: right;\n",
       "    }\n",
       "</style>\n",
       "<table border=\"1\" class=\"dataframe\">\n",
       "  <thead>\n",
       "    <tr style=\"text-align: right;\">\n",
       "      <th>year_of_release</th>\n",
       "      <th>2000</th>\n",
       "      <th>2001</th>\n",
       "      <th>2002</th>\n",
       "      <th>2003</th>\n",
       "      <th>2004</th>\n",
       "      <th>2005</th>\n",
       "      <th>2006</th>\n",
       "      <th>2007</th>\n",
       "      <th>2008</th>\n",
       "      <th>2009</th>\n",
       "      <th>2010</th>\n",
       "      <th>2011</th>\n",
       "      <th>2012</th>\n",
       "      <th>2013</th>\n",
       "      <th>2014</th>\n",
       "      <th>2015</th>\n",
       "      <th>2016</th>\n",
       "    </tr>\n",
       "    <tr>\n",
       "      <th>platform</th>\n",
       "      <th></th>\n",
       "      <th></th>\n",
       "      <th></th>\n",
       "      <th></th>\n",
       "      <th></th>\n",
       "      <th></th>\n",
       "      <th></th>\n",
       "      <th></th>\n",
       "      <th></th>\n",
       "      <th></th>\n",
       "      <th></th>\n",
       "      <th></th>\n",
       "      <th></th>\n",
       "      <th></th>\n",
       "      <th></th>\n",
       "      <th></th>\n",
       "      <th></th>\n",
       "    </tr>\n",
       "  </thead>\n",
       "  <tbody>\n",
       "    <tr>\n",
       "      <th>3DS</th>\n",
       "      <td>-</td>\n",
       "      <td>-</td>\n",
       "      <td>-</td>\n",
       "      <td>-</td>\n",
       "      <td>-</td>\n",
       "      <td>-</td>\n",
       "      <td>-</td>\n",
       "      <td>-</td>\n",
       "      <td>-</td>\n",
       "      <td>-</td>\n",
       "      <td>-</td>\n",
       "      <td>116.0</td>\n",
       "      <td>93.0</td>\n",
       "      <td>91.0</td>\n",
       "      <td>80.0</td>\n",
       "      <td>86.0</td>\n",
       "      <td>46.0</td>\n",
       "    </tr>\n",
       "    <tr>\n",
       "      <th>DC</th>\n",
       "      <td>20.0</td>\n",
       "      <td>8.0</td>\n",
       "      <td>1.0</td>\n",
       "      <td>-</td>\n",
       "      <td>-</td>\n",
       "      <td>-</td>\n",
       "      <td>-</td>\n",
       "      <td>1.0</td>\n",
       "      <td>1.0</td>\n",
       "      <td>-</td>\n",
       "      <td>-</td>\n",
       "      <td>-</td>\n",
       "      <td>-</td>\n",
       "      <td>-</td>\n",
       "      <td>-</td>\n",
       "      <td>-</td>\n",
       "      <td>-</td>\n",
       "    </tr>\n",
       "    <tr>\n",
       "      <th>DS</th>\n",
       "      <td>-</td>\n",
       "      <td>-</td>\n",
       "      <td>-</td>\n",
       "      <td>-</td>\n",
       "      <td>23.0</td>\n",
       "      <td>118.0</td>\n",
       "      <td>201.0</td>\n",
       "      <td>376.0</td>\n",
       "      <td>492.0</td>\n",
       "      <td>403.0</td>\n",
       "      <td>323.0</td>\n",
       "      <td>153.0</td>\n",
       "      <td>23.0</td>\n",
       "      <td>8.0</td>\n",
       "      <td>-</td>\n",
       "      <td>-</td>\n",
       "      <td>-</td>\n",
       "    </tr>\n",
       "    <tr>\n",
       "      <th>GB</th>\n",
       "      <td>17.0</td>\n",
       "      <td>10.0</td>\n",
       "      <td>-</td>\n",
       "      <td>-</td>\n",
       "      <td>-</td>\n",
       "      <td>-</td>\n",
       "      <td>-</td>\n",
       "      <td>-</td>\n",
       "      <td>-</td>\n",
       "      <td>-</td>\n",
       "      <td>-</td>\n",
       "      <td>-</td>\n",
       "      <td>-</td>\n",
       "      <td>-</td>\n",
       "      <td>-</td>\n",
       "      <td>-</td>\n",
       "      <td>-</td>\n",
       "    </tr>\n",
       "    <tr>\n",
       "      <th>GBA</th>\n",
       "      <td>1.0</td>\n",
       "      <td>107.0</td>\n",
       "      <td>198.0</td>\n",
       "      <td>150.0</td>\n",
       "      <td>175.0</td>\n",
       "      <td>135.0</td>\n",
       "      <td>39.0</td>\n",
       "      <td>6.0</td>\n",
       "      <td>-</td>\n",
       "      <td>-</td>\n",
       "      <td>-</td>\n",
       "      <td>-</td>\n",
       "      <td>-</td>\n",
       "      <td>-</td>\n",
       "      <td>-</td>\n",
       "      <td>-</td>\n",
       "      <td>-</td>\n",
       "    </tr>\n",
       "    <tr>\n",
       "      <th>GC</th>\n",
       "      <td>-</td>\n",
       "      <td>22.0</td>\n",
       "      <td>152.0</td>\n",
       "      <td>144.0</td>\n",
       "      <td>83.0</td>\n",
       "      <td>97.0</td>\n",
       "      <td>40.0</td>\n",
       "      <td>4.0</td>\n",
       "      <td>-</td>\n",
       "      <td>-</td>\n",
       "      <td>-</td>\n",
       "      <td>-</td>\n",
       "      <td>-</td>\n",
       "      <td>-</td>\n",
       "      <td>-</td>\n",
       "      <td>-</td>\n",
       "      <td>-</td>\n",
       "    </tr>\n",
       "    <tr>\n",
       "      <th>N64</th>\n",
       "      <td>60.0</td>\n",
       "      <td>9.0</td>\n",
       "      <td>1.0</td>\n",
       "      <td>-</td>\n",
       "      <td>-</td>\n",
       "      <td>-</td>\n",
       "      <td>-</td>\n",
       "      <td>-</td>\n",
       "      <td>-</td>\n",
       "      <td>-</td>\n",
       "      <td>-</td>\n",
       "      <td>-</td>\n",
       "      <td>-</td>\n",
       "      <td>-</td>\n",
       "      <td>-</td>\n",
       "      <td>-</td>\n",
       "      <td>-</td>\n",
       "    </tr>\n",
       "    <tr>\n",
       "      <th>PC</th>\n",
       "      <td>7.0</td>\n",
       "      <td>15.0</td>\n",
       "      <td>19.0</td>\n",
       "      <td>33.0</td>\n",
       "      <td>30.0</td>\n",
       "      <td>37.0</td>\n",
       "      <td>52.0</td>\n",
       "      <td>62.0</td>\n",
       "      <td>76.0</td>\n",
       "      <td>107.0</td>\n",
       "      <td>90.0</td>\n",
       "      <td>139.0</td>\n",
       "      <td>61.0</td>\n",
       "      <td>38.0</td>\n",
       "      <td>47.0</td>\n",
       "      <td>50.0</td>\n",
       "      <td>54.0</td>\n",
       "    </tr>\n",
       "    <tr>\n",
       "      <th>PS</th>\n",
       "      <td>160.0</td>\n",
       "      <td>91.0</td>\n",
       "      <td>20.0</td>\n",
       "      <td>3.0</td>\n",
       "      <td>-</td>\n",
       "      <td>-</td>\n",
       "      <td>-</td>\n",
       "      <td>-</td>\n",
       "      <td>-</td>\n",
       "      <td>-</td>\n",
       "      <td>-</td>\n",
       "      <td>-</td>\n",
       "      <td>-</td>\n",
       "      <td>-</td>\n",
       "      <td>-</td>\n",
       "      <td>-</td>\n",
       "      <td>-</td>\n",
       "    </tr>\n",
       "    <tr>\n",
       "      <th>PS2</th>\n",
       "      <td>82.0</td>\n",
       "      <td>185.0</td>\n",
       "      <td>280.0</td>\n",
       "      <td>256.0</td>\n",
       "      <td>259.0</td>\n",
       "      <td>260.0</td>\n",
       "      <td>259.0</td>\n",
       "      <td>214.0</td>\n",
       "      <td>191.0</td>\n",
       "      <td>96.0</td>\n",
       "      <td>38.0</td>\n",
       "      <td>7.0</td>\n",
       "      <td>-</td>\n",
       "      <td>-</td>\n",
       "      <td>-</td>\n",
       "      <td>-</td>\n",
       "      <td>-</td>\n",
       "    </tr>\n",
       "    <tr>\n",
       "      <th>PS3</th>\n",
       "      <td>-</td>\n",
       "      <td>-</td>\n",
       "      <td>-</td>\n",
       "      <td>-</td>\n",
       "      <td>-</td>\n",
       "      <td>-</td>\n",
       "      <td>27.0</td>\n",
       "      <td>90.0</td>\n",
       "      <td>138.0</td>\n",
       "      <td>162.0</td>\n",
       "      <td>181.0</td>\n",
       "      <td>215.0</td>\n",
       "      <td>148.0</td>\n",
       "      <td>126.0</td>\n",
       "      <td>108.0</td>\n",
       "      <td>73.0</td>\n",
       "      <td>38.0</td>\n",
       "    </tr>\n",
       "    <tr>\n",
       "      <th>PS4</th>\n",
       "      <td>-</td>\n",
       "      <td>-</td>\n",
       "      <td>-</td>\n",
       "      <td>-</td>\n",
       "      <td>-</td>\n",
       "      <td>-</td>\n",
       "      <td>-</td>\n",
       "      <td>-</td>\n",
       "      <td>-</td>\n",
       "      <td>-</td>\n",
       "      <td>-</td>\n",
       "      <td>-</td>\n",
       "      <td>-</td>\n",
       "      <td>16.0</td>\n",
       "      <td>75.0</td>\n",
       "      <td>137.0</td>\n",
       "      <td>164.0</td>\n",
       "    </tr>\n",
       "    <tr>\n",
       "      <th>PSP</th>\n",
       "      <td>-</td>\n",
       "      <td>-</td>\n",
       "      <td>-</td>\n",
       "      <td>-</td>\n",
       "      <td>15.0</td>\n",
       "      <td>95.0</td>\n",
       "      <td>189.0</td>\n",
       "      <td>133.0</td>\n",
       "      <td>100.0</td>\n",
       "      <td>161.0</td>\n",
       "      <td>188.0</td>\n",
       "      <td>139.0</td>\n",
       "      <td>106.0</td>\n",
       "      <td>54.0</td>\n",
       "      <td>10.0</td>\n",
       "      <td>3.0</td>\n",
       "      <td>-</td>\n",
       "    </tr>\n",
       "    <tr>\n",
       "      <th>PSV</th>\n",
       "      <td>-</td>\n",
       "      <td>-</td>\n",
       "      <td>-</td>\n",
       "      <td>-</td>\n",
       "      <td>-</td>\n",
       "      <td>-</td>\n",
       "      <td>-</td>\n",
       "      <td>-</td>\n",
       "      <td>-</td>\n",
       "      <td>-</td>\n",
       "      <td>-</td>\n",
       "      <td>18.0</td>\n",
       "      <td>53.0</td>\n",
       "      <td>63.0</td>\n",
       "      <td>100.0</td>\n",
       "      <td>110.0</td>\n",
       "      <td>85.0</td>\n",
       "    </tr>\n",
       "    <tr>\n",
       "      <th>WS</th>\n",
       "      <td>2.0</td>\n",
       "      <td>2.0</td>\n",
       "      <td>-</td>\n",
       "      <td>-</td>\n",
       "      <td>-</td>\n",
       "      <td>-</td>\n",
       "      <td>-</td>\n",
       "      <td>-</td>\n",
       "      <td>-</td>\n",
       "      <td>-</td>\n",
       "      <td>-</td>\n",
       "      <td>-</td>\n",
       "      <td>-</td>\n",
       "      <td>-</td>\n",
       "      <td>-</td>\n",
       "      <td>-</td>\n",
       "      <td>-</td>\n",
       "    </tr>\n",
       "    <tr>\n",
       "      <th>Wii</th>\n",
       "      <td>-</td>\n",
       "      <td>-</td>\n",
       "      <td>-</td>\n",
       "      <td>-</td>\n",
       "      <td>-</td>\n",
       "      <td>-</td>\n",
       "      <td>44.0</td>\n",
       "      <td>185.0</td>\n",
       "      <td>282.0</td>\n",
       "      <td>325.0</td>\n",
       "      <td>253.0</td>\n",
       "      <td>143.0</td>\n",
       "      <td>31.0</td>\n",
       "      <td>12.0</td>\n",
       "      <td>6.0</td>\n",
       "      <td>4.0</td>\n",
       "      <td>1.0</td>\n",
       "    </tr>\n",
       "    <tr>\n",
       "      <th>WiiU</th>\n",
       "      <td>-</td>\n",
       "      <td>-</td>\n",
       "      <td>-</td>\n",
       "      <td>-</td>\n",
       "      <td>-</td>\n",
       "      <td>-</td>\n",
       "      <td>-</td>\n",
       "      <td>-</td>\n",
       "      <td>-</td>\n",
       "      <td>-</td>\n",
       "      <td>-</td>\n",
       "      <td>-</td>\n",
       "      <td>32.0</td>\n",
       "      <td>42.0</td>\n",
       "      <td>31.0</td>\n",
       "      <td>28.0</td>\n",
       "      <td>14.0</td>\n",
       "    </tr>\n",
       "    <tr>\n",
       "      <th>X360</th>\n",
       "      <td>-</td>\n",
       "      <td>-</td>\n",
       "      <td>-</td>\n",
       "      <td>-</td>\n",
       "      <td>-</td>\n",
       "      <td>18.0</td>\n",
       "      <td>93.0</td>\n",
       "      <td>123.0</td>\n",
       "      <td>146.0</td>\n",
       "      <td>172.0</td>\n",
       "      <td>182.0</td>\n",
       "      <td>206.0</td>\n",
       "      <td>106.0</td>\n",
       "      <td>75.0</td>\n",
       "      <td>63.0</td>\n",
       "      <td>35.0</td>\n",
       "      <td>13.0</td>\n",
       "    </tr>\n",
       "    <tr>\n",
       "      <th>XB</th>\n",
       "      <td>1.0</td>\n",
       "      <td>33.0</td>\n",
       "      <td>158.0</td>\n",
       "      <td>189.0</td>\n",
       "      <td>177.0</td>\n",
       "      <td>179.0</td>\n",
       "      <td>62.0</td>\n",
       "      <td>3.0</td>\n",
       "      <td>1.0</td>\n",
       "      <td>-</td>\n",
       "      <td>-</td>\n",
       "      <td>-</td>\n",
       "      <td>-</td>\n",
       "      <td>-</td>\n",
       "      <td>-</td>\n",
       "      <td>-</td>\n",
       "      <td>-</td>\n",
       "    </tr>\n",
       "    <tr>\n",
       "      <th>XOne</th>\n",
       "      <td>-</td>\n",
       "      <td>-</td>\n",
       "      <td>-</td>\n",
       "      <td>-</td>\n",
       "      <td>-</td>\n",
       "      <td>-</td>\n",
       "      <td>-</td>\n",
       "      <td>-</td>\n",
       "      <td>-</td>\n",
       "      <td>-</td>\n",
       "      <td>-</td>\n",
       "      <td>-</td>\n",
       "      <td>-</td>\n",
       "      <td>19.0</td>\n",
       "      <td>61.0</td>\n",
       "      <td>80.0</td>\n",
       "      <td>87.0</td>\n",
       "    </tr>\n",
       "  </tbody>\n",
       "</table>\n",
       "</div>"
      ],
      "text/plain": [
       "year_of_release   2000   2001   2002   2003   2004   2005   2006   2007  \\\n",
       "platform                                                                  \n",
       "3DS                  -      -      -      -      -      -      -      -   \n",
       "DC                20.0    8.0    1.0      -      -      -      -    1.0   \n",
       "DS                   -      -      -      -   23.0  118.0  201.0  376.0   \n",
       "GB                17.0   10.0      -      -      -      -      -      -   \n",
       "GBA                1.0  107.0  198.0  150.0  175.0  135.0   39.0    6.0   \n",
       "GC                   -   22.0  152.0  144.0   83.0   97.0   40.0    4.0   \n",
       "N64               60.0    9.0    1.0      -      -      -      -      -   \n",
       "PC                 7.0   15.0   19.0   33.0   30.0   37.0   52.0   62.0   \n",
       "PS               160.0   91.0   20.0    3.0      -      -      -      -   \n",
       "PS2               82.0  185.0  280.0  256.0  259.0  260.0  259.0  214.0   \n",
       "PS3                  -      -      -      -      -      -   27.0   90.0   \n",
       "PS4                  -      -      -      -      -      -      -      -   \n",
       "PSP                  -      -      -      -   15.0   95.0  189.0  133.0   \n",
       "PSV                  -      -      -      -      -      -      -      -   \n",
       "WS                 2.0    2.0      -      -      -      -      -      -   \n",
       "Wii                  -      -      -      -      -      -   44.0  185.0   \n",
       "WiiU                 -      -      -      -      -      -      -      -   \n",
       "X360                 -      -      -      -      -   18.0   93.0  123.0   \n",
       "XB                 1.0   33.0  158.0  189.0  177.0  179.0   62.0    3.0   \n",
       "XOne                 -      -      -      -      -      -      -      -   \n",
       "\n",
       "year_of_release   2008   2009   2010   2011   2012   2013   2014   2015   2016  \n",
       "platform                                                                        \n",
       "3DS                  -      -      -  116.0   93.0   91.0   80.0   86.0   46.0  \n",
       "DC                 1.0      -      -      -      -      -      -      -      -  \n",
       "DS               492.0  403.0  323.0  153.0   23.0    8.0      -      -      -  \n",
       "GB                   -      -      -      -      -      -      -      -      -  \n",
       "GBA                  -      -      -      -      -      -      -      -      -  \n",
       "GC                   -      -      -      -      -      -      -      -      -  \n",
       "N64                  -      -      -      -      -      -      -      -      -  \n",
       "PC                76.0  107.0   90.0  139.0   61.0   38.0   47.0   50.0   54.0  \n",
       "PS                   -      -      -      -      -      -      -      -      -  \n",
       "PS2              191.0   96.0   38.0    7.0      -      -      -      -      -  \n",
       "PS3              138.0  162.0  181.0  215.0  148.0  126.0  108.0   73.0   38.0  \n",
       "PS4                  -      -      -      -      -   16.0   75.0  137.0  164.0  \n",
       "PSP              100.0  161.0  188.0  139.0  106.0   54.0   10.0    3.0      -  \n",
       "PSV                  -      -      -   18.0   53.0   63.0  100.0  110.0   85.0  \n",
       "WS                   -      -      -      -      -      -      -      -      -  \n",
       "Wii              282.0  325.0  253.0  143.0   31.0   12.0    6.0    4.0    1.0  \n",
       "WiiU                 -      -      -      -   32.0   42.0   31.0   28.0   14.0  \n",
       "X360             146.0  172.0  182.0  206.0  106.0   75.0   63.0   35.0   13.0  \n",
       "XB                 1.0      -      -      -      -      -      -      -      -  \n",
       "XOne                 -      -      -      -      -   19.0   61.0   80.0   87.0  "
      ]
     },
     "execution_count": 12,
     "metadata": {},
     "output_type": "execute_result"
    }
   ],
   "source": [
    "df.query('year_of_release >= 2000').pivot_table(index='platform', columns='year_of_release', values='name', aggfunc='count', fill_value='-')"
   ]
  },
  {
   "cell_type": "code",
   "execution_count": 13,
   "metadata": {},
   "outputs": [
    {
     "data": {
      "image/png": "[encoded data removed]",
      "text/plain": [
       "<Figure size 864x864 with 2 Axes>"
      ]
     },
     "metadata": {
      "needs_background": "light"
     },
     "output_type": "display_data"
    }
   ],
   "source": [
    "data_for_hm = df.query('year_of_release >= 2000')\\\n",
    "    .pivot_table(index='platform', columns='year_of_release', values='name', aggfunc='count')\n",
    "\n",
    "fig, ax = plt.subplots(figsize=(12,12))\n",
    "sns.heatmap(data_for_hm, ax = ax)\n",
    "plt.show()"
   ]
  },
  {
   "cell_type": "markdown",
   "metadata": {
    "id": "3-TxXw0HcJlf"
   },
   "source": [
    "По рапределению видно, что примерно в 2006 году рынок платформ обновляется, на замену старым приходят новые.\n",
    "\n",
    "Средний срок \"жизни\" одной платформы примерно 6-8 лет, за исключением PC.\n",
    "Поколение платформ обновляется примерно каждые 5 лет, но даже после появления новой платформы, на старую все еще выпускают игры в течении нескольких лет.\n",
    " \n",
    "Для дальнейших исследований будет достаточно последних 10 лет, оставим данные с 2006 по 2016 года."
   ]
  },
  {
   "cell_type": "code",
   "execution_count": 14,
   "metadata": {
    "id": "sFsVhgc78xCw"
   },
   "outputs": [],
   "source": [
    "games = df.query('year_of_release >=2014')"
   ]
  },
  {
   "cell_type": "markdown",
   "metadata": {
    "id": "cCdWSHhkdcQR"
   },
   "source": [
    "Сгруппируем данные по количеству продаж"
   ]
  },
  {
   "cell_type": "code",
   "execution_count": 15,
   "metadata": {
    "colab": {
     "base_uri": "https://localhost:8080/",
     "height": 362
    },
    "id": "bQ-EpO9Hc6W7",
    "outputId": "67d2ff7f-cd36-41b9-9409-ea2e0aa595dc"
   },
   "outputs": [
    {
     "data": {
      "text/html": [
       "<div>\n",
       "<style scoped>\n",
       "    .dataframe tbody tr th:only-of-type {\n",
       "        vertical-align: middle;\n",
       "    }\n",
       "\n",
       "    .dataframe tbody tr th {\n",
       "        vertical-align: top;\n",
       "    }\n",
       "\n",
       "    .dataframe thead th {\n",
       "        text-align: right;\n",
       "    }\n",
       "</style>\n",
       "<table border=\"1\" class=\"dataframe\">\n",
       "  <thead>\n",
       "    <tr style=\"text-align: right;\">\n",
       "      <th></th>\n",
       "      <th>platform</th>\n",
       "      <th>total_sales</th>\n",
       "    </tr>\n",
       "  </thead>\n",
       "  <tbody>\n",
       "    <tr>\n",
       "      <th>0</th>\n",
       "      <td>PS4</td>\n",
       "      <td>288.15</td>\n",
       "    </tr>\n",
       "    <tr>\n",
       "      <th>1</th>\n",
       "      <td>XOne</td>\n",
       "      <td>140.36</td>\n",
       "    </tr>\n",
       "    <tr>\n",
       "      <th>2</th>\n",
       "      <td>3DS</td>\n",
       "      <td>86.68</td>\n",
       "    </tr>\n",
       "    <tr>\n",
       "      <th>3</th>\n",
       "      <td>PS3</td>\n",
       "      <td>68.18</td>\n",
       "    </tr>\n",
       "    <tr>\n",
       "      <th>4</th>\n",
       "      <td>X360</td>\n",
       "      <td>48.22</td>\n",
       "    </tr>\n",
       "    <tr>\n",
       "      <th>5</th>\n",
       "      <td>WiiU</td>\n",
       "      <td>42.98</td>\n",
       "    </tr>\n",
       "    <tr>\n",
       "      <th>6</th>\n",
       "      <td>PC</td>\n",
       "      <td>27.05</td>\n",
       "    </tr>\n",
       "    <tr>\n",
       "      <th>7</th>\n",
       "      <td>PSV</td>\n",
       "      <td>22.40</td>\n",
       "    </tr>\n",
       "    <tr>\n",
       "      <th>8</th>\n",
       "      <td>Wii</td>\n",
       "      <td>5.07</td>\n",
       "    </tr>\n",
       "    <tr>\n",
       "      <th>9</th>\n",
       "      <td>PSP</td>\n",
       "      <td>0.36</td>\n",
       "    </tr>\n",
       "  </tbody>\n",
       "</table>\n",
       "</div>"
      ],
      "text/plain": [
       "  platform  total_sales\n",
       "0      PS4       288.15\n",
       "1     XOne       140.36\n",
       "2      3DS        86.68\n",
       "3      PS3        68.18\n",
       "4     X360        48.22\n",
       "5     WiiU        42.98\n",
       "6       PC        27.05\n",
       "7      PSV        22.40\n",
       "8      Wii         5.07\n",
       "9      PSP         0.36"
      ]
     },
     "execution_count": 15,
     "metadata": {},
     "output_type": "execute_result"
    }
   ],
   "source": [
    "top_sales = games.groupby('platform')['total_sales'].agg('sum').sort_values(ascending=False).reset_index()\n",
    "top_sales.head(10)"
   ]
  },
  {
   "cell_type": "code",
   "execution_count": 16,
   "metadata": {
    "id": "16cKHDWugr_q"
   },
   "outputs": [],
   "source": [
    "top_platforms = top_sales['platform'].to_list()"
   ]
  },
  {
   "cell_type": "code",
   "execution_count": 17,
   "metadata": {
    "colab": {
     "base_uri": "https://localhost:8080/",
     "height": 441
    },
    "id": "qSAkH6e0g1V6",
    "outputId": "7ff8cce5-51a6-4b3b-9fea-b90347d713db"
   },
   "outputs": [
    {
     "data": {
      "text/html": [
       "<div>\n",
       "<style scoped>\n",
       "    .dataframe tbody tr th:only-of-type {\n",
       "        vertical-align: middle;\n",
       "    }\n",
       "\n",
       "    .dataframe tbody tr th {\n",
       "        vertical-align: top;\n",
       "    }\n",
       "\n",
       "    .dataframe thead th {\n",
       "        text-align: right;\n",
       "    }\n",
       "</style>\n",
       "<table border=\"1\" class=\"dataframe\">\n",
       "  <thead>\n",
       "    <tr style=\"text-align: right;\">\n",
       "      <th></th>\n",
       "      <th>name</th>\n",
       "      <th>platform</th>\n",
       "      <th>year_of_release</th>\n",
       "      <th>genre</th>\n",
       "      <th>na_sales</th>\n",
       "      <th>eu_sales</th>\n",
       "      <th>jp_sales</th>\n",
       "      <th>other_sales</th>\n",
       "      <th>critic_score</th>\n",
       "      <th>user_score</th>\n",
       "      <th>rating</th>\n",
       "      <th>total_sales</th>\n",
       "    </tr>\n",
       "  </thead>\n",
       "  <tbody>\n",
       "    <tr>\n",
       "      <th>31</th>\n",
       "      <td>Call of Duty: Black Ops 3</td>\n",
       "      <td>PS4</td>\n",
       "      <td>2015</td>\n",
       "      <td>Shooter</td>\n",
       "      <td>6.03</td>\n",
       "      <td>5.86</td>\n",
       "      <td>0.36</td>\n",
       "      <td>2.38</td>\n",
       "      <td>-1.0</td>\n",
       "      <td>-1.0</td>\n",
       "      <td>-1</td>\n",
       "      <td>14.63</td>\n",
       "    </tr>\n",
       "    <tr>\n",
       "      <th>42</th>\n",
       "      <td>Grand Theft Auto V</td>\n",
       "      <td>PS4</td>\n",
       "      <td>2014</td>\n",
       "      <td>Action</td>\n",
       "      <td>3.96</td>\n",
       "      <td>6.31</td>\n",
       "      <td>0.38</td>\n",
       "      <td>1.97</td>\n",
       "      <td>97.0</td>\n",
       "      <td>8.3</td>\n",
       "      <td>M</td>\n",
       "      <td>12.62</td>\n",
       "    </tr>\n",
       "    <tr>\n",
       "      <th>47</th>\n",
       "      <td>Pokemon Omega Ruby/Pokemon Alpha Sapphire</td>\n",
       "      <td>3DS</td>\n",
       "      <td>2014</td>\n",
       "      <td>Role-Playing</td>\n",
       "      <td>4.35</td>\n",
       "      <td>3.49</td>\n",
       "      <td>3.10</td>\n",
       "      <td>0.74</td>\n",
       "      <td>-1.0</td>\n",
       "      <td>-1.0</td>\n",
       "      <td>-1</td>\n",
       "      <td>11.68</td>\n",
       "    </tr>\n",
       "    <tr>\n",
       "      <th>77</th>\n",
       "      <td>FIFA 16</td>\n",
       "      <td>PS4</td>\n",
       "      <td>2015</td>\n",
       "      <td>Sports</td>\n",
       "      <td>1.12</td>\n",
       "      <td>6.12</td>\n",
       "      <td>0.06</td>\n",
       "      <td>1.28</td>\n",
       "      <td>82.0</td>\n",
       "      <td>4.3</td>\n",
       "      <td>E</td>\n",
       "      <td>8.58</td>\n",
       "    </tr>\n",
       "    <tr>\n",
       "      <th>87</th>\n",
       "      <td>Star Wars Battlefront (2015)</td>\n",
       "      <td>PS4</td>\n",
       "      <td>2015</td>\n",
       "      <td>Shooter</td>\n",
       "      <td>2.99</td>\n",
       "      <td>3.49</td>\n",
       "      <td>0.22</td>\n",
       "      <td>1.28</td>\n",
       "      <td>-1.0</td>\n",
       "      <td>-1.0</td>\n",
       "      <td>-1</td>\n",
       "      <td>7.98</td>\n",
       "    </tr>\n",
       "    <tr>\n",
       "      <th>92</th>\n",
       "      <td>Call of Duty: Advanced Warfare</td>\n",
       "      <td>PS4</td>\n",
       "      <td>2014</td>\n",
       "      <td>Shooter</td>\n",
       "      <td>2.81</td>\n",
       "      <td>3.48</td>\n",
       "      <td>0.14</td>\n",
       "      <td>1.23</td>\n",
       "      <td>83.0</td>\n",
       "      <td>5.7</td>\n",
       "      <td>M</td>\n",
       "      <td>7.66</td>\n",
       "    </tr>\n",
       "    <tr>\n",
       "      <th>94</th>\n",
       "      <td>FIFA 17</td>\n",
       "      <td>PS4</td>\n",
       "      <td>2016</td>\n",
       "      <td>Sports</td>\n",
       "      <td>0.66</td>\n",
       "      <td>5.75</td>\n",
       "      <td>0.08</td>\n",
       "      <td>1.11</td>\n",
       "      <td>85.0</td>\n",
       "      <td>5.0</td>\n",
       "      <td>E</td>\n",
       "      <td>7.60</td>\n",
       "    </tr>\n",
       "    <tr>\n",
       "      <th>96</th>\n",
       "      <td>Super Smash Bros. for Wii U and 3DS</td>\n",
       "      <td>3DS</td>\n",
       "      <td>2014</td>\n",
       "      <td>Fighting</td>\n",
       "      <td>3.27</td>\n",
       "      <td>1.37</td>\n",
       "      <td>2.43</td>\n",
       "      <td>0.48</td>\n",
       "      <td>-1.0</td>\n",
       "      <td>-1.0</td>\n",
       "      <td>-1</td>\n",
       "      <td>7.55</td>\n",
       "    </tr>\n",
       "    <tr>\n",
       "      <th>99</th>\n",
       "      <td>Call of Duty: Black Ops 3</td>\n",
       "      <td>XOne</td>\n",
       "      <td>2015</td>\n",
       "      <td>Shooter</td>\n",
       "      <td>4.59</td>\n",
       "      <td>2.11</td>\n",
       "      <td>0.01</td>\n",
       "      <td>0.68</td>\n",
       "      <td>-1.0</td>\n",
       "      <td>-1.0</td>\n",
       "      <td>-1</td>\n",
       "      <td>7.39</td>\n",
       "    </tr>\n",
       "    <tr>\n",
       "      <th>105</th>\n",
       "      <td>Fallout 4</td>\n",
       "      <td>PS4</td>\n",
       "      <td>2015</td>\n",
       "      <td>Role-Playing</td>\n",
       "      <td>2.53</td>\n",
       "      <td>3.27</td>\n",
       "      <td>0.24</td>\n",
       "      <td>1.13</td>\n",
       "      <td>87.0</td>\n",
       "      <td>6.5</td>\n",
       "      <td>M</td>\n",
       "      <td>7.17</td>\n",
       "    </tr>\n",
       "  </tbody>\n",
       "</table>\n",
       "</div>"
      ],
      "text/plain": [
       "                                          name platform  year_of_release  \\\n",
       "31                   Call of Duty: Black Ops 3      PS4             2015   \n",
       "42                          Grand Theft Auto V      PS4             2014   \n",
       "47   Pokemon Omega Ruby/Pokemon Alpha Sapphire      3DS             2014   \n",
       "77                                     FIFA 16      PS4             2015   \n",
       "87                Star Wars Battlefront (2015)      PS4             2015   \n",
       "92              Call of Duty: Advanced Warfare      PS4             2014   \n",
       "94                                     FIFA 17      PS4             2016   \n",
       "96         Super Smash Bros. for Wii U and 3DS      3DS             2014   \n",
       "99                   Call of Duty: Black Ops 3     XOne             2015   \n",
       "105                                  Fallout 4      PS4             2015   \n",
       "\n",
       "            genre  na_sales  eu_sales  jp_sales  other_sales  critic_score  \\\n",
       "31        Shooter      6.03      5.86      0.36         2.38          -1.0   \n",
       "42         Action      3.96      6.31      0.38         1.97          97.0   \n",
       "47   Role-Playing      4.35      3.49      3.10         0.74          -1.0   \n",
       "77         Sports      1.12      6.12      0.06         1.28          82.0   \n",
       "87        Shooter      2.99      3.49      0.22         1.28          -1.0   \n",
       "92        Shooter      2.81      3.48      0.14         1.23          83.0   \n",
       "94         Sports      0.66      5.75      0.08         1.11          85.0   \n",
       "96       Fighting      3.27      1.37      2.43         0.48          -1.0   \n",
       "99        Shooter      4.59      2.11      0.01         0.68          -1.0   \n",
       "105  Role-Playing      2.53      3.27      0.24         1.13          87.0   \n",
       "\n",
       "     user_score rating  total_sales  \n",
       "31         -1.0     -1        14.63  \n",
       "42          8.3      M        12.62  \n",
       "47         -1.0     -1        11.68  \n",
       "77          4.3      E         8.58  \n",
       "87         -1.0     -1         7.98  \n",
       "92          5.7      M         7.66  \n",
       "94          5.0      E         7.60  \n",
       "96         -1.0     -1         7.55  \n",
       "99         -1.0     -1         7.39  \n",
       "105         6.5      M         7.17  "
      ]
     },
     "execution_count": 17,
     "metadata": {},
     "output_type": "execute_result"
    }
   ],
   "source": [
    "top_games = games.query('platform in @top_platforms')\n",
    "top_games.head(10) "
   ]
  },
  {
   "cell_type": "code",
   "execution_count": 18,
   "metadata": {
    "colab": {
     "base_uri": "https://localhost:8080/",
     "height": 395
    },
    "id": "wwI8Mo3xsdVO",
    "outputId": "6f64e78e-afd6-4ede-9f6c-fefe82dbc329"
   },
   "outputs": [
    {
     "data": {
      "text/html": [
       "<div>\n",
       "<style scoped>\n",
       "    .dataframe tbody tr th:only-of-type {\n",
       "        vertical-align: middle;\n",
       "    }\n",
       "\n",
       "    .dataframe tbody tr th {\n",
       "        vertical-align: top;\n",
       "    }\n",
       "\n",
       "    .dataframe thead th {\n",
       "        text-align: right;\n",
       "    }\n",
       "</style>\n",
       "<table border=\"1\" class=\"dataframe\">\n",
       "  <thead>\n",
       "    <tr style=\"text-align: right;\">\n",
       "      <th>year_of_release</th>\n",
       "      <th>2014</th>\n",
       "      <th>2015</th>\n",
       "      <th>2016</th>\n",
       "    </tr>\n",
       "    <tr>\n",
       "      <th>platform</th>\n",
       "      <th></th>\n",
       "      <th></th>\n",
       "      <th></th>\n",
       "    </tr>\n",
       "  </thead>\n",
       "  <tbody>\n",
       "    <tr>\n",
       "      <th>3DS</th>\n",
       "      <td>43.76</td>\n",
       "      <td>27.78</td>\n",
       "      <td>15.14</td>\n",
       "    </tr>\n",
       "    <tr>\n",
       "      <th>PC</th>\n",
       "      <td>13.28</td>\n",
       "      <td>8.52</td>\n",
       "      <td>5.25</td>\n",
       "    </tr>\n",
       "    <tr>\n",
       "      <th>PS3</th>\n",
       "      <td>47.76</td>\n",
       "      <td>16.82</td>\n",
       "      <td>3.6</td>\n",
       "    </tr>\n",
       "    <tr>\n",
       "      <th>PS4</th>\n",
       "      <td>100.00</td>\n",
       "      <td>118.90</td>\n",
       "      <td>69.25</td>\n",
       "    </tr>\n",
       "    <tr>\n",
       "      <th>PSP</th>\n",
       "      <td>0.24</td>\n",
       "      <td>0.12</td>\n",
       "      <td>-</td>\n",
       "    </tr>\n",
       "    <tr>\n",
       "      <th>PSV</th>\n",
       "      <td>11.90</td>\n",
       "      <td>6.25</td>\n",
       "      <td>4.25</td>\n",
       "    </tr>\n",
       "    <tr>\n",
       "      <th>Wii</th>\n",
       "      <td>3.75</td>\n",
       "      <td>1.14</td>\n",
       "      <td>0.18</td>\n",
       "    </tr>\n",
       "    <tr>\n",
       "      <th>WiiU</th>\n",
       "      <td>22.03</td>\n",
       "      <td>16.35</td>\n",
       "      <td>4.6</td>\n",
       "    </tr>\n",
       "    <tr>\n",
       "      <th>X360</th>\n",
       "      <td>34.74</td>\n",
       "      <td>11.96</td>\n",
       "      <td>1.52</td>\n",
       "    </tr>\n",
       "    <tr>\n",
       "      <th>XOne</th>\n",
       "      <td>54.07</td>\n",
       "      <td>60.14</td>\n",
       "      <td>26.15</td>\n",
       "    </tr>\n",
       "  </tbody>\n",
       "</table>\n",
       "</div>"
      ],
      "text/plain": [
       "year_of_release    2014    2015   2016\n",
       "platform                              \n",
       "3DS               43.76   27.78  15.14\n",
       "PC                13.28    8.52   5.25\n",
       "PS3               47.76   16.82    3.6\n",
       "PS4              100.00  118.90  69.25\n",
       "PSP                0.24    0.12      -\n",
       "PSV               11.90    6.25   4.25\n",
       "Wii                3.75    1.14   0.18\n",
       "WiiU              22.03   16.35    4.6\n",
       "X360              34.74   11.96   1.52\n",
       "XOne              54.07   60.14  26.15"
      ]
     },
     "execution_count": 18,
     "metadata": {},
     "output_type": "execute_result"
    }
   ],
   "source": [
    "top_games.pivot_table(index='platform', columns='year_of_release', values='total_sales', aggfunc='sum', fill_value='-')"
   ]
  },
  {
   "cell_type": "markdown",
   "metadata": {
    "id": "w3B9gAry4MG5"
   },
   "source": [
    "Можно отметить, что пик продаж у большинства платформ приходится на 2007-2011 годы. После - выручка становится меньше. Назвать потенциально прибыльной можно PS4 и XOne. Так же к потенциально прибыльной платформе можно отнести PС, так как фактически платформа не меняется, но пользователям приходится менять \"железо\". Так же возможно шансы есть у WiiU, так как прошлое поколение приставки Nintendo Wii показывала хорошие результаты по продажам в течении пяти лет.\n"
   ]
  },
  {
   "cell_type": "markdown",
   "metadata": {
    "id": "PBrttSFG7Lxr"
   },
   "source": [
    "Построим график \"Ящик с усами\", и посмотрим на выручку по играм и по платформам"
   ]
  },
  {
   "cell_type": "code",
   "execution_count": 85,
   "metadata": {},
   "outputs": [
    {
     "data": {
      "text/plain": [
       "count    990.000000\n",
       "mean       0.251929\n",
       "std        0.315467\n",
       "min        0.010000\n",
       "25%        0.040000\n",
       "50%        0.110000\n",
       "75%        0.350000\n",
       "max        1.490000\n",
       "Name: total_sales, dtype: float64"
      ]
     },
     "execution_count": 85,
     "metadata": {},
     "output_type": "execute_result"
    },
    {
     "data": {
      "image/png": "[encoded data removed]",
      "text/plain": [
       "<Figure size 864x432 with 1 Axes>"
      ]
     },
     "metadata": {
      "needs_background": "light"
     },
     "output_type": "display_data"
    }
   ],
   "source": [
    "platform = games[games['platform'].isin(['PS3', 'PS4', 'X360', 'XOne', 'PC'])]\n",
    "platform = platform[platform['total_sales'] < 1.5]\n",
    "plt.figure(figsize=(12,6))\n",
    "sns.boxplot(data=platform, x='platform', y='total_sales')\n",
    "plt.title('Выручка по платформам')\n",
    "plt.ylabel('млн. дол.')\n",
    "platform['total_sales'].describe()"
   ]
  },
  {
   "cell_type": "markdown",
   "metadata": {},
   "source": [
    "Большая часть значений лежат в пределах от 50 до 400 млн.\n",
    "\n",
    "PS3 - Средняя выручка 0.3 млн. дол., максимальная 5,27 млн. дол.\n",
    "\n",
    "PS4 - Средняя выручка 0.8 млн. дол., максимальная 14,63 млн. дол.\n",
    "\n",
    "X360 - Средняя выручка 0.4 млн. дол.., максимальная 4.28 млн. дол.\n",
    "\n",
    "XOne - Средняя выручка 0.6 млн. дол., максимальная 7.3 млн. дол.\n",
    "\n",
    "PC - Средняя выручка 0.2 млн. дол., максимальная 3 млн. дол.\n",
    "\n",
    "Средняя выручка по платформам с каждой игры не достигает 1 млн дол., но есть и игры, которые приносят разработчикам миллионы.\n"
   ]
  },
  {
   "cell_type": "markdown",
   "metadata": {},
   "source": [
    "**Вывод**\n",
    "\n",
    "* Лидеры по продажам:\n",
    "    1. XOne\n",
    "    2. X360\n",
    "    3. PS4\n",
    "    4. PS3\n",
    "    5. PC\n",
    "* Медианное значение у всех платформ разное"
   ]
  },
  {
   "cell_type": "code",
   "execution_count": 27,
   "metadata": {
    "colab": {
     "base_uri": "https://localhost:8080/",
     "height": 443
    },
    "id": "AIVcmYBpMY2w",
    "outputId": "de00b6ea-5d84-464f-a86c-1c558630e6d3"
   },
   "outputs": [
    {
     "data": {
      "text/plain": [
       "<AxesSubplot:title={'center':'Средний доход за 2006-2016гг.'}, ylabel='total_sales'>"
      ]
     },
     "execution_count": 27,
     "metadata": {},
     "output_type": "execute_result"
    },
    {
     "data": {
      "image/png": "[encoded data removed]",
      "text/plain": [
       "<Figure size 504x504 with 1 Axes>"
      ]
     },
     "metadata": {},
     "output_type": "display_data"
    }
   ],
   "source": [
    "#Построим круговую диаграмму\n",
    "mean_income = top_games.groupby('platform')['total_sales'].mean()\n",
    "mean_income.plot(kind='pie', figsize=(7, 7), autopct='%1.0f%%', title='Средний доход за 2006-2016гг.')"
   ]
  },
  {
   "cell_type": "markdown",
   "metadata": {
    "id": "dUIRHYL3QrGG"
   },
   "source": [
    "Лидеры по среднему доходу за 3 года - PS4, WiiU, Wii, X360"
   ]
  },
  {
   "cell_type": "markdown",
   "metadata": {
    "id": "V8o9Fp3HRXTd"
   },
   "source": [
    "Посмотрим как влияют отзывы критиков и пользователей на продажи, на примере PS4. Построим диаграмму рассеяния и посчитаем корреляцию"
   ]
  },
  {
   "cell_type": "code",
   "execution_count": 28,
   "metadata": {
    "id": "CTgFfWLUPBFX"
   },
   "outputs": [],
   "source": [
    "ps4_games = top_games.query('platform == \"PS4\" and user_score != -1 and critic_score != -1')"
   ]
  },
  {
   "cell_type": "code",
   "execution_count": 29,
   "metadata": {
    "colab": {
     "base_uri": "https://localhost:8080/",
     "height": 312
    },
    "id": "D6wdeOBURxJj",
    "outputId": "4131938b-def8-4f8e-d678-6b90af0645e7"
   },
   "outputs": [
    {
     "data": {
      "text/plain": [
       "Text(0, 0.5, 'Доход млн. дол.')"
      ]
     },
     "execution_count": 29,
     "metadata": {},
     "output_type": "execute_result"
    },
    {
     "data": {
      "image/png": "[encoded data removed]",
      "text/plain": [
       "<Figure size 432x288 with 1 Axes>"
      ]
     },
     "metadata": {
      "needs_background": "light"
     },
     "output_type": "display_data"
    }
   ],
   "source": [
    "ps4_games.plot(\n",
    "    x='user_score', \n",
    "    y='total_sales', \n",
    "    kind='scatter', \n",
    "    alpha=0.5\n",
    "    )\n",
    "plt.title('Зависимость дохода от оценки пользователей')\n",
    "plt.xlabel('Оценка пользователей')\n",
    "plt.ylabel('Доход млн. дол.')"
   ]
  },
  {
   "cell_type": "code",
   "execution_count": 30,
   "metadata": {
    "colab": {
     "base_uri": "https://localhost:8080/"
    },
    "id": "imKCY84GSZYJ",
    "outputId": "fcfdc2d3-cc5a-4ca2-f63e-4a3d26844265"
   },
   "outputs": [
    {
     "data": {
      "text/plain": [
       "-0.04318585997193634"
      ]
     },
     "execution_count": 30,
     "metadata": {},
     "output_type": "execute_result"
    }
   ],
   "source": [
    "ps4_games['total_sales'].corr(ps4_games['user_score'])"
   ]
  },
  {
   "cell_type": "code",
   "execution_count": 31,
   "metadata": {
    "colab": {
     "base_uri": "https://localhost:8080/",
     "height": 295
    },
    "id": "8PouCQu4TUxc",
    "outputId": "0aa7af56-9bc7-44c2-e0f2-1c288935cf7b"
   },
   "outputs": [
    {
     "data": {
      "image/png": "[encoded data removed]",
      "text/plain": [
       "<Figure size 432x288 with 1 Axes>"
      ]
     },
     "metadata": {
      "needs_background": "light"
     },
     "output_type": "display_data"
    }
   ],
   "source": [
    "ps4_games.plot(\n",
    "    x='critic_score', \n",
    "    y='total_sales', \n",
    "    kind='scatter', \n",
    "    alpha=0.5\n",
    ")\n",
    "plt.title('Зависимость дохода от оценки критиков')\n",
    "plt.xlabel('Оценка критиков')\n",
    "plt.ylabel('Доход млн. дол.')\n",
    "plt.show()"
   ]
  },
  {
   "cell_type": "code",
   "execution_count": 32,
   "metadata": {
    "colab": {
     "base_uri": "https://localhost:8080/"
    },
    "id": "EYR_3ZEbmeW3",
    "outputId": "a0896417-7b2e-4554-9e37-1dc99b2546c7"
   },
   "outputs": [
    {
     "data": {
      "text/plain": [
       "0.40190287811475334"
      ]
     },
     "execution_count": 32,
     "metadata": {},
     "output_type": "execute_result"
    }
   ],
   "source": [
    "ps4_games['total_sales'].corr(ps4_games['critic_score'])"
   ]
  },
  {
   "cell_type": "markdown",
   "metadata": {
    "id": "fV3ZBnKeoxX3"
   },
   "source": [
    "По графикам и корреляции видно, что отзывы критиков в большей степени влияют на продажи, чем отзывы пользователей.\n",
    "Больше всего доход с продаж получают от 70 и выше."
   ]
  },
  {
   "cell_type": "markdown",
   "metadata": {
    "id": "rrlRG7IGpOFT"
   },
   "source": [
    "Посмотрим на графики и корреляцию для всех 10-ти платформ."
   ]
  },
  {
   "cell_type": "code",
   "execution_count": 33,
   "metadata": {
    "id": "3W_vAN_3XLbP"
   },
   "outputs": [],
   "source": [
    "top_games_filtered = top_games.query('user_score != -1 and critic_score != -1')"
   ]
  },
  {
   "cell_type": "code",
   "execution_count": 34,
   "metadata": {
    "colab": {
     "base_uri": "https://localhost:8080/",
     "height": 295
    },
    "id": "68Z5LErqmcY0",
    "outputId": "3b060dcf-c742-4f6e-e5c9-ceae4cc38fe5"
   },
   "outputs": [
    {
     "data": {
      "image/png": "[encoded data removed]",
      "text/plain": [
       "<Figure size 432x288 with 1 Axes>"
      ]
     },
     "metadata": {
      "needs_background": "light"
     },
     "output_type": "display_data"
    }
   ],
   "source": [
    "top_games_filtered.plot(\n",
    "    y='total_sales', \n",
    "    x='user_score', \n",
    "    kind='scatter', \n",
    "    alpha=0.5, \n",
    "    title='Зависимость дохода всех платформ от оценки пользователей'\n",
    ")\n",
    "plt.xlabel('Доход млн. дол.')\n",
    "plt.ylabel('Оценка пользователей')\n",
    "plt.show()"
   ]
  },
  {
   "cell_type": "code",
   "execution_count": 35,
   "metadata": {
    "colab": {
     "base_uri": "https://localhost:8080/"
    },
    "id": "wyVyW3JPXLbQ",
    "outputId": "ed347ddc-a809-455b-e610-74e79a32747e"
   },
   "outputs": [
    {
     "data": {
      "text/plain": [
       "0.005202258360087508"
      ]
     },
     "execution_count": 35,
     "metadata": {},
     "output_type": "execute_result"
    }
   ],
   "source": [
    "top_games_filtered['user_score'].corr(top_games_filtered['total_sales'])"
   ]
  },
  {
   "cell_type": "code",
   "execution_count": 36,
   "metadata": {
    "colab": {
     "base_uri": "https://localhost:8080/",
     "height": 295
    },
    "id": "yK3C-2aZXLbQ",
    "outputId": "8967c9f0-4a29-4ea4-9206-80af9a79e40c"
   },
   "outputs": [
    {
     "data": {
      "image/png": "[encoded data removed]",
      "text/plain": [
       "<Figure size 432x288 with 1 Axes>"
      ]
     },
     "metadata": {
      "needs_background": "light"
     },
     "output_type": "display_data"
    }
   ],
   "source": [
    "top_games_filtered.plot(\n",
    "    y='total_sales', \n",
    "    x='critic_score', \n",
    "    kind='scatter', \n",
    "    alpha=0.5, \n",
    "    title='Зависимость дохода всех платформ от оценки критиков'\n",
    ")\n",
    "plt.xlabel('Доход млн. дол.')\n",
    "plt.ylabel('Оценка критиков')\n",
    "plt.show()"
   ]
  },
  {
   "cell_type": "code",
   "execution_count": 37,
   "metadata": {
    "colab": {
     "base_uri": "https://localhost:8080/"
    },
    "id": "I5T_pZTsXLbQ",
    "outputId": "b2a64d0b-5c40-4e34-8eb4-c708d33e0d95"
   },
   "outputs": [
    {
     "data": {
      "text/plain": [
       "0.3253626120075887"
      ]
     },
     "execution_count": 37,
     "metadata": {},
     "output_type": "execute_result"
    }
   ],
   "source": [
    "top_games_filtered['critic_score'].corr(top_games_filtered['total_sales'])"
   ]
  },
  {
   "cell_type": "markdown",
   "metadata": {
    "id": "pdbJ1M-4XLbQ"
   },
   "source": [
    "Судя по графикам, зависимость дохода от оценки критиков/пользователей для всех платформ меньше, чем для платформы PS4, там зависимость была сильнее и коэф. корреляции был выше."
   ]
  },
  {
   "cell_type": "code",
   "execution_count": 38,
   "metadata": {
    "colab": {
     "base_uri": "https://localhost:8080/"
    },
    "id": "CjX-MVNtFsWL",
    "outputId": "5a54f2f2-6344-4c8a-c6a9-295505811809"
   },
   "outputs": [
    {
     "name": "stdout",
     "output_type": "stream",
     "text": [
      "Зависимость  продаж от оценки пользователей для PS3 0.20752813986735388\n",
      "Зависимость  продаж от оценки критиков для PS3 0.023612142901272865\n",
      "\n",
      "Зависимость  продаж от оценки пользователей для PS4 0.10411505527257948\n",
      "Зависимость  продаж от оценки критиков для PS4 0.2108468533672136\n",
      "\n",
      "Зависимость  продаж от оценки пользователей для X360 0.08392212092173551\n",
      "Зависимость  продаж от оценки критиков для X360 0.0040124593668721415\n",
      "\n",
      "Зависимость  продаж от оценки пользователей для XOne 0.10671381981034207\n",
      "Зависимость  продаж от оценки критиков для XOne 0.27147591419241845\n",
      "\n",
      "Зависимость  продаж от оценки пользователей для PC 0.06901511514944639\n",
      "Зависимость  продаж от оценки критиков для PC 0.1839232641167911\n"
     ]
    }
   ],
   "source": [
    "print('Зависимость  продаж от оценки пользователей для PS3', ps3['user_score'].corr(ps3['total_sales']))\n",
    "print('Зависимость  продаж от оценки критиков для PS3', ps3['critic_score'].corr(ps3['total_sales']))\n",
    "print()\n",
    "print('Зависимость  продаж от оценки пользователей для PS4', ps4['user_score'].corr(ps4['total_sales']))\n",
    "print('Зависимость  продаж от оценки критиков для PS4', ps4['critic_score'].corr(ps4['total_sales']))\n",
    "print()\n",
    "print('Зависимость  продаж от оценки пользователей для X360', x360['user_score'].corr(x360['total_sales']))\n",
    "print('Зависимость  продаж от оценки критиков для X360', x360['critic_score'].corr(x360['total_sales']))\n",
    "print()\n",
    "print('Зависимость  продаж от оценки пользователей для XOne', xone['user_score'].corr(xone['total_sales']))\n",
    "print('Зависимость  продаж от оценки критиков для XOne', xone['critic_score'].corr(xone['total_sales']))\n",
    "print()\n",
    "print('Зависимость  продаж от оценки пользователей для PC', pc['user_score'].corr(pc['total_sales']))\n",
    "print('Зависимость  продаж от оценки критиков для PC', pc['critic_score'].corr(pc['total_sales']))"
   ]
  },
  {
   "cell_type": "markdown",
   "metadata": {
    "id": "OuJru5IDG0V7"
   },
   "source": [
    "В целом зависимость продаж от оценки критиков для разных платформ сильнее чем оценка пользователей, исключения - платформа Х360, в ней все наоборот."
   ]
  },
  {
   "cell_type": "markdown",
   "metadata": {
    "id": "MK3iTXm1XLbQ"
   },
   "source": [
    "### Распределение игр по жанрам"
   ]
  },
  {
   "cell_type": "code",
   "execution_count": 39,
   "metadata": {
    "colab": {
     "base_uri": "https://localhost:8080/",
     "height": 457
    },
    "id": "zNE_UGljXLbQ",
    "outputId": "4374545a-8fb4-4ffd-e5e6-ae8184886e98"
   },
   "outputs": [
    {
     "data": {
      "text/html": [
       "<div>\n",
       "<style scoped>\n",
       "    .dataframe tbody tr th:only-of-type {\n",
       "        vertical-align: middle;\n",
       "    }\n",
       "\n",
       "    .dataframe tbody tr th {\n",
       "        vertical-align: top;\n",
       "    }\n",
       "\n",
       "    .dataframe thead th {\n",
       "        text-align: right;\n",
       "    }\n",
       "</style>\n",
       "<table border=\"1\" class=\"dataframe\">\n",
       "  <thead>\n",
       "    <tr style=\"text-align: right;\">\n",
       "      <th></th>\n",
       "      <th>total_sales</th>\n",
       "    </tr>\n",
       "    <tr>\n",
       "      <th>genre</th>\n",
       "      <th></th>\n",
       "    </tr>\n",
       "  </thead>\n",
       "  <tbody>\n",
       "    <tr>\n",
       "      <th>Shooter</th>\n",
       "      <td>1.335469</td>\n",
       "    </tr>\n",
       "    <tr>\n",
       "      <th>Sports</th>\n",
       "      <td>0.680000</td>\n",
       "    </tr>\n",
       "    <tr>\n",
       "      <th>Platform</th>\n",
       "      <td>0.476053</td>\n",
       "    </tr>\n",
       "    <tr>\n",
       "      <th>Fighting</th>\n",
       "      <td>0.470333</td>\n",
       "    </tr>\n",
       "    <tr>\n",
       "      <th>Role-Playing</th>\n",
       "      <td>0.459005</td>\n",
       "    </tr>\n",
       "    <tr>\n",
       "      <th>Racing</th>\n",
       "      <td>0.398841</td>\n",
       "    </tr>\n",
       "    <tr>\n",
       "      <th>Misc</th>\n",
       "      <td>0.332301</td>\n",
       "    </tr>\n",
       "    <tr>\n",
       "      <th>Action</th>\n",
       "      <td>0.322068</td>\n",
       "    </tr>\n",
       "    <tr>\n",
       "      <th>Simulation</th>\n",
       "      <td>0.298409</td>\n",
       "    </tr>\n",
       "    <tr>\n",
       "      <th>Puzzle</th>\n",
       "      <td>0.157857</td>\n",
       "    </tr>\n",
       "    <tr>\n",
       "      <th>Strategy</th>\n",
       "      <td>0.107027</td>\n",
       "    </tr>\n",
       "    <tr>\n",
       "      <th>Adventure</th>\n",
       "      <td>0.094865</td>\n",
       "    </tr>\n",
       "  </tbody>\n",
       "</table>\n",
       "</div>"
      ],
      "text/plain": [
       "              total_sales\n",
       "genre                    \n",
       "Shooter          1.335469\n",
       "Sports           0.680000\n",
       "Platform         0.476053\n",
       "Fighting         0.470333\n",
       "Role-Playing     0.459005\n",
       "Racing           0.398841\n",
       "Misc             0.332301\n",
       "Action           0.322068\n",
       "Simulation       0.298409\n",
       "Puzzle           0.157857\n",
       "Strategy         0.107027\n",
       "Adventure        0.094865"
      ]
     },
     "execution_count": 39,
     "metadata": {},
     "output_type": "execute_result"
    }
   ],
   "source": [
    "top_games.pivot_table(index='genre', values='total_sales', aggfunc='mean').sort_values(by='total_sales', ascending=False)"
   ]
  },
  {
   "cell_type": "markdown",
   "metadata": {
    "id": "sFAcEG18XLbR"
   },
   "source": [
    "Больше всего продаж у игр с жанром `Action`, за ними идут игры `Sports` и `Shooter`. Меньшее количество продаж у жанров `Adventure`, `Puzzle` и `Strategy`."
   ]
  },
  {
   "cell_type": "markdown",
   "metadata": {
    "id": "8J-uPlRvXLbR"
   },
   "source": [
    "**Выводы:**\n",
    "\n",
    "Был проведен анализ данных за 10 лет - с 2006 по 2016 года, были выявлены топ-10 платформ для игр по продажам.\n",
    "\n",
    "* В данном периоде пик продаж был в 2008 - 2011 годах. После доход с продаж игр становился все меньше и меньше. Назвать потенциально прибыльной, с учетом, что у нас данные не полностью за 2016 год можно PS4.\n",
    "* На примере PS4 были построенны графики и посчитан коэф. корреляции продаж в зависимости от оценок пользователей/критиков, и было выявленно что оценки критиков в большей мере влияют на продажи.\n",
    "* Самыми прибыльным оказались жанры `Action`, `Sports`, `Shooter`.\n",
    "* Самые низкие сборы у `Adventure`, `Puzzle`, `Strategy`."
   ]
  },
  {
   "cell_type": "markdown",
   "metadata": {
    "id": "KVfpE8QaXLbR"
   },
   "source": [
    "## Составление портрета пользователей\n",
    "\n",
    "Определем для пользователей каждого региона (NA, EU, JP):\n",
    "\n",
    "* Самые популярные платформы (ТОП-5)\n",
    "* Самые популярные жанры (ТОП-5)\n",
    "* Влияние рейтинга ESRB на продажи в регионе"
   ]
  },
  {
   "cell_type": "markdown",
   "metadata": {
    "id": "5FyITkXnXLbR"
   },
   "source": [
    "### Северная Америка"
   ]
  },
  {
   "cell_type": "code",
   "execution_count": 40,
   "metadata": {
    "colab": {
     "base_uri": "https://localhost:8080/",
     "height": 206
    },
    "id": "UbVLpYWlXLbR",
    "outputId": "2ddff8b5-c463-4311-826c-e519432d8911"
   },
   "outputs": [
    {
     "data": {
      "text/html": [
       "<div>\n",
       "<style scoped>\n",
       "    .dataframe tbody tr th:only-of-type {\n",
       "        vertical-align: middle;\n",
       "    }\n",
       "\n",
       "    .dataframe tbody tr th {\n",
       "        vertical-align: top;\n",
       "    }\n",
       "\n",
       "    .dataframe thead th {\n",
       "        text-align: right;\n",
       "    }\n",
       "</style>\n",
       "<table border=\"1\" class=\"dataframe\">\n",
       "  <thead>\n",
       "    <tr style=\"text-align: right;\">\n",
       "      <th></th>\n",
       "      <th>platform</th>\n",
       "      <th>na_sales</th>\n",
       "    </tr>\n",
       "  </thead>\n",
       "  <tbody>\n",
       "    <tr>\n",
       "      <th>3</th>\n",
       "      <td>PS4</td>\n",
       "      <td>98.61</td>\n",
       "    </tr>\n",
       "    <tr>\n",
       "      <th>9</th>\n",
       "      <td>XOne</td>\n",
       "      <td>81.27</td>\n",
       "    </tr>\n",
       "    <tr>\n",
       "      <th>8</th>\n",
       "      <td>X360</td>\n",
       "      <td>28.30</td>\n",
       "    </tr>\n",
       "    <tr>\n",
       "      <th>0</th>\n",
       "      <td>3DS</td>\n",
       "      <td>22.64</td>\n",
       "    </tr>\n",
       "    <tr>\n",
       "      <th>2</th>\n",
       "      <td>PS3</td>\n",
       "      <td>22.05</td>\n",
       "    </tr>\n",
       "  </tbody>\n",
       "</table>\n",
       "</div>"
      ],
      "text/plain": [
       "  platform  na_sales\n",
       "3      PS4     98.61\n",
       "9     XOne     81.27\n",
       "8     X360     28.30\n",
       "0      3DS     22.64\n",
       "2      PS3     22.05"
      ]
     },
     "execution_count": 40,
     "metadata": {},
     "output_type": "execute_result"
    }
   ],
   "source": [
    "(top_games\n",
    ".groupby('platform')['na_sales']\n",
    ".sum()\n",
    ".reset_index()\n",
    ".sort_values(by='na_sales', ascending=False)\n",
    ".head()\n",
    ")\n"
   ]
  },
  {
   "cell_type": "code",
   "execution_count": 41,
   "metadata": {
    "colab": {
     "base_uri": "https://localhost:8080/",
     "height": 206
    },
    "id": "TmkoZtGrXLbR",
    "outputId": "45fa21e9-13b4-46c3-942c-28c16f91e992"
   },
   "outputs": [
    {
     "data": {
      "text/html": [
       "<div>\n",
       "<style scoped>\n",
       "    .dataframe tbody tr th:only-of-type {\n",
       "        vertical-align: middle;\n",
       "    }\n",
       "\n",
       "    .dataframe tbody tr th {\n",
       "        vertical-align: top;\n",
       "    }\n",
       "\n",
       "    .dataframe thead th {\n",
       "        text-align: right;\n",
       "    }\n",
       "</style>\n",
       "<table border=\"1\" class=\"dataframe\">\n",
       "  <thead>\n",
       "    <tr style=\"text-align: right;\">\n",
       "      <th></th>\n",
       "      <th>genre</th>\n",
       "      <th>na_sales</th>\n",
       "    </tr>\n",
       "  </thead>\n",
       "  <tbody>\n",
       "    <tr>\n",
       "      <th>8</th>\n",
       "      <td>Shooter</td>\n",
       "      <td>79.02</td>\n",
       "    </tr>\n",
       "    <tr>\n",
       "      <th>0</th>\n",
       "      <td>Action</td>\n",
       "      <td>72.53</td>\n",
       "    </tr>\n",
       "    <tr>\n",
       "      <th>10</th>\n",
       "      <td>Sports</td>\n",
       "      <td>46.13</td>\n",
       "    </tr>\n",
       "    <tr>\n",
       "      <th>7</th>\n",
       "      <td>Role-Playing</td>\n",
       "      <td>33.47</td>\n",
       "    </tr>\n",
       "    <tr>\n",
       "      <th>3</th>\n",
       "      <td>Misc</td>\n",
       "      <td>15.05</td>\n",
       "    </tr>\n",
       "  </tbody>\n",
       "</table>\n",
       "</div>"
      ],
      "text/plain": [
       "           genre  na_sales\n",
       "8        Shooter     79.02\n",
       "0         Action     72.53\n",
       "10        Sports     46.13\n",
       "7   Role-Playing     33.47\n",
       "3           Misc     15.05"
      ]
     },
     "execution_count": 41,
     "metadata": {},
     "output_type": "execute_result"
    }
   ],
   "source": [
    "(top_games\n",
    ".groupby('genre')['na_sales']\n",
    ".sum()\n",
    ".reset_index()\n",
    ".sort_values(by='na_sales', ascending=False)\n",
    ".head()\n",
    ")\n"
   ]
  },
  {
   "cell_type": "code",
   "execution_count": 42,
   "metadata": {
    "colab": {
     "base_uri": "https://localhost:8080/",
     "height": 206
    },
    "id": "acpBooAmXLbS",
    "outputId": "c7f7884a-a225-4bc5-b339-a2b84ae654fe"
   },
   "outputs": [
    {
     "data": {
      "text/html": [
       "<div>\n",
       "<style scoped>\n",
       "    .dataframe tbody tr th:only-of-type {\n",
       "        vertical-align: middle;\n",
       "    }\n",
       "\n",
       "    .dataframe tbody tr th {\n",
       "        vertical-align: top;\n",
       "    }\n",
       "\n",
       "    .dataframe thead th {\n",
       "        text-align: right;\n",
       "    }\n",
       "</style>\n",
       "<table border=\"1\" class=\"dataframe\">\n",
       "  <thead>\n",
       "    <tr style=\"text-align: right;\">\n",
       "      <th></th>\n",
       "      <th>rating</th>\n",
       "      <th>na_sales</th>\n",
       "    </tr>\n",
       "  </thead>\n",
       "  <tbody>\n",
       "    <tr>\n",
       "      <th>3</th>\n",
       "      <td>M</td>\n",
       "      <td>96.42</td>\n",
       "    </tr>\n",
       "    <tr>\n",
       "      <th>0</th>\n",
       "      <td>-1</td>\n",
       "      <td>64.72</td>\n",
       "    </tr>\n",
       "    <tr>\n",
       "      <th>1</th>\n",
       "      <td>E</td>\n",
       "      <td>50.74</td>\n",
       "    </tr>\n",
       "    <tr>\n",
       "      <th>4</th>\n",
       "      <td>T</td>\n",
       "      <td>38.95</td>\n",
       "    </tr>\n",
       "    <tr>\n",
       "      <th>2</th>\n",
       "      <td>E10+</td>\n",
       "      <td>33.23</td>\n",
       "    </tr>\n",
       "  </tbody>\n",
       "</table>\n",
       "</div>"
      ],
      "text/plain": [
       "  rating  na_sales\n",
       "3      M     96.42\n",
       "0     -1     64.72\n",
       "1      E     50.74\n",
       "4      T     38.95\n",
       "2   E10+     33.23"
      ]
     },
     "execution_count": 42,
     "metadata": {},
     "output_type": "execute_result"
    }
   ],
   "source": [
    "(top_games\n",
    ".groupby('rating')['na_sales']\n",
    ".sum()\n",
    ".reset_index()\n",
    ".sort_values(by='na_sales', ascending=False)\n",
    ".head()\n",
    ")\n"
   ]
  },
  {
   "cell_type": "markdown",
   "metadata": {
    "id": "4-RhlQlOXLbS"
   },
   "source": [
    "* В Северной Америке лидируют платформы `X360`, `Wii`, `PS3`.\n",
    "* Среди жанров `Action`, `Sport`, `Shooter`.\n",
    "* С большим отрывом лидируют игры с рейтингом `E`, за ним рейтинги `M` и `T`."
   ]
  },
  {
   "cell_type": "markdown",
   "metadata": {
    "id": "v2ub1OqyXLbS"
   },
   "source": [
    "### Европа"
   ]
  },
  {
   "cell_type": "code",
   "execution_count": 43,
   "metadata": {
    "colab": {
     "base_uri": "https://localhost:8080/",
     "height": 206
    },
    "id": "BE3cYk68XLbS",
    "outputId": "980735bb-fe77-47af-ce4a-eacb7bb99c7e"
   },
   "outputs": [
    {
     "data": {
      "text/html": [
       "<div>\n",
       "<style scoped>\n",
       "    .dataframe tbody tr th:only-of-type {\n",
       "        vertical-align: middle;\n",
       "    }\n",
       "\n",
       "    .dataframe tbody tr th {\n",
       "        vertical-align: top;\n",
       "    }\n",
       "\n",
       "    .dataframe thead th {\n",
       "        text-align: right;\n",
       "    }\n",
       "</style>\n",
       "<table border=\"1\" class=\"dataframe\">\n",
       "  <thead>\n",
       "    <tr style=\"text-align: right;\">\n",
       "      <th></th>\n",
       "      <th>platform</th>\n",
       "      <th>eu_sales</th>\n",
       "    </tr>\n",
       "  </thead>\n",
       "  <tbody>\n",
       "    <tr>\n",
       "      <th>3</th>\n",
       "      <td>PS4</td>\n",
       "      <td>130.04</td>\n",
       "    </tr>\n",
       "    <tr>\n",
       "      <th>9</th>\n",
       "      <td>XOne</td>\n",
       "      <td>46.25</td>\n",
       "    </tr>\n",
       "    <tr>\n",
       "      <th>2</th>\n",
       "      <td>PS3</td>\n",
       "      <td>25.54</td>\n",
       "    </tr>\n",
       "    <tr>\n",
       "      <th>1</th>\n",
       "      <td>PC</td>\n",
       "      <td>17.97</td>\n",
       "    </tr>\n",
       "    <tr>\n",
       "      <th>0</th>\n",
       "      <td>3DS</td>\n",
       "      <td>16.12</td>\n",
       "    </tr>\n",
       "  </tbody>\n",
       "</table>\n",
       "</div>"
      ],
      "text/plain": [
       "  platform  eu_sales\n",
       "3      PS4    130.04\n",
       "9     XOne     46.25\n",
       "2      PS3     25.54\n",
       "1       PC     17.97\n",
       "0      3DS     16.12"
      ]
     },
     "execution_count": 43,
     "metadata": {},
     "output_type": "execute_result"
    }
   ],
   "source": [
    "(top_games\n",
    ".groupby('platform')['eu_sales']\n",
    ".sum()\n",
    ".reset_index()\n",
    ".sort_values(by='eu_sales', ascending=False)\n",
    ".head()\n",
    ")"
   ]
  },
  {
   "cell_type": "code",
   "execution_count": 44,
   "metadata": {
    "colab": {
     "base_uri": "https://localhost:8080/",
     "height": 206
    },
    "id": "XrI4tj12XLbS",
    "outputId": "870b100e-f4ca-4800-ebef-e36987f3e79f"
   },
   "outputs": [
    {
     "data": {
      "text/html": [
       "<div>\n",
       "<style scoped>\n",
       "    .dataframe tbody tr th:only-of-type {\n",
       "        vertical-align: middle;\n",
       "    }\n",
       "\n",
       "    .dataframe tbody tr th {\n",
       "        vertical-align: top;\n",
       "    }\n",
       "\n",
       "    .dataframe thead th {\n",
       "        text-align: right;\n",
       "    }\n",
       "</style>\n",
       "<table border=\"1\" class=\"dataframe\">\n",
       "  <thead>\n",
       "    <tr style=\"text-align: right;\">\n",
       "      <th></th>\n",
       "      <th>genre</th>\n",
       "      <th>eu_sales</th>\n",
       "    </tr>\n",
       "  </thead>\n",
       "  <tbody>\n",
       "    <tr>\n",
       "      <th>0</th>\n",
       "      <td>Action</td>\n",
       "      <td>74.68</td>\n",
       "    </tr>\n",
       "    <tr>\n",
       "      <th>8</th>\n",
       "      <td>Shooter</td>\n",
       "      <td>65.52</td>\n",
       "    </tr>\n",
       "    <tr>\n",
       "      <th>10</th>\n",
       "      <td>Sports</td>\n",
       "      <td>45.73</td>\n",
       "    </tr>\n",
       "    <tr>\n",
       "      <th>7</th>\n",
       "      <td>Role-Playing</td>\n",
       "      <td>28.17</td>\n",
       "    </tr>\n",
       "    <tr>\n",
       "      <th>6</th>\n",
       "      <td>Racing</td>\n",
       "      <td>14.13</td>\n",
       "    </tr>\n",
       "  </tbody>\n",
       "</table>\n",
       "</div>"
      ],
      "text/plain": [
       "           genre  eu_sales\n",
       "0         Action     74.68\n",
       "8        Shooter     65.52\n",
       "10        Sports     45.73\n",
       "7   Role-Playing     28.17\n",
       "6         Racing     14.13"
      ]
     },
     "execution_count": 44,
     "metadata": {},
     "output_type": "execute_result"
    }
   ],
   "source": [
    "(top_games\n",
    ".groupby('genre')['eu_sales']\n",
    ".sum()\n",
    ".reset_index()\n",
    ".sort_values(by='eu_sales', ascending=False)\n",
    ".head()\n",
    ")\n"
   ]
  },
  {
   "cell_type": "code",
   "execution_count": 45,
   "metadata": {
    "colab": {
     "base_uri": "https://localhost:8080/",
     "height": 206
    },
    "id": "BsJA449eXLbS",
    "outputId": "d4619a3d-964f-4a0e-cb8a-b982d0f58ce0"
   },
   "outputs": [
    {
     "data": {
      "text/html": [
       "<div>\n",
       "<style scoped>\n",
       "    .dataframe tbody tr th:only-of-type {\n",
       "        vertical-align: middle;\n",
       "    }\n",
       "\n",
       "    .dataframe tbody tr th {\n",
       "        vertical-align: top;\n",
       "    }\n",
       "\n",
       "    .dataframe thead th {\n",
       "        text-align: right;\n",
       "    }\n",
       "</style>\n",
       "<table border=\"1\" class=\"dataframe\">\n",
       "  <thead>\n",
       "    <tr style=\"text-align: right;\">\n",
       "      <th></th>\n",
       "      <th>rating</th>\n",
       "      <th>eu_sales</th>\n",
       "    </tr>\n",
       "  </thead>\n",
       "  <tbody>\n",
       "    <tr>\n",
       "      <th>3</th>\n",
       "      <td>M</td>\n",
       "      <td>93.44</td>\n",
       "    </tr>\n",
       "    <tr>\n",
       "      <th>0</th>\n",
       "      <td>-1</td>\n",
       "      <td>58.95</td>\n",
       "    </tr>\n",
       "    <tr>\n",
       "      <th>1</th>\n",
       "      <td>E</td>\n",
       "      <td>58.06</td>\n",
       "    </tr>\n",
       "    <tr>\n",
       "      <th>4</th>\n",
       "      <td>T</td>\n",
       "      <td>34.07</td>\n",
       "    </tr>\n",
       "    <tr>\n",
       "      <th>2</th>\n",
       "      <td>E10+</td>\n",
       "      <td>26.16</td>\n",
       "    </tr>\n",
       "  </tbody>\n",
       "</table>\n",
       "</div>"
      ],
      "text/plain": [
       "  rating  eu_sales\n",
       "3      M     93.44\n",
       "0     -1     58.95\n",
       "1      E     58.06\n",
       "4      T     34.07\n",
       "2   E10+     26.16"
      ]
     },
     "execution_count": 45,
     "metadata": {},
     "output_type": "execute_result"
    }
   ],
   "source": [
    "(top_games\n",
    ".groupby('rating')['eu_sales']\n",
    ".sum()\n",
    ".reset_index()\n",
    ".sort_values(by='eu_sales', ascending=False)\n",
    ".head()\n",
    ")\n"
   ]
  },
  {
   "cell_type": "markdown",
   "metadata": {
    "id": "kBRHgwl_XLbT"
   },
   "source": [
    "В Европе аналогичная ситуация:\n",
    "* Лидируют платформы `PS3`, `X360`, `Wii`.\n",
    "* Жанры - `Action`, `Sports`, `Shooter`.\n",
    "* Рейтинги `E`, `M`, `T`."
   ]
  },
  {
   "cell_type": "markdown",
   "metadata": {
    "id": "uGvSlb2le0IN"
   },
   "source": [
    "### Япония"
   ]
  },
  {
   "cell_type": "code",
   "execution_count": 46,
   "metadata": {
    "colab": {
     "base_uri": "https://localhost:8080/",
     "height": 206
    },
    "id": "hQSismkiXLbT",
    "outputId": "a678c9ce-78e2-4b34-99de-704f91729fca"
   },
   "outputs": [
    {
     "data": {
      "text/html": [
       "<div>\n",
       "<style scoped>\n",
       "    .dataframe tbody tr th:only-of-type {\n",
       "        vertical-align: middle;\n",
       "    }\n",
       "\n",
       "    .dataframe tbody tr th {\n",
       "        vertical-align: top;\n",
       "    }\n",
       "\n",
       "    .dataframe thead th {\n",
       "        text-align: right;\n",
       "    }\n",
       "</style>\n",
       "<table border=\"1\" class=\"dataframe\">\n",
       "  <thead>\n",
       "    <tr style=\"text-align: right;\">\n",
       "      <th></th>\n",
       "      <th>platform</th>\n",
       "      <th>jp_sales</th>\n",
       "    </tr>\n",
       "  </thead>\n",
       "  <tbody>\n",
       "    <tr>\n",
       "      <th>0</th>\n",
       "      <td>3DS</td>\n",
       "      <td>44.24</td>\n",
       "    </tr>\n",
       "    <tr>\n",
       "      <th>3</th>\n",
       "      <td>PS4</td>\n",
       "      <td>15.02</td>\n",
       "    </tr>\n",
       "    <tr>\n",
       "      <th>5</th>\n",
       "      <td>PSV</td>\n",
       "      <td>14.54</td>\n",
       "    </tr>\n",
       "    <tr>\n",
       "      <th>2</th>\n",
       "      <td>PS3</td>\n",
       "      <td>11.22</td>\n",
       "    </tr>\n",
       "    <tr>\n",
       "      <th>7</th>\n",
       "      <td>WiiU</td>\n",
       "      <td>7.31</td>\n",
       "    </tr>\n",
       "  </tbody>\n",
       "</table>\n",
       "</div>"
      ],
      "text/plain": [
       "  platform  jp_sales\n",
       "0      3DS     44.24\n",
       "3      PS4     15.02\n",
       "5      PSV     14.54\n",
       "2      PS3     11.22\n",
       "7     WiiU      7.31"
      ]
     },
     "execution_count": 46,
     "metadata": {},
     "output_type": "execute_result"
    }
   ],
   "source": [
    "(top_games\n",
    " .groupby('platform')['jp_sales']\n",
    " .sum()\n",
    " .reset_index()\n",
    " .sort_values(by='jp_sales', ascending=False)\n",
    " .head()\n",
    " )"
   ]
  },
  {
   "cell_type": "code",
   "execution_count": 47,
   "metadata": {
    "colab": {
     "base_uri": "https://localhost:8080/",
     "height": 206
    },
    "id": "cKp9xo98bhLU",
    "outputId": "7963feb7-7139-4d10-c03e-82d0ac75909a"
   },
   "outputs": [
    {
     "data": {
      "text/html": [
       "<div>\n",
       "<style scoped>\n",
       "    .dataframe tbody tr th:only-of-type {\n",
       "        vertical-align: middle;\n",
       "    }\n",
       "\n",
       "    .dataframe tbody tr th {\n",
       "        vertical-align: top;\n",
       "    }\n",
       "\n",
       "    .dataframe thead th {\n",
       "        text-align: right;\n",
       "    }\n",
       "</style>\n",
       "<table border=\"1\" class=\"dataframe\">\n",
       "  <thead>\n",
       "    <tr style=\"text-align: right;\">\n",
       "      <th></th>\n",
       "      <th>genre</th>\n",
       "      <th>jp_sales</th>\n",
       "    </tr>\n",
       "  </thead>\n",
       "  <tbody>\n",
       "    <tr>\n",
       "      <th>7</th>\n",
       "      <td>Role-Playing</td>\n",
       "      <td>31.16</td>\n",
       "    </tr>\n",
       "    <tr>\n",
       "      <th>0</th>\n",
       "      <td>Action</td>\n",
       "      <td>29.58</td>\n",
       "    </tr>\n",
       "    <tr>\n",
       "      <th>2</th>\n",
       "      <td>Fighting</td>\n",
       "      <td>6.37</td>\n",
       "    </tr>\n",
       "    <tr>\n",
       "      <th>3</th>\n",
       "      <td>Misc</td>\n",
       "      <td>5.61</td>\n",
       "    </tr>\n",
       "    <tr>\n",
       "      <th>8</th>\n",
       "      <td>Shooter</td>\n",
       "      <td>4.87</td>\n",
       "    </tr>\n",
       "  </tbody>\n",
       "</table>\n",
       "</div>"
      ],
      "text/plain": [
       "          genre  jp_sales\n",
       "7  Role-Playing     31.16\n",
       "0        Action     29.58\n",
       "2      Fighting      6.37\n",
       "3          Misc      5.61\n",
       "8       Shooter      4.87"
      ]
     },
     "execution_count": 47,
     "metadata": {},
     "output_type": "execute_result"
    }
   ],
   "source": [
    "(top_games\n",
    " .groupby('genre')['jp_sales']\n",
    " .sum()\n",
    " .reset_index()\n",
    " .sort_values(by='jp_sales', ascending=False)\n",
    " .head()\n",
    " )"
   ]
  },
  {
   "cell_type": "code",
   "execution_count": 48,
   "metadata": {
    "colab": {
     "base_uri": "https://localhost:8080/",
     "height": 206
    },
    "id": "hjo2wc3db8Xi",
    "outputId": "5f08b6ff-3dd6-44c4-dea7-8bb0d14e7a2e"
   },
   "outputs": [
    {
     "data": {
      "text/html": [
       "<div>\n",
       "<style scoped>\n",
       "    .dataframe tbody tr th:only-of-type {\n",
       "        vertical-align: middle;\n",
       "    }\n",
       "\n",
       "    .dataframe tbody tr th {\n",
       "        vertical-align: top;\n",
       "    }\n",
       "\n",
       "    .dataframe thead th {\n",
       "        text-align: right;\n",
       "    }\n",
       "</style>\n",
       "<table border=\"1\" class=\"dataframe\">\n",
       "  <thead>\n",
       "    <tr style=\"text-align: right;\">\n",
       "      <th></th>\n",
       "      <th>rating</th>\n",
       "      <th>jp_sales</th>\n",
       "    </tr>\n",
       "  </thead>\n",
       "  <tbody>\n",
       "    <tr>\n",
       "      <th>0</th>\n",
       "      <td>-1</td>\n",
       "      <td>56.90</td>\n",
       "    </tr>\n",
       "    <tr>\n",
       "      <th>4</th>\n",
       "      <td>T</td>\n",
       "      <td>14.78</td>\n",
       "    </tr>\n",
       "    <tr>\n",
       "      <th>1</th>\n",
       "      <td>E</td>\n",
       "      <td>8.94</td>\n",
       "    </tr>\n",
       "    <tr>\n",
       "      <th>3</th>\n",
       "      <td>M</td>\n",
       "      <td>8.01</td>\n",
       "    </tr>\n",
       "    <tr>\n",
       "      <th>2</th>\n",
       "      <td>E10+</td>\n",
       "      <td>4.46</td>\n",
       "    </tr>\n",
       "  </tbody>\n",
       "</table>\n",
       "</div>"
      ],
      "text/plain": [
       "  rating  jp_sales\n",
       "0     -1     56.90\n",
       "4      T     14.78\n",
       "1      E      8.94\n",
       "3      M      8.01\n",
       "2   E10+      4.46"
      ]
     },
     "execution_count": 48,
     "metadata": {},
     "output_type": "execute_result"
    }
   ],
   "source": [
    "(top_games\n",
    " .groupby('rating')['jp_sales']\n",
    " .sum()\n",
    " .reset_index()\n",
    " .sort_values(by='jp_sales', ascending=False)\n",
    " .head()\n",
    " )"
   ]
  },
  {
   "cell_type": "markdown",
   "metadata": {
    "id": "h7Pl6AMYeD1l"
   },
   "source": [
    "В Японии все по другому:\n",
    "* Лидируют платформы - `DS`, `3DS`, `PS3`\n",
    "* Жанры - `Role-Playing`, `Action`, `Misc`\n",
    "* Рейтинги `E` (для всех), `T` (для подростков)"
   ]
  },
  {
   "cell_type": "markdown",
   "metadata": {
    "id": "xnqAubBRe5w2"
   },
   "source": [
    "### Другие страны"
   ]
  },
  {
   "cell_type": "code",
   "execution_count": 49,
   "metadata": {
    "colab": {
     "base_uri": "https://localhost:8080/",
     "height": 206
    },
    "id": "ViVy7_Hib-ma",
    "outputId": "de1612ec-e516-4cc6-9b0e-fd107566057b"
   },
   "outputs": [
    {
     "data": {
      "text/html": [
       "<div>\n",
       "<style scoped>\n",
       "    .dataframe tbody tr th:only-of-type {\n",
       "        vertical-align: middle;\n",
       "    }\n",
       "\n",
       "    .dataframe tbody tr th {\n",
       "        vertical-align: top;\n",
       "    }\n",
       "\n",
       "    .dataframe thead th {\n",
       "        text-align: right;\n",
       "    }\n",
       "</style>\n",
       "<table border=\"1\" class=\"dataframe\">\n",
       "  <thead>\n",
       "    <tr style=\"text-align: right;\">\n",
       "      <th></th>\n",
       "      <th>platform</th>\n",
       "      <th>other_sales</th>\n",
       "    </tr>\n",
       "  </thead>\n",
       "  <tbody>\n",
       "    <tr>\n",
       "      <th>3</th>\n",
       "      <td>PS4</td>\n",
       "      <td>44.48</td>\n",
       "    </tr>\n",
       "    <tr>\n",
       "      <th>9</th>\n",
       "      <td>XOne</td>\n",
       "      <td>12.52</td>\n",
       "    </tr>\n",
       "    <tr>\n",
       "      <th>2</th>\n",
       "      <td>PS3</td>\n",
       "      <td>9.37</td>\n",
       "    </tr>\n",
       "    <tr>\n",
       "      <th>8</th>\n",
       "      <td>X360</td>\n",
       "      <td>4.35</td>\n",
       "    </tr>\n",
       "    <tr>\n",
       "      <th>0</th>\n",
       "      <td>3DS</td>\n",
       "      <td>3.68</td>\n",
       "    </tr>\n",
       "  </tbody>\n",
       "</table>\n",
       "</div>"
      ],
      "text/plain": [
       "  platform  other_sales\n",
       "3      PS4        44.48\n",
       "9     XOne        12.52\n",
       "2      PS3         9.37\n",
       "8     X360         4.35\n",
       "0      3DS         3.68"
      ]
     },
     "execution_count": 49,
     "metadata": {},
     "output_type": "execute_result"
    }
   ],
   "source": [
    "(top_games\n",
    " .groupby('platform')['other_sales']\n",
    " .sum()\n",
    " .reset_index()\n",
    " .sort_values(by='other_sales', ascending=False)\n",
    " .head()\n",
    " )"
   ]
  },
  {
   "cell_type": "code",
   "execution_count": 50,
   "metadata": {
    "colab": {
     "base_uri": "https://localhost:8080/",
     "height": 206
    },
    "id": "0h7ELzTqfBQf",
    "outputId": "aa91f1d5-86bf-4681-b902-c8118e6e5631"
   },
   "outputs": [
    {
     "data": {
      "text/html": [
       "<div>\n",
       "<style scoped>\n",
       "    .dataframe tbody tr th:only-of-type {\n",
       "        vertical-align: middle;\n",
       "    }\n",
       "\n",
       "    .dataframe tbody tr th {\n",
       "        vertical-align: top;\n",
       "    }\n",
       "\n",
       "    .dataframe thead th {\n",
       "        text-align: right;\n",
       "    }\n",
       "</style>\n",
       "<table border=\"1\" class=\"dataframe\">\n",
       "  <thead>\n",
       "    <tr style=\"text-align: right;\">\n",
       "      <th></th>\n",
       "      <th>genre</th>\n",
       "      <th>other_sales</th>\n",
       "    </tr>\n",
       "  </thead>\n",
       "  <tbody>\n",
       "    <tr>\n",
       "      <th>0</th>\n",
       "      <td>Action</td>\n",
       "      <td>22.57</td>\n",
       "    </tr>\n",
       "    <tr>\n",
       "      <th>8</th>\n",
       "      <td>Shooter</td>\n",
       "      <td>21.53</td>\n",
       "    </tr>\n",
       "    <tr>\n",
       "      <th>10</th>\n",
       "      <td>Sports</td>\n",
       "      <td>14.36</td>\n",
       "    </tr>\n",
       "    <tr>\n",
       "      <th>7</th>\n",
       "      <td>Role-Playing</td>\n",
       "      <td>8.64</td>\n",
       "    </tr>\n",
       "    <tr>\n",
       "      <th>3</th>\n",
       "      <td>Misc</td>\n",
       "      <td>4.03</td>\n",
       "    </tr>\n",
       "  </tbody>\n",
       "</table>\n",
       "</div>"
      ],
      "text/plain": [
       "           genre  other_sales\n",
       "0         Action        22.57\n",
       "8        Shooter        21.53\n",
       "10        Sports        14.36\n",
       "7   Role-Playing         8.64\n",
       "3           Misc         4.03"
      ]
     },
     "execution_count": 50,
     "metadata": {},
     "output_type": "execute_result"
    }
   ],
   "source": [
    "(top_games\n",
    " .groupby('genre')['other_sales']\n",
    " .sum()\n",
    " .reset_index()\n",
    " .sort_values(by='other_sales', ascending=False)\n",
    " .head()\n",
    " )"
   ]
  },
  {
   "cell_type": "code",
   "execution_count": 51,
   "metadata": {
    "colab": {
     "base_uri": "https://localhost:8080/",
     "height": 381
    },
    "id": "xebIBNcffC1P",
    "outputId": "64845bc3-bf55-4d3b-bd8f-3e12e4853298"
   },
   "outputs": [
    {
     "data": {
      "text/html": [
       "<div>\n",
       "<style scoped>\n",
       "    .dataframe tbody tr th:only-of-type {\n",
       "        vertical-align: middle;\n",
       "    }\n",
       "\n",
       "    .dataframe tbody tr th {\n",
       "        vertical-align: top;\n",
       "    }\n",
       "\n",
       "    .dataframe thead th {\n",
       "        text-align: right;\n",
       "    }\n",
       "</style>\n",
       "<table border=\"1\" class=\"dataframe\">\n",
       "  <thead>\n",
       "    <tr style=\"text-align: right;\">\n",
       "      <th></th>\n",
       "      <th>rating</th>\n",
       "      <th>other_sales</th>\n",
       "    </tr>\n",
       "  </thead>\n",
       "  <tbody>\n",
       "    <tr>\n",
       "      <th>3</th>\n",
       "      <td>M</td>\n",
       "      <td>28.67</td>\n",
       "    </tr>\n",
       "    <tr>\n",
       "      <th>0</th>\n",
       "      <td>-1</td>\n",
       "      <td>18.40</td>\n",
       "    </tr>\n",
       "    <tr>\n",
       "      <th>1</th>\n",
       "      <td>E</td>\n",
       "      <td>15.39</td>\n",
       "    </tr>\n",
       "    <tr>\n",
       "      <th>4</th>\n",
       "      <td>T</td>\n",
       "      <td>11.33</td>\n",
       "    </tr>\n",
       "    <tr>\n",
       "      <th>2</th>\n",
       "      <td>E10+</td>\n",
       "      <td>7.83</td>\n",
       "    </tr>\n",
       "  </tbody>\n",
       "</table>\n",
       "</div>"
      ],
      "text/plain": [
       "  rating  other_sales\n",
       "3      M        28.67\n",
       "0     -1        18.40\n",
       "1      E        15.39\n",
       "4      T        11.33\n",
       "2   E10+         7.83"
      ]
     },
     "execution_count": 51,
     "metadata": {},
     "output_type": "execute_result"
    }
   ],
   "source": [
    "(top_games\n",
    " .groupby('rating')['other_sales']\n",
    " .sum()\n",
    " .reset_index()\n",
    " .sort_values(by='other_sales', ascending=False)\n",
    " .head()\n",
    " )"
   ]
  },
  {
   "cell_type": "markdown",
   "metadata": {
    "id": "JcXyNpXXfQ4K"
   },
   "source": [
    "**Выводы**\n",
    "\n",
    "1. В Северной Америке и Европе результаты практически не отличаются:\n",
    "* Лидируют платформы `X360`, `Wii`, `DS` и `PS3`\n",
    "* Популярные жанры - `Action`, `Sports`, `Shooter` и `Misc`\n",
    "* Рейтинги - `E` и `M`\n",
    "2. В Японии по другому:\n",
    "* Лидируют платформы - DS, 3DS, PS3\n",
    "* Жанры - Role-Playing, Action, Misc\n",
    "* Рейтинги E (для всех), T (для подростков)\n",
    "3. В остальных странах:\n",
    "* Портрет потребителей других стран такой же как в Северной Америке и Европе. Можно сделать вывод, что Япония - достаточно специфичный рынок для игр, к которому нужен другой подход в рекламных кампаниях."
   ]
  },
  {
   "cell_type": "markdown",
   "metadata": {
    "id": "jSEMpp41iMb0"
   },
   "source": [
    "## Проверка гипотез\n",
    "### Средние пользовательские рейтинги платформ Xbox One и PC одинаковые\n",
    "\n",
    "Сформулируем нулевую и альтернативную гипотезы:\n",
    "* H₀ - Средние пользовательские рейтинги платформ Xbox One и PC равны.\n",
    "* H₁ - Средние пользовательские рейтинги платформ Xbox One и PC не равны."
   ]
  },
  {
   "cell_type": "code",
   "execution_count": 52,
   "metadata": {
    "id": "YDkQ4JpyfIK8"
   },
   "outputs": [],
   "source": [
    "# Критический уровень статистической значимости\n",
    "alpha = 0.5"
   ]
  },
  {
   "cell_type": "code",
   "execution_count": 53,
   "metadata": {
    "id": "7wXzBV3sivle"
   },
   "outputs": [],
   "source": [
    "xbox = top_games_filtered.query('platform == \"XOne\"')\n",
    "pc = top_games_filtered.query('platform == \"PC\"')"
   ]
  },
  {
   "cell_type": "code",
   "execution_count": 54,
   "metadata": {
    "colab": {
     "base_uri": "https://localhost:8080/",
     "height": 270
    },
    "id": "h2ow1xeLjAuM",
    "outputId": "754a1bf6-60f5-4ba4-a616-2209d17462eb"
   },
   "outputs": [
    {
     "name": "stdout",
     "output_type": "stream",
     "text": [
      "p_значение 0.12817793652639856\n",
      "Отвергаем нулевую гипотезу\n",
      "\n",
      "Средний пользовательский рейтинг платформы Xbox One: 6.62\n",
      "Средний пользовательский рейтинг платформы PC: 6.34\n"
     ]
    }
   ],
   "source": [
    "result = st.ttest_ind(\n",
    "    xbox['user_score'],\n",
    "    pc['user_score']\n",
    ")\n",
    "print('p_значение', result.pvalue)\n",
    "\n",
    "if (result.pvalue < alpha):\n",
    "  print('Отвергаем нулевую гипотезу')\n",
    "else:\n",
    "  print('Не получилось отвергнуть нулевую гипотезу')\n",
    "\n",
    "print()\n",
    "print('Средний пользовательский рейтинг платформы Xbox One:', xbox['user_score'].mean().round(2))\n",
    "print('Средний пользовательский рейтинг платформы PC:', pc['user_score'].mean().round(2))"
   ]
  },
  {
   "cell_type": "markdown",
   "metadata": {
    "id": "d5bypCTUl8T6"
   },
   "source": [
    "### Средние пользовательские рейтинги жанров Action и Sports разные.\n",
    "\n",
    "* H₀ - средние пользовательские рейтинги жанров Action и Sports равны\n",
    "* H₁ - средние пользовательские рейтинги жанров Action и Sports не равны"
   ]
  },
  {
   "cell_type": "code",
   "execution_count": 55,
   "metadata": {
    "id": "ZI5iqr0UltV6"
   },
   "outputs": [],
   "source": [
    "action = top_games_filtered.query('genre == \"Action\"')\n",
    "sports = top_games_filtered.query('genre == \"Sports\"')"
   ]
  },
  {
   "cell_type": "code",
   "execution_count": 56,
   "metadata": {
    "id": "cMZlg7scmQvD"
   },
   "outputs": [
    {
     "name": "stdout",
     "output_type": "stream",
     "text": [
      "p_значение 4.0540895999943536e-10\n",
      "Отвергаем нулевую гипотезу\n",
      "\n",
      "Средний пользовательский рейтинг жанра Action: 6.83\n",
      "Средний пользовательский рейтинг жанра Sports: 5.68\n"
     ]
    }
   ],
   "source": [
    "result = st.ttest_ind(\n",
    "    action['user_score'],\n",
    "    sports['user_score']\n",
    ")\n",
    "print('p_значение', result.pvalue)\n",
    "\n",
    "if (result.pvalue < alpha):\n",
    "  print('Отвергаем нулевую гипотезу')\n",
    "else:\n",
    "  print('Не получилось отвергнуть нулевую гипотезу')\n",
    "\n",
    "print()\n",
    "print('Средний пользовательский рейтинг жанра Action:', action['user_score'].mean().round(2))\n",
    "print('Средний пользовательский рейтинг жанра Sports:', sports['user_score'].mean().round(2))"
   ]
  },
  {
   "cell_type": "markdown",
   "metadata": {
    "id": "kmAab68CnNWn"
   },
   "source": [
    "**Вывод**\n",
    "Проверили обе гипотезы и отвергли обе:\n",
    "* Средние пользовательские рейтинги Xbox One и PC равны\n",
    "* Средние пользовательские рейтинги жанров Action и Sports равны\n",
    "\n",
    "Разница между пользовательскими рейтингами платформ есть "
   ]
  },
  {
   "cell_type": "markdown",
   "metadata": {
    "id": "uXdoDb1Dohf4"
   },
   "source": [
    "## Общий вывод"
   ]
  },
  {
   "cell_type": "markdown",
   "metadata": {
    "id": "vyRDBzPBo1lg"
   },
   "source": [
    "В ходе работы:\n",
    "* Были выявлены и обработаны ошибки и пропуски в данных: приведены названия стобцов к нижнему регистру, заполнены пропуски, преобразованы данные в нужные типы, а так же посчитаны суммарные во всех регионах.\n",
    "* Проведен исследовательский анализ данных, выделен срез с 2006 по 2016 года.\n",
    "* Найдены 10 платформ-лидеров по продажам: `X360, PS3, Wii, DS, PS4, PS2, 3DS, PSP, PC, XOne`.\n",
    "\n",
    "Выяснено, что:\n",
    "* В промежутке исследованных 10-ти лет пик прибыли у большинства платформ приходится на 2008-2011 года, далее продажи падали. Потенциально прибыльная платформа `PS4`.\n",
    "* Больше всего выручка у платформы при оценке критиков 70 и выше.\n",
    "* Самыми прибыльными оказались жанры `Action`, `Sports` и `Shooter`.\n",
    "* Самые низкие сборы у жанров `Adventure`, `Puzzle` и `Strategy`.\n",
    "\n",
    "Cоставлен портрет пользователей в Северной Америке, Европе и Японии:\n",
    "* В Северной Америке и Европе картина примерно одинакова:\n",
    "1. Лидируют платформы `X360`, `Wii` и `DS`, `PS3` с небольшой разницей в распределении продаж.\n",
    "2. Самые популярные жанры - `Action`, `Sports`, `Shooter`, `Misc`\n",
    "3. с большим отрывом по продажам лидирует рейтинг `E`, на втором месте `M`\n",
    "* В Японии немного по-другому:\n",
    "1. Лидируют совсем другие платформы - `3DS`, ``WiiU`, `DS`, `PSP`, `PS3`\n",
    "2. Cамые популярные жанры - `Role-Playing`, `Platform`, `Sports`, `Misc`, `Action`.\n",
    "3. Cамые большие продажи у рейтингов `E` и `T`.\n",
    "* В других странах портрет потребителя похож на портет Северной Америки и Европы, лидируют те же платформы, жанры и рейтинги.\n",
    "\n",
    "Япония - специфичный рынок, к которому нужен особый подход в в составлении рекламных кампаний.\n",
    "\n",
    "Проверены гипотезы и обе отвергнуты (разница между пользовательскими рейтингами платформ и жанров есть):\n",
    "* Cредние пользовательские рейтинги платформ Xbox One и PC равны\n",
    "* Cредние пользовательские рейтинги жанров Action и Sports равны"
   ]
  },
  {
   "cell_type": "markdown",
   "metadata": {
    "id": "ewvCf2URwvRV"
   },
   "source": [
    "Планируя рекламную кампанию на 2017 год стоит обратить особое внимание на продвижение платформы PS4 (как более новую версию популярной PS3), а также платформ X360и Wii, и в особенности игр в жанрах Action, Sports, Shooter.\n",
    "\n",
    "Стоит также не забывать об особенностях рынка и подстроить рекламу конкретно под него. На примере Японии видно, как требования потребителей одной страны могут отличаться от предпочтений основной массы пользователей"
   ]
  }
 ],
 "metadata": {
  "ExecuteTimeLog": [
   {
    "duration": 345,
    "start_time": "2022-03-06T12:56:32.338Z"
   },
   {
    "duration": 619,
    "start_time": "2022-03-06T12:56:38.989Z"
   },
   {
    "duration": 2018,
    "start_time": "2022-03-06T12:56:39.610Z"
   },
   {
    "duration": 192,
    "start_time": "2022-03-06T12:56:41.438Z"
   },
   {
    "duration": 192,
    "start_time": "2022-03-06T12:56:41.439Z"
   },
   {
    "duration": 191,
    "start_time": "2022-03-06T12:56:41.440Z"
   },
   {
    "duration": 191,
    "start_time": "2022-03-06T12:56:41.441Z"
   },
   {
    "duration": 187,
    "start_time": "2022-03-06T12:56:41.446Z"
   },
   {
    "duration": 186,
    "start_time": "2022-03-06T12:56:41.447Z"
   },
   {
    "duration": 186,
    "start_time": "2022-03-06T12:56:41.448Z"
   },
   {
    "duration": 184,
    "start_time": "2022-03-06T12:56:41.450Z"
   },
   {
    "duration": 184,
    "start_time": "2022-03-06T12:56:41.451Z"
   },
   {
    "duration": 184,
    "start_time": "2022-03-06T12:56:41.452Z"
   },
   {
    "duration": 183,
    "start_time": "2022-03-06T12:56:41.453Z"
   },
   {
    "duration": 183,
    "start_time": "2022-03-06T12:56:41.454Z"
   },
   {
    "duration": 183,
    "start_time": "2022-03-06T12:56:41.455Z"
   },
   {
    "duration": 182,
    "start_time": "2022-03-06T12:56:41.456Z"
   },
   {
    "duration": 182,
    "start_time": "2022-03-06T12:56:41.457Z"
   },
   {
    "duration": 181,
    "start_time": "2022-03-06T12:56:41.458Z"
   },
   {
    "duration": 177,
    "start_time": "2022-03-06T12:56:41.463Z"
   },
   {
    "duration": 151,
    "start_time": "2022-03-06T12:56:41.490Z"
   },
   {
    "duration": 150,
    "start_time": "2022-03-06T12:56:41.491Z"
   },
   {
    "duration": 150,
    "start_time": "2022-03-06T12:56:41.492Z"
   },
   {
    "duration": 150,
    "start_time": "2022-03-06T12:56:41.493Z"
   },
   {
    "duration": 148,
    "start_time": "2022-03-06T12:56:41.495Z"
   },
   {
    "duration": 148,
    "start_time": "2022-03-06T12:56:41.496Z"
   },
   {
    "duration": 148,
    "start_time": "2022-03-06T12:56:41.497Z"
   },
   {
    "duration": 1978,
    "start_time": "2022-03-06T12:56:57.672Z"
   },
   {
    "duration": 50,
    "start_time": "2022-03-06T12:57:27.927Z"
   },
   {
    "duration": 608,
    "start_time": "2022-03-06T12:57:33.541Z"
   },
   {
    "duration": 50,
    "start_time": "2022-03-06T12:57:34.153Z"
   },
   {
    "duration": 10,
    "start_time": "2022-03-06T12:57:34.205Z"
   },
   {
    "duration": 7,
    "start_time": "2022-03-06T12:57:34.216Z"
   },
   {
    "duration": 9,
    "start_time": "2022-03-06T12:57:34.225Z"
   },
   {
    "duration": 11,
    "start_time": "2022-03-06T12:57:34.236Z"
   },
   {
    "duration": 9,
    "start_time": "2022-03-06T12:57:34.249Z"
   },
   {
    "duration": 7,
    "start_time": "2022-03-06T12:57:34.260Z"
   },
   {
    "duration": 2,
    "start_time": "2022-03-06T12:57:34.269Z"
   },
   {
    "duration": 12,
    "start_time": "2022-03-06T12:57:34.272Z"
   },
   {
    "duration": 496,
    "start_time": "2022-03-06T12:57:34.285Z"
   },
   {
    "duration": 249,
    "start_time": "2022-03-06T12:57:34.534Z"
   },
   {
    "duration": 248,
    "start_time": "2022-03-06T12:57:34.536Z"
   },
   {
    "duration": 249,
    "start_time": "2022-03-06T12:57:34.537Z"
   },
   {
    "duration": 248,
    "start_time": "2022-03-06T12:57:34.539Z"
   },
   {
    "duration": 248,
    "start_time": "2022-03-06T12:57:34.540Z"
   },
   {
    "duration": 243,
    "start_time": "2022-03-06T12:57:34.546Z"
   },
   {
    "duration": 241,
    "start_time": "2022-03-06T12:57:34.549Z"
   },
   {
    "duration": 234,
    "start_time": "2022-03-06T12:57:34.557Z"
   },
   {
    "duration": 247,
    "start_time": "2022-03-06T12:57:34.558Z"
   },
   {
    "duration": 245,
    "start_time": "2022-03-06T12:57:34.561Z"
   },
   {
    "duration": 245,
    "start_time": "2022-03-06T12:57:34.563Z"
   },
   {
    "duration": 231,
    "start_time": "2022-03-06T12:57:34.578Z"
   },
   {
    "duration": 230,
    "start_time": "2022-03-06T12:57:34.580Z"
   },
   {
    "duration": 230,
    "start_time": "2022-03-06T12:57:34.581Z"
   },
   {
    "duration": 230,
    "start_time": "2022-03-06T12:57:34.582Z"
   },
   {
    "duration": 180,
    "start_time": "2022-03-06T12:58:12.137Z"
   },
   {
    "duration": 156,
    "start_time": "2022-03-06T12:58:17.998Z"
   },
   {
    "duration": 157,
    "start_time": "2022-03-06T12:58:41.818Z"
   },
   {
    "duration": 38,
    "start_time": "2022-03-06T12:58:56.187Z"
   },
   {
    "duration": 5,
    "start_time": "2022-03-06T12:58:56.227Z"
   },
   {
    "duration": 11,
    "start_time": "2022-03-06T12:58:56.234Z"
   },
   {
    "duration": 2,
    "start_time": "2022-03-06T12:58:56.247Z"
   },
   {
    "duration": 64,
    "start_time": "2022-03-06T12:58:56.251Z"
   },
   {
    "duration": 24,
    "start_time": "2022-03-06T12:58:56.316Z"
   },
   {
    "duration": 143,
    "start_time": "2022-03-06T12:58:56.342Z"
   },
   {
    "duration": 133,
    "start_time": "2022-03-06T12:58:56.487Z"
   },
   {
    "duration": 160,
    "start_time": "2022-03-06T12:58:56.622Z"
   },
   {
    "duration": 6,
    "start_time": "2022-03-06T12:58:56.783Z"
   },
   {
    "duration": 642,
    "start_time": "2022-03-06T12:58:56.790Z"
   },
   {
    "duration": 61,
    "start_time": "2022-03-06T12:58:57.373Z"
   },
   {
    "duration": 14,
    "start_time": "2022-03-06T12:58:57.421Z"
   },
   {
    "duration": 14,
    "start_time": "2022-03-06T12:58:57.422Z"
   },
   {
    "duration": 13,
    "start_time": "2022-03-06T12:58:57.424Z"
   },
   {
    "duration": 275,
    "start_time": "2022-03-06T13:00:07.094Z"
   },
   {
    "duration": 4,
    "start_time": "2022-03-06T13:00:09.949Z"
   },
   {
    "duration": 421,
    "start_time": "2022-03-06T13:00:10.308Z"
   },
   {
    "duration": 453,
    "start_time": "2022-03-06T13:00:45.812Z"
   },
   {
    "duration": 444,
    "start_time": "2022-03-06T13:01:17.502Z"
   },
   {
    "duration": 94,
    "start_time": "2022-03-06T13:01:53.055Z"
   },
   {
    "duration": 91,
    "start_time": "2022-03-06T13:01:59.482Z"
   },
   {
    "duration": 472,
    "start_time": "2022-03-06T13:02:06.601Z"
   },
   {
    "duration": 4,
    "start_time": "2022-03-06T13:03:53.942Z"
   },
   {
    "duration": 430,
    "start_time": "2022-03-06T13:04:09.186Z"
   },
   {
    "duration": 261,
    "start_time": "2022-03-06T13:07:34.536Z"
   },
   {
    "duration": 335,
    "start_time": "2022-03-06T13:08:04.872Z"
   },
   {
    "duration": 435,
    "start_time": "2022-03-06T13:08:42.309Z"
   },
   {
    "duration": 442,
    "start_time": "2022-03-06T13:08:50.188Z"
   },
   {
    "duration": 446,
    "start_time": "2022-03-06T13:09:56.669Z"
   },
   {
    "duration": 452,
    "start_time": "2022-03-06T13:10:06.341Z"
   },
   {
    "duration": 462,
    "start_time": "2022-03-06T13:10:51.499Z"
   },
   {
    "duration": 464,
    "start_time": "2022-03-06T13:11:34.121Z"
   },
   {
    "duration": 490,
    "start_time": "2022-03-06T13:11:43.668Z"
   },
   {
    "duration": 4,
    "start_time": "2022-03-06T13:15:25.199Z"
   },
   {
    "duration": 6,
    "start_time": "2022-03-06T13:15:50.401Z"
   },
   {
    "duration": 459,
    "start_time": "2022-03-06T13:16:11.015Z"
   },
   {
    "duration": 5,
    "start_time": "2022-03-06T13:16:25.706Z"
   },
   {
    "duration": 456,
    "start_time": "2022-03-06T13:31:02.239Z"
   },
   {
    "duration": 12,
    "start_time": "2022-03-06T13:31:25.780Z"
   },
   {
    "duration": 12,
    "start_time": "2022-03-06T13:31:31.202Z"
   },
   {
    "duration": 3,
    "start_time": "2022-03-06T13:47:32.464Z"
   },
   {
    "duration": 9,
    "start_time": "2022-03-06T13:51:33.736Z"
   },
   {
    "duration": 10,
    "start_time": "2022-03-06T13:51:50.773Z"
   },
   {
    "duration": 10,
    "start_time": "2022-03-06T13:52:03.940Z"
   },
   {
    "duration": 2,
    "start_time": "2022-03-06T13:55:25.840Z"
   },
   {
    "duration": 2,
    "start_time": "2022-03-06T13:55:28.404Z"
   },
   {
    "duration": 11,
    "start_time": "2022-03-06T13:55:47.267Z"
   },
   {
    "duration": 9,
    "start_time": "2022-03-06T13:55:58.569Z"
   },
   {
    "duration": 10,
    "start_time": "2022-03-06T13:56:14.858Z"
   },
   {
    "duration": 10,
    "start_time": "2022-03-06T13:56:28.864Z"
   },
   {
    "duration": 883,
    "start_time": "2022-03-09T10:28:58.056Z"
   },
   {
    "duration": 77,
    "start_time": "2022-03-09T10:28:58.942Z"
   },
   {
    "duration": 20,
    "start_time": "2022-03-09T10:28:59.022Z"
   },
   {
    "duration": 29,
    "start_time": "2022-03-09T10:28:59.044Z"
   },
   {
    "duration": 11,
    "start_time": "2022-03-09T10:28:59.076Z"
   },
   {
    "duration": 6,
    "start_time": "2022-03-09T10:28:59.090Z"
   },
   {
    "duration": 11,
    "start_time": "2022-03-09T10:28:59.098Z"
   },
   {
    "duration": 12,
    "start_time": "2022-03-09T10:28:59.113Z"
   },
   {
    "duration": 5,
    "start_time": "2022-03-09T10:28:59.128Z"
   },
   {
    "duration": 21,
    "start_time": "2022-03-09T10:28:59.174Z"
   },
   {
    "duration": 317,
    "start_time": "2022-03-09T10:28:59.198Z"
   },
   {
    "duration": 76,
    "start_time": "2022-03-09T10:28:59.517Z"
   },
   {
    "duration": 7,
    "start_time": "2022-03-09T10:28:59.595Z"
   },
   {
    "duration": 16,
    "start_time": "2022-03-09T10:28:59.605Z"
   },
   {
    "duration": 4,
    "start_time": "2022-03-09T10:28:59.623Z"
   },
   {
    "duration": 61,
    "start_time": "2022-03-09T10:28:59.629Z"
   },
   {
    "duration": 45,
    "start_time": "2022-03-09T10:28:59.692Z"
   },
   {
    "duration": 270,
    "start_time": "2022-03-09T10:28:59.740Z"
   },
   {
    "duration": 236,
    "start_time": "2022-03-09T10:29:00.013Z"
   },
   {
    "duration": 325,
    "start_time": "2022-03-09T10:29:00.251Z"
   },
   {
    "duration": 10,
    "start_time": "2022-03-09T10:29:00.578Z"
   },
   {
    "duration": 406,
    "start_time": "2022-03-09T10:29:00.591Z"
   },
   {
    "duration": 7,
    "start_time": "2022-03-09T10:29:01.001Z"
   },
   {
    "duration": 469,
    "start_time": "2022-03-09T10:29:01.010Z"
   },
   {
    "duration": 6,
    "start_time": "2022-03-09T10:29:01.481Z"
   },
   {
    "duration": 42,
    "start_time": "2022-03-09T10:29:01.489Z"
   },
   {
    "duration": 483,
    "start_time": "2022-03-09T10:29:01.533Z"
   },
   {
    "duration": 7,
    "start_time": "2022-03-09T10:29:02.019Z"
   },
   {
    "duration": 470,
    "start_time": "2022-03-09T10:29:02.029Z"
   },
   {
    "duration": 7,
    "start_time": "2022-03-09T10:29:02.502Z"
   },
   {
    "duration": 55,
    "start_time": "2022-03-09T10:29:02.512Z"
   },
   {
    "duration": 32,
    "start_time": "2022-03-09T10:29:02.569Z"
   },
   {
    "duration": 42,
    "start_time": "2022-03-09T10:29:02.604Z"
   },
   {
    "duration": 20,
    "start_time": "2022-03-09T10:29:02.648Z"
   },
   {
    "duration": 22,
    "start_time": "2022-03-09T10:29:02.671Z"
   },
   {
    "duration": 27,
    "start_time": "2022-03-09T10:29:02.696Z"
   },
   {
    "duration": 20,
    "start_time": "2022-03-09T10:29:02.725Z"
   },
   {
    "duration": 948,
    "start_time": "2022-03-09T17:23:59.671Z"
   },
   {
    "duration": 1564,
    "start_time": "2022-03-09T17:24:00.620Z"
   },
   {
    "duration": 2684,
    "start_time": "2022-03-09T17:23:59.503Z"
   },
   {
    "duration": 2681,
    "start_time": "2022-03-09T17:23:59.506Z"
   },
   {
    "duration": 2680,
    "start_time": "2022-03-09T17:23:59.508Z"
   },
   {
    "duration": 2679,
    "start_time": "2022-03-09T17:23:59.510Z"
   },
   {
    "duration": 2678,
    "start_time": "2022-03-09T17:23:59.512Z"
   },
   {
    "duration": 2677,
    "start_time": "2022-03-09T17:23:59.514Z"
   },
   {
    "duration": 2676,
    "start_time": "2022-03-09T17:23:59.516Z"
   },
   {
    "duration": 2674,
    "start_time": "2022-03-09T17:23:59.518Z"
   },
   {
    "duration": 2674,
    "start_time": "2022-03-09T17:23:59.520Z"
   },
   {
    "duration": 2673,
    "start_time": "2022-03-09T17:23:59.522Z"
   },
   {
    "duration": 2672,
    "start_time": "2022-03-09T17:23:59.523Z"
   },
   {
    "duration": 2671,
    "start_time": "2022-03-09T17:23:59.526Z"
   },
   {
    "duration": 2670,
    "start_time": "2022-03-09T17:23:59.528Z"
   },
   {
    "duration": 2669,
    "start_time": "2022-03-09T17:23:59.530Z"
   },
   {
    "duration": 2668,
    "start_time": "2022-03-09T17:23:59.531Z"
   },
   {
    "duration": 2654,
    "start_time": "2022-03-09T17:23:59.546Z"
   },
   {
    "duration": 2651,
    "start_time": "2022-03-09T17:23:59.550Z"
   },
   {
    "duration": 2651,
    "start_time": "2022-03-09T17:23:59.552Z"
   },
   {
    "duration": 2651,
    "start_time": "2022-03-09T17:23:59.553Z"
   },
   {
    "duration": 2650,
    "start_time": "2022-03-09T17:23:59.555Z"
   },
   {
    "duration": 2649,
    "start_time": "2022-03-09T17:23:59.557Z"
   },
   {
    "duration": 2648,
    "start_time": "2022-03-09T17:23:59.559Z"
   },
   {
    "duration": 2648,
    "start_time": "2022-03-09T17:23:59.560Z"
   },
   {
    "duration": 2647,
    "start_time": "2022-03-09T17:23:59.562Z"
   },
   {
    "duration": 2647,
    "start_time": "2022-03-09T17:23:59.563Z"
   },
   {
    "duration": 2646,
    "start_time": "2022-03-09T17:23:59.565Z"
   },
   {
    "duration": 2646,
    "start_time": "2022-03-09T17:23:59.566Z"
   },
   {
    "duration": 2645,
    "start_time": "2022-03-09T17:23:59.568Z"
   },
   {
    "duration": 2645,
    "start_time": "2022-03-09T17:23:59.569Z"
   },
   {
    "duration": 2644,
    "start_time": "2022-03-09T17:23:59.571Z"
   },
   {
    "duration": 2644,
    "start_time": "2022-03-09T17:23:59.572Z"
   },
   {
    "duration": 2644,
    "start_time": "2022-03-09T17:23:59.574Z"
   },
   {
    "duration": 2645,
    "start_time": "2022-03-09T17:23:59.575Z"
   },
   {
    "duration": 2644,
    "start_time": "2022-03-09T17:23:59.577Z"
   },
   {
    "duration": 2644,
    "start_time": "2022-03-09T17:23:59.578Z"
   },
   {
    "duration": 2643,
    "start_time": "2022-03-09T17:23:59.580Z"
   },
   {
    "duration": 2642,
    "start_time": "2022-03-09T17:23:59.581Z"
   },
   {
    "duration": 2649,
    "start_time": "2022-03-09T17:23:59.583Z"
   },
   {
    "duration": 2649,
    "start_time": "2022-03-09T17:23:59.584Z"
   },
   {
    "duration": 2648,
    "start_time": "2022-03-09T17:23:59.586Z"
   },
   {
    "duration": 2648,
    "start_time": "2022-03-09T17:23:59.587Z"
   },
   {
    "duration": 2647,
    "start_time": "2022-03-09T17:23:59.589Z"
   },
   {
    "duration": 2647,
    "start_time": "2022-03-09T17:23:59.590Z"
   },
   {
    "duration": 2646,
    "start_time": "2022-03-09T17:23:59.592Z"
   },
   {
    "duration": 2646,
    "start_time": "2022-03-09T17:23:59.593Z"
   },
   {
    "duration": 2645,
    "start_time": "2022-03-09T17:23:59.595Z"
   },
   {
    "duration": 60,
    "start_time": "2022-03-09T17:24:36.929Z"
   },
   {
    "duration": 1009,
    "start_time": "2022-03-09T17:24:42.295Z"
   },
   {
    "duration": 48,
    "start_time": "2022-03-09T17:24:43.306Z"
   },
   {
    "duration": 11,
    "start_time": "2022-03-09T17:24:43.356Z"
   },
   {
    "duration": 10,
    "start_time": "2022-03-09T17:24:43.369Z"
   },
   {
    "duration": 8,
    "start_time": "2022-03-09T17:24:43.381Z"
   },
   {
    "duration": 10,
    "start_time": "2022-03-09T17:24:43.391Z"
   },
   {
    "duration": 12,
    "start_time": "2022-03-09T17:24:43.402Z"
   },
   {
    "duration": 23,
    "start_time": "2022-03-09T17:24:43.415Z"
   },
   {
    "duration": 3,
    "start_time": "2022-03-09T17:24:43.440Z"
   },
   {
    "duration": 14,
    "start_time": "2022-03-09T17:24:43.445Z"
   },
   {
    "duration": 193,
    "start_time": "2022-03-09T17:24:43.460Z"
   },
   {
    "duration": 37,
    "start_time": "2022-03-09T17:24:43.655Z"
   },
   {
    "duration": 6,
    "start_time": "2022-03-09T17:24:43.694Z"
   },
   {
    "duration": 35,
    "start_time": "2022-03-09T17:24:43.702Z"
   },
   {
    "duration": 3,
    "start_time": "2022-03-09T17:24:43.739Z"
   },
   {
    "duration": 18,
    "start_time": "2022-03-09T17:24:43.744Z"
   },
   {
    "duration": 25,
    "start_time": "2022-03-09T17:24:43.763Z"
   },
   {
    "duration": 163,
    "start_time": "2022-03-09T17:24:43.789Z"
   },
   {
    "duration": 139,
    "start_time": "2022-03-09T17:24:43.954Z"
   },
   {
    "duration": 163,
    "start_time": "2022-03-09T17:24:44.095Z"
   },
   {
    "duration": 7,
    "start_time": "2022-03-09T17:24:44.260Z"
   },
   {
    "duration": 283,
    "start_time": "2022-03-09T17:24:44.269Z"
   },
   {
    "duration": 5,
    "start_time": "2022-03-09T17:24:44.553Z"
   },
   {
    "duration": 279,
    "start_time": "2022-03-09T17:24:44.559Z"
   },
   {
    "duration": 5,
    "start_time": "2022-03-09T17:24:44.840Z"
   },
   {
    "duration": 7,
    "start_time": "2022-03-09T17:24:44.847Z"
   },
   {
    "duration": 317,
    "start_time": "2022-03-09T17:24:44.858Z"
   },
   {
    "duration": 6,
    "start_time": "2022-03-09T17:24:45.178Z"
   },
   {
    "duration": 314,
    "start_time": "2022-03-09T17:24:45.185Z"
   },
   {
    "duration": 4,
    "start_time": "2022-03-09T17:24:45.501Z"
   },
   {
    "duration": 27,
    "start_time": "2022-03-09T17:24:45.506Z"
   },
   {
    "duration": 10,
    "start_time": "2022-03-09T17:24:45.534Z"
   },
   {
    "duration": 9,
    "start_time": "2022-03-09T17:24:45.545Z"
   },
   {
    "duration": 10,
    "start_time": "2022-03-09T17:24:45.556Z"
   },
   {
    "duration": 11,
    "start_time": "2022-03-09T17:24:45.568Z"
   },
   {
    "duration": 11,
    "start_time": "2022-03-09T17:24:45.580Z"
   },
   {
    "duration": 49,
    "start_time": "2022-03-09T17:24:45.592Z"
   },
   {
    "duration": 10,
    "start_time": "2022-03-09T17:24:45.643Z"
   },
   {
    "duration": 10,
    "start_time": "2022-03-09T17:24:45.655Z"
   },
   {
    "duration": 12,
    "start_time": "2022-03-09T17:24:45.667Z"
   },
   {
    "duration": 10,
    "start_time": "2022-03-09T17:24:45.681Z"
   },
   {
    "duration": 49,
    "start_time": "2022-03-09T17:24:45.692Z"
   },
   {
    "duration": 14,
    "start_time": "2022-03-09T17:24:45.742Z"
   },
   {
    "duration": 2,
    "start_time": "2022-03-09T17:24:45.758Z"
   },
   {
    "duration": 9,
    "start_time": "2022-03-09T17:24:45.762Z"
   },
   {
    "duration": 8,
    "start_time": "2022-03-09T17:24:45.773Z"
   },
   {
    "duration": 8,
    "start_time": "2022-03-09T17:24:45.783Z"
   },
   {
    "duration": 40,
    "start_time": "2022-03-09T17:24:45.793Z"
   },
   {
    "duration": 7,
    "start_time": "2022-03-09T17:24:53.227Z"
   },
   {
    "duration": 75,
    "start_time": "2022-03-09T17:24:57.228Z"
   },
   {
    "duration": 6,
    "start_time": "2022-03-09T17:25:00.119Z"
   },
   {
    "duration": 6,
    "start_time": "2022-03-09T17:25:09.000Z"
   },
   {
    "duration": 1407,
    "start_time": "2022-03-18T08:16:37.244Z"
   },
   {
    "duration": 90,
    "start_time": "2022-03-18T08:16:38.654Z"
   },
   {
    "duration": 21,
    "start_time": "2022-03-18T08:16:38.747Z"
   },
   {
    "duration": 10,
    "start_time": "2022-03-18T08:16:38.770Z"
   },
   {
    "duration": 12,
    "start_time": "2022-03-18T08:16:38.782Z"
   },
   {
    "duration": 7,
    "start_time": "2022-03-18T08:16:38.796Z"
   },
   {
    "duration": 47,
    "start_time": "2022-03-18T08:16:38.805Z"
   },
   {
    "duration": 18,
    "start_time": "2022-03-18T08:16:38.855Z"
   },
   {
    "duration": 4,
    "start_time": "2022-03-18T08:16:38.876Z"
   },
   {
    "duration": 20,
    "start_time": "2022-03-18T08:16:38.885Z"
   },
   {
    "duration": 324,
    "start_time": "2022-03-18T08:16:38.942Z"
   },
   {
    "duration": 96,
    "start_time": "2022-03-18T08:16:39.268Z"
   },
   {
    "duration": 9,
    "start_time": "2022-03-18T08:16:39.367Z"
   },
   {
    "duration": 20,
    "start_time": "2022-03-18T08:16:39.378Z"
   },
   {
    "duration": 4,
    "start_time": "2022-03-18T08:16:39.400Z"
   },
   {
    "duration": 67,
    "start_time": "2022-03-18T08:16:39.407Z"
   },
   {
    "duration": 43,
    "start_time": "2022-03-18T08:16:39.477Z"
   },
   {
    "duration": 202,
    "start_time": "2022-03-18T08:16:39.543Z"
   },
   {
    "duration": 183,
    "start_time": "2022-03-18T08:16:39.747Z"
   },
   {
    "duration": 338,
    "start_time": "2022-03-18T08:16:39.932Z"
   },
   {
    "duration": 10,
    "start_time": "2022-03-18T08:16:40.272Z"
   },
   {
    "duration": 247,
    "start_time": "2022-03-18T08:16:40.284Z"
   },
   {
    "duration": 13,
    "start_time": "2022-03-18T08:16:40.533Z"
   },
   {
    "duration": 251,
    "start_time": "2022-03-18T08:16:40.548Z"
   },
   {
    "duration": 6,
    "start_time": "2022-03-18T08:16:40.801Z"
   },
   {
    "duration": 33,
    "start_time": "2022-03-18T08:16:40.810Z"
   },
   {
    "duration": 221,
    "start_time": "2022-03-18T08:16:40.846Z"
   },
   {
    "duration": 7,
    "start_time": "2022-03-18T08:16:41.072Z"
   },
   {
    "duration": 225,
    "start_time": "2022-03-18T08:16:41.082Z"
   },
   {
    "duration": 7,
    "start_time": "2022-03-18T08:16:41.309Z"
   },
   {
    "duration": 37,
    "start_time": "2022-03-18T08:16:41.319Z"
   },
   {
    "duration": 20,
    "start_time": "2022-03-18T08:16:41.359Z"
   },
   {
    "duration": 13,
    "start_time": "2022-03-18T08:16:41.381Z"
   },
   {
    "duration": 15,
    "start_time": "2022-03-18T08:16:41.396Z"
   },
   {
    "duration": 17,
    "start_time": "2022-03-18T08:16:41.442Z"
   },
   {
    "duration": 16,
    "start_time": "2022-03-18T08:16:41.462Z"
   },
   {
    "duration": 19,
    "start_time": "2022-03-18T08:16:41.481Z"
   },
   {
    "duration": 56,
    "start_time": "2022-03-18T08:16:41.503Z"
   },
   {
    "duration": 18,
    "start_time": "2022-03-18T08:16:41.562Z"
   },
   {
    "duration": 25,
    "start_time": "2022-03-18T08:16:41.583Z"
   },
   {
    "duration": 20,
    "start_time": "2022-03-18T08:16:41.643Z"
   },
   {
    "duration": 30,
    "start_time": "2022-03-18T08:16:41.666Z"
   },
   {
    "duration": 20,
    "start_time": "2022-03-18T08:16:41.698Z"
   },
   {
    "duration": 4,
    "start_time": "2022-03-18T08:16:41.744Z"
   },
   {
    "duration": 37,
    "start_time": "2022-03-18T08:16:41.751Z"
   },
   {
    "duration": 18,
    "start_time": "2022-03-18T08:16:41.791Z"
   },
   {
    "duration": 26,
    "start_time": "2022-03-18T08:16:41.811Z"
   },
   {
    "duration": 21,
    "start_time": "2022-03-18T08:16:41.839Z"
   },
   {
    "duration": 56,
    "start_time": "2022-03-18T16:38:24.920Z"
   },
   {
    "duration": 1753,
    "start_time": "2022-03-18T16:38:32.023Z"
   },
   {
    "duration": 176,
    "start_time": "2022-03-18T16:38:33.779Z"
   },
   {
    "duration": 0,
    "start_time": "2022-03-18T16:38:33.961Z"
   },
   {
    "duration": 0,
    "start_time": "2022-03-18T16:38:33.963Z"
   },
   {
    "duration": 0,
    "start_time": "2022-03-18T16:38:33.965Z"
   },
   {
    "duration": 0,
    "start_time": "2022-03-18T16:38:33.967Z"
   },
   {
    "duration": 0,
    "start_time": "2022-03-18T16:38:33.968Z"
   },
   {
    "duration": 0,
    "start_time": "2022-03-18T16:38:33.970Z"
   },
   {
    "duration": 0,
    "start_time": "2022-03-18T16:38:33.971Z"
   },
   {
    "duration": 0,
    "start_time": "2022-03-18T16:38:33.973Z"
   },
   {
    "duration": 0,
    "start_time": "2022-03-18T16:38:34.000Z"
   },
   {
    "duration": 0,
    "start_time": "2022-03-18T16:38:34.003Z"
   },
   {
    "duration": 0,
    "start_time": "2022-03-18T16:38:34.004Z"
   },
   {
    "duration": 0,
    "start_time": "2022-03-18T16:38:34.006Z"
   },
   {
    "duration": 0,
    "start_time": "2022-03-18T16:38:34.007Z"
   },
   {
    "duration": 0,
    "start_time": "2022-03-18T16:38:34.008Z"
   },
   {
    "duration": 0,
    "start_time": "2022-03-18T16:38:34.009Z"
   },
   {
    "duration": 0,
    "start_time": "2022-03-18T16:38:34.010Z"
   },
   {
    "duration": 0,
    "start_time": "2022-03-18T16:38:34.012Z"
   },
   {
    "duration": 0,
    "start_time": "2022-03-18T16:38:34.013Z"
   },
   {
    "duration": 0,
    "start_time": "2022-03-18T16:38:34.014Z"
   },
   {
    "duration": 0,
    "start_time": "2022-03-18T16:38:34.016Z"
   },
   {
    "duration": 0,
    "start_time": "2022-03-18T16:38:34.018Z"
   },
   {
    "duration": 0,
    "start_time": "2022-03-18T16:38:34.020Z"
   },
   {
    "duration": 0,
    "start_time": "2022-03-18T16:38:34.022Z"
   },
   {
    "duration": 0,
    "start_time": "2022-03-18T16:38:34.023Z"
   },
   {
    "duration": 0,
    "start_time": "2022-03-18T16:38:34.024Z"
   },
   {
    "duration": 0,
    "start_time": "2022-03-18T16:38:34.025Z"
   },
   {
    "duration": 0,
    "start_time": "2022-03-18T16:38:34.027Z"
   },
   {
    "duration": 0,
    "start_time": "2022-03-18T16:38:34.028Z"
   },
   {
    "duration": 0,
    "start_time": "2022-03-18T16:38:34.029Z"
   },
   {
    "duration": 0,
    "start_time": "2022-03-18T16:38:34.030Z"
   },
   {
    "duration": 0,
    "start_time": "2022-03-18T16:38:34.032Z"
   },
   {
    "duration": 0,
    "start_time": "2022-03-18T16:38:34.033Z"
   },
   {
    "duration": 0,
    "start_time": "2022-03-18T16:38:34.035Z"
   },
   {
    "duration": 0,
    "start_time": "2022-03-18T16:38:34.036Z"
   },
   {
    "duration": 0,
    "start_time": "2022-03-18T16:38:34.037Z"
   },
   {
    "duration": 0,
    "start_time": "2022-03-18T16:38:34.038Z"
   },
   {
    "duration": 0,
    "start_time": "2022-03-18T16:38:34.103Z"
   },
   {
    "duration": 0,
    "start_time": "2022-03-18T16:38:34.104Z"
   },
   {
    "duration": 0,
    "start_time": "2022-03-18T16:38:34.105Z"
   },
   {
    "duration": 0,
    "start_time": "2022-03-18T16:38:34.107Z"
   },
   {
    "duration": 0,
    "start_time": "2022-03-18T16:38:34.109Z"
   },
   {
    "duration": 0,
    "start_time": "2022-03-18T16:38:34.110Z"
   },
   {
    "duration": 0,
    "start_time": "2022-03-18T16:38:34.112Z"
   },
   {
    "duration": 0,
    "start_time": "2022-03-18T16:38:34.113Z"
   },
   {
    "duration": 0,
    "start_time": "2022-03-18T16:38:34.116Z"
   },
   {
    "duration": 0,
    "start_time": "2022-03-18T16:38:34.117Z"
   },
   {
    "duration": 0,
    "start_time": "2022-03-18T16:38:34.118Z"
   },
   {
    "duration": 0,
    "start_time": "2022-03-18T16:38:34.119Z"
   },
   {
    "duration": 0,
    "start_time": "2022-03-18T16:38:34.120Z"
   },
   {
    "duration": 0,
    "start_time": "2022-03-18T16:38:34.121Z"
   },
   {
    "duration": 0,
    "start_time": "2022-03-18T16:38:34.121Z"
   },
   {
    "duration": 0,
    "start_time": "2022-03-18T16:38:34.122Z"
   },
   {
    "duration": 81,
    "start_time": "2022-03-18T16:38:55.561Z"
   },
   {
    "duration": 1790,
    "start_time": "2022-03-18T16:39:00.781Z"
   },
   {
    "duration": 109,
    "start_time": "2022-03-18T16:39:02.574Z"
   },
   {
    "duration": 33,
    "start_time": "2022-03-18T16:39:02.685Z"
   },
   {
    "duration": 21,
    "start_time": "2022-03-18T16:39:02.721Z"
   },
   {
    "duration": 27,
    "start_time": "2022-03-18T16:39:02.745Z"
   },
   {
    "duration": 30,
    "start_time": "2022-03-18T16:39:02.775Z"
   },
   {
    "duration": 26,
    "start_time": "2022-03-18T16:39:02.808Z"
   },
   {
    "duration": 31,
    "start_time": "2022-03-18T16:39:02.836Z"
   },
   {
    "duration": 17,
    "start_time": "2022-03-18T16:39:02.870Z"
   },
   {
    "duration": 37,
    "start_time": "2022-03-18T16:39:02.889Z"
   },
   {
    "duration": 213,
    "start_time": "2022-03-18T16:39:02.929Z"
   },
   {
    "duration": 63,
    "start_time": "2022-03-18T16:39:03.145Z"
   },
   {
    "duration": 9,
    "start_time": "2022-03-18T16:39:03.210Z"
   },
   {
    "duration": 32,
    "start_time": "2022-03-18T16:39:03.224Z"
   },
   {
    "duration": 57,
    "start_time": "2022-03-18T16:39:03.258Z"
   },
   {
    "duration": 51,
    "start_time": "2022-03-18T16:39:03.317Z"
   },
   {
    "duration": 42,
    "start_time": "2022-03-18T16:39:03.370Z"
   },
   {
    "duration": 155,
    "start_time": "2022-03-18T16:39:03.415Z"
   },
   {
    "duration": 147,
    "start_time": "2022-03-18T16:39:03.572Z"
   },
   {
    "duration": 145,
    "start_time": "2022-03-18T16:39:03.722Z"
   },
   {
    "duration": 154,
    "start_time": "2022-03-18T16:39:03.869Z"
   },
   {
    "duration": 147,
    "start_time": "2022-03-18T16:39:04.025Z"
   },
   {
    "duration": 218,
    "start_time": "2022-03-18T16:39:04.175Z"
   },
   {
    "duration": 145,
    "start_time": "2022-03-18T16:39:04.400Z"
   },
   {
    "duration": 208,
    "start_time": "2022-03-18T16:39:04.547Z"
   },
   {
    "duration": 8,
    "start_time": "2022-03-18T16:39:04.758Z"
   },
   {
    "duration": 274,
    "start_time": "2022-03-18T16:39:04.769Z"
   },
   {
    "duration": 8,
    "start_time": "2022-03-18T16:39:05.046Z"
   },
   {
    "duration": 190,
    "start_time": "2022-03-18T16:39:05.056Z"
   },
   {
    "duration": 6,
    "start_time": "2022-03-18T16:39:05.248Z"
   },
   {
    "duration": 14,
    "start_time": "2022-03-18T16:39:05.256Z"
   },
   {
    "duration": 275,
    "start_time": "2022-03-18T16:39:05.273Z"
   },
   {
    "duration": 6,
    "start_time": "2022-03-18T16:39:05.550Z"
   },
   {
    "duration": 186,
    "start_time": "2022-03-18T16:39:05.558Z"
   },
   {
    "duration": 6,
    "start_time": "2022-03-18T16:39:05.746Z"
   },
   {
    "duration": 24,
    "start_time": "2022-03-18T16:39:05.754Z"
   },
   {
    "duration": 19,
    "start_time": "2022-03-18T16:39:05.800Z"
   },
   {
    "duration": 26,
    "start_time": "2022-03-18T16:39:05.826Z"
   },
   {
    "duration": 18,
    "start_time": "2022-03-18T16:39:05.855Z"
   },
   {
    "duration": 29,
    "start_time": "2022-03-18T16:39:05.875Z"
   },
   {
    "duration": 18,
    "start_time": "2022-03-18T16:39:05.910Z"
   },
   {
    "duration": 20,
    "start_time": "2022-03-18T16:39:05.930Z"
   },
   {
    "duration": 14,
    "start_time": "2022-03-18T16:39:05.953Z"
   },
   {
    "duration": 33,
    "start_time": "2022-03-18T16:39:05.969Z"
   },
   {
    "duration": 20,
    "start_time": "2022-03-18T16:39:06.006Z"
   },
   {
    "duration": 15,
    "start_time": "2022-03-18T16:39:06.028Z"
   },
   {
    "duration": 22,
    "start_time": "2022-03-18T16:39:06.045Z"
   },
   {
    "duration": 40,
    "start_time": "2022-03-18T16:39:06.069Z"
   },
   {
    "duration": 25,
    "start_time": "2022-03-18T16:39:06.112Z"
   },
   {
    "duration": 16,
    "start_time": "2022-03-18T16:39:06.138Z"
   },
   {
    "duration": 19,
    "start_time": "2022-03-18T16:39:06.157Z"
   },
   {
    "duration": 14,
    "start_time": "2022-03-18T16:39:06.178Z"
   },
   {
    "duration": 21,
    "start_time": "2022-03-18T16:39:06.194Z"
   },
   {
    "duration": 12,
    "start_time": "2022-03-18T16:39:06.218Z"
   },
   {
    "duration": 157,
    "start_time": "2022-03-18T16:40:28.874Z"
   },
   {
    "duration": 1315,
    "start_time": "2022-03-19T06:15:23.387Z"
   },
   {
    "duration": 67,
    "start_time": "2022-03-19T06:15:24.704Z"
   },
   {
    "duration": 13,
    "start_time": "2022-03-19T06:15:24.773Z"
   },
   {
    "duration": 5,
    "start_time": "2022-03-19T06:15:24.789Z"
   },
   {
    "duration": 8,
    "start_time": "2022-03-19T06:15:24.796Z"
   },
   {
    "duration": 6,
    "start_time": "2022-03-19T06:15:24.806Z"
   },
   {
    "duration": 9,
    "start_time": "2022-03-19T06:15:24.814Z"
   },
   {
    "duration": 45,
    "start_time": "2022-03-19T06:15:24.824Z"
   },
   {
    "duration": 5,
    "start_time": "2022-03-19T06:15:24.870Z"
   },
   {
    "duration": 16,
    "start_time": "2022-03-19T06:15:24.878Z"
   },
   {
    "duration": 169,
    "start_time": "2022-03-19T06:15:24.896Z"
   },
   {
    "duration": 40,
    "start_time": "2022-03-19T06:15:25.067Z"
   },
   {
    "duration": 5,
    "start_time": "2022-03-19T06:15:25.109Z"
   },
   {
    "duration": 13,
    "start_time": "2022-03-19T06:15:25.116Z"
   },
   {
    "duration": 3,
    "start_time": "2022-03-19T06:15:25.130Z"
   },
   {
    "duration": 41,
    "start_time": "2022-03-19T06:15:25.134Z"
   },
   {
    "duration": 22,
    "start_time": "2022-03-19T06:15:25.176Z"
   },
   {
    "duration": 125,
    "start_time": "2022-03-19T06:15:25.199Z"
   },
   {
    "duration": 115,
    "start_time": "2022-03-19T06:15:25.326Z"
   },
   {
    "duration": 107,
    "start_time": "2022-03-19T06:15:25.442Z"
   },
   {
    "duration": 127,
    "start_time": "2022-03-19T06:15:25.550Z"
   },
   {
    "duration": 113,
    "start_time": "2022-03-19T06:15:25.679Z"
   },
   {
    "duration": 119,
    "start_time": "2022-03-19T06:15:25.794Z"
   },
   {
    "duration": 195,
    "start_time": "2022-03-19T06:15:25.915Z"
   },
   {
    "duration": 153,
    "start_time": "2022-03-19T06:15:26.112Z"
   },
   {
    "duration": 6,
    "start_time": "2022-03-19T06:15:26.267Z"
   },
   {
    "duration": 153,
    "start_time": "2022-03-19T06:15:26.275Z"
   },
   {
    "duration": 5,
    "start_time": "2022-03-19T06:15:26.431Z"
   },
   {
    "duration": 146,
    "start_time": "2022-03-19T06:15:26.438Z"
   },
   {
    "duration": 4,
    "start_time": "2022-03-19T06:15:26.586Z"
   },
   {
    "duration": 11,
    "start_time": "2022-03-19T06:15:26.592Z"
   },
   {
    "duration": 145,
    "start_time": "2022-03-19T06:15:26.604Z"
   },
   {
    "duration": 5,
    "start_time": "2022-03-19T06:15:26.751Z"
   },
   {
    "duration": 141,
    "start_time": "2022-03-19T06:15:26.762Z"
   },
   {
    "duration": 5,
    "start_time": "2022-03-19T06:15:26.904Z"
   },
   {
    "duration": 13,
    "start_time": "2022-03-19T06:15:26.911Z"
   },
   {
    "duration": 13,
    "start_time": "2022-03-19T06:15:26.926Z"
   },
   {
    "duration": 10,
    "start_time": "2022-03-19T06:15:26.964Z"
   },
   {
    "duration": 10,
    "start_time": "2022-03-19T06:15:26.976Z"
   },
   {
    "duration": 10,
    "start_time": "2022-03-19T06:15:26.988Z"
   },
   {
    "duration": 9,
    "start_time": "2022-03-19T06:15:27.000Z"
   },
   {
    "duration": 12,
    "start_time": "2022-03-19T06:15:27.011Z"
   },
   {
    "duration": 40,
    "start_time": "2022-03-19T06:15:27.024Z"
   },
   {
    "duration": 11,
    "start_time": "2022-03-19T06:15:27.066Z"
   },
   {
    "duration": 12,
    "start_time": "2022-03-19T06:15:27.079Z"
   },
   {
    "duration": 10,
    "start_time": "2022-03-19T06:15:27.093Z"
   },
   {
    "duration": 10,
    "start_time": "2022-03-19T06:15:27.104Z"
   },
   {
    "duration": 11,
    "start_time": "2022-03-19T06:15:27.115Z"
   },
   {
    "duration": 42,
    "start_time": "2022-03-19T06:15:27.128Z"
   },
   {
    "duration": 2,
    "start_time": "2022-03-19T06:15:27.172Z"
   },
   {
    "duration": 8,
    "start_time": "2022-03-19T06:15:27.176Z"
   },
   {
    "duration": 7,
    "start_time": "2022-03-19T06:15:27.186Z"
   },
   {
    "duration": 7,
    "start_time": "2022-03-19T06:15:27.194Z"
   },
   {
    "duration": 9,
    "start_time": "2022-03-19T06:15:27.203Z"
   },
   {
    "duration": 500,
    "start_time": "2022-03-19T06:20:09.711Z"
   },
   {
    "duration": 1102,
    "start_time": "2022-03-19T06:21:46.417Z"
   },
   {
    "duration": 1151,
    "start_time": "2022-03-19T06:23:20.860Z"
   },
   {
    "duration": 1072,
    "start_time": "2022-03-19T06:23:32.358Z"
   },
   {
    "duration": 1104,
    "start_time": "2022-03-19T06:24:00.731Z"
   },
   {
    "duration": 1214,
    "start_time": "2022-03-19T06:24:09.303Z"
   },
   {
    "duration": 485,
    "start_time": "2022-03-19T06:25:17.261Z"
   },
   {
    "duration": 460,
    "start_time": "2022-03-19T06:25:34.048Z"
   },
   {
    "duration": 445,
    "start_time": "2022-03-19T06:29:29.775Z"
   },
   {
    "duration": 439,
    "start_time": "2022-03-19T06:29:36.792Z"
   },
   {
    "duration": 54,
    "start_time": "2022-03-19T08:31:14.048Z"
   },
   {
    "duration": 1414,
    "start_time": "2022-03-19T08:31:19.772Z"
   },
   {
    "duration": 74,
    "start_time": "2022-03-19T08:31:21.188Z"
   },
   {
    "duration": 14,
    "start_time": "2022-03-19T08:31:21.264Z"
   },
   {
    "duration": 6,
    "start_time": "2022-03-19T08:31:21.280Z"
   },
   {
    "duration": 12,
    "start_time": "2022-03-19T08:31:21.288Z"
   },
   {
    "duration": 8,
    "start_time": "2022-03-19T08:31:21.302Z"
   },
   {
    "duration": 12,
    "start_time": "2022-03-19T08:31:21.333Z"
   },
   {
    "duration": 12,
    "start_time": "2022-03-19T08:31:21.347Z"
   },
   {
    "duration": 9,
    "start_time": "2022-03-19T08:31:21.362Z"
   },
   {
    "duration": 29,
    "start_time": "2022-03-19T08:31:21.373Z"
   },
   {
    "duration": 204,
    "start_time": "2022-03-19T08:31:21.404Z"
   },
   {
    "duration": 55,
    "start_time": "2022-03-19T08:31:21.609Z"
   },
   {
    "duration": 594,
    "start_time": "2022-03-19T08:31:21.666Z"
   },
   {
    "duration": 7,
    "start_time": "2022-03-19T08:31:22.264Z"
   },
   {
    "duration": 20,
    "start_time": "2022-03-19T08:31:22.273Z"
   },
   {
    "duration": 4,
    "start_time": "2022-03-19T08:31:22.295Z"
   },
   {
    "duration": 49,
    "start_time": "2022-03-19T08:31:22.301Z"
   },
   {
    "duration": 26,
    "start_time": "2022-03-19T08:31:22.352Z"
   },
   {
    "duration": 151,
    "start_time": "2022-03-19T08:31:22.380Z"
   },
   {
    "duration": 144,
    "start_time": "2022-03-19T08:31:22.534Z"
   },
   {
    "duration": 141,
    "start_time": "2022-03-19T08:31:22.680Z"
   },
   {
    "duration": 143,
    "start_time": "2022-03-19T08:31:22.832Z"
   },
   {
    "duration": 133,
    "start_time": "2022-03-19T08:31:22.977Z"
   },
   {
    "duration": 150,
    "start_time": "2022-03-19T08:31:23.113Z"
   },
   {
    "duration": 216,
    "start_time": "2022-03-19T08:31:23.265Z"
   },
   {
    "duration": 127,
    "start_time": "2022-03-19T08:31:23.482Z"
   },
   {
    "duration": 207,
    "start_time": "2022-03-19T08:31:23.611Z"
   },
   {
    "duration": 11,
    "start_time": "2022-03-19T08:31:23.820Z"
   },
   {
    "duration": 168,
    "start_time": "2022-03-19T08:31:23.833Z"
   },
   {
    "duration": 6,
    "start_time": "2022-03-19T08:31:24.002Z"
   },
   {
    "duration": 182,
    "start_time": "2022-03-19T08:31:24.010Z"
   },
   {
    "duration": 6,
    "start_time": "2022-03-19T08:31:24.194Z"
   },
   {
    "duration": 23,
    "start_time": "2022-03-19T08:31:24.201Z"
   },
   {
    "duration": 178,
    "start_time": "2022-03-19T08:31:24.226Z"
   },
   {
    "duration": 6,
    "start_time": "2022-03-19T08:31:24.406Z"
   },
   {
    "duration": 174,
    "start_time": "2022-03-19T08:31:24.414Z"
   },
   {
    "duration": 6,
    "start_time": "2022-03-19T08:31:24.590Z"
   },
   {
    "duration": 37,
    "start_time": "2022-03-19T08:31:24.598Z"
   },
   {
    "duration": 14,
    "start_time": "2022-03-19T08:31:24.637Z"
   },
   {
    "duration": 12,
    "start_time": "2022-03-19T08:31:24.653Z"
   },
   {
    "duration": 13,
    "start_time": "2022-03-19T08:31:24.671Z"
   },
   {
    "duration": 48,
    "start_time": "2022-03-19T08:31:24.685Z"
   },
   {
    "duration": 14,
    "start_time": "2022-03-19T08:31:24.735Z"
   },
   {
    "duration": 31,
    "start_time": "2022-03-19T08:31:24.750Z"
   },
   {
    "duration": 13,
    "start_time": "2022-03-19T08:31:24.783Z"
   },
   {
    "duration": 13,
    "start_time": "2022-03-19T08:31:24.798Z"
   },
   {
    "duration": 30,
    "start_time": "2022-03-19T08:31:24.813Z"
   },
   {
    "duration": 16,
    "start_time": "2022-03-19T08:31:24.844Z"
   },
   {
    "duration": 15,
    "start_time": "2022-03-19T08:31:24.862Z"
   },
   {
    "duration": 23,
    "start_time": "2022-03-19T08:31:24.879Z"
   },
   {
    "duration": 34,
    "start_time": "2022-03-19T08:31:24.903Z"
   },
   {
    "duration": 9,
    "start_time": "2022-03-19T08:31:24.939Z"
   },
   {
    "duration": 16,
    "start_time": "2022-03-19T08:31:24.950Z"
   },
   {
    "duration": 10,
    "start_time": "2022-03-19T08:31:24.968Z"
   },
   {
    "duration": 15,
    "start_time": "2022-03-19T08:31:24.980Z"
   },
   {
    "duration": 12,
    "start_time": "2022-03-19T08:31:24.997Z"
   },
   {
    "duration": 13,
    "start_time": "2022-03-19T08:32:03.732Z"
   },
   {
    "duration": 13,
    "start_time": "2022-03-19T08:34:57.609Z"
   },
   {
    "duration": 189,
    "start_time": "2022-03-19T08:35:50.370Z"
   },
   {
    "duration": 12,
    "start_time": "2022-03-19T08:36:16.181Z"
   },
   {
    "duration": 24,
    "start_time": "2022-03-19T08:36:23.271Z"
   },
   {
    "duration": 1756,
    "start_time": "2022-03-19T08:36:40.793Z"
   },
   {
    "duration": 24,
    "start_time": "2022-03-19T08:37:01.816Z"
   },
   {
    "duration": 21,
    "start_time": "2022-03-19T08:37:32.973Z"
   },
   {
    "duration": 1200,
    "start_time": "2022-03-19T08:40:44.326Z"
   },
   {
    "duration": 80,
    "start_time": "2022-03-19T08:40:45.528Z"
   },
   {
    "duration": 14,
    "start_time": "2022-03-19T08:40:45.610Z"
   },
   {
    "duration": 10,
    "start_time": "2022-03-19T08:40:45.626Z"
   },
   {
    "duration": 14,
    "start_time": "2022-03-19T08:40:45.638Z"
   },
   {
    "duration": 8,
    "start_time": "2022-03-19T08:40:45.654Z"
   },
   {
    "duration": 15,
    "start_time": "2022-03-19T08:40:45.664Z"
   },
   {
    "duration": 14,
    "start_time": "2022-03-19T08:40:45.681Z"
   },
   {
    "duration": 4,
    "start_time": "2022-03-19T08:40:45.697Z"
   },
   {
    "duration": 30,
    "start_time": "2022-03-19T08:40:45.702Z"
   },
   {
    "duration": 183,
    "start_time": "2022-03-19T08:40:45.734Z"
   },
   {
    "duration": 50,
    "start_time": "2022-03-19T08:40:45.919Z"
   },
   {
    "duration": 520,
    "start_time": "2022-03-19T08:40:45.971Z"
   },
   {
    "duration": 6,
    "start_time": "2022-03-19T08:40:46.495Z"
   },
   {
    "duration": 20,
    "start_time": "2022-03-19T08:40:46.503Z"
   },
   {
    "duration": 10,
    "start_time": "2022-03-19T08:40:46.525Z"
   },
   {
    "duration": 25,
    "start_time": "2022-03-19T08:40:46.537Z"
   },
   {
    "duration": 24,
    "start_time": "2022-03-19T08:40:46.564Z"
   },
   {
    "duration": 154,
    "start_time": "2022-03-19T08:40:46.590Z"
   },
   {
    "duration": 141,
    "start_time": "2022-03-19T08:40:46.746Z"
   },
   {
    "duration": 127,
    "start_time": "2022-03-19T08:40:46.889Z"
   },
   {
    "duration": 139,
    "start_time": "2022-03-19T08:40:47.017Z"
   },
   {
    "duration": 121,
    "start_time": "2022-03-19T08:40:47.158Z"
   },
   {
    "duration": 140,
    "start_time": "2022-03-19T08:40:47.281Z"
   },
   {
    "duration": 206,
    "start_time": "2022-03-19T08:40:47.431Z"
   },
   {
    "duration": 16,
    "start_time": "2022-03-19T08:40:47.639Z"
   },
   {
    "duration": 184,
    "start_time": "2022-03-19T08:40:47.657Z"
   },
   {
    "duration": 7,
    "start_time": "2022-03-19T08:40:47.842Z"
   },
   {
    "duration": 164,
    "start_time": "2022-03-19T08:40:47.850Z"
   },
   {
    "duration": 5,
    "start_time": "2022-03-19T08:40:48.015Z"
   },
   {
    "duration": 171,
    "start_time": "2022-03-19T08:40:48.022Z"
   },
   {
    "duration": 5,
    "start_time": "2022-03-19T08:40:48.195Z"
   },
   {
    "duration": 14,
    "start_time": "2022-03-19T08:40:48.202Z"
   },
   {
    "duration": 165,
    "start_time": "2022-03-19T08:40:48.218Z"
   },
   {
    "duration": 6,
    "start_time": "2022-03-19T08:40:48.385Z"
   },
   {
    "duration": 181,
    "start_time": "2022-03-19T08:40:48.393Z"
   },
   {
    "duration": 6,
    "start_time": "2022-03-19T08:40:48.576Z"
   },
   {
    "duration": 16,
    "start_time": "2022-03-19T08:40:48.584Z"
   },
   {
    "duration": 34,
    "start_time": "2022-03-19T08:40:48.601Z"
   },
   {
    "duration": 13,
    "start_time": "2022-03-19T08:40:48.637Z"
   },
   {
    "duration": 15,
    "start_time": "2022-03-19T08:40:48.654Z"
   },
   {
    "duration": 12,
    "start_time": "2022-03-19T08:40:48.671Z"
   },
   {
    "duration": 18,
    "start_time": "2022-03-19T08:40:48.685Z"
   },
   {
    "duration": 28,
    "start_time": "2022-03-19T08:40:48.704Z"
   },
   {
    "duration": 13,
    "start_time": "2022-03-19T08:40:48.735Z"
   },
   {
    "duration": 12,
    "start_time": "2022-03-19T08:40:48.750Z"
   },
   {
    "duration": 10,
    "start_time": "2022-03-19T08:40:48.764Z"
   },
   {
    "duration": 10,
    "start_time": "2022-03-19T08:40:48.775Z"
   },
   {
    "duration": 15,
    "start_time": "2022-03-19T08:40:48.786Z"
   },
   {
    "duration": 12,
    "start_time": "2022-03-19T08:40:48.831Z"
   },
   {
    "duration": 19,
    "start_time": "2022-03-19T08:40:48.844Z"
   },
   {
    "duration": 4,
    "start_time": "2022-03-19T08:40:48.865Z"
   },
   {
    "duration": 12,
    "start_time": "2022-03-19T08:40:48.871Z"
   },
   {
    "duration": 10,
    "start_time": "2022-03-19T08:40:48.885Z"
   },
   {
    "duration": 15,
    "start_time": "2022-03-19T08:40:48.897Z"
   },
   {
    "duration": 21,
    "start_time": "2022-03-19T08:40:48.913Z"
   },
   {
    "duration": 17,
    "start_time": "2022-03-19T08:47:04.516Z"
   },
   {
    "duration": 136,
    "start_time": "2022-03-19T08:47:22.934Z"
   },
   {
    "duration": 209,
    "start_time": "2022-03-19T08:48:40.840Z"
   },
   {
    "duration": 17,
    "start_time": "2022-03-19T08:49:23.478Z"
   },
   {
    "duration": 16,
    "start_time": "2022-03-19T08:49:54.357Z"
   },
   {
    "duration": 16,
    "start_time": "2022-03-19T08:50:07.635Z"
   },
   {
    "duration": 16,
    "start_time": "2022-03-19T08:50:13.006Z"
   },
   {
    "duration": 14,
    "start_time": "2022-03-19T08:50:29.019Z"
   },
   {
    "duration": 14,
    "start_time": "2022-03-19T08:50:49.245Z"
   },
   {
    "duration": 14,
    "start_time": "2022-03-19T08:51:02.469Z"
   },
   {
    "duration": 15,
    "start_time": "2022-03-19T08:51:37.554Z"
   },
   {
    "duration": 6,
    "start_time": "2022-03-19T08:51:52.758Z"
   },
   {
    "duration": 5,
    "start_time": "2022-03-19T08:52:40.776Z"
   },
   {
    "duration": 8,
    "start_time": "2022-03-19T08:52:48.524Z"
   },
   {
    "duration": 185,
    "start_time": "2022-03-19T08:53:39.444Z"
   },
   {
    "duration": 12,
    "start_time": "2022-03-19T08:54:01.712Z"
   },
   {
    "duration": 172,
    "start_time": "2022-03-19T08:54:08.970Z"
   },
   {
    "duration": 207,
    "start_time": "2022-03-19T08:54:52.294Z"
   },
   {
    "duration": 12,
    "start_time": "2022-03-19T08:56:41.007Z"
   },
   {
    "duration": 315,
    "start_time": "2022-03-19T08:56:45.026Z"
   },
   {
    "duration": 204,
    "start_time": "2022-03-19T08:56:52.427Z"
   },
   {
    "duration": 190,
    "start_time": "2022-03-19T08:57:20.589Z"
   },
   {
    "duration": 190,
    "start_time": "2022-03-19T08:58:34.584Z"
   },
   {
    "duration": 185,
    "start_time": "2022-03-19T08:58:40.107Z"
   },
   {
    "duration": 197,
    "start_time": "2022-03-19T08:58:45.478Z"
   },
   {
    "duration": 229,
    "start_time": "2022-03-19T08:59:46.401Z"
   },
   {
    "duration": 200,
    "start_time": "2022-03-19T09:04:17.182Z"
   },
   {
    "duration": 241,
    "start_time": "2022-03-19T09:06:05.406Z"
   },
   {
    "duration": 213,
    "start_time": "2022-03-19T09:06:16.920Z"
   },
   {
    "duration": 226,
    "start_time": "2022-05-13T20:21:45.554Z"
   }
  ],
  "colab": {
   "collapsed_sections": [],
   "name": "notebook (2).ipynb",
   "provenance": []
  },
  "kernelspec": {
   "display_name": "Python 3 (ipykernel)",
   "language": "python",
   "name": "python3"
  },
  "language_info": {
   "codemirror_mode": {
    "name": "ipython",
    "version": 3
   },
   "file_extension": ".py",
   "mimetype": "text/x-python",
   "name": "python",
   "nbconvert_exporter": "python",
   "pygments_lexer": "ipython3",
   "version": "3.9.5"
  },
  "toc": {
   "base_numbering": 1,
   "nav_menu": {},
   "number_sections": true,
   "sideBar": true,
   "skip_h1_title": true,
   "title_cell": "Table of Contents",
   "title_sidebar": "Contents",
   "toc_cell": false,
   "toc_position": {},
   "toc_section_display": true,
   "toc_window_display": true
  }
 },
 "nbformat": 4,
 "nbformat_minor": 1
}
