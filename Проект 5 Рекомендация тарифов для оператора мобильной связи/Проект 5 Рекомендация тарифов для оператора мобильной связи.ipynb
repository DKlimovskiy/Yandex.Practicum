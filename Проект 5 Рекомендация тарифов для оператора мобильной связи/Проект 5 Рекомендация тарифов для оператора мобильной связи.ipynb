{
 "cells": [
  {
   "cell_type": "markdown",
   "metadata": {
    "toc": true
   },
   "source": [
    "<h1>Содержание<span class=\"tocSkip\"></span></h1>\n",
    "<div class=\"toc\"><ul class=\"toc-item\"><li><span><a href=\"#Импорт-нужных-библиотек-и-изучение-данных\" data-toc-modified-id=\"Импорт-нужных-библиотек-и-изучение-данных-1\"><span class=\"toc-item-num\">1&nbsp;&nbsp;</span>Импорт нужных библиотек и изучение данных</a></span></li><li><span><a href=\"#Разделение-датасата-на-выборки\" data-toc-modified-id=\"Разделение-датасата-на-выборки-2\"><span class=\"toc-item-num\">2&nbsp;&nbsp;</span>Разделение датасата на выборки</a></span></li><li><span><a href=\"#Обучение-модели\" data-toc-modified-id=\"Обучение-модели-3\"><span class=\"toc-item-num\">3&nbsp;&nbsp;</span>Обучение модели</a></span><ul class=\"toc-item\"><li><span><a href=\"#DecisionTreeClassifier\" data-toc-modified-id=\"DecisionTreeClassifier-3.1\"><span class=\"toc-item-num\">3.1&nbsp;&nbsp;</span>DecisionTreeClassifier</a></span></li><li><span><a href=\"#LogisticRegression\" data-toc-modified-id=\"LogisticRegression-3.2\"><span class=\"toc-item-num\">3.2&nbsp;&nbsp;</span>LogisticRegression</a></span></li><li><span><a href=\"#RandomForestClassifier\" data-toc-modified-id=\"RandomForestClassifier-3.3\"><span class=\"toc-item-num\">3.3&nbsp;&nbsp;</span>RandomForestClassifier</a></span></li></ul></li><li><span><a href=\"#Проверка-моделей-на-тестовой-выборке\" data-toc-modified-id=\"Проверка-моделей-на-тестовой-выборке-4\"><span class=\"toc-item-num\">4&nbsp;&nbsp;</span>Проверка моделей на тестовой выборке</a></span><ul class=\"toc-item\"><li><span><a href=\"#DecisionTree\" data-toc-modified-id=\"DecisionTree-4.1\"><span class=\"toc-item-num\">4.1&nbsp;&nbsp;</span>DecisionTree</a></span></li><li><span><a href=\"#RandomForest\" data-toc-modified-id=\"RandomForest-4.2\"><span class=\"toc-item-num\">4.2&nbsp;&nbsp;</span>RandomForest</a></span></li></ul></li><li><span><a href=\"#Проверка-модели-на-адекватность\" data-toc-modified-id=\"Проверка-модели-на-адекватность-5\"><span class=\"toc-item-num\">5&nbsp;&nbsp;</span>Проверка модели на адекватность</a></span></li></ul></div>"
   ]
  },
  {
   "cell_type": "markdown",
   "metadata": {},
   "source": [
    "# Рекомендация тарифов"
   ]
  },
  {
   "cell_type": "markdown",
   "metadata": {},
   "source": [
    "В нашем распоряжении данные о поведении клиентов, которые уже перешли на эти тарифы (из проекта курса «Статистический анализ данных»). Нужно построить модель для задачи классификации, которая выберет подходящий тариф. Предобработка данных не понадобится — мы её уже сделали.\n",
    "\n",
    "Постройте модель с максимально большим значением *accuracy*. Чтобы сдать проект успешно, нужно довести долю правильных ответов по крайней мере до 0.75. Проверьте *accuracy* на тестовой выборке самостоятельно."
   ]
  },
  {
   "cell_type": "markdown",
   "metadata": {},
   "source": [
    "# Описание данных"
   ]
  },
  {
   "cell_type": "markdown",
   "metadata": {},
   "source": [
    "* сalls — количество звонков,\n",
    "* minutes — суммарная длительность звонков в минутах,\n",
    "* messages — количество sms-сообщений,\n",
    "* mb_used — израсходованный интернет-трафик в Мб,\n",
    "* is_ultra — каким тарифом пользовался в течение месяца («Ультра» — 1, «Смарт» — 0)."
   ]
  },
  {
   "cell_type": "markdown",
   "metadata": {
    "id": "IYXPHQFoPUNF"
   },
   "source": [
    "## Импорт нужных библиотек и изучение данных"
   ]
  },
  {
   "cell_type": "code",
   "execution_count": 1,
   "metadata": {
    "id": "bpoULuLs-yn8"
   },
   "outputs": [],
   "source": [
    "import pandas as pd\n",
    "from sklearn.model_selection import train_test_split\n",
    "from sklearn.ensemble import RandomForestClassifier\n",
    "from sklearn.linear_model import LogisticRegression\n",
    "from sklearn.tree import DecisionTreeClassifier\n",
    "from sklearn.metrics import accuracy_score\n",
    "from sklearn.dummy import DummyClassifier"
   ]
  },
  {
   "cell_type": "code",
   "execution_count": 2,
   "metadata": {
    "colab": {
     "base_uri": "https://localhost:8080/",
     "height": 362
    },
    "id": "q6p-r2NH-7iS",
    "outputId": "318ab7c4-8519-4828-be49-2eeafc89c5a5"
   },
   "outputs": [
    {
     "data": {
      "text/html": [
       "<div>\n",
       "<style scoped>\n",
       "    .dataframe tbody tr th:only-of-type {\n",
       "        vertical-align: middle;\n",
       "    }\n",
       "\n",
       "    .dataframe tbody tr th {\n",
       "        vertical-align: top;\n",
       "    }\n",
       "\n",
       "    .dataframe thead th {\n",
       "        text-align: right;\n",
       "    }\n",
       "</style>\n",
       "<table border=\"1\" class=\"dataframe\">\n",
       "  <thead>\n",
       "    <tr style=\"text-align: right;\">\n",
       "      <th></th>\n",
       "      <th>calls</th>\n",
       "      <th>minutes</th>\n",
       "      <th>messages</th>\n",
       "      <th>mb_used</th>\n",
       "      <th>is_ultra</th>\n",
       "    </tr>\n",
       "  </thead>\n",
       "  <tbody>\n",
       "    <tr>\n",
       "      <th>0</th>\n",
       "      <td>40.0</td>\n",
       "      <td>311.90</td>\n",
       "      <td>83.0</td>\n",
       "      <td>19915.42</td>\n",
       "      <td>0</td>\n",
       "    </tr>\n",
       "    <tr>\n",
       "      <th>1</th>\n",
       "      <td>85.0</td>\n",
       "      <td>516.75</td>\n",
       "      <td>56.0</td>\n",
       "      <td>22696.96</td>\n",
       "      <td>0</td>\n",
       "    </tr>\n",
       "    <tr>\n",
       "      <th>2</th>\n",
       "      <td>77.0</td>\n",
       "      <td>467.66</td>\n",
       "      <td>86.0</td>\n",
       "      <td>21060.45</td>\n",
       "      <td>0</td>\n",
       "    </tr>\n",
       "    <tr>\n",
       "      <th>3</th>\n",
       "      <td>106.0</td>\n",
       "      <td>745.53</td>\n",
       "      <td>81.0</td>\n",
       "      <td>8437.39</td>\n",
       "      <td>1</td>\n",
       "    </tr>\n",
       "    <tr>\n",
       "      <th>4</th>\n",
       "      <td>66.0</td>\n",
       "      <td>418.74</td>\n",
       "      <td>1.0</td>\n",
       "      <td>14502.75</td>\n",
       "      <td>0</td>\n",
       "    </tr>\n",
       "    <tr>\n",
       "      <th>5</th>\n",
       "      <td>58.0</td>\n",
       "      <td>344.56</td>\n",
       "      <td>21.0</td>\n",
       "      <td>15823.37</td>\n",
       "      <td>0</td>\n",
       "    </tr>\n",
       "    <tr>\n",
       "      <th>6</th>\n",
       "      <td>57.0</td>\n",
       "      <td>431.64</td>\n",
       "      <td>20.0</td>\n",
       "      <td>3738.90</td>\n",
       "      <td>1</td>\n",
       "    </tr>\n",
       "    <tr>\n",
       "      <th>7</th>\n",
       "      <td>15.0</td>\n",
       "      <td>132.40</td>\n",
       "      <td>6.0</td>\n",
       "      <td>21911.60</td>\n",
       "      <td>0</td>\n",
       "    </tr>\n",
       "    <tr>\n",
       "      <th>8</th>\n",
       "      <td>7.0</td>\n",
       "      <td>43.39</td>\n",
       "      <td>3.0</td>\n",
       "      <td>2538.67</td>\n",
       "      <td>1</td>\n",
       "    </tr>\n",
       "    <tr>\n",
       "      <th>9</th>\n",
       "      <td>90.0</td>\n",
       "      <td>665.41</td>\n",
       "      <td>38.0</td>\n",
       "      <td>17358.61</td>\n",
       "      <td>0</td>\n",
       "    </tr>\n",
       "  </tbody>\n",
       "</table>\n",
       "</div>"
      ],
      "text/plain": [
       "   calls  minutes  messages   mb_used  is_ultra\n",
       "0   40.0   311.90      83.0  19915.42         0\n",
       "1   85.0   516.75      56.0  22696.96         0\n",
       "2   77.0   467.66      86.0  21060.45         0\n",
       "3  106.0   745.53      81.0   8437.39         1\n",
       "4   66.0   418.74       1.0  14502.75         0\n",
       "5   58.0   344.56      21.0  15823.37         0\n",
       "6   57.0   431.64      20.0   3738.90         1\n",
       "7   15.0   132.40       6.0  21911.60         0\n",
       "8    7.0    43.39       3.0   2538.67         1\n",
       "9   90.0   665.41      38.0  17358.61         0"
      ]
     },
     "execution_count": 2,
     "metadata": {},
     "output_type": "execute_result"
    }
   ],
   "source": [
    "df = pd.read_csv('/datasets/users_behavior.csv')\n",
    "df.head(10)"
   ]
  },
  {
   "cell_type": "code",
   "execution_count": 3,
   "metadata": {
    "colab": {
     "base_uri": "https://localhost:8080/"
    },
    "id": "kYSFTfFO_ABt",
    "outputId": "0c4301cd-6ccd-4112-a9e0-835c6da0384a"
   },
   "outputs": [
    {
     "name": "stdout",
     "output_type": "stream",
     "text": [
      "<class 'pandas.core.frame.DataFrame'>\n",
      "RangeIndex: 3214 entries, 0 to 3213\n",
      "Data columns (total 5 columns):\n",
      " #   Column    Non-Null Count  Dtype  \n",
      "---  ------    --------------  -----  \n",
      " 0   calls     3214 non-null   float64\n",
      " 1   minutes   3214 non-null   float64\n",
      " 2   messages  3214 non-null   float64\n",
      " 3   mb_used   3214 non-null   float64\n",
      " 4   is_ultra  3214 non-null   int64  \n",
      "dtypes: float64(4), int64(1)\n",
      "memory usage: 125.7 KB\n"
     ]
    }
   ],
   "source": [
    "df.info()"
   ]
  },
  {
   "cell_type": "markdown",
   "metadata": {
    "id": "mv8trGJ9O_fb"
   },
   "source": [
    "**Вывод:** Датасет состоит из 3214 строк и 5 столбцов. Предобработка не требуется, пропусков нет, все данные в нужном формате."
   ]
  },
  {
   "cell_type": "markdown",
   "metadata": {
    "id": "WYXT1ljlPSrI"
   },
   "source": [
    "## Разделение датасата на выборки\n",
    "\n",
    "Для обучения, тестирования и проверки модели разделим данные на 3 выборки: тренировочную, тестовую и валидационную.\n",
    "\n",
    "Для тренировочной выборки выделим 60% данных, для тестовой и валидационной по 20%"
   ]
  },
  {
   "cell_type": "code",
   "execution_count": 4,
   "metadata": {
    "id": "nEPtxCEsPowu"
   },
   "outputs": [],
   "source": [
    "df_train, df_rest = train_test_split(df, test_size=0.4, random_state=1000)"
   ]
  },
  {
   "cell_type": "code",
   "execution_count": 5,
   "metadata": {
    "id": "kbX_zhqKQou4"
   },
   "outputs": [],
   "source": [
    "df_test, df_valid = train_test_split(df_rest, test_size=0.5, random_state=1000)"
   ]
  },
  {
   "cell_type": "code",
   "execution_count": 6,
   "metadata": {
    "colab": {
     "base_uri": "https://localhost:8080/"
    },
    "id": "Y9Da_EzcQ6P1",
    "outputId": "acdba0e2-1bc5-4d29-9388-996af29c67a0"
   },
   "outputs": [
    {
     "data": {
      "text/plain": [
       "(1928, 5)"
      ]
     },
     "execution_count": 6,
     "metadata": {},
     "output_type": "execute_result"
    }
   ],
   "source": [
    "df_train.shape"
   ]
  },
  {
   "cell_type": "code",
   "execution_count": 7,
   "metadata": {
    "colab": {
     "base_uri": "https://localhost:8080/"
    },
    "id": "zybcF6N4Q_mc",
    "outputId": "d535ce10-d1f8-42c1-fe29-af924cc2b5e8"
   },
   "outputs": [
    {
     "data": {
      "text/plain": [
       "(643, 5)"
      ]
     },
     "execution_count": 7,
     "metadata": {},
     "output_type": "execute_result"
    }
   ],
   "source": [
    "df_test.shape"
   ]
  },
  {
   "cell_type": "code",
   "execution_count": 8,
   "metadata": {
    "colab": {
     "base_uri": "https://localhost:8080/"
    },
    "id": "nz2a7LrIRECt",
    "outputId": "4c2d7910-64ae-41b9-c8ca-0545143fad66"
   },
   "outputs": [
    {
     "data": {
      "text/plain": [
       "(643, 5)"
      ]
     },
     "execution_count": 8,
     "metadata": {},
     "output_type": "execute_result"
    }
   ],
   "source": [
    "df_valid.shape"
   ]
  },
  {
   "cell_type": "markdown",
   "metadata": {
    "id": "9lEqkpEzS4H0"
   },
   "source": [
    "**Вывод:** Разделили датасет на 3 выборки в соотношении 60/20/20:\n",
    "* df_train - тренировочная выборка\n",
    "* df_test - тестовая выборка\n",
    "* df_valid - валидационная выборка"
   ]
  },
  {
   "cell_type": "markdown",
   "metadata": {
    "id": "4h69texxZZKC"
   },
   "source": [
    "## Обучение модели"
   ]
  },
  {
   "cell_type": "code",
   "execution_count": 9,
   "metadata": {
    "id": "tkKBLo-VTu1P"
   },
   "outputs": [],
   "source": [
    "features_train = df_train.drop('is_ultra', axis = 1)\n",
    "target_train = df_train['is_ultra']"
   ]
  },
  {
   "cell_type": "code",
   "execution_count": 10,
   "metadata": {
    "id": "Q4__Qdw_iLBe"
   },
   "outputs": [],
   "source": [
    "features_valid = df_valid.drop('is_ultra', axis = 1)\n",
    "target_valid = df_valid['is_ultra']"
   ]
  },
  {
   "cell_type": "markdown",
   "metadata": {
    "id": "ewR-rFqa4o6V"
   },
   "source": [
    "### DecisionTreeClassifier"
   ]
  },
  {
   "cell_type": "code",
   "execution_count": 11,
   "metadata": {
    "colab": {
     "base_uri": "https://localhost:8080/"
    },
    "id": "IWAkUc_-ihtB",
    "outputId": "5b413b8f-5c3e-47e8-9f2b-98ad3f1513de"
   },
   "outputs": [
    {
     "name": "stdout",
     "output_type": "stream",
     "text": [
      "Accuracy при max_depth = 3\n",
      "Обучающая выборка: 0.7904564315352697\n",
      "Валидационная выборка: 0.8164852255054432\n",
      "\n",
      "Accuracy при max_depth = 4\n",
      "Обучающая выборка: 0.8049792531120332\n",
      "Валидационная выборка: 0.8164852255054432\n",
      "\n",
      "Accuracy при max_depth = 5\n",
      "Обучающая выборка: 0.8091286307053942\n",
      "Валидационная выборка: 0.8164852255054432\n",
      "\n",
      "Accuracy при max_depth = 6\n",
      "Обучающая выборка: 0.8200207468879668\n",
      "Валидационная выборка: 0.8009331259720062\n",
      "\n"
     ]
    }
   ],
   "source": [
    "for depth in range(3, 7):\n",
    "    decision_model = DecisionTreeClassifier(random_state=1000, max_depth=depth)\n",
    "    decision_model.fit(features_train, target_train)\n",
    "    predictions_train = decision_model.predict(features_train)\n",
    "    predictions_valid = decision_model.predict(features_valid)\n",
    "    print('Accuracy при max_depth =', depth)\n",
    "    print('Обучающая выборка:', accuracy_score(target_train, predictions_train))\n",
    "    print('Валидационная выборка:', accuracy_score(target_valid, predictions_valid))\n",
    "    print()"
   ]
  },
  {
   "cell_type": "markdown",
   "metadata": {
    "id": "Eypxv-7C8vq8"
   },
   "source": [
    "### LogisticRegression"
   ]
  },
  {
   "cell_type": "code",
   "execution_count": 12,
   "metadata": {
    "colab": {
     "base_uri": "https://localhost:8080/"
    },
    "id": "HIe-xfd18wyt",
    "outputId": "9f24c05d-5c36-43c1-c38d-fc0a0e0fa3b4"
   },
   "outputs": [
    {
     "name": "stdout",
     "output_type": "stream",
     "text": [
      "Обучабщая выборка: 0.7059128630705395\n",
      "Валидационная выборка: 0.7045101088646968\n"
     ]
    }
   ],
   "source": [
    "logistic_model = LogisticRegression(random_state=1000)\n",
    "logistic_model.fit(features_train, target_train)\n",
    "predictions_train = logistic_model.predict(features_train)\n",
    "predictions_valid = logistic_model.predict(features_valid)\n",
    "print('Обучабщая выборка:', accuracy_score(target_train, predictions_train))\n",
    "print('Валидационная выборка:', accuracy_score(target_valid, predictions_valid))\n"
   ]
  },
  {
   "cell_type": "markdown",
   "metadata": {
    "id": "jAluNChQ-IqA"
   },
   "source": [
    "### RandomForestClassifier"
   ]
  },
  {
   "cell_type": "code",
   "execution_count": 18,
   "metadata": {
    "colab": {
     "base_uri": "https://localhost:8080/"
    },
    "id": "tUeihzoB89EN",
    "outputId": "049c5b96-b784-4983-a4ca-b5ec4a789ba6"
   },
   "outputs": [
    {
     "name": "stdout",
     "output_type": "stream",
     "text": [
      "Accuracy при n_estimators =  100\n",
      "Обучающая выборка: 1.0\n",
      "Валидационная выборка: 0.8009331259720062\n",
      "\n",
      "Accuracy при n_estimators =  101\n",
      "Обучающая выборка: 1.0\n",
      "Валидационная выборка: 0.80248833592535\n",
      "\n",
      "Accuracy при n_estimators =  102\n",
      "Обучающая выборка: 1.0\n",
      "Валидационная выборка: 0.80248833592535\n",
      "\n",
      "Accuracy при n_estimators =  103\n",
      "Обучающая выборка: 1.0\n",
      "Валидационная выборка: 0.8009331259720062\n",
      "\n",
      "Accuracy при n_estimators =  104\n",
      "Обучающая выборка: 1.0\n",
      "Валидационная выборка: 0.8009331259720062\n",
      "\n",
      "Accuracy при n_estimators =  105\n",
      "Обучающая выборка: 1.0\n",
      "Валидационная выборка: 0.8009331259720062\n",
      "\n",
      "Accuracy при n_estimators =  106\n",
      "Обучающая выборка: 1.0\n",
      "Валидационная выборка: 0.8009331259720062\n",
      "\n",
      "Accuracy при n_estimators =  107\n",
      "Обучающая выборка: 1.0\n",
      "Валидационная выборка: 0.80248833592535\n",
      "\n",
      "Accuracy при n_estimators =  108\n",
      "Обучающая выборка: 1.0\n",
      "Валидационная выборка: 0.7993779160186625\n",
      "\n",
      "Accuracy при n_estimators =  109\n",
      "Обучающая выборка: 1.0\n",
      "Валидационная выборка: 0.80248833592535\n",
      "\n"
     ]
    }
   ],
   "source": [
    "for estim in range(100, 110):\n",
    "  forest_model = RandomForestClassifier(random_state=1000, n_estimators=estim)\n",
    "  forest_model.fit(features_train, target_train)\n",
    "  predictions_train = forest_model.predict(features_train)\n",
    "  predictions_valid = forest_model.predict(features_valid)\n",
    "  print('Accuracy при n_estimators = ', estim)\n",
    "  print('Обучающая выборка:', accuracy_score(target_train, predictions_train))\n",
    "  print('Валидационная выборка:', accuracy_score(target_valid, predictions_valid))\n",
    "  print()"
   ]
  },
  {
   "cell_type": "markdown",
   "metadata": {
    "id": "weAUHQ3LSNXP"
   },
   "source": [
    "**Выводы:**\n",
    "* Лучше всего отработали деревья решений\n",
    "* При увеличении значения max_depth у модели дерева решений падает точность(будем использовать значение max_depth = 4)\n",
    "* Модель RandomForestClassifier так же удволетворяет требованиям, будем испольвать ее со значением e_estimators = 100. "
   ]
  },
  {
   "cell_type": "markdown",
   "metadata": {
    "id": "PuqNnYsjdpql"
   },
   "source": [
    "## Проверка моделей на тестовой выборке"
   ]
  },
  {
   "cell_type": "code",
   "execution_count": 14,
   "metadata": {
    "id": "33FpxRJqf2nU"
   },
   "outputs": [],
   "source": [
    "features_test = df_test.drop('is_ultra', axis=1)\n",
    "target_test = df_test['is_ultra']"
   ]
  },
  {
   "cell_type": "markdown",
   "metadata": {
    "id": "FdYyyzgP-wx-"
   },
   "source": [
    "### DecisionTree"
   ]
  },
  {
   "cell_type": "code",
   "execution_count": 15,
   "metadata": {
    "colab": {
     "base_uri": "https://localhost:8080/"
    },
    "id": "fwT3_cWFdt4W",
    "outputId": "8f99f3f2-c593-4873-b7af-df6c1f9e00bc"
   },
   "outputs": [
    {
     "name": "stdout",
     "output_type": "stream",
     "text": [
      "Accuracy в тестовой выборке = 0.7993779160186625\n"
     ]
    }
   ],
   "source": [
    "decision_model = DecisionTreeClassifier(random_state=1000, max_depth=4)\n",
    "decision_model.fit(features_train, target_train)\n",
    "predictions_test = decision_model.predict(features_test)\n",
    "print('Accuracy в тестовой выборке =', accuracy_score(target_test, predictions_test))"
   ]
  },
  {
   "cell_type": "markdown",
   "metadata": {
    "id": "7QT67RZb-2Yv"
   },
   "source": [
    "### RandomForest"
   ]
  },
  {
   "cell_type": "code",
   "execution_count": 19,
   "metadata": {
    "colab": {
     "base_uri": "https://localhost:8080/"
    },
    "id": "AqpqUyABfCZJ",
    "outputId": "ae8afb23-9ee7-4395-cec8-2ae6978804c5"
   },
   "outputs": [
    {
     "name": "stdout",
     "output_type": "stream",
     "text": [
      "Accuracy в тестовой выборке = 0.8118195956454122\n"
     ]
    }
   ],
   "source": [
    "forest_model = RandomForestClassifier(random_state=1000, n_estimators=100)\n",
    "forest_model.fit(features_train, target_train)\n",
    "predictions_test = forest_model.predict(features_test)\n",
    "print('Accuracy в тестовой выборке =', accuracy_score(target_test, predictions_test))"
   ]
  },
  {
   "cell_type": "markdown",
   "metadata": {
    "id": "1ZZUycr--6Xl"
   },
   "source": [
    "**Вывод:**\n",
    "* Точность моделей DecisionTreeClassifier и RandomForestClassifier практически одинакова\n",
    "* Значение точности моделей равна 0.79, то есть модель ошибается примерно в двух случаях из десяти"
   ]
  },
  {
   "cell_type": "markdown",
   "metadata": {
    "id": "fnofJJsWAv7E"
   },
   "source": [
    "## Проверка модели на адекватность\n",
    "\n",
    "Для поверки восспользуемся моделью DummyClassifier, которую используют для сравнения с более сложными."
   ]
  },
  {
   "cell_type": "code",
   "execution_count": 17,
   "metadata": {
    "colab": {
     "base_uri": "https://localhost:8080/"
    },
    "id": "tiwIZp-__bVX",
    "outputId": "70ef34ba-9580-4583-fbbf-1647e3a61b59"
   },
   "outputs": [
    {
     "name": "stdout",
     "output_type": "stream",
     "text": [
      "Accuracy в тестовой выборке = 0.6796267496111975\n"
     ]
    }
   ],
   "source": [
    "dummy_model = DummyClassifier(random_state=1000)\n",
    "dummy_model.fit(features_train, target_train)\n",
    "predictions_test = dummy_model.predict(features_test)\n",
    "print('Accuracy в тестовой выборке =', accuracy_score(target_test, predictions_test))"
   ]
  },
  {
   "cell_type": "markdown",
   "metadata": {
    "id": "X0nLB6hpBH0y"
   },
   "source": [
    "**Вывод:**\n",
    "При сравнении моделей DecisionTreeClassifier(точность 0,79) и RandomForestClassifier(точность 0,79) с простой моделью DummyClassifier проверили адекватность результатов, и убедились, что наши модели точнее."
   ]
  }
 ],
 "metadata": {
  "ExecuteTimeLog": [
   {
    "duration": 48,
    "start_time": "2022-03-19T11:31:24.631Z"
   },
   {
    "duration": 1240,
    "start_time": "2022-03-19T11:31:26.205Z"
   },
   {
    "duration": 27,
    "start_time": "2022-03-19T11:31:27.795Z"
   },
   {
    "duration": 1239,
    "start_time": "2022-03-19T11:31:32.910Z"
   },
   {
    "duration": 26,
    "start_time": "2022-03-19T11:31:34.151Z"
   },
   {
    "duration": 11,
    "start_time": "2022-03-19T11:31:34.179Z"
   },
   {
    "duration": 8,
    "start_time": "2022-03-19T11:31:34.192Z"
   },
   {
    "duration": 5,
    "start_time": "2022-03-19T11:31:34.201Z"
   },
   {
    "duration": 6,
    "start_time": "2022-03-19T11:31:34.207Z"
   },
   {
    "duration": 5,
    "start_time": "2022-03-19T11:31:34.215Z"
   },
   {
    "duration": 6,
    "start_time": "2022-03-19T11:31:34.221Z"
   },
   {
    "duration": 6,
    "start_time": "2022-03-19T11:31:34.228Z"
   },
   {
    "duration": 30,
    "start_time": "2022-03-19T11:31:34.236Z"
   },
   {
    "duration": 43,
    "start_time": "2022-03-19T11:31:34.269Z"
   },
   {
    "duration": 25,
    "start_time": "2022-03-19T11:31:34.314Z"
   },
   {
    "duration": 157,
    "start_time": "2022-03-19T11:31:34.340Z"
   },
   {
    "duration": 4,
    "start_time": "2022-03-19T11:31:34.498Z"
   },
   {
    "duration": 16,
    "start_time": "2022-03-19T11:31:34.503Z"
   },
   {
    "duration": 48,
    "start_time": "2022-03-19T11:31:34.521Z"
   },
   {
    "duration": 5,
    "start_time": "2022-03-19T11:31:34.571Z"
   },
   {
    "duration": 5,
    "start_time": "2022-03-19T11:32:19.763Z"
   },
   {
    "duration": 1723,
    "start_time": "2022-03-20T07:32:32.889Z"
   },
   {
    "duration": 46,
    "start_time": "2022-03-20T07:32:34.615Z"
   },
   {
    "duration": 17,
    "start_time": "2022-03-20T07:32:34.663Z"
   },
   {
    "duration": 18,
    "start_time": "2022-03-20T07:32:34.683Z"
   },
   {
    "duration": 20,
    "start_time": "2022-03-20T07:32:34.703Z"
   },
   {
    "duration": 26,
    "start_time": "2022-03-20T07:32:34.725Z"
   },
   {
    "duration": 16,
    "start_time": "2022-03-20T07:32:34.765Z"
   },
   {
    "duration": 14,
    "start_time": "2022-03-20T07:32:34.783Z"
   },
   {
    "duration": 13,
    "start_time": "2022-03-20T07:32:34.799Z"
   },
   {
    "duration": 11,
    "start_time": "2022-03-20T07:32:34.815Z"
   },
   {
    "duration": 70,
    "start_time": "2022-03-20T07:32:34.829Z"
   },
   {
    "duration": 58,
    "start_time": "2022-03-20T07:32:34.902Z"
   },
   {
    "duration": 207,
    "start_time": "2022-03-20T07:32:34.962Z"
   },
   {
    "duration": 5,
    "start_time": "2022-03-20T07:32:35.171Z"
   },
   {
    "duration": 16,
    "start_time": "2022-03-20T07:32:35.180Z"
   },
   {
    "duration": 81,
    "start_time": "2022-03-20T07:32:35.199Z"
   },
   {
    "duration": 8,
    "start_time": "2022-03-20T07:32:35.284Z"
   },
   {
    "duration": 178,
    "start_time": "2022-03-20T14:05:44.107Z"
   },
   {
    "duration": 1264,
    "start_time": "2022-03-20T14:07:32.432Z"
   },
   {
    "duration": 33,
    "start_time": "2022-03-20T14:07:33.699Z"
   },
   {
    "duration": 13,
    "start_time": "2022-03-20T14:07:33.734Z"
   },
   {
    "duration": 13,
    "start_time": "2022-03-20T14:07:33.749Z"
   },
   {
    "duration": 6,
    "start_time": "2022-03-20T14:07:33.765Z"
   },
   {
    "duration": 6,
    "start_time": "2022-03-20T14:07:33.773Z"
   },
   {
    "duration": 6,
    "start_time": "2022-03-20T14:07:33.781Z"
   },
   {
    "duration": 12,
    "start_time": "2022-03-20T14:07:33.789Z"
   },
   {
    "duration": 30,
    "start_time": "2022-03-20T14:07:33.803Z"
   },
   {
    "duration": 3,
    "start_time": "2022-03-20T14:07:33.835Z"
   },
   {
    "duration": 56,
    "start_time": "2022-03-20T14:07:33.840Z"
   },
   {
    "duration": 34,
    "start_time": "2022-03-20T14:07:33.898Z"
   },
   {
    "duration": 146,
    "start_time": "2022-03-20T14:07:33.933Z"
   },
   {
    "duration": 3,
    "start_time": "2022-03-20T14:07:34.082Z"
   },
   {
    "duration": 20,
    "start_time": "2022-03-20T14:07:34.087Z"
   },
   {
    "duration": 47,
    "start_time": "2022-03-20T14:07:34.109Z"
   },
   {
    "duration": 5,
    "start_time": "2022-03-20T14:07:34.158Z"
   },
   {
    "duration": 4730,
    "start_time": "2022-03-20T14:08:20.798Z"
   },
   {
    "duration": 410,
    "start_time": "2022-03-20T14:08:50.067Z"
   },
   {
    "duration": 164,
    "start_time": "2022-03-20T14:21:50.681Z"
   },
   {
    "duration": 101,
    "start_time": "2022-03-21T05:36:57.538Z"
   }
  ],
  "colab": {
   "name": "Untitled2.ipynb",
   "provenance": []
  },
  "kernelspec": {
   "display_name": "Python 3 (ipykernel)",
   "language": "python",
   "name": "python3"
  },
  "language_info": {
   "codemirror_mode": {
    "name": "ipython",
    "version": 3
   },
   "file_extension": ".py",
   "mimetype": "text/x-python",
   "name": "python",
   "nbconvert_exporter": "python",
   "pygments_lexer": "ipython3",
   "version": "3.9.5"
  },
  "toc": {
   "base_numbering": 1,
   "nav_menu": {},
   "number_sections": true,
   "sideBar": true,
   "skip_h1_title": true,
   "title_cell": "Содержание",
   "title_sidebar": "Contents",
   "toc_cell": true,
   "toc_position": {},
   "toc_section_display": true,
   "toc_window_display": true
  }
 },
 "nbformat": 4,
 "nbformat_minor": 1
}
