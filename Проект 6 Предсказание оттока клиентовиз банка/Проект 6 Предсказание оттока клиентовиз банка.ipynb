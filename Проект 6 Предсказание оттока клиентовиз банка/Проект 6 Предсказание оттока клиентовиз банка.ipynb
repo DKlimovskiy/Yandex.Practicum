{
 "cells": [
  {
   "cell_type": "markdown",
   "metadata": {
    "toc": true
   },
   "source": [
    "<h1>Содержание<span class=\"tocSkip\"></span></h1>\n",
    "<div class=\"toc\"><ul class=\"toc-item\"><li><span><a href=\"#Подготовка-данных\" data-toc-modified-id=\"Подготовка-данных-1\"><span class=\"toc-item-num\">1&nbsp;&nbsp;</span>Подготовка данных</a></span></li><li><span><a href=\"#Исследование-задачи\" data-toc-modified-id=\"Исследование-задачи-2\"><span class=\"toc-item-num\">2&nbsp;&nbsp;</span>Исследование задачи</a></span></li><li><span><a href=\"#Борьба-с-дисбалансом\" data-toc-modified-id=\"Борьба-с-дисбалансом-3\"><span class=\"toc-item-num\">3&nbsp;&nbsp;</span>Борьба с дисбалансом</a></span><ul class=\"toc-item\"><li><span><a href=\"#Сбалансируем-классы-с-помощью-class_weight.\" data-toc-modified-id=\"Сбалансируем-классы-с-помощью-class_weight.-3.1\"><span class=\"toc-item-num\">3.1&nbsp;&nbsp;</span>Сбалансируем классы с помощью class_weight.</a></span></li><li><span><a href=\"#Изменение-порога\" data-toc-modified-id=\"Изменение-порога-3.2\"><span class=\"toc-item-num\">3.2&nbsp;&nbsp;</span>Изменение порога</a></span></li><li><span><a href=\"#Уменьшение-выборки\" data-toc-modified-id=\"Уменьшение-выборки-3.3\"><span class=\"toc-item-num\">3.3&nbsp;&nbsp;</span>Уменьшение выборки</a></span></li><li><span><a href=\"#Увеличение-выборки\" data-toc-modified-id=\"Увеличение-выборки-3.4\"><span class=\"toc-item-num\">3.4&nbsp;&nbsp;</span>Увеличение выборки</a></span></li><li><span><a href=\"#Подбор-параметров\" data-toc-modified-id=\"Подбор-параметров-3.5\"><span class=\"toc-item-num\">3.5&nbsp;&nbsp;</span>Подбор параметров</a></span></li></ul></li><li><span><a href=\"#Тестирование-модели\" data-toc-modified-id=\"Тестирование-модели-4\"><span class=\"toc-item-num\">4&nbsp;&nbsp;</span>Тестирование модели</a></span></li><li><span><a href=\"#Общий-вывод\" data-toc-modified-id=\"Общий-вывод-5\"><span class=\"toc-item-num\">5&nbsp;&nbsp;</span>Общий вывод</a></span></li><li><span><a href=\"#Чек-лист-готовности-проекта\" data-toc-modified-id=\"Чек-лист-готовности-проекта-6\"><span class=\"toc-item-num\">6&nbsp;&nbsp;</span>Чек-лист готовности проекта</a></span></li></ul></div>"
   ]
  },
  {
   "cell_type": "markdown",
   "metadata": {},
   "source": [
    "# Отток клиентов"
   ]
  },
  {
   "cell_type": "markdown",
   "metadata": {},
   "source": [
    "Из «Бета-Банка» стали уходить клиенты. Каждый месяц. Немного, но заметно. Банковские маркетологи посчитали: сохранять текущих клиентов дешевле, чем привлекать новых.\n",
    "\n",
    "Нужно спрогнозировать, уйдёт клиент из банка в ближайшее время или нет. Вам предоставлены исторические данные о поведении клиентов и расторжении договоров с банком. \n",
    "\n",
    "Постройте модель с предельно большим значением *F1*-меры. Чтобы сдать проект успешно, нужно довести метрику до 0.59. Проверьте *F1*-меру на тестовой выборке самостоятельно.\n",
    "\n",
    "Дополнительно измеряйте *AUC-ROC*, сравнивайте её значение с *F1*-мерой.\n",
    "\n",
    "Источник данных: [https://www.kaggle.com/barelydedicated/bank-customer-churn-modeling](https://www.kaggle.com/barelydedicated/bank-customer-churn-modeling)"
   ]
  },
  {
   "cell_type": "markdown",
   "metadata": {},
   "source": [
    "# Описание данных\n",
    "\n",
    "\n",
    "# Признаки\n",
    "\n",
    "\n",
    "* RowNumber — индекс строки в данных\n",
    "* CustomerId — уникальный идентификатор клиента\n",
    "* Surname — фамилия\n",
    "* CreditScore — кредитный рейтинг\n",
    "* Geography — страна проживания\n",
    "* Gender — пол\n",
    "* Age — возраст\n",
    "* Tenure — количество недвижимости у клиента\n",
    "* Balance — баланс на счёте\n",
    "* NumOfProducts — количество продуктов банка, используемых клиентом\n",
    "* HasCrCard — наличие кредитной карты\n",
    "* IsActiveMember — активность клиента\n",
    "* EstimatedSalary — предполагаемая зарплата\n",
    "\n",
    "\n",
    "# Целевой признак\n",
    "\n",
    "\n",
    "* Exited — факт ухода клиента"
   ]
  },
  {
   "cell_type": "markdown",
   "metadata": {},
   "source": [
    "## Подготовка данных"
   ]
  },
  {
   "cell_type": "code",
   "execution_count": 1,
   "metadata": {},
   "outputs": [],
   "source": [
    "import pandas as pd\n",
    "import numpy as np\n",
    "from sklearn.metrics import f1_score, mean_absolute_error, accuracy_score, roc_auc_score\n",
    "from sklearn.preprocessing import StandardScaler, OrdinalEncoder\n",
    "from sklearn.utils import shuffle\n",
    "from sklearn.model_selection import train_test_split\n",
    "from sklearn.ensemble import RandomForestClassifier\n",
    "from sklearn.linear_model import LogisticRegression\n",
    "from sklearn.model_selection import GridSearchCV\n",
    "pd.options.mode.chained_assignment = None"
   ]
  },
  {
   "cell_type": "code",
   "execution_count": 2,
   "metadata": {},
   "outputs": [
    {
     "data": {
      "text/html": [
       "<div>\n",
       "<style scoped>\n",
       "    .dataframe tbody tr th:only-of-type {\n",
       "        vertical-align: middle;\n",
       "    }\n",
       "\n",
       "    .dataframe tbody tr th {\n",
       "        vertical-align: top;\n",
       "    }\n",
       "\n",
       "    .dataframe thead th {\n",
       "        text-align: right;\n",
       "    }\n",
       "</style>\n",
       "<table border=\"1\" class=\"dataframe\">\n",
       "  <thead>\n",
       "    <tr style=\"text-align: right;\">\n",
       "      <th></th>\n",
       "      <th>RowNumber</th>\n",
       "      <th>CustomerId</th>\n",
       "      <th>Surname</th>\n",
       "      <th>CreditScore</th>\n",
       "      <th>Geography</th>\n",
       "      <th>Gender</th>\n",
       "      <th>Age</th>\n",
       "      <th>Tenure</th>\n",
       "      <th>Balance</th>\n",
       "      <th>NumOfProducts</th>\n",
       "      <th>HasCrCard</th>\n",
       "      <th>IsActiveMember</th>\n",
       "      <th>EstimatedSalary</th>\n",
       "      <th>Exited</th>\n",
       "    </tr>\n",
       "  </thead>\n",
       "  <tbody>\n",
       "    <tr>\n",
       "      <th>0</th>\n",
       "      <td>1</td>\n",
       "      <td>15634602</td>\n",
       "      <td>Hargrave</td>\n",
       "      <td>619</td>\n",
       "      <td>France</td>\n",
       "      <td>Female</td>\n",
       "      <td>42</td>\n",
       "      <td>2.0</td>\n",
       "      <td>0.00</td>\n",
       "      <td>1</td>\n",
       "      <td>1</td>\n",
       "      <td>1</td>\n",
       "      <td>101348.88</td>\n",
       "      <td>1</td>\n",
       "    </tr>\n",
       "    <tr>\n",
       "      <th>1</th>\n",
       "      <td>2</td>\n",
       "      <td>15647311</td>\n",
       "      <td>Hill</td>\n",
       "      <td>608</td>\n",
       "      <td>Spain</td>\n",
       "      <td>Female</td>\n",
       "      <td>41</td>\n",
       "      <td>1.0</td>\n",
       "      <td>83807.86</td>\n",
       "      <td>1</td>\n",
       "      <td>0</td>\n",
       "      <td>1</td>\n",
       "      <td>112542.58</td>\n",
       "      <td>0</td>\n",
       "    </tr>\n",
       "    <tr>\n",
       "      <th>2</th>\n",
       "      <td>3</td>\n",
       "      <td>15619304</td>\n",
       "      <td>Onio</td>\n",
       "      <td>502</td>\n",
       "      <td>France</td>\n",
       "      <td>Female</td>\n",
       "      <td>42</td>\n",
       "      <td>8.0</td>\n",
       "      <td>159660.80</td>\n",
       "      <td>3</td>\n",
       "      <td>1</td>\n",
       "      <td>0</td>\n",
       "      <td>113931.57</td>\n",
       "      <td>1</td>\n",
       "    </tr>\n",
       "    <tr>\n",
       "      <th>3</th>\n",
       "      <td>4</td>\n",
       "      <td>15701354</td>\n",
       "      <td>Boni</td>\n",
       "      <td>699</td>\n",
       "      <td>France</td>\n",
       "      <td>Female</td>\n",
       "      <td>39</td>\n",
       "      <td>1.0</td>\n",
       "      <td>0.00</td>\n",
       "      <td>2</td>\n",
       "      <td>0</td>\n",
       "      <td>0</td>\n",
       "      <td>93826.63</td>\n",
       "      <td>0</td>\n",
       "    </tr>\n",
       "    <tr>\n",
       "      <th>4</th>\n",
       "      <td>5</td>\n",
       "      <td>15737888</td>\n",
       "      <td>Mitchell</td>\n",
       "      <td>850</td>\n",
       "      <td>Spain</td>\n",
       "      <td>Female</td>\n",
       "      <td>43</td>\n",
       "      <td>2.0</td>\n",
       "      <td>125510.82</td>\n",
       "      <td>1</td>\n",
       "      <td>1</td>\n",
       "      <td>1</td>\n",
       "      <td>79084.10</td>\n",
       "      <td>0</td>\n",
       "    </tr>\n",
       "    <tr>\n",
       "      <th>5</th>\n",
       "      <td>6</td>\n",
       "      <td>15574012</td>\n",
       "      <td>Chu</td>\n",
       "      <td>645</td>\n",
       "      <td>Spain</td>\n",
       "      <td>Male</td>\n",
       "      <td>44</td>\n",
       "      <td>8.0</td>\n",
       "      <td>113755.78</td>\n",
       "      <td>2</td>\n",
       "      <td>1</td>\n",
       "      <td>0</td>\n",
       "      <td>149756.71</td>\n",
       "      <td>1</td>\n",
       "    </tr>\n",
       "    <tr>\n",
       "      <th>6</th>\n",
       "      <td>7</td>\n",
       "      <td>15592531</td>\n",
       "      <td>Bartlett</td>\n",
       "      <td>822</td>\n",
       "      <td>France</td>\n",
       "      <td>Male</td>\n",
       "      <td>50</td>\n",
       "      <td>7.0</td>\n",
       "      <td>0.00</td>\n",
       "      <td>2</td>\n",
       "      <td>1</td>\n",
       "      <td>1</td>\n",
       "      <td>10062.80</td>\n",
       "      <td>0</td>\n",
       "    </tr>\n",
       "    <tr>\n",
       "      <th>7</th>\n",
       "      <td>8</td>\n",
       "      <td>15656148</td>\n",
       "      <td>Obinna</td>\n",
       "      <td>376</td>\n",
       "      <td>Germany</td>\n",
       "      <td>Female</td>\n",
       "      <td>29</td>\n",
       "      <td>4.0</td>\n",
       "      <td>115046.74</td>\n",
       "      <td>4</td>\n",
       "      <td>1</td>\n",
       "      <td>0</td>\n",
       "      <td>119346.88</td>\n",
       "      <td>1</td>\n",
       "    </tr>\n",
       "    <tr>\n",
       "      <th>8</th>\n",
       "      <td>9</td>\n",
       "      <td>15792365</td>\n",
       "      <td>He</td>\n",
       "      <td>501</td>\n",
       "      <td>France</td>\n",
       "      <td>Male</td>\n",
       "      <td>44</td>\n",
       "      <td>4.0</td>\n",
       "      <td>142051.07</td>\n",
       "      <td>2</td>\n",
       "      <td>0</td>\n",
       "      <td>1</td>\n",
       "      <td>74940.50</td>\n",
       "      <td>0</td>\n",
       "    </tr>\n",
       "    <tr>\n",
       "      <th>9</th>\n",
       "      <td>10</td>\n",
       "      <td>15592389</td>\n",
       "      <td>H?</td>\n",
       "      <td>684</td>\n",
       "      <td>France</td>\n",
       "      <td>Male</td>\n",
       "      <td>27</td>\n",
       "      <td>2.0</td>\n",
       "      <td>134603.88</td>\n",
       "      <td>1</td>\n",
       "      <td>1</td>\n",
       "      <td>1</td>\n",
       "      <td>71725.73</td>\n",
       "      <td>0</td>\n",
       "    </tr>\n",
       "  </tbody>\n",
       "</table>\n",
       "</div>"
      ],
      "text/plain": [
       "   RowNumber  CustomerId   Surname  CreditScore Geography  Gender  Age  \\\n",
       "0          1    15634602  Hargrave          619    France  Female   42   \n",
       "1          2    15647311      Hill          608     Spain  Female   41   \n",
       "2          3    15619304      Onio          502    France  Female   42   \n",
       "3          4    15701354      Boni          699    France  Female   39   \n",
       "4          5    15737888  Mitchell          850     Spain  Female   43   \n",
       "5          6    15574012       Chu          645     Spain    Male   44   \n",
       "6          7    15592531  Bartlett          822    France    Male   50   \n",
       "7          8    15656148    Obinna          376   Germany  Female   29   \n",
       "8          9    15792365        He          501    France    Male   44   \n",
       "9         10    15592389        H?          684    France    Male   27   \n",
       "\n",
       "   Tenure    Balance  NumOfProducts  HasCrCard  IsActiveMember  \\\n",
       "0     2.0       0.00              1          1               1   \n",
       "1     1.0   83807.86              1          0               1   \n",
       "2     8.0  159660.80              3          1               0   \n",
       "3     1.0       0.00              2          0               0   \n",
       "4     2.0  125510.82              1          1               1   \n",
       "5     8.0  113755.78              2          1               0   \n",
       "6     7.0       0.00              2          1               1   \n",
       "7     4.0  115046.74              4          1               0   \n",
       "8     4.0  142051.07              2          0               1   \n",
       "9     2.0  134603.88              1          1               1   \n",
       "\n",
       "   EstimatedSalary  Exited  \n",
       "0        101348.88       1  \n",
       "1        112542.58       0  \n",
       "2        113931.57       1  \n",
       "3         93826.63       0  \n",
       "4         79084.10       0  \n",
       "5        149756.71       1  \n",
       "6         10062.80       0  \n",
       "7        119346.88       1  \n",
       "8         74940.50       0  \n",
       "9         71725.73       0  "
      ]
     },
     "metadata": {},
     "output_type": "display_data"
    },
    {
     "name": "stdout",
     "output_type": "stream",
     "text": [
      "<class 'pandas.core.frame.DataFrame'>\n",
      "RangeIndex: 10000 entries, 0 to 9999\n",
      "Data columns (total 14 columns):\n",
      " #   Column           Non-Null Count  Dtype  \n",
      "---  ------           --------------  -----  \n",
      " 0   RowNumber        10000 non-null  int64  \n",
      " 1   CustomerId       10000 non-null  int64  \n",
      " 2   Surname          10000 non-null  object \n",
      " 3   CreditScore      10000 non-null  int64  \n",
      " 4   Geography        10000 non-null  object \n",
      " 5   Gender           10000 non-null  object \n",
      " 6   Age              10000 non-null  int64  \n",
      " 7   Tenure           9091 non-null   float64\n",
      " 8   Balance          10000 non-null  float64\n",
      " 9   NumOfProducts    10000 non-null  int64  \n",
      " 10  HasCrCard        10000 non-null  int64  \n",
      " 11  IsActiveMember   10000 non-null  int64  \n",
      " 12  EstimatedSalary  10000 non-null  float64\n",
      " 13  Exited           10000 non-null  int64  \n",
      "dtypes: float64(3), int64(8), object(3)\n",
      "memory usage: 1.1+ MB\n"
     ]
    }
   ],
   "source": [
    "df = pd.read_csv('/datasets/Churn.csv')\n",
    "display(df.head(10))\n",
    "df.info()"
   ]
  },
  {
   "cell_type": "markdown",
   "metadata": {},
   "source": [
    "В датасете есть лишние данные, которые могут помешать в дальнейшем исследовании:\n",
    "\n",
    "* Столбцы с не нужными данными - `RowNumber`, `CustomerId` и `Surname`\n",
    "* Пропуски в столбце `Tenure`\n",
    "* Категориальные признаки в столбцах `Geography`, `Gender`\n",
    "\n",
    "Разберемся с ними:\n",
    "\n",
    "Удалим ненужные столбцы"
   ]
  },
  {
   "cell_type": "code",
   "execution_count": 3,
   "metadata": {},
   "outputs": [],
   "source": [
    "df.drop(['RowNumber', 'CustomerId', 'Surname'], axis=1, inplace=True)"
   ]
  },
  {
   "cell_type": "markdown",
   "metadata": {},
   "source": [
    "Пропуски в столбце могут означать, что клиент новый. По этому заменим пропуски на 0."
   ]
  },
  {
   "cell_type": "code",
   "execution_count": 4,
   "metadata": {},
   "outputs": [],
   "source": [
    "df['Tenure'].fillna(0, inplace=True)"
   ]
  },
  {
   "cell_type": "markdown",
   "metadata": {},
   "source": [
    "С помощью прямого кодирования заменим категориальные признаки на численные."
   ]
  },
  {
   "cell_type": "code",
   "execution_count": 5,
   "metadata": {},
   "outputs": [
    {
     "data": {
      "text/html": [
       "<div>\n",
       "<style scoped>\n",
       "    .dataframe tbody tr th:only-of-type {\n",
       "        vertical-align: middle;\n",
       "    }\n",
       "\n",
       "    .dataframe tbody tr th {\n",
       "        vertical-align: top;\n",
       "    }\n",
       "\n",
       "    .dataframe thead th {\n",
       "        text-align: right;\n",
       "    }\n",
       "</style>\n",
       "<table border=\"1\" class=\"dataframe\">\n",
       "  <thead>\n",
       "    <tr style=\"text-align: right;\">\n",
       "      <th></th>\n",
       "      <th>CreditScore</th>\n",
       "      <th>Age</th>\n",
       "      <th>Tenure</th>\n",
       "      <th>Balance</th>\n",
       "      <th>NumOfProducts</th>\n",
       "      <th>HasCrCard</th>\n",
       "      <th>IsActiveMember</th>\n",
       "      <th>EstimatedSalary</th>\n",
       "      <th>Exited</th>\n",
       "      <th>Geography_Germany</th>\n",
       "      <th>Geography_Spain</th>\n",
       "      <th>Gender_Male</th>\n",
       "    </tr>\n",
       "  </thead>\n",
       "  <tbody>\n",
       "    <tr>\n",
       "      <th>0</th>\n",
       "      <td>619</td>\n",
       "      <td>42</td>\n",
       "      <td>2.0</td>\n",
       "      <td>0.00</td>\n",
       "      <td>1</td>\n",
       "      <td>1</td>\n",
       "      <td>1</td>\n",
       "      <td>101348.88</td>\n",
       "      <td>1</td>\n",
       "      <td>0</td>\n",
       "      <td>0</td>\n",
       "      <td>0</td>\n",
       "    </tr>\n",
       "    <tr>\n",
       "      <th>1</th>\n",
       "      <td>608</td>\n",
       "      <td>41</td>\n",
       "      <td>1.0</td>\n",
       "      <td>83807.86</td>\n",
       "      <td>1</td>\n",
       "      <td>0</td>\n",
       "      <td>1</td>\n",
       "      <td>112542.58</td>\n",
       "      <td>0</td>\n",
       "      <td>0</td>\n",
       "      <td>1</td>\n",
       "      <td>0</td>\n",
       "    </tr>\n",
       "    <tr>\n",
       "      <th>2</th>\n",
       "      <td>502</td>\n",
       "      <td>42</td>\n",
       "      <td>8.0</td>\n",
       "      <td>159660.80</td>\n",
       "      <td>3</td>\n",
       "      <td>1</td>\n",
       "      <td>0</td>\n",
       "      <td>113931.57</td>\n",
       "      <td>1</td>\n",
       "      <td>0</td>\n",
       "      <td>0</td>\n",
       "      <td>0</td>\n",
       "    </tr>\n",
       "    <tr>\n",
       "      <th>3</th>\n",
       "      <td>699</td>\n",
       "      <td>39</td>\n",
       "      <td>1.0</td>\n",
       "      <td>0.00</td>\n",
       "      <td>2</td>\n",
       "      <td>0</td>\n",
       "      <td>0</td>\n",
       "      <td>93826.63</td>\n",
       "      <td>0</td>\n",
       "      <td>0</td>\n",
       "      <td>0</td>\n",
       "      <td>0</td>\n",
       "    </tr>\n",
       "    <tr>\n",
       "      <th>4</th>\n",
       "      <td>850</td>\n",
       "      <td>43</td>\n",
       "      <td>2.0</td>\n",
       "      <td>125510.82</td>\n",
       "      <td>1</td>\n",
       "      <td>1</td>\n",
       "      <td>1</td>\n",
       "      <td>79084.10</td>\n",
       "      <td>0</td>\n",
       "      <td>0</td>\n",
       "      <td>1</td>\n",
       "      <td>0</td>\n",
       "    </tr>\n",
       "  </tbody>\n",
       "</table>\n",
       "</div>"
      ],
      "text/plain": [
       "   CreditScore  Age  Tenure    Balance  NumOfProducts  HasCrCard  \\\n",
       "0          619   42     2.0       0.00              1          1   \n",
       "1          608   41     1.0   83807.86              1          0   \n",
       "2          502   42     8.0  159660.80              3          1   \n",
       "3          699   39     1.0       0.00              2          0   \n",
       "4          850   43     2.0  125510.82              1          1   \n",
       "\n",
       "   IsActiveMember  EstimatedSalary  Exited  Geography_Germany  \\\n",
       "0               1        101348.88       1                  0   \n",
       "1               1        112542.58       0                  0   \n",
       "2               0        113931.57       1                  0   \n",
       "3               0         93826.63       0                  0   \n",
       "4               1         79084.10       0                  0   \n",
       "\n",
       "   Geography_Spain  Gender_Male  \n",
       "0                0            0  \n",
       "1                1            0  \n",
       "2                0            0  \n",
       "3                0            0  \n",
       "4                1            0  "
      ]
     },
     "execution_count": 5,
     "metadata": {},
     "output_type": "execute_result"
    }
   ],
   "source": [
    "df_ohe = pd.get_dummies(df, drop_first=True)\n",
    "df_ohe.head()"
   ]
  },
  {
   "cell_type": "markdown",
   "metadata": {},
   "source": [
    "<div class=\"alert alert-block alert-success\">\n",
    "<b>Комментарий от ревьюера v1</b>\n",
    "    \n",
    "<b>Успех:</b> Отлично, идём дальше.</div>"
   ]
  },
  {
   "cell_type": "markdown",
   "metadata": {},
   "source": [
    "Разделим датасет на обучающую, валидационную и тестовую выборки."
   ]
  },
  {
   "cell_type": "code",
   "execution_count": 6,
   "metadata": {},
   "outputs": [],
   "source": [
    "features = df_ohe.drop('Exited', axis=1)\n",
    "target = df_ohe['Exited']\n",
    "\n",
    "features_train, features_rest, target_train, target_rest = train_test_split(\n",
    "    features, target, test_size=.4, random_state=777\n",
    ")\n",
    "features_valid, features_test, target_valid, target_test = train_test_split(\n",
    "    features_rest, target_rest, test_size=.5, random_state=777\n",
    ")"
   ]
  },
  {
   "cell_type": "code",
   "execution_count": 7,
   "metadata": {},
   "outputs": [
    {
     "name": "stdout",
     "output_type": "stream",
     "text": [
      "(6000, 11)\n",
      "(2000, 11)\n",
      "(2000, 11)\n"
     ]
    }
   ],
   "source": [
    "print(features_train.shape)\n",
    "print(features_valid.shape)\n",
    "print(features_test.shape)"
   ]
  },
  {
   "cell_type": "markdown",
   "metadata": {},
   "source": [
    "Масштабируем признаки методом стандартизации."
   ]
  },
  {
   "cell_type": "code",
   "execution_count": 8,
   "metadata": {},
   "outputs": [],
   "source": [
    "numeric = ['CreditScore', 'Age', 'Balance', 'EstimatedSalary', 'Tenure', 'NumOfProducts']\n",
    "\n",
    "scaler = StandardScaler()\n",
    "scaler.fit(features_train[numeric])\n",
    "features_train[numeric] = scaler.transform(features_train[numeric])\n",
    "features_valid[numeric] = scaler.transform(features_valid[numeric])\n",
    "features_test[numeric] = scaler.transform(features_test[numeric])"
   ]
  },
  {
   "cell_type": "markdown",
   "metadata": {},
   "source": [
    "**Вывод**\n",
    "\n",
    "1. Ознакомились с данными.\n",
    "2. Выявили особенность датасета:\n",
    "    * Столбцы с не нужными данными - `RowNumber`, `CustomerId` и `Surname` - **удалили**\n",
    "    * Пропуски в столбце `Tenure` - **заменили на 0**\n",
    "    * Категориальные признаки в столбцах `Geography`, `Gender` - **заменили на численные** \n",
    "3. Разбили измененый датасет на 3 выборки - `Обучающую`, `Валилационную` и `Тестовую`\n",
    "4. Масштабировали признаки методом стандартизации."
   ]
  },
  {
   "cell_type": "markdown",
   "metadata": {},
   "source": [
    "## Исследование задачи"
   ]
  },
  {
   "cell_type": "markdown",
   "metadata": {},
   "source": [
    "Обучим модели и измерим accuracy."
   ]
  },
  {
   "cell_type": "code",
   "execution_count": 9,
   "metadata": {},
   "outputs": [
    {
     "data": {
      "text/plain": [
       "0.829"
      ]
     },
     "execution_count": 9,
     "metadata": {},
     "output_type": "execute_result"
    }
   ],
   "source": [
    "model = LogisticRegression(random_state=777, solver='liblinear')\n",
    "model.fit(features_train, target_train)\n",
    "predicted_valid_lr = pd.Series(model.predict(features_valid))\n",
    "model.score(features_valid, target_valid)"
   ]
  },
  {
   "cell_type": "code",
   "execution_count": 10,
   "metadata": {},
   "outputs": [
    {
     "data": {
      "text/plain": [
       "0.8695"
      ]
     },
     "execution_count": 10,
     "metadata": {},
     "output_type": "execute_result"
    }
   ],
   "source": [
    "model = RandomForestClassifier(max_depth = 8, random_state=777)\n",
    "model.fit(features_train, target_train)\n",
    "predicted_valid_rfc = pd.Series(model.predict(features_valid))\n",
    "model.score(features_valid, target_valid)"
   ]
  },
  {
   "cell_type": "markdown",
   "metadata": {},
   "source": [
    "Доля правильных ответов - 86%. Необходимо понять, хороший ли это результат.\n",
    "\n",
    "Оценим адекватность модели, проверим как часто в целевом признаке встречается `1` и `0`"
   ]
  },
  {
   "cell_type": "code",
   "execution_count": 11,
   "metadata": {},
   "outputs": [
    {
     "data": {
      "text/plain": [
       "<AxesSubplot:>"
      ]
     },
     "execution_count": 11,
     "metadata": {},
     "output_type": "execute_result"
    },
    {
     "data": {
      "image/png": "[encoded data removed]",
      "text/plain": [
       "<Figure size 432x288 with 1 Axes>"
      ]
     },
     "metadata": {
      "needs_background": "light"
     },
     "output_type": "display_data"
    }
   ],
   "source": [
    "class_frequancy = df['Exited'].value_counts(normalize=True)\n",
    "class_frequancy.plot(kind='bar')"
   ]
  },
  {
   "cell_type": "markdown",
   "metadata": {},
   "source": [
    "Классы несбаланированны. Клиенты уходят в 20% случаях.\n",
    "\n",
    "Посмотрим на частоты классов в результатах предсказания моделей."
   ]
  },
  {
   "cell_type": "code",
   "execution_count": 12,
   "metadata": {},
   "outputs": [
    {
     "data": {
      "text/plain": [
       "0    0.9325\n",
       "1    0.0675\n",
       "dtype: float64"
      ]
     },
     "execution_count": 12,
     "metadata": {},
     "output_type": "execute_result"
    },
    {
     "data": {
      "image/png": "[encoded data removed]",
      "text/plain": [
       "<Figure size 432x288 with 1 Axes>"
      ]
     },
     "metadata": {
      "needs_background": "light"
     },
     "output_type": "display_data"
    }
   ],
   "source": [
    "class_frequancy_lr = predicted_valid_lr.value_counts(normalize=True)\n",
    "class_frequancy_lr.plot(kind='bar')\n",
    "class_frequancy_lr"
   ]
  },
  {
   "cell_type": "code",
   "execution_count": 13,
   "metadata": {},
   "outputs": [
    {
     "data": {
      "text/plain": [
       "0    0.899\n",
       "1    0.101\n",
       "dtype: float64"
      ]
     },
     "execution_count": 13,
     "metadata": {},
     "output_type": "execute_result"
    },
    {
     "data": {
      "image/png": "[encoded data removed]",
      "text/plain": [
       "<Figure size 432x288 with 1 Axes>"
      ]
     },
     "metadata": {
      "needs_background": "light"
     },
     "output_type": "display_data"
    }
   ],
   "source": [
    "class_frequancy_rfc = predicted_valid_rfc.value_counts(normalize=True)\n",
    "class_frequancy_rfc.plot(kind='bar')\n",
    "class_frequancy_rfc"
   ]
  },
  {
   "cell_type": "markdown",
   "metadata": {},
   "source": [
    "Модели предсказыают более оптимистичный исход. Проверим их на андекватность с помощью константы."
   ]
  },
  {
   "cell_type": "code",
   "execution_count": 14,
   "metadata": {},
   "outputs": [
    {
     "data": {
      "text/plain": [
       "0.7963"
      ]
     },
     "execution_count": 14,
     "metadata": {},
     "output_type": "execute_result"
    }
   ],
   "source": [
    "const = pd.Series(0, target.index)\n",
    "accuracy_score(target, const)"
   ]
  },
  {
   "cell_type": "markdown",
   "metadata": {},
   "source": [
    "Модели предсказывают уход клиенов лучше, чем константа. Попробуем еще улучшить результат с помощью f1-меры"
   ]
  },
  {
   "cell_type": "code",
   "execution_count": 15,
   "metadata": {},
   "outputs": [
    {
     "data": {
      "text/plain": [
       "0.31599999999999995"
      ]
     },
     "execution_count": 15,
     "metadata": {},
     "output_type": "execute_result"
    }
   ],
   "source": [
    "f1_score(target_valid, predicted_valid_lr)"
   ]
  },
  {
   "cell_type": "code",
   "execution_count": 16,
   "metadata": {},
   "outputs": [
    {
     "data": {
      "text/plain": [
       "0.5396825396825397"
      ]
     },
     "execution_count": 16,
     "metadata": {},
     "output_type": "execute_result"
    }
   ],
   "source": [
    "f1_score(target_valid, predicted_valid_rfc)"
   ]
  },
  {
   "cell_type": "code",
   "execution_count": 17,
   "metadata": {},
   "outputs": [
    {
     "data": {
      "text/plain": [
       "0.5910937958191947"
      ]
     },
     "execution_count": 17,
     "metadata": {},
     "output_type": "execute_result"
    }
   ],
   "source": [
    "roc_auc_score(target_valid, predicted_valid_lr)"
   ]
  },
  {
   "cell_type": "code",
   "execution_count": 18,
   "metadata": {},
   "outputs": [
    {
     "data": {
      "text/plain": [
       "0.6946043316157681"
      ]
     },
     "execution_count": 18,
     "metadata": {},
     "output_type": "execute_result"
    }
   ],
   "source": [
    "roc_auc_score(target_valid, predicted_valid_rfc)"
   ]
  },
  {
   "cell_type": "markdown",
   "metadata": {},
   "source": [
    "**Вывод**\n",
    "\n",
    "* Классы несбаланированны.\n",
    "* Клиенты уходят в 20% случаях.\n",
    "* Проверили модель на адекватность.\n",
    "* Результат работы модели случайного леса лучше."
   ]
  },
  {
   "cell_type": "markdown",
   "metadata": {},
   "source": [
    "## Борьба с дисбалансом"
   ]
  },
  {
   "cell_type": "markdown",
   "metadata": {},
   "source": [
    "### Сбалансируем классы с помощью class_weight."
   ]
  },
  {
   "cell_type": "code",
   "execution_count": 19,
   "metadata": {},
   "outputs": [
    {
     "data": {
      "text/plain": [
       "0.4619666048237477"
      ]
     },
     "execution_count": 19,
     "metadata": {},
     "output_type": "execute_result"
    }
   ],
   "source": [
    "model = LogisticRegression(random_state=777, solver='liblinear', class_weight='balanced')\n",
    "model.fit(features_train, target_train)\n",
    "predicted_valid_lr = pd.Series(model.predict(features_valid))\n",
    "f1_score(target_valid, predicted_valid_lr)"
   ]
  },
  {
   "cell_type": "code",
   "execution_count": 20,
   "metadata": {},
   "outputs": [
    {
     "data": {
      "text/plain": [
       "0.5746268656716418"
      ]
     },
     "execution_count": 20,
     "metadata": {},
     "output_type": "execute_result"
    }
   ],
   "source": [
    "model = RandomForestClassifier(max_depth=9, random_state=777, class_weight='balanced')\n",
    "model.fit(features_train, target_train)\n",
    "predicted_valid_rfc = pd.Series(model.predict(features_valid))\n",
    "f1_score(target_valid, predicted_valid_rfc)"
   ]
  },
  {
   "cell_type": "markdown",
   "metadata": {},
   "source": [
    "После балансировки классов мера f1 выглядит лучше, у модели `LogisticRegression` она стала выше в полтора раза."
   ]
  },
  {
   "cell_type": "markdown",
   "metadata": {},
   "source": [
    "### Изменение порога\n",
    "\n",
    "Посмотрим, как изменеится значение f1 при изменении порога."
   ]
  },
  {
   "cell_type": "code",
   "execution_count": 21,
   "metadata": {},
   "outputs": [],
   "source": [
    "model = RandomForestClassifier(max_depth=8, random_state=777)\n",
    "model.fit(features_train, target_train)\n",
    "probabilities_valid_rfc = model.predict_proba(features_valid)\n",
    "probabilities_valid_rfc = probabilities_valid_rfc[:, 1]"
   ]
  },
  {
   "cell_type": "markdown",
   "metadata": {},
   "source": [
    "Напишем функцию для автоматизации подсчета f1 на разном значении порога"
   ]
  },
  {
   "cell_type": "code",
   "execution_count": 22,
   "metadata": {},
   "outputs": [],
   "source": [
    "def count_threshold(probabilities_valid):\n",
    "    for threshold in np.arange(0, 0.6, 0.05):\n",
    "        predicted_valid = probabilities_valid > threshold\n",
    "        f1 = f1_score(target_valid, predicted_valid)\n",
    "        print('Порог = {: .2f} / f1 = {: .3f}'. format(threshold, f1))"
   ]
  },
  {
   "cell_type": "code",
   "execution_count": 23,
   "metadata": {},
   "outputs": [
    {
     "name": "stdout",
     "output_type": "stream",
     "text": [
      "Порог =  0.00 / f1 =  0.309\n",
      "Порог =  0.05 / f1 =  0.353\n",
      "Порог =  0.10 / f1 =  0.441\n",
      "Порог =  0.15 / f1 =  0.514\n",
      "Порог =  0.20 / f1 =  0.543\n",
      "Порог =  0.25 / f1 =  0.572\n",
      "Порог =  0.30 / f1 =  0.592\n",
      "Порог =  0.35 / f1 =  0.587\n",
      "Порог =  0.40 / f1 =  0.577\n",
      "Порог =  0.45 / f1 =  0.576\n",
      "Порог =  0.50 / f1 =  0.540\n",
      "Порог =  0.55 / f1 =  0.506\n"
     ]
    }
   ],
   "source": [
    "count_threshold(probabilities_valid_rfc)"
   ]
  },
  {
   "cell_type": "markdown",
   "metadata": {},
   "source": [
    "f1 после балансировки классов выше, чем при изменении порога"
   ]
  },
  {
   "cell_type": "markdown",
   "metadata": {},
   "source": [
    "### Уменьшение выборки"
   ]
  },
  {
   "cell_type": "markdown",
   "metadata": {},
   "source": [
    "Сделаем объекты частого класса (0) не такими частными. Для этого напишем функцию downsample"
   ]
  },
  {
   "cell_type": "code",
   "execution_count": 24,
   "metadata": {},
   "outputs": [],
   "source": [
    "def downsample(features, target, fraction):\n",
    "    features_zeros = features[target == 0]\n",
    "    features_ones = features[target == 1]\n",
    "    target_zeros = target[target == 0]\n",
    "    target_ones = target[target == 1]\n",
    "    \n",
    "    features_downsampled = pd.concat([features_zeros.sample(frac=fraction, random_state=777)] + [features_ones])\n",
    "    target_downsampled = pd.concat([target_zeros.sample(frac=fraction, random_state=777)] + [target_ones])\n",
    "    \n",
    "    features_downsampled, target_downsampled = shuffle(features_downsampled, target_downsampled, random_state=777)\n",
    "    \n",
    "    return features_downsampled, target_downsampled"
   ]
  },
  {
   "cell_type": "code",
   "execution_count": 25,
   "metadata": {},
   "outputs": [],
   "source": [
    "features_downsampled, target_downsampled = downsample(features_train, target_train, 0.1)"
   ]
  },
  {
   "cell_type": "code",
   "execution_count": 26,
   "metadata": {},
   "outputs": [
    {
     "data": {
      "text/plain": [
       "0.3801935116676152"
      ]
     },
     "execution_count": 26,
     "metadata": {},
     "output_type": "execute_result"
    }
   ],
   "source": [
    "model = LogisticRegression(random_state=777, solver='liblinear')\n",
    "model.fit(features_downsampled, target_downsampled)\n",
    "predicted_valid_downsamled_lr = model.predict(features_valid)\n",
    "f1_score(target_valid, predicted_valid_downsamled_lr)"
   ]
  },
  {
   "cell_type": "code",
   "execution_count": 27,
   "metadata": {},
   "outputs": [
    {
     "data": {
      "text/plain": [
       "0.4313975749840459"
      ]
     },
     "execution_count": 27,
     "metadata": {},
     "output_type": "execute_result"
    }
   ],
   "source": [
    "model = RandomForestClassifier(random_state=777, max_depth=8)\n",
    "model.fit(features_downsampled, target_downsampled)\n",
    "predicted_valid_downsamled_rfc = model.predict(features_valid)\n",
    "f1_score(target_valid, predicted_valid_downsamled_rfc)"
   ]
  },
  {
   "cell_type": "markdown",
   "metadata": {},
   "source": [
    "Уменьшение выборки дает результат хуже, чем балансировка классов или изменение порога"
   ]
  },
  {
   "cell_type": "markdown",
   "metadata": {},
   "source": [
    "### Увеличение выборки"
   ]
  },
  {
   "cell_type": "code",
   "execution_count": 28,
   "metadata": {},
   "outputs": [],
   "source": [
    "def upsample(features, target, repeat):\n",
    "    features_zeros = features[target == 0]\n",
    "    features_ones = features[target == 1]\n",
    "    target_zeros = target[target == 0]\n",
    "    target_ones = target[target == 1]\n",
    "\n",
    "    features_upsampled = pd.concat([features_zeros] + [features_ones] * repeat)\n",
    "    target_upsampled = pd.concat([target_zeros] + [target_ones] * repeat)\n",
    "    \n",
    "    features_upsampled, target_upsampled = shuffle(\n",
    "        features_upsampled, target_upsampled, random_state=12345)\n",
    "    \n",
    "    return features_upsampled, target_upsampled"
   ]
  },
  {
   "cell_type": "code",
   "execution_count": 29,
   "metadata": {},
   "outputs": [],
   "source": [
    "features_upsampled, target_upsampled = upsample(features_train, target_train, 2)"
   ]
  },
  {
   "cell_type": "code",
   "execution_count": 30,
   "metadata": {},
   "outputs": [
    {
     "data": {
      "text/plain": [
       "0    4785\n",
       "1    2430\n",
       "Name: Exited, dtype: int64"
      ]
     },
     "execution_count": 30,
     "metadata": {},
     "output_type": "execute_result"
    }
   ],
   "source": [
    "target_upsampled.value_counts()"
   ]
  },
  {
   "cell_type": "code",
   "execution_count": 31,
   "metadata": {},
   "outputs": [
    {
     "data": {
      "text/plain": [
       "0.4394366197183099"
      ]
     },
     "execution_count": 31,
     "metadata": {},
     "output_type": "execute_result"
    }
   ],
   "source": [
    "model = LogisticRegression(random_state=777, solver='liblinear')\n",
    "model.fit(features_upsampled, target_upsampled)\n",
    "predicted_valid_upsampled_lr = model.predict(features_valid)\n",
    "f1_score(target_valid, predicted_valid_upsampled_lr)"
   ]
  },
  {
   "cell_type": "code",
   "execution_count": 32,
   "metadata": {},
   "outputs": [
    {
     "data": {
      "text/plain": [
       "0.5915080527086384"
      ]
     },
     "execution_count": 32,
     "metadata": {},
     "output_type": "execute_result"
    }
   ],
   "source": [
    "model = RandomForestClassifier(random_state=777, max_depth=8)\n",
    "model.fit(features_upsampled, target_upsampled)\n",
    "predicted_valid_upsampled_rfc = model.predict(features_valid)\n",
    "f1_score(target_valid, predicted_valid_upsampled_rfc)"
   ]
  },
  {
   "cell_type": "markdown",
   "metadata": {},
   "source": [
    "Увеличение выборки так же дает результаты хуже чем балансировка классов."
   ]
  },
  {
   "cell_type": "markdown",
   "metadata": {},
   "source": [
    "### Подбор параметров \n",
    "\n",
    "Для модели RandomForestClassifier подберем параментры `max_depth` и `n_estimators`, при которых она покажет наилучшие результаты.\n"
   ]
  },
  {
   "cell_type": "code",
   "execution_count": 35,
   "metadata": {},
   "outputs": [
    {
     "name": "stdout",
     "output_type": "stream",
     "text": [
      "CPU times: user 54.9 s, sys: 209 ms, total: 55.1 s\n",
      "Wall time: 55.2 s\n"
     ]
    },
    {
     "data": {
      "text/plain": [
       "{'max_depth': 10, 'n_estimators': 120}"
      ]
     },
     "execution_count": 35,
     "metadata": {},
     "output_type": "execute_result"
    }
   ],
   "source": [
    "%%time\n",
    "\n",
    "model = RandomForestClassifier(random_state=777)\n",
    "parametrs = { 'n_estimators' : range (40, 140, 20),\n",
    "              'max_depth' : range (5, 11, 1) }\n",
    "\n",
    "grid = GridSearchCV(model, parametrs)\n",
    "grid.fit(features_upsampled, target_upsampled)\n",
    "\n",
    "grid.best_params_"
   ]
  },
  {
   "cell_type": "markdown",
   "metadata": {},
   "source": [
    "**Вывод**\n",
    "\n",
    "* Лучшие результаты были достигнуты при балансировке классов.\n",
    "* Тестировать будем модель RandomForestClassifier со значениями `max_depth=10` и `n_estimators=120`"
   ]
  },
  {
   "cell_type": "markdown",
   "metadata": {},
   "source": [
    "## Тестирование модели"
   ]
  },
  {
   "cell_type": "markdown",
   "metadata": {},
   "source": [
    "Обучим финальную модель и проверим ее на тестовой выборке."
   ]
  },
  {
   "cell_type": "code",
   "execution_count": 36,
   "metadata": {},
   "outputs": [
    {
     "data": {
      "text/plain": [
       "0.6248492159227986"
      ]
     },
     "execution_count": 36,
     "metadata": {},
     "output_type": "execute_result"
    }
   ],
   "source": [
    "final_model = RandomForestClassifier(random_state=777, max_depth=10, n_estimators=100)\n",
    "final_model.fit(features_upsampled, target_upsampled)\n",
    "predicted_test = final_model.predict(features_test)\n",
    "f1_score(target_test, predicted_test)"
   ]
  },
  {
   "cell_type": "markdown",
   "metadata": {},
   "source": [
    "Требуемое значение f1 достигнуто.\n",
    "\n",
    "Подсчитаем площадь под ROC-кривой для модели(AUC-ROC), что бы узнать насколько ее точность отличается от случайной."
   ]
  },
  {
   "cell_type": "code",
   "execution_count": 37,
   "metadata": {},
   "outputs": [
    {
     "data": {
      "text/plain": [
       "0.8601179038248545"
      ]
     },
     "execution_count": 37,
     "metadata": {},
     "output_type": "execute_result"
    }
   ],
   "source": [
    "probabilities_test = final_model.predict_proba(features_test)\n",
    "probabilities_test = probabilities_test[:, 1]\n",
    "roc_auc_score(target_test, probabilities_test)"
   ]
  },
  {
   "cell_type": "markdown",
   "metadata": {},
   "source": [
    "## Общий вывод"
   ]
  },
  {
   "cell_type": "markdown",
   "metadata": {},
   "source": [
    "1. Ознакомились с данными и подготовили их к исследованию (преобразовали категориальные признаки в численные с помощью техники прямого кодирования One-Hot Encoding,разбили получившийся датасет на 3 выборки - обучающую, валидационную и тестовую, масштабировали признаки методом стандартизации).\n",
    "2. Исследовали баланс классов - они оказались несбалансированы, изучили модели без учёта дисбаланса, выяснили, что результат работы модели случайного леса лучше.\n",
    "3. Применили 2 способа борбы с дисбалансом - аргумент class_weight и изменение порога. Лучшие результаты показал способы борьбы с дисбалансом class_weight. Выявили лучшие значения n_estimators и max_depth для модели случайного леса.\n",
    "4. Обучили финальную модель и проверили ее на тестовой выборке. Достигли значения F1 = 0.62. Исследовали метрику AUC-ROC - ее значение в данном случае почти не отличается от значения для случайной модели (0.5)"
   ]
  }
 ],
 "metadata": {
  "ExecuteTimeLog": [
   {
    "duration": 508,
    "start_time": "2022-03-28T09:36:50.459Z"
   },
   {
    "duration": 45,
    "start_time": "2022-03-28T09:37:06.863Z"
   },
   {
    "duration": 52,
    "start_time": "2022-03-28T09:37:28.700Z"
   },
   {
    "duration": 59,
    "start_time": "2022-03-28T09:37:39.356Z"
   },
   {
    "duration": 60,
    "start_time": "2022-03-28T09:37:43.281Z"
   },
   {
    "duration": 63,
    "start_time": "2022-03-28T15:14:23.510Z"
   },
   {
    "duration": 401,
    "start_time": "2022-03-28T15:14:26.858Z"
   },
   {
    "duration": 61,
    "start_time": "2022-03-28T15:14:28.036Z"
   },
   {
    "duration": 6,
    "start_time": "2022-03-28T15:14:31.652Z"
   },
   {
    "duration": 36,
    "start_time": "2022-03-28T15:14:35.229Z"
   },
   {
    "duration": 11,
    "start_time": "2022-03-28T15:14:41.631Z"
   },
   {
    "duration": 106,
    "start_time": "2022-03-28T15:16:40.845Z"
   },
   {
    "duration": 4,
    "start_time": "2022-03-28T15:18:14.445Z"
   },
   {
    "duration": 4,
    "start_time": "2022-03-28T15:18:16.868Z"
   },
   {
    "duration": 13,
    "start_time": "2022-03-28T15:18:31.540Z"
   },
   {
    "duration": 4,
    "start_time": "2022-03-28T15:18:57.115Z"
   },
   {
    "duration": 3,
    "start_time": "2022-03-28T15:19:22.936Z"
   },
   {
    "duration": 15,
    "start_time": "2022-03-28T15:21:08.835Z"
   },
   {
    "duration": 19,
    "start_time": "2022-03-28T15:21:22.671Z"
   },
   {
    "duration": 106,
    "start_time": "2022-03-28T15:22:18.683Z"
   },
   {
    "duration": 694,
    "start_time": "2022-03-28T15:23:55.361Z"
   },
   {
    "duration": 38,
    "start_time": "2022-03-28T15:24:43.010Z"
   },
   {
    "duration": 8,
    "start_time": "2022-03-28T15:24:48.293Z"
   },
   {
    "duration": 2,
    "start_time": "2022-03-28T15:25:02.181Z"
   },
   {
    "duration": 4,
    "start_time": "2022-03-28T15:25:32.709Z"
   },
   {
    "duration": 9,
    "start_time": "2022-03-28T15:26:04.649Z"
   },
   {
    "duration": 46,
    "start_time": "2022-03-28T15:27:29.143Z"
   },
   {
    "duration": 4,
    "start_time": "2022-03-28T15:28:14.758Z"
   },
   {
    "duration": 7,
    "start_time": "2022-03-28T15:29:08.376Z"
   },
   {
    "duration": 15,
    "start_time": "2022-03-28T15:32:21.929Z"
   },
   {
    "duration": 11,
    "start_time": "2022-03-28T15:32:38.740Z"
   },
   {
    "duration": 13,
    "start_time": "2022-03-28T15:32:52.590Z"
   },
   {
    "duration": 5,
    "start_time": "2022-03-28T15:33:33.429Z"
   },
   {
    "duration": 4,
    "start_time": "2022-03-28T15:33:51.379Z"
   },
   {
    "duration": 3,
    "start_time": "2022-03-28T15:36:02.305Z"
   },
   {
    "duration": 3,
    "start_time": "2022-03-28T15:36:44.103Z"
   },
   {
    "duration": 1097,
    "start_time": "2022-03-28T15:36:50.195Z"
   },
   {
    "duration": 59,
    "start_time": "2022-03-28T15:36:51.295Z"
   },
   {
    "duration": 5,
    "start_time": "2022-03-28T15:36:51.356Z"
   },
   {
    "duration": 8,
    "start_time": "2022-03-28T15:36:51.363Z"
   },
   {
    "duration": 33,
    "start_time": "2022-03-28T15:36:51.374Z"
   },
   {
    "duration": 10,
    "start_time": "2022-03-28T15:36:51.409Z"
   },
   {
    "duration": 6,
    "start_time": "2022-03-28T15:36:51.421Z"
   },
   {
    "duration": 8,
    "start_time": "2022-03-28T15:36:51.438Z"
   },
   {
    "duration": 3,
    "start_time": "2022-03-28T15:37:26.401Z"
   },
   {
    "duration": 128,
    "start_time": "2022-03-28T15:38:46.312Z"
   },
   {
    "duration": 21,
    "start_time": "2022-03-28T15:38:53.882Z"
   },
   {
    "duration": 4,
    "start_time": "2022-03-28T15:39:16.126Z"
   },
   {
    "duration": 15,
    "start_time": "2022-03-28T15:39:20.963Z"
   },
   {
    "duration": 23,
    "start_time": "2022-03-28T15:39:41.525Z"
   },
   {
    "duration": 46,
    "start_time": "2022-03-29T13:44:03.513Z"
   },
   {
    "duration": 1398,
    "start_time": "2022-03-29T13:44:11.182Z"
   },
   {
    "duration": 57,
    "start_time": "2022-03-29T13:44:12.583Z"
   },
   {
    "duration": 6,
    "start_time": "2022-03-29T13:44:12.642Z"
   },
   {
    "duration": 5,
    "start_time": "2022-03-29T13:44:12.650Z"
   },
   {
    "duration": 21,
    "start_time": "2022-03-29T13:44:12.657Z"
   },
   {
    "duration": 22,
    "start_time": "2022-03-29T13:44:12.679Z"
   },
   {
    "duration": 6,
    "start_time": "2022-03-29T13:44:12.703Z"
   },
   {
    "duration": 26,
    "start_time": "2022-03-29T13:44:12.711Z"
   },
   {
    "duration": 148,
    "start_time": "2022-03-29T13:44:12.739Z"
   },
   {
    "duration": 221,
    "start_time": "2022-03-29T13:44:33.446Z"
   },
   {
    "duration": 26,
    "start_time": "2022-03-29T13:44:36.335Z"
   },
   {
    "duration": 506,
    "start_time": "2022-03-29T13:45:46.534Z"
   },
   {
    "duration": 559,
    "start_time": "2022-03-29T13:46:15.935Z"
   },
   {
    "duration": 611,
    "start_time": "2022-03-29T13:49:02.083Z"
   },
   {
    "duration": 104,
    "start_time": "2022-03-29T13:49:43.467Z"
   },
   {
    "duration": 21,
    "start_time": "2022-03-29T13:52:25.849Z"
   },
   {
    "duration": 10,
    "start_time": "2022-03-29T13:52:31.628Z"
   },
   {
    "duration": 82,
    "start_time": "2022-03-29T13:52:46.553Z"
   },
   {
    "duration": 83,
    "start_time": "2022-03-29T13:52:56.231Z"
   },
   {
    "duration": 87,
    "start_time": "2022-03-29T13:54:34.282Z"
   },
   {
    "duration": 192,
    "start_time": "2022-03-29T13:55:49.810Z"
   },
   {
    "duration": 5,
    "start_time": "2022-03-29T13:56:58.217Z"
   },
   {
    "duration": 193,
    "start_time": "2022-03-29T13:58:08.594Z"
   },
   {
    "duration": 11,
    "start_time": "2022-03-29T13:58:48.616Z"
   },
   {
    "duration": 8,
    "start_time": "2022-03-29T13:58:52.246Z"
   },
   {
    "duration": 5,
    "start_time": "2022-03-29T13:59:07.950Z"
   },
   {
    "duration": 1190,
    "start_time": "2022-03-30T12:28:25.774Z"
   },
   {
    "duration": 70,
    "start_time": "2022-03-30T12:28:26.966Z"
   },
   {
    "duration": 4,
    "start_time": "2022-03-30T12:28:27.038Z"
   },
   {
    "duration": 7,
    "start_time": "2022-03-30T12:28:27.044Z"
   },
   {
    "duration": 21,
    "start_time": "2022-03-30T12:28:27.054Z"
   },
   {
    "duration": 11,
    "start_time": "2022-03-30T12:28:27.077Z"
   },
   {
    "duration": 4,
    "start_time": "2022-03-30T12:28:27.090Z"
   },
   {
    "duration": 52,
    "start_time": "2022-03-30T12:28:27.095Z"
   },
   {
    "duration": 84,
    "start_time": "2022-03-30T12:28:27.149Z"
   },
   {
    "duration": 660,
    "start_time": "2022-03-30T12:28:27.236Z"
   },
   {
    "duration": 602,
    "start_time": "2022-03-30T12:28:27.898Z"
   },
   {
    "duration": 113,
    "start_time": "2022-03-30T12:28:28.503Z"
   },
   {
    "duration": 115,
    "start_time": "2022-03-30T12:28:28.618Z"
   },
   {
    "duration": 6,
    "start_time": "2022-03-30T12:28:28.735Z"
   },
   {
    "duration": 9,
    "start_time": "2022-03-30T12:28:28.743Z"
   },
   {
    "duration": 6,
    "start_time": "2022-03-30T12:28:28.754Z"
   },
   {
    "duration": 112,
    "start_time": "2022-03-30T12:30:53.488Z"
   },
   {
    "duration": 25,
    "start_time": "2022-03-30T12:31:05.716Z"
   },
   {
    "duration": 79,
    "start_time": "2022-03-30T12:31:19.656Z"
   },
   {
    "duration": 24,
    "start_time": "2022-03-30T12:31:36.330Z"
   },
   {
    "duration": 291,
    "start_time": "2022-03-30T12:33:21.766Z"
   },
   {
    "duration": 11,
    "start_time": "2022-03-30T12:33:24.732Z"
   },
   {
    "duration": 588,
    "start_time": "2022-03-30T12:33:30.622Z"
   },
   {
    "duration": 619,
    "start_time": "2022-03-30T12:33:44.655Z"
   },
   {
    "duration": 475,
    "start_time": "2022-03-30T12:43:52.853Z"
   },
   {
    "duration": 3561,
    "start_time": "2022-03-30T12:44:14.890Z"
   },
   {
    "duration": 3546,
    "start_time": "2022-03-30T12:45:28.870Z"
   },
   {
    "duration": 2934,
    "start_time": "2022-03-30T12:47:37.851Z"
   },
   {
    "duration": 10,
    "start_time": "2022-03-30T12:50:56.074Z"
   },
   {
    "duration": 766,
    "start_time": "2022-03-30T12:51:03.787Z"
   },
   {
    "duration": 735,
    "start_time": "2022-03-30T12:51:28.367Z"
   },
   {
    "duration": 686,
    "start_time": "2022-03-30T12:51:50.763Z"
   },
   {
    "duration": 271,
    "start_time": "2022-03-30T12:51:55.176Z"
   },
   {
    "duration": 730,
    "start_time": "2022-03-30T12:52:09.274Z"
   },
   {
    "duration": 746,
    "start_time": "2022-03-30T12:55:02.565Z"
   },
   {
    "duration": 520,
    "start_time": "2022-03-30T12:59:08.629Z"
   },
   {
    "duration": 587,
    "start_time": "2022-03-30T12:59:35.835Z"
   },
   {
    "duration": 4,
    "start_time": "2022-03-30T13:01:59.136Z"
   },
   {
    "duration": 3,
    "start_time": "2022-03-30T13:04:39.167Z"
   },
   {
    "duration": 4,
    "start_time": "2022-03-30T13:04:47.405Z"
   },
   {
    "duration": 4,
    "start_time": "2022-03-30T13:04:56.407Z"
   },
   {
    "duration": 4,
    "start_time": "2022-03-30T13:04:58.890Z"
   },
   {
    "duration": 4,
    "start_time": "2022-03-30T13:05:00.900Z"
   },
   {
    "duration": 540,
    "start_time": "2022-03-30T13:05:31.316Z"
   },
   {
    "duration": 3,
    "start_time": "2022-03-30T13:05:35.643Z"
   },
   {
    "duration": 9,
    "start_time": "2022-03-30T13:05:54.935Z"
   },
   {
    "duration": 8,
    "start_time": "2022-03-30T13:05:59.837Z"
   },
   {
    "duration": 24,
    "start_time": "2022-03-30T13:06:04.877Z"
   },
   {
    "duration": 180,
    "start_time": "2022-03-30T13:10:56.611Z"
   },
   {
    "duration": 3519,
    "start_time": "2022-03-30T13:11:12.383Z"
   },
   {
    "duration": 734,
    "start_time": "2022-03-30T13:11:34.280Z"
   },
   {
    "duration": 796,
    "start_time": "2022-03-30T13:11:37.502Z"
   },
   {
    "duration": 1189,
    "start_time": "2022-03-30T13:11:43.678Z"
   },
   {
    "duration": 72,
    "start_time": "2022-03-30T13:11:44.869Z"
   },
   {
    "duration": 5,
    "start_time": "2022-03-30T13:11:44.943Z"
   },
   {
    "duration": 17,
    "start_time": "2022-03-30T13:11:44.950Z"
   },
   {
    "duration": 37,
    "start_time": "2022-03-30T13:11:44.969Z"
   },
   {
    "duration": 27,
    "start_time": "2022-03-30T13:11:45.008Z"
   },
   {
    "duration": 20,
    "start_time": "2022-03-30T13:11:45.037Z"
   },
   {
    "duration": 43,
    "start_time": "2022-03-30T13:11:45.060Z"
   },
   {
    "duration": 31,
    "start_time": "2022-03-30T13:11:45.105Z"
   },
   {
    "duration": 776,
    "start_time": "2022-03-30T13:11:45.139Z"
   },
   {
    "duration": 466,
    "start_time": "2022-03-30T13:11:45.917Z"
   },
   {
    "duration": 111,
    "start_time": "2022-03-30T13:11:46.385Z"
   },
   {
    "duration": 116,
    "start_time": "2022-03-30T13:11:46.499Z"
   },
   {
    "duration": 15,
    "start_time": "2022-03-30T13:11:46.617Z"
   },
   {
    "duration": 6,
    "start_time": "2022-03-30T13:11:46.634Z"
   },
   {
    "duration": 6,
    "start_time": "2022-03-30T13:11:46.642Z"
   },
   {
    "duration": 83,
    "start_time": "2022-03-30T13:11:46.650Z"
   },
   {
    "duration": 696,
    "start_time": "2022-03-30T13:11:46.735Z"
   },
   {
    "duration": 540,
    "start_time": "2022-03-30T13:11:47.432Z"
   },
   {
    "duration": 3,
    "start_time": "2022-03-30T13:11:47.975Z"
   },
   {
    "duration": 26,
    "start_time": "2022-03-30T13:11:47.981Z"
   },
   {
    "duration": 3563,
    "start_time": "2022-03-30T13:11:48.009Z"
   },
   {
    "duration": 2819,
    "start_time": "2022-03-30T13:11:51.574Z"
   },
   {
    "duration": 737,
    "start_time": "2022-03-30T13:11:54.396Z"
   },
   {
    "duration": 173,
    "start_time": "2022-03-30T13:13:54.863Z"
   },
   {
    "duration": 794,
    "start_time": "2022-03-30T13:14:10.798Z"
   },
   {
    "duration": 731,
    "start_time": "2022-03-30T13:14:26.892Z"
   },
   {
    "duration": 739,
    "start_time": "2022-03-30T13:14:30.757Z"
   },
   {
    "duration": 761,
    "start_time": "2022-03-30T13:15:03.633Z"
   },
   {
    "duration": 820,
    "start_time": "2022-03-30T13:15:08.705Z"
   },
   {
    "duration": 63,
    "start_time": "2022-03-30T13:19:34.906Z"
   },
   {
    "duration": 62,
    "start_time": "2022-03-30T13:20:45.498Z"
   },
   {
    "duration": 63,
    "start_time": "2022-03-30T13:20:48.373Z"
   },
   {
    "duration": 215,
    "start_time": "2022-03-30T13:22:43.694Z"
   },
   {
    "duration": 162,
    "start_time": "2022-03-30T13:24:12.341Z"
   },
   {
    "duration": 4,
    "start_time": "2022-03-31T19:12:05.638Z"
   },
   {
    "duration": 63,
    "start_time": "2022-03-31T19:12:05.668Z"
   },
   {
    "duration": 7,
    "start_time": "2022-03-31T19:12:05.733Z"
   },
   {
    "duration": 26,
    "start_time": "2022-03-31T19:12:05.743Z"
   },
   {
    "duration": 22,
    "start_time": "2022-03-31T19:12:05.771Z"
   },
   {
    "duration": 13,
    "start_time": "2022-03-31T19:12:05.796Z"
   },
   {
    "duration": 5,
    "start_time": "2022-03-31T19:12:05.812Z"
   },
   {
    "duration": 65,
    "start_time": "2022-03-31T19:12:05.820Z"
   },
   {
    "duration": 86,
    "start_time": "2022-03-31T19:12:05.887Z"
   },
   {
    "duration": 828,
    "start_time": "2022-03-31T19:12:05.975Z"
   },
   {
    "duration": 177,
    "start_time": "2022-03-31T19:12:06.806Z"
   },
   {
    "duration": 156,
    "start_time": "2022-03-31T19:12:06.985Z"
   },
   {
    "duration": 153,
    "start_time": "2022-03-31T19:12:07.144Z"
   },
   {
    "duration": 8,
    "start_time": "2022-03-31T19:12:07.299Z"
   },
   {
    "duration": 19,
    "start_time": "2022-03-31T19:12:07.309Z"
   },
   {
    "duration": 34,
    "start_time": "2022-03-31T19:12:07.334Z"
   },
   {
    "duration": 197,
    "start_time": "2022-03-31T19:12:07.371Z"
   },
   {
    "duration": 807,
    "start_time": "2022-03-31T19:12:07.571Z"
   },
   {
    "duration": 689,
    "start_time": "2022-03-31T19:12:08.380Z"
   },
   {
    "duration": 4,
    "start_time": "2022-03-31T19:12:09.072Z"
   },
   {
    "duration": 34,
    "start_time": "2022-03-31T19:12:09.078Z"
   },
   {
    "duration": 5372,
    "start_time": "2022-03-31T19:12:09.114Z"
   },
   {
    "duration": 4850,
    "start_time": "2022-03-31T19:12:14.489Z"
   },
   {
    "duration": 1327,
    "start_time": "2022-03-31T19:12:19.342Z"
   },
   {
    "duration": 99,
    "start_time": "2022-03-31T19:12:20.672Z"
   },
   {
    "duration": 147,
    "start_time": "2022-03-31T19:15:32.515Z"
   },
   {
    "duration": 117,
    "start_time": "2022-03-31T19:25:02.068Z"
   },
   {
    "duration": 956,
    "start_time": "2022-03-31T19:44:44.577Z"
   },
   {
    "duration": 959,
    "start_time": "2022-03-31T19:44:48.155Z"
   },
   {
    "duration": 71,
    "start_time": "2022-04-01T08:35:29.686Z"
   },
   {
    "duration": 1576,
    "start_time": "2022-04-01T08:35:35.488Z"
   },
   {
    "duration": 74,
    "start_time": "2022-04-01T08:35:37.067Z"
   },
   {
    "duration": 7,
    "start_time": "2022-04-01T08:35:37.143Z"
   },
   {
    "duration": 8,
    "start_time": "2022-04-01T08:35:37.152Z"
   },
   {
    "duration": 43,
    "start_time": "2022-04-01T08:35:37.163Z"
   },
   {
    "duration": 14,
    "start_time": "2022-04-01T08:35:37.208Z"
   },
   {
    "duration": 9,
    "start_time": "2022-04-01T08:35:37.224Z"
   },
   {
    "duration": 71,
    "start_time": "2022-04-01T08:35:37.235Z"
   },
   {
    "duration": 85,
    "start_time": "2022-04-01T08:35:37.308Z"
   },
   {
    "duration": 884,
    "start_time": "2022-04-01T08:35:37.486Z"
   },
   {
    "duration": 912,
    "start_time": "2022-04-01T08:35:38.374Z"
   },
   {
    "duration": 168,
    "start_time": "2022-04-01T08:35:39.289Z"
   },
   {
    "duration": 171,
    "start_time": "2022-04-01T08:35:39.460Z"
   },
   {
    "duration": 9,
    "start_time": "2022-04-01T08:35:39.635Z"
   },
   {
    "duration": 11,
    "start_time": "2022-04-01T08:35:39.646Z"
   },
   {
    "duration": 9,
    "start_time": "2022-04-01T08:35:39.684Z"
   },
   {
    "duration": 94,
    "start_time": "2022-04-01T08:35:39.695Z"
   },
   {
    "duration": 905,
    "start_time": "2022-04-01T08:35:39.793Z"
   },
   {
    "duration": 747,
    "start_time": "2022-04-01T08:35:40.700Z"
   },
   {
    "duration": 6,
    "start_time": "2022-04-01T08:35:41.449Z"
   },
   {
    "duration": 46,
    "start_time": "2022-04-01T08:35:41.458Z"
   },
   {
    "duration": 4874,
    "start_time": "2022-04-01T08:35:41.507Z"
   },
   {
    "duration": 3812,
    "start_time": "2022-04-01T08:35:46.384Z"
   },
   {
    "duration": 1026,
    "start_time": "2022-04-01T08:35:50.198Z"
   },
   {
    "duration": 77,
    "start_time": "2022-04-01T08:35:51.226Z"
   },
   {
    "duration": 8,
    "start_time": "2022-04-01T08:35:51.306Z"
   },
   {
    "duration": 9,
    "start_time": "2022-04-01T08:36:43.407Z"
   },
   {
    "duration": 9,
    "start_time": "2022-04-01T08:36:50.132Z"
   },
   {
    "duration": 9,
    "start_time": "2022-04-01T08:36:52.089Z"
   },
   {
    "duration": 9,
    "start_time": "2022-04-01T08:36:55.431Z"
   },
   {
    "duration": 7,
    "start_time": "2022-04-01T08:37:08.337Z"
   },
   {
    "duration": 338,
    "start_time": "2022-04-01T08:43:59.207Z"
   },
   {
    "duration": 6,
    "start_time": "2022-04-01T08:54:11.248Z"
   },
   {
    "duration": 7,
    "start_time": "2022-04-01T08:54:29.428Z"
   },
   {
    "duration": 175,
    "start_time": "2022-04-01T08:55:21.273Z"
   },
   {
    "duration": 23,
    "start_time": "2022-04-01T08:55:45.874Z"
   },
   {
    "duration": 6,
    "start_time": "2022-04-01T08:56:06.870Z"
   },
   {
    "duration": 14,
    "start_time": "2022-04-01T08:56:08.461Z"
   },
   {
    "duration": 33,
    "start_time": "2022-04-01T08:58:41.853Z"
   },
   {
    "duration": 66,
    "start_time": "2022-04-01T08:58:45.920Z"
   },
   {
    "duration": 25,
    "start_time": "2022-04-01T08:58:50.674Z"
   },
   {
    "duration": 23,
    "start_time": "2022-04-01T08:58:59.662Z"
   },
   {
    "duration": 363,
    "start_time": "2022-04-01T08:59:46.702Z"
   },
   {
    "duration": 357,
    "start_time": "2022-04-01T08:59:53.234Z"
   },
   {
    "duration": 122,
    "start_time": "2022-04-01T09:00:31.852Z"
   },
   {
    "duration": 6,
    "start_time": "2022-04-01T09:03:50.894Z"
   },
   {
    "duration": 16,
    "start_time": "2022-04-01T09:04:29.037Z"
   },
   {
    "duration": 16,
    "start_time": "2022-04-01T09:04:35.848Z"
   },
   {
    "duration": 130,
    "start_time": "2022-04-01T09:05:06.160Z"
   },
   {
    "duration": 1639,
    "start_time": "2022-04-01T09:05:32.328Z"
   },
   {
    "duration": 1561,
    "start_time": "2022-04-01T09:05:40.791Z"
   },
   {
    "duration": 86,
    "start_time": "2022-04-01T09:05:42.355Z"
   },
   {
    "duration": 6,
    "start_time": "2022-04-01T09:05:42.444Z"
   },
   {
    "duration": 8,
    "start_time": "2022-04-01T09:05:42.452Z"
   },
   {
    "duration": 29,
    "start_time": "2022-04-01T09:05:42.463Z"
   },
   {
    "duration": 13,
    "start_time": "2022-04-01T09:05:42.494Z"
   },
   {
    "duration": 4,
    "start_time": "2022-04-01T09:05:42.510Z"
   },
   {
    "duration": 46,
    "start_time": "2022-04-01T09:05:42.516Z"
   },
   {
    "duration": 121,
    "start_time": "2022-04-01T09:05:42.564Z"
   },
   {
    "duration": 1007,
    "start_time": "2022-04-01T09:05:42.688Z"
   },
   {
    "duration": 557,
    "start_time": "2022-04-01T09:05:43.697Z"
   },
   {
    "duration": 168,
    "start_time": "2022-04-01T09:05:44.257Z"
   },
   {
    "duration": 174,
    "start_time": "2022-04-01T09:05:44.427Z"
   },
   {
    "duration": 8,
    "start_time": "2022-04-01T09:05:44.605Z"
   },
   {
    "duration": 14,
    "start_time": "2022-04-01T09:05:44.615Z"
   },
   {
    "duration": 13,
    "start_time": "2022-04-01T09:05:44.631Z"
   },
   {
    "duration": 25,
    "start_time": "2022-04-01T09:05:44.646Z"
   },
   {
    "duration": 9,
    "start_time": "2022-04-01T09:05:44.683Z"
   },
   {
    "duration": 95,
    "start_time": "2022-04-01T09:05:44.694Z"
   },
   {
    "duration": 907,
    "start_time": "2022-04-01T09:05:44.792Z"
   },
   {
    "duration": 749,
    "start_time": "2022-04-01T09:05:45.701Z"
   },
   {
    "duration": 4,
    "start_time": "2022-04-01T09:05:46.452Z"
   },
   {
    "duration": 50,
    "start_time": "2022-04-01T09:05:46.458Z"
   },
   {
    "duration": 6,
    "start_time": "2022-04-01T09:05:46.510Z"
   },
   {
    "duration": 18,
    "start_time": "2022-04-01T09:05:46.518Z"
   },
   {
    "duration": 147,
    "start_time": "2022-04-01T09:05:46.538Z"
   },
   {
    "duration": 403,
    "start_time": "2022-04-01T09:05:46.688Z"
   },
   {
    "duration": 6,
    "start_time": "2022-04-01T09:05:47.093Z"
   },
   {
    "duration": 23,
    "start_time": "2022-04-01T09:05:47.101Z"
   },
   {
    "duration": 160,
    "start_time": "2022-04-01T09:05:47.127Z"
   },
   {
    "duration": 1759,
    "start_time": "2022-04-01T09:05:47.290Z"
   },
   {
    "duration": 4789,
    "start_time": "2022-04-01T09:05:49.052Z"
   },
   {
    "duration": 4023,
    "start_time": "2022-04-01T09:05:53.844Z"
   },
   {
    "duration": 1047,
    "start_time": "2022-04-01T09:05:57.869Z"
   },
   {
    "duration": 79,
    "start_time": "2022-04-01T09:05:58.918Z"
   },
   {
    "duration": 113,
    "start_time": "2022-04-01T09:06:29.224Z"
   },
   {
    "duration": 111,
    "start_time": "2022-04-01T09:06:34.043Z"
   },
   {
    "duration": 161,
    "start_time": "2022-04-01T09:07:32.777Z"
   },
   {
    "duration": 115,
    "start_time": "2022-04-01T09:09:43.230Z"
   },
   {
    "duration": 125,
    "start_time": "2022-04-01T09:12:24.973Z"
   },
   {
    "duration": 126,
    "start_time": "2022-04-01T09:13:36.594Z"
   },
   {
    "duration": 102,
    "start_time": "2022-04-01T09:14:43.295Z"
   },
   {
    "duration": 337,
    "start_time": "2022-04-01T09:15:15.868Z"
   },
   {
    "duration": 963,
    "start_time": "2022-04-01T09:15:30.972Z"
   },
   {
    "duration": 391,
    "start_time": "2022-04-01T09:15:35.893Z"
   },
   {
    "duration": 1028,
    "start_time": "2022-04-01T09:15:46.927Z"
   },
   {
    "duration": 3778,
    "start_time": "2022-04-01T09:16:51.378Z"
   },
   {
    "duration": 6,
    "start_time": "2022-04-01T09:17:45.011Z"
   },
   {
    "duration": 163,
    "start_time": "2022-04-01T09:23:20.810Z"
   },
   {
    "duration": 72390,
    "start_time": "2022-04-01T09:23:27.907Z"
   },
   {
    "duration": 618,
    "start_time": "2022-04-01T09:25:15.172Z"
   },
   {
    "duration": 636,
    "start_time": "2022-04-01T09:25:53.407Z"
   },
   {
    "duration": 1529,
    "start_time": "2022-04-01T09:26:33.829Z"
   },
   {
    "duration": 73,
    "start_time": "2022-04-01T09:26:35.361Z"
   },
   {
    "duration": 6,
    "start_time": "2022-04-01T09:26:35.437Z"
   },
   {
    "duration": 24,
    "start_time": "2022-04-01T09:26:35.446Z"
   },
   {
    "duration": 33,
    "start_time": "2022-04-01T09:26:35.475Z"
   },
   {
    "duration": 19,
    "start_time": "2022-04-01T09:26:35.511Z"
   },
   {
    "duration": 6,
    "start_time": "2022-04-01T09:26:35.532Z"
   },
   {
    "duration": 75,
    "start_time": "2022-04-01T09:26:35.540Z"
   },
   {
    "duration": 74,
    "start_time": "2022-04-01T09:26:35.617Z"
   },
   {
    "duration": 1091,
    "start_time": "2022-04-01T09:26:35.694Z"
   },
   {
    "duration": 624,
    "start_time": "2022-04-01T09:26:36.788Z"
   },
   {
    "duration": 171,
    "start_time": "2022-04-01T09:26:37.414Z"
   },
   {
    "duration": 163,
    "start_time": "2022-04-01T09:26:37.587Z"
   },
   {
    "duration": 7,
    "start_time": "2022-04-01T09:26:37.754Z"
   },
   {
    "duration": 25,
    "start_time": "2022-04-01T09:26:37.764Z"
   },
   {
    "duration": 9,
    "start_time": "2022-04-01T09:26:37.791Z"
   },
   {
    "duration": 8,
    "start_time": "2022-04-01T09:26:37.802Z"
   },
   {
    "duration": 15,
    "start_time": "2022-04-01T09:26:37.812Z"
   },
   {
    "duration": 156,
    "start_time": "2022-04-01T09:26:37.829Z"
   },
   {
    "duration": 884,
    "start_time": "2022-04-01T09:26:37.989Z"
   },
   {
    "duration": 729,
    "start_time": "2022-04-01T09:26:38.875Z"
   },
   {
    "duration": 5,
    "start_time": "2022-04-01T09:26:39.606Z"
   },
   {
    "duration": 49,
    "start_time": "2022-04-01T09:26:39.614Z"
   },
   {
    "duration": 6,
    "start_time": "2022-04-01T09:26:39.666Z"
   },
   {
    "duration": 16,
    "start_time": "2022-04-01T09:26:39.685Z"
   },
   {
    "duration": 20,
    "start_time": "2022-04-01T09:26:39.703Z"
   },
   {
    "duration": 546,
    "start_time": "2022-04-01T09:26:39.788Z"
   },
   {
    "duration": 5,
    "start_time": "2022-04-01T09:26:40.336Z"
   },
   {
    "duration": 21,
    "start_time": "2022-04-01T09:26:40.343Z"
   },
   {
    "duration": 123,
    "start_time": "2022-04-01T09:26:40.366Z"
   },
   {
    "duration": 1908,
    "start_time": "2022-04-01T09:26:40.493Z"
   },
   {
    "duration": 5164,
    "start_time": "2022-04-01T09:26:42.404Z"
   },
   {
    "duration": 3799,
    "start_time": "2022-04-01T09:26:47.570Z"
   },
   {
    "duration": 79450,
    "start_time": "2022-04-01T09:26:51.372Z"
   },
   {
    "duration": 773,
    "start_time": "2022-04-01T09:28:10.824Z"
   },
   {
    "duration": 0,
    "start_time": "2022-04-01T09:28:11.600Z"
   },
   {
    "duration": 1540,
    "start_time": "2022-04-01T09:35:22.219Z"
   },
   {
    "duration": 73,
    "start_time": "2022-04-01T09:35:23.761Z"
   },
   {
    "duration": 6,
    "start_time": "2022-04-01T09:35:23.836Z"
   },
   {
    "duration": 8,
    "start_time": "2022-04-01T09:35:23.844Z"
   },
   {
    "duration": 45,
    "start_time": "2022-04-01T09:35:23.855Z"
   },
   {
    "duration": 13,
    "start_time": "2022-04-01T09:35:23.902Z"
   },
   {
    "duration": 4,
    "start_time": "2022-04-01T09:35:23.917Z"
   },
   {
    "duration": 66,
    "start_time": "2022-04-01T09:35:23.923Z"
   },
   {
    "duration": 97,
    "start_time": "2022-04-01T09:35:23.991Z"
   },
   {
    "duration": 879,
    "start_time": "2022-04-01T09:35:24.091Z"
   },
   {
    "duration": 552,
    "start_time": "2022-04-01T09:35:24.972Z"
   },
   {
    "duration": 169,
    "start_time": "2022-04-01T09:35:25.526Z"
   },
   {
    "duration": 172,
    "start_time": "2022-04-01T09:35:25.698Z"
   },
   {
    "duration": 14,
    "start_time": "2022-04-01T09:35:25.874Z"
   },
   {
    "duration": 8,
    "start_time": "2022-04-01T09:35:25.890Z"
   },
   {
    "duration": 10,
    "start_time": "2022-04-01T09:35:25.900Z"
   },
   {
    "duration": 8,
    "start_time": "2022-04-01T09:35:25.912Z"
   },
   {
    "duration": 8,
    "start_time": "2022-04-01T09:35:25.922Z"
   },
   {
    "duration": 156,
    "start_time": "2022-04-01T09:35:25.932Z"
   },
   {
    "duration": 896,
    "start_time": "2022-04-01T09:35:26.091Z"
   },
   {
    "duration": 744,
    "start_time": "2022-04-01T09:35:26.990Z"
   },
   {
    "duration": 5,
    "start_time": "2022-04-01T09:35:27.736Z"
   },
   {
    "duration": 51,
    "start_time": "2022-04-01T09:35:27.743Z"
   },
   {
    "duration": 6,
    "start_time": "2022-04-01T09:35:27.796Z"
   },
   {
    "duration": 49,
    "start_time": "2022-04-01T09:35:27.804Z"
   },
   {
    "duration": 39,
    "start_time": "2022-04-01T09:35:27.855Z"
   },
   {
    "duration": 549,
    "start_time": "2022-04-01T09:35:27.896Z"
   },
   {
    "duration": 5,
    "start_time": "2022-04-01T09:35:28.447Z"
   },
   {
    "duration": 32,
    "start_time": "2022-04-01T09:35:28.454Z"
   },
   {
    "duration": 99,
    "start_time": "2022-04-01T09:35:28.488Z"
   },
   {
    "duration": 1830,
    "start_time": "2022-04-01T09:35:28.590Z"
   },
   {
    "duration": 4756,
    "start_time": "2022-04-01T09:35:30.422Z"
   },
   {
    "duration": 4088,
    "start_time": "2022-04-01T09:35:35.184Z"
   },
   {
    "duration": 10,
    "start_time": "2022-04-01T09:35:39.274Z"
   },
   {
    "duration": 680,
    "start_time": "2022-04-01T09:35:39.286Z"
   },
   {
    "duration": 52,
    "start_time": "2022-04-01T09:35:39.968Z"
   },
   {
    "duration": 1286,
    "start_time": "2022-04-01T10:27:38.849Z"
   },
   {
    "duration": 48,
    "start_time": "2022-04-01T10:27:40.137Z"
   },
   {
    "duration": 4,
    "start_time": "2022-04-01T10:27:40.186Z"
   },
   {
    "duration": 12,
    "start_time": "2022-04-01T10:27:40.192Z"
   },
   {
    "duration": 25,
    "start_time": "2022-04-01T10:27:40.206Z"
   },
   {
    "duration": 8,
    "start_time": "2022-04-01T10:27:40.233Z"
   },
   {
    "duration": 15,
    "start_time": "2022-04-01T10:27:40.243Z"
   },
   {
    "duration": 30,
    "start_time": "2022-04-01T10:27:40.259Z"
   },
   {
    "duration": 76,
    "start_time": "2022-04-01T10:27:40.290Z"
   },
   {
    "duration": 601,
    "start_time": "2022-04-01T10:27:40.368Z"
   },
   {
    "duration": 392,
    "start_time": "2022-04-01T10:27:40.971Z"
   },
   {
    "duration": 83,
    "start_time": "2022-04-01T10:27:41.364Z"
   },
   {
    "duration": 86,
    "start_time": "2022-04-01T10:27:41.462Z"
   },
   {
    "duration": 6,
    "start_time": "2022-04-01T10:27:41.563Z"
   },
   {
    "duration": 6,
    "start_time": "2022-04-01T10:27:41.571Z"
   },
   {
    "duration": 6,
    "start_time": "2022-04-01T10:27:41.578Z"
   },
   {
    "duration": 5,
    "start_time": "2022-04-01T10:27:41.586Z"
   },
   {
    "duration": 6,
    "start_time": "2022-04-01T10:27:41.593Z"
   },
   {
    "duration": 71,
    "start_time": "2022-04-01T10:27:41.600Z"
   },
   {
    "duration": 614,
    "start_time": "2022-04-01T10:27:41.673Z"
   },
   {
    "duration": 457,
    "start_time": "2022-04-01T10:27:42.288Z"
   },
   {
    "duration": 3,
    "start_time": "2022-04-01T10:27:42.747Z"
   },
   {
    "duration": 29,
    "start_time": "2022-04-01T10:27:42.751Z"
   },
   {
    "duration": 4,
    "start_time": "2022-04-01T10:27:42.781Z"
   },
   {
    "duration": 12,
    "start_time": "2022-04-01T10:27:42.786Z"
   },
   {
    "duration": 14,
    "start_time": "2022-04-01T10:27:42.799Z"
   },
   {
    "duration": 317,
    "start_time": "2022-04-01T10:27:42.868Z"
   },
   {
    "duration": 4,
    "start_time": "2022-04-01T10:27:43.187Z"
   },
   {
    "duration": 16,
    "start_time": "2022-04-01T10:27:43.192Z"
   },
   {
    "duration": 59,
    "start_time": "2022-04-01T10:27:43.209Z"
   },
   {
    "duration": 1046,
    "start_time": "2022-04-01T10:27:43.270Z"
   },
   {
    "duration": 2975,
    "start_time": "2022-04-01T10:27:44.317Z"
   },
   {
    "duration": 2393,
    "start_time": "2022-04-01T10:27:47.293Z"
   },
   {
    "duration": 2,
    "start_time": "2022-04-01T10:27:49.688Z"
   },
   {
    "duration": 445,
    "start_time": "2022-04-01T10:27:49.691Z"
   },
   {
    "duration": 39,
    "start_time": "2022-04-01T10:27:50.137Z"
   },
   {
    "duration": 10,
    "start_time": "2022-04-01T10:28:49.808Z"
   },
   {
    "duration": 617,
    "start_time": "2022-04-01T10:28:53.896Z"
   },
   {
    "duration": 793,
    "start_time": "2022-04-01T10:29:01.256Z"
   },
   {
    "duration": 597,
    "start_time": "2022-04-01T10:29:05.176Z"
   },
   {
    "duration": 6,
    "start_time": "2022-04-01T10:31:16.528Z"
   },
   {
    "duration": 20,
    "start_time": "2022-04-01T10:31:21.009Z"
   },
   {
    "duration": 12,
    "start_time": "2022-04-01T10:31:26.568Z"
   },
   {
    "duration": 6,
    "start_time": "2022-04-01T10:31:30.897Z"
   },
   {
    "duration": 6,
    "start_time": "2022-04-01T10:32:09.176Z"
   },
   {
    "duration": 400,
    "start_time": "2022-04-01T10:40:43.093Z"
   },
   {
    "duration": 33,
    "start_time": "2022-04-01T10:40:49.452Z"
   },
   {
    "duration": 1319,
    "start_time": "2022-04-01T10:41:02.259Z"
   },
   {
    "duration": 48,
    "start_time": "2022-04-01T10:41:03.580Z"
   },
   {
    "duration": 4,
    "start_time": "2022-04-01T10:41:03.630Z"
   },
   {
    "duration": 7,
    "start_time": "2022-04-01T10:41:03.635Z"
   },
   {
    "duration": 19,
    "start_time": "2022-04-01T10:41:03.644Z"
   },
   {
    "duration": 8,
    "start_time": "2022-04-01T10:41:03.665Z"
   },
   {
    "duration": 3,
    "start_time": "2022-04-01T10:41:03.675Z"
   },
   {
    "duration": 25,
    "start_time": "2022-04-01T10:41:03.679Z"
   },
   {
    "duration": 159,
    "start_time": "2022-04-01T10:41:03.706Z"
   },
   {
    "duration": 582,
    "start_time": "2022-04-01T10:41:03.867Z"
   },
   {
    "duration": 365,
    "start_time": "2022-04-01T10:41:04.451Z"
   },
   {
    "duration": 89,
    "start_time": "2022-04-01T10:41:04.817Z"
   },
   {
    "duration": 89,
    "start_time": "2022-04-01T10:41:04.908Z"
   },
   {
    "duration": 6,
    "start_time": "2022-04-01T10:41:05.001Z"
   },
   {
    "duration": 13,
    "start_time": "2022-04-01T10:41:05.009Z"
   },
   {
    "duration": 6,
    "start_time": "2022-04-01T10:41:05.024Z"
   },
   {
    "duration": 7,
    "start_time": "2022-04-01T10:41:05.032Z"
   },
   {
    "duration": 7,
    "start_time": "2022-04-01T10:41:05.062Z"
   },
   {
    "duration": 21,
    "start_time": "2022-04-01T10:41:05.071Z"
   },
   {
    "duration": 690,
    "start_time": "2022-04-01T10:41:05.164Z"
   },
   {
    "duration": 476,
    "start_time": "2022-04-01T10:41:05.855Z"
   },
   {
    "duration": 3,
    "start_time": "2022-04-01T10:41:06.333Z"
   },
   {
    "duration": 31,
    "start_time": "2022-04-01T10:41:06.338Z"
   },
   {
    "duration": 4,
    "start_time": "2022-04-01T10:41:06.370Z"
   },
   {
    "duration": 10,
    "start_time": "2022-04-01T10:41:06.376Z"
   },
   {
    "duration": 82,
    "start_time": "2022-04-01T10:41:06.387Z"
   },
   {
    "duration": 378,
    "start_time": "2022-04-01T10:41:06.471Z"
   },
   {
    "duration": 3,
    "start_time": "2022-04-01T10:41:06.851Z"
   },
   {
    "duration": 16,
    "start_time": "2022-04-01T10:41:06.856Z"
   },
   {
    "duration": 5,
    "start_time": "2022-04-01T10:41:06.873Z"
   },
   {
    "duration": 84,
    "start_time": "2022-04-01T10:41:06.880Z"
   },
   {
    "duration": 1071,
    "start_time": "2022-04-01T10:41:06.966Z"
   },
   {
    "duration": 2890,
    "start_time": "2022-04-01T10:41:08.039Z"
   },
   {
    "duration": 2310,
    "start_time": "2022-04-01T10:41:10.930Z"
   },
   {
    "duration": 2,
    "start_time": "2022-04-01T10:41:13.242Z"
   },
   {
    "duration": 418,
    "start_time": "2022-04-01T10:41:13.245Z"
   },
   {
    "duration": 30,
    "start_time": "2022-04-01T10:41:13.665Z"
   },
   {
    "duration": 408,
    "start_time": "2022-04-01T10:41:20.504Z"
   },
   {
    "duration": 436,
    "start_time": "2022-04-01T10:41:29.008Z"
   },
   {
    "duration": 69,
    "start_time": "2022-04-01T11:17:52.130Z"
   },
   {
    "duration": 1480,
    "start_time": "2022-04-01T11:17:58.394Z"
   },
   {
    "duration": 73,
    "start_time": "2022-04-01T11:17:59.877Z"
   },
   {
    "duration": 6,
    "start_time": "2022-04-01T11:17:59.952Z"
   },
   {
    "duration": 4,
    "start_time": "2022-04-01T11:17:59.969Z"
   },
   {
    "duration": 28,
    "start_time": "2022-04-01T11:17:59.976Z"
   },
   {
    "duration": 14,
    "start_time": "2022-04-01T11:18:00.006Z"
   },
   {
    "duration": 10,
    "start_time": "2022-04-01T11:18:00.022Z"
   },
   {
    "duration": 77,
    "start_time": "2022-04-01T11:18:00.034Z"
   },
   {
    "duration": 160,
    "start_time": "2022-04-01T11:18:00.114Z"
   },
   {
    "duration": 846,
    "start_time": "2022-04-01T11:18:00.280Z"
   },
   {
    "duration": 771,
    "start_time": "2022-04-01T11:18:01.128Z"
   },
   {
    "duration": 162,
    "start_time": "2022-04-01T11:18:01.902Z"
   },
   {
    "duration": 179,
    "start_time": "2022-04-01T11:18:02.068Z"
   },
   {
    "duration": 8,
    "start_time": "2022-04-01T11:18:02.249Z"
   },
   {
    "duration": 18,
    "start_time": "2022-04-01T11:18:02.268Z"
   },
   {
    "duration": 9,
    "start_time": "2022-04-01T11:18:02.288Z"
   },
   {
    "duration": 9,
    "start_time": "2022-04-01T11:18:02.299Z"
   },
   {
    "duration": 9,
    "start_time": "2022-04-01T11:18:02.311Z"
   },
   {
    "duration": 150,
    "start_time": "2022-04-01T11:18:02.323Z"
   },
   {
    "duration": 868,
    "start_time": "2022-04-01T11:18:02.476Z"
   },
   {
    "duration": 739,
    "start_time": "2022-04-01T11:18:03.347Z"
   },
   {
    "duration": 5,
    "start_time": "2022-04-01T11:18:04.088Z"
   },
   {
    "duration": 45,
    "start_time": "2022-04-01T11:18:04.095Z"
   },
   {
    "duration": 6,
    "start_time": "2022-04-01T11:18:04.142Z"
   },
   {
    "duration": 42,
    "start_time": "2022-04-01T11:18:04.150Z"
   },
   {
    "duration": 173,
    "start_time": "2022-04-01T11:18:04.195Z"
   },
   {
    "duration": 646,
    "start_time": "2022-04-01T11:18:04.370Z"
   },
   {
    "duration": 5,
    "start_time": "2022-04-01T11:18:05.021Z"
   },
   {
    "duration": 47,
    "start_time": "2022-04-01T11:18:05.029Z"
   },
   {
    "duration": 20,
    "start_time": "2022-04-01T11:18:05.079Z"
   },
   {
    "duration": 169,
    "start_time": "2022-04-01T11:18:05.101Z"
   },
   {
    "duration": 1492,
    "start_time": "2022-04-01T11:18:05.273Z"
   },
   {
    "duration": 6054,
    "start_time": "2022-04-01T11:18:06.767Z"
   },
   {
    "duration": 4828,
    "start_time": "2022-04-01T11:18:12.823Z"
   },
   {
    "duration": 14,
    "start_time": "2022-04-01T11:18:17.654Z"
   },
   {
    "duration": 651,
    "start_time": "2022-04-01T11:18:17.671Z"
   },
   {
    "duration": 56,
    "start_time": "2022-04-01T11:18:18.324Z"
   },
   {
    "duration": 44,
    "start_time": "2022-04-01T11:21:15.436Z"
   },
   {
    "duration": 100122,
    "start_time": "2022-04-01T11:22:59.765Z"
   },
   {
    "duration": 1259,
    "start_time": "2022-04-01T11:25:09.059Z"
   },
   {
    "duration": 1498,
    "start_time": "2022-04-01T11:25:28.294Z"
   },
   {
    "duration": 79,
    "start_time": "2022-04-01T11:25:29.795Z"
   },
   {
    "duration": 6,
    "start_time": "2022-04-01T11:25:29.876Z"
   },
   {
    "duration": 5,
    "start_time": "2022-04-01T11:25:29.885Z"
   },
   {
    "duration": 27,
    "start_time": "2022-04-01T11:25:29.893Z"
   },
   {
    "duration": 48,
    "start_time": "2022-04-01T11:25:29.922Z"
   },
   {
    "duration": 5,
    "start_time": "2022-04-01T11:25:29.972Z"
   },
   {
    "duration": 53,
    "start_time": "2022-04-01T11:25:29.979Z"
   },
   {
    "duration": 134,
    "start_time": "2022-04-01T11:25:30.034Z"
   },
   {
    "duration": 966,
    "start_time": "2022-04-01T11:25:30.174Z"
   },
   {
    "duration": 704,
    "start_time": "2022-04-01T11:25:31.142Z"
   },
   {
    "duration": 194,
    "start_time": "2022-04-01T11:25:31.850Z"
   },
   {
    "duration": 171,
    "start_time": "2022-04-01T11:25:32.047Z"
   },
   {
    "duration": 11,
    "start_time": "2022-04-01T11:25:32.220Z"
   },
   {
    "duration": 33,
    "start_time": "2022-04-01T11:25:32.234Z"
   },
   {
    "duration": 10,
    "start_time": "2022-04-01T11:25:32.270Z"
   },
   {
    "duration": 25,
    "start_time": "2022-04-01T11:25:32.282Z"
   },
   {
    "duration": 23,
    "start_time": "2022-04-01T11:25:32.309Z"
   },
   {
    "duration": 140,
    "start_time": "2022-04-01T11:25:32.335Z"
   },
   {
    "duration": 1142,
    "start_time": "2022-04-01T11:25:32.478Z"
   },
   {
    "duration": 945,
    "start_time": "2022-04-01T11:25:33.622Z"
   },
   {
    "duration": 6,
    "start_time": "2022-04-01T11:25:34.570Z"
   },
   {
    "duration": 61,
    "start_time": "2022-04-01T11:25:34.578Z"
   },
   {
    "duration": 9,
    "start_time": "2022-04-01T11:25:34.641Z"
   },
   {
    "duration": 30,
    "start_time": "2022-04-01T11:25:34.652Z"
   },
   {
    "duration": 90,
    "start_time": "2022-04-01T11:25:34.685Z"
   },
   {
    "duration": 503,
    "start_time": "2022-04-01T11:25:34.867Z"
   },
   {
    "duration": 7,
    "start_time": "2022-04-01T11:25:35.376Z"
   },
   {
    "duration": 31,
    "start_time": "2022-04-01T11:25:35.385Z"
   },
   {
    "duration": 14,
    "start_time": "2022-04-01T11:25:35.419Z"
   },
   {
    "duration": 143,
    "start_time": "2022-04-01T11:25:35.435Z"
   },
   {
    "duration": 999,
    "start_time": "2022-04-01T11:25:35.669Z"
   },
   {
    "duration": 4539,
    "start_time": "2022-04-01T11:25:36.670Z"
   },
   {
    "duration": 3701,
    "start_time": "2022-04-01T11:25:41.211Z"
   },
   {
    "duration": 4,
    "start_time": "2022-04-01T11:25:44.915Z"
   },
   {
    "duration": 1174,
    "start_time": "2022-04-01T11:25:44.922Z"
   },
   {
    "duration": 73,
    "start_time": "2022-04-01T11:25:46.099Z"
   },
   {
    "duration": 1134,
    "start_time": "2022-04-01T11:25:54.169Z"
   },
   {
    "duration": 112,
    "start_time": "2022-04-01T11:27:08.211Z"
   },
   {
    "duration": 14,
    "start_time": "2022-04-01T11:27:16.910Z"
   },
   {
    "duration": 891,
    "start_time": "2022-04-01T11:27:18.659Z"
   },
   {
    "duration": 13,
    "start_time": "2022-04-01T11:27:27.368Z"
   },
   {
    "duration": 764,
    "start_time": "2022-04-01T11:27:29.059Z"
   },
   {
    "duration": 910,
    "start_time": "2022-04-01T11:27:40.846Z"
   },
   {
    "duration": 138,
    "start_time": "2022-04-01T11:29:16.158Z"
   },
   {
    "duration": 77124,
    "start_time": "2022-04-01T11:31:26.012Z"
   },
   {
    "duration": 987,
    "start_time": "2022-04-01T11:32:47.887Z"
   },
   {
    "duration": 3,
    "start_time": "2022-04-01T11:33:32.419Z"
   },
   {
    "duration": 854,
    "start_time": "2022-04-01T11:33:35.553Z"
   },
   {
    "duration": 1551,
    "start_time": "2022-04-01T11:33:41.334Z"
   },
   {
    "duration": 71,
    "start_time": "2022-04-01T11:33:42.887Z"
   },
   {
    "duration": 11,
    "start_time": "2022-04-01T11:33:42.960Z"
   },
   {
    "duration": 6,
    "start_time": "2022-04-01T11:33:42.973Z"
   },
   {
    "duration": 28,
    "start_time": "2022-04-01T11:33:42.982Z"
   },
   {
    "duration": 15,
    "start_time": "2022-04-01T11:33:43.012Z"
   },
   {
    "duration": 43,
    "start_time": "2022-04-01T11:33:43.029Z"
   },
   {
    "duration": 41,
    "start_time": "2022-04-01T11:33:43.074Z"
   },
   {
    "duration": 61,
    "start_time": "2022-04-01T11:33:43.117Z"
   },
   {
    "duration": 841,
    "start_time": "2022-04-01T11:33:43.266Z"
   },
   {
    "duration": 497,
    "start_time": "2022-04-01T11:33:44.109Z"
   },
   {
    "duration": 166,
    "start_time": "2022-04-01T11:33:44.609Z"
   },
   {
    "duration": 157,
    "start_time": "2022-04-01T11:33:44.777Z"
   },
   {
    "duration": 7,
    "start_time": "2022-04-01T11:33:44.938Z"
   },
   {
    "duration": 21,
    "start_time": "2022-04-01T11:33:44.948Z"
   },
   {
    "duration": 8,
    "start_time": "2022-04-01T11:33:44.971Z"
   },
   {
    "duration": 8,
    "start_time": "2022-04-01T11:33:44.982Z"
   },
   {
    "duration": 8,
    "start_time": "2022-04-01T11:33:44.992Z"
   },
   {
    "duration": 81,
    "start_time": "2022-04-01T11:33:45.002Z"
   },
   {
    "duration": 854,
    "start_time": "2022-04-01T11:33:45.169Z"
   },
   {
    "duration": 702,
    "start_time": "2022-04-01T11:33:46.025Z"
   },
   {
    "duration": 5,
    "start_time": "2022-04-01T11:33:46.729Z"
   },
   {
    "duration": 51,
    "start_time": "2022-04-01T11:33:46.736Z"
   },
   {
    "duration": 5,
    "start_time": "2022-04-01T11:33:46.789Z"
   },
   {
    "duration": 17,
    "start_time": "2022-04-01T11:33:46.796Z"
   },
   {
    "duration": 60,
    "start_time": "2022-04-01T11:33:46.815Z"
   },
   {
    "duration": 355,
    "start_time": "2022-04-01T11:33:46.966Z"
   },
   {
    "duration": 6,
    "start_time": "2022-04-01T11:33:47.323Z"
   },
   {
    "duration": 15,
    "start_time": "2022-04-01T11:33:47.331Z"
   },
   {
    "duration": 23,
    "start_time": "2022-04-01T11:33:47.348Z"
   },
   {
    "duration": 99,
    "start_time": "2022-04-01T11:33:47.373Z"
   },
   {
    "duration": 869,
    "start_time": "2022-04-01T11:33:47.476Z"
   },
   {
    "duration": 4387,
    "start_time": "2022-04-01T11:33:48.347Z"
   },
   {
    "duration": 3495,
    "start_time": "2022-04-01T11:33:52.736Z"
   },
   {
    "duration": 3,
    "start_time": "2022-04-01T11:33:56.233Z"
   },
   {
    "duration": 931,
    "start_time": "2022-04-01T11:33:56.238Z"
   },
   {
    "duration": 53,
    "start_time": "2022-04-01T11:33:57.171Z"
   },
   {
    "duration": 902,
    "start_time": "2022-04-01T11:34:42.342Z"
   },
   {
    "duration": 14,
    "start_time": "2022-04-01T11:35:03.966Z"
   },
   {
    "duration": 7,
    "start_time": "2022-04-01T11:35:05.535Z"
   },
   {
    "duration": 953,
    "start_time": "2022-04-01T11:35:08.249Z"
   },
   {
    "duration": 1083,
    "start_time": "2022-04-01T11:35:14.368Z"
   },
   {
    "duration": 1478,
    "start_time": "2022-04-01T11:35:40.261Z"
   },
   {
    "duration": 71,
    "start_time": "2022-04-01T11:35:41.741Z"
   },
   {
    "duration": 6,
    "start_time": "2022-04-01T11:35:41.814Z"
   },
   {
    "duration": 5,
    "start_time": "2022-04-01T11:35:41.823Z"
   },
   {
    "duration": 49,
    "start_time": "2022-04-01T11:35:41.830Z"
   },
   {
    "duration": 13,
    "start_time": "2022-04-01T11:35:41.881Z"
   },
   {
    "duration": 4,
    "start_time": "2022-04-01T11:35:41.897Z"
   },
   {
    "duration": 35,
    "start_time": "2022-04-01T11:35:41.903Z"
   },
   {
    "duration": 132,
    "start_time": "2022-04-01T11:35:41.940Z"
   },
   {
    "duration": 816,
    "start_time": "2022-04-01T11:35:42.077Z"
   },
   {
    "duration": 511,
    "start_time": "2022-04-01T11:35:42.896Z"
   },
   {
    "duration": 175,
    "start_time": "2022-04-01T11:35:43.410Z"
   },
   {
    "duration": 167,
    "start_time": "2022-04-01T11:35:43.588Z"
   },
   {
    "duration": 15,
    "start_time": "2022-04-01T11:35:43.757Z"
   },
   {
    "duration": 8,
    "start_time": "2022-04-01T11:35:43.774Z"
   },
   {
    "duration": 7,
    "start_time": "2022-04-01T11:35:43.785Z"
   },
   {
    "duration": 7,
    "start_time": "2022-04-01T11:35:43.794Z"
   },
   {
    "duration": 7,
    "start_time": "2022-04-01T11:35:43.804Z"
   },
   {
    "duration": 159,
    "start_time": "2022-04-01T11:35:43.813Z"
   },
   {
    "duration": 827,
    "start_time": "2022-04-01T11:35:43.974Z"
   },
   {
    "duration": 702,
    "start_time": "2022-04-01T11:35:44.803Z"
   },
   {
    "duration": 5,
    "start_time": "2022-04-01T11:35:45.507Z"
   },
   {
    "duration": 34,
    "start_time": "2022-04-01T11:35:45.513Z"
   },
   {
    "duration": 22,
    "start_time": "2022-04-01T11:35:45.549Z"
   },
   {
    "duration": 18,
    "start_time": "2022-04-01T11:35:45.573Z"
   },
   {
    "duration": 78,
    "start_time": "2022-04-01T11:35:45.593Z"
   },
   {
    "duration": 452,
    "start_time": "2022-04-01T11:35:45.677Z"
   },
   {
    "duration": 5,
    "start_time": "2022-04-01T11:35:46.135Z"
   },
   {
    "duration": 29,
    "start_time": "2022-04-01T11:35:46.142Z"
   },
   {
    "duration": 8,
    "start_time": "2022-04-01T11:35:46.173Z"
   },
   {
    "duration": 89,
    "start_time": "2022-04-01T11:35:46.183Z"
   },
   {
    "duration": 1064,
    "start_time": "2022-04-01T11:35:46.275Z"
   },
   {
    "duration": 4379,
    "start_time": "2022-04-01T11:35:47.342Z"
   },
   {
    "duration": 3545,
    "start_time": "2022-04-01T11:35:51.724Z"
   },
   {
    "duration": 4,
    "start_time": "2022-04-01T11:35:55.271Z"
   },
   {
    "duration": 1150,
    "start_time": "2022-04-01T11:35:55.277Z"
   },
   {
    "duration": 66,
    "start_time": "2022-04-01T11:35:56.429Z"
   },
   {
    "duration": 13,
    "start_time": "2022-04-01T11:36:16.250Z"
   },
   {
    "duration": 805,
    "start_time": "2022-04-01T11:36:18.116Z"
   },
   {
    "duration": 906,
    "start_time": "2022-04-01T11:36:23.284Z"
   },
   {
    "duration": 1477,
    "start_time": "2022-04-01T11:38:57.371Z"
   },
   {
    "duration": 75,
    "start_time": "2022-04-01T11:38:58.851Z"
   },
   {
    "duration": 6,
    "start_time": "2022-04-01T11:38:58.928Z"
   },
   {
    "duration": 6,
    "start_time": "2022-04-01T11:38:58.937Z"
   },
   {
    "duration": 47,
    "start_time": "2022-04-01T11:38:58.945Z"
   },
   {
    "duration": 14,
    "start_time": "2022-04-01T11:38:58.994Z"
   },
   {
    "duration": 6,
    "start_time": "2022-04-01T11:38:59.010Z"
   },
   {
    "duration": 71,
    "start_time": "2022-04-01T11:38:59.018Z"
   },
   {
    "duration": 82,
    "start_time": "2022-04-01T11:38:59.091Z"
   },
   {
    "duration": 821,
    "start_time": "2022-04-01T11:38:59.178Z"
   },
   {
    "duration": 569,
    "start_time": "2022-04-01T11:39:00.001Z"
   },
   {
    "duration": 171,
    "start_time": "2022-04-01T11:39:00.572Z"
   },
   {
    "duration": 159,
    "start_time": "2022-04-01T11:39:00.745Z"
   },
   {
    "duration": 8,
    "start_time": "2022-04-01T11:39:00.906Z"
   },
   {
    "duration": 33,
    "start_time": "2022-04-01T11:39:00.916Z"
   },
   {
    "duration": 19,
    "start_time": "2022-04-01T11:39:00.952Z"
   },
   {
    "duration": 33,
    "start_time": "2022-04-01T11:39:00.974Z"
   },
   {
    "duration": 28,
    "start_time": "2022-04-01T11:39:01.009Z"
   },
   {
    "duration": 129,
    "start_time": "2022-04-01T11:39:01.039Z"
   },
   {
    "duration": 838,
    "start_time": "2022-04-01T11:39:01.176Z"
   },
   {
    "duration": 699,
    "start_time": "2022-04-01T11:39:02.016Z"
   },
   {
    "duration": 4,
    "start_time": "2022-04-01T11:39:02.718Z"
   },
   {
    "duration": 56,
    "start_time": "2022-04-01T11:39:02.724Z"
   },
   {
    "duration": 8,
    "start_time": "2022-04-01T11:39:02.782Z"
   },
   {
    "duration": 64,
    "start_time": "2022-04-01T11:39:02.792Z"
   },
   {
    "duration": 30,
    "start_time": "2022-04-01T11:39:02.859Z"
   },
   {
    "duration": 518,
    "start_time": "2022-04-01T11:39:02.891Z"
   },
   {
    "duration": 6,
    "start_time": "2022-04-01T11:39:03.414Z"
   },
   {
    "duration": 57,
    "start_time": "2022-04-01T11:39:03.422Z"
   },
   {
    "duration": 48,
    "start_time": "2022-04-01T11:39:03.481Z"
   },
   {
    "duration": 139,
    "start_time": "2022-04-01T11:39:03.531Z"
   },
   {
    "duration": 928,
    "start_time": "2022-04-01T11:39:03.674Z"
   },
   {
    "duration": 4399,
    "start_time": "2022-04-01T11:39:04.605Z"
   },
   {
    "duration": 3448,
    "start_time": "2022-04-01T11:39:09.007Z"
   },
   {
    "duration": 10,
    "start_time": "2022-04-01T11:39:12.458Z"
   },
   {
    "duration": 969,
    "start_time": "2022-04-01T11:39:12.470Z"
   },
   {
    "duration": 68,
    "start_time": "2022-04-01T11:39:13.441Z"
   },
   {
    "duration": 958,
    "start_time": "2022-04-01T11:40:04.868Z"
   },
   {
    "duration": 15,
    "start_time": "2022-04-01T11:40:13.848Z"
   },
   {
    "duration": 794,
    "start_time": "2022-04-01T11:40:16.285Z"
   },
   {
    "duration": 888,
    "start_time": "2022-04-01T11:40:25.453Z"
   },
   {
    "duration": 1478,
    "start_time": "2022-04-01T11:40:55.657Z"
   },
   {
    "duration": 75,
    "start_time": "2022-04-01T11:40:57.137Z"
   },
   {
    "duration": 6,
    "start_time": "2022-04-01T11:40:57.214Z"
   },
   {
    "duration": 5,
    "start_time": "2022-04-01T11:40:57.224Z"
   },
   {
    "duration": 51,
    "start_time": "2022-04-01T11:40:57.230Z"
   },
   {
    "duration": 13,
    "start_time": "2022-04-01T11:40:57.284Z"
   },
   {
    "duration": 5,
    "start_time": "2022-04-01T11:40:57.299Z"
   },
   {
    "duration": 65,
    "start_time": "2022-04-01T11:40:57.306Z"
   },
   {
    "duration": 100,
    "start_time": "2022-04-01T11:40:57.373Z"
   },
   {
    "duration": 836,
    "start_time": "2022-04-01T11:40:57.478Z"
   },
   {
    "duration": 521,
    "start_time": "2022-04-01T11:40:58.316Z"
   },
   {
    "duration": 158,
    "start_time": "2022-04-01T11:40:58.839Z"
   },
   {
    "duration": 155,
    "start_time": "2022-04-01T11:40:58.999Z"
   },
   {
    "duration": 17,
    "start_time": "2022-04-01T11:40:59.156Z"
   },
   {
    "duration": 9,
    "start_time": "2022-04-01T11:40:59.175Z"
   },
   {
    "duration": 8,
    "start_time": "2022-04-01T11:40:59.187Z"
   },
   {
    "duration": 7,
    "start_time": "2022-04-01T11:40:59.197Z"
   },
   {
    "duration": 7,
    "start_time": "2022-04-01T11:40:59.207Z"
   },
   {
    "duration": 154,
    "start_time": "2022-04-01T11:40:59.216Z"
   },
   {
    "duration": 828,
    "start_time": "2022-04-01T11:40:59.373Z"
   },
   {
    "duration": 717,
    "start_time": "2022-04-01T11:41:00.204Z"
   },
   {
    "duration": 6,
    "start_time": "2022-04-01T11:41:00.924Z"
   },
   {
    "duration": 52,
    "start_time": "2022-04-01T11:41:00.933Z"
   },
   {
    "duration": 6,
    "start_time": "2022-04-01T11:41:00.988Z"
   },
   {
    "duration": 17,
    "start_time": "2022-04-01T11:41:00.997Z"
   },
   {
    "duration": 152,
    "start_time": "2022-04-01T11:41:01.016Z"
   },
   {
    "duration": 352,
    "start_time": "2022-04-01T11:41:01.170Z"
   },
   {
    "duration": 5,
    "start_time": "2022-04-01T11:41:01.529Z"
   },
   {
    "duration": 33,
    "start_time": "2022-04-01T11:41:01.538Z"
   },
   {
    "duration": 9,
    "start_time": "2022-04-01T11:41:01.574Z"
   },
   {
    "duration": 91,
    "start_time": "2022-04-01T11:41:01.586Z"
   },
   {
    "duration": 900,
    "start_time": "2022-04-01T11:41:01.769Z"
   },
   {
    "duration": 4391,
    "start_time": "2022-04-01T11:41:02.672Z"
   },
   {
    "duration": 3492,
    "start_time": "2022-04-01T11:41:07.067Z"
   },
   {
    "duration": 8,
    "start_time": "2022-04-01T11:41:10.561Z"
   },
   {
    "duration": 37,
    "start_time": "2022-04-01T11:41:10.572Z"
   },
   {
    "duration": 917,
    "start_time": "2022-04-01T11:41:10.612Z"
   },
   {
    "duration": 63,
    "start_time": "2022-04-01T11:41:11.532Z"
   },
   {
    "duration": 14,
    "start_time": "2022-04-01T11:41:17.436Z"
   },
   {
    "duration": 910,
    "start_time": "2022-04-01T11:41:18.751Z"
   },
   {
    "duration": 13,
    "start_time": "2022-04-01T11:41:21.626Z"
   },
   {
    "duration": 886,
    "start_time": "2022-04-01T11:41:23.010Z"
   },
   {
    "duration": 15,
    "start_time": "2022-04-01T11:41:32.736Z"
   },
   {
    "duration": 804,
    "start_time": "2022-04-01T11:41:34.750Z"
   },
   {
    "duration": 900,
    "start_time": "2022-04-01T11:41:42.774Z"
   },
   {
    "duration": 1183,
    "start_time": "2022-04-01T12:01:08.327Z"
   },
   {
    "duration": 56,
    "start_time": "2022-04-01T12:01:09.512Z"
   },
   {
    "duration": 4,
    "start_time": "2022-04-01T12:01:09.570Z"
   },
   {
    "duration": 6,
    "start_time": "2022-04-01T12:01:09.575Z"
   },
   {
    "duration": 17,
    "start_time": "2022-04-01T12:01:09.583Z"
   },
   {
    "duration": 10,
    "start_time": "2022-04-01T12:01:09.602Z"
   },
   {
    "duration": 3,
    "start_time": "2022-04-01T12:01:09.614Z"
   },
   {
    "duration": 49,
    "start_time": "2022-04-01T12:01:09.619Z"
   },
   {
    "duration": 20,
    "start_time": "2022-04-01T12:01:09.670Z"
   },
   {
    "duration": 658,
    "start_time": "2022-04-01T12:01:09.692Z"
   },
   {
    "duration": 380,
    "start_time": "2022-04-01T12:01:10.351Z"
   },
   {
    "duration": 94,
    "start_time": "2022-04-01T12:01:10.733Z"
   },
   {
    "duration": 86,
    "start_time": "2022-04-01T12:01:10.828Z"
   },
   {
    "duration": 6,
    "start_time": "2022-04-01T12:01:10.917Z"
   },
   {
    "duration": 7,
    "start_time": "2022-04-01T12:01:10.924Z"
   },
   {
    "duration": 5,
    "start_time": "2022-04-01T12:01:10.932Z"
   },
   {
    "duration": 26,
    "start_time": "2022-04-01T12:01:10.938Z"
   },
   {
    "duration": 5,
    "start_time": "2022-04-01T12:01:10.965Z"
   },
   {
    "duration": 21,
    "start_time": "2022-04-01T12:01:10.972Z"
   },
   {
    "duration": 594,
    "start_time": "2022-04-01T12:01:11.065Z"
   },
   {
    "duration": 451,
    "start_time": "2022-04-01T12:01:11.662Z"
   },
   {
    "duration": 4,
    "start_time": "2022-04-01T12:01:12.115Z"
   },
   {
    "duration": 24,
    "start_time": "2022-04-01T12:01:12.120Z"
   },
   {
    "duration": 18,
    "start_time": "2022-04-01T12:01:12.145Z"
   },
   {
    "duration": 15,
    "start_time": "2022-04-01T12:01:12.164Z"
   },
   {
    "duration": 85,
    "start_time": "2022-04-01T12:01:12.180Z"
   },
   {
    "duration": 336,
    "start_time": "2022-04-01T12:01:12.267Z"
   },
   {
    "duration": 4,
    "start_time": "2022-04-01T12:01:12.604Z"
   },
   {
    "duration": 11,
    "start_time": "2022-04-01T12:01:12.610Z"
   },
   {
    "duration": 4,
    "start_time": "2022-04-01T12:01:12.623Z"
   },
   {
    "duration": 41,
    "start_time": "2022-04-01T12:01:12.629Z"
   },
   {
    "duration": 704,
    "start_time": "2022-04-01T12:01:12.672Z"
   },
   {
    "duration": 2949,
    "start_time": "2022-04-01T12:01:13.377Z"
   },
   {
    "duration": 2365,
    "start_time": "2022-04-01T12:01:16.328Z"
   },
   {
    "duration": 2,
    "start_time": "2022-04-01T12:01:18.694Z"
   },
   {
    "duration": 613,
    "start_time": "2022-04-01T12:01:18.698Z"
   },
   {
    "duration": 39,
    "start_time": "2022-04-01T12:01:19.313Z"
   },
   {
    "duration": 593,
    "start_time": "2022-04-01T12:01:25.118Z"
   },
   {
    "duration": 606,
    "start_time": "2022-04-01T12:02:28.877Z"
   },
   {
    "duration": 652,
    "start_time": "2022-04-01T12:02:31.086Z"
   },
   {
    "duration": 594,
    "start_time": "2022-04-01T12:02:35.678Z"
   },
   {
    "duration": 155,
    "start_time": "2022-04-01T12:06:22.398Z"
   },
   {
    "duration": 1214,
    "start_time": "2022-04-01T13:14:41.659Z"
   },
   {
    "duration": 71,
    "start_time": "2022-04-01T13:14:42.875Z"
   },
   {
    "duration": 5,
    "start_time": "2022-04-01T13:14:42.947Z"
   },
   {
    "duration": 6,
    "start_time": "2022-04-01T13:14:42.954Z"
   },
   {
    "duration": 21,
    "start_time": "2022-04-01T13:14:42.962Z"
   },
   {
    "duration": 11,
    "start_time": "2022-04-01T13:14:42.984Z"
   },
   {
    "duration": 3,
    "start_time": "2022-04-01T13:14:42.996Z"
   },
   {
    "duration": 51,
    "start_time": "2022-04-01T13:14:43.001Z"
   },
   {
    "duration": 81,
    "start_time": "2022-04-01T13:14:43.054Z"
   },
   {
    "duration": 663,
    "start_time": "2022-04-01T13:14:43.139Z"
   },
   {
    "duration": 606,
    "start_time": "2022-04-01T13:14:43.804Z"
   },
   {
    "duration": 109,
    "start_time": "2022-04-01T13:14:44.412Z"
   },
   {
    "duration": 117,
    "start_time": "2022-04-01T13:14:44.532Z"
   },
   {
    "duration": 7,
    "start_time": "2022-04-01T13:14:44.651Z"
   },
   {
    "duration": 9,
    "start_time": "2022-04-01T13:14:44.660Z"
   },
   {
    "duration": 9,
    "start_time": "2022-04-01T13:14:44.671Z"
   },
   {
    "duration": 9,
    "start_time": "2022-04-01T13:14:44.683Z"
   },
   {
    "duration": 7,
    "start_time": "2022-04-01T13:14:44.695Z"
   },
   {
    "duration": 102,
    "start_time": "2022-04-01T13:14:44.733Z"
   },
   {
    "duration": 606,
    "start_time": "2022-04-01T13:14:44.931Z"
   },
   {
    "duration": 534,
    "start_time": "2022-04-01T13:14:45.539Z"
   },
   {
    "duration": 3,
    "start_time": "2022-04-01T13:14:46.075Z"
   },
   {
    "duration": 28,
    "start_time": "2022-04-01T13:14:46.080Z"
   },
   {
    "duration": 4,
    "start_time": "2022-04-01T13:14:46.110Z"
   },
   {
    "duration": 28,
    "start_time": "2022-04-01T13:14:46.116Z"
   },
   {
    "duration": 86,
    "start_time": "2022-04-01T13:14:46.146Z"
   },
   {
    "duration": 371,
    "start_time": "2022-04-01T13:14:46.235Z"
   },
   {
    "duration": 4,
    "start_time": "2022-04-01T13:14:46.609Z"
   },
   {
    "duration": 23,
    "start_time": "2022-04-01T13:14:46.615Z"
   },
   {
    "duration": 5,
    "start_time": "2022-04-01T13:14:46.640Z"
   },
   {
    "duration": 85,
    "start_time": "2022-04-01T13:14:46.647Z"
   },
   {
    "duration": 718,
    "start_time": "2022-04-01T13:14:46.735Z"
   },
   {
    "duration": 3613,
    "start_time": "2022-04-01T13:14:47.455Z"
   },
   {
    "duration": 2892,
    "start_time": "2022-04-01T13:14:51.070Z"
   },
   {
    "duration": 2,
    "start_time": "2022-04-01T13:14:53.964Z"
   },
   {
    "duration": 742,
    "start_time": "2022-04-01T13:14:53.968Z"
   },
   {
    "duration": 63,
    "start_time": "2022-04-01T13:14:54.712Z"
   },
   {
    "duration": 194,
    "start_time": "2022-04-01T19:24:49.944Z"
   },
   {
    "duration": 1073,
    "start_time": "2022-04-22T17:44:53.565Z"
   },
   {
    "duration": 55,
    "start_time": "2022-04-22T17:44:54.640Z"
   },
   {
    "duration": 4,
    "start_time": "2022-04-22T17:44:54.697Z"
   },
   {
    "duration": 5,
    "start_time": "2022-04-22T17:44:54.703Z"
   },
   {
    "duration": 24,
    "start_time": "2022-04-22T17:44:54.709Z"
   },
   {
    "duration": 12,
    "start_time": "2022-04-22T17:44:54.734Z"
   },
   {
    "duration": 4,
    "start_time": "2022-04-22T17:44:54.747Z"
   },
   {
    "duration": 27,
    "start_time": "2022-04-22T17:44:54.752Z"
   },
   {
    "duration": 45,
    "start_time": "2022-04-22T17:44:54.780Z"
   },
   {
    "duration": 697,
    "start_time": "2022-04-22T17:44:54.828Z"
   },
   {
    "duration": 491,
    "start_time": "2022-04-22T17:44:55.526Z"
   },
   {
    "duration": 100,
    "start_time": "2022-04-22T17:44:56.018Z"
   },
   {
    "duration": 98,
    "start_time": "2022-04-22T17:44:56.120Z"
   },
   {
    "duration": 5,
    "start_time": "2022-04-22T17:44:56.220Z"
   },
   {
    "duration": 6,
    "start_time": "2022-04-22T17:44:56.226Z"
   },
   {
    "duration": 5,
    "start_time": "2022-04-22T17:44:56.234Z"
   },
   {
    "duration": 5,
    "start_time": "2022-04-22T17:44:56.241Z"
   },
   {
    "duration": 6,
    "start_time": "2022-04-22T17:44:56.247Z"
   },
   {
    "duration": 156,
    "start_time": "2022-04-22T17:44:56.254Z"
   },
   {
    "duration": 611,
    "start_time": "2022-04-22T17:44:56.412Z"
   },
   {
    "duration": 484,
    "start_time": "2022-04-22T17:44:57.025Z"
   },
   {
    "duration": 3,
    "start_time": "2022-04-22T17:44:57.511Z"
   },
   {
    "duration": 25,
    "start_time": "2022-04-22T17:44:57.516Z"
   },
   {
    "duration": 4,
    "start_time": "2022-04-22T17:44:57.542Z"
   },
   {
    "duration": 12,
    "start_time": "2022-04-22T17:44:57.548Z"
   },
   {
    "duration": 51,
    "start_time": "2022-04-22T17:44:57.561Z"
   },
   {
    "duration": 331,
    "start_time": "2022-04-22T17:44:57.614Z"
   },
   {
    "duration": 4,
    "start_time": "2022-04-22T17:44:57.949Z"
   },
   {
    "duration": 11,
    "start_time": "2022-04-22T17:44:57.954Z"
   },
   {
    "duration": 5,
    "start_time": "2022-04-22T17:44:57.966Z"
   },
   {
    "duration": 46,
    "start_time": "2022-04-22T17:44:57.972Z"
   },
   {
    "duration": 718,
    "start_time": "2022-04-22T17:44:58.020Z"
   },
   {
    "duration": 3205,
    "start_time": "2022-04-22T17:44:58.739Z"
   },
   {
    "duration": 2583,
    "start_time": "2022-04-22T17:45:01.946Z"
   },
   {
    "duration": 55245,
    "start_time": "2022-04-22T17:45:04.530Z"
   },
   {
    "duration": 640,
    "start_time": "2022-04-22T17:45:59.777Z"
   },
   {
    "duration": 45,
    "start_time": "2022-04-22T17:46:00.418Z"
   }
  ],
  "kernelspec": {
   "display_name": "Python 3 (ipykernel)",
   "language": "python",
   "name": "python3"
  },
  "language_info": {
   "codemirror_mode": {
    "name": "ipython",
    "version": 3
   },
   "file_extension": ".py",
   "mimetype": "text/x-python",
   "name": "python",
   "nbconvert_exporter": "python",
   "pygments_lexer": "ipython3",
   "version": "3.9.5"
  },
  "toc": {
   "base_numbering": 1,
   "nav_menu": {},
   "number_sections": true,
   "sideBar": true,
   "skip_h1_title": true,
   "title_cell": "Содержание",
   "title_sidebar": "Contents",
   "toc_cell": true,
   "toc_position": {},
   "toc_section_display": true,
   "toc_window_display": true
  }
 },
 "nbformat": 4,
 "nbformat_minor": 2
}
