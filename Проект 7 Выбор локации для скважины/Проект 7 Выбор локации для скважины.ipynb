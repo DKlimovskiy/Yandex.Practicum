{
 "cells": [
  {
   "cell_type": "markdown",
   "metadata": {
    "toc": true
   },
   "source": [
    "<h1>Содержание<span class=\"tocSkip\"></span></h1>\n",
    "<div class=\"toc\"><ul class=\"toc-item\"><li><span><a href=\"#Загрузка-и-подготовка-данных\" data-toc-modified-id=\"Загрузка-и-подготовка-данных-1\"><span class=\"toc-item-num\">1&nbsp;&nbsp;</span>Загрузка и подготовка данных</a></span></li><li><span><a href=\"#Обучение-и-проверка-модели\" data-toc-modified-id=\"Обучение-и-проверка-модели-2\"><span class=\"toc-item-num\">2&nbsp;&nbsp;</span>Обучение и проверка модели</a></span></li><li><span><a href=\"#Подготовка-к-расчёту-прибыли\" data-toc-modified-id=\"Подготовка-к-расчёту-прибыли-3\"><span class=\"toc-item-num\">3&nbsp;&nbsp;</span>Подготовка к расчёту прибыли</a></span></li><li><span><a href=\"#Расчёт-прибыли-и-рисков\" data-toc-modified-id=\"Расчёт-прибыли-и-рисков-4\"><span class=\"toc-item-num\">4&nbsp;&nbsp;</span>Расчёт прибыли и рисков</a></span></li></ul></div>"
   ]
  },
  {
   "cell_type": "markdown",
   "metadata": {},
   "source": [
    "# Выбор локации для скважины"
   ]
  },
  {
   "cell_type": "markdown",
   "metadata": {},
   "source": [
    "Допустим, вы работаете в добывающей компании «ГлавРосГосНефть». Нужно решить, где бурить новую скважину.\n",
    "\n",
    "Вам предоставлены пробы нефти в трёх регионах: в каждом 10 000 месторождений, где измерили качество нефти и объём её запасов. Постройте модель машинного обучения, которая поможет определить регион, где добыча принесёт наибольшую прибыль. Проанализируйте возможную прибыль и риски техникой *Bootstrap.*\n",
    "\n",
    "Шаги для выбора локации:\n",
    "\n",
    "- В избранном регионе ищут месторождения, для каждого определяют значения признаков;\n",
    "- Строят модель и оценивают объём запасов;\n",
    "- Выбирают месторождения с самым высокими оценками значений. Количество месторождений зависит от бюджета компании и стоимости разработки одной скважины;\n",
    "- Прибыль равна суммарной прибыли отобранных месторождений."
   ]
  },
  {
   "cell_type": "markdown",
   "metadata": {},
   "source": [
    "# Описание данных"
   ]
  },
  {
   "cell_type": "markdown",
   "metadata": {},
   "source": [
    "* id — уникальный идентификатор скважины;\n",
    "* f0, f1, f2 — три признака точек;\n",
    "* product — объём запасов в скважине (тыс. баррелей)."
   ]
  },
  {
   "cell_type": "markdown",
   "metadata": {},
   "source": [
    "# Условия задачи\n",
    "\n",
    "* Для обучения модели подходит только линейная регрессия (остальные — недостаточно предсказуемые).\n",
    "* При разведке региона исследуют 500 точек, из которых с помощью машинного обучения выбирают 200 лучших для разработки.\n",
    "* Бюджет на разработку скважин в регионе — 10 млрд рублей.\n",
    "* При нынешних ценах один баррель сырья приносит 450 рублей дохода. Доход с каждой единицы продукта составляет 450 тыс. рублей, поскольку объём указан в тысячах баррелей.\n",
    "* После оценки рисков нужно оставить лишь те регионы, в которых вероятность убытков меньше 2.5%. Среди них выбирают регион с наибольшей средней прибылью."
   ]
  },
  {
   "cell_type": "markdown",
   "metadata": {},
   "source": [
    "## Загрузка и подготовка данных"
   ]
  },
  {
   "cell_type": "markdown",
   "metadata": {},
   "source": [
    "Имортируем нужные библиотеки."
   ]
  },
  {
   "cell_type": "code",
   "execution_count": 1,
   "metadata": {},
   "outputs": [],
   "source": [
    "import numpy as np\n",
    "import pandas as pd\n",
    "from scipy import stats as st\n",
    "from sklearn.model_selection import train_test_split\n",
    "from sklearn.linear_model import LinearRegression\n",
    "from sklearn.metrics import mean_squared_error, accuracy_score"
   ]
  },
  {
   "cell_type": "markdown",
   "metadata": {},
   "source": [
    "Откроем и просмотрим данные."
   ]
  },
  {
   "cell_type": "code",
   "execution_count": 2,
   "metadata": {},
   "outputs": [
    {
     "name": "stdout",
     "output_type": "stream",
     "text": [
      "<class 'pandas.core.frame.DataFrame'>\n",
      "RangeIndex: 100000 entries, 0 to 99999\n",
      "Data columns (total 5 columns):\n",
      " #   Column   Non-Null Count   Dtype  \n",
      "---  ------   --------------   -----  \n",
      " 0   id       100000 non-null  object \n",
      " 1   f0       100000 non-null  float64\n",
      " 2   f1       100000 non-null  float64\n",
      " 3   f2       100000 non-null  float64\n",
      " 4   product  100000 non-null  float64\n",
      "dtypes: float64(4), object(1)\n",
      "memory usage: 3.8+ MB\n"
     ]
    },
    {
     "data": {
      "text/html": [
       "<div>\n",
       "<style scoped>\n",
       "    .dataframe tbody tr th:only-of-type {\n",
       "        vertical-align: middle;\n",
       "    }\n",
       "\n",
       "    .dataframe tbody tr th {\n",
       "        vertical-align: top;\n",
       "    }\n",
       "\n",
       "    .dataframe thead th {\n",
       "        text-align: right;\n",
       "    }\n",
       "</style>\n",
       "<table border=\"1\" class=\"dataframe\">\n",
       "  <thead>\n",
       "    <tr style=\"text-align: right;\">\n",
       "      <th></th>\n",
       "      <th>id</th>\n",
       "      <th>f0</th>\n",
       "      <th>f1</th>\n",
       "      <th>f2</th>\n",
       "      <th>product</th>\n",
       "    </tr>\n",
       "  </thead>\n",
       "  <tbody>\n",
       "    <tr>\n",
       "      <th>0</th>\n",
       "      <td>txEyH</td>\n",
       "      <td>0.705745</td>\n",
       "      <td>-0.497823</td>\n",
       "      <td>1.221170</td>\n",
       "      <td>105.280062</td>\n",
       "    </tr>\n",
       "    <tr>\n",
       "      <th>1</th>\n",
       "      <td>2acmU</td>\n",
       "      <td>1.334711</td>\n",
       "      <td>-0.340164</td>\n",
       "      <td>4.365080</td>\n",
       "      <td>73.037750</td>\n",
       "    </tr>\n",
       "    <tr>\n",
       "      <th>2</th>\n",
       "      <td>409Wp</td>\n",
       "      <td>1.022732</td>\n",
       "      <td>0.151990</td>\n",
       "      <td>1.419926</td>\n",
       "      <td>85.265647</td>\n",
       "    </tr>\n",
       "    <tr>\n",
       "      <th>3</th>\n",
       "      <td>iJLyR</td>\n",
       "      <td>-0.032172</td>\n",
       "      <td>0.139033</td>\n",
       "      <td>2.978566</td>\n",
       "      <td>168.620776</td>\n",
       "    </tr>\n",
       "    <tr>\n",
       "      <th>4</th>\n",
       "      <td>Xdl7t</td>\n",
       "      <td>1.988431</td>\n",
       "      <td>0.155413</td>\n",
       "      <td>4.751769</td>\n",
       "      <td>154.036647</td>\n",
       "    </tr>\n",
       "    <tr>\n",
       "      <th>5</th>\n",
       "      <td>wX4Hy</td>\n",
       "      <td>0.969570</td>\n",
       "      <td>0.489775</td>\n",
       "      <td>-0.735383</td>\n",
       "      <td>64.741541</td>\n",
       "    </tr>\n",
       "    <tr>\n",
       "      <th>6</th>\n",
       "      <td>tL6pL</td>\n",
       "      <td>0.645075</td>\n",
       "      <td>0.530656</td>\n",
       "      <td>1.780266</td>\n",
       "      <td>49.055285</td>\n",
       "    </tr>\n",
       "    <tr>\n",
       "      <th>7</th>\n",
       "      <td>BYPU6</td>\n",
       "      <td>-0.400648</td>\n",
       "      <td>0.808337</td>\n",
       "      <td>-5.624670</td>\n",
       "      <td>72.943292</td>\n",
       "    </tr>\n",
       "    <tr>\n",
       "      <th>8</th>\n",
       "      <td>j9Oui</td>\n",
       "      <td>0.643105</td>\n",
       "      <td>-0.551583</td>\n",
       "      <td>2.372141</td>\n",
       "      <td>113.356160</td>\n",
       "    </tr>\n",
       "    <tr>\n",
       "      <th>9</th>\n",
       "      <td>OLuZU</td>\n",
       "      <td>2.173381</td>\n",
       "      <td>0.563698</td>\n",
       "      <td>9.441852</td>\n",
       "      <td>127.910945</td>\n",
       "    </tr>\n",
       "  </tbody>\n",
       "</table>\n",
       "</div>"
      ],
      "text/plain": [
       "      id        f0        f1        f2     product\n",
       "0  txEyH  0.705745 -0.497823  1.221170  105.280062\n",
       "1  2acmU  1.334711 -0.340164  4.365080   73.037750\n",
       "2  409Wp  1.022732  0.151990  1.419926   85.265647\n",
       "3  iJLyR -0.032172  0.139033  2.978566  168.620776\n",
       "4  Xdl7t  1.988431  0.155413  4.751769  154.036647\n",
       "5  wX4Hy  0.969570  0.489775 -0.735383   64.741541\n",
       "6  tL6pL  0.645075  0.530656  1.780266   49.055285\n",
       "7  BYPU6 -0.400648  0.808337 -5.624670   72.943292\n",
       "8  j9Oui  0.643105 -0.551583  2.372141  113.356160\n",
       "9  OLuZU  2.173381  0.563698  9.441852  127.910945"
      ]
     },
     "execution_count": 2,
     "metadata": {},
     "output_type": "execute_result"
    }
   ],
   "source": [
    "df1 = pd.read_csv('/datasets/geo_data_0.csv')\n",
    "df1.info()\n",
    "df1.head(10)"
   ]
  },
  {
   "cell_type": "code",
   "execution_count": 3,
   "metadata": {},
   "outputs": [
    {
     "name": "stdout",
     "output_type": "stream",
     "text": [
      "<class 'pandas.core.frame.DataFrame'>\n",
      "RangeIndex: 100000 entries, 0 to 99999\n",
      "Data columns (total 5 columns):\n",
      " #   Column   Non-Null Count   Dtype  \n",
      "---  ------   --------------   -----  \n",
      " 0   id       100000 non-null  object \n",
      " 1   f0       100000 non-null  float64\n",
      " 2   f1       100000 non-null  float64\n",
      " 3   f2       100000 non-null  float64\n",
      " 4   product  100000 non-null  float64\n",
      "dtypes: float64(4), object(1)\n",
      "memory usage: 3.8+ MB\n"
     ]
    },
    {
     "data": {
      "text/html": [
       "<div>\n",
       "<style scoped>\n",
       "    .dataframe tbody tr th:only-of-type {\n",
       "        vertical-align: middle;\n",
       "    }\n",
       "\n",
       "    .dataframe tbody tr th {\n",
       "        vertical-align: top;\n",
       "    }\n",
       "\n",
       "    .dataframe thead th {\n",
       "        text-align: right;\n",
       "    }\n",
       "</style>\n",
       "<table border=\"1\" class=\"dataframe\">\n",
       "  <thead>\n",
       "    <tr style=\"text-align: right;\">\n",
       "      <th></th>\n",
       "      <th>id</th>\n",
       "      <th>f0</th>\n",
       "      <th>f1</th>\n",
       "      <th>f2</th>\n",
       "      <th>product</th>\n",
       "    </tr>\n",
       "  </thead>\n",
       "  <tbody>\n",
       "    <tr>\n",
       "      <th>0</th>\n",
       "      <td>kBEdx</td>\n",
       "      <td>-15.001348</td>\n",
       "      <td>-8.276000</td>\n",
       "      <td>-0.005876</td>\n",
       "      <td>3.179103</td>\n",
       "    </tr>\n",
       "    <tr>\n",
       "      <th>1</th>\n",
       "      <td>62mP7</td>\n",
       "      <td>14.272088</td>\n",
       "      <td>-3.475083</td>\n",
       "      <td>0.999183</td>\n",
       "      <td>26.953261</td>\n",
       "    </tr>\n",
       "    <tr>\n",
       "      <th>2</th>\n",
       "      <td>vyE1P</td>\n",
       "      <td>6.263187</td>\n",
       "      <td>-5.948386</td>\n",
       "      <td>5.001160</td>\n",
       "      <td>134.766305</td>\n",
       "    </tr>\n",
       "    <tr>\n",
       "      <th>3</th>\n",
       "      <td>KcrkZ</td>\n",
       "      <td>-13.081196</td>\n",
       "      <td>-11.506057</td>\n",
       "      <td>4.999415</td>\n",
       "      <td>137.945408</td>\n",
       "    </tr>\n",
       "    <tr>\n",
       "      <th>4</th>\n",
       "      <td>AHL4O</td>\n",
       "      <td>12.702195</td>\n",
       "      <td>-8.147433</td>\n",
       "      <td>5.004363</td>\n",
       "      <td>134.766305</td>\n",
       "    </tr>\n",
       "    <tr>\n",
       "      <th>5</th>\n",
       "      <td>HHckp</td>\n",
       "      <td>-3.327590</td>\n",
       "      <td>-2.205276</td>\n",
       "      <td>3.003647</td>\n",
       "      <td>84.038886</td>\n",
       "    </tr>\n",
       "    <tr>\n",
       "      <th>6</th>\n",
       "      <td>h5Ujo</td>\n",
       "      <td>-11.142655</td>\n",
       "      <td>-10.133399</td>\n",
       "      <td>4.002382</td>\n",
       "      <td>110.992147</td>\n",
       "    </tr>\n",
       "    <tr>\n",
       "      <th>7</th>\n",
       "      <td>muH9x</td>\n",
       "      <td>4.234715</td>\n",
       "      <td>-0.001354</td>\n",
       "      <td>2.004588</td>\n",
       "      <td>53.906522</td>\n",
       "    </tr>\n",
       "    <tr>\n",
       "      <th>8</th>\n",
       "      <td>YiRkx</td>\n",
       "      <td>13.355129</td>\n",
       "      <td>-0.332068</td>\n",
       "      <td>4.998647</td>\n",
       "      <td>134.766305</td>\n",
       "    </tr>\n",
       "    <tr>\n",
       "      <th>9</th>\n",
       "      <td>jG6Gi</td>\n",
       "      <td>1.069227</td>\n",
       "      <td>-11.025667</td>\n",
       "      <td>4.997844</td>\n",
       "      <td>137.945408</td>\n",
       "    </tr>\n",
       "  </tbody>\n",
       "</table>\n",
       "</div>"
      ],
      "text/plain": [
       "      id         f0         f1        f2     product\n",
       "0  kBEdx -15.001348  -8.276000 -0.005876    3.179103\n",
       "1  62mP7  14.272088  -3.475083  0.999183   26.953261\n",
       "2  vyE1P   6.263187  -5.948386  5.001160  134.766305\n",
       "3  KcrkZ -13.081196 -11.506057  4.999415  137.945408\n",
       "4  AHL4O  12.702195  -8.147433  5.004363  134.766305\n",
       "5  HHckp  -3.327590  -2.205276  3.003647   84.038886\n",
       "6  h5Ujo -11.142655 -10.133399  4.002382  110.992147\n",
       "7  muH9x   4.234715  -0.001354  2.004588   53.906522\n",
       "8  YiRkx  13.355129  -0.332068  4.998647  134.766305\n",
       "9  jG6Gi   1.069227 -11.025667  4.997844  137.945408"
      ]
     },
     "execution_count": 3,
     "metadata": {},
     "output_type": "execute_result"
    }
   ],
   "source": [
    "df2 = pd.read_csv('/datasets/geo_data_1.csv')\n",
    "df2.info()\n",
    "df2.head(10)"
   ]
  },
  {
   "cell_type": "code",
   "execution_count": 4,
   "metadata": {},
   "outputs": [
    {
     "name": "stdout",
     "output_type": "stream",
     "text": [
      "<class 'pandas.core.frame.DataFrame'>\n",
      "RangeIndex: 100000 entries, 0 to 99999\n",
      "Data columns (total 5 columns):\n",
      " #   Column   Non-Null Count   Dtype  \n",
      "---  ------   --------------   -----  \n",
      " 0   id       100000 non-null  object \n",
      " 1   f0       100000 non-null  float64\n",
      " 2   f1       100000 non-null  float64\n",
      " 3   f2       100000 non-null  float64\n",
      " 4   product  100000 non-null  float64\n",
      "dtypes: float64(4), object(1)\n",
      "memory usage: 3.8+ MB\n"
     ]
    },
    {
     "data": {
      "text/html": [
       "<div>\n",
       "<style scoped>\n",
       "    .dataframe tbody tr th:only-of-type {\n",
       "        vertical-align: middle;\n",
       "    }\n",
       "\n",
       "    .dataframe tbody tr th {\n",
       "        vertical-align: top;\n",
       "    }\n",
       "\n",
       "    .dataframe thead th {\n",
       "        text-align: right;\n",
       "    }\n",
       "</style>\n",
       "<table border=\"1\" class=\"dataframe\">\n",
       "  <thead>\n",
       "    <tr style=\"text-align: right;\">\n",
       "      <th></th>\n",
       "      <th>id</th>\n",
       "      <th>f0</th>\n",
       "      <th>f1</th>\n",
       "      <th>f2</th>\n",
       "      <th>product</th>\n",
       "    </tr>\n",
       "  </thead>\n",
       "  <tbody>\n",
       "    <tr>\n",
       "      <th>0</th>\n",
       "      <td>fwXo0</td>\n",
       "      <td>-1.146987</td>\n",
       "      <td>0.963328</td>\n",
       "      <td>-0.828965</td>\n",
       "      <td>27.758673</td>\n",
       "    </tr>\n",
       "    <tr>\n",
       "      <th>1</th>\n",
       "      <td>WJtFt</td>\n",
       "      <td>0.262778</td>\n",
       "      <td>0.269839</td>\n",
       "      <td>-2.530187</td>\n",
       "      <td>56.069697</td>\n",
       "    </tr>\n",
       "    <tr>\n",
       "      <th>2</th>\n",
       "      <td>ovLUW</td>\n",
       "      <td>0.194587</td>\n",
       "      <td>0.289035</td>\n",
       "      <td>-5.586433</td>\n",
       "      <td>62.871910</td>\n",
       "    </tr>\n",
       "    <tr>\n",
       "      <th>3</th>\n",
       "      <td>q6cA6</td>\n",
       "      <td>2.236060</td>\n",
       "      <td>-0.553760</td>\n",
       "      <td>0.930038</td>\n",
       "      <td>114.572842</td>\n",
       "    </tr>\n",
       "    <tr>\n",
       "      <th>4</th>\n",
       "      <td>WPMUX</td>\n",
       "      <td>-0.515993</td>\n",
       "      <td>1.716266</td>\n",
       "      <td>5.899011</td>\n",
       "      <td>149.600746</td>\n",
       "    </tr>\n",
       "    <tr>\n",
       "      <th>5</th>\n",
       "      <td>LzZXx</td>\n",
       "      <td>-0.758092</td>\n",
       "      <td>0.710691</td>\n",
       "      <td>2.585887</td>\n",
       "      <td>90.222465</td>\n",
       "    </tr>\n",
       "    <tr>\n",
       "      <th>6</th>\n",
       "      <td>WBHRv</td>\n",
       "      <td>-0.574891</td>\n",
       "      <td>0.317727</td>\n",
       "      <td>1.773745</td>\n",
       "      <td>45.641478</td>\n",
       "    </tr>\n",
       "    <tr>\n",
       "      <th>7</th>\n",
       "      <td>XO8fn</td>\n",
       "      <td>-1.906649</td>\n",
       "      <td>-2.458350</td>\n",
       "      <td>-0.177097</td>\n",
       "      <td>72.480640</td>\n",
       "    </tr>\n",
       "    <tr>\n",
       "      <th>8</th>\n",
       "      <td>ybmQ5</td>\n",
       "      <td>1.776292</td>\n",
       "      <td>-0.279356</td>\n",
       "      <td>3.004156</td>\n",
       "      <td>106.616832</td>\n",
       "    </tr>\n",
       "    <tr>\n",
       "      <th>9</th>\n",
       "      <td>OilcN</td>\n",
       "      <td>-1.214452</td>\n",
       "      <td>-0.439314</td>\n",
       "      <td>5.922514</td>\n",
       "      <td>52.954532</td>\n",
       "    </tr>\n",
       "  </tbody>\n",
       "</table>\n",
       "</div>"
      ],
      "text/plain": [
       "      id        f0        f1        f2     product\n",
       "0  fwXo0 -1.146987  0.963328 -0.828965   27.758673\n",
       "1  WJtFt  0.262778  0.269839 -2.530187   56.069697\n",
       "2  ovLUW  0.194587  0.289035 -5.586433   62.871910\n",
       "3  q6cA6  2.236060 -0.553760  0.930038  114.572842\n",
       "4  WPMUX -0.515993  1.716266  5.899011  149.600746\n",
       "5  LzZXx -0.758092  0.710691  2.585887   90.222465\n",
       "6  WBHRv -0.574891  0.317727  1.773745   45.641478\n",
       "7  XO8fn -1.906649 -2.458350 -0.177097   72.480640\n",
       "8  ybmQ5  1.776292 -0.279356  3.004156  106.616832\n",
       "9  OilcN -1.214452 -0.439314  5.922514   52.954532"
      ]
     },
     "execution_count": 4,
     "metadata": {},
     "output_type": "execute_result"
    }
   ],
   "source": [
    "df3 = pd.read_csv('/datasets/geo_data_2.csv')\n",
    "df3.info()\n",
    "df3.head(10)"
   ]
  },
  {
   "cell_type": "markdown",
   "metadata": {},
   "source": [
    "Проверим id скважин на дубликаты."
   ]
  },
  {
   "cell_type": "code",
   "execution_count": 5,
   "metadata": {},
   "outputs": [
    {
     "name": "stdout",
     "output_type": "stream",
     "text": [
      "TtcGQ    2\n",
      "QcMuo    2\n",
      "bsk9y    2\n",
      "Tdehs    2\n",
      "74z30    2\n",
      "Name: id, dtype: int64\n",
      "wt4Uk    2\n",
      "LHZR0    2\n",
      "bfPNe    2\n",
      "5ltQ6    2\n",
      "EiJLT    1\n",
      "Name: id, dtype: int64\n",
      "KUPhW    2\n",
      "Vcm5J    2\n",
      "xCHr8    2\n",
      "VF7Jo    2\n",
      "pnG8N    1\n",
      "Name: id, dtype: int64\n"
     ]
    }
   ],
   "source": [
    "print(df1['id'].value_counts().head())\n",
    "print(df2['id'].value_counts().head())\n",
    "print(df3['id'].value_counts().head())"
   ]
  },
  {
   "cell_type": "code",
   "execution_count": 6,
   "metadata": {},
   "outputs": [
    {
     "name": "stdout",
     "output_type": "stream",
     "text": [
      "          id        f0        f1        f2     product\n",
      "16633  fiKDv  0.157341  1.028359  5.585586   95.817889\n",
      "90815  fiKDv  0.049883  0.841313  6.394613  137.346586\n",
      "\n",
      "          id        f0        f1        f2     product\n",
      "2721   bfPNe -9.494442 -5.463692  4.006042  110.992147\n",
      "82178  bfPNe -6.202799 -4.820045  2.995107   84.038886\n",
      "\n",
      "          id        f0        f1        f2     product\n",
      "11449  VF7Jo  2.122656 -0.858275  5.746001  181.716817\n",
      "49564  VF7Jo -0.883115  0.560537  0.723601  136.233420\n"
     ]
    }
   ],
   "source": [
    "print(df1.query('id == \"fiKDv\"'))\n",
    "print()\n",
    "print(df2.query('id == \"bfPNe\"'))\n",
    "print()\n",
    "print(df3.query('id == \"VF7Jo\"'))"
   ]
  },
  {
   "cell_type": "markdown",
   "metadata": {},
   "source": [
    "Есть повторения в id скважин, но их не много. Кроме того, у повторяющихся id разные признаки. Удалим их, на качество модели это не должно повлиять."
   ]
  },
  {
   "cell_type": "code",
   "execution_count": 7,
   "metadata": {},
   "outputs": [],
   "source": [
    "#Напишем функцию для удаления дубликатов в id\n",
    "def remove(data):\n",
    "    id = data['id'].value_counts().reset_index()\n",
    "    unique_id = id.query('id == 1')['index'].to_list()\n",
    "    data.query('id in @unique_id', inplace=True)"
   ]
  },
  {
   "cell_type": "code",
   "execution_count": 8,
   "metadata": {},
   "outputs": [
    {
     "name": "stdout",
     "output_type": "stream",
     "text": [
      "(99980, 5)\n",
      "(99992, 5)\n",
      "(99992, 5)\n"
     ]
    }
   ],
   "source": [
    "remove(df1)\n",
    "print(df1.shape)\n",
    "remove(df2)\n",
    "print(df2.shape)\n",
    "remove(df3)\n",
    "print(df3.shape)"
   ]
  },
  {
   "cell_type": "markdown",
   "metadata": {},
   "source": [
    "**Вывод:**\n",
    "\n",
    "* Имортиртировали библиотеки.\n",
    "* Просмотрели данные.\n",
    "* Пропусков и неверных типов данных не обнаружено.\n",
    "* Были дубликаты в id скважин, но их было не много и они были удалены."
   ]
  },
  {
   "cell_type": "markdown",
   "metadata": {},
   "source": [
    "## Обучение и проверка модели"
   ]
  },
  {
   "cell_type": "markdown",
   "metadata": {},
   "source": [
    "Как и требуется в условиях задачи будем обучать модель линейной регрессии"
   ]
  },
  {
   "cell_type": "code",
   "execution_count": 9,
   "metadata": {},
   "outputs": [],
   "source": [
    "model = LinearRegression()"
   ]
  },
  {
   "cell_type": "markdown",
   "metadata": {},
   "source": [
    "Напишем функцию, которая разделит данные на обучающую и валиадционную выборки в соотношении 75:25, обучит модель и сделает предсказания на валидационной выборке."
   ]
  },
  {
   "cell_type": "code",
   "execution_count": 10,
   "metadata": {},
   "outputs": [],
   "source": [
    "def get_predictions(data):\n",
    "    features = data.drop(['id', 'product'], axis = 1)\n",
    "    target = data['product']\n",
    "    features_train, features_valid, target_train, target_valid = train_test_split(\n",
    "        features, target, test_size=.25, random_state=777)\n",
    "    model.fit(features_train, target_train)\n",
    "    return pd.Series(model.predict(features_valid)), target_valid"
   ]
  },
  {
   "cell_type": "markdown",
   "metadata": {},
   "source": [
    "Сохраним предсказания и правильные ответы."
   ]
  },
  {
   "cell_type": "code",
   "execution_count": 11,
   "metadata": {
    "scrolled": true
   },
   "outputs": [],
   "source": [
    "predicted_1, target_1 = get_predictions(df1)\n",
    "predicted_2, target_2 = get_predictions(df2)\n",
    "predicted_3, target_3 = get_predictions(df3)"
   ]
  },
  {
   "cell_type": "markdown",
   "metadata": {},
   "source": [
    "Посчитаем средний объем предсказанного сырья и RMSE модели."
   ]
  },
  {
   "cell_type": "code",
   "execution_count": 12,
   "metadata": {},
   "outputs": [],
   "source": [
    "def mean_product_and_rmse(answers, predictions):\n",
    "    mse = mean_squared_error(answers, predictions)\n",
    "    print('Средий запас сырья: ', predictions.mean())\n",
    "    print('RMSE: ', mse ** 0.5)"
   ]
  },
  {
   "cell_type": "code",
   "execution_count": 13,
   "metadata": {},
   "outputs": [
    {
     "name": "stdout",
     "output_type": "stream",
     "text": [
      "Регион №1\n",
      "\n",
      "Средий запас сырья:  92.36563599165335\n",
      "RMSE:  37.795050080808814\n"
     ]
    }
   ],
   "source": [
    "print('Регион №1')\n",
    "print()\n",
    "mean_product_and_rmse(target_1, predicted_1)"
   ]
  },
  {
   "cell_type": "code",
   "execution_count": 14,
   "metadata": {},
   "outputs": [
    {
     "name": "stdout",
     "output_type": "stream",
     "text": [
      "Регион №2\n",
      "\n",
      "Средий запас сырья:  69.16492157800474\n",
      "RMSE:  0.8899440381915138\n"
     ]
    }
   ],
   "source": [
    "print('Регион №2')\n",
    "print()\n",
    "mean_product_and_rmse(target_2, predicted_2)"
   ]
  },
  {
   "cell_type": "code",
   "execution_count": 15,
   "metadata": {},
   "outputs": [
    {
     "name": "stdout",
     "output_type": "stream",
     "text": [
      "Регион №3\n",
      "\n",
      "Средий запас сырья:  95.15168921330066\n",
      "RMSE:  40.053537366877244\n"
     ]
    }
   ],
   "source": [
    "print('Регион №3')\n",
    "print()\n",
    "mean_product_and_rmse(target_3, predicted_3)"
   ]
  },
  {
   "cell_type": "markdown",
   "metadata": {},
   "source": [
    "**Вывод:**\n",
    "\n",
    "* Разбили данные на обучающую и валадционную выборки.\n",
    "* Обучили модель, сделали и сохранили предсказания и ответы.\n",
    "* Качественнее всего модель отработала на регионе №2, здесь значение RMSE самое маленькое.\n",
    "* Самый большой запас сырья в регионах №1 и №3."
   ]
  },
  {
   "cell_type": "markdown",
   "metadata": {},
   "source": [
    "## Подготовка к расчёту прибыли"
   ]
  },
  {
   "cell_type": "markdown",
   "metadata": {},
   "source": [
    "В условиях задачи нам даны константы."
   ]
  },
  {
   "cell_type": "code",
   "execution_count": 16,
   "metadata": {},
   "outputs": [],
   "source": [
    "# Бюджет на разработку скважин в одном регионе\n",
    "BUDGET = 10000000000\n",
    "\n",
    "# Количество скважин для бурения\n",
    "OIL_WELLS = 200\n",
    "\n",
    "# Бюджет на одну скважину\n",
    "BUDGET_ONE_WELL = BUDGET / OIL_WELLS\n",
    "\n",
    "# Доход с одной единицы продунка\n",
    "REVENUE_RUB = 450000\n",
    "\n",
    "# Максимальная доля убытков\n",
    "MAX_RISK = 0.025"
   ]
  },
  {
   "cell_type": "markdown",
   "metadata": {},
   "source": [
    "Посчитаем минимальное среднее количество продукта, необходимое, что бы проект был прибыльным."
   ]
  },
  {
   "cell_type": "code",
   "execution_count": 17,
   "metadata": {},
   "outputs": [
    {
     "data": {
      "text/plain": [
       "111.11111111111111"
      ]
     },
     "execution_count": 17,
     "metadata": {},
     "output_type": "execute_result"
    }
   ],
   "source": [
    "BUDGET_ONE_WELL / REVENUE_RUB"
   ]
  },
  {
   "cell_type": "markdown",
   "metadata": {},
   "source": [
    "Исходя из расчета в каждом регионе недостаточно сырья для того, что бы проект хотя бы вышел в ноль. Но мы будем исследовать только 500 скважин, из которых выберем 200 самых прибыльных. "
   ]
  },
  {
   "cell_type": "markdown",
   "metadata": {},
   "source": [
    "Напишем функцию для расчета прибыли по 200 скважин каждого региона из которых получится добыть больше всего сырья."
   ]
  },
  {
   "cell_type": "code",
   "execution_count": 18,
   "metadata": {},
   "outputs": [],
   "source": [
    "def profit(target, probabilities):\n",
    "    target = pd.Series(target).reset_index(drop=True)\n",
    "    probabilities = pd.Series(probabilities).reset_index(drop=True)\n",
    "    probs_sorted = probabilities.sort_values(ascending=False)\n",
    "    selected = target[probs_sorted.index][:OIL_WELLS]\n",
    "    return (((REVENUE_RUB * selected.sum()) - BUDGET) / 1000000000).round(2)"
   ]
  },
  {
   "cell_type": "code",
   "execution_count": 19,
   "metadata": {},
   "outputs": [
    {
     "data": {
      "text/plain": [
       "3.1"
      ]
     },
     "execution_count": 19,
     "metadata": {},
     "output_type": "execute_result"
    }
   ],
   "source": [
    "profit(target_1, predicted_1)"
   ]
  },
  {
   "cell_type": "code",
   "execution_count": 20,
   "metadata": {},
   "outputs": [
    {
     "data": {
      "text/plain": [
       "2.42"
      ]
     },
     "execution_count": 20,
     "metadata": {},
     "output_type": "execute_result"
    }
   ],
   "source": [
    "profit(target_2, predicted_2)"
   ]
  },
  {
   "cell_type": "code",
   "execution_count": 21,
   "metadata": {},
   "outputs": [
    {
     "data": {
      "text/plain": [
       "2.3"
      ]
     },
     "execution_count": 21,
     "metadata": {},
     "output_type": "execute_result"
    }
   ],
   "source": [
    "profit(target_3, predicted_3)"
   ]
  },
  {
   "cell_type": "markdown",
   "metadata": {},
   "source": [
    "Судя из расчетов, самым прибыльм является регион №1, c него можно получить самую большую выручку с добычи сырья - 3,1 млрд. рублей."
   ]
  },
  {
   "cell_type": "markdown",
   "metadata": {},
   "source": [
    "## Расчёт прибыли и рисков "
   ]
  },
  {
   "cell_type": "markdown",
   "metadata": {},
   "source": [
    "Посчитаем риски и прибыль каждого региона с помощью бутстрепа."
   ]
  },
  {
   "cell_type": "code",
   "execution_count": 22,
   "metadata": {},
   "outputs": [],
   "source": [
    "state = np.random.RandomState(777)"
   ]
  },
  {
   "cell_type": "code",
   "execution_count": 23,
   "metadata": {},
   "outputs": [],
   "source": [
    "def bootstrap(target, predictions):\n",
    "    value = []\n",
    "    for i in range(1000):\n",
    "        target_subsample = target.reset_index(drop=True).sample(n=500, replace=True, random_state=state)\n",
    "        probs_subsample = predictions[target_subsample.index]\n",
    "        value.append(profit(target_subsample, probs_subsample))\n",
    "        \n",
    "    value = pd.Series(value)\n",
    "    lower = value.quantile(MAX_RISK)\n",
    "    upper = value.quantile(0.975)\n",
    "    #confidence_interval = st.t.interval(0.95, len(value)-1, value.mean(), value.sem())\n",
    "    mean = value.mean()\n",
    "    \n",
    "    print('Средняя выручка: ', mean)\n",
    "    print('2.5% квантиль: ', lower)\n",
    "    print('97.5% квантиль:', upper)\n",
    "    #print('Доверительный интервал: ', confidence_interval)\n",
    "    print('Риски убытка: ', (value < 0).mean())\n",
    "    \n"
   ]
  },
  {
   "cell_type": "code",
   "execution_count": 24,
   "metadata": {},
   "outputs": [
    {
     "name": "stdout",
     "output_type": "stream",
     "text": [
      "Средняя выручка:  0.39266\n",
      "2.5% квантиль:  -0.15\n",
      "97.5% квантиль: 0.91\n",
      "Риски убытка:  0.072\n"
     ]
    }
   ],
   "source": [
    "bootstrap(target_1, predicted_1)"
   ]
  },
  {
   "cell_type": "code",
   "execution_count": 25,
   "metadata": {},
   "outputs": [
    {
     "name": "stdout",
     "output_type": "stream",
     "text": [
      "Средняя выручка:  0.47969000000000006\n",
      "2.5% квантиль:  0.09\n",
      "97.5% квантиль: 0.86\n",
      "Риски убытка:  0.01\n"
     ]
    }
   ],
   "source": [
    "bootstrap(target_2, predicted_2)"
   ]
  },
  {
   "cell_type": "code",
   "execution_count": 26,
   "metadata": {},
   "outputs": [
    {
     "name": "stdout",
     "output_type": "stream",
     "text": [
      "Средняя выручка:  0.35902000000000006\n",
      "2.5% квантиль:  -0.21\n",
      "97.5% квантиль: 0.91\n",
      "Риски убытка:  0.096\n"
     ]
    }
   ],
   "source": [
    "bootstrap(target_3, predicted_3)"
   ]
  },
  {
   "cell_type": "markdown",
   "metadata": {},
   "source": [
    "**Вывод**\n",
    "\n",
    "Из всех регионов по уровню риска подходит только регион №2. К тому же добыча во втором регоне принесет самую большую прибыль."
   ]
  }
 ],
 "metadata": {
  "ExecuteTimeLog": [
   {
    "duration": 528,
    "start_time": "2022-04-08T09:27:08.870Z"
   },
   {
    "duration": 193,
    "start_time": "2022-04-08T09:27:43.359Z"
   },
   {
    "duration": 243,
    "start_time": "2022-04-08T09:28:31.732Z"
   },
   {
    "duration": 169,
    "start_time": "2022-04-08T09:28:35.917Z"
   },
   {
    "duration": 173,
    "start_time": "2022-04-08T09:29:23.985Z"
   },
   {
    "duration": 1164,
    "start_time": "2022-04-08T09:33:15.453Z"
   },
   {
    "duration": 30,
    "start_time": "2022-04-08T09:33:33.200Z"
   },
   {
    "duration": 117,
    "start_time": "2022-04-08T10:04:54.738Z"
   },
   {
    "duration": 19,
    "start_time": "2022-04-08T10:12:25.484Z"
   },
   {
    "duration": 217,
    "start_time": "2022-04-08T10:12:33.808Z"
   },
   {
    "duration": 116,
    "start_time": "2022-04-08T10:15:57.338Z"
   },
   {
    "duration": 37,
    "start_time": "2022-04-08T10:16:08.619Z"
   },
   {
    "duration": 5,
    "start_time": "2022-04-08T10:28:37.988Z"
   },
   {
    "duration": 4,
    "start_time": "2022-04-08T10:28:50.373Z"
   },
   {
    "duration": 4,
    "start_time": "2022-04-08T10:28:52.449Z"
   },
   {
    "duration": 139,
    "start_time": "2022-04-08T10:29:24.191Z"
   },
   {
    "duration": 423,
    "start_time": "2022-04-08T10:29:30.619Z"
   },
   {
    "duration": 376,
    "start_time": "2022-04-08T10:30:53.885Z"
   },
   {
    "duration": 5,
    "start_time": "2022-04-08T10:31:25.145Z"
   },
   {
    "duration": 395,
    "start_time": "2022-04-08T10:31:26.844Z"
   },
   {
    "duration": 10,
    "start_time": "2022-04-08T10:59:42.661Z"
   },
   {
    "duration": 4,
    "start_time": "2022-04-08T10:59:55.025Z"
   },
   {
    "duration": 5,
    "start_time": "2022-04-08T11:05:14.391Z"
   },
   {
    "duration": 126,
    "start_time": "2022-04-08T11:05:44.945Z"
   },
   {
    "duration": 35,
    "start_time": "2022-04-08T11:06:19.667Z"
   },
   {
    "duration": 27,
    "start_time": "2022-04-08T11:06:55.495Z"
   },
   {
    "duration": 5,
    "start_time": "2022-04-08T11:07:42.989Z"
   },
   {
    "duration": 26,
    "start_time": "2022-04-08T11:07:45.009Z"
   },
   {
    "duration": 5,
    "start_time": "2022-04-08T11:08:09.811Z"
   },
   {
    "duration": 30,
    "start_time": "2022-04-08T11:08:11.657Z"
   },
   {
    "duration": 5,
    "start_time": "2022-04-08T11:08:22.674Z"
   },
   {
    "duration": 29,
    "start_time": "2022-04-08T11:08:23.923Z"
   },
   {
    "duration": 5,
    "start_time": "2022-04-08T11:09:09.556Z"
   },
   {
    "duration": 31,
    "start_time": "2022-04-08T11:09:10.907Z"
   },
   {
    "duration": 5,
    "start_time": "2022-04-08T11:09:21.049Z"
   },
   {
    "duration": 36,
    "start_time": "2022-04-08T11:09:22.329Z"
   },
   {
    "duration": 5,
    "start_time": "2022-04-08T11:10:01.856Z"
   },
   {
    "duration": 30,
    "start_time": "2022-04-08T11:10:03.129Z"
   },
   {
    "duration": 1539,
    "start_time": "2022-04-08T11:11:17.049Z"
   },
   {
    "duration": 187,
    "start_time": "2022-04-08T11:11:18.591Z"
   },
   {
    "duration": 174,
    "start_time": "2022-04-08T11:11:18.780Z"
   },
   {
    "duration": 179,
    "start_time": "2022-04-08T11:11:18.956Z"
   },
   {
    "duration": 226,
    "start_time": "2022-04-08T11:11:19.138Z"
   },
   {
    "duration": 49,
    "start_time": "2022-04-08T11:11:19.366Z"
   },
   {
    "duration": 5,
    "start_time": "2022-04-08T11:11:19.417Z"
   },
   {
    "duration": 443,
    "start_time": "2022-04-08T11:11:19.424Z"
   },
   {
    "duration": 16,
    "start_time": "2022-04-08T11:11:19.870Z"
   },
   {
    "duration": 16,
    "start_time": "2022-04-08T11:11:19.888Z"
   },
   {
    "duration": 165,
    "start_time": "2022-04-08T11:11:19.906Z"
   },
   {
    "duration": 4,
    "start_time": "2022-04-08T11:13:30.956Z"
   },
   {
    "duration": 32,
    "start_time": "2022-04-08T11:13:33.802Z"
   },
   {
    "duration": 30,
    "start_time": "2022-04-08T11:13:36.044Z"
   },
   {
    "duration": 4,
    "start_time": "2022-04-08T11:15:01.825Z"
   },
   {
    "duration": 6,
    "start_time": "2022-04-08T11:15:03.836Z"
   },
   {
    "duration": 20,
    "start_time": "2022-04-08T11:15:05.367Z"
   },
   {
    "duration": 5,
    "start_time": "2022-04-08T11:15:10.811Z"
   },
   {
    "duration": 38,
    "start_time": "2022-04-08T11:15:12.134Z"
   },
   {
    "duration": 4,
    "start_time": "2022-04-08T11:15:58.354Z"
   },
   {
    "duration": 6,
    "start_time": "2022-04-08T11:16:00.231Z"
   },
   {
    "duration": 37,
    "start_time": "2022-04-08T11:16:01.469Z"
   },
   {
    "duration": 4,
    "start_time": "2022-04-08T13:22:35.666Z"
   },
   {
    "duration": 5,
    "start_time": "2022-04-08T13:22:36.737Z"
   },
   {
    "duration": 39,
    "start_time": "2022-04-08T13:22:38.356Z"
   },
   {
    "duration": 4,
    "start_time": "2022-04-08T13:23:03.542Z"
   },
   {
    "duration": 6,
    "start_time": "2022-04-08T13:23:04.695Z"
   },
   {
    "duration": 33,
    "start_time": "2022-04-08T13:23:05.361Z"
   },
   {
    "duration": 1539,
    "start_time": "2022-04-08T13:47:49.184Z"
   },
   {
    "duration": 196,
    "start_time": "2022-04-08T13:47:50.726Z"
   },
   {
    "duration": 177,
    "start_time": "2022-04-08T13:47:50.925Z"
   },
   {
    "duration": 186,
    "start_time": "2022-04-08T13:47:51.105Z"
   },
   {
    "duration": 221,
    "start_time": "2022-04-08T13:47:51.294Z"
   },
   {
    "duration": 38,
    "start_time": "2022-04-08T13:47:51.518Z"
   },
   {
    "duration": 5,
    "start_time": "2022-04-08T13:47:51.558Z"
   },
   {
    "duration": 436,
    "start_time": "2022-04-08T13:47:51.584Z"
   },
   {
    "duration": 4,
    "start_time": "2022-04-08T13:47:52.022Z"
   },
   {
    "duration": 7,
    "start_time": "2022-04-08T13:47:52.028Z"
   },
   {
    "duration": 195,
    "start_time": "2022-04-08T13:47:52.037Z"
   },
   {
    "duration": 41,
    "start_time": "2022-04-08T13:49:22.535Z"
   },
   {
    "duration": 39,
    "start_time": "2022-04-08T17:05:14.596Z"
   },
   {
    "duration": 5,
    "start_time": "2022-04-08T17:05:16.204Z"
   },
   {
    "duration": 5,
    "start_time": "2022-04-08T17:05:58.582Z"
   },
   {
    "duration": 13,
    "start_time": "2022-04-08T17:06:16.930Z"
   },
   {
    "duration": 4,
    "start_time": "2022-04-08T17:06:23.833Z"
   },
   {
    "duration": 5,
    "start_time": "2022-04-08T17:06:25.612Z"
   },
   {
    "duration": 399,
    "start_time": "2022-04-08T17:06:27.391Z"
   },
   {
    "duration": 1666,
    "start_time": "2022-04-09T09:55:30.288Z"
   },
   {
    "duration": 211,
    "start_time": "2022-04-09T09:55:31.957Z"
   },
   {
    "duration": 199,
    "start_time": "2022-04-09T09:55:32.170Z"
   },
   {
    "duration": 188,
    "start_time": "2022-04-09T09:55:32.371Z"
   },
   {
    "duration": 273,
    "start_time": "2022-04-09T09:55:32.562Z"
   },
   {
    "duration": 52,
    "start_time": "2022-04-09T09:55:32.837Z"
   },
   {
    "duration": 5,
    "start_time": "2022-04-09T09:55:32.891Z"
   },
   {
    "duration": 526,
    "start_time": "2022-04-09T09:55:32.898Z"
   },
   {
    "duration": 3,
    "start_time": "2022-04-09T09:55:33.427Z"
   },
   {
    "duration": 11,
    "start_time": "2022-04-09T09:55:33.433Z"
   },
   {
    "duration": 447,
    "start_time": "2022-04-09T09:55:33.446Z"
   },
   {
    "duration": 5,
    "start_time": "2022-04-09T09:58:54.546Z"
   },
   {
    "duration": 4,
    "start_time": "2022-04-09T09:59:00.492Z"
   },
   {
    "duration": 143,
    "start_time": "2022-04-09T09:59:51.879Z"
   },
   {
    "duration": 18,
    "start_time": "2022-04-09T10:00:02.194Z"
   },
   {
    "duration": 5,
    "start_time": "2022-04-09T10:00:11.937Z"
   },
   {
    "duration": 8,
    "start_time": "2022-04-09T10:00:13.748Z"
   },
   {
    "duration": 5,
    "start_time": "2022-04-09T10:01:14.868Z"
   },
   {
    "duration": 7,
    "start_time": "2022-04-09T10:01:16.085Z"
   },
   {
    "duration": 6,
    "start_time": "2022-04-09T10:01:26.334Z"
   },
   {
    "duration": 7,
    "start_time": "2022-04-09T10:01:38.642Z"
   },
   {
    "duration": 4,
    "start_time": "2022-04-09T10:57:25.456Z"
   },
   {
    "duration": 5,
    "start_time": "2022-04-09T10:58:14.702Z"
   },
   {
    "duration": 5,
    "start_time": "2022-04-09T10:58:54.893Z"
   },
   {
    "duration": 150,
    "start_time": "2022-04-09T11:03:03.836Z"
   },
   {
    "duration": 6,
    "start_time": "2022-04-09T11:07:44.996Z"
   },
   {
    "duration": 6,
    "start_time": "2022-04-09T11:07:48.373Z"
   },
   {
    "duration": 4,
    "start_time": "2022-04-09T11:07:50.268Z"
   },
   {
    "duration": 19,
    "start_time": "2022-04-09T11:08:11.487Z"
   },
   {
    "duration": 6,
    "start_time": "2022-04-09T11:08:19.558Z"
   },
   {
    "duration": 21,
    "start_time": "2022-04-09T11:08:20.755Z"
   },
   {
    "duration": 5,
    "start_time": "2022-04-09T11:09:04.968Z"
   },
   {
    "duration": 22,
    "start_time": "2022-04-09T11:09:06.639Z"
   },
   {
    "duration": 3,
    "start_time": "2022-04-09T11:09:10.559Z"
   },
   {
    "duration": 12,
    "start_time": "2022-04-09T11:09:12.058Z"
   },
   {
    "duration": 5,
    "start_time": "2022-04-09T11:09:41.788Z"
   },
   {
    "duration": 11,
    "start_time": "2022-04-09T11:09:43.582Z"
   },
   {
    "duration": 12,
    "start_time": "2022-04-09T11:09:48.335Z"
   },
   {
    "duration": 12,
    "start_time": "2022-04-09T11:10:01.153Z"
   },
   {
    "duration": 11,
    "start_time": "2022-04-09T11:10:07.585Z"
   },
   {
    "duration": 5,
    "start_time": "2022-04-09T11:10:49.313Z"
   },
   {
    "duration": 12,
    "start_time": "2022-04-09T11:10:50.421Z"
   },
   {
    "duration": 12,
    "start_time": "2022-04-09T11:10:51.264Z"
   },
   {
    "duration": 12,
    "start_time": "2022-04-09T11:10:51.471Z"
   },
   {
    "duration": 4,
    "start_time": "2022-04-09T11:15:06.719Z"
   },
   {
    "duration": 11,
    "start_time": "2022-04-09T11:15:42.598Z"
   },
   {
    "duration": 11,
    "start_time": "2022-04-09T11:15:52.803Z"
   },
   {
    "duration": 5,
    "start_time": "2022-04-09T11:15:58.290Z"
   },
   {
    "duration": 5,
    "start_time": "2022-04-09T11:16:00.762Z"
   },
   {
    "duration": 5,
    "start_time": "2022-04-09T11:24:04.108Z"
   },
   {
    "duration": 103,
    "start_time": "2022-04-09T11:25:35.969Z"
   },
   {
    "duration": 6,
    "start_time": "2022-04-09T11:25:45.219Z"
   },
   {
    "duration": 7,
    "start_time": "2022-04-09T11:28:01.708Z"
   },
   {
    "duration": 7,
    "start_time": "2022-04-09T11:28:08.696Z"
   },
   {
    "duration": 20,
    "start_time": "2022-04-09T11:28:30.578Z"
   },
   {
    "duration": 7,
    "start_time": "2022-04-09T11:28:40.499Z"
   },
   {
    "duration": 16,
    "start_time": "2022-04-09T11:28:42.112Z"
   },
   {
    "duration": 7,
    "start_time": "2022-04-09T11:29:06.637Z"
   },
   {
    "duration": 28,
    "start_time": "2022-04-09T11:29:07.314Z"
   },
   {
    "duration": 9,
    "start_time": "2022-04-09T11:29:58.406Z"
   },
   {
    "duration": 26,
    "start_time": "2022-04-09T11:29:59.742Z"
   },
   {
    "duration": 7,
    "start_time": "2022-04-09T11:30:53.407Z"
   },
   {
    "duration": 17,
    "start_time": "2022-04-09T11:30:54.241Z"
   },
   {
    "duration": 7,
    "start_time": "2022-04-09T11:31:02.707Z"
   },
   {
    "duration": 2010,
    "start_time": "2022-04-09T11:31:03.285Z"
   },
   {
    "duration": 8,
    "start_time": "2022-04-09T11:31:14.487Z"
   },
   {
    "duration": 1951,
    "start_time": "2022-04-09T11:31:14.928Z"
   },
   {
    "duration": 7,
    "start_time": "2022-04-09T11:31:21.745Z"
   },
   {
    "duration": 1947,
    "start_time": "2022-04-09T11:31:22.262Z"
   },
   {
    "duration": 2230,
    "start_time": "2022-04-09T11:31:34.191Z"
   },
   {
    "duration": 2151,
    "start_time": "2022-04-09T11:31:41.697Z"
   },
   {
    "duration": 108,
    "start_time": "2022-04-09T11:33:19.701Z"
   },
   {
    "duration": 65,
    "start_time": "2022-04-09T19:55:56.768Z"
   },
   {
    "duration": 4,
    "start_time": "2022-04-09T19:56:10.317Z"
   },
   {
    "duration": 12,
    "start_time": "2022-04-09T19:57:53.620Z"
   },
   {
    "duration": 1437,
    "start_time": "2022-04-09T19:58:45.868Z"
   },
   {
    "duration": 176,
    "start_time": "2022-04-09T19:58:47.307Z"
   },
   {
    "duration": 168,
    "start_time": "2022-04-09T19:58:47.485Z"
   },
   {
    "duration": 171,
    "start_time": "2022-04-09T19:58:47.656Z"
   },
   {
    "duration": 184,
    "start_time": "2022-04-09T19:58:47.830Z"
   },
   {
    "duration": 36,
    "start_time": "2022-04-09T19:58:48.016Z"
   },
   {
    "duration": 13,
    "start_time": "2022-04-09T19:58:48.055Z"
   },
   {
    "duration": 342,
    "start_time": "2022-04-09T19:58:48.070Z"
   },
   {
    "duration": 4,
    "start_time": "2022-04-09T19:58:48.414Z"
   },
   {
    "duration": 8,
    "start_time": "2022-04-09T19:58:48.420Z"
   },
   {
    "duration": 443,
    "start_time": "2022-04-09T19:58:48.431Z"
   },
   {
    "duration": 90,
    "start_time": "2022-04-09T19:58:48.878Z"
   },
   {
    "duration": 100,
    "start_time": "2022-04-09T19:58:48.971Z"
   },
   {
    "duration": 6,
    "start_time": "2022-04-09T19:58:49.075Z"
   },
   {
    "duration": 7,
    "start_time": "2022-04-09T19:58:49.083Z"
   },
   {
    "duration": 6,
    "start_time": "2022-04-09T19:58:49.092Z"
   },
   {
    "duration": 9,
    "start_time": "2022-04-09T19:58:49.100Z"
   },
   {
    "duration": 7,
    "start_time": "2022-04-09T19:58:49.111Z"
   },
   {
    "duration": 54,
    "start_time": "2022-04-09T19:58:49.120Z"
   },
   {
    "duration": 11,
    "start_time": "2022-04-09T19:58:49.176Z"
   },
   {
    "duration": 12,
    "start_time": "2022-04-09T19:58:49.190Z"
   },
   {
    "duration": 4,
    "start_time": "2022-04-09T19:58:49.204Z"
   },
   {
    "duration": 7,
    "start_time": "2022-04-09T19:58:49.210Z"
   },
   {
    "duration": 195,
    "start_time": "2022-04-09T19:58:49.219Z"
   },
   {
    "duration": 0,
    "start_time": "2022-04-09T19:58:49.418Z"
   },
   {
    "duration": 0,
    "start_time": "2022-04-09T19:58:49.420Z"
   },
   {
    "duration": 7,
    "start_time": "2022-04-09T19:59:19.837Z"
   },
   {
    "duration": 1908,
    "start_time": "2022-04-09T19:59:22.338Z"
   },
   {
    "duration": 1868,
    "start_time": "2022-04-09T19:59:24.249Z"
   },
   {
    "duration": 2030,
    "start_time": "2022-04-09T19:59:26.120Z"
   },
   {
    "duration": 96,
    "start_time": "2022-04-09T20:01:31.535Z"
   },
   {
    "duration": 10,
    "start_time": "2022-04-11T16:10:08.893Z"
   },
   {
    "duration": 1141,
    "start_time": "2022-04-11T16:10:14.900Z"
   },
   {
    "duration": 163,
    "start_time": "2022-04-11T16:10:16.043Z"
   },
   {
    "duration": 130,
    "start_time": "2022-04-11T16:10:16.208Z"
   },
   {
    "duration": 130,
    "start_time": "2022-04-11T16:10:16.339Z"
   },
   {
    "duration": 144,
    "start_time": "2022-04-11T16:10:16.471Z"
   },
   {
    "duration": 25,
    "start_time": "2022-04-11T16:10:16.616Z"
   },
   {
    "duration": 3,
    "start_time": "2022-04-11T16:10:16.642Z"
   },
   {
    "duration": 275,
    "start_time": "2022-04-11T16:10:16.647Z"
   },
   {
    "duration": 2,
    "start_time": "2022-04-11T16:10:16.924Z"
   },
   {
    "duration": 6,
    "start_time": "2022-04-11T16:10:16.928Z"
   },
   {
    "duration": 346,
    "start_time": "2022-04-11T16:10:16.936Z"
   },
   {
    "duration": 4,
    "start_time": "2022-04-11T16:10:17.284Z"
   },
   {
    "duration": 194,
    "start_time": "2022-04-11T16:10:17.290Z"
   },
   {
    "duration": 7,
    "start_time": "2022-04-11T16:10:17.487Z"
   },
   {
    "duration": 4,
    "start_time": "2022-04-11T16:10:17.496Z"
   },
   {
    "duration": 4,
    "start_time": "2022-04-11T16:10:17.502Z"
   },
   {
    "duration": 6,
    "start_time": "2022-04-11T16:10:17.507Z"
   },
   {
    "duration": 4,
    "start_time": "2022-04-11T16:10:17.514Z"
   },
   {
    "duration": 11,
    "start_time": "2022-04-11T16:10:17.520Z"
   },
   {
    "duration": 9,
    "start_time": "2022-04-11T16:10:17.533Z"
   },
   {
    "duration": 43,
    "start_time": "2022-04-11T16:10:17.543Z"
   },
   {
    "duration": 4,
    "start_time": "2022-04-11T16:10:17.588Z"
   },
   {
    "duration": 8,
    "start_time": "2022-04-11T16:10:17.594Z"
   },
   {
    "duration": 1555,
    "start_time": "2022-04-11T16:10:17.604Z"
   },
   {
    "duration": 1606,
    "start_time": "2022-04-11T16:10:19.161Z"
   },
   {
    "duration": 1579,
    "start_time": "2022-04-11T16:10:20.769Z"
   },
   {
    "duration": 5,
    "start_time": "2022-04-11T16:15:48.916Z"
   },
   {
    "duration": 87,
    "start_time": "2022-04-11T16:16:15.689Z"
   },
   {
    "duration": 7,
    "start_time": "2022-04-11T16:16:33.687Z"
   },
   {
    "duration": 5,
    "start_time": "2022-04-11T16:16:37.711Z"
   },
   {
    "duration": 8,
    "start_time": "2022-04-11T16:16:39.206Z"
   },
   {
    "duration": 7,
    "start_time": "2022-04-11T16:16:56.058Z"
   },
   {
    "duration": 10,
    "start_time": "2022-04-11T16:18:17.785Z"
   },
   {
    "duration": 11,
    "start_time": "2022-04-11T16:18:29.401Z"
   },
   {
    "duration": 14,
    "start_time": "2022-04-11T16:18:39.723Z"
   },
   {
    "duration": 18,
    "start_time": "2022-04-11T16:18:44.755Z"
   },
   {
    "duration": 5,
    "start_time": "2022-04-11T16:19:33.382Z"
   },
   {
    "duration": 6,
    "start_time": "2022-04-11T16:19:40.796Z"
   },
   {
    "duration": 17,
    "start_time": "2022-04-11T16:19:43.248Z"
   },
   {
    "duration": 1636,
    "start_time": "2022-04-11T16:21:23.318Z"
   },
   {
    "duration": 201,
    "start_time": "2022-04-11T16:24:17.220Z"
   },
   {
    "duration": 206,
    "start_time": "2022-04-11T16:24:28.681Z"
   },
   {
    "duration": 2485,
    "start_time": "2022-04-11T16:24:35.583Z"
   },
   {
    "duration": 5,
    "start_time": "2022-04-11T16:37:25.789Z"
   },
   {
    "duration": 6,
    "start_time": "2022-04-11T16:37:43.522Z"
   },
   {
    "duration": 1803,
    "start_time": "2022-04-11T16:37:49.168Z"
   },
   {
    "duration": 1839,
    "start_time": "2022-04-11T16:37:58.646Z"
   },
   {
    "duration": 1862,
    "start_time": "2022-04-11T16:38:00.487Z"
   },
   {
    "duration": 1178,
    "start_time": "2022-04-16T20:26:02.672Z"
   },
   {
    "duration": 257,
    "start_time": "2022-04-16T20:26:03.852Z"
   },
   {
    "duration": 215,
    "start_time": "2022-04-16T20:26:04.111Z"
   },
   {
    "duration": 149,
    "start_time": "2022-04-16T20:26:04.328Z"
   },
   {
    "duration": 255,
    "start_time": "2022-04-16T20:26:04.479Z"
   },
   {
    "duration": 31,
    "start_time": "2022-04-16T20:26:04.736Z"
   },
   {
    "duration": 4,
    "start_time": "2022-04-16T20:26:04.769Z"
   },
   {
    "duration": 402,
    "start_time": "2022-04-16T20:26:04.775Z"
   },
   {
    "duration": 3,
    "start_time": "2022-04-16T20:26:05.179Z"
   },
   {
    "duration": 6,
    "start_time": "2022-04-16T20:26:05.184Z"
   },
   {
    "duration": 433,
    "start_time": "2022-04-16T20:26:05.191Z"
   },
   {
    "duration": 87,
    "start_time": "2022-04-16T20:26:05.626Z"
   },
   {
    "duration": 92,
    "start_time": "2022-04-16T20:26:05.716Z"
   },
   {
    "duration": 7,
    "start_time": "2022-04-16T20:26:05.812Z"
   },
   {
    "duration": 7,
    "start_time": "2022-04-16T20:26:05.821Z"
   },
   {
    "duration": 6,
    "start_time": "2022-04-16T20:26:05.830Z"
   },
   {
    "duration": 6,
    "start_time": "2022-04-16T20:26:05.838Z"
   },
   {
    "duration": 5,
    "start_time": "2022-04-16T20:26:05.847Z"
   },
   {
    "duration": 13,
    "start_time": "2022-04-16T20:26:05.854Z"
   },
   {
    "duration": 12,
    "start_time": "2022-04-16T20:26:05.909Z"
   },
   {
    "duration": 12,
    "start_time": "2022-04-16T20:26:05.923Z"
   },
   {
    "duration": 4,
    "start_time": "2022-04-16T20:26:05.937Z"
   },
   {
    "duration": 6,
    "start_time": "2022-04-16T20:26:05.943Z"
   },
   {
    "duration": 1364,
    "start_time": "2022-04-16T20:26:05.951Z"
   },
   {
    "duration": 1325,
    "start_time": "2022-04-16T20:26:07.316Z"
   },
   {
    "duration": 1315,
    "start_time": "2022-04-16T20:26:08.643Z"
   },
   {
    "duration": 7,
    "start_time": "2022-04-16T20:26:15.030Z"
   },
   {
    "duration": 104,
    "start_time": "2022-04-16T20:26:17.679Z"
   },
   {
    "duration": 5,
    "start_time": "2022-04-16T20:28:33.495Z"
   },
   {
    "duration": 26,
    "start_time": "2022-04-16T20:28:36.498Z"
   },
   {
    "duration": 7,
    "start_time": "2022-04-16T20:28:52.027Z"
   },
   {
    "duration": 1281,
    "start_time": "2022-04-16T20:28:54.193Z"
   },
   {
    "duration": 1206,
    "start_time": "2022-05-14T12:16:39.789Z"
   },
   {
    "duration": 160,
    "start_time": "2022-05-14T12:16:40.997Z"
   },
   {
    "duration": 141,
    "start_time": "2022-05-14T12:16:41.159Z"
   },
   {
    "duration": 149,
    "start_time": "2022-05-14T12:16:41.302Z"
   },
   {
    "duration": 183,
    "start_time": "2022-05-14T12:16:41.453Z"
   },
   {
    "duration": 27,
    "start_time": "2022-05-14T12:16:41.637Z"
   },
   {
    "duration": 4,
    "start_time": "2022-05-14T12:16:41.666Z"
   },
   {
    "duration": 453,
    "start_time": "2022-05-14T12:16:41.671Z"
   },
   {
    "duration": 3,
    "start_time": "2022-05-14T12:16:42.133Z"
   },
   {
    "duration": 10,
    "start_time": "2022-05-14T12:16:42.138Z"
   },
   {
    "duration": 391,
    "start_time": "2022-05-14T12:16:42.150Z"
   },
   {
    "duration": 4,
    "start_time": "2022-05-14T12:16:42.544Z"
   },
   {
    "duration": 190,
    "start_time": "2022-05-14T12:16:42.550Z"
   },
   {
    "duration": 11,
    "start_time": "2022-05-14T12:16:42.743Z"
   },
   {
    "duration": 9,
    "start_time": "2022-05-14T12:16:42.757Z"
   },
   {
    "duration": 18,
    "start_time": "2022-05-14T12:16:42.767Z"
   },
   {
    "duration": 10,
    "start_time": "2022-05-14T12:16:42.787Z"
   },
   {
    "duration": 10,
    "start_time": "2022-05-14T12:16:42.800Z"
   },
   {
    "duration": 16,
    "start_time": "2022-05-14T12:16:42.812Z"
   },
   {
    "duration": 11,
    "start_time": "2022-05-14T12:16:42.829Z"
   },
   {
    "duration": 9,
    "start_time": "2022-05-14T12:16:42.842Z"
   },
   {
    "duration": 4,
    "start_time": "2022-05-14T12:16:42.852Z"
   },
   {
    "duration": 8,
    "start_time": "2022-05-14T12:16:42.857Z"
   },
   {
    "duration": 1469,
    "start_time": "2022-05-14T12:16:42.866Z"
   },
   {
    "duration": 1389,
    "start_time": "2022-05-14T12:16:44.336Z"
   },
   {
    "duration": 1392,
    "start_time": "2022-05-14T12:16:45.727Z"
   }
  ],
  "kernelspec": {
   "display_name": "Python 3 (ipykernel)",
   "language": "python",
   "name": "python3"
  },
  "language_info": {
   "codemirror_mode": {
    "name": "ipython",
    "version": 3
   },
   "file_extension": ".py",
   "mimetype": "text/x-python",
   "name": "python",
   "nbconvert_exporter": "python",
   "pygments_lexer": "ipython3",
   "version": "3.9.5"
  },
  "toc": {
   "base_numbering": 1,
   "nav_menu": {},
   "number_sections": true,
   "sideBar": false,
   "skip_h1_title": true,
   "title_cell": "Содержание",
   "title_sidebar": "Содержание",
   "toc_cell": true,
   "toc_position": {
    "height": "256.7px",
    "left": "10px",
    "top": "150px",
    "width": "342.638px"
   },
   "toc_section_display": true,
   "toc_window_display": true
  }
 },
 "nbformat": 4,
 "nbformat_minor": 2
}
