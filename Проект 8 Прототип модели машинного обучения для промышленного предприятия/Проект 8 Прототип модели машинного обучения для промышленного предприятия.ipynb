{
 "cells": [
  {
   "cell_type": "markdown",
   "metadata": {
    "id": "Lw_f9y1TJjeS",
    "toc": true
   },
   "source": [
    "<h1>Содержание<span class=\"tocSkip\"></span></h1>\n",
    "<div class=\"toc\"><ul class=\"toc-item\"><li><span><a href=\"#Подготовка-данных\" data-toc-modified-id=\"Подготовка-данных-1\"><span class=\"toc-item-num\">1&nbsp;&nbsp;</span>Подготовка данных</a></span></li><li><span><a href=\"#Анализ-данных\" data-toc-modified-id=\"Анализ-данных-2\"><span class=\"toc-item-num\">2&nbsp;&nbsp;</span>Анализ данных</a></span></li><li><span><a href=\"#Модель\" data-toc-modified-id=\"Модель-3\"><span class=\"toc-item-num\">3&nbsp;&nbsp;</span>Модель</a></span></li></ul></div>"
   ]
  },
  {
   "cell_type": "markdown",
   "metadata": {
    "id": "STnPEJLc_H0X"
   },
   "source": [
    "# Прототип машинного обучения для компании \"Цифра\"\n",
    "\n",
    "Цель проекта - подготовка прототипа машинного обучения для \"Цифры\". Компания разрабатывает решения для эффективной работы промышленных предприятий.\n",
    "\n",
    "Модель должна предсказать коэффициент восстановления золота из золотосодержащей руды. В нашем распоряжении данные с параметрами добычи и очистки.\n",
    "\n",
    "Модель поможет оптимизировать производство, что бы не запускать предприятие с убыточными характеристиками\n",
    "\n",
    "В ходе проекта необходимо :\n",
    "  1. Подготовить данные\n",
    "  2. Провести исследовательский анализ\n",
    "  3. Построить и обучить модель"
   ]
  },
  {
   "cell_type": "markdown",
   "metadata": {
    "id": "14pBfX08KBbZ"
   },
   "source": [
    "# Описание данных\n",
    "\n",
    "**Технологический просесс**\n",
    "\n",
    "* Rougher feed — исходное сырье\n",
    "* Rougher additions (или reagent additions) — флотационные реагенты: Xanthate, Sulphate, Depressant\n",
    "* Xanthate **— ксантогенат (промотер, или активатор флотации);\n",
    "* Sulphate — сульфат (на данном производстве сульфид натрия);\n",
    "* Depressant — депрессант (силикат натрия).\n",
    "*Rougher process (англ. «грубый процесс») — флотация\n",
    "* Rougher tails — отвальные хвосты\n",
    "* Float banks — флотационная установка\n",
    "* Cleaner process — очистка\n",
    "* Rougher Au — черновой концентрат золота\n",
    "* Final Au — финальный концентрат золота\n",
    "\n",
    "**Параметры этапов**\n",
    "\n",
    "* air amount — объём воздуха\n",
    "* fluid levels — уровень жидкости\n",
    "* feed size — размер гранул сырья\n",
    "* feed rate — скорость подачи\n",
    "\n",
    "**Наименование признаков**\n",
    "\n",
    "Наименование признаков выглядит следующим образом:\n",
    "`[этап].[тип_параметра].[название_параметра]`\n",
    "\n",
    "Пример: `rougher.input.feed_ag`\n",
    "\n",
    "Возможные значения для блока `[этап]`:\n",
    "\n",
    "* rougher — флотация\n",
    "* primary_cleaner — первичная очистка\n",
    "* secondary_cleaner — вторичная очистка\n",
    "* final — финальные характеристики\n",
    "\n",
    "Возможные значения для блока `[тип_параметра]`:\n",
    "\n",
    "* input — параметры сырья\n",
    "* output — параметры продукта\n",
    "* state — параметры, характеризующие текущее состояние этапа\n",
    "* calculation — расчётные характеристики"
   ]
  },
  {
   "cell_type": "markdown",
   "metadata": {
    "id": "vyhR16njV7ML"
   },
   "source": [
    "## Подготовка данных"
   ]
  },
  {
   "cell_type": "code",
   "execution_count": 1,
   "metadata": {
    "id": "30a92RaN1Q62"
   },
   "outputs": [],
   "source": [
    "# Импортируем необходимые библиотеки и инструменты\n",
    "import pandas as pd\n",
    "pd.options.mode.chained_assignment = None\n",
    "import matplotlib.pyplot as plt\n",
    "import seaborn as sns\n",
    "import numpy as np\n",
    "from sklearn.metrics import mean_absolute_error, make_scorer\n",
    "from sklearn.model_selection import cross_val_score, GridSearchCV, RandomizedSearchCV\n",
    "from sklearn.preprocessing import StandardScaler\n",
    "from sklearn.linear_model import LinearRegression\n",
    "from sklearn.linear_model import LogisticRegression\n",
    "from sklearn.multioutput import RegressorChain\n",
    "from sklearn.ensemble import RandomForestRegressor\n",
    "from sklearn.tree import DecisionTreeRegressor\n",
    "from sklearn.dummy import DummyRegressor"
   ]
  },
  {
   "cell_type": "code",
   "execution_count": 2,
   "metadata": {
    "id": "s4BvBfTCL7E8"
   },
   "outputs": [],
   "source": [
    "df_full = pd.read_csv('/datasets/gold_recovery_full_new.csv')\n",
    "df_train = pd.read_csv('/datasets/gold_recovery_train_new.csv')\n",
    "df_test = pd.read_csv('/datasets/gold_recovery_test_new.csv')"
   ]
  },
  {
   "cell_type": "code",
   "execution_count": 3,
   "metadata": {
    "colab": {
     "base_uri": "https://localhost:8080/"
    },
    "id": "HLh3RvSZMBFf",
    "outputId": "dd533985-32b6-43b7-df06-66ba95266ca6",
    "scrolled": true
   },
   "outputs": [
    {
     "name": "stdout",
     "output_type": "stream",
     "text": [
      "<class 'pandas.core.frame.DataFrame'>\n",
      "RangeIndex: 19439 entries, 0 to 19438\n",
      "Data columns (total 87 columns):\n",
      " #   Column                                              Non-Null Count  Dtype  \n",
      "---  ------                                              --------------  -----  \n",
      " 0   date                                                19439 non-null  object \n",
      " 1   final.output.concentrate_ag                         19438 non-null  float64\n",
      " 2   final.output.concentrate_pb                         19438 non-null  float64\n",
      " 3   final.output.concentrate_sol                        19228 non-null  float64\n",
      " 4   final.output.concentrate_au                         19439 non-null  float64\n",
      " 5   final.output.recovery                               19439 non-null  float64\n",
      " 6   final.output.tail_ag                                19438 non-null  float64\n",
      " 7   final.output.tail_pb                                19338 non-null  float64\n",
      " 8   final.output.tail_sol                               19433 non-null  float64\n",
      " 9   final.output.tail_au                                19439 non-null  float64\n",
      " 10  primary_cleaner.input.sulfate                       19415 non-null  float64\n",
      " 11  primary_cleaner.input.depressant                    19402 non-null  float64\n",
      " 12  primary_cleaner.input.feed_size                     19439 non-null  float64\n",
      " 13  primary_cleaner.input.xanthate                      19335 non-null  float64\n",
      " 14  primary_cleaner.output.concentrate_ag               19439 non-null  float64\n",
      " 15  primary_cleaner.output.concentrate_pb               19323 non-null  float64\n",
      " 16  primary_cleaner.output.concentrate_sol              19069 non-null  float64\n",
      " 17  primary_cleaner.output.concentrate_au               19439 non-null  float64\n",
      " 18  primary_cleaner.output.tail_ag                      19435 non-null  float64\n",
      " 19  primary_cleaner.output.tail_pb                      19418 non-null  float64\n",
      " 20  primary_cleaner.output.tail_sol                     19377 non-null  float64\n",
      " 21  primary_cleaner.output.tail_au                      19439 non-null  float64\n",
      " 22  primary_cleaner.state.floatbank8_a_air              19435 non-null  float64\n",
      " 23  primary_cleaner.state.floatbank8_a_level            19438 non-null  float64\n",
      " 24  primary_cleaner.state.floatbank8_b_air              19435 non-null  float64\n",
      " 25  primary_cleaner.state.floatbank8_b_level            19438 non-null  float64\n",
      " 26  primary_cleaner.state.floatbank8_c_air              19437 non-null  float64\n",
      " 27  primary_cleaner.state.floatbank8_c_level            19438 non-null  float64\n",
      " 28  primary_cleaner.state.floatbank8_d_air              19436 non-null  float64\n",
      " 29  primary_cleaner.state.floatbank8_d_level            19438 non-null  float64\n",
      " 30  rougher.calculation.sulfate_to_au_concentrate       19437 non-null  float64\n",
      " 31  rougher.calculation.floatbank10_sulfate_to_au_feed  19437 non-null  float64\n",
      " 32  rougher.calculation.floatbank11_sulfate_to_au_feed  19437 non-null  float64\n",
      " 33  rougher.calculation.au_pb_ratio                     19439 non-null  float64\n",
      " 34  rougher.input.feed_ag                               19439 non-null  float64\n",
      " 35  rougher.input.feed_pb                               19339 non-null  float64\n",
      " 36  rougher.input.feed_rate                             19428 non-null  float64\n",
      " 37  rougher.input.feed_size                             19294 non-null  float64\n",
      " 38  rougher.input.feed_sol                              19340 non-null  float64\n",
      " 39  rougher.input.feed_au                               19439 non-null  float64\n",
      " 40  rougher.input.floatbank10_sulfate                   19405 non-null  float64\n",
      " 41  rougher.input.floatbank10_xanthate                  19431 non-null  float64\n",
      " 42  rougher.input.floatbank11_sulfate                   19395 non-null  float64\n",
      " 43  rougher.input.floatbank11_xanthate                  18986 non-null  float64\n",
      " 44  rougher.output.concentrate_ag                       19439 non-null  float64\n",
      " 45  rougher.output.concentrate_pb                       19439 non-null  float64\n",
      " 46  rougher.output.concentrate_sol                      19416 non-null  float64\n",
      " 47  rougher.output.concentrate_au                       19439 non-null  float64\n",
      " 48  rougher.output.recovery                             19439 non-null  float64\n",
      " 49  rougher.output.tail_ag                              19438 non-null  float64\n",
      " 50  rougher.output.tail_pb                              19439 non-null  float64\n",
      " 51  rougher.output.tail_sol                             19439 non-null  float64\n",
      " 52  rougher.output.tail_au                              19439 non-null  float64\n",
      " 53  rougher.state.floatbank10_a_air                     19438 non-null  float64\n",
      " 54  rougher.state.floatbank10_a_level                   19438 non-null  float64\n",
      " 55  rougher.state.floatbank10_b_air                     19438 non-null  float64\n",
      " 56  rougher.state.floatbank10_b_level                   19438 non-null  float64\n",
      " 57  rougher.state.floatbank10_c_air                     19438 non-null  float64\n",
      " 58  rougher.state.floatbank10_c_level                   19438 non-null  float64\n",
      " 59  rougher.state.floatbank10_d_air                     19439 non-null  float64\n",
      " 60  rougher.state.floatbank10_d_level                   19439 non-null  float64\n",
      " 61  rougher.state.floatbank10_e_air                     19003 non-null  float64\n",
      " 62  rougher.state.floatbank10_e_level                   19439 non-null  float64\n",
      " 63  rougher.state.floatbank10_f_air                     19439 non-null  float64\n",
      " 64  rougher.state.floatbank10_f_level                   19439 non-null  float64\n",
      " 65  secondary_cleaner.output.tail_ag                    19437 non-null  float64\n",
      " 66  secondary_cleaner.output.tail_pb                    19427 non-null  float64\n",
      " 67  secondary_cleaner.output.tail_sol                   17691 non-null  float64\n",
      " 68  secondary_cleaner.output.tail_au                    19439 non-null  float64\n",
      " 69  secondary_cleaner.state.floatbank2_a_air            19219 non-null  float64\n",
      " 70  secondary_cleaner.state.floatbank2_a_level          19438 non-null  float64\n",
      " 71  secondary_cleaner.state.floatbank2_b_air            19416 non-null  float64\n",
      " 72  secondary_cleaner.state.floatbank2_b_level          19438 non-null  float64\n",
      " 73  secondary_cleaner.state.floatbank3_a_air            19426 non-null  float64\n",
      " 74  secondary_cleaner.state.floatbank3_a_level          19438 non-null  float64\n",
      " 75  secondary_cleaner.state.floatbank3_b_air            19438 non-null  float64\n",
      " 76  secondary_cleaner.state.floatbank3_b_level          19438 non-null  float64\n",
      " 77  secondary_cleaner.state.floatbank4_a_air            19433 non-null  float64\n",
      " 78  secondary_cleaner.state.floatbank4_a_level          19438 non-null  float64\n",
      " 79  secondary_cleaner.state.floatbank4_b_air            19438 non-null  float64\n",
      " 80  secondary_cleaner.state.floatbank4_b_level          19438 non-null  float64\n",
      " 81  secondary_cleaner.state.floatbank5_a_air            19438 non-null  float64\n",
      " 82  secondary_cleaner.state.floatbank5_a_level          19438 non-null  float64\n",
      " 83  secondary_cleaner.state.floatbank5_b_air            19438 non-null  float64\n",
      " 84  secondary_cleaner.state.floatbank5_b_level          19438 non-null  float64\n",
      " 85  secondary_cleaner.state.floatbank6_a_air            19437 non-null  float64\n",
      " 86  secondary_cleaner.state.floatbank6_a_level          19438 non-null  float64\n",
      "dtypes: float64(86), object(1)\n",
      "memory usage: 12.9+ MB\n"
     ]
    }
   ],
   "source": [
    "df_full.info()"
   ]
  },
  {
   "cell_type": "code",
   "execution_count": 4,
   "metadata": {
    "colab": {
     "base_uri": "https://localhost:8080/"
    },
    "id": "_tP7CYUQO-bW",
    "outputId": "84b00d1d-f4d7-4439-be57-ebe9a5419ac7"
   },
   "outputs": [
    {
     "name": "stdout",
     "output_type": "stream",
     "text": [
      "<class 'pandas.core.frame.DataFrame'>\n",
      "RangeIndex: 14149 entries, 0 to 14148\n",
      "Data columns (total 87 columns):\n",
      " #   Column                                              Non-Null Count  Dtype  \n",
      "---  ------                                              --------------  -----  \n",
      " 0   date                                                14149 non-null  object \n",
      " 1   final.output.concentrate_ag                         14148 non-null  float64\n",
      " 2   final.output.concentrate_pb                         14148 non-null  float64\n",
      " 3   final.output.concentrate_sol                        13938 non-null  float64\n",
      " 4   final.output.concentrate_au                         14149 non-null  float64\n",
      " 5   final.output.recovery                               14149 non-null  float64\n",
      " 6   final.output.tail_ag                                14149 non-null  float64\n",
      " 7   final.output.tail_pb                                14049 non-null  float64\n",
      " 8   final.output.tail_sol                               14144 non-null  float64\n",
      " 9   final.output.tail_au                                14149 non-null  float64\n",
      " 10  primary_cleaner.input.sulfate                       14129 non-null  float64\n",
      " 11  primary_cleaner.input.depressant                    14117 non-null  float64\n",
      " 12  primary_cleaner.input.feed_size                     14149 non-null  float64\n",
      " 13  primary_cleaner.input.xanthate                      14049 non-null  float64\n",
      " 14  primary_cleaner.output.concentrate_ag               14149 non-null  float64\n",
      " 15  primary_cleaner.output.concentrate_pb               14063 non-null  float64\n",
      " 16  primary_cleaner.output.concentrate_sol              13863 non-null  float64\n",
      " 17  primary_cleaner.output.concentrate_au               14149 non-null  float64\n",
      " 18  primary_cleaner.output.tail_ag                      14148 non-null  float64\n",
      " 19  primary_cleaner.output.tail_pb                      14134 non-null  float64\n",
      " 20  primary_cleaner.output.tail_sol                     14103 non-null  float64\n",
      " 21  primary_cleaner.output.tail_au                      14149 non-null  float64\n",
      " 22  primary_cleaner.state.floatbank8_a_air              14145 non-null  float64\n",
      " 23  primary_cleaner.state.floatbank8_a_level            14148 non-null  float64\n",
      " 24  primary_cleaner.state.floatbank8_b_air              14145 non-null  float64\n",
      " 25  primary_cleaner.state.floatbank8_b_level            14148 non-null  float64\n",
      " 26  primary_cleaner.state.floatbank8_c_air              14147 non-null  float64\n",
      " 27  primary_cleaner.state.floatbank8_c_level            14148 non-null  float64\n",
      " 28  primary_cleaner.state.floatbank8_d_air              14146 non-null  float64\n",
      " 29  primary_cleaner.state.floatbank8_d_level            14148 non-null  float64\n",
      " 30  rougher.calculation.sulfate_to_au_concentrate       14148 non-null  float64\n",
      " 31  rougher.calculation.floatbank10_sulfate_to_au_feed  14148 non-null  float64\n",
      " 32  rougher.calculation.floatbank11_sulfate_to_au_feed  14148 non-null  float64\n",
      " 33  rougher.calculation.au_pb_ratio                     14149 non-null  float64\n",
      " 34  rougher.input.feed_ag                               14149 non-null  float64\n",
      " 35  rougher.input.feed_pb                               14049 non-null  float64\n",
      " 36  rougher.input.feed_rate                             14141 non-null  float64\n",
      " 37  rougher.input.feed_size                             14005 non-null  float64\n",
      " 38  rougher.input.feed_sol                              14071 non-null  float64\n",
      " 39  rougher.input.feed_au                               14149 non-null  float64\n",
      " 40  rougher.input.floatbank10_sulfate                   14120 non-null  float64\n",
      " 41  rougher.input.floatbank10_xanthate                  14141 non-null  float64\n",
      " 42  rougher.input.floatbank11_sulfate                   14113 non-null  float64\n",
      " 43  rougher.input.floatbank11_xanthate                  13721 non-null  float64\n",
      " 44  rougher.output.concentrate_ag                       14149 non-null  float64\n",
      " 45  rougher.output.concentrate_pb                       14149 non-null  float64\n",
      " 46  rougher.output.concentrate_sol                      14127 non-null  float64\n",
      " 47  rougher.output.concentrate_au                       14149 non-null  float64\n",
      " 48  rougher.output.recovery                             14149 non-null  float64\n",
      " 49  rougher.output.tail_ag                              14148 non-null  float64\n",
      " 50  rougher.output.tail_pb                              14149 non-null  float64\n",
      " 51  rougher.output.tail_sol                             14149 non-null  float64\n",
      " 52  rougher.output.tail_au                              14149 non-null  float64\n",
      " 53  rougher.state.floatbank10_a_air                     14148 non-null  float64\n",
      " 54  rougher.state.floatbank10_a_level                   14148 non-null  float64\n",
      " 55  rougher.state.floatbank10_b_air                     14148 non-null  float64\n",
      " 56  rougher.state.floatbank10_b_level                   14148 non-null  float64\n",
      " 57  rougher.state.floatbank10_c_air                     14148 non-null  float64\n",
      " 58  rougher.state.floatbank10_c_level                   14148 non-null  float64\n",
      " 59  rougher.state.floatbank10_d_air                     14149 non-null  float64\n",
      " 60  rougher.state.floatbank10_d_level                   14149 non-null  float64\n",
      " 61  rougher.state.floatbank10_e_air                     13713 non-null  float64\n",
      " 62  rougher.state.floatbank10_e_level                   14149 non-null  float64\n",
      " 63  rougher.state.floatbank10_f_air                     14149 non-null  float64\n",
      " 64  rougher.state.floatbank10_f_level                   14149 non-null  float64\n",
      " 65  secondary_cleaner.output.tail_ag                    14147 non-null  float64\n",
      " 66  secondary_cleaner.output.tail_pb                    14139 non-null  float64\n",
      " 67  secondary_cleaner.output.tail_sol                   12544 non-null  float64\n",
      " 68  secondary_cleaner.output.tail_au                    14149 non-null  float64\n",
      " 69  secondary_cleaner.state.floatbank2_a_air            13932 non-null  float64\n",
      " 70  secondary_cleaner.state.floatbank2_a_level          14148 non-null  float64\n",
      " 71  secondary_cleaner.state.floatbank2_b_air            14128 non-null  float64\n",
      " 72  secondary_cleaner.state.floatbank2_b_level          14148 non-null  float64\n",
      " 73  secondary_cleaner.state.floatbank3_a_air            14145 non-null  float64\n",
      " 74  secondary_cleaner.state.floatbank3_a_level          14148 non-null  float64\n",
      " 75  secondary_cleaner.state.floatbank3_b_air            14148 non-null  float64\n",
      " 76  secondary_cleaner.state.floatbank3_b_level          14148 non-null  float64\n",
      " 77  secondary_cleaner.state.floatbank4_a_air            14143 non-null  float64\n",
      " 78  secondary_cleaner.state.floatbank4_a_level          14148 non-null  float64\n",
      " 79  secondary_cleaner.state.floatbank4_b_air            14148 non-null  float64\n",
      " 80  secondary_cleaner.state.floatbank4_b_level          14148 non-null  float64\n",
      " 81  secondary_cleaner.state.floatbank5_a_air            14148 non-null  float64\n",
      " 82  secondary_cleaner.state.floatbank5_a_level          14148 non-null  float64\n",
      " 83  secondary_cleaner.state.floatbank5_b_air            14148 non-null  float64\n",
      " 84  secondary_cleaner.state.floatbank5_b_level          14148 non-null  float64\n",
      " 85  secondary_cleaner.state.floatbank6_a_air            14147 non-null  float64\n",
      " 86  secondary_cleaner.state.floatbank6_a_level          14148 non-null  float64\n",
      "dtypes: float64(86), object(1)\n",
      "memory usage: 9.4+ MB\n"
     ]
    }
   ],
   "source": [
    "df_train.info()"
   ]
  },
  {
   "cell_type": "code",
   "execution_count": 5,
   "metadata": {
    "colab": {
     "base_uri": "https://localhost:8080/"
    },
    "id": "j2U_nIDiPB3w",
    "outputId": "3c1002b7-20ba-4969-918d-220865859026"
   },
   "outputs": [
    {
     "name": "stdout",
     "output_type": "stream",
     "text": [
      "<class 'pandas.core.frame.DataFrame'>\n",
      "RangeIndex: 5290 entries, 0 to 5289\n",
      "Data columns (total 53 columns):\n",
      " #   Column                                      Non-Null Count  Dtype  \n",
      "---  ------                                      --------------  -----  \n",
      " 0   date                                        5290 non-null   object \n",
      " 1   primary_cleaner.input.sulfate               5286 non-null   float64\n",
      " 2   primary_cleaner.input.depressant            5285 non-null   float64\n",
      " 3   primary_cleaner.input.feed_size             5290 non-null   float64\n",
      " 4   primary_cleaner.input.xanthate              5286 non-null   float64\n",
      " 5   primary_cleaner.state.floatbank8_a_air      5290 non-null   float64\n",
      " 6   primary_cleaner.state.floatbank8_a_level    5290 non-null   float64\n",
      " 7   primary_cleaner.state.floatbank8_b_air      5290 non-null   float64\n",
      " 8   primary_cleaner.state.floatbank8_b_level    5290 non-null   float64\n",
      " 9   primary_cleaner.state.floatbank8_c_air      5290 non-null   float64\n",
      " 10  primary_cleaner.state.floatbank8_c_level    5290 non-null   float64\n",
      " 11  primary_cleaner.state.floatbank8_d_air      5290 non-null   float64\n",
      " 12  primary_cleaner.state.floatbank8_d_level    5290 non-null   float64\n",
      " 13  rougher.input.feed_ag                       5290 non-null   float64\n",
      " 14  rougher.input.feed_pb                       5290 non-null   float64\n",
      " 15  rougher.input.feed_rate                     5287 non-null   float64\n",
      " 16  rougher.input.feed_size                     5289 non-null   float64\n",
      " 17  rougher.input.feed_sol                      5269 non-null   float64\n",
      " 18  rougher.input.feed_au                       5290 non-null   float64\n",
      " 19  rougher.input.floatbank10_sulfate           5285 non-null   float64\n",
      " 20  rougher.input.floatbank10_xanthate          5290 non-null   float64\n",
      " 21  rougher.input.floatbank11_sulfate           5282 non-null   float64\n",
      " 22  rougher.input.floatbank11_xanthate          5265 non-null   float64\n",
      " 23  rougher.state.floatbank10_a_air             5290 non-null   float64\n",
      " 24  rougher.state.floatbank10_a_level           5290 non-null   float64\n",
      " 25  rougher.state.floatbank10_b_air             5290 non-null   float64\n",
      " 26  rougher.state.floatbank10_b_level           5290 non-null   float64\n",
      " 27  rougher.state.floatbank10_c_air             5290 non-null   float64\n",
      " 28  rougher.state.floatbank10_c_level           5290 non-null   float64\n",
      " 29  rougher.state.floatbank10_d_air             5290 non-null   float64\n",
      " 30  rougher.state.floatbank10_d_level           5290 non-null   float64\n",
      " 31  rougher.state.floatbank10_e_air             5290 non-null   float64\n",
      " 32  rougher.state.floatbank10_e_level           5290 non-null   float64\n",
      " 33  rougher.state.floatbank10_f_air             5290 non-null   float64\n",
      " 34  rougher.state.floatbank10_f_level           5290 non-null   float64\n",
      " 35  secondary_cleaner.state.floatbank2_a_air    5287 non-null   float64\n",
      " 36  secondary_cleaner.state.floatbank2_a_level  5290 non-null   float64\n",
      " 37  secondary_cleaner.state.floatbank2_b_air    5288 non-null   float64\n",
      " 38  secondary_cleaner.state.floatbank2_b_level  5290 non-null   float64\n",
      " 39  secondary_cleaner.state.floatbank3_a_air    5281 non-null   float64\n",
      " 40  secondary_cleaner.state.floatbank3_a_level  5290 non-null   float64\n",
      " 41  secondary_cleaner.state.floatbank3_b_air    5290 non-null   float64\n",
      " 42  secondary_cleaner.state.floatbank3_b_level  5290 non-null   float64\n",
      " 43  secondary_cleaner.state.floatbank4_a_air    5290 non-null   float64\n",
      " 44  secondary_cleaner.state.floatbank4_a_level  5290 non-null   float64\n",
      " 45  secondary_cleaner.state.floatbank4_b_air    5290 non-null   float64\n",
      " 46  secondary_cleaner.state.floatbank4_b_level  5290 non-null   float64\n",
      " 47  secondary_cleaner.state.floatbank5_a_air    5290 non-null   float64\n",
      " 48  secondary_cleaner.state.floatbank5_a_level  5290 non-null   float64\n",
      " 49  secondary_cleaner.state.floatbank5_b_air    5290 non-null   float64\n",
      " 50  secondary_cleaner.state.floatbank5_b_level  5290 non-null   float64\n",
      " 51  secondary_cleaner.state.floatbank6_a_air    5290 non-null   float64\n",
      " 52  secondary_cleaner.state.floatbank6_a_level  5290 non-null   float64\n",
      "dtypes: float64(52), object(1)\n",
      "memory usage: 2.1+ MB\n"
     ]
    }
   ],
   "source": [
    "df_test.info()"
   ]
  },
  {
   "cell_type": "markdown",
   "metadata": {
    "id": "SvxJak_tmMFC"
   },
   "source": [
    "Проверим правильно ли расчитана эффективность обогащения. \n",
    "\n",
    "Формула выглядит так: `recovery = ((C * (F - T)) / (F * (C - T))) * 100`\n",
    "\n",
    "Где:\n",
    "  * С - Доля золота в концентрате после флотации/очистки\n",
    "  * F - Доля золота в сырье/концентрате до флотации/очистки\n",
    "  * Т - Доля золота в отвальных хвостах после флотации/очистки\n",
    "\n",
    "Таким образом:\n",
    "  * С - rougher.output.concentrate_au\n",
    "  * А - rougher.input.feed_au \n",
    "  * Т - rougher.output.tail_au\n",
    "\n",
    "А сам результат работы формулы - `rougher.output.recovery`\n",
    "\n",
    "Проверим, что эффективность обогащения рассчитана правильно. Вычислим ее по формуле на обучающей выборке для признака `rougher.output.recovery`. Найдем MAE между нашими расчетами и значениями признака.\n"
   ]
  },
  {
   "cell_type": "code",
   "execution_count": 6,
   "metadata": {
    "id": "dnclwMBT265P"
   },
   "outputs": [],
   "source": [
    "# Избавимся от пропусков в столбце rougher.output.recovery\n",
    "df_train.dropna(subset=['rougher.output.recovery'], inplace=True)"
   ]
  },
  {
   "cell_type": "code",
   "execution_count": 7,
   "metadata": {
    "id": "Em8zdbKxpY08"
   },
   "outputs": [],
   "source": [
    "C = df_train['rougher.output.concentrate_au']\n",
    "F = df_train['rougher.input.feed_au']\n",
    "T = df_train['rougher.output.tail_au']"
   ]
  },
  {
   "cell_type": "code",
   "execution_count": 8,
   "metadata": {
    "id": "3J9MR6cXr_K4"
   },
   "outputs": [],
   "source": [
    "recovery = ((C * (F - T)) / (F * (C - T))) * 100"
   ]
  },
  {
   "cell_type": "markdown",
   "metadata": {
    "id": "y953-DoqsTwr"
   },
   "source": [
    "Построим гистограммы для двух наборов значений recovery - старых и новых."
   ]
  },
  {
   "cell_type": "code",
   "execution_count": 9,
   "metadata": {
    "id": "lfEW4PSascvf"
   },
   "outputs": [],
   "source": [
    "old_recovery = df_train['rougher.output.recovery']"
   ]
  },
  {
   "cell_type": "code",
   "execution_count": 10,
   "metadata": {
    "colab": {
     "base_uri": "https://localhost:8080/",
     "height": 282
    },
    "id": "CNS7EdSbsmPX",
    "outputId": "da7e6971-ff7a-4edd-ec68-e87853fd7e67"
   },
   "outputs": [
    {
     "data": {
      "text/plain": [
       "<AxesSubplot:>"
      ]
     },
     "execution_count": 10,
     "metadata": {},
     "output_type": "execute_result"
    },
    {
     "data": {
      "image/png": "[encoded data removed]",
      "text/plain": [
       "<Figure size 432x288 with 1 Axes>"
      ]
     },
     "metadata": {
      "needs_background": "light"
     },
     "output_type": "display_data"
    }
   ],
   "source": [
    "old_recovery.hist(bins=50, range=(0, 120))"
   ]
  },
  {
   "cell_type": "code",
   "execution_count": 11,
   "metadata": {
    "colab": {
     "base_uri": "https://localhost:8080/",
     "height": 282
    },
    "id": "49ufPtwdsxht",
    "outputId": "a39767ba-ac8b-430a-a860-cb103231c766"
   },
   "outputs": [
    {
     "data": {
      "text/plain": [
       "<AxesSubplot:>"
      ]
     },
     "execution_count": 11,
     "metadata": {},
     "output_type": "execute_result"
    },
    {
     "data": {
      "image/png": "[encoded data removed]",
      "text/plain": [
       "<Figure size 432x288 with 1 Axes>"
      ]
     },
     "metadata": {
      "needs_background": "light"
     },
     "output_type": "display_data"
    }
   ],
   "source": [
    "recovery.hist(bins=50, range=(0, 120))"
   ]
  },
  {
   "cell_type": "markdown",
   "metadata": {
    "id": "0rtsYRvytv1U"
   },
   "source": [
    "По графику не видно разницы между старыми данными и новыми. Посчитаем MAE."
   ]
  },
  {
   "cell_type": "code",
   "execution_count": 12,
   "metadata": {
    "colab": {
     "base_uri": "https://localhost:8080/"
    },
    "id": "V-q-vVyDs_LZ",
    "outputId": "2b78075d-71b3-4f68-e00e-429ca53fd4c7"
   },
   "outputs": [
    {
     "name": "stdout",
     "output_type": "stream",
     "text": [
      "MAE:  9.73512347450521e-15\n"
     ]
    }
   ],
   "source": [
    "print('MAE: ', mean_absolute_error(recovery, old_recovery))"
   ]
  },
  {
   "cell_type": "markdown",
   "metadata": {
    "id": "21lYeeeUvU1S"
   },
   "source": [
    "МАЕ близко к нулю, следовательно разницы между старыми данными и новыми нет, расчеты верны."
   ]
  },
  {
   "cell_type": "markdown",
   "metadata": {
    "id": "OmIukcnSvn8j"
   },
   "source": [
    "Сравним наполнение признаками тестовой и тренировочной выборки."
   ]
  },
  {
   "cell_type": "code",
   "execution_count": 13,
   "metadata": {
    "colab": {
     "base_uri": "https://localhost:8080/"
    },
    "id": "6NtZwcMSvuFy",
    "outputId": "e561caaa-498d-4faa-9ca3-d07e336e3395"
   },
   "outputs": [
    {
     "name": "stdout",
     "output_type": "stream",
     "text": [
      "(14149, 87)\n",
      "(5290, 53)\n"
     ]
    }
   ],
   "source": [
    "print(df_train.shape)\n",
    "print(df_test.shape)"
   ]
  },
  {
   "cell_type": "markdown",
   "metadata": {
    "id": "qmvexSERwU8s"
   },
   "source": [
    "В обучающей выборке признакорв примерно на треть больше чем в тестовой. Проанализруем недоступные признаки в тестовой выборке"
   ]
  },
  {
   "cell_type": "code",
   "execution_count": 14,
   "metadata": {
    "colab": {
     "base_uri": "https://localhost:8080/",
     "height": 300
    },
    "id": "ZI7VGOWOunzn",
    "outputId": "a3758938-0e02-4f33-f255-a85a2c3e51b4"
   },
   "outputs": [
    {
     "data": {
      "text/html": [
       "<div>\n",
       "<style scoped>\n",
       "    .dataframe tbody tr th:only-of-type {\n",
       "        vertical-align: middle;\n",
       "    }\n",
       "\n",
       "    .dataframe tbody tr th {\n",
       "        vertical-align: top;\n",
       "    }\n",
       "\n",
       "    .dataframe thead th {\n",
       "        text-align: right;\n",
       "    }\n",
       "</style>\n",
       "<table border=\"1\" class=\"dataframe\">\n",
       "  <thead>\n",
       "    <tr style=\"text-align: right;\">\n",
       "      <th></th>\n",
       "      <th>final.output.concentrate_ag</th>\n",
       "      <th>final.output.concentrate_pb</th>\n",
       "      <th>final.output.concentrate_sol</th>\n",
       "      <th>final.output.concentrate_au</th>\n",
       "      <th>final.output.recovery</th>\n",
       "      <th>final.output.tail_ag</th>\n",
       "      <th>final.output.tail_pb</th>\n",
       "      <th>final.output.tail_sol</th>\n",
       "      <th>final.output.tail_au</th>\n",
       "      <th>primary_cleaner.output.concentrate_ag</th>\n",
       "      <th>...</th>\n",
       "      <th>rougher.output.concentrate_au</th>\n",
       "      <th>rougher.output.recovery</th>\n",
       "      <th>rougher.output.tail_ag</th>\n",
       "      <th>rougher.output.tail_pb</th>\n",
       "      <th>rougher.output.tail_sol</th>\n",
       "      <th>rougher.output.tail_au</th>\n",
       "      <th>secondary_cleaner.output.tail_ag</th>\n",
       "      <th>secondary_cleaner.output.tail_pb</th>\n",
       "      <th>secondary_cleaner.output.tail_sol</th>\n",
       "      <th>secondary_cleaner.output.tail_au</th>\n",
       "    </tr>\n",
       "  </thead>\n",
       "  <tbody>\n",
       "    <tr>\n",
       "      <th>0</th>\n",
       "      <td>6.055403</td>\n",
       "      <td>9.889648</td>\n",
       "      <td>5.507324</td>\n",
       "      <td>42.192020</td>\n",
       "      <td>70.541216</td>\n",
       "      <td>10.411962</td>\n",
       "      <td>0.895447</td>\n",
       "      <td>16.904297</td>\n",
       "      <td>2.143149</td>\n",
       "      <td>8.547551</td>\n",
       "      <td>...</td>\n",
       "      <td>19.793808</td>\n",
       "      <td>87.107763</td>\n",
       "      <td>5.008018</td>\n",
       "      <td>0.508728</td>\n",
       "      <td>19.154297</td>\n",
       "      <td>1.170244</td>\n",
       "      <td>14.500184</td>\n",
       "      <td>4.694824</td>\n",
       "      <td>8.764648</td>\n",
       "      <td>2.606185</td>\n",
       "    </tr>\n",
       "    <tr>\n",
       "      <th>1</th>\n",
       "      <td>6.029369</td>\n",
       "      <td>9.968944</td>\n",
       "      <td>5.257781</td>\n",
       "      <td>42.701629</td>\n",
       "      <td>69.266198</td>\n",
       "      <td>10.462676</td>\n",
       "      <td>0.927452</td>\n",
       "      <td>16.634514</td>\n",
       "      <td>2.224930</td>\n",
       "      <td>8.558743</td>\n",
       "      <td>...</td>\n",
       "      <td>20.050975</td>\n",
       "      <td>86.843261</td>\n",
       "      <td>4.955378</td>\n",
       "      <td>0.536689</td>\n",
       "      <td>18.965234</td>\n",
       "      <td>1.184827</td>\n",
       "      <td>14.265474</td>\n",
       "      <td>4.592547</td>\n",
       "      <td>9.001494</td>\n",
       "      <td>2.488248</td>\n",
       "    </tr>\n",
       "    <tr>\n",
       "      <th>2</th>\n",
       "      <td>6.055926</td>\n",
       "      <td>10.213995</td>\n",
       "      <td>5.383759</td>\n",
       "      <td>42.657501</td>\n",
       "      <td>68.116445</td>\n",
       "      <td>10.507046</td>\n",
       "      <td>0.953716</td>\n",
       "      <td>16.208849</td>\n",
       "      <td>2.257889</td>\n",
       "      <td>8.603505</td>\n",
       "      <td>...</td>\n",
       "      <td>19.737170</td>\n",
       "      <td>86.842308</td>\n",
       "      <td>4.843460</td>\n",
       "      <td>0.546416</td>\n",
       "      <td>18.808533</td>\n",
       "      <td>1.162562</td>\n",
       "      <td>14.115662</td>\n",
       "      <td>4.624775</td>\n",
       "      <td>8.842896</td>\n",
       "      <td>2.458187</td>\n",
       "    </tr>\n",
       "    <tr>\n",
       "      <th>3</th>\n",
       "      <td>6.047977</td>\n",
       "      <td>9.977019</td>\n",
       "      <td>4.858634</td>\n",
       "      <td>42.689819</td>\n",
       "      <td>68.347543</td>\n",
       "      <td>10.422762</td>\n",
       "      <td>0.883763</td>\n",
       "      <td>16.532835</td>\n",
       "      <td>2.146849</td>\n",
       "      <td>7.221879</td>\n",
       "      <td>...</td>\n",
       "      <td>19.320810</td>\n",
       "      <td>87.226430</td>\n",
       "      <td>4.655288</td>\n",
       "      <td>0.542525</td>\n",
       "      <td>19.330200</td>\n",
       "      <td>1.079755</td>\n",
       "      <td>13.732071</td>\n",
       "      <td>4.482453</td>\n",
       "      <td>9.122857</td>\n",
       "      <td>2.322062</td>\n",
       "    </tr>\n",
       "    <tr>\n",
       "      <th>4</th>\n",
       "      <td>6.148599</td>\n",
       "      <td>10.142511</td>\n",
       "      <td>4.939416</td>\n",
       "      <td>42.774141</td>\n",
       "      <td>66.927016</td>\n",
       "      <td>10.360302</td>\n",
       "      <td>0.792826</td>\n",
       "      <td>16.525686</td>\n",
       "      <td>2.055292</td>\n",
       "      <td>9.089428</td>\n",
       "      <td>...</td>\n",
       "      <td>19.216101</td>\n",
       "      <td>86.688794</td>\n",
       "      <td>4.552800</td>\n",
       "      <td>0.515438</td>\n",
       "      <td>19.267422</td>\n",
       "      <td>1.012642</td>\n",
       "      <td>14.079996</td>\n",
       "      <td>4.470737</td>\n",
       "      <td>8.871028</td>\n",
       "      <td>2.330448</td>\n",
       "    </tr>\n",
       "  </tbody>\n",
       "</table>\n",
       "<p>5 rows × 34 columns</p>\n",
       "</div>"
      ],
      "text/plain": [
       "   final.output.concentrate_ag  final.output.concentrate_pb  \\\n",
       "0                     6.055403                     9.889648   \n",
       "1                     6.029369                     9.968944   \n",
       "2                     6.055926                    10.213995   \n",
       "3                     6.047977                     9.977019   \n",
       "4                     6.148599                    10.142511   \n",
       "\n",
       "   final.output.concentrate_sol  final.output.concentrate_au  \\\n",
       "0                      5.507324                    42.192020   \n",
       "1                      5.257781                    42.701629   \n",
       "2                      5.383759                    42.657501   \n",
       "3                      4.858634                    42.689819   \n",
       "4                      4.939416                    42.774141   \n",
       "\n",
       "   final.output.recovery  final.output.tail_ag  final.output.tail_pb  \\\n",
       "0              70.541216             10.411962              0.895447   \n",
       "1              69.266198             10.462676              0.927452   \n",
       "2              68.116445             10.507046              0.953716   \n",
       "3              68.347543             10.422762              0.883763   \n",
       "4              66.927016             10.360302              0.792826   \n",
       "\n",
       "   final.output.tail_sol  final.output.tail_au  \\\n",
       "0              16.904297              2.143149   \n",
       "1              16.634514              2.224930   \n",
       "2              16.208849              2.257889   \n",
       "3              16.532835              2.146849   \n",
       "4              16.525686              2.055292   \n",
       "\n",
       "   primary_cleaner.output.concentrate_ag  ...  rougher.output.concentrate_au  \\\n",
       "0                               8.547551  ...                      19.793808   \n",
       "1                               8.558743  ...                      20.050975   \n",
       "2                               8.603505  ...                      19.737170   \n",
       "3                               7.221879  ...                      19.320810   \n",
       "4                               9.089428  ...                      19.216101   \n",
       "\n",
       "   rougher.output.recovery  rougher.output.tail_ag  rougher.output.tail_pb  \\\n",
       "0                87.107763                5.008018                0.508728   \n",
       "1                86.843261                4.955378                0.536689   \n",
       "2                86.842308                4.843460                0.546416   \n",
       "3                87.226430                4.655288                0.542525   \n",
       "4                86.688794                4.552800                0.515438   \n",
       "\n",
       "   rougher.output.tail_sol  rougher.output.tail_au  \\\n",
       "0                19.154297                1.170244   \n",
       "1                18.965234                1.184827   \n",
       "2                18.808533                1.162562   \n",
       "3                19.330200                1.079755   \n",
       "4                19.267422                1.012642   \n",
       "\n",
       "   secondary_cleaner.output.tail_ag  secondary_cleaner.output.tail_pb  \\\n",
       "0                         14.500184                          4.694824   \n",
       "1                         14.265474                          4.592547   \n",
       "2                         14.115662                          4.624775   \n",
       "3                         13.732071                          4.482453   \n",
       "4                         14.079996                          4.470737   \n",
       "\n",
       "   secondary_cleaner.output.tail_sol  secondary_cleaner.output.tail_au  \n",
       "0                           8.764648                          2.606185  \n",
       "1                           9.001494                          2.488248  \n",
       "2                           8.842896                          2.458187  \n",
       "3                           9.122857                          2.322062  \n",
       "4                           8.871028                          2.330448  \n",
       "\n",
       "[5 rows x 34 columns]"
      ]
     },
     "execution_count": 14,
     "metadata": {},
     "output_type": "execute_result"
    }
   ],
   "source": [
    "missing_cols = df_train.columns.drop(df_test.columns)\n",
    "df_train[missing_cols].head()"
   ]
  },
  {
   "cell_type": "markdown",
   "metadata": {
    "id": "af5QDv461pow"
   },
   "source": [
    "Эти столбцы - концентрация различных веществе на выходе, а так же доля веществ в отвальных хвостах.\n",
    "\n",
    "Выходит у нас есть 53 признака(тех, что в тестовой выборке) и 2 целевых признака - `rougher.output.recovery` и `final.output.recovery`\n",
    "\n",
    "Осталось удалить лишние признаки из тренировочной выборки и добавить два целевых признака в тестовую"
   ]
  },
  {
   "cell_type": "code",
   "execution_count": 15,
   "metadata": {
    "id": "mKMcrY8FxVB5"
   },
   "outputs": [],
   "source": [
    "columns_to_drop = missing_cols.drop(['rougher.output.recovery', 'final.output.recovery'])\n",
    "right_columns = df_train.columns.drop(columns_to_drop)\n",
    "df_train = df_train[right_columns]"
   ]
  },
  {
   "cell_type": "markdown",
   "metadata": {
    "id": "MjnDrjrM43nR"
   },
   "source": [
    "Обучающая выборка готова.\n",
    "Займемся тестовой: столбец `date` в исходной выборке имеет уникальные значения. Их можно использовать как индексы, что бы объединить датасеты и добавить в тестовую выборку отсутствующие столбцы. "
   ]
  },
  {
   "cell_type": "code",
   "execution_count": 16,
   "metadata": {
    "id": "lNzWbzYG4Drr"
   },
   "outputs": [],
   "source": [
    "cols_to_join = df_full[['date', 'rougher.output.recovery', 'final.output.recovery']].copy()\n",
    "df_test = df_test.join(cols_to_join.set_index('date'), on='date')"
   ]
  },
  {
   "cell_type": "code",
   "execution_count": 17,
   "metadata": {
    "colab": {
     "base_uri": "https://localhost:8080/"
    },
    "id": "uzWJLodn5ws8",
    "outputId": "3d5098c2-b26d-4e15-f869-87cac17ee650"
   },
   "outputs": [
    {
     "name": "stdout",
     "output_type": "stream",
     "text": [
      "(14149, 55)\n",
      "(5290, 55)\n"
     ]
    }
   ],
   "source": [
    "print(df_train.shape)\n",
    "print(df_test.shape)"
   ]
  },
  {
   "cell_type": "markdown",
   "metadata": {
    "id": "Ks6fRXDE8E82"
   },
   "source": [
    "Обучающая и тестовая выборка готовы."
   ]
  },
  {
   "cell_type": "markdown",
   "metadata": {
    "id": "ucJ2ac3lKLtz"
   },
   "source": [
    "## Анализ данных\n",
    "\n",
    "Посмотрим, как меняется концентрация металлов (Au, Ag, Pb) на различных этапах очистки"
   ]
  },
  {
   "cell_type": "code",
   "execution_count": 18,
   "metadata": {
    "id": "3eHPvfgb8MnI"
   },
   "outputs": [],
   "source": [
    "# Подготовим датасеты с необходимыми данными для золота\n",
    "au = df_full[['rougher.input.feed_au',\n",
    "             'rougher.output.concentrate_au',\n",
    "             'primary_cleaner.output.concentrate_au',\n",
    "             'final.output.concentrate_au']].copy()"
   ]
  },
  {
   "cell_type": "code",
   "execution_count": 19,
   "metadata": {
    "id": "G3b_LrtOMW2c"
   },
   "outputs": [],
   "source": [
    "# Серебра\n",
    "ag = df_full[['rougher.input.feed_ag',\n",
    "             'rougher.output.concentrate_ag',\n",
    "             'primary_cleaner.output.concentrate_ag',\n",
    "             'final.output.concentrate_ag']].copy()"
   ]
  },
  {
   "cell_type": "code",
   "execution_count": 20,
   "metadata": {
    "id": "xRVwWu73Mur-"
   },
   "outputs": [],
   "source": [
    "# Свинца\n",
    "pb = df_full[['rougher.input.feed_pb',\n",
    "             'rougher.output.concentrate_pb',\n",
    "             'primary_cleaner.output.concentrate_pb',\n",
    "             'final.output.concentrate_pb']].copy()"
   ]
  },
  {
   "cell_type": "markdown",
   "metadata": {
    "id": "5z97cGT0Oihz"
   },
   "source": [
    "Напишем функцию, которая будет рисовать данные всех 4х столбцов на одном графике."
   ]
  },
  {
   "cell_type": "code",
   "execution_count": 21,
   "metadata": {
    "id": "gpXA-rlaM2pL"
   },
   "outputs": [],
   "source": [
    "def hist(data, title):\n",
    "  fig, ax = plt.subplots()\n",
    "  ax.set_ylabel('Количество наблюдений')\n",
    "  ax.set_xlabel('Концентрация металла')\n",
    "  ax.set_title(title)\n",
    "  for col in data:\n",
    "    data[col].hist(alpha=.3)\n",
    "    ax.legend(['Исходное сырье', 'Флотация', 'Первичная очистка', 'Вторичная очистка'])"
   ]
  },
  {
   "cell_type": "code",
   "execution_count": 22,
   "metadata": {
    "colab": {
     "base_uri": "https://localhost:8080/",
     "height": 295
    },
    "id": "6XyQmgLnRTwx",
    "outputId": "45ba08d9-7ad3-4d68-f7b2-77010e1742b7"
   },
   "outputs": [
    {
     "data": {
      "image/png": "[encoded data removed]",
      "text/plain": [
       "<Figure size 432x288 with 1 Axes>"
      ]
     },
     "metadata": {
      "needs_background": "light"
     },
     "output_type": "display_data"
    }
   ],
   "source": [
    "hist(au, 'Золото')"
   ]
  },
  {
   "cell_type": "code",
   "execution_count": 23,
   "metadata": {
    "colab": {
     "base_uri": "https://localhost:8080/",
     "height": 295
    },
    "id": "Q1n5GL8xRZ3i",
    "outputId": "dd03a1be-77a1-4b8e-dbcd-c524453fcecb"
   },
   "outputs": [
    {
     "data": {
      "image/png": "[encoded data removed]",
      "text/plain": [
       "<Figure size 432x288 with 1 Axes>"
      ]
     },
     "metadata": {
      "needs_background": "light"
     },
     "output_type": "display_data"
    }
   ],
   "source": [
    "hist(ag, 'Серебро')"
   ]
  },
  {
   "cell_type": "code",
   "execution_count": 24,
   "metadata": {
    "colab": {
     "base_uri": "https://localhost:8080/",
     "height": 295
    },
    "id": "OTJyN-4_RuR8",
    "outputId": "0d08eafd-4af5-41c3-ef0a-a8cb2b3e6ebd"
   },
   "outputs": [
    {
     "data": {
      "image/png": "[encoded data removed]",
      "text/plain": [
       "<Figure size 432x288 with 1 Axes>"
      ]
     },
     "metadata": {
      "needs_background": "light"
     },
     "output_type": "display_data"
    }
   ],
   "source": [
    "hist(pb, 'Свинец')"
   ]
  },
  {
   "cell_type": "markdown",
   "metadata": {
    "id": "kS2nMNW6Y-B_"
   },
   "source": [
    "* Для разных металлов концентрация на различных этапах очистки отличается. \n",
    "  1. Концентрация золота увеличивается с каждым этапом очистки\n",
    "  2. Концентрация серебра после вторичной очистки меньше, чем в исходном сырье\n",
    "  3. Концентрация свинца после первичной и вторичной очистки не меняется.\n",
    "* В данных присутствуют нулевые значения. От них необходимо будет избавиться, так как они могут повлиять на качество модели."
   ]
  },
  {
   "cell_type": "markdown",
   "metadata": {
    "id": "mwkJ7t18Z8uD"
   },
   "source": [
    "Сравним распределение размеров гранул сырья на обучающей и тестовой выборка.\n",
    "Если распределение будет сильно отличаться, оценка модели будет неправильной.\n",
    "\n",
    "В датасетах есть два признака с параметром `feed_size` в обучающей и тестовой выборках - это `primary_cleaner.input.feed_size` и `rougher.input.feed_size`"
   ]
  },
  {
   "cell_type": "code",
   "execution_count": 25,
   "metadata": {
    "colab": {
     "base_uri": "https://localhost:8080/",
     "height": 286
    },
    "id": "I7Bzco1Ha8aD",
    "outputId": "a2299c0d-c920-4d91-f464-4547d6e69c31"
   },
   "outputs": [
    {
     "data": {
      "text/plain": [
       "<AxesSubplot:>"
      ]
     },
     "execution_count": 25,
     "metadata": {},
     "output_type": "execute_result"
    },
    {
     "data": {
      "image/png": "[encoded data removed]",
      "text/plain": [
       "<Figure size 432x288 with 1 Axes>"
      ]
     },
     "metadata": {
      "needs_background": "light"
     },
     "output_type": "display_data"
    }
   ],
   "source": [
    "df_train['primary_cleaner.input.feed_size'].hist(bins=20, range=(5, 10), density=True, legend=True)\n",
    "df_test['primary_cleaner.input.feed_size'].hist(bins=20, range=(5, 10), density=True, legend=True, alpha=0.6)\n"
   ]
  },
  {
   "cell_type": "code",
   "execution_count": 58,
   "metadata": {},
   "outputs": [
    {
     "data": {
      "text/plain": [
       "<AxesSubplot:>"
      ]
     },
     "execution_count": 58,
     "metadata": {},
     "output_type": "execute_result"
    },
    {
     "data": {
      "image/png": "[encoded data removed]",
      "text/plain": [
       "<Figure size 432x288 with 1 Axes>"
      ]
     },
     "metadata": {
      "needs_background": "light"
     },
     "output_type": "display_data"
    }
   ],
   "source": [
    "df_train['rougher.input.feed_size'].hist(bins=20, range=(0, 300), density=True, legend=True)\n",
    "df_test['rougher.input.feed_size'].hist(bins=20, range=(0, 300), density=True, legend=True, alpha=0.6)\n"
   ]
  },
  {
   "cell_type": "markdown",
   "metadata": {
    "id": "v-hRHD7xbyRJ"
   },
   "source": [
    "Для обоих параметров распеделение не сильно отличается на выборках. Такие неточности не должны критично повлиять на результат работы модели."
   ]
  },
  {
   "cell_type": "markdown",
   "metadata": {
    "id": "UzElwkrXcRnQ"
   },
   "source": [
    "Исследуем суммарную концентрацию всех веществ на разных стадиях:\n",
    " * В сырье\n",
    " * В черновом\n",
    " * В финальном концентрате"
   ]
  },
  {
   "cell_type": "code",
   "execution_count": 30,
   "metadata": {
    "id": "_D7LdzE2baMh"
   },
   "outputs": [],
   "source": [
    "concentrate_data = df_full[['date','rougher.input.feed_ag', 'rougher.input.feed_pb', \n",
    "                              'rougher.input.feed_sol', 'rougher.input.feed_au', 'primary_cleaner.output.concentrate_ag', \n",
    "                              'primary_cleaner.output.concentrate_pb', 'primary_cleaner.output.concentrate_sol', 'primary_cleaner.output.concentrate_au', \n",
    "                              'final.output.concentrate_ag', 'final.output.concentrate_pb', 'final.output.concentrate_sol', \n",
    "                              'final.output.concentrate_au']].copy()\n",
    "\n",
    "concentrate_data['conc_sum_rougher'] = (concentrate_data['rougher.input.feed_ag'] + \n",
    "                                        concentrate_data['rougher.input.feed_pb'] + \n",
    "                                        concentrate_data['rougher.input.feed_sol'] + \n",
    "                                        concentrate_data['rougher.input.feed_au'])\n",
    "\n",
    "concentrate_data['conc_sum_primary'] = (concentrate_data['primary_cleaner.output.concentrate_ag'] + \n",
    "                                        concentrate_data['primary_cleaner.output.concentrate_pb'] + \n",
    "                                        concentrate_data['primary_cleaner.output.concentrate_sol'] + \n",
    "                                        concentrate_data['primary_cleaner.output.concentrate_au'])\n",
    "\n",
    "concentrate_data['conc_sum_final'] = (concentrate_data['final.output.concentrate_ag'] + \n",
    "                                      concentrate_data['final.output.concentrate_pb'] + \n",
    "                                      concentrate_data['final.output.concentrate_sol'] + \n",
    "                                      concentrate_data['final.output.concentrate_au'])\n"
   ]
  },
  {
   "cell_type": "markdown",
   "metadata": {
    "id": "S5XnwZ66vRBB"
   },
   "source": [
    "Построим гистограммы"
   ]
  },
  {
   "cell_type": "code",
   "execution_count": 31,
   "metadata": {
    "colab": {
     "base_uri": "https://localhost:8080/",
     "height": 312
    },
    "id": "evRx4JcLvXhn",
    "outputId": "b2d11c1c-f709-4c7f-a66b-06bc27555073"
   },
   "outputs": [
    {
     "data": {
      "text/plain": [
       "Text(0, 0.5, 'Количество наблюдений')"
      ]
     },
     "execution_count": 31,
     "metadata": {},
     "output_type": "execute_result"
    },
    {
     "data": {
      "image/png": "[encoded data removed]",
      "text/plain": [
       "<Figure size 432x288 with 1 Axes>"
      ]
     },
     "metadata": {
      "needs_background": "light"
     },
     "output_type": "display_data"
    }
   ],
   "source": [
    "concentrate_data['conc_sum_rougher'].hist(alpha=.5)\n",
    "concentrate_data['conc_sum_primary'].hist(alpha=.5)\n",
    "concentrate_data['conc_sum_final'].hist(alpha=.5)\n",
    "plt.title('Концентрация веществ')\n",
    "plt.xlabel('Концентрация')\n",
    "plt.ylabel('Количество наблюдений')"
   ]
  },
  {
   "cell_type": "markdown",
   "metadata": {
    "id": "Mwib3b-6FLgF"
   },
   "source": [
    "На графике заментны нулевые значения. Лучше от них избавиться, что бы они не повлияли на качество модели."
   ]
  },
  {
   "cell_type": "code",
   "execution_count": 32,
   "metadata": {
    "colab": {
     "base_uri": "https://localhost:8080/",
     "height": 206
    },
    "id": "cxSk2EWpvfAc",
    "outputId": "7764713d-8818-4c71-f944-b5ed77908115"
   },
   "outputs": [
    {
     "data": {
      "text/html": [
       "<div>\n",
       "<style scoped>\n",
       "    .dataframe tbody tr th:only-of-type {\n",
       "        vertical-align: middle;\n",
       "    }\n",
       "\n",
       "    .dataframe tbody tr th {\n",
       "        vertical-align: top;\n",
       "    }\n",
       "\n",
       "    .dataframe thead th {\n",
       "        text-align: right;\n",
       "    }\n",
       "</style>\n",
       "<table border=\"1\" class=\"dataframe\">\n",
       "  <thead>\n",
       "    <tr style=\"text-align: right;\">\n",
       "      <th></th>\n",
       "      <th>date</th>\n",
       "      <th>conc_sum_rougher</th>\n",
       "      <th>conc_sum_primary</th>\n",
       "      <th>conc_sum_final</th>\n",
       "    </tr>\n",
       "  </thead>\n",
       "  <tbody>\n",
       "    <tr>\n",
       "      <th>19</th>\n",
       "      <td>2016-01-15 19:00:00</td>\n",
       "      <td>56.005644</td>\n",
       "      <td>0.0</td>\n",
       "      <td>64.546766</td>\n",
       "    </tr>\n",
       "    <tr>\n",
       "      <th>22</th>\n",
       "      <td>2016-01-15 22:00:00</td>\n",
       "      <td>56.038252</td>\n",
       "      <td>0.0</td>\n",
       "      <td>64.554911</td>\n",
       "    </tr>\n",
       "    <tr>\n",
       "      <th>30</th>\n",
       "      <td>2016-01-16 06:00:00</td>\n",
       "      <td>57.764677</td>\n",
       "      <td>0.0</td>\n",
       "      <td>63.765751</td>\n",
       "    </tr>\n",
       "    <tr>\n",
       "      <th>71</th>\n",
       "      <td>2016-01-18 01:00:00</td>\n",
       "      <td>56.626743</td>\n",
       "      <td>0.0</td>\n",
       "      <td>65.773298</td>\n",
       "    </tr>\n",
       "    <tr>\n",
       "      <th>74</th>\n",
       "      <td>2016-01-18 04:00:00</td>\n",
       "      <td>56.369424</td>\n",
       "      <td>0.0</td>\n",
       "      <td>59.902215</td>\n",
       "    </tr>\n",
       "  </tbody>\n",
       "</table>\n",
       "</div>"
      ],
      "text/plain": [
       "                   date  conc_sum_rougher  conc_sum_primary  conc_sum_final\n",
       "19  2016-01-15 19:00:00         56.005644               0.0       64.546766\n",
       "22  2016-01-15 22:00:00         56.038252               0.0       64.554911\n",
       "30  2016-01-16 06:00:00         57.764677               0.0       63.765751\n",
       "71  2016-01-18 01:00:00         56.626743               0.0       65.773298\n",
       "74  2016-01-18 04:00:00         56.369424               0.0       59.902215"
      ]
     },
     "execution_count": 32,
     "metadata": {},
     "output_type": "execute_result"
    }
   ],
   "source": [
    "outlier = (concentrate_data[['date', 'conc_sum_rougher', 'conc_sum_primary', 'conc_sum_final']]\n",
    "           .query('conc_sum_rougher == 0 or conc_sum_primary == 0 or conc_sum_final == 0').fillna(0))\n",
    "outlier.head()"
   ]
  },
  {
   "cell_type": "markdown",
   "metadata": {
    "id": "zI0dY-feI2aU"
   },
   "source": [
    "Избавимся от выбросов в тестовой выборке."
   ]
  },
  {
   "cell_type": "code",
   "execution_count": 33,
   "metadata": {
    "id": "dmgu2YswF3JU"
   },
   "outputs": [],
   "source": [
    "df_test = df_test.join(outlier.set_index('date'), on='date')\n",
    "df_test[['conc_sum_rougher', 'conc_sum_primary', 'conc_sum_final']] = df_test[['conc_sum_rougher', 'conc_sum_primary', 'conc_sum_final']].fillna(-1)\n",
    "df_test = df_test.query('conc_sum_rougher == -1 and conc_sum_primary == -1 and conc_sum_final == -1')\n"
   ]
  },
  {
   "cell_type": "code",
   "execution_count": 34,
   "metadata": {
    "colab": {
     "base_uri": "https://localhost:8080/",
     "height": 282
    },
    "id": "eHDwZYSgJm1Q",
    "outputId": "ae0c39a1-4888-4c18-93f6-9471266078ea"
   },
   "outputs": [
    {
     "data": {
      "text/plain": [
       "<AxesSubplot:>"
      ]
     },
     "execution_count": 34,
     "metadata": {},
     "output_type": "execute_result"
    },
    {
     "data": {
      "image/png": "[encoded data removed]",
      "text/plain": [
       "<Figure size 432x288 with 1 Axes>"
      ]
     },
     "metadata": {
      "needs_background": "light"
     },
     "output_type": "display_data"
    }
   ],
   "source": [
    "df_test['conc_sum_rougher'].hist(alpha=.5)\n",
    "df_test['conc_sum_primary'].hist(alpha=.5)\n",
    "df_test['conc_sum_final'].hist(alpha=.5)"
   ]
  },
  {
   "cell_type": "markdown",
   "metadata": {
    "id": "ORl-r-E0J_FW"
   },
   "source": [
    "Значения всех признаков -1, значит все выполнилось правильно.\n",
    "Теперь удалим эти столбцы."
   ]
  },
  {
   "cell_type": "code",
   "execution_count": 35,
   "metadata": {
    "id": "deT_8gdWJ4PS"
   },
   "outputs": [],
   "source": [
    "df_test.drop(['conc_sum_rougher', 'conc_sum_primary', 'conc_sum_final'], axis=1, inplace=True)"
   ]
  },
  {
   "cell_type": "markdown",
   "metadata": {
    "id": "xTB0q2wFKZAD"
   },
   "source": [
    "Теперь повторим все тоже самое для тренировочной выборки."
   ]
  },
  {
   "cell_type": "code",
   "execution_count": 36,
   "metadata": {
    "id": "bR8iqn9xKVBA"
   },
   "outputs": [],
   "source": [
    "df_train = df_train.join(outlier.set_index('date'), on='date')\n",
    "df_train[['conc_sum_rougher', 'conc_sum_primary', 'conc_sum_final']] = df_train[['conc_sum_rougher', 'conc_sum_primary', 'conc_sum_final']].fillna(-1)\n",
    "df_train = df_train.query('conc_sum_rougher == -1 and conc_sum_primary == -1 and conc_sum_final == -1')\n",
    "df_train.drop(['conc_sum_rougher', 'conc_sum_primary', 'conc_sum_final'], axis=1, inplace=True)"
   ]
  },
  {
   "cell_type": "markdown",
   "metadata": {
    "id": "ukf-riXQKr2u"
   },
   "source": [
    "Удалим оставшиеся пропуски."
   ]
  },
  {
   "cell_type": "code",
   "execution_count": 37,
   "metadata": {
    "id": "aEKnlHxwKuEt"
   },
   "outputs": [],
   "source": [
    "df_test.dropna(inplace=True)\n",
    "df_train.dropna(inplace=True)"
   ]
  },
  {
   "cell_type": "code",
   "execution_count": 38,
   "metadata": {
    "colab": {
     "base_uri": "https://localhost:8080/"
    },
    "id": "1UtTgbZ2K3UG",
    "outputId": "1fd693bf-a7f0-4d28-a3a7-839632761ed9",
    "scrolled": true
   },
   "outputs": [
    {
     "name": "stdout",
     "output_type": "stream",
     "text": [
      "(12593, 55)\n",
      "(5169, 55)\n"
     ]
    }
   ],
   "source": [
    "print(df_train.shape)\n",
    "print(df_test.shape)"
   ]
  },
  {
   "cell_type": "markdown",
   "metadata": {
    "id": "JkDyYE9ESUPy"
   },
   "source": [
    "## Модель\n",
    "\n",
    "Напишем функицию для расчета метрики sMAPE."
   ]
  },
  {
   "cell_type": "code",
   "execution_count": 39,
   "metadata": {
    "id": "f3XKUrJsSbLw"
   },
   "outputs": [],
   "source": [
    "def smape(target, predictions):\n",
    "    return 100/len(target) * np.sum(2 * np.abs(predictions - target) / (np.abs(target) + np.abs(predictions)))"
   ]
  },
  {
   "cell_type": "markdown",
   "metadata": {
    "id": "qA2ZXZhOTMAh"
   },
   "source": [
    "И функцию для расчета итогового sMAPE."
   ]
  },
  {
   "cell_type": "code",
   "execution_count": 40,
   "metadata": {
    "id": "LRo0lebXSqBP"
   },
   "outputs": [],
   "source": [
    "def final_smape(rougher, final):\n",
    "  return 0.25 * rougher + 0.75 * final"
   ]
  },
  {
   "cell_type": "markdown",
   "metadata": {
    "id": "8f9YXtbgcTmp"
   },
   "source": [
    "Подготовим features и target для обучающей выборки."
   ]
  },
  {
   "cell_type": "code",
   "execution_count": 41,
   "metadata": {
    "id": "XmU18iZxXMIS"
   },
   "outputs": [],
   "source": [
    "target_train_rougher = df_train['rougher.output.recovery']\n",
    "target_train_final = df_train['final.output.recovery']\n",
    "\n",
    "features_train = df_train.drop(['date', 'final.output.recovery', 'rougher.output.recovery'], axis=1)"
   ]
  },
  {
   "cell_type": "markdown",
   "metadata": {
    "id": "fJP41RzcmFJi"
   },
   "source": [
    "Масштабируем признаки."
   ]
  },
  {
   "cell_type": "code",
   "execution_count": 42,
   "metadata": {
    "id": "bszXKWXvdFa7"
   },
   "outputs": [],
   "source": [
    "scaler = StandardScaler()\n",
    "scaler.fit(features_train)\n",
    "features_train = scaler.transform(features_train)"
   ]
  },
  {
   "cell_type": "code",
   "execution_count": 43,
   "metadata": {
    "id": "UDQDHYJ0rirp"
   },
   "outputs": [],
   "source": [
    "score = make_scorer(smape, greater_is_better=False)"
   ]
  },
  {
   "cell_type": "markdown",
   "metadata": {
    "id": "wPNxtjXFmDJS"
   },
   "source": [
    "С помощью кросс-валидации проверим разные модели и выберем лучшую."
   ]
  },
  {
   "cell_type": "code",
   "execution_count": 44,
   "metadata": {
    "colab": {
     "base_uri": "https://localhost:8080/"
    },
    "id": "DctsKUsOgsA1",
    "outputId": "a7c14323-dc19-461d-db34-c89319229266"
   },
   "outputs": [
    {
     "name": "stdout",
     "output_type": "stream",
     "text": [
      "-20.731344782050588\n",
      "-16.683001791842663\n"
     ]
    }
   ],
   "source": [
    "model_dtr = DecisionTreeRegressor(random_state=777)\n",
    "rougher_model_dtr = cross_val_score(model_dtr, features_train, target_train_rougher, scoring=score).mean()\n",
    "final_model_dtr = cross_val_score(model_dtr, features_train, target_train_final, scoring=score).mean()\n",
    "print(rougher_model_dtr)\n",
    "print(final_model_dtr)"
   ]
  },
  {
   "cell_type": "code",
   "execution_count": 45,
   "metadata": {
    "colab": {
     "base_uri": "https://localhost:8080/"
    },
    "id": "UJbaEFVsl_tD",
    "outputId": "e4e1e37c-5250-465c-db7d-2ac9a8be7cc6"
   },
   "outputs": [
    {
     "name": "stdout",
     "output_type": "stream",
     "text": [
      "-10.757232685937554\n",
      "-10.321641566366015\n"
     ]
    }
   ],
   "source": [
    "model_lr = LinearRegression()\n",
    "rougher_model_lr = cross_val_score(model_lr, features_train, target_train_rougher, scoring=score).mean()\n",
    "final_model_lr = cross_val_score(model_lr, features_train, target_train_final, scoring=score).mean()\n",
    "print(rougher_model_lr)\n",
    "print(final_model_lr)"
   ]
  },
  {
   "cell_type": "code",
   "execution_count": 46,
   "metadata": {
    "colab": {
     "base_uri": "https://localhost:8080/"
    },
    "id": "bR-SmG08m92T",
    "outputId": "e10dc4b0-a18a-47a6-c6aa-fa7cb118b7ab"
   },
   "outputs": [
    {
     "name": "stdout",
     "output_type": "stream",
     "text": [
      "-13.009079687970146\n",
      "-10.13510873753921\n",
      "CPU times: user 48.6 s, sys: 1.23 ms, total: 48.6 s\n",
      "Wall time: 48.7 s\n"
     ]
    }
   ],
   "source": [
    "%%time\n",
    "model_rf = RandomForestRegressor(random_state=777, n_estimators=10)\n",
    "rougher_model_rf = cross_val_score(model_rf, features_train, target_train_rougher, scoring=score).mean()\n",
    "final_model_rf = cross_val_score(model_rf, features_train, target_train_final, scoring=score).mean()\n",
    "print(rougher_model_rf)\n",
    "print(final_model_rf)"
   ]
  },
  {
   "cell_type": "code",
   "execution_count": 59,
   "metadata": {
    "colab": {
     "base_uri": "https://localhost:8080/"
    },
    "id": "HlpJx4hZjxpW",
    "outputId": "403f2f47-ea81-41da-cf40-06707eb35473"
   },
   "outputs": [
    {
     "name": "stderr",
     "output_type": "stream",
     "text": [
      "/opt/conda/lib/python3.9/site-packages/sklearn/model_selection/_search.py:285: UserWarning: The total space of parameters 9 is smaller than n_iter=10. Running 9 iterations. For exhaustive searches, use GridSearchCV.\n",
      "  warnings.warn(\n"
     ]
    },
    {
     "name": "stdout",
     "output_type": "stream",
     "text": [
      "Fitting 3 folds for each of 9 candidates, totalling 27 fits\n",
      "[CV 1/3] END ....................max_depth=4, n_estimators=1; total time=   0.1s\n",
      "[CV 2/3] END ....................max_depth=4, n_estimators=1; total time=   0.1s\n",
      "[CV 3/3] END ....................max_depth=4, n_estimators=1; total time=   0.1s\n",
      "[CV 1/3] END ....................max_depth=4, n_estimators=4; total time=   0.4s\n",
      "[CV 2/3] END ....................max_depth=4, n_estimators=4; total time=   0.4s\n",
      "[CV 3/3] END ....................max_depth=4, n_estimators=4; total time=   0.4s\n",
      "[CV 1/3] END ....................max_depth=4, n_estimators=7; total time=   0.7s\n",
      "[CV 2/3] END ....................max_depth=4, n_estimators=7; total time=   0.7s\n",
      "[CV 3/3] END ....................max_depth=4, n_estimators=7; total time=   0.7s\n",
      "[CV 1/3] END ....................max_depth=6, n_estimators=1; total time=   0.2s\n",
      "[CV 2/3] END ....................max_depth=6, n_estimators=1; total time=   0.1s\n",
      "[CV 3/3] END ....................max_depth=6, n_estimators=1; total time=   0.2s\n",
      "[CV 1/3] END ....................max_depth=6, n_estimators=4; total time=   0.6s\n",
      "[CV 2/3] END ....................max_depth=6, n_estimators=4; total time=   0.6s\n",
      "[CV 3/3] END ....................max_depth=6, n_estimators=4; total time=   0.7s\n",
      "[CV 1/3] END ....................max_depth=6, n_estimators=7; total time=   1.1s\n",
      "[CV 2/3] END ....................max_depth=6, n_estimators=7; total time=   1.1s\n",
      "[CV 3/3] END ....................max_depth=6, n_estimators=7; total time=   1.1s\n",
      "[CV 1/3] END ....................max_depth=8, n_estimators=1; total time=   0.2s\n",
      "[CV 2/3] END ....................max_depth=8, n_estimators=1; total time=   0.2s\n",
      "[CV 3/3] END ....................max_depth=8, n_estimators=1; total time=   0.2s\n",
      "[CV 1/3] END ....................max_depth=8, n_estimators=4; total time=   0.8s\n",
      "[CV 2/3] END ....................max_depth=8, n_estimators=4; total time=   0.7s\n",
      "[CV 3/3] END ....................max_depth=8, n_estimators=4; total time=   0.7s\n",
      "[CV 1/3] END ....................max_depth=8, n_estimators=7; total time=   1.3s\n",
      "[CV 2/3] END ....................max_depth=8, n_estimators=7; total time=   1.3s\n",
      "[CV 3/3] END ....................max_depth=8, n_estimators=7; total time=   1.3s\n"
     ]
    },
    {
     "data": {
      "text/plain": [
       "-9.56618751559097"
      ]
     },
     "execution_count": 59,
     "metadata": {},
     "output_type": "execute_result"
    }
   ],
   "source": [
    "parametrs = {'n_estimators' :  range(1, 10, 3),\n",
    "             'max_depth' : range(4, 10, 2)}\n",
    "grid = RandomizedSearchCV(model_rf, parametrs, cv=3, verbose=3, scoring=score)\n",
    "grid.fit(features_train, target_train_final)\n",
    "grid.best_score_"
   ]
  },
  {
   "cell_type": "code",
   "execution_count": 60,
   "metadata": {
    "scrolled": true
   },
   "outputs": [
    {
     "name": "stderr",
     "output_type": "stream",
     "text": [
      "/opt/conda/lib/python3.9/site-packages/sklearn/model_selection/_search.py:285: UserWarning: The total space of parameters 9 is smaller than n_iter=10. Running 9 iterations. For exhaustive searches, use GridSearchCV.\n",
      "  warnings.warn(\n"
     ]
    },
    {
     "name": "stdout",
     "output_type": "stream",
     "text": [
      "Fitting 3 folds for each of 9 candidates, totalling 27 fits\n",
      "[CV 1/3] END ....................max_depth=4, n_estimators=1; total time=   0.1s\n",
      "[CV 2/3] END ....................max_depth=4, n_estimators=1; total time=   0.1s\n",
      "[CV 3/3] END ....................max_depth=4, n_estimators=1; total time=   0.1s\n",
      "[CV 1/3] END ....................max_depth=4, n_estimators=4; total time=   0.4s\n",
      "[CV 2/3] END ....................max_depth=4, n_estimators=4; total time=   0.4s\n",
      "[CV 3/3] END ....................max_depth=4, n_estimators=4; total time=   0.4s\n",
      "[CV 1/3] END ....................max_depth=4, n_estimators=7; total time=   0.8s\n",
      "[CV 2/3] END ....................max_depth=4, n_estimators=7; total time=   0.7s\n",
      "[CV 3/3] END ....................max_depth=4, n_estimators=7; total time=   0.8s\n",
      "[CV 1/3] END ....................max_depth=6, n_estimators=1; total time=   0.2s\n",
      "[CV 2/3] END ....................max_depth=6, n_estimators=1; total time=   0.2s\n",
      "[CV 3/3] END ....................max_depth=6, n_estimators=1; total time=   0.2s\n",
      "[CV 1/3] END ....................max_depth=6, n_estimators=4; total time=   0.6s\n",
      "[CV 2/3] END ....................max_depth=6, n_estimators=4; total time=   0.6s\n",
      "[CV 3/3] END ....................max_depth=6, n_estimators=4; total time=   0.6s\n",
      "[CV 1/3] END ....................max_depth=6, n_estimators=7; total time=   1.1s\n",
      "[CV 2/3] END ....................max_depth=6, n_estimators=7; total time=   1.1s\n",
      "[CV 3/3] END ....................max_depth=6, n_estimators=7; total time=   1.0s\n",
      "[CV 1/3] END ....................max_depth=8, n_estimators=1; total time=   0.2s\n",
      "[CV 2/3] END ....................max_depth=8, n_estimators=1; total time=   0.2s\n",
      "[CV 3/3] END ....................max_depth=8, n_estimators=1; total time=   0.2s\n",
      "[CV 1/3] END ....................max_depth=8, n_estimators=4; total time=   0.8s\n",
      "[CV 2/3] END ....................max_depth=8, n_estimators=4; total time=   0.8s\n",
      "[CV 3/3] END ....................max_depth=8, n_estimators=4; total time=   0.8s\n",
      "[CV 1/3] END ....................max_depth=8, n_estimators=7; total time=   1.4s\n",
      "[CV 2/3] END ....................max_depth=8, n_estimators=7; total time=   1.3s\n",
      "[CV 3/3] END ....................max_depth=8, n_estimators=7; total time=   1.3s\n"
     ]
    },
    {
     "data": {
      "text/plain": [
       "-10.713971813267605"
      ]
     },
     "execution_count": 60,
     "metadata": {},
     "output_type": "execute_result"
    }
   ],
   "source": [
    "parametrs = {'n_estimators' :  range(1, 10, 3),\n",
    "             'max_depth' : range(4, 10, 2)}\n",
    "grid = RandomizedSearchCV(model_rf, parametrs, cv=3, verbose=3, scoring=score)\n",
    "grid.fit(features_train, target_train_rougher)\n",
    "grid.best_score_"
   ]
  },
  {
   "cell_type": "markdown",
   "metadata": {
    "id": "flYBSdVAtGlo"
   },
   "source": [
    "Наилучший результат дала модель линейной регрессии.\n",
    "Подготовим target и features для тестовой выборки и масштабируем признаки.\n"
   ]
  },
  {
   "cell_type": "code",
   "execution_count": 50,
   "metadata": {
    "id": "AFw47SgLnVUs"
   },
   "outputs": [],
   "source": [
    "target_test_rougher = df_test['rougher.output.recovery']\n",
    "target_test_final = df_test['final.output.recovery']\n",
    "\n",
    "features_test = df_test.drop(['date', 'rougher.output.recovery', 'final.output.recovery'], axis=1)"
   ]
  },
  {
   "cell_type": "code",
   "execution_count": 51,
   "metadata": {
    "id": "4qV_PVAVuIjJ"
   },
   "outputs": [],
   "source": [
    "scaler = StandardScaler()\n",
    "scaler.fit(features_test)\n",
    "features_test = scaler.transform(features_test)"
   ]
  },
  {
   "cell_type": "code",
   "execution_count": 52,
   "metadata": {
    "id": "VwJ4DU7KuS7O"
   },
   "outputs": [],
   "source": [
    "model = LinearRegression()\n",
    "model_1 = LinearRegression()\n",
    "\n",
    "model.fit(features_train, target_train_rougher)\n",
    "model_1.fit(features_train, target_train_final)\n",
    "\n",
    "predicted_rougher = model.predict(features_test)\n",
    "predicted_final = model_1.predict(features_test)"
   ]
  },
  {
   "cell_type": "markdown",
   "metadata": {
    "id": "dfkG9k8L2jeu"
   },
   "source": [
    "Посчитаем sMAPE и итоговый sMAPE."
   ]
  },
  {
   "cell_type": "code",
   "execution_count": 53,
   "metadata": {
    "id": "Y07paYuh2Q3v"
   },
   "outputs": [],
   "source": [
    "smape_rougher = smape(target_test_rougher, predicted_rougher)\n",
    "smape_final = smape(target_test_final, predicted_final)"
   ]
  },
  {
   "cell_type": "code",
   "execution_count": 54,
   "metadata": {
    "colab": {
     "base_uri": "https://localhost:8080/"
    },
    "id": "UTcAjHR020oH",
    "outputId": "ce058052-0d92-4f7d-d92e-dcc1dbe3d265"
   },
   "outputs": [
    {
     "data": {
      "text/plain": [
       "9.49521433561976"
      ]
     },
     "execution_count": 54,
     "metadata": {},
     "output_type": "execute_result"
    }
   ],
   "source": [
    "final_smape(smape_rougher, smape_final)"
   ]
  },
  {
   "cell_type": "markdown",
   "metadata": {
    "id": "tQghH2uN4SRd"
   },
   "source": [
    "Проверим качество модели сравнив ее с константой."
   ]
  },
  {
   "cell_type": "code",
   "execution_count": 55,
   "metadata": {
    "id": "nzoCCJE_3JbU"
   },
   "outputs": [],
   "source": [
    "dummy = DummyRegressor(strategy='mean')\n",
    "dummy_1 = DummyRegressor(strategy='mean')\n",
    "\n",
    "dummy.fit(features_test, target_test_rougher)\n",
    "dummy_1.fit(features_test, target_test_final)\n",
    "\n",
    "dummy_predicted_rougher = dummy.predict(features_test)\n",
    "dummy_predicted_final = dummy_1.predict(features_test)"
   ]
  },
  {
   "cell_type": "code",
   "execution_count": 56,
   "metadata": {
    "id": "JfgNby2N4gyV"
   },
   "outputs": [],
   "source": [
    "dummy_smape_rougher = smape(target_test_rougher, dummy_predicted_rougher)\n",
    "dummy_smape_final = smape(target_test_final, dummy_predicted_final)"
   ]
  },
  {
   "cell_type": "code",
   "execution_count": 57,
   "metadata": {
    "colab": {
     "base_uri": "https://localhost:8080/"
    },
    "id": "FXj5hyG55JHC",
    "outputId": "ee9cd3ec-ff80-4906-dba4-b445dae2ae02"
   },
   "outputs": [
    {
     "data": {
      "text/plain": [
       "7.89053500576828"
      ]
     },
     "execution_count": 57,
     "metadata": {},
     "output_type": "execute_result"
    }
   ],
   "source": [
    "final_smape(dummy_smape_rougher, dummy_smape_final)"
   ]
  },
  {
   "cell_type": "markdown",
   "metadata": {
    "id": "d9Sl0kWz5i3F"
   },
   "source": [
    "Обученная модель линейной регрессии предсказывает результат лучше Dummy модели."
   ]
  },
  {
   "cell_type": "markdown",
   "metadata": {
    "id": "t-rUWQYj5syY"
   },
   "source": [
    "**Вывод**\n",
    "\n",
    "1. Были написанны формулы для расчет sMAPE и итогового sMAPE.\n",
    "2. С помощью кросс-валидации была выявлена самая точная модель - LinearRegression\n",
    "3. С помощью Dummy модели проверили обученную модель на адекватность.\n",
    "4. Прототип модели машинного обучения для \"Цифры\" готов."
   ]
  }
 ],
 "metadata": {
  "ExecuteTimeLog": [
   {
    "duration": 2250,
    "start_time": "2022-04-21T17:02:30.841Z"
   },
   {
    "duration": 184,
    "start_time": "2022-04-21T17:02:33.094Z"
   },
   {
    "duration": 0,
    "start_time": "2022-04-21T17:02:33.283Z"
   },
   {
    "duration": 1,
    "start_time": "2022-04-21T17:02:33.284Z"
   },
   {
    "duration": 0,
    "start_time": "2022-04-21T17:02:33.286Z"
   },
   {
    "duration": 0,
    "start_time": "2022-04-21T17:02:33.288Z"
   },
   {
    "duration": 0,
    "start_time": "2022-04-21T17:02:33.289Z"
   },
   {
    "duration": 0,
    "start_time": "2022-04-21T17:02:33.291Z"
   },
   {
    "duration": 0,
    "start_time": "2022-04-21T17:02:33.292Z"
   },
   {
    "duration": 0,
    "start_time": "2022-04-21T17:02:33.294Z"
   },
   {
    "duration": 0,
    "start_time": "2022-04-21T17:02:33.295Z"
   },
   {
    "duration": 0,
    "start_time": "2022-04-21T17:02:33.297Z"
   },
   {
    "duration": 0,
    "start_time": "2022-04-21T17:02:33.324Z"
   },
   {
    "duration": 0,
    "start_time": "2022-04-21T17:02:33.326Z"
   },
   {
    "duration": 0,
    "start_time": "2022-04-21T17:02:33.328Z"
   },
   {
    "duration": 0,
    "start_time": "2022-04-21T17:02:33.330Z"
   },
   {
    "duration": 0,
    "start_time": "2022-04-21T17:02:33.331Z"
   },
   {
    "duration": 0,
    "start_time": "2022-04-21T17:02:33.333Z"
   },
   {
    "duration": 0,
    "start_time": "2022-04-21T17:02:33.335Z"
   },
   {
    "duration": 0,
    "start_time": "2022-04-21T17:02:33.336Z"
   },
   {
    "duration": 0,
    "start_time": "2022-04-21T17:02:33.338Z"
   },
   {
    "duration": 0,
    "start_time": "2022-04-21T17:02:33.339Z"
   },
   {
    "duration": 0,
    "start_time": "2022-04-21T17:02:33.341Z"
   },
   {
    "duration": 0,
    "start_time": "2022-04-21T17:02:33.342Z"
   },
   {
    "duration": 0,
    "start_time": "2022-04-21T17:02:33.344Z"
   },
   {
    "duration": 0,
    "start_time": "2022-04-21T17:02:33.345Z"
   },
   {
    "duration": 0,
    "start_time": "2022-04-21T17:02:33.347Z"
   },
   {
    "duration": 0,
    "start_time": "2022-04-21T17:02:33.349Z"
   },
   {
    "duration": 0,
    "start_time": "2022-04-21T17:02:33.350Z"
   },
   {
    "duration": 0,
    "start_time": "2022-04-21T17:02:33.352Z"
   },
   {
    "duration": 0,
    "start_time": "2022-04-21T17:02:33.353Z"
   },
   {
    "duration": 0,
    "start_time": "2022-04-21T17:02:33.355Z"
   },
   {
    "duration": 0,
    "start_time": "2022-04-21T17:02:33.357Z"
   },
   {
    "duration": 0,
    "start_time": "2022-04-21T17:02:33.358Z"
   },
   {
    "duration": 0,
    "start_time": "2022-04-21T17:02:33.360Z"
   },
   {
    "duration": 0,
    "start_time": "2022-04-21T17:02:33.361Z"
   },
   {
    "duration": 0,
    "start_time": "2022-04-21T17:02:33.362Z"
   },
   {
    "duration": 0,
    "start_time": "2022-04-21T17:02:33.364Z"
   },
   {
    "duration": 0,
    "start_time": "2022-04-21T17:02:33.425Z"
   },
   {
    "duration": 0,
    "start_time": "2022-04-21T17:02:33.426Z"
   },
   {
    "duration": 0,
    "start_time": "2022-04-21T17:02:33.428Z"
   },
   {
    "duration": 0,
    "start_time": "2022-04-21T17:02:33.429Z"
   },
   {
    "duration": 0,
    "start_time": "2022-04-21T17:02:33.431Z"
   },
   {
    "duration": 0,
    "start_time": "2022-04-21T17:02:33.433Z"
   },
   {
    "duration": 0,
    "start_time": "2022-04-21T17:02:33.434Z"
   },
   {
    "duration": 0,
    "start_time": "2022-04-21T17:02:33.435Z"
   },
   {
    "duration": 0,
    "start_time": "2022-04-21T17:02:33.437Z"
   },
   {
    "duration": 0,
    "start_time": "2022-04-21T17:02:33.439Z"
   },
   {
    "duration": 0,
    "start_time": "2022-04-21T17:02:33.440Z"
   },
   {
    "duration": 0,
    "start_time": "2022-04-21T17:02:33.441Z"
   },
   {
    "duration": 790,
    "start_time": "2022-04-21T17:03:38.414Z"
   },
   {
    "duration": 1965,
    "start_time": "2022-04-21T17:03:44.973Z"
   },
   {
    "duration": 803,
    "start_time": "2022-04-21T17:03:46.941Z"
   },
   {
    "duration": 29,
    "start_time": "2022-04-21T17:03:47.746Z"
   },
   {
    "duration": 21,
    "start_time": "2022-04-21T17:03:47.777Z"
   },
   {
    "duration": 4,
    "start_time": "2022-04-21T17:03:47.824Z"
   },
   {
    "duration": 9,
    "start_time": "2022-04-21T17:03:47.830Z"
   },
   {
    "duration": 20,
    "start_time": "2022-04-21T17:03:47.841Z"
   },
   {
    "duration": 326,
    "start_time": "2022-04-21T17:03:47.865Z"
   },
   {
    "duration": 350,
    "start_time": "2022-04-21T17:03:48.194Z"
   },
   {
    "duration": 8,
    "start_time": "2022-04-21T17:03:48.547Z"
   },
   {
    "duration": 12,
    "start_time": "2022-04-21T17:03:48.558Z"
   },
   {
    "duration": 151,
    "start_time": "2022-04-21T17:03:48.573Z"
   },
   {
    "duration": 11,
    "start_time": "2022-04-21T17:03:48.726Z"
   },
   {
    "duration": 19,
    "start_time": "2022-04-21T17:03:48.744Z"
   },
   {
    "duration": 6,
    "start_time": "2022-04-21T17:03:48.765Z"
   },
   {
    "duration": 16,
    "start_time": "2022-04-21T17:03:48.773Z"
   },
   {
    "duration": 40,
    "start_time": "2022-04-21T17:03:48.791Z"
   },
   {
    "duration": 15,
    "start_time": "2022-04-21T17:03:48.833Z"
   },
   {
    "duration": 7,
    "start_time": "2022-04-21T17:03:48.850Z"
   },
   {
    "duration": 395,
    "start_time": "2022-04-21T17:03:48.859Z"
   },
   {
    "duration": 462,
    "start_time": "2022-04-21T17:03:49.257Z"
   },
   {
    "duration": 424,
    "start_time": "2022-04-21T17:03:49.725Z"
   },
   {
    "duration": 217,
    "start_time": "2022-04-21T17:03:50.152Z"
   },
   {
    "duration": 234,
    "start_time": "2022-04-21T17:03:50.371Z"
   },
   {
    "duration": 252,
    "start_time": "2022-04-21T17:03:50.607Z"
   },
   {
    "duration": 270,
    "start_time": "2022-04-21T17:03:50.861Z"
   },
   {
    "duration": 15,
    "start_time": "2022-04-21T17:03:51.134Z"
   },
   {
    "duration": 330,
    "start_time": "2022-04-21T17:03:51.152Z"
   },
   {
    "duration": 24,
    "start_time": "2022-04-21T17:03:51.484Z"
   },
   {
    "duration": 142,
    "start_time": "2022-04-21T17:03:51.524Z"
   },
   {
    "duration": 249,
    "start_time": "2022-04-21T17:03:51.668Z"
   },
   {
    "duration": 6,
    "start_time": "2022-04-21T17:03:51.919Z"
   },
   {
    "duration": 45,
    "start_time": "2022-04-21T17:03:51.928Z"
   },
   {
    "duration": 51,
    "start_time": "2022-04-21T17:03:51.975Z"
   },
   {
    "duration": 4,
    "start_time": "2022-04-21T17:03:52.028Z"
   },
   {
    "duration": 5,
    "start_time": "2022-04-21T17:03:52.035Z"
   },
   {
    "duration": 7,
    "start_time": "2022-04-21T17:03:52.042Z"
   },
   {
    "duration": 11,
    "start_time": "2022-04-21T17:03:52.050Z"
   },
   {
    "duration": 62,
    "start_time": "2022-04-21T17:03:52.063Z"
   },
   {
    "duration": 5017,
    "start_time": "2022-04-21T17:03:52.128Z"
   },
   {
    "duration": 1880,
    "start_time": "2022-04-21T17:03:57.150Z"
   },
   {
    "duration": 305064,
    "start_time": "2022-04-21T17:03:59.033Z"
   },
   {
    "duration": 6,
    "start_time": "2022-04-21T17:09:04.100Z"
   },
   {
    "duration": 35,
    "start_time": "2022-04-21T17:09:04.108Z"
   },
   {
    "duration": 182,
    "start_time": "2022-04-21T17:09:04.145Z"
   },
   {
    "duration": 92,
    "start_time": "2022-04-21T17:09:04.335Z"
   },
   {
    "duration": 98,
    "start_time": "2022-04-21T17:09:04.429Z"
   },
   {
    "duration": 49,
    "start_time": "2022-04-21T17:09:04.529Z"
   },
   {
    "duration": 40,
    "start_time": "2022-04-21T17:09:04.581Z"
   },
   {
    "duration": 19,
    "start_time": "2022-04-21T17:09:04.623Z"
   },
   {
    "duration": 1542,
    "start_time": "2022-04-21T19:18:36.199Z"
   },
   {
    "duration": 637,
    "start_time": "2022-04-21T19:18:37.744Z"
   },
   {
    "duration": 18,
    "start_time": "2022-04-21T19:18:38.383Z"
   },
   {
    "duration": 14,
    "start_time": "2022-04-21T19:18:38.403Z"
   },
   {
    "duration": 3,
    "start_time": "2022-04-21T19:18:38.418Z"
   },
   {
    "duration": 6,
    "start_time": "2022-04-21T19:18:38.422Z"
   },
   {
    "duration": 3,
    "start_time": "2022-04-21T19:18:38.429Z"
   },
   {
    "duration": 207,
    "start_time": "2022-04-21T19:18:38.433Z"
   },
   {
    "duration": 178,
    "start_time": "2022-04-21T19:18:38.641Z"
   },
   {
    "duration": 4,
    "start_time": "2022-04-21T19:18:38.822Z"
   },
   {
    "duration": 5,
    "start_time": "2022-04-21T19:18:38.827Z"
   },
   {
    "duration": 109,
    "start_time": "2022-04-21T19:18:38.834Z"
   },
   {
    "duration": 7,
    "start_time": "2022-04-21T19:18:38.944Z"
   },
   {
    "duration": 16,
    "start_time": "2022-04-21T19:18:38.952Z"
   },
   {
    "duration": 3,
    "start_time": "2022-04-21T19:18:38.970Z"
   },
   {
    "duration": 9,
    "start_time": "2022-04-21T19:18:38.974Z"
   },
   {
    "duration": 23,
    "start_time": "2022-04-21T19:18:38.985Z"
   },
   {
    "duration": 6,
    "start_time": "2022-04-21T19:18:39.009Z"
   },
   {
    "duration": 6,
    "start_time": "2022-04-21T19:18:39.016Z"
   },
   {
    "duration": 244,
    "start_time": "2022-04-21T19:18:39.023Z"
   },
   {
    "duration": 246,
    "start_time": "2022-04-21T19:18:39.269Z"
   },
   {
    "duration": 260,
    "start_time": "2022-04-21T19:18:39.516Z"
   },
   {
    "duration": 133,
    "start_time": "2022-04-21T19:18:39.777Z"
   },
   {
    "duration": 138,
    "start_time": "2022-04-21T19:18:39.912Z"
   },
   {
    "duration": 150,
    "start_time": "2022-04-21T19:18:40.051Z"
   },
   {
    "duration": 162,
    "start_time": "2022-04-21T19:18:40.206Z"
   },
   {
    "duration": 12,
    "start_time": "2022-04-21T19:18:40.370Z"
   },
   {
    "duration": 195,
    "start_time": "2022-04-21T19:18:40.386Z"
   },
   {
    "duration": 24,
    "start_time": "2022-04-21T19:18:40.583Z"
   },
   {
    "duration": 112,
    "start_time": "2022-04-21T19:18:40.609Z"
   },
   {
    "duration": 147,
    "start_time": "2022-04-21T19:18:40.722Z"
   },
   {
    "duration": 4,
    "start_time": "2022-04-21T19:18:40.871Z"
   },
   {
    "duration": 40,
    "start_time": "2022-04-21T19:18:40.877Z"
   },
   {
    "duration": 13,
    "start_time": "2022-04-21T19:18:40.919Z"
   },
   {
    "duration": 3,
    "start_time": "2022-04-21T19:18:40.933Z"
   },
   {
    "duration": 11,
    "start_time": "2022-04-21T19:18:40.937Z"
   },
   {
    "duration": 4,
    "start_time": "2022-04-21T19:18:40.949Z"
   },
   {
    "duration": 6,
    "start_time": "2022-04-21T19:18:40.955Z"
   },
   {
    "duration": 16,
    "start_time": "2022-04-21T19:18:40.963Z"
   },
   {
    "duration": 3835,
    "start_time": "2022-04-21T19:18:40.981Z"
   },
   {
    "duration": 1092,
    "start_time": "2022-04-21T19:18:44.817Z"
   },
   {
    "duration": 230209,
    "start_time": "2022-04-21T19:18:45.911Z"
   },
   {
    "duration": 4,
    "start_time": "2022-04-21T19:22:36.122Z"
   },
   {
    "duration": 13,
    "start_time": "2022-04-21T19:22:36.128Z"
   },
   {
    "duration": 72,
    "start_time": "2022-04-21T19:22:36.143Z"
   },
   {
    "duration": 98,
    "start_time": "2022-04-21T19:22:36.217Z"
   },
   {
    "duration": 4,
    "start_time": "2022-04-21T19:22:36.408Z"
   },
   {
    "duration": 5,
    "start_time": "2022-04-21T19:22:36.414Z"
   },
   {
    "duration": 7,
    "start_time": "2022-04-21T19:22:36.421Z"
   },
   {
    "duration": 14,
    "start_time": "2022-04-21T19:22:36.430Z"
   },
   {
    "duration": 1641,
    "start_time": "2022-04-23T15:16:51.496Z"
   },
   {
    "duration": 618,
    "start_time": "2022-04-23T15:16:53.138Z"
   },
   {
    "duration": 18,
    "start_time": "2022-04-23T15:16:53.757Z"
   },
   {
    "duration": 16,
    "start_time": "2022-04-23T15:16:55.741Z"
   },
   {
    "duration": 14,
    "start_time": "2022-04-23T15:16:56.116Z"
   },
   {
    "duration": 13,
    "start_time": "2022-04-23T15:16:57.167Z"
   },
   {
    "duration": 3,
    "start_time": "2022-04-23T15:16:57.356Z"
   },
   {
    "duration": 4,
    "start_time": "2022-04-23T15:16:57.798Z"
   },
   {
    "duration": 3,
    "start_time": "2022-04-23T15:16:58.207Z"
   },
   {
    "duration": 169,
    "start_time": "2022-04-23T15:16:58.536Z"
   },
   {
    "duration": 165,
    "start_time": "2022-04-23T15:16:59.651Z"
   },
   {
    "duration": 4,
    "start_time": "2022-04-23T15:17:00.269Z"
   },
   {
    "duration": 3,
    "start_time": "2022-04-23T15:17:01.073Z"
   },
   {
    "duration": 100,
    "start_time": "2022-04-23T15:17:01.419Z"
   },
   {
    "duration": 8,
    "start_time": "2022-04-23T15:17:01.834Z"
   },
   {
    "duration": 14,
    "start_time": "2022-04-23T15:17:02.054Z"
   },
   {
    "duration": 4,
    "start_time": "2022-04-23T15:17:02.181Z"
   },
   {
    "duration": 4,
    "start_time": "2022-04-23T15:17:03.402Z"
   },
   {
    "duration": 4,
    "start_time": "2022-04-23T15:17:03.662Z"
   },
   {
    "duration": 3,
    "start_time": "2022-04-23T15:17:03.927Z"
   },
   {
    "duration": 4,
    "start_time": "2022-04-23T15:17:04.342Z"
   },
   {
    "duration": 208,
    "start_time": "2022-04-23T15:17:04.532Z"
   },
   {
    "duration": 219,
    "start_time": "2022-04-23T15:17:11.354Z"
   },
   {
    "duration": 242,
    "start_time": "2022-04-23T15:17:11.575Z"
   },
   {
    "duration": 129,
    "start_time": "2022-04-23T15:17:44.526Z"
   },
   {
    "duration": 151,
    "start_time": "2022-04-23T15:18:13.441Z"
   },
   {
    "duration": 149,
    "start_time": "2022-04-23T15:18:29.365Z"
   },
   {
    "duration": 180,
    "start_time": "2022-04-23T15:18:36.215Z"
   },
   {
    "duration": 193,
    "start_time": "2022-04-23T15:18:45.853Z"
   },
   {
    "duration": 291,
    "start_time": "2022-04-23T15:20:50.454Z"
   },
   {
    "duration": 1576,
    "start_time": "2022-04-23T15:25:25.688Z"
   },
   {
    "duration": 669,
    "start_time": "2022-04-23T15:25:27.267Z"
   },
   {
    "duration": 18,
    "start_time": "2022-04-23T15:25:27.938Z"
   },
   {
    "duration": 28,
    "start_time": "2022-04-23T15:25:27.957Z"
   },
   {
    "duration": 20,
    "start_time": "2022-04-23T15:25:27.988Z"
   },
   {
    "duration": 22,
    "start_time": "2022-04-23T15:25:28.009Z"
   },
   {
    "duration": 13,
    "start_time": "2022-04-23T15:25:28.032Z"
   },
   {
    "duration": 22,
    "start_time": "2022-04-23T15:25:28.047Z"
   },
   {
    "duration": 17,
    "start_time": "2022-04-23T15:25:28.071Z"
   },
   {
    "duration": 206,
    "start_time": "2022-04-23T15:25:28.090Z"
   },
   {
    "duration": 171,
    "start_time": "2022-04-23T15:25:28.298Z"
   },
   {
    "duration": 4,
    "start_time": "2022-04-23T15:25:28.471Z"
   },
   {
    "duration": 22,
    "start_time": "2022-04-23T15:25:28.476Z"
   },
   {
    "duration": 114,
    "start_time": "2022-04-23T15:25:28.502Z"
   },
   {
    "duration": 40,
    "start_time": "2022-04-23T15:25:28.617Z"
   },
   {
    "duration": 33,
    "start_time": "2022-04-23T15:25:28.659Z"
   },
   {
    "duration": 20,
    "start_time": "2022-04-23T15:25:28.694Z"
   },
   {
    "duration": 28,
    "start_time": "2022-04-23T15:25:28.715Z"
   },
   {
    "duration": 23,
    "start_time": "2022-04-23T15:25:28.745Z"
   },
   {
    "duration": 21,
    "start_time": "2022-04-23T15:25:28.770Z"
   },
   {
    "duration": 29,
    "start_time": "2022-04-23T15:25:28.792Z"
   },
   {
    "duration": 221,
    "start_time": "2022-04-23T15:25:28.823Z"
   },
   {
    "duration": 217,
    "start_time": "2022-04-23T15:25:29.046Z"
   },
   {
    "duration": 235,
    "start_time": "2022-04-23T15:25:29.264Z"
   },
   {
    "duration": 191,
    "start_time": "2022-04-23T15:25:29.501Z"
   },
   {
    "duration": 126,
    "start_time": "2022-04-23T15:25:29.694Z"
   },
   {
    "duration": 143,
    "start_time": "2022-04-23T15:25:29.821Z"
   },
   {
    "duration": 149,
    "start_time": "2022-04-23T15:25:29.965Z"
   },
   {
    "duration": 12,
    "start_time": "2022-04-23T15:25:30.115Z"
   },
   {
    "duration": 184,
    "start_time": "2022-04-23T15:25:30.129Z"
   },
   {
    "duration": 16,
    "start_time": "2022-04-23T15:25:30.314Z"
   },
   {
    "duration": 130,
    "start_time": "2022-04-23T15:25:30.332Z"
   },
   {
    "duration": 138,
    "start_time": "2022-04-23T15:25:30.464Z"
   },
   {
    "duration": 5,
    "start_time": "2022-04-23T15:25:30.604Z"
   },
   {
    "duration": 35,
    "start_time": "2022-04-23T15:25:30.610Z"
   },
   {
    "duration": 16,
    "start_time": "2022-04-23T15:25:30.647Z"
   },
   {
    "duration": 3,
    "start_time": "2022-04-23T15:25:30.665Z"
   },
   {
    "duration": 5,
    "start_time": "2022-04-23T15:25:30.670Z"
   },
   {
    "duration": 12,
    "start_time": "2022-04-23T15:25:30.676Z"
   },
   {
    "duration": 24,
    "start_time": "2022-04-23T15:25:30.689Z"
   },
   {
    "duration": 21,
    "start_time": "2022-04-23T15:25:30.717Z"
   },
   {
    "duration": 7,
    "start_time": "2022-04-23T15:25:30.740Z"
   },
   {
    "duration": 7334,
    "start_time": "2022-04-23T15:25:30.748Z"
   },
   {
    "duration": 2379,
    "start_time": "2022-04-23T15:25:38.084Z"
   },
   {
    "duration": 308500,
    "start_time": "2022-04-23T15:25:40.555Z"
   },
   {
    "duration": 39312,
    "start_time": "2022-04-23T15:30:49.057Z"
   },
   {
    "duration": 0,
    "start_time": "2022-04-23T15:31:28.371Z"
   },
   {
    "duration": 0,
    "start_time": "2022-04-23T15:31:28.372Z"
   },
   {
    "duration": 0,
    "start_time": "2022-04-23T15:31:28.373Z"
   },
   {
    "duration": 0,
    "start_time": "2022-04-23T15:31:28.374Z"
   },
   {
    "duration": 0,
    "start_time": "2022-04-23T15:31:28.375Z"
   },
   {
    "duration": 0,
    "start_time": "2022-04-23T15:31:28.376Z"
   },
   {
    "duration": 0,
    "start_time": "2022-04-23T15:31:28.377Z"
   },
   {
    "duration": 0,
    "start_time": "2022-04-23T15:31:28.378Z"
   },
   {
    "duration": 0,
    "start_time": "2022-04-23T15:31:28.379Z"
   },
   {
    "duration": 0,
    "start_time": "2022-04-23T15:31:28.382Z"
   },
   {
    "duration": 43847,
    "start_time": "2022-04-23T15:31:35.325Z"
   },
   {
    "duration": 15251,
    "start_time": "2022-04-23T15:33:01.315Z"
   },
   {
    "duration": 10,
    "start_time": "2022-04-23T15:40:50.947Z"
   },
   {
    "duration": 3,
    "start_time": "2022-04-23T15:41:36.502Z"
   },
   {
    "duration": 15035,
    "start_time": "2022-04-23T15:41:56.112Z"
   },
   {
    "duration": 2054,
    "start_time": "2022-04-23T18:53:13.604Z"
   },
   {
    "duration": 969,
    "start_time": "2022-04-23T18:53:15.661Z"
   },
   {
    "duration": 26,
    "start_time": "2022-04-23T18:53:16.632Z"
   },
   {
    "duration": 17,
    "start_time": "2022-04-23T18:53:16.660Z"
   },
   {
    "duration": 14,
    "start_time": "2022-04-23T18:53:16.679Z"
   },
   {
    "duration": 45,
    "start_time": "2022-04-23T18:53:16.695Z"
   },
   {
    "duration": 6,
    "start_time": "2022-04-23T18:53:16.743Z"
   },
   {
    "duration": 8,
    "start_time": "2022-04-23T18:53:16.751Z"
   },
   {
    "duration": 3,
    "start_time": "2022-04-23T18:53:16.761Z"
   },
   {
    "duration": 227,
    "start_time": "2022-04-23T18:53:16.766Z"
   },
   {
    "duration": 201,
    "start_time": "2022-04-23T18:53:16.995Z"
   },
   {
    "duration": 5,
    "start_time": "2022-04-23T18:53:17.198Z"
   },
   {
    "duration": 5,
    "start_time": "2022-04-23T18:53:17.204Z"
   },
   {
    "duration": 43,
    "start_time": "2022-04-23T18:53:17.212Z"
   },
   {
    "duration": 9,
    "start_time": "2022-04-23T18:53:17.256Z"
   },
   {
    "duration": 20,
    "start_time": "2022-04-23T18:53:17.267Z"
   },
   {
    "duration": 4,
    "start_time": "2022-04-23T18:53:17.289Z"
   },
   {
    "duration": 13,
    "start_time": "2022-04-23T18:53:17.326Z"
   },
   {
    "duration": 8,
    "start_time": "2022-04-23T18:53:17.341Z"
   },
   {
    "duration": 5,
    "start_time": "2022-04-23T18:53:17.354Z"
   },
   {
    "duration": 4,
    "start_time": "2022-04-23T18:53:17.361Z"
   },
   {
    "duration": 328,
    "start_time": "2022-04-23T18:53:17.366Z"
   },
   {
    "duration": 262,
    "start_time": "2022-04-23T18:53:17.695Z"
   },
   {
    "duration": 281,
    "start_time": "2022-04-23T18:53:17.959Z"
   },
   {
    "duration": 227,
    "start_time": "2022-04-23T18:53:18.242Z"
   },
   {
    "duration": 161,
    "start_time": "2022-04-23T18:53:18.471Z"
   },
   {
    "duration": 161,
    "start_time": "2022-04-23T18:53:18.635Z"
   },
   {
    "duration": 186,
    "start_time": "2022-04-23T18:53:18.798Z"
   },
   {
    "duration": 14,
    "start_time": "2022-04-23T18:53:18.987Z"
   },
   {
    "duration": 212,
    "start_time": "2022-04-23T18:53:19.003Z"
   },
   {
    "duration": 29,
    "start_time": "2022-04-23T18:53:19.216Z"
   },
   {
    "duration": 25,
    "start_time": "2022-04-23T18:53:19.252Z"
   },
   {
    "duration": 179,
    "start_time": "2022-04-23T18:53:19.278Z"
   },
   {
    "duration": 5,
    "start_time": "2022-04-23T18:53:19.459Z"
   },
   {
    "duration": 165,
    "start_time": "2022-04-23T18:53:19.466Z"
   },
   {
    "duration": 16,
    "start_time": "2022-04-23T18:53:19.633Z"
   },
   {
    "duration": 4,
    "start_time": "2022-04-23T18:53:19.651Z"
   },
   {
    "duration": 8,
    "start_time": "2022-04-23T18:53:19.657Z"
   },
   {
    "duration": 5,
    "start_time": "2022-04-23T18:53:19.667Z"
   },
   {
    "duration": 7,
    "start_time": "2022-04-23T18:53:19.674Z"
   },
   {
    "duration": 54,
    "start_time": "2022-04-23T18:53:19.685Z"
   },
   {
    "duration": 6,
    "start_time": "2022-04-23T18:53:19.742Z"
   },
   {
    "duration": 8551,
    "start_time": "2022-04-23T18:53:19.751Z"
   },
   {
    "duration": 8038,
    "start_time": "2022-04-23T18:53:28.304Z"
   },
   {
    "duration": 59161,
    "start_time": "2022-04-23T18:53:36.349Z"
   },
   {
    "duration": 16391,
    "start_time": "2022-04-23T18:54:35.512Z"
   },
   {
    "duration": 3,
    "start_time": "2022-04-23T18:54:51.904Z"
   },
   {
    "duration": 18,
    "start_time": "2022-04-23T18:54:51.909Z"
   },
   {
    "duration": 15,
    "start_time": "2022-04-23T18:54:51.928Z"
   },
   {
    "duration": 682,
    "start_time": "2022-04-23T18:54:51.945Z"
   },
   {
    "duration": 91,
    "start_time": "2022-04-23T18:54:52.631Z"
   },
   {
    "duration": 7,
    "start_time": "2022-04-23T18:54:52.733Z"
   },
   {
    "duration": 19,
    "start_time": "2022-04-23T18:54:52.742Z"
   },
   {
    "duration": 8,
    "start_time": "2022-04-23T18:54:52.763Z"
   },
   {
    "duration": 5,
    "start_time": "2022-04-23T18:54:52.773Z"
   },
   {
    "duration": 313,
    "start_time": "2022-04-23T18:56:45.620Z"
   },
   {
    "duration": 185,
    "start_time": "2022-04-23T18:57:01.642Z"
   },
   {
    "duration": 17895,
    "start_time": "2022-04-23T18:57:06.052Z"
   },
   {
    "duration": 17277,
    "start_time": "2022-04-23T18:59:56.902Z"
   },
   {
    "duration": 18371,
    "start_time": "2022-04-23T19:00:19.925Z"
   },
   {
    "duration": 18452,
    "start_time": "2022-04-23T19:01:10.168Z"
   },
   {
    "duration": 18958,
    "start_time": "2022-04-23T19:01:56.410Z"
   },
   {
    "duration": 19698,
    "start_time": "2022-04-23T19:02:35.032Z"
   },
   {
    "duration": 18307,
    "start_time": "2022-04-23T19:03:39.742Z"
   },
   {
    "duration": 2209,
    "start_time": "2022-04-24T07:35:46.298Z"
   },
   {
    "duration": 665,
    "start_time": "2022-04-24T07:35:48.509Z"
   },
   {
    "duration": 20,
    "start_time": "2022-04-24T07:35:49.175Z"
   },
   {
    "duration": 17,
    "start_time": "2022-04-24T07:35:49.197Z"
   },
   {
    "duration": 32,
    "start_time": "2022-04-24T07:35:49.216Z"
   },
   {
    "duration": 13,
    "start_time": "2022-04-24T07:35:49.249Z"
   },
   {
    "duration": 4,
    "start_time": "2022-04-24T07:35:49.264Z"
   },
   {
    "duration": 8,
    "start_time": "2022-04-24T07:35:49.270Z"
   },
   {
    "duration": 5,
    "start_time": "2022-04-24T07:35:49.280Z"
   },
   {
    "duration": 243,
    "start_time": "2022-04-24T07:35:49.288Z"
   },
   {
    "duration": 204,
    "start_time": "2022-04-24T07:35:49.534Z"
   },
   {
    "duration": 5,
    "start_time": "2022-04-24T07:35:49.739Z"
   },
   {
    "duration": 12,
    "start_time": "2022-04-24T07:35:49.745Z"
   },
   {
    "duration": 110,
    "start_time": "2022-04-24T07:35:49.759Z"
   },
   {
    "duration": 8,
    "start_time": "2022-04-24T07:35:49.871Z"
   },
   {
    "duration": 16,
    "start_time": "2022-04-24T07:35:49.881Z"
   },
   {
    "duration": 3,
    "start_time": "2022-04-24T07:35:49.899Z"
   },
   {
    "duration": 12,
    "start_time": "2022-04-24T07:35:49.904Z"
   },
   {
    "duration": 18,
    "start_time": "2022-04-24T07:35:49.918Z"
   },
   {
    "duration": 6,
    "start_time": "2022-04-24T07:35:49.938Z"
   },
   {
    "duration": 6,
    "start_time": "2022-04-24T07:35:49.946Z"
   },
   {
    "duration": 276,
    "start_time": "2022-04-24T07:35:49.954Z"
   },
   {
    "duration": 280,
    "start_time": "2022-04-24T07:35:50.234Z"
   },
   {
    "duration": 272,
    "start_time": "2022-04-24T07:35:50.516Z"
   },
   {
    "duration": 246,
    "start_time": "2022-04-24T07:35:50.790Z"
   },
   {
    "duration": 157,
    "start_time": "2022-04-24T07:35:51.038Z"
   },
   {
    "duration": 168,
    "start_time": "2022-04-24T07:35:51.197Z"
   },
   {
    "duration": 180,
    "start_time": "2022-04-24T07:35:51.369Z"
   },
   {
    "duration": 13,
    "start_time": "2022-04-24T07:35:51.551Z"
   },
   {
    "duration": 211,
    "start_time": "2022-04-24T07:35:51.566Z"
   },
   {
    "duration": 19,
    "start_time": "2022-04-24T07:35:51.779Z"
   },
   {
    "duration": 126,
    "start_time": "2022-04-24T07:35:51.799Z"
   },
   {
    "duration": 163,
    "start_time": "2022-04-24T07:35:51.927Z"
   },
   {
    "duration": 5,
    "start_time": "2022-04-24T07:35:52.091Z"
   },
   {
    "duration": 44,
    "start_time": "2022-04-24T07:35:52.097Z"
   },
   {
    "duration": 14,
    "start_time": "2022-04-24T07:35:52.143Z"
   },
   {
    "duration": 3,
    "start_time": "2022-04-24T07:35:52.159Z"
   },
   {
    "duration": 6,
    "start_time": "2022-04-24T07:35:52.164Z"
   },
   {
    "duration": 7,
    "start_time": "2022-04-24T07:35:52.172Z"
   },
   {
    "duration": 10,
    "start_time": "2022-04-24T07:35:52.180Z"
   },
   {
    "duration": 19,
    "start_time": "2022-04-24T07:35:52.192Z"
   },
   {
    "duration": 21,
    "start_time": "2022-04-24T07:35:52.213Z"
   },
   {
    "duration": 8161,
    "start_time": "2022-04-24T07:35:52.236Z"
   },
   {
    "duration": 2036,
    "start_time": "2022-04-24T07:36:00.399Z"
   },
   {
    "duration": 47428,
    "start_time": "2022-04-24T07:36:02.437Z"
   },
   {
    "duration": 17550,
    "start_time": "2022-04-24T07:36:49.867Z"
   },
   {
    "duration": 17746,
    "start_time": "2022-04-24T07:37:07.418Z"
   },
   {
    "duration": 3,
    "start_time": "2022-04-24T07:37:25.165Z"
   },
   {
    "duration": 11,
    "start_time": "2022-04-24T07:37:25.170Z"
   },
   {
    "duration": 21,
    "start_time": "2022-04-24T07:37:25.183Z"
   },
   {
    "duration": 530,
    "start_time": "2022-04-24T07:37:25.206Z"
   },
   {
    "duration": 8,
    "start_time": "2022-04-24T07:37:25.738Z"
   },
   {
    "duration": 95,
    "start_time": "2022-04-24T07:37:25.748Z"
   },
   {
    "duration": 9,
    "start_time": "2022-04-24T07:37:25.844Z"
   },
   {
    "duration": 14,
    "start_time": "2022-04-24T07:37:25.855Z"
   },
   {
    "duration": 11,
    "start_time": "2022-04-24T07:37:25.871Z"
   },
   {
    "duration": 1796,
    "start_time": "2022-05-14T12:21:29.953Z"
   },
   {
    "duration": 686,
    "start_time": "2022-05-14T12:21:31.752Z"
   },
   {
    "duration": 21,
    "start_time": "2022-05-14T12:21:32.440Z"
   },
   {
    "duration": 18,
    "start_time": "2022-05-14T12:21:32.462Z"
   },
   {
    "duration": 14,
    "start_time": "2022-05-14T12:21:32.483Z"
   },
   {
    "duration": 39,
    "start_time": "2022-05-14T12:21:32.498Z"
   },
   {
    "duration": 3,
    "start_time": "2022-05-14T12:21:32.539Z"
   },
   {
    "duration": 15,
    "start_time": "2022-05-14T12:21:32.544Z"
   },
   {
    "duration": 9,
    "start_time": "2022-05-14T12:21:32.561Z"
   },
   {
    "duration": 228,
    "start_time": "2022-05-14T12:21:32.572Z"
   },
   {
    "duration": 219,
    "start_time": "2022-05-14T12:21:32.802Z"
   },
   {
    "duration": 10,
    "start_time": "2022-05-14T12:21:33.023Z"
   },
   {
    "duration": 4,
    "start_time": "2022-05-14T12:21:33.035Z"
   },
   {
    "duration": 111,
    "start_time": "2022-05-14T12:21:33.043Z"
   },
   {
    "duration": 9,
    "start_time": "2022-05-14T12:21:33.156Z"
   },
   {
    "duration": 16,
    "start_time": "2022-05-14T12:21:33.167Z"
   },
   {
    "duration": 4,
    "start_time": "2022-05-14T12:21:33.185Z"
   },
   {
    "duration": 11,
    "start_time": "2022-05-14T12:21:33.190Z"
   },
   {
    "duration": 8,
    "start_time": "2022-05-14T12:21:33.203Z"
   },
   {
    "duration": 20,
    "start_time": "2022-05-14T12:21:33.213Z"
   },
   {
    "duration": 4,
    "start_time": "2022-05-14T12:21:33.235Z"
   },
   {
    "duration": 271,
    "start_time": "2022-05-14T12:21:33.241Z"
   },
   {
    "duration": 279,
    "start_time": "2022-05-14T12:21:33.514Z"
   },
   {
    "duration": 289,
    "start_time": "2022-05-14T12:21:33.795Z"
   },
   {
    "duration": 247,
    "start_time": "2022-05-14T12:21:34.086Z"
   },
   {
    "duration": 249,
    "start_time": "2022-05-14T12:21:34.335Z"
   },
   {
    "duration": 159,
    "start_time": "2022-05-14T12:21:34.586Z"
   },
   {
    "duration": 179,
    "start_time": "2022-05-14T12:21:34.747Z"
   },
   {
    "duration": 182,
    "start_time": "2022-05-14T12:21:34.928Z"
   },
   {
    "duration": 27,
    "start_time": "2022-05-14T12:21:35.112Z"
   },
   {
    "duration": 320,
    "start_time": "2022-05-14T12:21:35.141Z"
   },
   {
    "duration": 19,
    "start_time": "2022-05-14T12:21:35.463Z"
   },
   {
    "duration": 21,
    "start_time": "2022-05-14T12:21:35.483Z"
   },
   {
    "duration": 183,
    "start_time": "2022-05-14T12:21:35.506Z"
   },
   {
    "duration": 5,
    "start_time": "2022-05-14T12:21:35.691Z"
   },
   {
    "duration": 47,
    "start_time": "2022-05-14T12:21:35.697Z"
   },
   {
    "duration": 13,
    "start_time": "2022-05-14T12:21:35.746Z"
   },
   {
    "duration": 5,
    "start_time": "2022-05-14T12:21:35.761Z"
   },
   {
    "duration": 7,
    "start_time": "2022-05-14T12:21:35.768Z"
   },
   {
    "duration": 9,
    "start_time": "2022-05-14T12:21:35.777Z"
   },
   {
    "duration": 8,
    "start_time": "2022-05-14T12:21:35.791Z"
   },
   {
    "duration": 34,
    "start_time": "2022-05-14T12:21:35.801Z"
   },
   {
    "duration": 3,
    "start_time": "2022-05-14T12:21:35.837Z"
   },
   {
    "duration": 8278,
    "start_time": "2022-05-14T12:21:35.842Z"
   },
   {
    "duration": 2516,
    "start_time": "2022-05-14T12:21:44.122Z"
   },
   {
    "duration": 48718,
    "start_time": "2022-05-14T12:21:46.640Z"
   },
   {
    "duration": 17784,
    "start_time": "2022-05-14T12:22:35.359Z"
   },
   {
    "duration": 18423,
    "start_time": "2022-05-14T12:22:53.145Z"
   },
   {
    "duration": 3,
    "start_time": "2022-05-14T12:23:11.570Z"
   },
   {
    "duration": 13,
    "start_time": "2022-05-14T12:23:11.575Z"
   },
   {
    "duration": 21,
    "start_time": "2022-05-14T12:23:11.590Z"
   },
   {
    "duration": 422,
    "start_time": "2022-05-14T12:23:11.613Z"
   },
   {
    "duration": 98,
    "start_time": "2022-05-14T12:23:12.037Z"
   },
   {
    "duration": 4,
    "start_time": "2022-05-14T12:23:12.137Z"
   },
   {
    "duration": 24,
    "start_time": "2022-05-14T12:23:12.143Z"
   },
   {
    "duration": 8,
    "start_time": "2022-05-14T12:23:12.169Z"
   },
   {
    "duration": 5,
    "start_time": "2022-05-14T12:23:12.179Z"
   },
   {
    "duration": 242,
    "start_time": "2022-05-14T12:23:12.234Z"
   },
   {
    "duration": 17707,
    "start_time": "2022-05-14T12:32:35.888Z"
   },
   {
    "duration": 18121,
    "start_time": "2022-05-14T12:32:58.798Z"
   }
  ],
  "colab": {
   "collapsed_sections": [],
   "name": "notebook (4).ipynb",
   "provenance": []
  },
  "kernelspec": {
   "display_name": "Python 3 (ipykernel)",
   "language": "python",
   "name": "python3"
  },
  "language_info": {
   "codemirror_mode": {
    "name": "ipython",
    "version": 3
   },
   "file_extension": ".py",
   "mimetype": "text/x-python",
   "name": "python",
   "nbconvert_exporter": "python",
   "pygments_lexer": "ipython3",
   "version": "3.9.5"
  },
  "toc": {
   "base_numbering": 1,
   "nav_menu": {},
   "number_sections": true,
   "sideBar": true,
   "skip_h1_title": true,
   "title_cell": "Содержание",
   "title_sidebar": "Contents",
   "toc_cell": true,
   "toc_position": {},
   "toc_section_display": true,
   "toc_window_display": true
  }
 },
 "nbformat": 4,
 "nbformat_minor": 1
}
